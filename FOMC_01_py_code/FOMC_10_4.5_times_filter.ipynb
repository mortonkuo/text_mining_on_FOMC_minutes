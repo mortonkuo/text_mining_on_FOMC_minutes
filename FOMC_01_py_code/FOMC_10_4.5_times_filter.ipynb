{
  "nbformat": 4,
  "nbformat_minor": 0,
  "metadata": {
    "colab": {
      "name": "FOMC_10_4.5_times_filter.ipynb",
      "provenance": [],
      "collapsed_sections": [
        "I3iNb1lEHT30",
        "YcZEu7TDvow2",
        "X1RfmJl1QLka",
        "pfXUaxqVxDec",
        "qtwIxRWTxWET",
        "AeyIiejHxc2E",
        "AcjvuQJ3wJe0",
        "-CkEgE7FvMxN",
        "XPen2SM4wOck",
        "44NnbRfWwREa",
        "y0IUuBMjwZmW",
        "NikSDiHJwehN",
        "nPxX7JjIwhcg",
        "91hPjekhbWzd",
        "z-oQeGrdYwxB"
      ]
    },
    "kernelspec": {
      "display_name": "Python 3",
      "name": "python3"
    }
  },
  "cells": [
    {
      "cell_type": "markdown",
      "metadata": {
        "id": "uP3zDZhjvUJN"
      },
      "source": [
        "# (1) Preparation"
      ]
    },
    {
      "cell_type": "markdown",
      "metadata": {
        "id": "QGWXhpVfF7N6"
      },
      "source": [
        "## 1-1 **Connecting Google Colab to Google Drive**"
      ]
    },
    {
      "cell_type": "code",
      "metadata": {
        "colab": {
          "base_uri": "https://localhost:8080/"
        },
        "id": "unF1kNljF25l",
        "outputId": "42d0787e-6bcd-4a64-f4d3-c7305bcb91c3"
      },
      "source": [
        "from google.colab import drive\n",
        "drive.mount('/content/drive')"
      ],
      "execution_count": 1,
      "outputs": [
        {
          "output_type": "stream",
          "text": [
            "Mounted at /content/drive\n"
          ],
          "name": "stdout"
        }
      ]
    },
    {
      "cell_type": "code",
      "metadata": {
        "colab": {
          "base_uri": "https://localhost:8080/",
          "height": 35
        },
        "id": "t6-hx56mGBK8",
        "outputId": "94a30878-39eb-4078-a80f-830c5a682252"
      },
      "source": [
        "%pwd"
      ],
      "execution_count": 2,
      "outputs": [
        {
          "output_type": "execute_result",
          "data": {
            "application/vnd.google.colaboratory.intrinsic+json": {
              "type": "string"
            },
            "text/plain": [
              "'/content'"
            ]
          },
          "metadata": {
            "tags": []
          },
          "execution_count": 2
        }
      ]
    },
    {
      "cell_type": "code",
      "metadata": {
        "colab": {
          "base_uri": "https://localhost:8080/",
          "height": 51
        },
        "id": "MQ3KCLD2GBPo",
        "outputId": "8a4b5d7b-47a2-4d19-e80a-06f58fc3640c"
      },
      "source": [
        "%cd '/content/drive'\n",
        "%pwd"
      ],
      "execution_count": 3,
      "outputs": [
        {
          "output_type": "stream",
          "text": [
            "/content/drive\n"
          ],
          "name": "stdout"
        },
        {
          "output_type": "execute_result",
          "data": {
            "application/vnd.google.colaboratory.intrinsic+json": {
              "type": "string"
            },
            "text/plain": [
              "'/content/drive'"
            ]
          },
          "metadata": {
            "tags": []
          },
          "execution_count": 3
        }
      ]
    },
    {
      "cell_type": "code",
      "metadata": {
        "colab": {
          "base_uri": "https://localhost:8080/"
        },
        "id": "-hOniAvKGBT2",
        "outputId": "e55b368d-8003-4a6d-df09-6eb706d52cec"
      },
      "source": [
        "%ls"
      ],
      "execution_count": 4,
      "outputs": [
        {
          "output_type": "stream",
          "text": [
            "\u001b[0m\u001b[01;34mMyDrive\u001b[0m/\n"
          ],
          "name": "stdout"
        }
      ]
    },
    {
      "cell_type": "code",
      "metadata": {
        "colab": {
          "base_uri": "https://localhost:8080/"
        },
        "id": "IoTJWE84GBXY",
        "outputId": "2af7fef4-6046-4dba-d886-78a4cbb076d4"
      },
      "source": [
        "%cd 'MyDrive/'"
      ],
      "execution_count": 5,
      "outputs": [
        {
          "output_type": "stream",
          "text": [
            "/content/drive/MyDrive\n"
          ],
          "name": "stdout"
        }
      ]
    },
    {
      "cell_type": "code",
      "metadata": {
        "colab": {
          "base_uri": "https://localhost:8080/",
          "height": 35
        },
        "id": "F60mgqC9GBaX",
        "outputId": "98635b18-b009-4151-e324-060bcb3be6b6"
      },
      "source": [
        "%pwd"
      ],
      "execution_count": 6,
      "outputs": [
        {
          "output_type": "execute_result",
          "data": {
            "application/vnd.google.colaboratory.intrinsic+json": {
              "type": "string"
            },
            "text/plain": [
              "'/content/drive/MyDrive'"
            ]
          },
          "metadata": {
            "tags": []
          },
          "execution_count": 6
        }
      ]
    },
    {
      "cell_type": "code",
      "metadata": {
        "colab": {
          "base_uri": "https://localhost:8080/"
        },
        "id": "-O7px7YTGBdZ",
        "outputId": "e974500c-cfb1-44e7-c32e-1692fbb0e6a1"
      },
      "source": [
        "%cd 'Colab_Data'"
      ],
      "execution_count": 7,
      "outputs": [
        {
          "output_type": "stream",
          "text": [
            "/content/drive/MyDrive/Colab_Data\n"
          ],
          "name": "stdout"
        }
      ]
    },
    {
      "cell_type": "code",
      "metadata": {
        "colab": {
          "base_uri": "https://localhost:8080/",
          "height": 35
        },
        "id": "JKXjZ3p9GBgz",
        "outputId": "ae319311-1992-4c2a-e257-008c7ee34722"
      },
      "source": [
        "%pwd"
      ],
      "execution_count": 9,
      "outputs": [
        {
          "output_type": "execute_result",
          "data": {
            "application/vnd.google.colaboratory.intrinsic+json": {
              "type": "string"
            },
            "text/plain": [
              "'/content/drive/MyDrive/Colab_Data'"
            ]
          },
          "metadata": {
            "tags": []
          },
          "execution_count": 9
        }
      ]
    },
    {
      "cell_type": "markdown",
      "metadata": {
        "id": "I3iNb1lEHT30"
      },
      "source": [
        "## 1-2 **Loading Data**"
      ]
    },
    {
      "cell_type": "code",
      "metadata": {
        "colab": {
          "base_uri": "https://localhost:8080/",
          "height": 0
        },
        "id": "QaXXKsaHHiRN",
        "outputId": "3437c864-20f7-4bc6-c1e2-023d4e13ae19"
      },
      "source": [
        "'''\n",
        "import tensorflow as tf\n",
        "tf.test.gpu_device_name()\n",
        "# /device:GPU:0 means success\n",
        "'''"
      ],
      "execution_count": 10,
      "outputs": [
        {
          "output_type": "execute_result",
          "data": {
            "application/vnd.google.colaboratory.intrinsic+json": {
              "type": "string"
            },
            "text/plain": [
              "'\\nimport tensorflow as tf\\ntf.test.gpu_device_name()\\n# /device:GPU:0 means success\\n'"
            ]
          },
          "metadata": {
            "tags": []
          },
          "execution_count": 10
        }
      ]
    },
    {
      "cell_type": "code",
      "metadata": {
        "colab": {
          "base_uri": "https://localhost:8080/",
          "height": 0
        },
        "id": "SHSDj4i0KHL9",
        "outputId": "afaaa5e3-b8c6-4872-bce5-5f9f4f680c47"
      },
      "source": [
        "%pwd"
      ],
      "execution_count": 11,
      "outputs": [
        {
          "output_type": "execute_result",
          "data": {
            "application/vnd.google.colaboratory.intrinsic+json": {
              "type": "string"
            },
            "text/plain": [
              "'/content/drive/MyDrive/Colab_Data'"
            ]
          },
          "metadata": {
            "tags": []
          },
          "execution_count": 11
        }
      ]
    },
    {
      "cell_type": "code",
      "metadata": {
        "colab": {
          "base_uri": "https://localhost:8080/",
          "height": 0
        },
        "id": "o9UJPbMUKEH8",
        "outputId": "20cab136-beec-4d5d-fb86-c51c21b2c2a5"
      },
      "source": [
        "import os\n",
        "os.chdir(r'FOMC_04_pickle_data')\n",
        "os.getcwd()"
      ],
      "execution_count": 12,
      "outputs": [
        {
          "output_type": "execute_result",
          "data": {
            "application/vnd.google.colaboratory.intrinsic+json": {
              "type": "string"
            },
            "text/plain": [
              "'/content/drive/MyDrive/Colab_Data/FOMC_04_pickle_data'"
            ]
          },
          "metadata": {
            "tags": []
          },
          "execution_count": 12
        }
      ]
    },
    {
      "cell_type": "code",
      "metadata": {
        "colab": {
          "base_uri": "https://localhost:8080/",
          "height": 0
        },
        "id": "NYhciwJKLIEG",
        "outputId": "f7c5ec35-7080-4c6d-e658-08432ad31559"
      },
      "source": [
        "os.getcwd()"
      ],
      "execution_count": 13,
      "outputs": [
        {
          "output_type": "execute_result",
          "data": {
            "application/vnd.google.colaboratory.intrinsic+json": {
              "type": "string"
            },
            "text/plain": [
              "'/content/drive/MyDrive/Colab_Data/FOMC_04_pickle_data'"
            ]
          },
          "metadata": {
            "tags": []
          },
          "execution_count": 13
        }
      ]
    },
    {
      "cell_type": "code",
      "metadata": {
        "colab": {
          "base_uri": "https://localhost:8080/"
        },
        "id": "mBFq6C6XMjpk",
        "outputId": "343cac40-88f1-4d19-93e8-609c752c3b3e"
      },
      "source": [
        "!pip3 install pickle5\n",
        "import pickle5 as pickle"
      ],
      "execution_count": 14,
      "outputs": [
        {
          "output_type": "stream",
          "text": [
            "Collecting pickle5\n",
            "  Downloading pickle5-0.0.11.tar.gz (132 kB)\n",
            "\u001b[?25l\r\u001b[K     |██▌                             | 10 kB 25.3 MB/s eta 0:00:01\r\u001b[K     |█████                           | 20 kB 31.3 MB/s eta 0:00:01\r\u001b[K     |███████▍                        | 30 kB 35.8 MB/s eta 0:00:01\r\u001b[K     |██████████                      | 40 kB 37.2 MB/s eta 0:00:01\r\u001b[K     |████████████▍                   | 51 kB 31.6 MB/s eta 0:00:01\r\u001b[K     |██████████████▉                 | 61 kB 31.0 MB/s eta 0:00:01\r\u001b[K     |█████████████████▍              | 71 kB 29.6 MB/s eta 0:00:01\r\u001b[K     |███████████████████▉            | 81 kB 29.6 MB/s eta 0:00:01\r\u001b[K     |██████████████████████▎         | 92 kB 31.0 MB/s eta 0:00:01\r\u001b[K     |████████████████████████▉       | 102 kB 30.4 MB/s eta 0:00:01\r\u001b[K     |███████████████████████████▎    | 112 kB 30.4 MB/s eta 0:00:01\r\u001b[K     |█████████████████████████████▊  | 122 kB 30.4 MB/s eta 0:00:01\r\u001b[K     |████████████████████████████████| 132 kB 30.4 MB/s \n",
            "\u001b[?25hBuilding wheels for collected packages: pickle5\n",
            "  Building wheel for pickle5 (setup.py) ... \u001b[?25l\u001b[?25hdone\n",
            "  Created wheel for pickle5: filename=pickle5-0.0.11-cp37-cp37m-linux_x86_64.whl size=219317 sha256=ec8b422b65f5c0fd9e63c8d743faca3af900ad1a36e74e3abd6ec262364c8bba\n",
            "  Stored in directory: /root/.cache/pip/wheels/7e/6a/00/67136a90d6aca437d806d1d3cedf98106e840c97a3e5188198\n",
            "Successfully built pickle5\n",
            "Installing collected packages: pickle5\n",
            "Successfully installed pickle5-0.0.11\n"
          ],
          "name": "stdout"
        }
      ]
    },
    {
      "cell_type": "code",
      "metadata": {
        "id": "EG5JqZsaJ6cC"
      },
      "source": [
        "# import pickle\n",
        "\n",
        "FOMC_pickle = [0] * 222 # list(range(0,222))\n",
        "FOMC_pickle_2 = [0] * 222\n",
        "\n",
        "for i in range(0,222):\n",
        "    name = str(i+1)+'.txt'    \n",
        "    FOMC_pickle[i] = pickle.load(open(name, 'rb'))\n",
        "    FOMC_pickle_2[i] = ' '.join(FOMC_pickle[i])"
      ],
      "execution_count": 15,
      "outputs": []
    },
    {
      "cell_type": "code",
      "metadata": {
        "colab": {
          "base_uri": "https://localhost:8080/"
        },
        "id": "PawsKrOE7quH",
        "outputId": "01940858-7e9d-4b2c-a6d3-f07e4057343b"
      },
      "source": [
        "FOMC_pickle[0][0:10]"
      ],
      "execution_count": 16,
      "outputs": [
        {
          "output_type": "execute_result",
          "data": {
            "text/plain": [
              "['inform',\n",
              " 'review',\n",
              " 'meet',\n",
              " 'indic',\n",
              " 'econom',\n",
              " 'activ',\n",
              " 'rose',\n",
              " 'appreci',\n",
              " 'fourth',\n",
              " 'quarter']"
            ]
          },
          "metadata": {
            "tags": []
          },
          "execution_count": 16
        }
      ]
    },
    {
      "cell_type": "code",
      "metadata": {
        "colab": {
          "base_uri": "https://localhost:8080/"
        },
        "id": "SpmIyW6pMyvF",
        "outputId": "df9ab1e1-8ad6-4808-9e5e-f6ecf07a575f"
      },
      "source": [
        "%cd .."
      ],
      "execution_count": 17,
      "outputs": [
        {
          "output_type": "stream",
          "text": [
            "/content/drive/My Drive/Colab_Data\n"
          ],
          "name": "stdout"
        }
      ]
    },
    {
      "cell_type": "code",
      "metadata": {
        "id": "YeKDaPW1Musc"
      },
      "source": [
        "import pandas as pd\n",
        "# df = pd.read_excel (r'Path where the Excel file is stored\\File name.xlsx')\n",
        "df = pd.read_excel(r'FOMC_02_excel_data/Fed_fund_rate_change.xlsx')\n",
        "\n",
        "fund_rate_change = list(df.iloc[:,5])\n",
        "fund_rate_change_date = list(df.iloc[:,1])"
      ],
      "execution_count": 18,
      "outputs": []
    },
    {
      "cell_type": "code",
      "metadata": {
        "colab": {
          "base_uri": "https://localhost:8080/"
        },
        "id": "jLT_UwVbMlPI",
        "outputId": "614e7078-12b1-416f-df96-fa6ac51960b4"
      },
      "source": [
        "corpus_df = pd.DataFrame({'Document': FOMC_pickle_2, \n",
        "                          'Category': fund_rate_change[24:246]})\n",
        "corpus_df = corpus_df[['Document', 'Category']]\n",
        "print(corpus_df.head())"
      ],
      "execution_count": 19,
      "outputs": [
        {
          "output_type": "stream",
          "text": [
            "                                            Document  Category\n",
            "0  inform review meet indic econom activ rose app...         0\n",
            "1  inform review meet suggest econom activ expand...         0\n",
            "2  inform review meet suggest pace econom expans ...         0\n",
            "3  inform review meet provid mix read economi bal...         0\n",
            "4  inform review committe suggest econom activ ex...         0\n"
          ],
          "name": "stdout"
        }
      ]
    },
    {
      "cell_type": "code",
      "metadata": {
        "id": "1BtaY8BUkIci"
      },
      "source": [
        ""
      ],
      "execution_count": 19,
      "outputs": []
    },
    {
      "cell_type": "markdown",
      "metadata": {
        "id": "0DWbudY1QIMW"
      },
      "source": [
        "# (2) Building a Word2Vec Model by Gensim"
      ]
    },
    {
      "cell_type": "code",
      "metadata": {
        "colab": {
          "base_uri": "https://localhost:8080/",
          "height": 51
        },
        "id": "2ayFDwuddSRf",
        "outputId": "04bacf3f-1a8f-4747-b286-f7c51658ef1c"
      },
      "source": [
        "'''\n",
        "# import pickle\n",
        "\n",
        "FOMC_pickle = [0] * 222 # list(range(0,222))\n",
        "FOMC_pickle_2 = [0] * 222\n",
        "\n",
        "for i in range(0,222):\n",
        "    name = str(i+1)+'.txt'    \n",
        "    FOMC_pickle[i] = pickle.load(open(name, 'rb'))\n",
        "    FOMC_pickle_2[i] = ' '.join(FOMC_pickle[i])\n",
        "'''"
      ],
      "execution_count": null,
      "outputs": [
        {
          "output_type": "execute_result",
          "data": {
            "application/vnd.google.colaboratory.intrinsic+json": {
              "type": "string"
            },
            "text/plain": [
              "\"\\n# import pickle\\n\\nFOMC_pickle = [0] * 222 # list(range(0,222))\\nFOMC_pickle_2 = [0] * 222\\n\\nfor i in range(0,222):\\n    name = str(i+1)+'.txt'    \\n    FOMC_pickle[i] = pickle.load(open(name, 'rb'))\\n    FOMC_pickle_2[i] = ' '.join(FOMC_pickle[i])\\n\""
            ]
          },
          "metadata": {
            "tags": []
          },
          "execution_count": 19
        }
      ]
    },
    {
      "cell_type": "markdown",
      "metadata": {
        "id": "bUzvDcE-m7pP"
      },
      "source": [
        "## 2-1 **All words**"
      ]
    },
    {
      "cell_type": "markdown",
      "metadata": {
        "id": "YcZEu7TDvow2"
      },
      "source": [
        "### 2-1-1 *Word2Vec*"
      ]
    },
    {
      "cell_type": "code",
      "metadata": {
        "colab": {
          "base_uri": "https://localhost:8080/",
          "height": 328
        },
        "id": "LguYAHFTiPMl",
        "outputId": "847b7b54-8578-439f-c18b-91b449ada4d5"
      },
      "source": [
        "from gensim.models import word2vec\n",
        "import nltk\n",
        "\n",
        "# tokenize sentences in corpus\n",
        "wpt = nltk.WordPunctTokenizer()\n",
        "tokenized_corpus = [wpt.tokenize(document) for document in FOMC_pickle_2]\n",
        "\n",
        "# Set values for various parameters\n",
        "feature_size = 100    # Word vector dimensionality  \n",
        "window_context = 30          # Context window size                                                                                    \n",
        "min_word_count = 10  # Minimum word count                        \n",
        "sample = 1e-3   # Downsample setting for frequent words\n",
        "\n",
        "w2v_model = word2vec.Word2Vec(tokenized_corpus, size=feature_size, \n",
        "                          window=window_context, min_count=min_word_count,\n",
        "                          sample=sample, iter=50)"
      ],
      "execution_count": null,
      "outputs": [
        {
          "output_type": "error",
          "ename": "KeyboardInterrupt",
          "evalue": "ignored",
          "traceback": [
            "\u001b[0;31m---------------------------------------------------------------------------\u001b[0m",
            "\u001b[0;31mKeyboardInterrupt\u001b[0m                         Traceback (most recent call last)",
            "\u001b[0;32m<ipython-input-69-8d0ae4c49d3a>\u001b[0m in \u001b[0;36m<module>\u001b[0;34m()\u001b[0m\n\u001b[1;32m     14\u001b[0m w2v_model = word2vec.Word2Vec(tokenized_corpus, size=feature_size, \n\u001b[1;32m     15\u001b[0m                           \u001b[0mwindow\u001b[0m\u001b[0;34m=\u001b[0m\u001b[0mwindow_context\u001b[0m\u001b[0;34m,\u001b[0m \u001b[0mmin_count\u001b[0m\u001b[0;34m=\u001b[0m\u001b[0mmin_word_count\u001b[0m\u001b[0;34m,\u001b[0m\u001b[0;34m\u001b[0m\u001b[0;34m\u001b[0m\u001b[0m\n\u001b[0;32m---> 16\u001b[0;31m                           sample=sample, iter=50)\n\u001b[0m",
            "\u001b[0;32m/usr/local/lib/python3.7/dist-packages/gensim/models/word2vec.py\u001b[0m in \u001b[0;36m__init__\u001b[0;34m(self, sentences, corpus_file, size, alpha, window, min_count, max_vocab_size, sample, seed, workers, min_alpha, sg, hs, negative, ns_exponent, cbow_mean, hashfxn, iter, null_word, trim_rule, sorted_vocab, batch_words, compute_loss, callbacks, max_final_vocab)\u001b[0m\n\u001b[1;32m    765\u001b[0m             \u001b[0mcallbacks\u001b[0m\u001b[0;34m=\u001b[0m\u001b[0mcallbacks\u001b[0m\u001b[0;34m,\u001b[0m \u001b[0mbatch_words\u001b[0m\u001b[0;34m=\u001b[0m\u001b[0mbatch_words\u001b[0m\u001b[0;34m,\u001b[0m \u001b[0mtrim_rule\u001b[0m\u001b[0;34m=\u001b[0m\u001b[0mtrim_rule\u001b[0m\u001b[0;34m,\u001b[0m \u001b[0msg\u001b[0m\u001b[0;34m=\u001b[0m\u001b[0msg\u001b[0m\u001b[0;34m,\u001b[0m \u001b[0malpha\u001b[0m\u001b[0;34m=\u001b[0m\u001b[0malpha\u001b[0m\u001b[0;34m,\u001b[0m \u001b[0mwindow\u001b[0m\u001b[0;34m=\u001b[0m\u001b[0mwindow\u001b[0m\u001b[0;34m,\u001b[0m\u001b[0;34m\u001b[0m\u001b[0;34m\u001b[0m\u001b[0m\n\u001b[1;32m    766\u001b[0m             \u001b[0mseed\u001b[0m\u001b[0;34m=\u001b[0m\u001b[0mseed\u001b[0m\u001b[0;34m,\u001b[0m \u001b[0mhs\u001b[0m\u001b[0;34m=\u001b[0m\u001b[0mhs\u001b[0m\u001b[0;34m,\u001b[0m \u001b[0mnegative\u001b[0m\u001b[0;34m=\u001b[0m\u001b[0mnegative\u001b[0m\u001b[0;34m,\u001b[0m \u001b[0mcbow_mean\u001b[0m\u001b[0;34m=\u001b[0m\u001b[0mcbow_mean\u001b[0m\u001b[0;34m,\u001b[0m \u001b[0mmin_alpha\u001b[0m\u001b[0;34m=\u001b[0m\u001b[0mmin_alpha\u001b[0m\u001b[0;34m,\u001b[0m \u001b[0mcompute_loss\u001b[0m\u001b[0;34m=\u001b[0m\u001b[0mcompute_loss\u001b[0m\u001b[0;34m,\u001b[0m\u001b[0;34m\u001b[0m\u001b[0;34m\u001b[0m\u001b[0m\n\u001b[0;32m--> 767\u001b[0;31m             fast_version=FAST_VERSION)\n\u001b[0m\u001b[1;32m    768\u001b[0m \u001b[0;34m\u001b[0m\u001b[0m\n\u001b[1;32m    769\u001b[0m     def _do_train_epoch(self, corpus_file, thread_id, offset, cython_vocab, thread_private_mem, cur_epoch,\n",
            "\u001b[0;32m/usr/local/lib/python3.7/dist-packages/gensim/models/base_any2vec.py\u001b[0m in \u001b[0;36m__init__\u001b[0;34m(self, sentences, corpus_file, workers, vector_size, epochs, callbacks, batch_words, trim_rule, sg, alpha, window, seed, hs, negative, ns_exponent, cbow_mean, min_alpha, compute_loss, fast_version, **kwargs)\u001b[0m\n\u001b[1;32m    761\u001b[0m                 \u001b[0msentences\u001b[0m\u001b[0;34m=\u001b[0m\u001b[0msentences\u001b[0m\u001b[0;34m,\u001b[0m \u001b[0mcorpus_file\u001b[0m\u001b[0;34m=\u001b[0m\u001b[0mcorpus_file\u001b[0m\u001b[0;34m,\u001b[0m \u001b[0mtotal_examples\u001b[0m\u001b[0;34m=\u001b[0m\u001b[0mself\u001b[0m\u001b[0;34m.\u001b[0m\u001b[0mcorpus_count\u001b[0m\u001b[0;34m,\u001b[0m\u001b[0;34m\u001b[0m\u001b[0;34m\u001b[0m\u001b[0m\n\u001b[1;32m    762\u001b[0m                 \u001b[0mtotal_words\u001b[0m\u001b[0;34m=\u001b[0m\u001b[0mself\u001b[0m\u001b[0;34m.\u001b[0m\u001b[0mcorpus_total_words\u001b[0m\u001b[0;34m,\u001b[0m \u001b[0mepochs\u001b[0m\u001b[0;34m=\u001b[0m\u001b[0mself\u001b[0m\u001b[0;34m.\u001b[0m\u001b[0mepochs\u001b[0m\u001b[0;34m,\u001b[0m \u001b[0mstart_alpha\u001b[0m\u001b[0;34m=\u001b[0m\u001b[0mself\u001b[0m\u001b[0;34m.\u001b[0m\u001b[0malpha\u001b[0m\u001b[0;34m,\u001b[0m\u001b[0;34m\u001b[0m\u001b[0;34m\u001b[0m\u001b[0m\n\u001b[0;32m--> 763\u001b[0;31m                 end_alpha=self.min_alpha, compute_loss=compute_loss)\n\u001b[0m\u001b[1;32m    764\u001b[0m         \u001b[0;32melse\u001b[0m\u001b[0;34m:\u001b[0m\u001b[0;34m\u001b[0m\u001b[0;34m\u001b[0m\u001b[0m\n\u001b[1;32m    765\u001b[0m             \u001b[0;32mif\u001b[0m \u001b[0mtrim_rule\u001b[0m \u001b[0;32mis\u001b[0m \u001b[0;32mnot\u001b[0m \u001b[0;32mNone\u001b[0m\u001b[0;34m:\u001b[0m\u001b[0;34m\u001b[0m\u001b[0;34m\u001b[0m\u001b[0m\n",
            "\u001b[0;32m/usr/local/lib/python3.7/dist-packages/gensim/models/word2vec.py\u001b[0m in \u001b[0;36mtrain\u001b[0;34m(self, sentences, corpus_file, total_examples, total_words, epochs, start_alpha, end_alpha, word_count, queue_factor, report_delay, compute_loss, callbacks)\u001b[0m\n\u001b[1;32m    890\u001b[0m             \u001b[0msentences\u001b[0m\u001b[0;34m=\u001b[0m\u001b[0msentences\u001b[0m\u001b[0;34m,\u001b[0m \u001b[0mcorpus_file\u001b[0m\u001b[0;34m=\u001b[0m\u001b[0mcorpus_file\u001b[0m\u001b[0;34m,\u001b[0m \u001b[0mtotal_examples\u001b[0m\u001b[0;34m=\u001b[0m\u001b[0mtotal_examples\u001b[0m\u001b[0;34m,\u001b[0m \u001b[0mtotal_words\u001b[0m\u001b[0;34m=\u001b[0m\u001b[0mtotal_words\u001b[0m\u001b[0;34m,\u001b[0m\u001b[0;34m\u001b[0m\u001b[0;34m\u001b[0m\u001b[0m\n\u001b[1;32m    891\u001b[0m             \u001b[0mepochs\u001b[0m\u001b[0;34m=\u001b[0m\u001b[0mepochs\u001b[0m\u001b[0;34m,\u001b[0m \u001b[0mstart_alpha\u001b[0m\u001b[0;34m=\u001b[0m\u001b[0mstart_alpha\u001b[0m\u001b[0;34m,\u001b[0m \u001b[0mend_alpha\u001b[0m\u001b[0;34m=\u001b[0m\u001b[0mend_alpha\u001b[0m\u001b[0;34m,\u001b[0m \u001b[0mword_count\u001b[0m\u001b[0;34m=\u001b[0m\u001b[0mword_count\u001b[0m\u001b[0;34m,\u001b[0m\u001b[0;34m\u001b[0m\u001b[0;34m\u001b[0m\u001b[0m\n\u001b[0;32m--> 892\u001b[0;31m             queue_factor=queue_factor, report_delay=report_delay, compute_loss=compute_loss, callbacks=callbacks)\n\u001b[0m\u001b[1;32m    893\u001b[0m \u001b[0;34m\u001b[0m\u001b[0m\n\u001b[1;32m    894\u001b[0m     \u001b[0;32mdef\u001b[0m \u001b[0mscore\u001b[0m\u001b[0;34m(\u001b[0m\u001b[0mself\u001b[0m\u001b[0;34m,\u001b[0m \u001b[0msentences\u001b[0m\u001b[0;34m,\u001b[0m \u001b[0mtotal_sentences\u001b[0m\u001b[0;34m=\u001b[0m\u001b[0mint\u001b[0m\u001b[0;34m(\u001b[0m\u001b[0;36m1e6\u001b[0m\u001b[0;34m)\u001b[0m\u001b[0;34m,\u001b[0m \u001b[0mchunksize\u001b[0m\u001b[0;34m=\u001b[0m\u001b[0;36m100\u001b[0m\u001b[0;34m,\u001b[0m \u001b[0mqueue_factor\u001b[0m\u001b[0;34m=\u001b[0m\u001b[0;36m2\u001b[0m\u001b[0;34m,\u001b[0m \u001b[0mreport_delay\u001b[0m\u001b[0;34m=\u001b[0m\u001b[0;36m1\u001b[0m\u001b[0;34m)\u001b[0m\u001b[0;34m:\u001b[0m\u001b[0;34m\u001b[0m\u001b[0;34m\u001b[0m\u001b[0m\n",
            "\u001b[0;32m/usr/local/lib/python3.7/dist-packages/gensim/models/base_any2vec.py\u001b[0m in \u001b[0;36mtrain\u001b[0;34m(self, sentences, corpus_file, total_examples, total_words, epochs, start_alpha, end_alpha, word_count, queue_factor, report_delay, compute_loss, callbacks, **kwargs)\u001b[0m\n\u001b[1;32m   1079\u001b[0m             \u001b[0mtotal_words\u001b[0m\u001b[0;34m=\u001b[0m\u001b[0mtotal_words\u001b[0m\u001b[0;34m,\u001b[0m \u001b[0mepochs\u001b[0m\u001b[0;34m=\u001b[0m\u001b[0mepochs\u001b[0m\u001b[0;34m,\u001b[0m \u001b[0mstart_alpha\u001b[0m\u001b[0;34m=\u001b[0m\u001b[0mstart_alpha\u001b[0m\u001b[0;34m,\u001b[0m \u001b[0mend_alpha\u001b[0m\u001b[0;34m=\u001b[0m\u001b[0mend_alpha\u001b[0m\u001b[0;34m,\u001b[0m \u001b[0mword_count\u001b[0m\u001b[0;34m=\u001b[0m\u001b[0mword_count\u001b[0m\u001b[0;34m,\u001b[0m\u001b[0;34m\u001b[0m\u001b[0;34m\u001b[0m\u001b[0m\n\u001b[1;32m   1080\u001b[0m             \u001b[0mqueue_factor\u001b[0m\u001b[0;34m=\u001b[0m\u001b[0mqueue_factor\u001b[0m\u001b[0;34m,\u001b[0m \u001b[0mreport_delay\u001b[0m\u001b[0;34m=\u001b[0m\u001b[0mreport_delay\u001b[0m\u001b[0;34m,\u001b[0m \u001b[0mcompute_loss\u001b[0m\u001b[0;34m=\u001b[0m\u001b[0mcompute_loss\u001b[0m\u001b[0;34m,\u001b[0m \u001b[0mcallbacks\u001b[0m\u001b[0;34m=\u001b[0m\u001b[0mcallbacks\u001b[0m\u001b[0;34m,\u001b[0m\u001b[0;34m\u001b[0m\u001b[0;34m\u001b[0m\u001b[0m\n\u001b[0;32m-> 1081\u001b[0;31m             **kwargs)\n\u001b[0m\u001b[1;32m   1082\u001b[0m \u001b[0;34m\u001b[0m\u001b[0m\n\u001b[1;32m   1083\u001b[0m     \u001b[0;32mdef\u001b[0m \u001b[0m_get_job_params\u001b[0m\u001b[0;34m(\u001b[0m\u001b[0mself\u001b[0m\u001b[0;34m,\u001b[0m \u001b[0mcur_epoch\u001b[0m\u001b[0;34m)\u001b[0m\u001b[0;34m:\u001b[0m\u001b[0;34m\u001b[0m\u001b[0;34m\u001b[0m\u001b[0m\n",
            "\u001b[0;32m/usr/local/lib/python3.7/dist-packages/gensim/models/base_any2vec.py\u001b[0m in \u001b[0;36mtrain\u001b[0;34m(self, data_iterable, corpus_file, epochs, total_examples, total_words, queue_factor, report_delay, callbacks, **kwargs)\u001b[0m\n\u001b[1;32m    551\u001b[0m                 trained_word_count_epoch, raw_word_count_epoch, job_tally_epoch = self._train_epoch(\n\u001b[1;32m    552\u001b[0m                     \u001b[0mdata_iterable\u001b[0m\u001b[0;34m,\u001b[0m \u001b[0mcur_epoch\u001b[0m\u001b[0;34m=\u001b[0m\u001b[0mcur_epoch\u001b[0m\u001b[0;34m,\u001b[0m \u001b[0mtotal_examples\u001b[0m\u001b[0;34m=\u001b[0m\u001b[0mtotal_examples\u001b[0m\u001b[0;34m,\u001b[0m\u001b[0;34m\u001b[0m\u001b[0;34m\u001b[0m\u001b[0m\n\u001b[0;32m--> 553\u001b[0;31m                     total_words=total_words, queue_factor=queue_factor, report_delay=report_delay)\n\u001b[0m\u001b[1;32m    554\u001b[0m             \u001b[0;32melse\u001b[0m\u001b[0;34m:\u001b[0m\u001b[0;34m\u001b[0m\u001b[0;34m\u001b[0m\u001b[0m\n\u001b[1;32m    555\u001b[0m                 trained_word_count_epoch, raw_word_count_epoch, job_tally_epoch = self._train_epoch_corpusfile(\n",
            "\u001b[0;32m/usr/local/lib/python3.7/dist-packages/gensim/models/base_any2vec.py\u001b[0m in \u001b[0;36m_train_epoch\u001b[0;34m(self, data_iterable, cur_epoch, total_examples, total_words, queue_factor, report_delay)\u001b[0m\n\u001b[1;32m    487\u001b[0m         trained_word_count, raw_word_count, job_tally = self._log_epoch_progress(\n\u001b[1;32m    488\u001b[0m             \u001b[0mprogress_queue\u001b[0m\u001b[0;34m,\u001b[0m \u001b[0mjob_queue\u001b[0m\u001b[0;34m,\u001b[0m \u001b[0mcur_epoch\u001b[0m\u001b[0;34m=\u001b[0m\u001b[0mcur_epoch\u001b[0m\u001b[0;34m,\u001b[0m \u001b[0mtotal_examples\u001b[0m\u001b[0;34m=\u001b[0m\u001b[0mtotal_examples\u001b[0m\u001b[0;34m,\u001b[0m \u001b[0mtotal_words\u001b[0m\u001b[0;34m=\u001b[0m\u001b[0mtotal_words\u001b[0m\u001b[0;34m,\u001b[0m\u001b[0;34m\u001b[0m\u001b[0;34m\u001b[0m\u001b[0m\n\u001b[0;32m--> 489\u001b[0;31m             report_delay=report_delay, is_corpus_file_mode=False)\n\u001b[0m\u001b[1;32m    490\u001b[0m \u001b[0;34m\u001b[0m\u001b[0m\n\u001b[1;32m    491\u001b[0m         \u001b[0;32mreturn\u001b[0m \u001b[0mtrained_word_count\u001b[0m\u001b[0;34m,\u001b[0m \u001b[0mraw_word_count\u001b[0m\u001b[0;34m,\u001b[0m \u001b[0mjob_tally\u001b[0m\u001b[0;34m\u001b[0m\u001b[0;34m\u001b[0m\u001b[0m\n",
            "\u001b[0;32m/usr/local/lib/python3.7/dist-packages/gensim/models/base_any2vec.py\u001b[0m in \u001b[0;36m_log_epoch_progress\u001b[0;34m(self, progress_queue, job_queue, cur_epoch, total_examples, total_words, report_delay, is_corpus_file_mode)\u001b[0m\n\u001b[1;32m    344\u001b[0m \u001b[0;34m\u001b[0m\u001b[0m\n\u001b[1;32m    345\u001b[0m         \u001b[0;32mwhile\u001b[0m \u001b[0munfinished_worker_count\u001b[0m \u001b[0;34m>\u001b[0m \u001b[0;36m0\u001b[0m\u001b[0;34m:\u001b[0m\u001b[0;34m\u001b[0m\u001b[0;34m\u001b[0m\u001b[0m\n\u001b[0;32m--> 346\u001b[0;31m             \u001b[0mreport\u001b[0m \u001b[0;34m=\u001b[0m \u001b[0mprogress_queue\u001b[0m\u001b[0;34m.\u001b[0m\u001b[0mget\u001b[0m\u001b[0;34m(\u001b[0m\u001b[0;34m)\u001b[0m  \u001b[0;31m# blocks if workers too slow\u001b[0m\u001b[0;34m\u001b[0m\u001b[0;34m\u001b[0m\u001b[0m\n\u001b[0m\u001b[1;32m    347\u001b[0m             \u001b[0;32mif\u001b[0m \u001b[0mreport\u001b[0m \u001b[0;32mis\u001b[0m \u001b[0;32mNone\u001b[0m\u001b[0;34m:\u001b[0m  \u001b[0;31m# a thread reporting that it finished\u001b[0m\u001b[0;34m\u001b[0m\u001b[0;34m\u001b[0m\u001b[0m\n\u001b[1;32m    348\u001b[0m                 \u001b[0munfinished_worker_count\u001b[0m \u001b[0;34m-=\u001b[0m \u001b[0;36m1\u001b[0m\u001b[0;34m\u001b[0m\u001b[0;34m\u001b[0m\u001b[0m\n",
            "\u001b[0;32m/usr/lib/python3.7/queue.py\u001b[0m in \u001b[0;36mget\u001b[0;34m(self, block, timeout)\u001b[0m\n\u001b[1;32m    168\u001b[0m             \u001b[0;32melif\u001b[0m \u001b[0mtimeout\u001b[0m \u001b[0;32mis\u001b[0m \u001b[0;32mNone\u001b[0m\u001b[0;34m:\u001b[0m\u001b[0;34m\u001b[0m\u001b[0;34m\u001b[0m\u001b[0m\n\u001b[1;32m    169\u001b[0m                 \u001b[0;32mwhile\u001b[0m \u001b[0;32mnot\u001b[0m \u001b[0mself\u001b[0m\u001b[0;34m.\u001b[0m\u001b[0m_qsize\u001b[0m\u001b[0;34m(\u001b[0m\u001b[0;34m)\u001b[0m\u001b[0;34m:\u001b[0m\u001b[0;34m\u001b[0m\u001b[0;34m\u001b[0m\u001b[0m\n\u001b[0;32m--> 170\u001b[0;31m                     \u001b[0mself\u001b[0m\u001b[0;34m.\u001b[0m\u001b[0mnot_empty\u001b[0m\u001b[0;34m.\u001b[0m\u001b[0mwait\u001b[0m\u001b[0;34m(\u001b[0m\u001b[0;34m)\u001b[0m\u001b[0;34m\u001b[0m\u001b[0;34m\u001b[0m\u001b[0m\n\u001b[0m\u001b[1;32m    171\u001b[0m             \u001b[0;32melif\u001b[0m \u001b[0mtimeout\u001b[0m \u001b[0;34m<\u001b[0m \u001b[0;36m0\u001b[0m\u001b[0;34m:\u001b[0m\u001b[0;34m\u001b[0m\u001b[0;34m\u001b[0m\u001b[0m\n\u001b[1;32m    172\u001b[0m                 \u001b[0;32mraise\u001b[0m \u001b[0mValueError\u001b[0m\u001b[0;34m(\u001b[0m\u001b[0;34m\"'timeout' must be a non-negative number\"\u001b[0m\u001b[0;34m)\u001b[0m\u001b[0;34m\u001b[0m\u001b[0;34m\u001b[0m\u001b[0m\n",
            "\u001b[0;32m/usr/lib/python3.7/threading.py\u001b[0m in \u001b[0;36mwait\u001b[0;34m(self, timeout)\u001b[0m\n\u001b[1;32m    294\u001b[0m         \u001b[0;32mtry\u001b[0m\u001b[0;34m:\u001b[0m    \u001b[0;31m# restore state no matter what (e.g., KeyboardInterrupt)\u001b[0m\u001b[0;34m\u001b[0m\u001b[0;34m\u001b[0m\u001b[0m\n\u001b[1;32m    295\u001b[0m             \u001b[0;32mif\u001b[0m \u001b[0mtimeout\u001b[0m \u001b[0;32mis\u001b[0m \u001b[0;32mNone\u001b[0m\u001b[0;34m:\u001b[0m\u001b[0;34m\u001b[0m\u001b[0;34m\u001b[0m\u001b[0m\n\u001b[0;32m--> 296\u001b[0;31m                 \u001b[0mwaiter\u001b[0m\u001b[0;34m.\u001b[0m\u001b[0macquire\u001b[0m\u001b[0;34m(\u001b[0m\u001b[0;34m)\u001b[0m\u001b[0;34m\u001b[0m\u001b[0;34m\u001b[0m\u001b[0m\n\u001b[0m\u001b[1;32m    297\u001b[0m                 \u001b[0mgotit\u001b[0m \u001b[0;34m=\u001b[0m \u001b[0;32mTrue\u001b[0m\u001b[0;34m\u001b[0m\u001b[0;34m\u001b[0m\u001b[0m\n\u001b[1;32m    298\u001b[0m             \u001b[0;32melse\u001b[0m\u001b[0;34m:\u001b[0m\u001b[0;34m\u001b[0m\u001b[0;34m\u001b[0m\u001b[0m\n",
            "\u001b[0;31mKeyboardInterrupt\u001b[0m: "
          ]
        }
      ]
    },
    {
      "cell_type": "code",
      "metadata": {
        "id": "SBbEtsC3QJ6-"
      },
      "source": [
        "from gensim.models import word2vec\n",
        "import nltk\n",
        "\n",
        "# tokenize sentences in corpus\n",
        "wpt = nltk.WordPunctTokenizer()\n",
        "tokenized_corpus = [wpt.tokenize(document) for document in FOMC_pickle_2]\n",
        "\n",
        "# Set values for various parameters\n",
        "feature_size = 100    # Word vector dimensionality  \n",
        "window_context = 30          # Context window size                                                                                    \n",
        "min_word_count = 10  # Minimum word count                        \n",
        "sample = 1e-3   # Downsample setting for frequent words\n",
        "\n",
        "w2v_model = word2vec.Word2Vec(tokenized_corpus, size=feature_size, \n",
        "                          window=window_context, min_count=min_word_count,\n",
        "                          sample=sample, iter=50)"
      ],
      "execution_count": null,
      "outputs": []
    },
    {
      "cell_type": "code",
      "metadata": {
        "id": "trRIbGnbTk6t"
      },
      "source": [
        "# view similar words based on gensim's model\n",
        "similar_words = {search_term: [item[0] for item in w2v_model.wv.most_similar([search_term], topn=20)] # topn=5\n",
        "                  for search_term in ['inflat', 'price', 'growth', 'unemploy', 'labor', 'interest', 'money', 'fund', 'exchang']}\n",
        "similar_words"
      ],
      "execution_count": null,
      "outputs": []
    },
    {
      "cell_type": "code",
      "metadata": {
        "id": "Tl0nyHBkFPOG"
      },
      "source": [
        "similar_words_2 = {\n",
        " 'exchang': ['equiti', 'chair', 'book', 'substitut', 'impart'],\n",
        " 'fund': ['reserv', 'assign', 'matur', 'ioer'],\n",
        " 'growth': ['expans', 'recoveri', 'gain', 'pace', 'expand'],\n",
        " 'inflat': ['commod', 'disinflationari', 'disinfl', 'anchor'],\n",
        " 'interest': ['intermedi', 'yield', 'save', 'delinqu', 'homebuild'],\n",
        " 'labor': ['wage', 'fill', 'inflat', 'age', 'job'],\n",
        " 'money': ['inflow', 'deposit', 'mutual', 'instrument', 'opportun'],\n",
        " 'price': ['headlin', 'food', 'core', 'crude'],\n",
        " 'unemploy': ['forc', 'hire', 'popul', 'workweek', 'reason']}"
      ],
      "execution_count": null,
      "outputs": []
    },
    {
      "cell_type": "code",
      "metadata": {
        "id": "llQKoaBYAEQc"
      },
      "source": [
        "'unemploy': ['forc', 'workweek', 'hire', 'save', 'popul', 'jobless', 'age', 'reason', 'work', 'interest', 'underutil', 'delinqu', 'hour', 'quit', 'lengthi']}"
      ],
      "execution_count": null,
      "outputs": []
    },
    {
      "cell_type": "code",
      "metadata": {
        "id": "DqjK_A42FZVR"
      },
      "source": [
        "'unemploy': ['forc', 'workweek', 'hire', 'age', 'popul', 'reason', 'jobless', 'save', 'underutil', 'interest', 'hour', 'sideway', 'summari', 'quit', 'group', 'delinqu', 'addendum', 'converg', 'work', 'fill']}"
      ],
      "execution_count": null,
      "outputs": []
    },
    {
      "cell_type": "markdown",
      "metadata": {
        "id": "X1RfmJl1QLka"
      },
      "source": [
        "### 2-1-2 *Visualizing word embeddings*"
      ]
    },
    {
      "cell_type": "code",
      "metadata": {
        "id": "lxadWs9hQL2y"
      },
      "source": [
        "import matplotlib.pyplot as plt\n",
        "import numpy as np\n",
        "from sklearn.manifold import TSNE\n",
        "\n",
        "words = sum([[k] + v for k, v in similar_words_2.items()], [])\n",
        "wvs = w2v_model.wv[words]\n",
        "\n",
        "tsne = TSNE(n_components=2, random_state=0, n_iter=10000, perplexity=2)\n",
        "np.set_printoptions(suppress=True)\n",
        "T = tsne.fit_transform(wvs)\n",
        "labels = words\n",
        "\n",
        "plt.figure(figsize=(22, 15))\n",
        "plt.scatter(T[:, 0], T[:, 1], c='orange', edgecolors='r')\n",
        "for label, x, y in zip(labels, T[:, 0], T[:, 1]):\n",
        "    plt.annotate(label, xy=(x+1, y+1), xytext=(0, 0), textcoords='offset points', fontsize=13.5)"
      ],
      "execution_count": null,
      "outputs": []
    },
    {
      "cell_type": "code",
      "metadata": {
        "id": "d6H_girsySRg"
      },
      "source": [
        "# words for the figure above\n",
        "'''\n",
        "similar_words_2 = {\n",
        " 'exchang': ['equiti', 'chair', 'book', 'substitut', 'impart'],\n",
        " 'fund': ['reserv', 'assign', 'matur', 'ioer', 'interest'],\n",
        " 'growth': ['expans', 'recoveri', 'gain', 'pace', 'expand'],\n",
        " 'inflat': ['commod', 'disinflationari', 'core', 'disinfl', 'anchor'],\n",
        " 'interest': ['intermedi', 'yield', 'save', 'delinqu', 'homebuild'],\n",
        " 'labor': ['wage', 'fill', 'inflat', 'age', 'job'],\n",
        " 'money': ['inflow', 'deposit', 'mutual', 'instrument', 'opportun'],\n",
        " 'price': ['headlin', 'food', 'core', 'crude', 'inflat'],\n",
        " 'unemploy': ['forc', 'hire', 'popul', 'workweek', 'reason']}\n",
        "'''"
      ],
      "execution_count": null,
      "outputs": []
    },
    {
      "cell_type": "code",
      "metadata": {
        "id": "y-oFFWgVl8f9"
      },
      "source": [
        "w2v_model.most_similar(\"fed\")"
      ],
      "execution_count": null,
      "outputs": []
    },
    {
      "cell_type": "code",
      "metadata": {
        "id": "CAhNS4MPyWuF"
      },
      "source": [
        "# 1\n",
        "w2v_model.wv.most_similar(\"fed\")"
      ],
      "execution_count": null,
      "outputs": []
    },
    {
      "cell_type": "code",
      "metadata": {
        "id": "jsQ7hUZfyX8n"
      },
      "source": [
        "# 2\n",
        "w2v_model.wv.most_similar(\"growth\")"
      ],
      "execution_count": null,
      "outputs": []
    },
    {
      "cell_type": "code",
      "metadata": {
        "id": "CVu8hk6Uots_"
      },
      "source": [
        "# 3\n",
        "w2v_model.wv.most_similar(\"inflat\")"
      ],
      "execution_count": null,
      "outputs": []
    },
    {
      "cell_type": "code",
      "metadata": {
        "id": "KsCjgpduyhHi"
      },
      "source": [
        "# 4\n",
        "w2v_model.wv.most_similar(\"interest\")"
      ],
      "execution_count": null,
      "outputs": []
    },
    {
      "cell_type": "code",
      "metadata": {
        "id": "DePTObScyi6f"
      },
      "source": [
        "# 5\n",
        "w2v_model.wv.most_similar(\"labor\")"
      ],
      "execution_count": null,
      "outputs": []
    },
    {
      "cell_type": "code",
      "metadata": {
        "id": "O4xia1D7ykw8"
      },
      "source": [
        "# 6\n",
        "w2v_model.wv.most_similar(\"money\")"
      ],
      "execution_count": null,
      "outputs": []
    },
    {
      "cell_type": "code",
      "metadata": {
        "id": "vTJ0fGVVpP5A"
      },
      "source": [
        "# 7\n",
        "w2v_model.wv.most_similar(\"price\")"
      ],
      "execution_count": null,
      "outputs": []
    },
    {
      "cell_type": "code",
      "metadata": {
        "id": "xu6i0UTDpQTJ"
      },
      "source": [
        "# 8\n",
        "w2v_model.wv.most_similar(\"unemploy\")"
      ],
      "execution_count": null,
      "outputs": []
    },
    {
      "cell_type": "markdown",
      "metadata": {
        "id": "pfXUaxqVxDec"
      },
      "source": [
        "## 2-2 **Generating the indexes of up, down & unchanged**"
      ]
    },
    {
      "cell_type": "code",
      "metadata": {
        "colab": {
          "base_uri": "https://localhost:8080/"
        },
        "id": "8VulH0FXp2Gk",
        "outputId": "9fd4962d-070d-419a-d4a6-29b896d65490"
      },
      "source": [
        "# import pickle\n",
        "!pip3 install pickle5\n",
        "import pickle5 as pickle"
      ],
      "execution_count": 20,
      "outputs": [
        {
          "output_type": "stream",
          "text": [
            "Requirement already satisfied: pickle5 in /usr/local/lib/python3.7/dist-packages (0.0.11)\n"
          ],
          "name": "stdout"
        }
      ]
    },
    {
      "cell_type": "code",
      "metadata": {
        "colab": {
          "base_uri": "https://localhost:8080/",
          "height": 0
        },
        "id": "8_pPnPcop7rb",
        "outputId": "f58b4aac-0752-4cb1-d3b6-b09d37976c84"
      },
      "source": [
        "import os\n",
        "import numpy as np\n",
        "os.getcwd()"
      ],
      "execution_count": 21,
      "outputs": [
        {
          "output_type": "execute_result",
          "data": {
            "application/vnd.google.colaboratory.intrinsic+json": {
              "type": "string"
            },
            "text/plain": [
              "'/content/drive/My Drive/Colab_Data'"
            ]
          },
          "metadata": {
            "tags": []
          },
          "execution_count": 21
        }
      ]
    },
    {
      "cell_type": "code",
      "metadata": {
        "colab": {
          "base_uri": "https://localhost:8080/",
          "height": 0
        },
        "id": "2NkFaycOqNnD",
        "outputId": "c662000b-8ca3-45d6-d744-917961f2069f"
      },
      "source": [
        "import os\n",
        "os.chdir(r'FOMC_04_pickle_data')\n",
        "os.getcwd()"
      ],
      "execution_count": 22,
      "outputs": [
        {
          "output_type": "execute_result",
          "data": {
            "application/vnd.google.colaboratory.intrinsic+json": {
              "type": "string"
            },
            "text/plain": [
              "'/content/drive/My Drive/Colab_Data/FOMC_04_pickle_data'"
            ]
          },
          "metadata": {
            "tags": []
          },
          "execution_count": 22
        }
      ]
    },
    {
      "cell_type": "code",
      "metadata": {
        "id": "3HQmhXUWqO51"
      },
      "source": [
        "FOMC_pickle = [0] * 222 # list(range(0,222))\n",
        "FOMC_pickle_2 = [0] * 222\n",
        "\n",
        "for i in range(0,222):\n",
        "    name = str(i+1)+'.txt'    \n",
        "    FOMC_pickle[i] = pickle.load(open(name, 'rb'))\n",
        "    FOMC_pickle_2[i] = ' '.join(FOMC_pickle[i])"
      ],
      "execution_count": 23,
      "outputs": []
    },
    {
      "cell_type": "code",
      "metadata": {
        "colab": {
          "base_uri": "https://localhost:8080/",
          "height": 0
        },
        "id": "-_kWMLXXqgAJ",
        "outputId": "2db259fa-b2a4-4e1b-8199-0e39f87b623e"
      },
      "source": [
        "%pwd"
      ],
      "execution_count": 24,
      "outputs": [
        {
          "output_type": "execute_result",
          "data": {
            "application/vnd.google.colaboratory.intrinsic+json": {
              "type": "string"
            },
            "text/plain": [
              "'/content/drive/My Drive/Colab_Data/FOMC_04_pickle_data'"
            ]
          },
          "metadata": {
            "tags": []
          },
          "execution_count": 24
        }
      ]
    },
    {
      "cell_type": "code",
      "metadata": {
        "colab": {
          "base_uri": "https://localhost:8080/"
        },
        "id": "dBJ2ZkTAqPA1",
        "outputId": "4755ba10-9c16-48f0-99a5-b550e75fdd54"
      },
      "source": [
        "%cd .."
      ],
      "execution_count": 25,
      "outputs": [
        {
          "output_type": "stream",
          "text": [
            "/content/drive/My Drive/Colab_Data\n"
          ],
          "name": "stdout"
        }
      ]
    },
    {
      "cell_type": "code",
      "metadata": {
        "id": "w2Tq7O4CqPGp"
      },
      "source": [
        "import pandas as pd\n",
        "# df = pd.read_excel (r'Path where the Excel file is stored\\File name.xlsx')\n",
        "df = pd.read_excel(r'FOMC_02_excel_data/Fed_fund_rate_change.xlsx')\n",
        "\n",
        "fund_rate_change = list(df.iloc[:,5])\n",
        "fund_rate_change_date = list(df.iloc[:,1])"
      ],
      "execution_count": 26,
      "outputs": []
    },
    {
      "cell_type": "code",
      "metadata": {
        "colab": {
          "base_uri": "https://localhost:8080/"
        },
        "id": "MCUHj_1LqPL7",
        "outputId": "8b97b74c-6a27-48c7-a367-e92fbd1a247a"
      },
      "source": [
        "corpus_df = pd.DataFrame({'Document': FOMC_pickle_2, \n",
        "                          'Category': fund_rate_change[24:246]})\n",
        "corpus_df = corpus_df[['Document', 'Category']]\n",
        "print(corpus_df.head())"
      ],
      "execution_count": 27,
      "outputs": [
        {
          "output_type": "stream",
          "text": [
            "                                            Document  Category\n",
            "0  inform review meet indic econom activ rose app...         0\n",
            "1  inform review meet suggest econom activ expand...         0\n",
            "2  inform review meet suggest pace econom expans ...         0\n",
            "3  inform review meet provid mix read economi bal...         0\n",
            "4  inform review committe suggest econom activ ex...         0\n"
          ],
          "name": "stdout"
        }
      ]
    },
    {
      "cell_type": "code",
      "metadata": {
        "colab": {
          "base_uri": "https://localhost:8080/"
        },
        "id": "EcMZltV9qnXT",
        "outputId": "f5a6d164-28db-4cd5-8b16-60b6ef162620"
      },
      "source": [
        "import numpy as np\n",
        "print(len(np.array(FOMC_pickle_2))); print(len(np.array(fund_rate_change[24:246])))"
      ],
      "execution_count": 28,
      "outputs": [
        {
          "output_type": "stream",
          "text": [
            "222\n",
            "222\n"
          ],
          "name": "stdout"
        }
      ]
    },
    {
      "cell_type": "code",
      "metadata": {
        "id": "5TY2FXVwrGj9"
      },
      "source": [
        "up_index = []\n",
        "down_index = []\n",
        "unchanged_index = []\n",
        "\n",
        "for i in range(24,246):\n",
        "    if fund_rate_change[i] == 1:\n",
        "        up_index.append(i-24)\n",
        "    elif fund_rate_change[i] == -1:\n",
        "        down_index.append(i-24)\n",
        "    elif fund_rate_change[i] == 0:\n",
        "        unchanged_index.append(i-24)\n",
        "    else:\n",
        "        print('Wrong !')\n"
      ],
      "execution_count": 29,
      "outputs": []
    },
    {
      "cell_type": "code",
      "metadata": {
        "colab": {
          "base_uri": "https://localhost:8080/"
        },
        "id": "aMX2iFRcpX-X",
        "outputId": "01369a80-1202-48cb-892b-6055eacf6ead"
      },
      "source": [
        "print(up_index); print(down_index); print(unchanged_index)"
      ],
      "execution_count": 30,
      "outputs": [
        {
          "output_type": "stream",
          "text": [
            "[8, 9, 10, 12, 14, 16, 33, 51, 52, 54, 56, 57, 58, 91, 92, 93, 94, 95, 96, 97, 98, 99, 100, 101, 102, 103, 104, 105, 106, 107, 183, 191, 193, 195, 199, 201, 203, 205, 207]\n",
            "[19, 23, 24, 45, 46, 63, 64, 65, 66, 67, 68, 69, 70, 71, 78, 83, 117, 118, 119, 120, 121, 122, 125, 126, 127, 212, 213, 214, 216, 217]\n",
            "[0, 1, 2, 3, 4, 5, 6, 7, 11, 13, 15, 17, 18, 20, 21, 22, 25, 26, 27, 28, 29, 30, 31, 32, 34, 35, 36, 37, 38, 39, 40, 41, 42, 43, 44, 47, 48, 49, 50, 53, 55, 59, 60, 61, 62, 72, 73, 74, 75, 76, 77, 79, 80, 81, 82, 84, 85, 86, 87, 88, 89, 90, 108, 109, 110, 111, 112, 113, 114, 115, 116, 123, 124, 128, 129, 130, 131, 132, 133, 134, 135, 136, 137, 138, 139, 140, 141, 142, 143, 144, 145, 146, 147, 148, 149, 150, 151, 152, 153, 154, 155, 156, 157, 158, 159, 160, 161, 162, 163, 164, 165, 166, 167, 168, 169, 170, 171, 172, 173, 174, 175, 176, 177, 178, 179, 180, 181, 182, 184, 185, 186, 187, 188, 189, 190, 192, 194, 196, 197, 198, 200, 202, 204, 206, 208, 209, 210, 211, 215, 218, 219, 220, 221]\n"
          ],
          "name": "stdout"
        }
      ]
    },
    {
      "cell_type": "code",
      "metadata": {
        "colab": {
          "base_uri": "https://localhost:8080/",
          "height": 0
        },
        "id": "ZyIyZb-Fpu5T",
        "outputId": "24815ef0-8ed3-4187-8cfc-5c4945513dad"
      },
      "source": [
        "'''\n",
        "# import pickle\n",
        "\n",
        "FOMC_pickle = [0] * 222 # list(range(0,222))\n",
        "FOMC_pickle_2 = [0] * 222\n",
        "\n",
        "for i in range(0,222):\n",
        "    name = str(i+1)+'.txt'    \n",
        "    FOMC_pickle[i] = pickle.load(open(name, 'rb'))\n",
        "    FOMC_pickle_2[i] = ' '.join(FOMC_pickle[i])\n",
        "'''"
      ],
      "execution_count": 31,
      "outputs": [
        {
          "output_type": "execute_result",
          "data": {
            "application/vnd.google.colaboratory.intrinsic+json": {
              "type": "string"
            },
            "text/plain": [
              "\"\\n# import pickle\\n\\nFOMC_pickle = [0] * 222 # list(range(0,222))\\nFOMC_pickle_2 = [0] * 222\\n\\nfor i in range(0,222):\\n    name = str(i+1)+'.txt'    \\n    FOMC_pickle[i] = pickle.load(open(name, 'rb'))\\n    FOMC_pickle_2[i] = ' '.join(FOMC_pickle[i])\\n\""
            ]
          },
          "metadata": {
            "tags": []
          },
          "execution_count": 31
        }
      ]
    },
    {
      "cell_type": "code",
      "metadata": {
        "colab": {
          "base_uri": "https://localhost:8080/"
        },
        "id": "8rwvQGr5sHyK",
        "outputId": "b0445d1e-6640-4e1c-e124-bb94870a8217"
      },
      "source": [
        "print('8'+' 9')"
      ],
      "execution_count": 32,
      "outputs": [
        {
          "output_type": "stream",
          "text": [
            "8 9\n"
          ],
          "name": "stdout"
        }
      ]
    },
    {
      "cell_type": "code",
      "metadata": {
        "colab": {
          "base_uri": "https://localhost:8080/"
        },
        "id": "h08x7uXY1xaX",
        "outputId": "81326cb9-f7e5-4b47-e78b-a17753ec2089"
      },
      "source": [
        "# Joining with empty separator\n",
        "list1 = ['g','e','e','k', 's'] \n",
        "print(\"\".join(list1))"
      ],
      "execution_count": 33,
      "outputs": [
        {
          "output_type": "stream",
          "text": [
            "geeks\n"
          ],
          "name": "stdout"
        }
      ]
    },
    {
      "cell_type": "code",
      "metadata": {
        "colab": {
          "base_uri": "https://localhost:8080/"
        },
        "id": "MswJISmuADbq",
        "outputId": "0196e805-71f3-429a-efff-7730b9d9583b"
      },
      "source": [
        "print(len(up_index)); print(len(down_index)); print(len(unchanged_index))"
      ],
      "execution_count": 34,
      "outputs": [
        {
          "output_type": "stream",
          "text": [
            "39\n",
            "30\n",
            "153\n"
          ],
          "name": "stdout"
        }
      ]
    },
    {
      "cell_type": "code",
      "metadata": {
        "colab": {
          "base_uri": "https://localhost:8080/"
        },
        "id": "6XsHdh6eJLCA",
        "outputId": "13dde3e7-5850-4451-9d2d-24d27b969a7d"
      },
      "source": [
        "FOMC_pickle_up = [0] * len(up_index)\n",
        "\n",
        "print(FOMC_pickle_up)"
      ],
      "execution_count": 35,
      "outputs": [
        {
          "output_type": "stream",
          "text": [
            "[0, 0, 0, 0, 0, 0, 0, 0, 0, 0, 0, 0, 0, 0, 0, 0, 0, 0, 0, 0, 0, 0, 0, 0, 0, 0, 0, 0, 0, 0, 0, 0, 0, 0, 0, 0, 0, 0, 0]\n"
          ],
          "name": "stdout"
        }
      ]
    },
    {
      "cell_type": "code",
      "metadata": {
        "colab": {
          "base_uri": "https://localhost:8080/"
        },
        "id": "vuGr-vBSQJ_3",
        "outputId": "1fe2423c-5fd3-4fdc-ff11-5d8f1ec79dfc"
      },
      "source": [
        "FOMC_pickle_up = [0] * len(up_index)\n",
        "\n",
        "print(FOMC_pickle_up)\n",
        "\n",
        "for i in range(0, len(up_index)):\n",
        "  k = up_index[i]\n",
        "  FOMC_pickle_up[i] = FOMC_pickle_2[int(k)]"
      ],
      "execution_count": 36,
      "outputs": [
        {
          "output_type": "stream",
          "text": [
            "[0, 0, 0, 0, 0, 0, 0, 0, 0, 0, 0, 0, 0, 0, 0, 0, 0, 0, 0, 0, 0, 0, 0, 0, 0, 0, 0, 0, 0, 0, 0, 0, 0, 0, 0, 0, 0, 0, 0]\n"
          ],
          "name": "stdout"
        }
      ]
    },
    {
      "cell_type": "code",
      "metadata": {
        "id": "p3-y03mLH7qS"
      },
      "source": [
        "FOMC_pickle_down = [0] * len(down_index)\n",
        "\n",
        "for i in range(0, len(down_index)):\n",
        "  k = down_index[i]\n",
        "  FOMC_pickle_down[i] = FOMC_pickle_2[k]"
      ],
      "execution_count": 37,
      "outputs": []
    },
    {
      "cell_type": "code",
      "metadata": {
        "id": "zlxAErIsPOwl"
      },
      "source": [
        "FOMC_pickle_unchanged = [0] * len(unchanged_index)\n",
        "\n",
        "for i in range(0, len(unchanged_index)):\n",
        "  k = unchanged_index[i]\n",
        "  FOMC_pickle_unchanged[i] = FOMC_pickle_2[int(k)]"
      ],
      "execution_count": 38,
      "outputs": []
    },
    {
      "cell_type": "code",
      "metadata": {
        "colab": {
          "base_uri": "https://localhost:8080/"
        },
        "id": "lPS6GO7RKdPI",
        "outputId": "c5eab3fd-0aaf-4cb9-cbf6-cb43d7742543"
      },
      "source": [
        "print(FOMC_pickle_up[0])"
      ],
      "execution_count": 39,
      "outputs": [
        {
          "output_type": "stream",
          "text": [
            "inform review meet indic econom activ record strong advanc close month limit data avail product employ suggest appreci gain earli week year hous start strengthen substanti fourth quarter last year busi fix invest regist sharp rise increas broad index consum produc price exclud food energi compon somewhat larger recent month earlier price number commod turn assess januari labor market data complic statist revis weather relat report problem varieti indic point convincingli strengthen demand labor total nonfarm payrol employ post small gain januari sizabl decemb increas manufactur employ rose fourth consecut month gain concentr motor vehicl construct payrol edg evid reflect advers effect sever winter weather total number job servic industri unchang januari inclement weather appar held employ segment sector well averag workweek product nonsupervisori worker rose januari highest level almost five year manufactur averag workweek remain post world war ii high third consecut month civilian unemploy rate calcul new basi percent januari industri product increas appreci decemb avail inform suggest consider rise januari decemb advanc manufactur led motor vehicl comput equip industri sizabl increas materi construct suppli also record hand output consum good motor vehicl sluggish product aircraft defens space equip continu shrink total util manufactur capac rose decemb reach rel high level judg histor experi consum spend measur real person consumpt expenditur post anoth solid increas fourth quarter strong sale motor vehicl januari suggest continu buoyanc consum demand fourth quarter real outlay motor vehicl surg spend durabl good notabl furnitur applianc household equip regist larg gain contrast real outlay nondur good servic rose moder hous start jump decemb singl famili multifamili start share advanc whole hous start highest annual total four year sale new home sharpli novemb sale exist home end year highest monthli level twenti five year histori seri real busi fix invest record larg increas fourth quarter busi spend equip notabl inform process equip sharpli seventh straight quarter strength evid recent order nondefens capit good point gain shipment good earli outlay nonresidenti structur fourth quarter post largest quarterli rise six year increas spread across broad array categori offic build construct permit continu rise fourth quarter suggest growth invest nonresidenti structur near term busi inventori remain gener well align sale novemb recent month complet data avail manufactur inventori stock fell decemb edg lower novemb brisk gain shipment month ratio stock shipment fell level alreadi low histor standard wholesal level inventori rose moder novemb littl chang preced two month inventori sale ratio sector chang littl sinc may retail inventori expand substanti novemb third straight month buildup stock might anticip robust holiday sale retail busi particularli gener merchandis store increas coincid weak sale retail sector whole inventori sale ratio slightli novemb averag nomin merchandis trade deficit octob novemb period averag rate third quarter valu export two month period increas occur larg machineri automot product aircraft higher valu import two month period reflect case earlier greater import consum good automot product machineri trend econom activ major foreign industri countri appear diverg fourth quarter moder growth appear continu canada unit kingdom econom activ seem grow slowli turn japan western germani franc produc price finish good slightli decemb unchang novemb exclud food energi compon produc price edg higher decemb slightli year whole retail level consum price rose modestli novemb decemb energi price declin hold increas overal index item food energi price advanc two month slightli faster pace seen previou month year whole increas hourli compens privat industri worker increas fourth quarter pace third quarter rise hourli compens littl chang previou year averag hourli earn product nonsupervisori worker rose sharpli januari twelv month end januari increas record previou twelv month meet decemb committe adopt direct call maintain exist degre pressur reserv posit includ presumpt like direct adjust polici intermeet period accordingli direct indic context committe long run object price stabil sustain econom growth give care consider econom financi monetari develop slightli greater slightli lesser reserv restraint might accept intermeet period reserv condit associ direct expect consist modest growth follow month open market oper direct toward maintain exist degre pressur reserv posit throughout intermeet period addit reserv suppli bank system temporari basi around year end meet season movement currenc requir reserv well enlarg demand excess reserv intermeet period whole feder fund rate remain close percent adjust plu season borrow averag somewhat anticip market interest rate declin slightli intermeet period major index stock price post new high market particip saw incom news inflat encourag still view economi rel robust balanc deem firm monetari polici counteract potenti buildup inflat pressur like next month probabl near term foreign exchang market trade weight valu dollar term g currenc chang littl balanc intermeet period dollar fell yen context somewhat higher japanes interest rate renew express concern bilater trade issu dollar appreci slightli rel german mark european currenc background rel strong econom data gener sluggish econom activ continent europ growth broad monetari aggreg though littl faster remain rel slow decemb januari investor evid continu find low yield deposit less appeal stock bond mutual fund although recent inflow bond fund appear slower rate seen year growth estim slightli lower end committe rang privat borrow pick recent month total domest nonfinanci debt expand somewhat faster though still moder pace fourth quarter year nonfinanci debt estim lower half committe monitor rang staff forecast prepar meet suggest econom expans would slow strong pace fourth quarter economi still would advanc rate somewhat excess growth potenti sever winter weather much countri california earthquak would tend distort econom indic earli part year howev taken togeth develop expect materi last effect overal level activ price consum spend time tend outpac growth dispos incom project increas rate line incom busi fix invest expect deceler gradual rapid rate reflect diminish effect earlier pickup output growth slower growth corpor cash flow less rapid declin cost capit homebuild activ driven greatli improv afford hous increas confid employ prospect anticip continu rel brisk pace much year export project strengthen somewhat bolster pickup foreign econom growth fiscal restraint expect exert reduc drag spend light limit margin slack labor product market anticip prevail forecast horizon ongo expans project associ slight reduct core rate inflat committe discuss current prospect econom develop member comment economi enter new year appreci forward momentum expans like sustain year ahead pace somewhat economi long run potenti rapid rate econom growth indic fourth quarter clearli could maintain much recent impetu expans stem surg expenditur hous busi equip consum durabl spend reach high level relat underli demand pace addit increas undoubtedli would moder cours still econom expans seem consider momentum larg consequ diminish balanc sheet constraint gener favor financi condit spur highli accommod monetari polici consequ number member express view risk upsid moder growth forecast context low decreas slack economi littl progress would made toward price stabil distinct risk higher inflat point monetari polici adjust broad measur inflat whole suggest chang inflat trend member note number commod price turn recent month refer still scatter increas anecdot report busi firm pay slightli higher price variou materi purchas use product process keep practic meet committe establish long run rang growth money debt aggreg committe member feder reserv bank presid current serv member prepar project econom activ rate unemploy inflat central tendenc forecast point somewhat faster econom growth year current estim anticip rate econom expans expect foster limit drop rate unemploy fourth quarter year slack product resourc expect diminish quit low level price cost pressur unlik abat significantli inde price increas could exceed inflat held favor develop energi price measur fourth quarter fourth quarter forecast growth real gdp central tendenc percent full rang percent project civilian rate unemploy fourth quarter rang percent calcul basi new survey recent introduc bureau labor statist cpi central tendenc forecast period fourth quarter fourth quarter center increas percent within rang percent nomin gdp forecast cluster rang percent year committe review factor underli recent develop member observ gener favor financi condit provid backdrop conduc robust expans busi activ much recent strengthen econom growth gener increas spend interest sensit sector economi hous respons rel low interest rate gener buoyant equiti market readier avail financ lend institut strengthen financi condit busi household also cite factor tend boost econom activ balanc sheet restructur activ appear slacken markedli balanc sheet adjust probabl still made latter seem exert much less restraint willing busi especi household spend incur new debt financ grow expenditur report develop across nation member comment widespread indic improv econom activ includ strengthen region earlier character stagnant busi condit area continu affect advers special factor especi spend cutback defens aerospac industri california notabl exampl rang indic suggest california economi might stabil albeit depress level extend period declin activ mirror develop busi sentiment character gener optimist around nation busi execut remain cautiou hire practic expans busi activ foster sizabl overal gain employ even area major busi concern reduc workforc larg firm previous frozen reduc payrol report hire addit worker turn prospect develop key sector economi member anticip expans consum expenditur would well maintain though growth spend probabl would moder pace line gain dispos incom avail data retail sale sinc holiday period still limit anecdot report point continu momentum sever part countri winter storm hinder sale number area accord retail contact advers effect like temporari event rapid rate growth sale automobil consum durabl sustain alreadi high consum debt ratio would inhibit factor note connect consum debt becom concentr cours recent year among consum group like borrow help financ spend result abil consum incur addit indebted could diminish higher tax confront household also cite neg factor outlook consum sector balanc howev prospect consum spend clearli free uncertainti mark improv consum confid favor financi condit would provid set conduc sustain moder growth consum expenditur improv consum sentiment togeth avail rel low cost financ foster strong growth hous construct close month adjust season weather condit anecdot report mani area suggest continu robust perform sector economi earli week year strength hous activ induc increas cost lumber build materi shortag skill construct worker report area despit develop price new home appear point signific upward pressur look ahead hous construct alreadi high level gain cours expect substanti record recent quarter busi fix invest like sustain continu effort modern product facil order achiev effici oper highli competit domest world market gain invest concentr expenditur equip new order point brisk growth month ahead increas expenditur like moder time time grow econom activ associ declin commerci industri vacanc rate least part countri suggest nonresidenti build construct offic structur would post sizabl increas year rebuild activ follow earthquak california would stimul engin construct lo angel area quarter ahead fiscal polici foreign trade exert retard effect economi respons economi fiscal restraint outlook export market remain subject substanti uncertainti fiscal polici trade deficit expect point less neg factor perform economi regard outlook fiscal polici downtrend defens spend project moder contribut smaller net declin overal feder govern expenditur good servic note widespread polit support effort curtail feder govern deficit could expect continu contain new feder spend initi regard outlook export accommod fiscal monetari polici abroad expect foster gradual improv rate econom growth major foreign industri countri benefici effect demand countri good servic one member also comment nafta alreadi seem favor effect export mexico one sector economi view sourc particular uncertainti outlook inventori busi firm continu maintain tight control inventori gener latter quit low level relat sale inde anecdot report inventori shortfal result loss sale recent month lean inventori level context diminish slack labor product market rais concern potenti increas capac pressur strong demand persist would tend deplet exist inventori lead effort rebuild increas thu far sign develop signific increas deliveri lead time cost good purchas busi firm past trigger substanti inventori buildup howev ampl preced histori busi cycl expans effort accumul larg inventori period strong final demand alreadi exert inflationari pressur economi member gener express concern buildup inflationari pressur year ahead especi current view accommod monetari polici maintain number member emphas even substanti slow anticip rate econom expans rapid growth fourth quarter overal margin slack labor product market alreadi reduc fairli modest level would shrink quarter ahead clear possibl variou imbal ad inflat would emerg absenc monetari tighten action continu upward impetu food price result advers weather condit likelihood energi price would declin might fact turn environ somewhat stronger worldwid demand energi product could add overal price pressur member acknowledg broad measur price wage display mix pattern recent month whole yet point clear chang inflat trend howev indic disquiet one exampl grow though still limit number anecdot report shortag skill worker part countri occup notabl construct moreov report rise price product purchas busi firm use product process turn success effort busi rais price order pass higher cost improv profit margin gener mani commod price increas past sever week posit side competit pressur remain intens mani market augment market numer product competit foreign produc member also comment tradeoff econom growth inflat would improv year ahead extent credibl system anti inflationari polici maintain keep requir full employ balanc growth act humphrey hawkin act committe meet review rang growth monetari debt aggreg establish tent basi meet juli tent rang includ expans percent percent measur fourth quarter fourth quarter monitor rang growth total domest nonfinanci debt set provision percent rang unchang committe set latter adjust take account ongo increas veloc committe discuss rang tend focu member express prefer affirm rang establish provision basi juli one favor adopt provision monitor rang nonfinanci debt member prefer lower rang mani member comment uncertainti surround establish rang consist committe goal economi note varieti develop alter histor relationship monetari aggreg broad measur econom perform past sever year result uncertainti impli committe need retain flexibl approach behavior monetari aggreg relat rang includ need assess broad array indic gaug implic monetari growth develop nonetheless member conclud best could evalu evolv financi condit point monetari growth within tent rang would like promot committe object sustain econom expans subdu inflat grown rate percentag point lower bound rang committe contempl retain accord staff analysi prepar meet somewhat faster growth aggreg could expect nomin gdp also expect stronger indic central tendenc member forecast veloc would continu rise appreci faster rate histor relationship would suggest assess assum household would continu redirect save type account higher yield invest especi bond stock mutual fund howev redeploy fund moder year extent investor alreadi accomplish consider portion desir portfolio realloc light possibl chang price stock bond includ drop bond price recent month would underlin risk hold instrument moreov depositori institut strengthen capit posit markedli like compet aggress especi type deposit effort maintain increas role financ expand econom activ develop implic monetari growth could forecast confid member believ rang consider would probabl suffici wide accommod growth rate varieti like veloc scenario exampl factor tend depress growth broad aggreg relat incom abat expect year growth would near lower bound committe rang altern behavior aggreg move closer earlier pattern growth upper portion rang would foster econom perform line member forecast perspect longer time horizon mani member note provision rang essenti level could well prove consist sustain noninflationari econom expans conclus assum histor relationship money growth expans broad measur econom perform would restor point absenc develop emerg new reason stabl relationship committe would continu place diminish relianc monetari aggreg formul monetari polici regard rang nonfinanci debt member anticip growth year would remain within contempl rang staff analysi suggest feder borrow compon would decreas result ongo effect deficit reduct measur enact rise tax receipt stem econom growth time borrow nonfeder sector strengthen backdrop comfort financi posit expect pickup gdp expans one view howev somewhat lower rang desir nonfinanci debt light shift busi prefer away debt toward equiti debt veloc could increas slower growth debt would consist committe object howev member could accept higher rang favor member conclus committe discuss member indic favor could accept rang committe establish tent basi meet juli keep committe usual procedur humphrey hawkin act rang would review midyear sooner deem necessari light behavior aggreg interim econom financi develop committe approv follow paragraph inclus domest polici direct feder open market committe seek monetari financi condit foster price stabil promot sustain growth output further object committe meet establish rang growth percent percent respect measur fourth quarter fourth quarter committe anticip develop contribut unusu veloc increas could persist year money growth within rang would consist broad polici object monitor rang growth total domest nonfinanci debt set percent year behavior monetari aggreg continu evalu light progress toward price level stabil movement veloc develop economi financi market vote action messr greenspan mcdonough broaddu forrest jordan kelley lawar lindsey parri ms phillip vote action none absent vote messr angel mullin committe discuss polici intermeet period ahead member favor adjust toward less accommod polici stanc though view differ extent regard amount adjust current polici postur effect sinc late summer highli stimul evidenc exampl low even slightli neg real short term interest rate view least member rel rapid growth extend period narrow measur money reserv polici appropri period variou develop tend inhibit expans includ widespread effort repair strain balanc sheet varieti busi restructur activ tend depress confid spend recent consider progress made household busi decreas debt servic burden much strengthen capit posit lend institut provid financi basi context low interest rate growth demand product capac could gener inflat pressur situat member agre monetari polici adjust toward neutral stanc would encourag sustain econom growth without buildup inflationari imbal member recogn time action need preclud necess vigor disrupt polici move later inflationari pressur allow intensifi histori past cyclic upsw demonstr inflationari consequ advers effect econom activ delay anti inflat polici action cours committe discuss number member endors polici move would involv slight adjust toward less accommod degre reserv pressur member recogn evolv econom condit might well justifi somewhat greater polici adjust believ howev even slight move time like particularli strong impact financi market would first polici chang long hiatu inde first tighten action five year market effect might amplifi contempl decis author chairman announc polici action discuss circumst member felt somewhat greater polici adjust would incur unaccept risk disloc repercuss financi market rel small move would readili accomplish purpos signal committe anti inflat resolv togeth expect action help temper avert increas inflat expect specul develop financi market member indic prefer somewhat greater firm action would move monetari polici closer desir neutral stanc view recent develop economi demonstr monetari polici much accommod slow gradual tighten move risk allow inflat pressur build decis polici move junctur would fact reduc uncertainti fewer discret action would requir would pronounc desir effect curb inflationari sentiment thu minim upward pressur longer term interest rate time result would polici stanc consist sustain econom expans progress toward price stabil discuss member indic could accept propos slight polici adjust point mani observ addit firm probabl would desir later member see unusu likelihood polici action would need intermeet period committe therefor decid retain unbias intermeet instruct direct connect understood committe would prepar review polici stanc take action warrant intermeet develop telephon confer period ahead meet committe member discuss agre propos chairman announc committe short term polici decis promptli purpos announc would departur past committe practic avoid misinterpret committe action purpos would first tighten polici action long time like attract consider attent committe intend announc set preced impli commit regard announc decis futur matter would review along issu relat disclosur committe inform later meet conclus committe discuss member indic could support direct call slight increas degre pressur reserv posit includ presumpt like direct adjust polici intermeet period accordingli committe decid context long run object price stabil sustain econom growth give care consider econom financi monetari develop slightli greater slightli lesser reserv restraint might accept intermeet period reserv condit contempl meet expect consist moder growth first half conclus meet feder reserv bank new york author direct instruct otherwis committe execut transact system account accord follow domest polici direct inform review meet indic strong advanc econom activ close month limit data avail earli week year suggest appreci gain januari labor market data complic statist revis weather relat report problem howev varieti indic point convincingli continu expans employ industri product increas sharpli fourth quarter appear risen consider januari consum spend hous activ post solid gain late strong sale motor vehicl januari suggest continu buoyanc consum demand trend contract order point sizabl gain busi fix invest averag nomin merchandis trade deficit octob novemb averag rate third quarter latter part increas broad index consum produc price exclud food energi compon somewhat larger earlier year price number commod also turn recent market interest rate declin slightli sinc committe meet decemb foreign exchang market trade weight valu dollar term g currenc unchang intermeet period growth rel slow decemb januari fourth quarter fourth quarter estim grown rate slightli lower end committe rang year privat borrow pick recent month total domest nonfinanci debt expand moder rate fourth quarter year nonfinanci debt estim increas rate lower half committe monitor rang feder open market committe seek monetari financi condit foster price stabil promot sustain growth output further object committe meet establish rang growth percent percent respect measur fourth quarter fourth quarter committe anticip develop contribut unusu veloc increas could persist year money growth within rang would consist broad polici object monitor rang growth total domest nonfinanci debt set percent year behavior monetari aggreg continu evalu light progress toward price level stabil movement veloc develop economi financi market implement polici immedi futur committe seek increas slightli exist degre pressur reserv posit context committe long run object price stabil sustain econom growth give care consider econom financi monetari develop slightli greater reserv restraint slightli lesser reserv restraint might accept intermeet period contempl reserv condit expect consist moder growth first half\n"
          ],
          "name": "stdout"
        }
      ]
    },
    {
      "cell_type": "code",
      "metadata": {
        "id": "-iI9satLKpwU"
      },
      "source": [
        "FOMC_pickle_up_integrated = ' '.join(FOMC_pickle_up)"
      ],
      "execution_count": 40,
      "outputs": []
    },
    {
      "cell_type": "code",
      "metadata": {
        "colab": {
          "base_uri": "https://localhost:8080/"
        },
        "id": "sOq4Ur4QKuPs",
        "outputId": "427b5095-5588-4828-ca84-3922a1d6c0fd"
      },
      "source": [
        "print(len(FOMC_pickle_up[0])); print(len(FOMC_pickle_up_integrated))"
      ],
      "execution_count": 41,
      "outputs": [
        {
          "output_type": "stream",
          "text": [
            "24588\n",
            "660802\n"
          ],
          "name": "stdout"
        }
      ]
    },
    {
      "cell_type": "markdown",
      "metadata": {
        "id": "qtwIxRWTxWET"
      },
      "source": [
        "## 2-3 **Up**"
      ]
    },
    {
      "cell_type": "markdown",
      "metadata": {
        "id": "AeyIiejHxc2E"
      },
      "source": [
        "### 2-3-1 *Word2Vec*"
      ]
    },
    {
      "cell_type": "code",
      "metadata": {
        "id": "rshWLqk2pvQW"
      },
      "source": [
        "from gensim.models import word2vec\n",
        "import nltk\n",
        "\n",
        "# tokenize sentences in corpus\n",
        "wpt = nltk.WordPunctTokenizer()\n",
        "tokenized_corpus = [wpt.tokenize(document) for document in FOMC_pickle_up]\n",
        "\n",
        "# Set values for various parameters\n",
        "feature_size = 100    # Word vector dimensionality  \n",
        "window_context = 30          # Context window size                                                                                    \n",
        "min_word_count = 2  # Minimum word count\n",
        "# min_word_count = 10 for all corpus    \n",
        "sample = 1e-3   # Downsample setting for frequent words\n",
        "\n",
        "w2v_model = word2vec.Word2Vec(tokenized_corpus, size=feature_size, \n",
        "                          window=window_context, min_count=min_word_count,\n",
        "                          sample=sample, iter=50)"
      ],
      "execution_count": null,
      "outputs": []
    },
    {
      "cell_type": "code",
      "metadata": {
        "colab": {
          "base_uri": "https://localhost:8080/"
        },
        "id": "S5FVygqSL7L7",
        "outputId": "608ce45b-e464-4754-eb4d-c7ab21ac577c"
      },
      "source": [
        "# view similar words based on gensim's model\n",
        "similar_words = {search_term: [item[0] for item in w2v_model.wv.most_similar([search_term], topn=20)] # topn=5\n",
        "                  for search_term in ['inflat', 'price', 'growth', 'unemploy', 'labor', 'interest', 'money', 'fund', 'exchang']}\n",
        "similar_words"
      ],
      "execution_count": null,
      "outputs": [
        {
          "output_type": "execute_result",
          "data": {
            "text/plain": [
              "{'exchang': ['weight',\n",
              "  'valu',\n",
              "  'dollar',\n",
              "  'currenc',\n",
              "  'depreci',\n",
              "  'g',\n",
              "  'came',\n",
              "  'swap',\n",
              "  'worri',\n",
              "  'withdraw',\n",
              "  'vi',\n",
              "  'british',\n",
              "  'suppress',\n",
              "  'foreign',\n",
              "  'brexit',\n",
              "  'ab',\n",
              "  'venezuelan',\n",
              "  'interv',\n",
              "  'inter',\n",
              "  'versu'],\n",
              " 'fund': ['target',\n",
              "  'hike',\n",
              "  'quot',\n",
              "  'certainti',\n",
              "  'certif',\n",
              "  'unsecur',\n",
              "  'repo',\n",
              "  'therebi',\n",
              "  'overnight',\n",
              "  'almost',\n",
              "  'rrp',\n",
              "  'impli',\n",
              "  'oi',\n",
              "  'determin',\n",
              "  'size',\n",
              "  'likelihood',\n",
              "  'realiz',\n",
              "  'cp',\n",
              "  'accompani',\n",
              "  'leav'],\n",
              " 'growth': ['expans',\n",
              "  'expand',\n",
              "  'pace',\n",
              "  'flow',\n",
              "  'cutback',\n",
              "  'perform',\n",
              "  'deceler',\n",
              "  'advanc',\n",
              "  'favor',\n",
              "  'grew',\n",
              "  'boost',\n",
              "  'diminish',\n",
              "  'acceler',\n",
              "  'restraint',\n",
              "  'center',\n",
              "  'undermin',\n",
              "  'bounc',\n",
              "  'pickup',\n",
              "  'runoff',\n",
              "  'predict'],\n",
              " 'inflat': ['core',\n",
              "  'read',\n",
              "  'anchor',\n",
              "  'energi',\n",
              "  'commod',\n",
              "  'compens',\n",
              "  'headlin',\n",
              "  'deterior',\n",
              "  'dual',\n",
              "  'pass',\n",
              "  'price',\n",
              "  'passthrough',\n",
              "  'discern',\n",
              "  'resourc',\n",
              "  'nevertheless',\n",
              "  'along',\n",
              "  'likelihood',\n",
              "  'base',\n",
              "  'subsid',\n",
              "  'cpi'],\n",
              " 'interest': ['wake',\n",
              "  'lift',\n",
              "  'intermedi',\n",
              "  'save',\n",
              "  'wealth',\n",
              "  'hard',\n",
              "  'prolong',\n",
              "  'better',\n",
              "  'retrac',\n",
              "  'pent',\n",
              "  'consider',\n",
              "  'ratchet',\n",
              "  'headwind',\n",
              "  'passag',\n",
              "  'mortgag',\n",
              "  'durabl',\n",
              "  'delinqu',\n",
              "  'spread',\n",
              "  'increasingli',\n",
              "  'asset'],\n",
              " 'labor': ['tight',\n",
              "  'manifest',\n",
              "  'wage',\n",
              "  'job',\n",
              "  'underutil',\n",
              "  'worker',\n",
              "  'fast',\n",
              "  'monthli',\n",
              "  'unemploy',\n",
              "  'employ',\n",
              "  'enough',\n",
              "  'burgeon',\n",
              "  'link',\n",
              "  'entrant',\n",
              "  'dimens',\n",
              "  'demograph',\n",
              "  'arrang',\n",
              "  'fill',\n",
              "  'forthcom',\n",
              "  'skill'],\n",
              " 'money': ['deposit',\n",
              "  'relianc',\n",
              "  'denomin',\n",
              "  'nondeposit',\n",
              "  'mutual',\n",
              "  'instrument',\n",
              "  'oi',\n",
              "  'liquid',\n",
              "  'relationship',\n",
              "  'opportun',\n",
              "  'repo',\n",
              "  'bill',\n",
              "  'london',\n",
              "  'interbank',\n",
              "  'runoff',\n",
              "  'certif',\n",
              "  'eurodollar',\n",
              "  'depositor',\n",
              "  'outstand',\n",
              "  'overnight'],\n",
              " 'price': ['produc',\n",
              "  'tobacco',\n",
              "  'pass',\n",
              "  'food',\n",
              "  'passthrough',\n",
              "  'welcom',\n",
              "  'commod',\n",
              "  'core',\n",
              "  'non',\n",
              "  'finish',\n",
              "  'worldwid',\n",
              "  'crude',\n",
              "  'headlin',\n",
              "  'sharp',\n",
              "  'inflat',\n",
              "  'energi',\n",
              "  'steepli',\n",
              "  'america',\n",
              "  'compens',\n",
              "  'gasolin'],\n",
              " 'unemploy': ['forc',\n",
              "  'african',\n",
              "  'hispan',\n",
              "  'underutil',\n",
              "  'workweek',\n",
              "  'american',\n",
              "  'jobless',\n",
              "  'job',\n",
              "  'hour',\n",
              "  'white',\n",
              "  'entrant',\n",
              "  'civilian',\n",
              "  'worker',\n",
              "  'popul',\n",
              "  'payrol',\n",
              "  'lowest',\n",
              "  'men',\n",
              "  'monthli',\n",
              "  'demograph',\n",
              "  'share']}"
            ]
          },
          "metadata": {
            "tags": []
          },
          "execution_count": 48
        }
      ]
    },
    {
      "cell_type": "code",
      "metadata": {
        "id": "LuFNJDAMqOM_"
      },
      "source": [
        "similar_words_2 = {\n",
        " 'exchang': ['weight', 'dollar', 'valu', 'currenc', 'depreci'],\n",
        " 'fund': ['target', 'quot', 'hike', 'unsecur', 'overnight'],\n",
        " 'growth': ['expans', 'expand', 'pace', 'flow', 'deceler'],\n",
        " 'inflat': ['read', 'energi', 'anchor'],\n",
        " 'interest': ['wake', 'intermedi', 'lift', 'prolong', 'save'],\n",
        " 'labor': ['wage', 'manifest', 'job', 'underutil', 'tight'],\n",
        " 'money': ['deposit', 'relianc', 'mutual', 'nondeposit', 'repo'],\n",
        " 'price': ['core', 'food', 'finish', 'produc', 'commod'],\n",
        " 'unemploy': ['forc', 'african', 'hispan', 'jobless']}"
      ],
      "execution_count": null,
      "outputs": []
    },
    {
      "cell_type": "code",
      "metadata": {
        "id": "eiVNJvZuBYSt"
      },
      "source": [
        "'unemploy': ['forc', 'african', 'hispan', 'jobless', 'american', 'popul', 'hour', 'men', 'job', 'civilian', 'workweek', 'white', 'demograph', 'underutil', 'claim']}"
      ],
      "execution_count": null,
      "outputs": []
    },
    {
      "cell_type": "code",
      "metadata": {
        "id": "QcNyI2_3IPdN"
      },
      "source": [
        "'unemploy': ['forc', 'african', 'hispan', 'workweek', 'american', 'hour', 'underutil', 'men', 'job', 'white', 'jobless', 'claim', 'worker', 'civilian', 'popul', 'monthli', 'lowest', 'payrol', 'war', 'ii']"
      ],
      "execution_count": null,
      "outputs": []
    },
    {
      "cell_type": "markdown",
      "metadata": {
        "id": "AcjvuQJ3wJe0"
      },
      "source": [
        "### 2-3-2 *Visualizing word embeddings*"
      ]
    },
    {
      "cell_type": "code",
      "metadata": {
        "colab": {
          "base_uri": "https://localhost:8080/",
          "height": 842
        },
        "id": "01mULAhqqOkq",
        "outputId": "eec05f94-e017-4a07-c443-d2008e288c38"
      },
      "source": [
        "import matplotlib.pyplot as plt\n",
        "import numpy as np\n",
        "from sklearn.manifold import TSNE\n",
        "\n",
        "words = sum([[k] + v for k, v in similar_words_2.items()], [])\n",
        "wvs = w2v_model.wv[words]\n",
        "\n",
        "tsne = TSNE(n_components=2, random_state=0, n_iter=10000, perplexity=2)\n",
        "np.set_printoptions(suppress=True)\n",
        "T = tsne.fit_transform(wvs)\n",
        "labels = words\n",
        "\n",
        "plt.figure(figsize=(22, 15))\n",
        "plt.scatter(T[:, 0], T[:, 1], c='orange', edgecolors='r')\n",
        "for label, x, y in zip(labels, T[:, 0], T[:, 1]):\n",
        "    plt.annotate(label, xy=(x+1, y+1), xytext=(0, 0), textcoords='offset points', fontsize=13.5)"
      ],
      "execution_count": null,
      "outputs": [
        {
          "output_type": "display_data",
          "data": {
            "image/png": "[encoded data removed]",
            "text/plain": [
              "<Figure size 1584x1080 with 1 Axes>"
            ]
          },
          "metadata": {
            "tags": []
          }
        }
      ]
    },
    {
      "cell_type": "markdown",
      "metadata": {
        "id": "-CkEgE7FvMxN"
      },
      "source": [
        "## 2-4 **Down**"
      ]
    },
    {
      "cell_type": "markdown",
      "metadata": {
        "id": "XPen2SM4wOck"
      },
      "source": [
        "### 2-4-1 *Word2Vec*"
      ]
    },
    {
      "cell_type": "code",
      "metadata": {
        "id": "JJdX7pdZqTyU"
      },
      "source": [
        "from gensim.models import word2vec\n",
        "import nltk\n",
        "\n",
        "# tokenize sentences in corpus\n",
        "wpt = nltk.WordPunctTokenizer()\n",
        "tokenized_corpus = [wpt.tokenize(document) for document in FOMC_pickle_down]\n",
        "\n",
        "# Set values for various parameters\n",
        "feature_size = 100    # Word vector dimensionality  \n",
        "window_context = 30          # Context window size                                                                                    \n",
        "min_word_count = 2  # Minimum word count\n",
        "# min_word_count = 10 for all corpus    \n",
        "sample = 1e-3   # Downsample setting for frequent words\n",
        "\n",
        "w2v_model = word2vec.Word2Vec(tokenized_corpus, size=feature_size, \n",
        "                          window=window_context, min_count=min_word_count,\n",
        "                          sample=sample, iter=50)"
      ],
      "execution_count": null,
      "outputs": []
    },
    {
      "cell_type": "code",
      "metadata": {
        "colab": {
          "base_uri": "https://localhost:8080/"
        },
        "id": "2gblVuPNQdEz",
        "outputId": "242bb9f7-906d-4cd3-e1f6-74cbfb2045f1"
      },
      "source": [
        "# view similar words based on gensim's model\n",
        "similar_words = {search_term: [item[0] for item in w2v_model.wv.most_similar([search_term], topn=20)] # topn=5\n",
        "                  for search_term in ['inflat', 'price', 'growth', 'unemploy', 'labor', 'interest', 'money', 'fund', 'exchang']}\n",
        "similar_words"
      ],
      "execution_count": null,
      "outputs": [
        {
          "output_type": "execute_result",
          "data": {
            "text/plain": [
              "{'exchang': ['dollar',\n",
              "  'depreci',\n",
              "  'g',\n",
              "  'currenc',\n",
              "  'foreign',\n",
              "  'valu',\n",
              "  'peso',\n",
              "  'major',\n",
              "  'eb',\n",
              "  'weight',\n",
              "  'concert',\n",
              "  'mexican',\n",
              "  'disappoint',\n",
              "  'equiti',\n",
              "  'diminut',\n",
              "  'brazil',\n",
              "  'exposur',\n",
              "  'risen',\n",
              "  'sovereign',\n",
              "  'franc'],\n",
              " 'fund': ['target',\n",
              "  'effr',\n",
              "  'unsecur',\n",
              "  'overnight',\n",
              "  'libor',\n",
              "  'certif',\n",
              "  'ioer',\n",
              "  'oi',\n",
              "  'cp',\n",
              "  'announc',\n",
              "  'intraday',\n",
              "  'interbank',\n",
              "  'approv',\n",
              "  'london',\n",
              "  'governor',\n",
              "  'accompani',\n",
              "  'swap',\n",
              "  'paper',\n",
              "  'plu',\n",
              "  'surpris'],\n",
              " 'growth': ['expans',\n",
              "  'pace',\n",
              "  'expand',\n",
              "  'gain',\n",
              "  'restraint',\n",
              "  'grew',\n",
              "  'latin',\n",
              "  'digit',\n",
              "  'demonstr',\n",
              "  'midpoint',\n",
              "  'gradual',\n",
              "  'economi',\n",
              "  'recoveri',\n",
              "  'america',\n",
              "  'analysi',\n",
              "  'boost',\n",
              "  'slacken',\n",
              "  'canada',\n",
              "  'diminut',\n",
              "  'grown'],\n",
              " 'inflat': ['disinflationari',\n",
              "  'quiescent',\n",
              "  'calcul',\n",
              "  'slack',\n",
              "  'commod',\n",
              "  'read',\n",
              "  'anchor',\n",
              "  'resourc',\n",
              "  'drift',\n",
              "  'core',\n",
              "  'energi',\n",
              "  'firmli',\n",
              "  'pressur',\n",
              "  'headlin',\n",
              "  'expect',\n",
              "  'transitori',\n",
              "  'food',\n",
              "  'underlin',\n",
              "  'pce',\n",
              "  'upward'],\n",
              " 'interest': ['refinanc',\n",
              "  'pent',\n",
              "  'intermedi',\n",
              "  'instrument',\n",
              "  'influenc',\n",
              "  'conservatorship',\n",
              "  'counter',\n",
              "  'exposur',\n",
              "  'mortgag',\n",
              "  'oblig',\n",
              "  'burden',\n",
              "  'satisfact',\n",
              "  'attract',\n",
              "  'currenc',\n",
              "  'absent',\n",
              "  'reset',\n",
              "  'delinqu',\n",
              "  'grow',\n",
              "  'plu',\n",
              "  'imping'],\n",
              " 'labor': ['fill',\n",
              "  'scatter',\n",
              "  'qualifi',\n",
              "  'wage',\n",
              "  'nonwag',\n",
              "  'recruit',\n",
              "  'realiz',\n",
              "  'broaden',\n",
              "  'payrol',\n",
              "  'employ',\n",
              "  'job',\n",
              "  'age',\n",
              "  'subdu',\n",
              "  'publish',\n",
              "  'tight',\n",
              "  'benefit',\n",
              "  'competit',\n",
              "  'abet',\n",
              "  'skill',\n",
              "  'semi'],\n",
              " 'money': ['inflow',\n",
              "  'deposit',\n",
              "  'safeti',\n",
              "  'flight',\n",
              "  'mutual',\n",
              "  'liquid',\n",
              "  'safe',\n",
              "  'instrument',\n",
              "  'thrift',\n",
              "  'bid',\n",
              "  'pro',\n",
              "  'shift',\n",
              "  'opportun',\n",
              "  'upper',\n",
              "  'outflow',\n",
              "  'announc',\n",
              "  'tem',\n",
              "  'portfolio',\n",
              "  'share',\n",
              "  'thin'],\n",
              " 'price': ['food',\n",
              "  'headlin',\n",
              "  'commod',\n",
              "  'input',\n",
              "  'pass',\n",
              "  'energi',\n",
              "  'higher',\n",
              "  'upward',\n",
              "  'cost',\n",
              "  'core',\n",
              "  'gasolin',\n",
              "  'finish',\n",
              "  'stage',\n",
              "  'wane',\n",
              "  'slack',\n",
              "  'quiescent',\n",
              "  'sharpli',\n",
              "  'put',\n",
              "  'inflat',\n",
              "  'moreov'],\n",
              " 'unemploy': ['popul',\n",
              "  'african',\n",
              "  'age',\n",
              "  'civilian',\n",
              "  'workweek',\n",
              "  'forc',\n",
              "  'claim',\n",
              "  'hour',\n",
              "  'group',\n",
              "  'steadi',\n",
              "  'hispan',\n",
              "  'white',\n",
              "  'american',\n",
              "  'job',\n",
              "  'averag',\n",
              "  'insur',\n",
              "  'hurrican',\n",
              "  'payrol',\n",
              "  'employ',\n",
              "  'roughli']}"
            ]
          },
          "metadata": {
            "tags": []
          },
          "execution_count": 65
        }
      ]
    },
    {
      "cell_type": "code",
      "metadata": {
        "id": "zS2hBtn-Qg4q"
      },
      "source": [
        "similar_words_2 = {\n",
        " 'exchang': ['dollar', 'g', 'depreci', 'currenc', 'valu'],\n",
        " 'fund': ['target', 'effr', 'overnight', 'certif', 'ioer'],\n",
        " 'growth': ['expans', 'pace', 'expand', 'midpoint', 'gain'],\n",
        " 'inflat': ['disinflationari', 'calcul', 'anchor', 'firmli'],\n",
        " 'interest': ['counter', 'refinanc', 'attract', 'intermedi', 'pent'],\n",
        " 'labor': ['fill', 'wage', 'payrol', 'qualifi', 'evidenc'],\n",
        " 'money': ['inflow', 'deposit', 'safeti', 'mutual', 'flight'],\n",
        " 'price': ['food', 'headlin', 'stage', 'commod', 'pass'],\n",
        " 'unemploy': ['popul', 'african', 'forc', 'workweek', 'civilian']}"
      ],
      "execution_count": null,
      "outputs": []
    },
    {
      "cell_type": "code",
      "metadata": {
        "id": "eldMgSi5DpoV"
      },
      "source": [
        "'unemploy': ['popul', 'african', 'civilian', 'workweek', 'forc', 'age', 'claim', 'group', 'hour', 'hispan', 'hurrican', 'job', 'white', 'steadi', 'insur']}"
      ],
      "execution_count": null,
      "outputs": []
    },
    {
      "cell_type": "code",
      "metadata": {
        "id": "oR-0uALGJ_I8"
      },
      "source": [
        " 'unemploy': ['popul', 'african', 'age', 'civilian', 'workweek', 'forc', 'claim', 'hour', 'group', 'steadi', 'hispan', 'white', 'american', 'job', 'averag', 'insur', 'hurrican', 'payrol', 'employ', 'roughli']}"
      ],
      "execution_count": null,
      "outputs": []
    },
    {
      "cell_type": "markdown",
      "metadata": {
        "id": "44NnbRfWwREa"
      },
      "source": [
        "### 2-4-2 *Visualizing word embeddings*"
      ]
    },
    {
      "cell_type": "code",
      "metadata": {
        "colab": {
          "base_uri": "https://localhost:8080/",
          "height": 842
        },
        "id": "3KwQ6amkQhRS",
        "outputId": "6162ec3c-d850-40d1-e18e-b547d2f7411c"
      },
      "source": [
        "import matplotlib.pyplot as plt\n",
        "import numpy as np\n",
        "from sklearn.manifold import TSNE\n",
        "\n",
        "words = sum([[k] + v for k, v in similar_words_2.items()], [])\n",
        "wvs = w2v_model.wv[words]\n",
        "\n",
        "tsne = TSNE(n_components=2, random_state=0, n_iter=10000, perplexity=2)\n",
        "np.set_printoptions(suppress=True)\n",
        "T = tsne.fit_transform(wvs)\n",
        "labels = words\n",
        "\n",
        "plt.figure(figsize=(22, 15))\n",
        "plt.scatter(T[:, 0], T[:, 1], c='orange', edgecolors='r')\n",
        "for label, x, y in zip(labels, T[:, 0], T[:, 1]):\n",
        "    plt.annotate(label, xy=(x+1, y+1), xytext=(0, 0), textcoords='offset points', fontsize=13.5)"
      ],
      "execution_count": null,
      "outputs": [
        {
          "output_type": "display_data",
          "data": {
            "image/png": "[encoded data removed]",
            "text/plain": [
              "<Figure size 1584x1080 with 1 Axes>"
            ]
          },
          "metadata": {
            "tags": []
          }
        }
      ]
    },
    {
      "cell_type": "markdown",
      "metadata": {
        "id": "y0IUuBMjwZmW"
      },
      "source": [
        "## 2-5 **Unchanged**"
      ]
    },
    {
      "cell_type": "markdown",
      "metadata": {
        "id": "NikSDiHJwehN"
      },
      "source": [
        "### 3-4-1 Word2Vec"
      ]
    },
    {
      "cell_type": "code",
      "metadata": {
        "id": "zJqym9rnQdeF"
      },
      "source": [
        "from gensim.models import word2vec\n",
        "import nltk\n",
        "\n",
        "# tokenize sentences in corpus\n",
        "wpt = nltk.WordPunctTokenizer()\n",
        "tokenized_corpus = [wpt.tokenize(document) for document in FOMC_pickle_unchanged]\n",
        "\n",
        "# Set values for various parameters\n",
        "feature_size = 100    # Word vector dimensionality  \n",
        "window_context = 30          # Context window size                                                                                    \n",
        "min_word_count = 5  # Minimum word count\n",
        "# min_word_count = 10 for all corpus    \n",
        "sample = 1e-3   # Downsample setting for frequent words\n",
        "\n",
        "w2v_model = word2vec.Word2Vec(tokenized_corpus, size=feature_size, \n",
        "                          window=window_context, min_count=min_word_count,\n",
        "                          sample=sample, iter=50)"
      ],
      "execution_count": null,
      "outputs": []
    },
    {
      "cell_type": "code",
      "metadata": {
        "colab": {
          "base_uri": "https://localhost:8080/"
        },
        "id": "g1HAKUL-cjba",
        "outputId": "eec0d490-4606-479f-dd83-719d743915c4"
      },
      "source": [
        "# view similar words based on gensim's model\n",
        "similar_words = {search_term: [item[0] for item in w2v_model.wv.most_similar([search_term], topn=20)] # topn=5\n",
        "                  for search_term in ['inflat', 'price', 'growth', 'unemploy', 'labor', 'interest', 'money', 'fund', 'exchang']}\n",
        "similar_words"
      ],
      "execution_count": null,
      "outputs": [
        {
          "output_type": "execute_result",
          "data": {
            "text/plain": [
              "{'exchang': ['depreci',\n",
              "  'equiti',\n",
              "  'intermedi',\n",
              "  'chair',\n",
              "  'british',\n",
              "  'cap',\n",
              "  'substitut',\n",
              "  'bund',\n",
              "  'appreci',\n",
              "  'benchmark',\n",
              "  'g',\n",
              "  'embed',\n",
              "  'neg',\n",
              "  'day',\n",
              "  'garner',\n",
              "  'sovereign',\n",
              "  'allow',\n",
              "  'currenc',\n",
              "  'machineri',\n",
              "  'larger'],\n",
              " 'fund': ['reserv',\n",
              "  'assign',\n",
              "  'quot',\n",
              "  'aa',\n",
              "  'ioer',\n",
              "  'overnight',\n",
              "  'rrp',\n",
              "  'oi',\n",
              "  'exercis',\n",
              "  'repurchas',\n",
              "  'minim',\n",
              "  'impend',\n",
              "  'accompani',\n",
              "  'paper',\n",
              "  'decis',\n",
              "  'interest',\n",
              "  'swap',\n",
              "  'primari',\n",
              "  'eurodollar',\n",
              "  'repo'],\n",
              " 'growth': ['expans',\n",
              "  'gain',\n",
              "  'expand',\n",
              "  'recoveri',\n",
              "  'pace',\n",
              "  'crise',\n",
              "  'accumul',\n",
              "  'activ',\n",
              "  'drawdown',\n",
              "  'uptrend',\n",
              "  'bounceback',\n",
              "  'perform',\n",
              "  'undoubtedli',\n",
              "  'grow',\n",
              "  'buildup',\n",
              "  'deep',\n",
              "  'grown',\n",
              "  'demand',\n",
              "  'slowdown',\n",
              "  'rebuild'],\n",
              " 'inflat': ['commod',\n",
              "  'disinflationari',\n",
              "  'core',\n",
              "  'anchor',\n",
              "  'disinfl',\n",
              "  'transitori',\n",
              "  'price',\n",
              "  'gasolin',\n",
              "  'wage',\n",
              "  'pass',\n",
              "  'seri',\n",
              "  'expect',\n",
              "  'dissip',\n",
              "  'resourc',\n",
              "  'slack',\n",
              "  'energi',\n",
              "  'stabl',\n",
              "  'predomin',\n",
              "  'would',\n",
              "  'import'],\n",
              " 'interest': ['jumbo',\n",
              "  'yield',\n",
              "  'intermedi',\n",
              "  'came',\n",
              "  'save',\n",
              "  'r',\n",
              "  'premium',\n",
              "  'appetit',\n",
              "  'embed',\n",
              "  'insofar',\n",
              "  'oi',\n",
              "  'unemploy',\n",
              "  'vacanc',\n",
              "  'conform',\n",
              "  'effr',\n",
              "  'wealth',\n",
              "  'instrument',\n",
              "  'opportun',\n",
              "  'counterpart',\n",
              "  'fund'],\n",
              " 'labor': ['manifest',\n",
              "  'wage',\n",
              "  'fill',\n",
              "  'welcom',\n",
              "  'worker',\n",
              "  'whether',\n",
              "  'job',\n",
              "  'employe',\n",
              "  'reconcil',\n",
              "  'innov',\n",
              "  'suffici',\n",
              "  'age',\n",
              "  'shown',\n",
              "  'inflat',\n",
              "  'employ',\n",
              "  'payrol',\n",
              "  'acknowledg',\n",
              "  'yet',\n",
              "  'resourc',\n",
              "  'base'],\n",
              " 'money': ['mutual',\n",
              "  'inflow',\n",
              "  'nonwithheld',\n",
              "  'deposit',\n",
              "  'instrument',\n",
              "  'veloc',\n",
              "  'whose',\n",
              "  'depositori',\n",
              "  'opportun',\n",
              "  'aggreg',\n",
              "  'ran',\n",
              "  'liquid',\n",
              "  'ml',\n",
              "  'mmf',\n",
              "  'safe',\n",
              "  'liabil',\n",
              "  'transfer',\n",
              "  'complianc',\n",
              "  'drawn',\n",
              "  'unwind'],\n",
              " 'price': ['headlin',\n",
              "  'food',\n",
              "  'non',\n",
              "  'item',\n",
              "  'core',\n",
              "  'indirect',\n",
              "  'shelter',\n",
              "  'inflat',\n",
              "  'spot',\n",
              "  'nonfood',\n",
              "  'compens',\n",
              "  'pass',\n",
              "  'check',\n",
              "  'cpi',\n",
              "  'commod',\n",
              "  'crude',\n",
              "  'owner',\n",
              "  'finish',\n",
              "  'string',\n",
              "  'metal'],\n",
              " 'unemploy': ['forc',\n",
              "  'popul',\n",
              "  'age',\n",
              "  'workweek',\n",
              "  'hire',\n",
              "  'jobless',\n",
              "  'delinqu',\n",
              "  'work',\n",
              "  'addendum',\n",
              "  'save',\n",
              "  'lengthi',\n",
              "  'weekli',\n",
              "  'worker',\n",
              "  'job',\n",
              "  'reason',\n",
              "  'suspend',\n",
              "  'manifest',\n",
              "  'interest',\n",
              "  'payrol',\n",
              "  'durat']}"
            ]
          },
          "metadata": {
            "tags": []
          },
          "execution_count": 67
        }
      ]
    },
    {
      "cell_type": "code",
      "metadata": {
        "id": "SH11Vkhrcj0J"
      },
      "source": [
        "similar_words_2 = {\n",
        " 'exchang': ['depreci', 'equiti', 'intermedi', 'power', 'chair'],\n",
        " 'fund': ['assign', 'reserv', 'quot', 'oi', 'aa'],\n",
        " 'growth': ['expans', 'recoveri', 'gain', 'expand', 'activ'],\n",
        " 'inflat': ['commod', 'disinflationari', 'core', 'dissip', 'anchor'],\n",
        " 'interest': ['jumbo', 'yield', 'intermedi', 'oi', 'save'],\n",
        " 'labor': ['wage', 'reconcil', 'fill', 'suffici', 'worker'],\n",
        " 'money': ['inflow', 'deposit', 'mutual', 'depositori', 'nonwithheld'],\n",
        " 'price': ['food', 'headlin', 'non', 'item', 'pass'],\n",
        " 'unemploy': ['forc', 'popul', 'age', 'hire', 'workweek']}"
      ],
      "execution_count": null,
      "outputs": []
    },
    {
      "cell_type": "code",
      "metadata": {
        "id": "5E62s4eIHz-x"
      },
      "source": [
        "'unemploy': ['forc', 'age', 'popul', 'hire', 'workweek', 'jobless', 'weekli', 'fill', 'unus', 'addendum', 'underutil', 'job', 'payrol', 'manifest', 'share']}"
      ],
      "execution_count": null,
      "outputs": []
    },
    {
      "cell_type": "code",
      "metadata": {
        "id": "1hsnu4JHNtCZ"
      },
      "source": [
        " 'unemploy': ['forc', 'popul', 'age', 'workweek', 'hire', 'jobless', 'delinqu', 'work', 'addendum', 'save', 'lengthi', 'weekli', 'worker', 'job', 'reason', 'suspend', 'manifest', 'interest', 'payrol', 'durat']}"
      ],
      "execution_count": null,
      "outputs": []
    },
    {
      "cell_type": "markdown",
      "metadata": {
        "id": "nPxX7JjIwhcg"
      },
      "source": [
        "### 3-4-2 Visualizing word embeddings"
      ]
    },
    {
      "cell_type": "code",
      "metadata": {
        "colab": {
          "base_uri": "https://localhost:8080/",
          "height": 842
        },
        "id": "-TIa8OoockLg",
        "outputId": "c89b2128-490c-46aa-929a-a22165cb05b9"
      },
      "source": [
        "import matplotlib.pyplot as plt\n",
        "import numpy as np\n",
        "from sklearn.manifold import TSNE\n",
        "\n",
        "words = sum([[k] + v for k, v in similar_words_2.items()], [])\n",
        "wvs = w2v_model.wv[words]\n",
        "\n",
        "tsne = TSNE(n_components=2, random_state=0, n_iter=10000, perplexity=2)\n",
        "np.set_printoptions(suppress=True)\n",
        "T = tsne.fit_transform(wvs)\n",
        "labels = words\n",
        "\n",
        "plt.figure(figsize=(22, 15))\n",
        "plt.scatter(T[:, 0], T[:, 1], c='orange', edgecolors='r')\n",
        "for label, x, y in zip(labels, T[:, 0], T[:, 1]):\n",
        "    plt.annotate(label, xy=(x+1, y+1), xytext=(0, 0), textcoords='offset points', fontsize=13.5)"
      ],
      "execution_count": null,
      "outputs": [
        {
          "output_type": "display_data",
          "data": {
            "image/png": "[encoded data removed]",
            "text/plain": [
              "<Figure size 1584x1080 with 1 Axes>"
            ]
          },
          "metadata": {
            "tags": []
          }
        }
      ]
    },
    {
      "cell_type": "markdown",
      "metadata": {
        "id": "SZGoa9nIHSIh"
      },
      "source": [
        "# (3) Classification"
      ]
    },
    {
      "cell_type": "markdown",
      "metadata": {
        "id": "91hPjekhbWzd"
      },
      "source": [
        "## Preparation"
      ]
    },
    {
      "cell_type": "code",
      "metadata": {
        "colab": {
          "base_uri": "https://localhost:8080/"
        },
        "id": "lZQCQi6ynxZW",
        "outputId": "01d64a33-dd63-4f9a-d45d-014615d05035"
      },
      "source": [
        "# Run (1) & 2-2 before running this section\n",
        "\n",
        "print(up_index); print(down_index); print(unchanged_index)"
      ],
      "execution_count": 42,
      "outputs": [
        {
          "output_type": "stream",
          "text": [
            "[8, 9, 10, 12, 14, 16, 33, 51, 52, 54, 56, 57, 58, 91, 92, 93, 94, 95, 96, 97, 98, 99, 100, 101, 102, 103, 104, 105, 106, 107, 183, 191, 193, 195, 199, 201, 203, 205, 207]\n",
            "[19, 23, 24, 45, 46, 63, 64, 65, 66, 67, 68, 69, 70, 71, 78, 83, 117, 118, 119, 120, 121, 122, 125, 126, 127, 212, 213, 214, 216, 217]\n",
            "[0, 1, 2, 3, 4, 5, 6, 7, 11, 13, 15, 17, 18, 20, 21, 22, 25, 26, 27, 28, 29, 30, 31, 32, 34, 35, 36, 37, 38, 39, 40, 41, 42, 43, 44, 47, 48, 49, 50, 53, 55, 59, 60, 61, 62, 72, 73, 74, 75, 76, 77, 79, 80, 81, 82, 84, 85, 86, 87, 88, 89, 90, 108, 109, 110, 111, 112, 113, 114, 115, 116, 123, 124, 128, 129, 130, 131, 132, 133, 134, 135, 136, 137, 138, 139, 140, 141, 142, 143, 144, 145, 146, 147, 148, 149, 150, 151, 152, 153, 154, 155, 156, 157, 158, 159, 160, 161, 162, 163, 164, 165, 166, 167, 168, 169, 170, 171, 172, 173, 174, 175, 176, 177, 178, 179, 180, 181, 182, 184, 185, 186, 187, 188, 189, 190, 192, 194, 196, 197, 198, 200, 202, 204, 206, 208, 209, 210, 211, 215, 218, 219, 220, 221]\n"
          ],
          "name": "stdout"
        }
      ]
    },
    {
      "cell_type": "code",
      "metadata": {
        "colab": {
          "base_uri": "https://localhost:8080/"
        },
        "id": "EQ78G_3EPXZ6",
        "outputId": "df90cdf0-82d6-41d8-e48e-68391a9a22f8"
      },
      "source": [
        "print(np.array(fund_rate_change[24:246])[up_index])"
      ],
      "execution_count": 43,
      "outputs": [
        {
          "output_type": "stream",
          "text": [
            "[1 1 1 1 1 1 1 1 1 1 1 1 1 1 1 1 1 1 1 1 1 1 1 1 1 1 1 1 1 1 1 1 1 1 1 1 1\n",
            " 1 1]\n"
          ],
          "name": "stdout"
        }
      ]
    },
    {
      "cell_type": "code",
      "metadata": {
        "colab": {
          "base_uri": "https://localhost:8080/"
        },
        "id": "eQoJTNiGk7N-",
        "outputId": "781b2f50-8201-4d83-fdf6-cbd4eaf24d89"
      },
      "source": [
        "print(np.array(fund_rate_change[24:246])[down_index])"
      ],
      "execution_count": 44,
      "outputs": [
        {
          "output_type": "stream",
          "text": [
            "[-1 -1 -1 -1 -1 -1 -1 -1 -1 -1 -1 -1 -1 -1 -1 -1 -1 -1 -1 -1 -1 -1 -1 -1\n",
            " -1 -1 -1 -1 -1 -1]\n"
          ],
          "name": "stdout"
        }
      ]
    },
    {
      "cell_type": "code",
      "metadata": {
        "colab": {
          "base_uri": "https://localhost:8080/"
        },
        "id": "U7lrdk9zlCxc",
        "outputId": "de024204-b8a5-4d1a-fdc5-301e99b15ec4"
      },
      "source": [
        "print(np.array(fund_rate_change[24:246])[unchanged_index])"
      ],
      "execution_count": 45,
      "outputs": [
        {
          "output_type": "stream",
          "text": [
            "[0 0 0 0 0 0 0 0 0 0 0 0 0 0 0 0 0 0 0 0 0 0 0 0 0 0 0 0 0 0 0 0 0 0 0 0 0\n",
            " 0 0 0 0 0 0 0 0 0 0 0 0 0 0 0 0 0 0 0 0 0 0 0 0 0 0 0 0 0 0 0 0 0 0 0 0 0\n",
            " 0 0 0 0 0 0 0 0 0 0 0 0 0 0 0 0 0 0 0 0 0 0 0 0 0 0 0 0 0 0 0 0 0 0 0 0 0\n",
            " 0 0 0 0 0 0 0 0 0 0 0 0 0 0 0 0 0 0 0 0 0 0 0 0 0 0 0 0 0 0 0 0 0 0 0 0 0\n",
            " 0 0 0 0 0]\n"
          ],
          "name": "stdout"
        }
      ]
    },
    {
      "cell_type": "code",
      "metadata": {
        "colab": {
          "base_uri": "https://localhost:8080/"
        },
        "id": "e5tRCXYcWjKs",
        "outputId": "13c5da4f-cdd3-4ff1-9452-4cb89be2e410"
      },
      "source": [
        "fund_rate_change[0:5]"
      ],
      "execution_count": 46,
      "outputs": [
        {
          "output_type": "execute_result",
          "data": {
            "text/plain": [
              "[0, 0, 0, -1, 0]"
            ]
          },
          "metadata": {
            "tags": []
          },
          "execution_count": 46
        }
      ]
    },
    {
      "cell_type": "code",
      "metadata": {
        "colab": {
          "base_uri": "https://localhost:8080/"
        },
        "id": "yMiZan9jWmUs",
        "outputId": "9349c8e0-84d0-4746-bd45-ae47c3a8f0d7"
      },
      "source": [
        "fund_rate_change[1:5]"
      ],
      "execution_count": 47,
      "outputs": [
        {
          "output_type": "execute_result",
          "data": {
            "text/plain": [
              "[0, 0, -1, 0]"
            ]
          },
          "metadata": {
            "tags": []
          },
          "execution_count": 47
        }
      ]
    },
    {
      "cell_type": "code",
      "metadata": {
        "colab": {
          "base_uri": "https://localhost:8080/"
        },
        "id": "pWddbMK9W8lk",
        "outputId": "ad437b18-ca36-475b-e809-fd1c49c42e25"
      },
      "source": [
        "fund_rate_change[245]"
      ],
      "execution_count": 48,
      "outputs": [
        {
          "output_type": "execute_result",
          "data": {
            "text/plain": [
              "0"
            ]
          },
          "metadata": {
            "tags": []
          },
          "execution_count": 48
        }
      ]
    },
    {
      "cell_type": "code",
      "metadata": {
        "colab": {
          "base_uri": "https://localhost:8080/"
        },
        "id": "G4R1uzX6V6LN",
        "outputId": "687d1108-b575-461c-e8db-ad00a72c9c5f"
      },
      "source": [
        "print(len(fund_rate_change))\n",
        "fund_rate_change_2 = fund_rate_change[24:246]\n",
        "print(len(fund_rate_change))"
      ],
      "execution_count": 49,
      "outputs": [
        {
          "output_type": "stream",
          "text": [
            "246\n",
            "246\n"
          ],
          "name": "stdout"
        }
      ]
    },
    {
      "cell_type": "code",
      "metadata": {
        "colab": {
          "base_uri": "https://localhost:8080/"
        },
        "id": "FyWpYAdklh6d",
        "outputId": "0d04e04d-2528-4105-b2a3-28bd72a81ace"
      },
      "source": [
        "# 4.5-times filter (5 vocs)\n",
        "\n",
        "A = ['hurrican']\n",
        "B = ['eas']\n",
        "\n",
        "C = ['turmoil', 'correct']\n",
        "D = []\n",
        "\n",
        "E = ['eas', 'weaken']\n",
        "F = []\n",
        "\n",
        "voc_4_5_filter = set(A+B+C+D+E+F)\n",
        "print(len(voc_4_5_filter))"
      ],
      "execution_count": 50,
      "outputs": [
        {
          "output_type": "stream",
          "text": [
            "5\n"
          ],
          "name": "stdout"
        }
      ]
    },
    {
      "cell_type": "markdown",
      "metadata": {
        "id": "z-oQeGrdYwxB"
      },
      "source": [
        "## Confusion matrix function"
      ]
    },
    {
      "cell_type": "code",
      "metadata": {
        "id": "OrgDyHs0Ydl9"
      },
      "source": [
        "from sklearn import metrics\n",
        "import pandas as pd\n",
        "\n",
        "def display_confusion_matrix(true_labels, predicted_labels, classes=[1,0]):\n",
        "    \n",
        "    total_classes = len(classes)\n",
        "    level_labels = [total_classes*[0], list(range(total_classes))]\n",
        "\n",
        "    cm = metrics.confusion_matrix(y_true=true_labels, y_pred=predicted_labels, \n",
        "                                  labels=classes)\n",
        "    cm_frame = pd.DataFrame(data=cm, \n",
        "                            columns=pd.MultiIndex.from_product([['Predicted'], classes]), \n",
        "                            index=pd.MultiIndex.from_product([['Actual'], classes])) \n",
        "    '''\n",
        "    cm_frame = pd.DataFrame(data=cm, \n",
        "                        columns=pd.MultiIndex.from_product(levels=[['Predicted:'], classes], \n",
        "                                              labels=level_labels), \n",
        "                        index=pd.MultiIndex.from_product(levels=[['Actual:'], classes], \n",
        "                                            labels=level_labels)) \n",
        "    '''\n",
        "    print(cm_frame) "
      ],
      "execution_count": 51,
      "outputs": []
    },
    {
      "cell_type": "code",
      "metadata": {
        "id": "cRviGNFgY7u5"
      },
      "source": [
        "from sklearn import metrics\n",
        "import pandas as pd\n",
        "\n",
        "def display_confusion_matrix_pretty(true_labels, predicted_labels, classes=[1,0]):\n",
        "    \n",
        "    total_classes = len(classes)\n",
        "    level_labels = [total_classes*[0], list(range(total_classes))]\n",
        "\n",
        "    cm = metrics.confusion_matrix(y_true=true_labels, y_pred=predicted_labels, \n",
        "                                  labels=classes)\n",
        "    cm_frame = pd.DataFrame(data=cm, \n",
        "                            columns=pd.MultiIndex.from_product([['Predicted'], classes]), \n",
        "                            index=pd.MultiIndex.from_product([['Actual'], classes])) \n",
        "    return cm_frame"
      ],
      "execution_count": 52,
      "outputs": []
    },
    {
      "cell_type": "markdown",
      "metadata": {
        "id": "1_5MO_8IDA19"
      },
      "source": [
        "## 80/20 split for 500 times using LR, SVM, RF, XGBoost"
      ]
    },
    {
      "cell_type": "markdown",
      "metadata": {
        "id": "wmEP6bZ5reRE"
      },
      "source": [
        "### LR"
      ]
    },
    {
      "cell_type": "code",
      "metadata": {
        "colab": {
          "base_uri": "https://localhost:8080/"
        },
        "id": "u_HWPG8VDJdK",
        "outputId": "2a8e8b8f-c52f-48c3-870b-7715d396a858"
      },
      "source": [
        "import time as t\n",
        "import numpy as np\n",
        "from sklearn.pipeline import Pipeline\n",
        "from sklearn.model_selection import GridSearchCV\n",
        "from sklearn.feature_extraction.text import TfidfVectorizer\n",
        "from sklearn.linear_model import LogisticRegression\n",
        "\n",
        "times = 100\n",
        "lr_n_times = np.zeros(times)\n",
        "\n",
        "t1 = t.perf_counter()\n",
        "\n",
        "for i in range(times):\n",
        "  \n",
        "  ## [1] 80-20 split\n",
        "\n",
        "  # sklearn.model_selection.train_test_split(*arrays, test_size=None, train_size=None, random_state=None, shuffle=True, stratify=None)\n",
        "\n",
        "  from sklearn.model_selection import train_test_split\n",
        "\n",
        "  train_corpus, test_corpus, train_label_nums, test_label_nums = \\\n",
        "                                  train_test_split(np.array(FOMC_pickle_2), fund_rate_change_2, \n",
        "                                                    test_size=0.2, stratify=fund_rate_change_2) # random_state = 2021 / 2022 / 2023 / 2024 / 3000\n",
        "\n",
        "  from sklearn.feature_extraction.text import CountVectorizer\n",
        "  from sklearn.model_selection import cross_val_score\n",
        "\n",
        "  # build BOW features on train articles\n",
        "  cv = CountVectorizer(binary=False, min_df=0.0, max_df=1.0, vocabulary = voc_4_5_filter, ngram_range=(1, 1))\n",
        "  cv_train_features = cv.fit_transform(train_corpus)\n",
        "\n",
        "  # transform test articles into features\n",
        "  cv_test_features = cv.transform(test_corpus)\n",
        "\n",
        "  # print('BOW model:> Train features shape:', cv_train_features.shape, ' Test features shape:', cv_test_features.shape)\n",
        "\n",
        "\n",
        "  # [2] LR\n",
        " \n",
        "  lr_pipeline = Pipeline([('lr', LogisticRegression(penalty='l2', max_iter=8000, random_state=42))])\n",
        "\n",
        "  param_grid = {'lr__C': [0.01, 0.1, 1.0, 5.0, 10.0, 100.0]}\n",
        "\n",
        "  gs_lr = GridSearchCV(lr_pipeline, param_grid, cv=5, verbose=0)\n",
        "  gs_lr = gs_lr.fit(cv_train_features, train_label_nums)\n",
        "\n",
        "  best_lr_test_score = gs_lr.score(cv_test_features, test_label_nums)\n",
        "  # print('Test Accuracy :', best_lr_test_score)\n",
        "\n",
        "  lr_n_times[i] = np.around(best_lr_test_score, 4)\n",
        "  \n",
        "  if (i+1) % 10 == 0:\n",
        "    test_accuracy = np.around(np.mean(lr_n_times[:i+1]) * 100, 2)\n",
        "    t2 = t.perf_counter()\n",
        "    time_spent = np.around(t2 - t1, 2)\n",
        "    print ('Times [{:3d}/{:d}] | test accuracy: {:5.2f} % | Time spent: {} s'.format(i+1, times, test_accuracy, time_spent))\n",
        "\n",
        "t3 = t.perf_counter()\n",
        "time_spent_final = np.around(t3 - t1, 2)\n",
        "print()\n",
        "print(\"Running time: {} s\".format(time_spent_final))\n",
        "print()\n",
        "print(\"Final test accuracy: {:5.2f} %\".format(np.mean(lr_n_times) * 100))"
      ],
      "execution_count": 53,
      "outputs": [
        {
          "output_type": "stream",
          "text": [
            "Times [ 10/100] | test accuracy: 79.11 % | Time spent: 12.45 s\n",
            "Times [ 20/100] | test accuracy: 80.56 % | Time spent: 24.54 s\n",
            "Times [ 30/100] | test accuracy: 80.15 % | Time spent: 36.68 s\n",
            "Times [ 40/100] | test accuracy: 79.67 % | Time spent: 49.11 s\n",
            "Times [ 50/100] | test accuracy: 80.04 % | Time spent: 60.64 s\n",
            "Times [ 60/100] | test accuracy: 80.63 % | Time spent: 72.4 s\n",
            "Times [ 70/100] | test accuracy: 80.41 % | Time spent: 83.86 s\n",
            "Times [ 80/100] | test accuracy: 80.33 % | Time spent: 96.15 s\n",
            "Times [ 90/100] | test accuracy: 80.62 % | Time spent: 108.21 s\n",
            "Times [100/100] | test accuracy: 80.71 % | Time spent: 119.78 s\n",
            "\n",
            "Running time: 119.78 s\n",
            "\n",
            "Final test accuracy: 80.71 %\n"
          ],
          "name": "stdout"
        }
      ]
    },
    {
      "cell_type": "code",
      "metadata": {
        "colab": {
          "base_uri": "https://localhost:8080/"
        },
        "id": "GI8BwFWkzf9x",
        "outputId": "0bdeabce-f80a-4a50-f112-788c1107b97e"
      },
      "source": [
        "gs_lr.best_estimator_.get_params()"
      ],
      "execution_count": 54,
      "outputs": [
        {
          "output_type": "execute_result",
          "data": {
            "text/plain": [
              "{'lr': LogisticRegression(C=0.1, class_weight=None, dual=False, fit_intercept=True,\n",
              "                    intercept_scaling=1, l1_ratio=None, max_iter=8000,\n",
              "                    multi_class='auto', n_jobs=None, penalty='l2',\n",
              "                    random_state=42, solver='lbfgs', tol=0.0001, verbose=0,\n",
              "                    warm_start=False),\n",
              " 'lr__C': 0.1,\n",
              " 'lr__class_weight': None,\n",
              " 'lr__dual': False,\n",
              " 'lr__fit_intercept': True,\n",
              " 'lr__intercept_scaling': 1,\n",
              " 'lr__l1_ratio': None,\n",
              " 'lr__max_iter': 8000,\n",
              " 'lr__multi_class': 'auto',\n",
              " 'lr__n_jobs': None,\n",
              " 'lr__penalty': 'l2',\n",
              " 'lr__random_state': 42,\n",
              " 'lr__solver': 'lbfgs',\n",
              " 'lr__tol': 0.0001,\n",
              " 'lr__verbose': 0,\n",
              " 'lr__warm_start': False,\n",
              " 'memory': None,\n",
              " 'steps': [('lr',\n",
              "   LogisticRegression(C=0.1, class_weight=None, dual=False, fit_intercept=True,\n",
              "                      intercept_scaling=1, l1_ratio=None, max_iter=8000,\n",
              "                      multi_class='auto', n_jobs=None, penalty='l2',\n",
              "                      random_state=42, solver='lbfgs', tol=0.0001, verbose=0,\n",
              "                      warm_start=False))],\n",
              " 'verbose': False}"
            ]
          },
          "metadata": {
            "tags": []
          },
          "execution_count": 54
        }
      ]
    },
    {
      "cell_type": "markdown",
      "metadata": {
        "id": "jNb_DxIjrjdp"
      },
      "source": [
        "### SVM"
      ]
    },
    {
      "cell_type": "code",
      "metadata": {
        "colab": {
          "base_uri": "https://localhost:8080/"
        },
        "id": "Tx6nzcf4OcnT",
        "outputId": "12751a20-2d2e-401a-b49f-0ac7b0d693b1"
      },
      "source": [
        "import time as t\n",
        "import numpy as np\n",
        "from sklearn.pipeline import Pipeline\n",
        "from sklearn.model_selection import GridSearchCV\n",
        "from sklearn.feature_extraction.text import TfidfVectorizer\n",
        "from sklearn.svm import SVC\n",
        "\n",
        "times = 100\n",
        "svm_n_times = np.zeros(times)\n",
        "\n",
        "t1 = t.perf_counter()\n",
        "\n",
        "for i in range(times):\n",
        "  \n",
        "  ## [1] 80-20 split\n",
        "\n",
        "  # sklearn.model_selection.train_test_split(*arrays, test_size=None, train_size=None, random_state=None, shuffle=True, stratify=None)\n",
        "\n",
        "  from sklearn.model_selection import train_test_split\n",
        "\n",
        "  train_corpus, test_corpus, train_label_nums, test_label_nums = \\\n",
        "                                  train_test_split(np.array(FOMC_pickle_2), fund_rate_change_2, \n",
        "                                                    test_size=0.2, stratify=fund_rate_change_2) # random_state = 2021 / 2022 / 2023 / 2024 / 3000\n",
        "\n",
        "  from sklearn.feature_extraction.text import CountVectorizer\n",
        "  from sklearn.model_selection import cross_val_score\n",
        "\n",
        "  # build BOW features on train articles\n",
        "  cv = CountVectorizer(binary=False, min_df=0.0, max_df=1.0, vocabulary = voc_4_5_filter, ngram_range=(1, 1))\n",
        "  cv_train_features = cv.fit_transform(train_corpus)\n",
        "\n",
        "  # transform test articles into features\n",
        "  cv_test_features = cv.transform(test_corpus)\n",
        "\n",
        "  # print('BOW model:> Train features shape:', cv_train_features.shape, ' Test features shape:', cv_test_features.shape)\n",
        "\n",
        "\n",
        "  # [2] SVM\n",
        " \n",
        "  svm_pipeline = Pipeline([('svm', SVC(kernel='rbf'))])\n",
        "\n",
        "  param_grid = {'svm__gamma': [1e-06, 1e-05, 1e-04, 1e-03, 1e-02, 1e-01, 0, 1],\n",
        "                'svm__C': [0.1, 1.0, 10, 100, 500, 1000]}\n",
        "\n",
        "  gs_svm = GridSearchCV(svm_pipeline, param_grid, cv=5, verbose=0)\n",
        "  gs_svm = gs_svm.fit(cv_train_features, train_label_nums)\n",
        "\n",
        "  best_svm_test_score = gs_svm.score(cv_test_features, test_label_nums)\n",
        "\n",
        "  svm_n_times[i] = np.around(best_svm_test_score, 4)\n",
        "\n",
        "  if (i+1) % 10 == 0:\n",
        "    test_accuracy = np.around(np.mean(svm_n_times[:i+1]) * 100, 2)\n",
        "    t2 = t.perf_counter()\n",
        "    time_spent = np.around(t2 - t1, 2)\n",
        "    print ('Times [{:3d}/{:d}] | test accuracy: {:5.2f} % | Time spent: {} s'.format(i+1, times, test_accuracy, time_spent))\n",
        "\n",
        "t3 = t.perf_counter()\n",
        "time_spent_final = np.around(t3 - t1, 2)\n",
        "print()\n",
        "print(\"Running time: {} s\".format(time_spent_final))\n",
        "print()\n",
        "print(\"Final test accuracy: {:5.2f} %\".format(np.mean(svm_n_times) * 100))"
      ],
      "execution_count": 55,
      "outputs": [
        {
          "output_type": "stream",
          "text": [
            "Times [ 10/100] | test accuracy: 78.67 % | Time spent: 12.19 s\n",
            "Times [ 20/100] | test accuracy: 78.67 % | Time spent: 24.29 s\n",
            "Times [ 30/100] | test accuracy: 79.19 % | Time spent: 36.49 s\n",
            "Times [ 40/100] | test accuracy: 80.06 % | Time spent: 48.64 s\n",
            "Times [ 50/100] | test accuracy: 79.87 % | Time spent: 60.69 s\n",
            "Times [ 60/100] | test accuracy: 79.81 % | Time spent: 72.82 s\n",
            "Times [ 70/100] | test accuracy: 79.62 % | Time spent: 84.88 s\n",
            "Times [ 80/100] | test accuracy: 79.86 % | Time spent: 97.01 s\n",
            "Times [ 90/100] | test accuracy: 79.80 % | Time spent: 109.13 s\n",
            "Times [100/100] | test accuracy: 79.73 % | Time spent: 121.23 s\n",
            "\n",
            "Running time: 121.23 s\n",
            "\n",
            "Final test accuracy: 79.73 %\n"
          ],
          "name": "stdout"
        }
      ]
    },
    {
      "cell_type": "code",
      "metadata": {
        "colab": {
          "base_uri": "https://localhost:8080/"
        },
        "id": "5H19dRD1s8HS",
        "outputId": "a3832889-9af3-4096-d4dc-6934ca0a1d1e"
      },
      "source": [
        "gs_svm.best_estimator_.get_params()"
      ],
      "execution_count": 56,
      "outputs": [
        {
          "output_type": "execute_result",
          "data": {
            "text/plain": [
              "{'memory': None,\n",
              " 'steps': [('svm',\n",
              "   SVC(C=1000, break_ties=False, cache_size=200, class_weight=None, coef0=0.0,\n",
              "       decision_function_shape='ovr', degree=3, gamma=0.001, kernel='rbf',\n",
              "       max_iter=-1, probability=False, random_state=None, shrinking=True,\n",
              "       tol=0.001, verbose=False))],\n",
              " 'svm': SVC(C=1000, break_ties=False, cache_size=200, class_weight=None, coef0=0.0,\n",
              "     decision_function_shape='ovr', degree=3, gamma=0.001, kernel='rbf',\n",
              "     max_iter=-1, probability=False, random_state=None, shrinking=True,\n",
              "     tol=0.001, verbose=False),\n",
              " 'svm__C': 1000,\n",
              " 'svm__break_ties': False,\n",
              " 'svm__cache_size': 200,\n",
              " 'svm__class_weight': None,\n",
              " 'svm__coef0': 0.0,\n",
              " 'svm__decision_function_shape': 'ovr',\n",
              " 'svm__degree': 3,\n",
              " 'svm__gamma': 0.001,\n",
              " 'svm__kernel': 'rbf',\n",
              " 'svm__max_iter': -1,\n",
              " 'svm__probability': False,\n",
              " 'svm__random_state': None,\n",
              " 'svm__shrinking': True,\n",
              " 'svm__tol': 0.001,\n",
              " 'svm__verbose': False,\n",
              " 'verbose': False}"
            ]
          },
          "metadata": {
            "tags": []
          },
          "execution_count": 56
        }
      ]
    },
    {
      "cell_type": "markdown",
      "metadata": {
        "id": "HqgltWAwrnmi"
      },
      "source": [
        "### RF"
      ]
    },
    {
      "cell_type": "code",
      "metadata": {
        "colab": {
          "base_uri": "https://localhost:8080/"
        },
        "id": "kmJf2GlHDIF0",
        "outputId": "09bb71e7-3046-42f8-8270-7c226a200195"
      },
      "source": [
        "import time as t\n",
        "import numpy as np\n",
        "from sklearn.pipeline import Pipeline\n",
        "from sklearn.model_selection import GridSearchCV\n",
        "from sklearn.feature_extraction.text import TfidfVectorizer\n",
        "from sklearn.ensemble import RandomForestClassifier\n",
        "\n",
        "times = 100\n",
        "rfc_n_times = np.zeros(times)\n",
        "\n",
        "t1 = t.perf_counter()\n",
        "\n",
        "for i in range(times):\n",
        "  \n",
        "  ## [1] 80-20 split\n",
        "\n",
        "  # sklearn.model_selection.train_test_split(*arrays, test_size=None, train_size=None, random_state=None, shuffle=True, stratify=None)\n",
        "\n",
        "  from sklearn.model_selection import train_test_split\n",
        "\n",
        "  train_corpus, test_corpus, train_label_nums, test_label_nums = \\\n",
        "                                  train_test_split(np.array(FOMC_pickle_2), fund_rate_change_2, \n",
        "                                                    test_size=0.2, stratify=fund_rate_change_2) # random_state = 2021 / 2022 / 2023 / 2024 / 3000\n",
        "\n",
        "  from sklearn.feature_extraction.text import CountVectorizer\n",
        "  from sklearn.model_selection import cross_val_score\n",
        "\n",
        "  # build BOW features on train articles\n",
        "  cv = CountVectorizer(binary=False, min_df=0.0, max_df=1.0, vocabulary = voc_4_5_filter, ngram_range=(1, 1))\n",
        "  cv_train_features = cv.fit_transform(train_corpus)\n",
        "\n",
        "  # transform test articles into features\n",
        "  cv_test_features = cv.transform(test_corpus)\n",
        "\n",
        "\n",
        "\n",
        "  # [3] RF\n",
        " \n",
        "  rfc_pipeline = Pipeline([('rfc', RandomForestClassifier(random_state=2020, criterion = \"gini\"))])\n",
        "\n",
        "  param_grid = {'rfc__n_estimators': [100, 300, 500, 700]}\n",
        "\n",
        "  gs_rfc = GridSearchCV(rfc_pipeline, param_grid, cv=5, verbose=0)\n",
        "  gs_rfc = gs_rfc.fit(cv_train_features, train_label_nums)\n",
        "\n",
        "  best_rfc_test_score = gs_rfc.score(cv_test_features, test_label_nums)\n",
        "\n",
        "  rfc_n_times[i] = np.around(best_rfc_test_score, 4)\n",
        "  \n",
        "  if (i+1) % 10 == 0:\n",
        "    test_accuracy = np.around(np.mean(rfc_n_times[:i+1]) * 100, 2)\n",
        "    t2 = t.perf_counter()\n",
        "    time_spent = np.around(t2 - t1, 2)\n",
        "    print ('Times [{:3d}/{:d}] | test accuracy: {:5.2f} % | Time spent: {} s'.format(i+1, times, test_accuracy, time_spent))\n",
        "\n",
        "t3 = t.perf_counter()\n",
        "time_spent_final = np.around(t3 - t1, 2)\n",
        "print()\n",
        "print(\"Running time: {} s\".format(time_spent_final))\n",
        "print()\n",
        "print(\"Final test accuracy: {:5.2f} %\".format(np.mean(rfc_n_times) * 100))"
      ],
      "execution_count": 57,
      "outputs": [
        {
          "output_type": "stream",
          "text": [
            "Times [ 10/100] | test accuracy: 82.44 % | Time spent: 128.51 s\n",
            "Times [ 20/100] | test accuracy: 80.11 % | Time spent: 256.74 s\n",
            "Times [ 30/100] | test accuracy: 79.33 % | Time spent: 386.53 s\n",
            "Times [ 40/100] | test accuracy: 78.72 % | Time spent: 515.79 s\n",
            "Times [ 50/100] | test accuracy: 78.40 % | Time spent: 643.75 s\n",
            "Times [ 60/100] | test accuracy: 78.04 % | Time spent: 772.82 s\n",
            "Times [ 70/100] | test accuracy: 77.75 % | Time spent: 900.66 s\n",
            "Times [ 80/100] | test accuracy: 77.97 % | Time spent: 1030.38 s\n",
            "Times [ 90/100] | test accuracy: 77.98 % | Time spent: 1161.13 s\n",
            "Times [100/100] | test accuracy: 78.00 % | Time spent: 1290.12 s\n",
            "\n",
            "Running time: 1290.12 s\n",
            "\n",
            "Final test accuracy: 78.00 %\n"
          ],
          "name": "stdout"
        }
      ]
    },
    {
      "cell_type": "code",
      "metadata": {
        "colab": {
          "base_uri": "https://localhost:8080/"
        },
        "id": "kNXts1FhtHRZ",
        "outputId": "db629411-4db2-48f3-c3ac-066a7d64754a"
      },
      "source": [
        "gs_rfc.best_estimator_.get_params()"
      ],
      "execution_count": 58,
      "outputs": [
        {
          "output_type": "execute_result",
          "data": {
            "text/plain": [
              "{'memory': None,\n",
              " 'rfc': RandomForestClassifier(bootstrap=True, ccp_alpha=0.0, class_weight=None,\n",
              "                        criterion='gini', max_depth=None, max_features='auto',\n",
              "                        max_leaf_nodes=None, max_samples=None,\n",
              "                        min_impurity_decrease=0.0, min_impurity_split=None,\n",
              "                        min_samples_leaf=1, min_samples_split=2,\n",
              "                        min_weight_fraction_leaf=0.0, n_estimators=500,\n",
              "                        n_jobs=None, oob_score=False, random_state=2020,\n",
              "                        verbose=0, warm_start=False),\n",
              " 'rfc__bootstrap': True,\n",
              " 'rfc__ccp_alpha': 0.0,\n",
              " 'rfc__class_weight': None,\n",
              " 'rfc__criterion': 'gini',\n",
              " 'rfc__max_depth': None,\n",
              " 'rfc__max_features': 'auto',\n",
              " 'rfc__max_leaf_nodes': None,\n",
              " 'rfc__max_samples': None,\n",
              " 'rfc__min_impurity_decrease': 0.0,\n",
              " 'rfc__min_impurity_split': None,\n",
              " 'rfc__min_samples_leaf': 1,\n",
              " 'rfc__min_samples_split': 2,\n",
              " 'rfc__min_weight_fraction_leaf': 0.0,\n",
              " 'rfc__n_estimators': 500,\n",
              " 'rfc__n_jobs': None,\n",
              " 'rfc__oob_score': False,\n",
              " 'rfc__random_state': 2020,\n",
              " 'rfc__verbose': 0,\n",
              " 'rfc__warm_start': False,\n",
              " 'steps': [('rfc',\n",
              "   RandomForestClassifier(bootstrap=True, ccp_alpha=0.0, class_weight=None,\n",
              "                          criterion='gini', max_depth=None, max_features='auto',\n",
              "                          max_leaf_nodes=None, max_samples=None,\n",
              "                          min_impurity_decrease=0.0, min_impurity_split=None,\n",
              "                          min_samples_leaf=1, min_samples_split=2,\n",
              "                          min_weight_fraction_leaf=0.0, n_estimators=500,\n",
              "                          n_jobs=None, oob_score=False, random_state=2020,\n",
              "                          verbose=0, warm_start=False))],\n",
              " 'verbose': False}"
            ]
          },
          "metadata": {
            "tags": []
          },
          "execution_count": 58
        }
      ]
    },
    {
      "cell_type": "markdown",
      "metadata": {
        "id": "_87MbTDBrvA4"
      },
      "source": [
        "### XGBoost"
      ]
    },
    {
      "cell_type": "code",
      "metadata": {
        "colab": {
          "base_uri": "https://localhost:8080/"
        },
        "id": "xzZqP-c_DIJ7",
        "outputId": "dea84e3d-4ca0-4e7f-d91e-3d69c1a12819"
      },
      "source": [
        "import time as t\n",
        "import numpy as np\n",
        "from sklearn.pipeline import Pipeline\n",
        "from sklearn.model_selection import GridSearchCV\n",
        "from sklearn.feature_extraction.text import TfidfVectorizer\n",
        "from xgboost import XGBClassifier\n",
        "\n",
        "times = 100\n",
        "xgb_n_times = np.zeros(times)\n",
        "\n",
        "t1 = t.perf_counter()\n",
        "\n",
        "for i in range(times):\n",
        "  \n",
        "  ## [1] 80-20 split\n",
        "\n",
        "  # sklearn.model_selection.train_test_split(*arrays, test_size=None, train_size=None, random_state=None, shuffle=True, stratify=None)\n",
        "\n",
        "  from sklearn.model_selection import train_test_split\n",
        "\n",
        "  train_corpus, test_corpus, train_label_nums, test_label_nums = \\\n",
        "                                  train_test_split(np.array(FOMC_pickle_2), fund_rate_change_2, \n",
        "                                                    test_size=0.2, stratify=fund_rate_change_2) # random_state = 2021 / 2022 / 2023 / 2024 / 3000\n",
        "\n",
        "  from sklearn.feature_extraction.text import CountVectorizer\n",
        "  from sklearn.model_selection import cross_val_score\n",
        "\n",
        "  # build BOW features on train articles\n",
        "  cv = CountVectorizer(binary=False, min_df=0.0, max_df=1.0, vocabulary = voc_4_5_filter, ngram_range=(1, 1))\n",
        "  cv_train_features = cv.fit_transform(train_corpus)\n",
        "\n",
        "  # transform test articles into features\n",
        "  cv_test_features = cv.transform(test_corpus)\n",
        "\n",
        "\n",
        "\n",
        "  # [4] XGBoost\n",
        " \n",
        "  xgb_pipeline = Pipeline([('xgb', XGBClassifier(booster='gbtree', min_child_weight=1, verbosity=1, random_state=42))])\n",
        "\n",
        "  param_grid = {'xgb__n_estimators': [100, 200, 400],\n",
        "                'xgb__gamma': [0],\n",
        "                'xgb__min_child_weight': [1],\n",
        "                'xgb__subsample': [0.5, 1.0],\n",
        "                'xgb__colsample_bytree': [0.5, 1.0],\n",
        "                'xgb__max_depth': [6],\n",
        "                'xgb__learning_rate': [0.3],\n",
        "                'xgb__colsample_bytree': [0.5, 1.0],\n",
        "                }\n",
        "\n",
        "  gs_xgb = GridSearchCV(xgb_pipeline, param_grid, cv=5, verbose=0)\n",
        "  gs_xgb = gs_xgb.fit(cv_train_features, train_label_nums)\n",
        "\n",
        "  best_xgb_test_score = gs_xgb.score(cv_test_features, test_label_nums)\n",
        "\n",
        "  xgb_n_times[i] = np.around(best_xgb_test_score, 4)\n",
        "  \n",
        "  if (i+1) % 10 == 0:\n",
        "    test_accuracy = np.around(np.mean(xgb_n_times[:i+1]) * 100, 2)\n",
        "    t2 = t.perf_counter()\n",
        "    time_spent = np.around(t2 - t1, 2)\n",
        "    print ('Times [{:3d}/{:d}] | test accuracy: {:5.2f} % | Time spent: {} s'.format(i+1, times, test_accuracy, time_spent))\n",
        "\n",
        "t3 = t.perf_counter()\n",
        "time_spent_final = np.around(t3 - t1, 2)\n",
        "print()\n",
        "print(\"Running time: {} s\".format(time_spent_final))\n",
        "print()\n",
        "print(\"Final test accuracy: {:5.2f} %\".format(np.mean(xgb_n_times) * 100))"
      ],
      "execution_count": 59,
      "outputs": [
        {
          "output_type": "stream",
          "text": [
            "Times [ 10/100] | test accuracy: 80.00 % | Time spent: 40.0 s\n",
            "Times [ 20/100] | test accuracy: 79.56 % | Time spent: 79.8 s\n",
            "Times [ 30/100] | test accuracy: 78.22 % | Time spent: 119.49 s\n",
            "Times [ 40/100] | test accuracy: 78.72 % | Time spent: 159.29 s\n",
            "Times [ 50/100] | test accuracy: 79.38 % | Time spent: 199.54 s\n",
            "Times [ 60/100] | test accuracy: 79.52 % | Time spent: 239.19 s\n",
            "Times [ 70/100] | test accuracy: 79.68 % | Time spent: 279.21 s\n",
            "Times [ 80/100] | test accuracy: 79.53 % | Time spent: 318.88 s\n",
            "Times [ 90/100] | test accuracy: 79.51 % | Time spent: 358.84 s\n",
            "Times [100/100] | test accuracy: 79.47 % | Time spent: 398.52 s\n",
            "\n",
            "Running time: 398.52 s\n",
            "\n",
            "Final test accuracy: 79.47 %\n"
          ],
          "name": "stdout"
        }
      ]
    },
    {
      "cell_type": "code",
      "metadata": {
        "colab": {
          "base_uri": "https://localhost:8080/"
        },
        "id": "fah7wcSStGZU",
        "outputId": "16ddc847-8c98-4552-f74f-44f2d8a2dfa2"
      },
      "source": [
        "gs_xgb.best_estimator_.get_params()"
      ],
      "execution_count": 60,
      "outputs": [
        {
          "output_type": "execute_result",
          "data": {
            "text/plain": [
              "{'memory': None,\n",
              " 'steps': [('xgb',\n",
              "   XGBClassifier(base_score=0.5, booster='gbtree', colsample_bylevel=1,\n",
              "                 colsample_bynode=1, colsample_bytree=0.5, gamma=0,\n",
              "                 learning_rate=0.3, max_delta_step=0, max_depth=6,\n",
              "                 min_child_weight=1, missing=None, n_estimators=100, n_jobs=1,\n",
              "                 nthread=None, objective='multi:softprob', random_state=42,\n",
              "                 reg_alpha=0, reg_lambda=1, scale_pos_weight=1, seed=None,\n",
              "                 silent=None, subsample=1.0, verbosity=1))],\n",
              " 'verbose': False,\n",
              " 'xgb': XGBClassifier(base_score=0.5, booster='gbtree', colsample_bylevel=1,\n",
              "               colsample_bynode=1, colsample_bytree=0.5, gamma=0,\n",
              "               learning_rate=0.3, max_delta_step=0, max_depth=6,\n",
              "               min_child_weight=1, missing=None, n_estimators=100, n_jobs=1,\n",
              "               nthread=None, objective='multi:softprob', random_state=42,\n",
              "               reg_alpha=0, reg_lambda=1, scale_pos_weight=1, seed=None,\n",
              "               silent=None, subsample=1.0, verbosity=1),\n",
              " 'xgb__base_score': 0.5,\n",
              " 'xgb__booster': 'gbtree',\n",
              " 'xgb__colsample_bylevel': 1,\n",
              " 'xgb__colsample_bynode': 1,\n",
              " 'xgb__colsample_bytree': 0.5,\n",
              " 'xgb__gamma': 0,\n",
              " 'xgb__learning_rate': 0.3,\n",
              " 'xgb__max_delta_step': 0,\n",
              " 'xgb__max_depth': 6,\n",
              " 'xgb__min_child_weight': 1,\n",
              " 'xgb__missing': None,\n",
              " 'xgb__n_estimators': 100,\n",
              " 'xgb__n_jobs': 1,\n",
              " 'xgb__nthread': None,\n",
              " 'xgb__objective': 'multi:softprob',\n",
              " 'xgb__random_state': 42,\n",
              " 'xgb__reg_alpha': 0,\n",
              " 'xgb__reg_lambda': 1,\n",
              " 'xgb__scale_pos_weight': 1,\n",
              " 'xgb__seed': None,\n",
              " 'xgb__silent': None,\n",
              " 'xgb__subsample': 1.0,\n",
              " 'xgb__verbosity': 1}"
            ]
          },
          "metadata": {
            "tags": []
          },
          "execution_count": 60
        }
      ]
    },
    {
      "cell_type": "code",
      "metadata": {
        "id": "_7bxFgRpe0or"
      },
      "source": [
        ""
      ],
      "execution_count": null,
      "outputs": []
    }
  ]
}