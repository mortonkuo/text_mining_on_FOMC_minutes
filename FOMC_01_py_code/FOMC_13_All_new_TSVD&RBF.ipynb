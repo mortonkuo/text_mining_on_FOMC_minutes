{
  "nbformat": 4,
  "nbformat_minor": 0,
  "metadata": {
    "colab": {
      "name": "FOMC_12_All_new_TSVD&RBF.ipynb",
      "provenance": [],
      "collapsed_sections": [
        "9gRQkpAdPVwk",
        "VfXCxMNc3zmd",
        "bBsA_qz-dTzQ"
      ]
    },
    "kernelspec": {
      "display_name": "Python 3",
      "name": "python3"
    }
  },
  "cells": [
    {
      "cell_type": "markdown",
      "metadata": {
        "id": "OhekwXccmpG5"
      },
      "source": [
        "# FOMC Thesis Final Version"
      ]
    },
    {
      "cell_type": "markdown",
      "metadata": {
        "id": "J6-Fp_TDO4zR"
      },
      "source": [
        "# (1) Connecting Google Colab to Google Drive"
      ]
    },
    {
      "cell_type": "code",
      "metadata": {
        "colab": {
          "base_uri": "https://localhost:8080/"
        },
        "id": "HYnpY2OXO0RE",
        "outputId": "621184bf-aeaf-4f89-a345-bc28a9c35eb8"
      },
      "source": [
        "from google.colab import drive\n",
        "drive.mount('/content/drive')"
      ],
      "execution_count": 1,
      "outputs": [
        {
          "output_type": "stream",
          "text": [
            "Mounted at /content/drive\n"
          ],
          "name": "stdout"
        }
      ]
    },
    {
      "cell_type": "code",
      "metadata": {
        "colab": {
          "base_uri": "https://localhost:8080/"
        },
        "id": "_0wXoeaIO8s4",
        "outputId": "7781891d-ade2-4dc0-9c83-7685f2d7826f"
      },
      "source": [
        "%cd"
      ],
      "execution_count": 2,
      "outputs": [
        {
          "output_type": "stream",
          "text": [
            "/root\n"
          ],
          "name": "stdout"
        }
      ]
    },
    {
      "cell_type": "code",
      "metadata": {
        "colab": {
          "base_uri": "https://localhost:8080/",
          "height": 51
        },
        "id": "NBQfsM9hO_hh",
        "outputId": "e85641bc-9bf0-49a4-d0c5-0cff67242181"
      },
      "source": [
        "%cd '/content/drive'\n",
        "%pwd"
      ],
      "execution_count": 3,
      "outputs": [
        {
          "output_type": "stream",
          "text": [
            "/content/drive\n"
          ],
          "name": "stdout"
        },
        {
          "output_type": "execute_result",
          "data": {
            "application/vnd.google.colaboratory.intrinsic+json": {
              "type": "string"
            },
            "text/plain": [
              "'/content/drive'"
            ]
          },
          "metadata": {
            "tags": []
          },
          "execution_count": 3
        }
      ]
    },
    {
      "cell_type": "code",
      "metadata": {
        "colab": {
          "base_uri": "https://localhost:8080/"
        },
        "id": "t5fOQmBDPBAh",
        "outputId": "97a66055-8c64-4861-ccf5-0165f74d7e5b"
      },
      "source": [
        "%ls"
      ],
      "execution_count": 4,
      "outputs": [
        {
          "output_type": "stream",
          "text": [
            "\u001b[0m\u001b[01;34mMyDrive\u001b[0m/\n"
          ],
          "name": "stdout"
        }
      ]
    },
    {
      "cell_type": "code",
      "metadata": {
        "colab": {
          "base_uri": "https://localhost:8080/"
        },
        "id": "1OCKhqJLPDLC",
        "outputId": "b3299899-2ffa-47c4-834f-e6cb65732c03"
      },
      "source": [
        "%cd 'MyDrive/Colab_Data'"
      ],
      "execution_count": 5,
      "outputs": [
        {
          "output_type": "stream",
          "text": [
            "/content/drive/MyDrive/Colab_Data\n"
          ],
          "name": "stdout"
        }
      ]
    },
    {
      "cell_type": "code",
      "metadata": {
        "colab": {
          "base_uri": "https://localhost:8080/",
          "height": 35
        },
        "id": "d-td3tF-PETf",
        "outputId": "0ad71af2-178f-4c73-f413-55848c4aa490"
      },
      "source": [
        "%pwd"
      ],
      "execution_count": 6,
      "outputs": [
        {
          "output_type": "execute_result",
          "data": {
            "application/vnd.google.colaboratory.intrinsic+json": {
              "type": "string"
            },
            "text/plain": [
              "'/content/drive/MyDrive/Colab_Data'"
            ]
          },
          "metadata": {
            "tags": []
          },
          "execution_count": 6
        }
      ]
    },
    {
      "cell_type": "markdown",
      "metadata": {
        "id": "9gRQkpAdPVwk"
      },
      "source": [
        "# (2) Classification"
      ]
    },
    {
      "cell_type": "code",
      "metadata": {
        "colab": {
          "base_uri": "https://localhost:8080/"
        },
        "id": "bhSPlsBGPJP2",
        "outputId": "a957d229-7eec-4d2e-cd7a-25233136f577"
      },
      "source": [
        "!pip3 install pickle5\n",
        "import pickle5 as pickle"
      ],
      "execution_count": 7,
      "outputs": [
        {
          "output_type": "stream",
          "text": [
            "Collecting pickle5\n",
            "  Downloading pickle5-0.0.11.tar.gz (132 kB)\n",
            "\u001b[?25l\r\u001b[K     |██▌                             | 10 kB 6.4 MB/s eta 0:00:01\r\u001b[K     |█████                           | 20 kB 10.9 MB/s eta 0:00:01\r\u001b[K     |███████▍                        | 30 kB 12.0 MB/s eta 0:00:01\r\u001b[K     |██████████                      | 40 kB 9.2 MB/s eta 0:00:01\r\u001b[K     |████████████▍                   | 51 kB 5.2 MB/s eta 0:00:01\r\u001b[K     |██████████████▉                 | 61 kB 4.7 MB/s eta 0:00:01\r\u001b[K     |█████████████████▍              | 71 kB 5.3 MB/s eta 0:00:01\r\u001b[K     |███████████████████▉            | 81 kB 5.9 MB/s eta 0:00:01\r\u001b[K     |██████████████████████▎         | 92 kB 6.2 MB/s eta 0:00:01\r\u001b[K     |████████████████████████▉       | 102 kB 5.1 MB/s eta 0:00:01\r\u001b[K     |███████████████████████████▎    | 112 kB 5.1 MB/s eta 0:00:01\r\u001b[K     |█████████████████████████████▊  | 122 kB 5.1 MB/s eta 0:00:01\r\u001b[K     |████████████████████████████████| 132 kB 5.1 MB/s \n",
            "\u001b[?25hBuilding wheels for collected packages: pickle5\n",
            "  Building wheel for pickle5 (setup.py) ... \u001b[?25l\u001b[?25hdone\n",
            "  Created wheel for pickle5: filename=pickle5-0.0.11-cp37-cp37m-linux_x86_64.whl size=219314 sha256=4d3b6a1b4882b6eef16f8d2c78be2ee15be3146397c7e02a2699c8b98336487d\n",
            "  Stored in directory: /root/.cache/pip/wheels/7e/6a/00/67136a90d6aca437d806d1d3cedf98106e840c97a3e5188198\n",
            "Successfully built pickle5\n",
            "Installing collected packages: pickle5\n",
            "Successfully installed pickle5-0.0.11\n"
          ],
          "name": "stdout"
        }
      ]
    },
    {
      "cell_type": "code",
      "metadata": {
        "colab": {
          "base_uri": "https://localhost:8080/",
          "height": 35
        },
        "id": "ZIe0JVEqPaXr",
        "outputId": "8d936073-cba1-40e5-cbbc-cb61fe96b8c8"
      },
      "source": [
        "import os\n",
        "os.chdir(r'FOMC_04_pickle_data')\n",
        "os.getcwd()"
      ],
      "execution_count": 8,
      "outputs": [
        {
          "output_type": "execute_result",
          "data": {
            "application/vnd.google.colaboratory.intrinsic+json": {
              "type": "string"
            },
            "text/plain": [
              "'/content/drive/MyDrive/Colab_Data/FOMC_04_pickle_data'"
            ]
          },
          "metadata": {
            "tags": []
          },
          "execution_count": 8
        }
      ]
    },
    {
      "cell_type": "code",
      "metadata": {
        "id": "LLnQoufePc7A"
      },
      "source": [
        "# import pickle\n",
        "\n",
        "FOMC_pickle = [0] * 222 # list(range(0,222))\n",
        "FOMC_pickle_2 = [0] * 222\n",
        "\n",
        "for i in range(0,222):\n",
        "    name = str(i+1) + '.txt'    \n",
        "    FOMC_pickle[i] = pickle.load(open(name, 'rb'))\n",
        "    FOMC_pickle_2[i] = ' '.join(FOMC_pickle[i])"
      ],
      "execution_count": 9,
      "outputs": []
    },
    {
      "cell_type": "code",
      "metadata": {
        "colab": {
          "base_uri": "https://localhost:8080/"
        },
        "id": "ssGOrJXvPf6x",
        "outputId": "79cc9f73-e334-4ce5-e55a-670b89bae720"
      },
      "source": [
        "%cd .."
      ],
      "execution_count": 10,
      "outputs": [
        {
          "output_type": "stream",
          "text": [
            "/content/drive/My Drive/Colab_Data\n"
          ],
          "name": "stdout"
        }
      ]
    },
    {
      "cell_type": "code",
      "metadata": {
        "id": "nhDpg6LjPh2k"
      },
      "source": [
        "import pandas as pd\n",
        "# df = pd.read_excel (r'Path where the Excel file is stored\\File name.xlsx')\n",
        "df = pd.read_excel(r'FOMC_02_excel_data/Fed_fund_rate_change.xlsx')\n",
        "\n",
        "fund_rate_change = list(df.iloc[:,5])\n",
        "fund_rate_change_date = list(df.iloc[:,1])"
      ],
      "execution_count": 11,
      "outputs": []
    },
    {
      "cell_type": "code",
      "metadata": {
        "colab": {
          "base_uri": "https://localhost:8080/"
        },
        "id": "Mn6cz6iiPh7h",
        "outputId": "986827d7-d2d7-47ed-956a-e7d99071c8de"
      },
      "source": [
        "corpus_df = pd.DataFrame({'Document': FOMC_pickle_2, \n",
        "                          'Category': fund_rate_change[24:246]})\n",
        "corpus_df = corpus_df[['Document', 'Category']]\n",
        "print(corpus_df.head())"
      ],
      "execution_count": 12,
      "outputs": [
        {
          "output_type": "stream",
          "text": [
            "                                            Document  Category\n",
            "0  inform review meet indic econom activ rose app...         0\n",
            "1  inform review meet suggest econom activ expand...         0\n",
            "2  inform review meet suggest pace econom expans ...         0\n",
            "3  inform review meet provid mix read economi bal...         0\n",
            "4  inform review committe suggest econom activ ex...         0\n"
          ],
          "name": "stdout"
        }
      ]
    },
    {
      "cell_type": "code",
      "metadata": {
        "colab": {
          "base_uri": "https://localhost:8080/"
        },
        "id": "_o-0zpDQPh_-",
        "outputId": "b2f97546-7f44-40e5-ba7c-afa24a772ff6"
      },
      "source": [
        "import numpy as np\n",
        "print(len(np.array(FOMC_pickle_2))); print(len(np.array(fund_rate_change[24:246])))"
      ],
      "execution_count": 13,
      "outputs": [
        {
          "output_type": "stream",
          "text": [
            "222\n",
            "222\n"
          ],
          "name": "stdout"
        }
      ]
    },
    {
      "cell_type": "code",
      "metadata": {
        "colab": {
          "base_uri": "https://localhost:8080/"
        },
        "id": "PF5isDUaPmK2",
        "outputId": "c32804cc-78a4-405b-fe2b-01ceb8ebb9e8"
      },
      "source": [
        "up_index = []\n",
        "down_index = []\n",
        "unchanged_index = []\n",
        "\n",
        "for i in range(24,246):\n",
        "    if fund_rate_change[i] == 1:\n",
        "        up_index.append(i-24)\n",
        "    elif fund_rate_change[i] == -1:\n",
        "        down_index.append(i-24)\n",
        "    elif fund_rate_change[i] == 0:\n",
        "        unchanged_index.append(i-24)\n",
        "    else:\n",
        "        print('Wrong !')\n",
        "\n",
        "print(up_index)\n",
        "print(len(up_index)); print(len(down_index)); print(len(unchanged_index))\n",
        "print(len(up_index) + len(down_index) + len(unchanged_index))\n",
        "\n",
        "\n",
        "import numpy as np\n",
        "up_index = np.array(up_index)\n",
        "down_index = np.array(down_index)\n",
        "unchanged_index = np.array(unchanged_index)"
      ],
      "execution_count": 14,
      "outputs": [
        {
          "output_type": "stream",
          "text": [
            "[8, 9, 10, 12, 14, 16, 33, 51, 52, 54, 56, 57, 58, 91, 92, 93, 94, 95, 96, 97, 98, 99, 100, 101, 102, 103, 104, 105, 106, 107, 183, 191, 193, 195, 199, 201, 203, 205, 207]\n",
            "39\n",
            "30\n",
            "153\n",
            "222\n"
          ],
          "name": "stdout"
        }
      ]
    },
    {
      "cell_type": "code",
      "metadata": {
        "id": "cz58fJVmPmRJ"
      },
      "source": [
        "FOMC_pickle_2 = np.array(FOMC_pickle_2)\n",
        "fund_rate_change_2 = np.array(fund_rate_change[24:246])"
      ],
      "execution_count": 15,
      "outputs": []
    },
    {
      "cell_type": "code",
      "metadata": {
        "id": "ihGNZEUfPmU5"
      },
      "source": [
        "sth = np.array(FOMC_pickle_2[up_index])"
      ],
      "execution_count": 16,
      "outputs": []
    },
    {
      "cell_type": "code",
      "metadata": {
        "colab": {
          "base_uri": "https://localhost:8080/"
        },
        "id": "PKz5Rf6OPpfS",
        "outputId": "42318953-7a32-4456-a375-3415a43a5cf4"
      },
      "source": [
        "print(np.array(fund_rate_change[24:246])[up_index])"
      ],
      "execution_count": 17,
      "outputs": [
        {
          "output_type": "stream",
          "text": [
            "[1 1 1 1 1 1 1 1 1 1 1 1 1 1 1 1 1 1 1 1 1 1 1 1 1 1 1 1 1 1 1 1 1 1 1 1 1\n",
            " 1 1]\n"
          ],
          "name": "stdout"
        }
      ]
    },
    {
      "cell_type": "code",
      "metadata": {
        "colab": {
          "base_uri": "https://localhost:8080/",
          "height": 67
        },
        "id": "DajaSlyIV4oe",
        "outputId": "85ef64bb-3210-4059-a492-2df0c3a7c93f"
      },
      "source": [
        "'''\n",
        "# sklearn.model_selection.train_test_split(*arrays, test_size=None, train_size=None, random_state=None, shuffle=True, stratify=None)\n",
        "\n",
        "from sklearn.model_selection import train_test_split\n",
        "\n",
        "train_corpus, test_corpus, train_label_nums, test_label_nums =\\\n",
        "                                 train_test_split(np.array(FOMC_pickle_2), fund_rate_change_2, \n",
        "                                                  test_size=0.2, stratify=fund_rate_change_2, random_state=2024) # random_state=2021 / 2022 / 2023 / 2024 / 3000\n",
        "'''"
      ],
      "execution_count": 18,
      "outputs": [
        {
          "output_type": "execute_result",
          "data": {
            "application/vnd.google.colaboratory.intrinsic+json": {
              "type": "string"
            },
            "text/plain": [
              "'\\n# sklearn.model_selection.train_test_split(*arrays, test_size=None, train_size=None, random_state=None, shuffle=True, stratify=None)\\n\\nfrom sklearn.model_selection import train_test_split\\n\\ntrain_corpus, test_corpus, train_label_nums, test_label_nums =                                 train_test_split(np.array(FOMC_pickle_2), fund_rate_change_2, \\n                                                  test_size=0.2, stratify=fund_rate_change_2, random_state=2024) # random_state=2021 / 2022 / 2023 / 2024 / 3000\\n'"
            ]
          },
          "metadata": {
            "tags": []
          },
          "execution_count": 18
        }
      ]
    },
    {
      "cell_type": "code",
      "metadata": {
        "colab": {
          "base_uri": "https://localhost:8080/",
          "height": 35
        },
        "id": "oZwA3KvXPyMS",
        "outputId": "31b69c67-5202-4440-d6df-77e020003df7"
      },
      "source": [
        "'''\n",
        "print(len(train_corpus)); print(len(test_corpus)); print()\n",
        "print(len(train_label_nums)); print(len(test_label_nums))\n",
        "'''"
      ],
      "execution_count": 19,
      "outputs": [
        {
          "output_type": "execute_result",
          "data": {
            "application/vnd.google.colaboratory.intrinsic+json": {
              "type": "string"
            },
            "text/plain": [
              "'\\nprint(len(train_corpus)); print(len(test_corpus)); print()\\nprint(len(train_label_nums)); print(len(test_label_nums))\\n'"
            ]
          },
          "metadata": {
            "tags": []
          },
          "execution_count": 19
        }
      ]
    },
    {
      "cell_type": "code",
      "metadata": {
        "colab": {
          "base_uri": "https://localhost:8080/",
          "height": 51
        },
        "id": "cNgcjQ56PzxB",
        "outputId": "7c1faeb1-3ab4-496b-89be-09ba23c6c898"
      },
      "source": [
        "'''\n",
        "from collections import Counter\n",
        "\n",
        "trd = dict(Counter(train_label_nums))\n",
        "tsd = dict(Counter(test_label_nums))\n",
        "\n",
        "(pd.DataFrame([[key, trd[key], tsd[key]] for key in trd], \n",
        "             columns=['Target Label', 'Train Count', 'Test Count'])\n",
        ".sort_values(by=['Train Count', 'Test Count'],\n",
        "             ascending=False))\n",
        "'''"
      ],
      "execution_count": 20,
      "outputs": [
        {
          "output_type": "execute_result",
          "data": {
            "application/vnd.google.colaboratory.intrinsic+json": {
              "type": "string"
            },
            "text/plain": [
              "\"\\nfrom collections import Counter\\n\\ntrd = dict(Counter(train_label_nums))\\ntsd = dict(Counter(test_label_nums))\\n\\n(pd.DataFrame([[key, trd[key], tsd[key]] for key in trd], \\n             columns=['Target Label', 'Train Count', 'Test Count'])\\n.sort_values(by=['Train Count', 'Test Count'],\\n             ascending=False))\\n\""
            ]
          },
          "metadata": {
            "tags": []
          },
          "execution_count": 20
        }
      ]
    },
    {
      "cell_type": "code",
      "metadata": {
        "colab": {
          "base_uri": "https://localhost:8080/",
          "height": 67
        },
        "id": "7veFgSGjYwYO",
        "outputId": "82027f87-bc84-48e4-b18e-7ea18cc79c6a"
      },
      "source": [
        "'''\n",
        "from sklearn.preprocessing import StandardScaler\n",
        "from sklearn.decomposition import PCA\n",
        "from sklearn import datasets\n",
        "\n",
        "digits = datasets.load_digits()\n",
        "features = StandardScaler().fit_transform(digits.data)\n",
        "print(features[1])\n",
        "\n",
        "pca = PCA(n_components=0.99, whiten=True)\n",
        "features_pca = pca.fit_transform(features)\n",
        "\n",
        "print('Original number of features:', features.shape[1])\n",
        "print('Reduced number of features:', features_pca.shape[1])\n",
        "'''"
      ],
      "execution_count": 21,
      "outputs": [
        {
          "output_type": "execute_result",
          "data": {
            "application/vnd.google.colaboratory.intrinsic+json": {
              "type": "string"
            },
            "text/plain": [
              "\"\\nfrom sklearn.preprocessing import StandardScaler\\nfrom sklearn.decomposition import PCA\\nfrom sklearn import datasets\\n\\ndigits = datasets.load_digits()\\nfeatures = StandardScaler().fit_transform(digits.data)\\nprint(features[1])\\n\\npca = PCA(n_components=0.99, whiten=True)\\nfeatures_pca = pca.fit_transform(features)\\n\\nprint('Original number of features:', features.shape[1])\\nprint('Reduced number of features:', features_pca.shape[1])\\n\""
            ]
          },
          "metadata": {
            "tags": []
          },
          "execution_count": 21
        }
      ]
    },
    {
      "cell_type": "code",
      "metadata": {
        "colab": {
          "base_uri": "https://localhost:8080/"
        },
        "id": "pWVY70A_LOOs",
        "outputId": "72552e7f-49c2-498f-86c0-db1dfe9a4147"
      },
      "source": [
        "FOMC_all_voc_0 = []\n",
        "\n",
        "for i in range(222):\n",
        "  FOMC_all_voc_0 += FOMC_pickle[i]\n",
        "\n",
        "print(len(set(FOMC_all_voc_0)))\n",
        "FOMC_all_voc = set(FOMC_all_voc_0)"
      ],
      "execution_count": 22,
      "outputs": [
        {
          "output_type": "stream",
          "text": [
            "4102\n"
          ],
          "name": "stdout"
        }
      ]
    },
    {
      "cell_type": "code",
      "metadata": {
        "colab": {
          "base_uri": "https://localhost:8080/",
          "height": 67
        },
        "id": "duXkA9_5P0-T",
        "outputId": "15a5f7a9-2ecc-4a8e-cf55-c11348d826c8"
      },
      "source": [
        "'''\n",
        "from sklearn.feature_extraction.text import CountVectorizer\n",
        "from sklearn.model_selection import cross_val_score\n",
        "from sklearn.decomposition import PCA\n",
        "\n",
        "# Build BOW features on train articles\n",
        "cv = CountVectorizer(binary=False, min_df=0.0, max_df=1.0, ngram_range=(1, 1), vocabulary=FOMC_all_voc)\n",
        "\n",
        "cv_train_features_0 = cv.fit_transform(train_corpus)\n",
        "print('Original number of features:', cv_train_features_0.shape[1])\n",
        "\n",
        "pca = PCA(n_components=0.99, whiten=True)\n",
        "cv_train_features = pca.fit_transform(cv_train_features_0)\n",
        "print('Reduced number of features:', features_pca.shape[1])\n",
        "'''"
      ],
      "execution_count": 23,
      "outputs": [
        {
          "output_type": "execute_result",
          "data": {
            "application/vnd.google.colaboratory.intrinsic+json": {
              "type": "string"
            },
            "text/plain": [
              "\"\\nfrom sklearn.feature_extraction.text import CountVectorizer\\nfrom sklearn.model_selection import cross_val_score\\nfrom sklearn.decomposition import PCA\\n\\n# Build BOW features on train articles\\ncv = CountVectorizer(binary=False, min_df=0.0, max_df=1.0, ngram_range=(1, 1), vocabulary=FOMC_all_voc)\\n\\ncv_train_features_0 = cv.fit_transform(train_corpus)\\nprint('Original number of features:', cv_train_features_0.shape[1])\\n\\npca = PCA(n_components=0.99, whiten=True)\\ncv_train_features = pca.fit_transform(cv_train_features_0)\\nprint('Reduced number of features:', features_pca.shape[1])\\n\""
            ]
          },
          "metadata": {
            "tags": []
          },
          "execution_count": 23
        }
      ]
    },
    {
      "cell_type": "markdown",
      "metadata": {
        "id": "BHX2-Fr-zGmn"
      },
      "source": [
        "What is Kernel PCA? using R & Python\\\n",
        "https://medium.com/data2dimensions-rupak-bob-roy/what-is-kernel-pca-bb93f57259dd"
      ]
    },
    {
      "cell_type": "code",
      "metadata": {
        "colab": {
          "base_uri": "https://localhost:8080/",
          "height": 100
        },
        "id": "60iE9yhAzFHI",
        "outputId": "8103ea0f-96b0-4b11-e76c-3960609504ed"
      },
      "source": [
        "'''\n",
        "#simple PCA\n",
        "#Splitting the dataset into the Training set and Test set\n",
        "from sklearn.model_selection import train_test_split\n",
        "X_train, X_test, y_train, y_test = train_test_split(X, y, test_size = 0.2, random_state = 0)\n",
        "\n",
        "#Feature Scaling\n",
        "from sklearn.preprocessing import StandardScaler\n",
        "sc = StandardScaler()\n",
        "X_train = sc.fit_transform(X_train)\n",
        "X_test = sc.transform(X_test)\n",
        "\n",
        "#Applying PCA\n",
        "from sklearn.decomposition import PCA\n",
        "pca = PCA(n_components = 2)\n",
        "X_train = pca.fit_transform(X_train)\n",
        "X_test = pca.transform(X_test)\n",
        "explained_variance = pca.explained_variance_ratio_\n",
        "\n",
        "#Fitting Logistic Regression to the Training set\n",
        "from sklearn.linear_model import LogisticRegression\n",
        "classifier = LogisticRegression(random_state = 0)\n",
        "classifier.fit(X_train, y_train)\n",
        "\n",
        "#Predicting the Test set results\n",
        "y_pred = classifier.predict(X_test)\n",
        "\n",
        "#Making the Confusion Matrix\n",
        "from sklearn.metrics import confusion_matrix\n",
        "cm = confusion_matrix(y_test, y_pred)\n",
        "\n",
        "#Another evaluation Metrics \n",
        "from sklearn import metrics\n",
        "print('Accuracy Score:', metrics.accuracy_score(y_test, y_pred))\n",
        "'''"
      ],
      "execution_count": 24,
      "outputs": [
        {
          "output_type": "execute_result",
          "data": {
            "application/vnd.google.colaboratory.intrinsic+json": {
              "type": "string"
            },
            "text/plain": [
              "\"\\n#simple PCA\\n#Splitting the dataset into the Training set and Test set\\nfrom sklearn.model_selection import train_test_split\\nX_train, X_test, y_train, y_test = train_test_split(X, y, test_size = 0.2, random_state = 0)\\n\\n#Feature Scaling\\nfrom sklearn.preprocessing import StandardScaler\\nsc = StandardScaler()\\nX_train = sc.fit_transform(X_train)\\nX_test = sc.transform(X_test)\\n\\n#Applying PCA\\nfrom sklearn.decomposition import PCA\\npca = PCA(n_components = 2)\\nX_train = pca.fit_transform(X_train)\\nX_test = pca.transform(X_test)\\nexplained_variance = pca.explained_variance_ratio_\\n\\n#Fitting Logistic Regression to the Training set\\nfrom sklearn.linear_model import LogisticRegression\\nclassifier = LogisticRegression(random_state = 0)\\nclassifier.fit(X_train, y_train)\\n\\n#Predicting the Test set results\\ny_pred = classifier.predict(X_test)\\n\\n#Making the Confusion Matrix\\nfrom sklearn.metrics import confusion_matrix\\ncm = confusion_matrix(y_test, y_pred)\\n\\n#Another evaluation Metrics \\nfrom sklearn import metrics\\nprint('Accuracy Score:', metrics.accuracy_score(y_test, y_pred))\\n\""
            ]
          },
          "metadata": {
            "tags": []
          },
          "execution_count": 24
        }
      ]
    },
    {
      "cell_type": "markdown",
      "metadata": {
        "id": "Jv5D7Zvd3grc"
      },
      "source": [
        "# Linear Reduction TSVD (95%)"
      ]
    },
    {
      "cell_type": "code",
      "metadata": {
        "colab": {
          "base_uri": "https://localhost:8080/"
        },
        "id": "L6MjrMysOBej",
        "outputId": "df8a818f-e1ea-43c1-93c4-abba0d43a70f"
      },
      "source": [
        "'''\n",
        "print(tsvd.explained_variance_ratio_[:].sum())\n",
        "print('Reduced number of features:', cv_test_features.shape[1])\n",
        "print('BOW model:> Train features shape:', cv_train_features.shape, ' Test features shape:', cv_test_features.shape)\n",
        "'''"
      ],
      "execution_count": null,
      "outputs": [
        {
          "output_type": "execute_result",
          "data": {
            "text/plain": [
              "0.9507319735717774"
            ]
          },
          "metadata": {
            "tags": []
          },
          "execution_count": 54
        }
      ]
    },
    {
      "cell_type": "code",
      "metadata": {
        "id": "W4gXNx_AsQPi"
      },
      "source": [
        "def select_n_components(var_ratio_list, goal_explained_var):\n",
        "\n",
        "  for i in range(len(var_ratio_list)):\n",
        "    k = var_ratio_list[:i].sum()\n",
        "    if k > goal_explained_var:\n",
        "      return i"
      ],
      "execution_count": 32,
      "outputs": []
    },
    {
      "cell_type": "markdown",
      "metadata": {
        "id": "ic035S3LaD1h"
      },
      "source": [
        "## 1. Logistic Regression (95%)"
      ]
    },
    {
      "cell_type": "code",
      "metadata": {
        "id": "W_PZJeAOaJhY"
      },
      "source": [
        "'''\n",
        "param_grid = {'tf__ngram_range': [(1, 1)],\n",
        "              'lr__C': [1e-5, 1e-4, 1e-2, 1e-1, 1, 10, 100, 1000]}\n",
        "'''"
      ],
      "execution_count": null,
      "outputs": []
    },
    {
      "cell_type": "code",
      "metadata": {
        "colab": {
          "base_uri": "https://localhost:8080/"
        },
        "id": "_q2proTsM_2T",
        "outputId": "1d31325c-fdd8-4695-a178-7decf7a67eec"
      },
      "source": [
        "import time as t\n",
        "import numpy as np\n",
        "from sklearn.pipeline import Pipeline\n",
        "from sklearn.model_selection import GridSearchCV\n",
        "from sklearn.feature_extraction.text import TfidfVectorizer\n",
        "from sklearn.linear_model import LogisticRegression\n",
        "\n",
        "from sklearn.model_selection import train_test_split\n",
        "# from sklearn.model_selection import cross_val_score\n",
        "from sklearn.feature_extraction.text import CountVectorizer\n",
        "from sklearn.decomposition import TruncatedSVD\n",
        "from sklearn.preprocessing import StandardScaler\n",
        "\n",
        "times = 100\n",
        "lr_n_times = np.zeros(times)\n",
        "\n",
        "t1 = t.perf_counter()\n",
        "\n",
        "cv = CountVectorizer(binary=False, min_df=0.0, max_df=1.0, ngram_range=(1, 1), vocabulary=FOMC_all_voc)\n",
        "\n",
        "for i in range(times):\n",
        "  \n",
        "  ## [1] 80-20 split\n",
        "\n",
        "  # sklearn.model_selection.train_test_split(*arrays, test_size=None, train_size=None, random_state=None, shuffle=True, stratify=None)\n",
        "\n",
        "  train_corpus, test_corpus, train_label_nums, test_label_nums = \\\n",
        "                                  train_test_split(np.array(FOMC_pickle_2), fund_rate_change_2, \n",
        "                                                    test_size=0.2, stratify=fund_rate_change_2) # random_state = 2021 / 2022 / 2023 / 2024 / 3000\n",
        "\n",
        "  # build BOW features on train articles\n",
        "  # transform test articles into features\n",
        "\n",
        "  cv_train_features_0 = cv.fit_transform(train_corpus)\n",
        "  # print('Original number of features:', cv_train_features_0.shape[1])\n",
        "  cv_test_features_0 = cv.transform(test_corpus)\n",
        "\n",
        "  tsvd = TruncatedSVD(n_components=cv_train_features_0.shape[0]-1, random_state=2021)\n",
        "  features_tsvd = tsvd.fit(cv_train_features_0)\n",
        "\n",
        "  tsvd_var_ratios = tsvd.explained_variance_ratio_\n",
        "\n",
        "  n_components_95 = select_n_components(tsvd_var_ratios, 0.95)\n",
        "\n",
        "  '''\n",
        "  sc = StandardScaler(with_mean=False) \n",
        "  # ValueError: Cannot center sparse matrices: pass `with_mean=False` instead. See docstring for motivation and alternatives.\n",
        "  cv_train_features_1 = sc.fit_transform(cv_train_features_0)\n",
        "  cv_test_features_1 = sc.fit_transform(cv_test_features_0)\n",
        "  '''\n",
        "  sc = StandardScaler(with_mean=False) \n",
        "  cv_train_features_1 = sc.fit_transform(cv_train_features_0)\n",
        "  cv_test_features_1 = sc.fit_transform(cv_test_features_0)\n",
        "\n",
        "  tsvd = TruncatedSVD(n_components=n_components_95, random_state=2021)\n",
        "  cv_train_features = tsvd.fit(cv_train_features_1).transform(cv_train_features_1)\n",
        "  # print('Reduced number of features:', cv_train_features.shape[1])\n",
        "  cv_test_features = tsvd.transform(cv_test_features_1)\n",
        "  # print('BOW model:> Train features shape:', cv_train_features.shape, ' Test features shape:', cv_test_features.shape)\n",
        "\n",
        "\n",
        "  # [2] LR\n",
        " \n",
        "  lr_pipeline = Pipeline([('lr', LogisticRegression(penalty='l2', max_iter=8000, random_state=42))])\n",
        "\n",
        "  param_grid = {'lr__C': [0.001, 0.01, 0.1, 1.0, 5.0, 10.0, 100.0]}\n",
        "\n",
        "  gs_lr = GridSearchCV(lr_pipeline, param_grid, cv=5, verbose=0)\n",
        "  gs_lr = gs_lr.fit(cv_train_features, train_label_nums)\n",
        "\n",
        "  best_lr_test_score = gs_lr.score(cv_test_features, test_label_nums)\n",
        "  # print('Test Accuracy :', best_lr_test_score)\n",
        "\n",
        "  lr_n_times[i] = np.around(best_lr_test_score, 4)\n",
        "  \n",
        "  if (i+1) % 10 == 0:\n",
        "    test_accuracy = np.around(np.mean(lr_n_times[:i+1]) * 100, 2)\n",
        "    t2 = t.perf_counter()\n",
        "    time_spent = np.around(t2 - t1, 2)\n",
        "    print ('Times [{:3d}/{:d}] | test accuracy: {:5.2f} % | Time spent: {} s'.format(i+1, times, test_accuracy, time_spent))\n",
        "\n",
        "t3 = t.perf_counter()\n",
        "time_spent_final = np.around(t3 - t1, 2)\n",
        "print()\n",
        "print(\"Running time: {} s\".format(time_spent_final))\n",
        "print()\n",
        "print(\"Final test accuracy: {:5.2f} %\".format(np.mean(lr_n_times) * 100))"
      ],
      "execution_count": 28,
      "outputs": [
        {
          "output_type": "stream",
          "text": [
            "Times [ 10/100] | test accuracy: 74.89 % | Time spent: 74.88 s\n",
            "Times [ 20/100] | test accuracy: 75.22 % | Time spent: 147.71 s\n",
            "Times [ 30/100] | test accuracy: 75.11 % | Time spent: 223.79 s\n",
            "Times [ 40/100] | test accuracy: 75.33 % | Time spent: 299.0 s\n",
            "Times [ 50/100] | test accuracy: 75.29 % | Time spent: 375.67 s\n",
            "Times [ 60/100] | test accuracy: 75.19 % | Time spent: 448.49 s\n",
            "Times [ 70/100] | test accuracy: 75.08 % | Time spent: 528.43 s\n",
            "Times [ 80/100] | test accuracy: 75.03 % | Time spent: 611.68 s\n",
            "Times [ 90/100] | test accuracy: 75.11 % | Time spent: 695.8 s\n",
            "Times [100/100] | test accuracy: 75.24 % | Time spent: 788.93 s\n",
            "\n",
            "Running time: 788.93 s\n",
            "\n",
            "Final test accuracy: 75.25 %\n"
          ],
          "name": "stdout"
        }
      ]
    },
    {
      "cell_type": "code",
      "metadata": {
        "colab": {
          "base_uri": "https://localhost:8080/"
        },
        "id": "Qz7NlD05jM_z",
        "outputId": "774ccabb-1e7a-4e2d-c933-d893d2e01948"
      },
      "source": [
        "gs_lr.best_estimator_.get_params()"
      ],
      "execution_count": null,
      "outputs": [
        {
          "output_type": "execute_result",
          "data": {
            "text/plain": [
              "{'lr': LogisticRegression(C=0.01, class_weight=None, dual=False, fit_intercept=True,\n",
              "                    intercept_scaling=1, l1_ratio=None, max_iter=8000,\n",
              "                    multi_class='auto', n_jobs=None, penalty='l2',\n",
              "                    random_state=42, solver='lbfgs', tol=0.0001, verbose=0,\n",
              "                    warm_start=False),\n",
              " 'lr__C': 0.01,\n",
              " 'lr__class_weight': None,\n",
              " 'lr__dual': False,\n",
              " 'lr__fit_intercept': True,\n",
              " 'lr__intercept_scaling': 1,\n",
              " 'lr__l1_ratio': None,\n",
              " 'lr__max_iter': 8000,\n",
              " 'lr__multi_class': 'auto',\n",
              " 'lr__n_jobs': None,\n",
              " 'lr__penalty': 'l2',\n",
              " 'lr__random_state': 42,\n",
              " 'lr__solver': 'lbfgs',\n",
              " 'lr__tol': 0.0001,\n",
              " 'lr__verbose': 0,\n",
              " 'lr__warm_start': False,\n",
              " 'memory': None,\n",
              " 'steps': [('lr',\n",
              "   LogisticRegression(C=0.01, class_weight=None, dual=False, fit_intercept=True,\n",
              "                      intercept_scaling=1, l1_ratio=None, max_iter=8000,\n",
              "                      multi_class='auto', n_jobs=None, penalty='l2',\n",
              "                      random_state=42, solver='lbfgs', tol=0.0001, verbose=0,\n",
              "                      warm_start=False))],\n",
              " 'verbose': False}"
            ]
          },
          "metadata": {
            "tags": []
          },
          "execution_count": 94
        }
      ]
    },
    {
      "cell_type": "code",
      "metadata": {
        "colab": {
          "base_uri": "https://localhost:8080/"
        },
        "id": "3nVKByTOjPt7",
        "outputId": "0944ef90-1d40-4791-a712-cdfe227976a5"
      },
      "source": [
        "print('BOW model:> Train features shape:', cv_train_features.shape, ' Test features shape:', cv_test_features.shape)"
      ],
      "execution_count": null,
      "outputs": [
        {
          "output_type": "stream",
          "text": [
            "BOW model:> Train features shape: (177, 101)  Test features shape: (45, 101)\n"
          ],
          "name": "stdout"
        }
      ]
    },
    {
      "cell_type": "code",
      "metadata": {
        "colab": {
          "base_uri": "https://localhost:8080/"
        },
        "id": "-SG3r0y0smZX",
        "outputId": "c714e4c5-e562-4ac5-9f8d-12c66c4ce239"
      },
      "source": [
        "print(cv_train_features_1)"
      ],
      "execution_count": null,
      "outputs": [
        {
          "output_type": "stream",
          "text": [
            "  (0, 9)\t1.535593065732428\n",
            "  (0, 16)\t1.1286025421565835\n",
            "  (0, 26)\t2.4684487960122454\n",
            "  (0, 28)\t1.9806384904088352\n",
            "  (0, 34)\t1.316795171627073\n",
            "  (0, 35)\t1.863674219506277\n",
            "  (0, 36)\t3.9331391090370698\n",
            "  (0, 38)\t1.5544866827655643\n",
            "  (0, 41)\t2.0411681568758424\n",
            "  (0, 47)\t1.2543135999063786\n",
            "  (0, 48)\t3.0173766672185236\n",
            "  (0, 49)\t1.19507331106438\n",
            "  (0, 53)\t0.9663046285686167\n",
            "  (0, 57)\t0.26895720662873857\n",
            "  (0, 64)\t1.37865875723731\n",
            "  (0, 70)\t1.9041617154105572\n",
            "  (0, 73)\t3.0750202746965933\n",
            "  (0, 75)\t0.7577676931836334\n",
            "  (0, 88)\t1.7885175930705555\n",
            "  (0, 99)\t1.6243279902477838\n",
            "  (0, 103)\t0.6875666147405273\n",
            "  (0, 104)\t0.9746778789299674\n",
            "  (0, 107)\t1.0206519477033955\n",
            "  (0, 110)\t2.2515366920679214\n",
            "  (0, 123)\t1.8707391264835849\n",
            "  :\t:\n",
            "  (176, 4006)\t1.6671057305900159\n",
            "  (176, 4012)\t1.6273382586225833\n",
            "  (176, 4013)\t0.5816266857314129\n",
            "  (176, 4018)\t0.716981233915746\n",
            "  (176, 4020)\t1.2078886608450674\n",
            "  (176, 4022)\t0.8405161064043646\n",
            "  (176, 4025)\t0.6842806232123491\n",
            "  (176, 4027)\t2.8357229122956062\n",
            "  (176, 4028)\t2.507737528396272\n",
            "  (176, 4038)\t1.0256777149849703\n",
            "  (176, 4040)\t1.2388228609954106\n",
            "  (176, 4043)\t0.8903808031364202\n",
            "  (176, 4044)\t0.7015528874961531\n",
            "  (176, 4046)\t1.518460460832996\n",
            "  (176, 4048)\t2.7764919377363513\n",
            "  (176, 4060)\t2.2233829972955017\n",
            "  (176, 4065)\t1.6197005622144014\n",
            "  (176, 4067)\t2.3897109012934687\n",
            "  (176, 4069)\t1.2438292129995627\n",
            "  (176, 4072)\t1.7426798098722356\n",
            "  (176, 4084)\t2.3548865516674127\n",
            "  (176, 4089)\t3.3299793090020393\n",
            "  (176, 4095)\t1.464426475918259\n",
            "  (176, 4096)\t2.3031729170747233\n",
            "  (176, 4100)\t1.410369759014584\n"
          ],
          "name": "stdout"
        }
      ]
    },
    {
      "cell_type": "code",
      "metadata": {
        "colab": {
          "base_uri": "https://localhost:8080/"
        },
        "id": "fzLAqFl7_c1a",
        "outputId": "cef5f909-2956-4045-f1a8-884615eb9f05"
      },
      "source": [
        "'''\n",
        "from sklearn.linear_model import LogisticRegression\n",
        "from sklearn.model_selection import StratifiedKFold\n",
        "\n",
        "train_ = np.zeros(10)\n",
        "lr = LogisticRegression(penalty='l2', max_iter=8000, C=10, random_state=42)\n",
        "\n",
        "for i in range(10):\n",
        "\n",
        "  lr_bow_cv_scores = cross_val_score(lr, cv_train_features, train_label_nums, cv=StratifiedKFold(n_splits=5, shuffle=True))\n",
        "  lr_bow_cv_mean_score = np.mean(lr_bow_cv_scores)\n",
        "  print('CV Accuracy (5-fold):', lr_bow_cv_scores)\n",
        "  print('Mean Training CV Accuracy:', lr_bow_cv_mean_score)\n",
        "\n",
        "  train_[i] = lr_bow_cv_mean_score\n",
        "\n",
        "lr.fit(cv_train_features, train_label_nums)\n",
        "lr_bow_test_score = lr.score(cv_test_features, test_label_nums)\n",
        "\n",
        "print('----------')\n",
        "print('Test Accuracy:', lr_bow_test_score)\n",
        "'''"
      ],
      "execution_count": null,
      "outputs": [
        {
          "output_type": "stream",
          "text": [
            "CV Accuracy (5-fold): [0.69444444 0.69444444 0.77142857 0.74285714 0.8       ]\n",
            "Mean Training CV Accuracy: 0.7406349206349206\n",
            "CV Accuracy (5-fold): [0.75       0.88888889 0.74285714 0.85714286 0.77142857]\n",
            "Mean Training CV Accuracy: 0.802063492063492\n",
            "CV Accuracy (5-fold): [0.86111111 0.86111111 0.85714286 0.8        0.74285714]\n",
            "Mean Training CV Accuracy: 0.8244444444444445\n",
            "CV Accuracy (5-fold): [0.80555556 0.80555556 0.82857143 0.8        0.8       ]\n",
            "Mean Training CV Accuracy: 0.807936507936508\n",
            "CV Accuracy (5-fold): [0.83333333 0.80555556 0.82857143 0.88571429 0.8       ]\n",
            "Mean Training CV Accuracy: 0.8306349206349207\n",
            "CV Accuracy (5-fold): [0.75       0.88888889 0.74285714 0.62857143 0.88571429]\n",
            "Mean Training CV Accuracy: 0.7792063492063492\n",
            "CV Accuracy (5-fold): [0.83333333 0.80555556 0.91428571 0.82857143 0.74285714]\n",
            "Mean Training CV Accuracy: 0.824920634920635\n",
            "CV Accuracy (5-fold): [0.75       0.86111111 0.82857143 0.68571429 0.85714286]\n",
            "Mean Training CV Accuracy: 0.7965079365079366\n",
            "CV Accuracy (5-fold): [0.77777778 0.77777778 0.88571429 0.8        0.74285714]\n",
            "Mean Training CV Accuracy: 0.7968253968253969\n",
            "CV Accuracy (5-fold): [0.72222222 0.86111111 0.8        0.82857143 0.82857143]\n",
            "Mean Training CV Accuracy: 0.8080952380952382\n",
            "----------\n",
            "Test Accuracy: 0.7555555555555555\n"
          ],
          "name": "stdout"
        }
      ]
    },
    {
      "cell_type": "code",
      "metadata": {
        "colab": {
          "base_uri": "https://localhost:8080/"
        },
        "id": "VsyTScVlfumz",
        "outputId": "bb861621-6f64-4c63-dd55-1fb9de429288"
      },
      "source": [
        "print(f'Test accuracy = {0.00044:.4f}')\n",
        "print(f'Test accuracy = {0.00045:.4f}')\n",
        "print(f'Test accuracy = {0.00045000000:.4f}')\n",
        "print(f'Test accuracy = {0.0004500000000001:.4f}')\n",
        "print(f'Test accuracy = {0.00046:.4f}')"
      ],
      "execution_count": null,
      "outputs": [
        {
          "output_type": "stream",
          "text": [
            "Test accuracy = 0.0004\n",
            "Test accuracy = 0.0004\n",
            "Test accuracy = 0.0004\n",
            "Test accuracy = 0.0005\n",
            "Test accuracy = 0.0005\n"
          ],
          "name": "stdout"
        }
      ]
    },
    {
      "cell_type": "markdown",
      "metadata": {
        "id": "pAU1zHC9EN-v"
      },
      "source": [
        "## 2. SVM (95%)"
      ]
    },
    {
      "cell_type": "code",
      "metadata": {
        "colab": {
          "base_uri": "https://localhost:8080/"
        },
        "id": "ehXFgXZ8udsx",
        "outputId": "accfca13-82cb-44bc-91a4-7b91c17a5a03"
      },
      "source": [
        "import time as t\n",
        "import numpy as np\n",
        "from sklearn.pipeline import Pipeline\n",
        "from sklearn.model_selection import GridSearchCV\n",
        "from sklearn.feature_extraction.text import TfidfVectorizer\n",
        "from sklearn.svm import SVC\n",
        "\n",
        "from sklearn.model_selection import train_test_split\n",
        "# from sklearn.model_selection import cross_val_score\n",
        "from sklearn.feature_extraction.text import CountVectorizer\n",
        "from sklearn.decomposition import TruncatedSVD\n",
        "from sklearn.preprocessing import StandardScaler\n",
        "\n",
        "times = 100\n",
        "svm_n_times = np.zeros(times)\n",
        "\n",
        "t1 = t.perf_counter()\n",
        "\n",
        "cv = CountVectorizer(binary=False, min_df=0.0, max_df=1.0, ngram_range=(1, 1), vocabulary=FOMC_all_voc)\n",
        "\n",
        "for i in range(times):\n",
        "  \n",
        "  ## [1] 80-20 split\n",
        "\n",
        "  # sklearn.model_selection.train_test_split(*arrays, test_size=None, train_size=None, random_state=None, shuffle=True, stratify=None)\n",
        "\n",
        "  train_corpus, test_corpus, train_label_nums, test_label_nums = \\\n",
        "                                  train_test_split(np.array(FOMC_pickle_2), fund_rate_change_2, \n",
        "                                                    test_size=0.2, stratify=fund_rate_change_2) # random_state = 2021 / 2022 / 2023 / 2024 / 3000\n",
        "\n",
        "  # build BOW features on train articles\n",
        "  # transform test articles into features\n",
        "\n",
        "  cv_train_features_0 = cv.fit_transform(train_corpus)\n",
        "  # print('Original number of features:', cv_train_features_0.shape[1])\n",
        "  cv_test_features_0 = cv.transform(test_corpus)\n",
        "\n",
        "  tsvd = TruncatedSVD(n_components=cv_train_features_0.shape[0]-1, random_state=2021)\n",
        "  features_tsvd = tsvd.fit(cv_train_features_0)\n",
        "\n",
        "  tsvd_var_ratios = tsvd.explained_variance_ratio_\n",
        "\n",
        "  n_components_95 = select_n_components_95(tsvd_var_ratios, goal_explained_var=0.95)\n",
        "\n",
        "  '''\n",
        "  sc = StandardScaler(with_mean=False) \n",
        "  # ValueError: Cannot center sparse matrices: pass `with_mean=False` instead. See docstring for motivation and alternatives.\n",
        "  cv_train_features_1 = sc.fit_transform(cv_train_features_0)\n",
        "  cv_test_features_1 = sc.fit_transform(cv_test_features_0)\n",
        "  '''\n",
        "  sc = StandardScaler(with_mean=False) \n",
        "  cv_train_features_1 = sc.fit_transform(cv_train_features_0)\n",
        "  cv_test_features_1 = sc.fit_transform(cv_test_features_0)\n",
        "\n",
        "  tsvd = TruncatedSVD(n_components=n_components_95, random_state=2021)\n",
        "  cv_train_features = tsvd.fit(cv_train_features_1).transform(cv_train_features_1)\n",
        "  # print('Reduced number of features:', cv_train_features.shape[1])\n",
        "  cv_test_features = tsvd.transform(cv_test_features_1)\n",
        "  # print('BOW model:> Train features shape:', cv_train_features.shape, ' Test features shape:', cv_test_features.shape)\n",
        "\n",
        "\n",
        "  # [2] SVM\n",
        " \n",
        "  svm_pipeline = Pipeline([('svm', SVC(kernel='rbf'))])\n",
        "\n",
        "  param_grid = {'svm__gamma': [1e-07, 1e-06, 1e-05, 1e-04, 1e-03, 1e-02, 1e-01, 0, 1],\n",
        "                'svm__C': [0.1, 1.0, 10, 100, 500, 1000]}\n",
        "\n",
        "  gs_svm = GridSearchCV(svm_pipeline, param_grid, cv=5, verbose=0)\n",
        "  gs_svm = gs_svm.fit(cv_train_features, train_label_nums)\n",
        "\n",
        "  best_svm_test_score = gs_svm.score(cv_test_features, test_label_nums)\n",
        "\n",
        "  svm_n_times[i] = np.around(best_svm_test_score, 4)\n",
        "\n",
        "  if (i+1) % 10 == 0:\n",
        "    test_accuracy = np.around(np.mean(svm_n_times[:i+1]) * 100, 2)\n",
        "    t2 = t.perf_counter()\n",
        "    time_spent = np.around(t2 - t1, 2)\n",
        "    print ('Times [{:3d}/{:d}] | test accuracy: {:5.2f} % | Time spent: {} s'.format(i+1, times, test_accuracy, time_spent))\n",
        "\n",
        "t3 = t.perf_counter()\n",
        "time_spent_final = np.around(t3 - t1, 2)\n",
        "print()\n",
        "print(\"Running time: {} s\".format(time_spent_final))\n",
        "print()\n",
        "print(\"Final test accuracy: {:5.2f} %\".format(np.mean(svm_n_times) * 100))"
      ],
      "execution_count": null,
      "outputs": [
        {
          "output_type": "stream",
          "text": [
            "Times [ 10/100] | test accuracy: 74.44 % | Time spent: 34.76 s\n",
            "Times [ 20/100] | test accuracy: 74.89 % | Time spent: 69.79 s\n",
            "Times [ 30/100] | test accuracy: 75.19 % | Time spent: 104.77 s\n",
            "Times [ 40/100] | test accuracy: 75.78 % | Time spent: 140.11 s\n",
            "Times [ 50/100] | test accuracy: 76.09 % | Time spent: 175.08 s\n",
            "Times [ 60/100] | test accuracy: 75.82 % | Time spent: 210.61 s\n",
            "Times [ 70/100] | test accuracy: 75.68 % | Time spent: 246.09 s\n",
            "Times [ 80/100] | test accuracy: 75.86 % | Time spent: 281.18 s\n",
            "Times [ 90/100] | test accuracy: 75.75 % | Time spent: 315.98 s\n",
            "Times [100/100] | test accuracy: 75.71 % | Time spent: 350.92 s\n",
            "\n",
            "Running time: 350.92 s\n",
            "\n",
            "Final test accuracy: 75.71 %\n"
          ],
          "name": "stdout"
        }
      ]
    },
    {
      "cell_type": "code",
      "metadata": {
        "colab": {
          "base_uri": "https://localhost:8080/"
        },
        "id": "D9uJZRbN4UNI",
        "outputId": "f89f8be6-5c99-46be-e518-232766a234a3"
      },
      "source": [
        "gs_svm.best_estimator_.get_params()"
      ],
      "execution_count": null,
      "outputs": [
        {
          "output_type": "execute_result",
          "data": {
            "text/plain": [
              "{'memory': None,\n",
              " 'steps': [('svm',\n",
              "   SVC(C=500, break_ties=False, cache_size=200, class_weight=None, coef0=0.0,\n",
              "       decision_function_shape='ovr', degree=3, gamma=1e-06, kernel='rbf',\n",
              "       max_iter=-1, probability=False, random_state=None, shrinking=True,\n",
              "       tol=0.001, verbose=False))],\n",
              " 'svm': SVC(C=500, break_ties=False, cache_size=200, class_weight=None, coef0=0.0,\n",
              "     decision_function_shape='ovr', degree=3, gamma=1e-06, kernel='rbf',\n",
              "     max_iter=-1, probability=False, random_state=None, shrinking=True,\n",
              "     tol=0.001, verbose=False),\n",
              " 'svm__C': 500,\n",
              " 'svm__break_ties': False,\n",
              " 'svm__cache_size': 200,\n",
              " 'svm__class_weight': None,\n",
              " 'svm__coef0': 0.0,\n",
              " 'svm__decision_function_shape': 'ovr',\n",
              " 'svm__degree': 3,\n",
              " 'svm__gamma': 1e-06,\n",
              " 'svm__kernel': 'rbf',\n",
              " 'svm__max_iter': -1,\n",
              " 'svm__probability': False,\n",
              " 'svm__random_state': None,\n",
              " 'svm__shrinking': True,\n",
              " 'svm__tol': 0.001,\n",
              " 'svm__verbose': False,\n",
              " 'verbose': False}"
            ]
          },
          "metadata": {
            "tags": []
          },
          "execution_count": 105
        }
      ]
    },
    {
      "cell_type": "code",
      "metadata": {
        "colab": {
          "base_uri": "https://localhost:8080/"
        },
        "id": "tL4q2RpN4g-U",
        "outputId": "ee4f4d27-c878-41b3-c32a-91fb7eab15ff"
      },
      "source": [
        "print('BOW model:> Train features shape:', cv_train_features.shape, ' Test features shape:', cv_test_features.shape)"
      ],
      "execution_count": null,
      "outputs": [
        {
          "output_type": "stream",
          "text": [
            "BOW model:> Train features shape: (177, 101)  Test features shape: (45, 101)\n"
          ],
          "name": "stdout"
        }
      ]
    },
    {
      "cell_type": "code",
      "metadata": {
        "colab": {
          "base_uri": "https://localhost:8080/"
        },
        "id": "oG3pZNi1VQuZ",
        "outputId": "3f55015e-de9a-47de-dbed-eccbf0e2012f"
      },
      "source": [
        "'''\n",
        "from sklearn.svm import SVC\n",
        "\n",
        "train_ = np.zeros(10)\n",
        "svc = SVC(kernel='rbf', gamma=1e-06, C=120) # gamma=1e-06, C=300 / gamma=1e-05, C=10\n",
        "\n",
        "for i in range(10):\n",
        "\n",
        "  svc_tfidf_cv_scores = cross_val_score(svc, cv_train_features, train_label_nums, cv=StratifiedKFold(n_splits=5, shuffle=True))\n",
        "  svc_tfidf_cv_mean_score = np.mean(svc_tfidf_cv_scores)\n",
        "  print('CV Accuracy (5-fold):', svc_tfidf_cv_scores)\n",
        "  print('Mean Training CV Accuracy:', svc_tfidf_cv_mean_score)\n",
        "\n",
        "  train_[i] = svc_tfidf_cv_mean_score\n",
        "\n",
        "svc.fit(cv_train_features, train_label_nums)\n",
        "svc_tfidf_test_score = svc.score(cv_test_features, test_label_nums)\n",
        "\n",
        "print('----------')\n",
        "print('Test Accuracy:', svc_tfidf_test_score)\n",
        "'''"
      ],
      "execution_count": null,
      "outputs": [
        {
          "output_type": "stream",
          "text": [
            "CV Accuracy (5-fold): [0.86111111 0.83333333 0.77142857 0.8        0.82857143]\n",
            "Mean Training CV Accuracy: 0.8188888888888888\n",
            "CV Accuracy (5-fold): [0.86111111 0.77777778 0.77142857 0.77142857 0.85714286]\n",
            "Mean Training CV Accuracy: 0.8077777777777777\n",
            "CV Accuracy (5-fold): [0.91666667 0.77777778 0.74285714 0.8        0.85714286]\n",
            "Mean Training CV Accuracy: 0.8188888888888888\n",
            "CV Accuracy (5-fold): [0.80555556 0.83333333 0.77142857 0.85714286 0.85714286]\n",
            "Mean Training CV Accuracy: 0.8249206349206348\n",
            "CV Accuracy (5-fold): [0.80555556 0.80555556 0.74285714 0.85714286 0.8       ]\n",
            "Mean Training CV Accuracy: 0.8022222222222222\n",
            "CV Accuracy (5-fold): [0.75       0.83333333 0.82857143 0.85714286 0.77142857]\n",
            "Mean Training CV Accuracy: 0.8080952380952382\n",
            "CV Accuracy (5-fold): [0.86111111 0.77777778 0.8        0.85714286 0.82857143]\n",
            "Mean Training CV Accuracy: 0.824920634920635\n",
            "CV Accuracy (5-fold): [0.88888889 0.77777778 0.77142857 0.74285714 0.8       ]\n",
            "Mean Training CV Accuracy: 0.7961904761904762\n",
            "CV Accuracy (5-fold): [0.69444444 0.86111111 0.85714286 0.8        0.82857143]\n",
            "Mean Training CV Accuracy: 0.8082539682539682\n",
            "CV Accuracy (5-fold): [0.77777778 0.69444444 0.8        0.8        0.88571429]\n",
            "Mean Training CV Accuracy: 0.7915873015873015\n",
            "----------\n",
            "Test Accuracy: 0.8222222222222222\n"
          ],
          "name": "stdout"
        }
      ]
    },
    {
      "cell_type": "markdown",
      "metadata": {
        "id": "EBC3dxwhulFC"
      },
      "source": [
        "## 3. RF (95%)"
      ]
    },
    {
      "cell_type": "code",
      "metadata": {
        "colab": {
          "base_uri": "https://localhost:8080/"
        },
        "id": "WGCO_zqF6DrP",
        "outputId": "195eb2cf-9f20-47be-c572-a3e5c2c27f32"
      },
      "source": [
        "import time as t\n",
        "import numpy as np\n",
        "from sklearn.pipeline import Pipeline\n",
        "from sklearn.model_selection import GridSearchCV\n",
        "from sklearn.feature_extraction.text import TfidfVectorizer\n",
        "from sklearn.ensemble import RandomForestClassifier\n",
        "\n",
        "from sklearn.model_selection import train_test_split\n",
        "# from sklearn.model_selection import cross_val_score\n",
        "from sklearn.feature_extraction.text import CountVectorizer\n",
        "from sklearn.decomposition import TruncatedSVD\n",
        "from sklearn.preprocessing import StandardScaler\n",
        "\n",
        "times = 100\n",
        "rfc_n_times = np.zeros(times)\n",
        "\n",
        "t1 = t.perf_counter()\n",
        "\n",
        "cv = CountVectorizer(binary=False, min_df=0.0, max_df=1.0, ngram_range=(1, 1), vocabulary=FOMC_all_voc)\n",
        "\n",
        "for i in range(times):\n",
        "  \n",
        "  ## [1] 80-20 split\n",
        "\n",
        "  # sklearn.model_selection.train_test_split(*arrays, test_size=None, train_size=None, random_state=None, shuffle=True, stratify=None)\n",
        "\n",
        "  train_corpus, test_corpus, train_label_nums, test_label_nums = \\\n",
        "                                  train_test_split(np.array(FOMC_pickle_2), fund_rate_change_2, \n",
        "                                                    test_size=0.2, stratify=fund_rate_change_2) # random_state = 2021 / 2022 / 2023 / 2024 / 3000\n",
        "\n",
        "  # build BOW features on train articles\n",
        "  # transform test articles into features\n",
        "\n",
        "  cv_train_features_0 = cv.fit_transform(train_corpus)\n",
        "  # print('Original number of features:', cv_train_features_0.shape[1])\n",
        "  cv_test_features_0 = cv.transform(test_corpus)\n",
        "\n",
        "  tsvd = TruncatedSVD(n_components=cv_train_features_0.shape[0]-1, random_state=2021)\n",
        "  features_tsvd = tsvd.fit(cv_train_features_0)\n",
        "\n",
        "  tsvd_var_ratios = tsvd.explained_variance_ratio_\n",
        "\n",
        "  n_components_95 = select_n_components_95(tsvd_var_ratios, goal_explained_var=0.95)\n",
        "\n",
        "  '''\n",
        "  sc = StandardScaler(with_mean=False) \n",
        "  # ValueError: Cannot center sparse matrices: pass `with_mean=False` instead. See docstring for motivation and alternatives.\n",
        "  cv_train_features_1 = sc.fit_transform(cv_train_features_0)\n",
        "  cv_test_features_1 = sc.fit_transform(cv_test_features_0)\n",
        "  '''\n",
        "  sc = StandardScaler(with_mean=False) \n",
        "  cv_train_features_1 = sc.fit_transform(cv_train_features_0)\n",
        "  cv_test_features_1 = sc.fit_transform(cv_test_features_0)\n",
        "\n",
        "  tsvd = TruncatedSVD(n_components=n_components_95, random_state=2021)\n",
        "  cv_train_features = tsvd.fit(cv_train_features_1).transform(cv_train_features_1)\n",
        "  # print('Reduced number of features:', cv_train_features.shape[1])\n",
        "  cv_test_features = tsvd.transform(cv_test_features_1)\n",
        "  # print('BOW model:> Train features shape:', cv_train_features.shape, ' Test features shape:', cv_test_features.shape)\n",
        "\n",
        "\n",
        "\n",
        "  # [3] RF\n",
        " \n",
        "  rfc_pipeline = Pipeline([('rfc', RandomForestClassifier(random_state=2020, criterion = \"gini\"))])\n",
        "\n",
        "  param_grid = {'rfc__n_estimators': [100, 300, 500, 700]}\n",
        "\n",
        "  gs_rfc = GridSearchCV(rfc_pipeline, param_grid, cv=5, verbose=0)\n",
        "  gs_rfc = gs_rfc.fit(cv_train_features, train_label_nums)\n",
        "\n",
        "  best_rfc_test_score = gs_rfc.score(cv_test_features, test_label_nums)\n",
        "\n",
        "  rfc_n_times[i] = np.around(best_rfc_test_score, 4)\n",
        "  \n",
        "  if (i+1) % 10 == 0:\n",
        "    test_accuracy = np.around(np.mean(rfc_n_times[:i+1]) * 100, 2)\n",
        "    t2 = t.perf_counter()\n",
        "    time_spent = np.around(t2 - t1, 2)\n",
        "    print ('Times [{:3d}/{:d}] | test accuracy: {:5.2f} % | Time spent: {} s'.format(i+1, times, test_accuracy, time_spent))\n",
        "\n",
        "t3 = t.perf_counter()\n",
        "time_spent_final = np.around(t3 - t1, 2)\n",
        "print()\n",
        "print(\"Running time: {} s\".format(time_spent_final))\n",
        "print()\n",
        "print(\"Final test accuracy: {:5.2f} %\".format(np.mean(rfc_n_times) * 100))"
      ],
      "execution_count": null,
      "outputs": [
        {
          "output_type": "stream",
          "text": [
            "Times [ 10/100] | test accuracy: 71.33 % | Time spent: 175.35 s\n",
            "Times [ 20/100] | test accuracy: 71.00 % | Time spent: 349.35 s\n",
            "Times [ 30/100] | test accuracy: 70.96 % | Time spent: 525.38 s\n",
            "Times [ 40/100] | test accuracy: 71.22 % | Time spent: 702.19 s\n",
            "Times [ 50/100] | test accuracy: 71.20 % | Time spent: 876.17 s\n",
            "Times [ 60/100] | test accuracy: 71.37 % | Time spent: 1050.64 s\n",
            "Times [ 70/100] | test accuracy: 71.24 % | Time spent: 1227.63 s\n",
            "Times [ 80/100] | test accuracy: 71.14 % | Time spent: 1403.09 s\n",
            "Times [ 90/100] | test accuracy: 71.06 % | Time spent: 1579.6 s\n",
            "Times [100/100] | test accuracy: 71.04 % | Time spent: 1750.03 s\n",
            "\n",
            "Running time: 1750.03 s\n",
            "\n",
            "Final test accuracy: 71.04 %\n"
          ],
          "name": "stdout"
        }
      ]
    },
    {
      "cell_type": "code",
      "metadata": {
        "colab": {
          "base_uri": "https://localhost:8080/"
        },
        "id": "-Soh6wPOtSWd",
        "outputId": "89c31016-52d7-4db7-d557-4448cc0cff57"
      },
      "source": [
        "'''\n",
        "from sklearn.ensemble import RandomForestClassifier\n",
        "\n",
        "train_ = np.zeros(10)\n",
        "rfc = RandomForestClassifier(n_estimators=300, random_state=2020, criterion = \"gini\")\n",
        "\n",
        "for i in range(10):\n",
        "\n",
        "  rfc_bow_cv_scores = cross_val_score(rfc, cv_train_features, train_label_nums, cv=StratifiedKFold(n_splits=5, shuffle=True))\n",
        "  rfc_bow_cv_mean_score = np.mean(rfc_bow_cv_scores)\n",
        "  print('CV Accuracy (5-fold):', rfc_bow_cv_scores)\n",
        "  print('Mean CV Accuracy:', rfc_bow_cv_mean_score)\n",
        "\n",
        "  train_[i] = rfc_bow_cv_mean_score\n",
        "\n",
        "rfc.fit(cv_train_features, train_label_nums)\n",
        "rfc_bow_test_score = rfc.score(cv_test_features, test_label_nums)\n",
        "\n",
        "print('----------')\n",
        "print('Test Accuracy:', rfc_bow_test_score)\n",
        "'''"
      ],
      "execution_count": null,
      "outputs": [
        {
          "output_type": "stream",
          "text": [
            "CV Accuracy (5-fold): [0.69444444 0.69444444 0.68571429 0.68571429 0.68571429]\n",
            "Mean CV Accuracy: 0.6892063492063493\n",
            "CV Accuracy (5-fold): [0.69444444 0.72222222 0.68571429 0.68571429 0.68571429]\n",
            "Mean CV Accuracy: 0.6947619047619048\n",
            "CV Accuracy (5-fold): [0.69444444 0.69444444 0.68571429 0.71428571 0.68571429]\n",
            "Mean CV Accuracy: 0.6949206349206349\n",
            "CV Accuracy (5-fold): [0.69444444 0.69444444 0.68571429 0.68571429 0.68571429]\n",
            "Mean CV Accuracy: 0.6892063492063493\n",
            "CV Accuracy (5-fold): [0.69444444 0.69444444 0.68571429 0.68571429 0.68571429]\n",
            "Mean CV Accuracy: 0.6892063492063493\n",
            "CV Accuracy (5-fold): [0.69444444 0.69444444 0.68571429 0.68571429 0.68571429]\n",
            "Mean CV Accuracy: 0.6892063492063493\n",
            "CV Accuracy (5-fold): [0.69444444 0.69444444 0.68571429 0.68571429 0.68571429]\n",
            "Mean CV Accuracy: 0.6892063492063493\n",
            "CV Accuracy (5-fold): [0.69444444 0.69444444 0.68571429 0.71428571 0.68571429]\n",
            "Mean CV Accuracy: 0.6949206349206349\n",
            "CV Accuracy (5-fold): [0.72222222 0.69444444 0.68571429 0.68571429 0.68571429]\n",
            "Mean CV Accuracy: 0.6947619047619048\n",
            "CV Accuracy (5-fold): [0.69444444 0.69444444 0.68571429 0.68571429 0.68571429]\n",
            "Mean CV Accuracy: 0.6892063492063493\n",
            "----------\n",
            "Test Accuracy: 0.6888888888888889\n"
          ],
          "name": "stdout"
        }
      ]
    },
    {
      "cell_type": "markdown",
      "metadata": {
        "id": "ct1aCeulx24P"
      },
      "source": [
        "## 4. XGBoost (95%)"
      ]
    },
    {
      "cell_type": "code",
      "metadata": {
        "colab": {
          "base_uri": "https://localhost:8080/"
        },
        "id": "_mXIxuJvCh5x",
        "outputId": "252a01a6-1da1-4bd8-a109-3e790e564aae"
      },
      "source": [
        "import time as t\n",
        "import numpy as np\n",
        "from sklearn.pipeline import Pipeline\n",
        "from sklearn.model_selection import GridSearchCV\n",
        "from sklearn.feature_extraction.text import TfidfVectorizer\n",
        "from xgboost import XGBClassifier\n",
        "\n",
        "from sklearn.model_selection import train_test_split\n",
        "# from sklearn.model_selection import cross_val_score\n",
        "from sklearn.feature_extraction.text import CountVectorizer\n",
        "from sklearn.decomposition import TruncatedSVD\n",
        "from sklearn.preprocessing import StandardScaler\n",
        "\n",
        "times = 100\n",
        "xgb_n_times = np.zeros(times)\n",
        "\n",
        "t1 = t.perf_counter()\n",
        "\n",
        "cv = CountVectorizer(binary=False, min_df=0.0, max_df=1.0, ngram_range=(1, 1), vocabulary=FOMC_all_voc)\n",
        "\n",
        "for i in range(times):\n",
        "  \n",
        "  ## [1] 80-20 split\n",
        "\n",
        "  # sklearn.model_selection.train_test_split(*arrays, test_size=None, train_size=None, random_state=None, shuffle=True, stratify=None)\n",
        "\n",
        "  train_corpus, test_corpus, train_label_nums, test_label_nums = \\\n",
        "                                  train_test_split(np.array(FOMC_pickle_2), fund_rate_change_2, \n",
        "                                                    test_size=0.2, stratify=fund_rate_change_2) # random_state = 2021 / 2022 / 2023 / 2024 / 3000\n",
        "\n",
        "  # build BOW features on train articles\n",
        "  # transform test articles into features\n",
        "\n",
        "  cv_train_features_0 = cv.fit_transform(train_corpus)\n",
        "  # print('Original number of features:', cv_train_features_0.shape[1])\n",
        "  cv_test_features_0 = cv.transform(test_corpus)\n",
        "\n",
        "  tsvd = TruncatedSVD(n_components=cv_train_features_0.shape[0]-1, random_state=2021)\n",
        "  features_tsvd = tsvd.fit(cv_train_features_0)\n",
        "\n",
        "  tsvd_var_ratios = tsvd.explained_variance_ratio_\n",
        "\n",
        "  n_components_95 = select_n_components_95(tsvd_var_ratios, goal_explained_var=0.95)\n",
        "\n",
        "  '''\n",
        "  sc = StandardScaler(with_mean=False) \n",
        "  # ValueError: Cannot center sparse matrices: pass `with_mean=False` instead. See docstring for motivation and alternatives.\n",
        "  cv_train_features_1 = sc.fit_transform(cv_train_features_0)\n",
        "  cv_test_features_1 = sc.fit_transform(cv_test_features_0)\n",
        "  '''\n",
        "  sc = StandardScaler(with_mean=False) \n",
        "  cv_train_features_1 = sc.fit_transform(cv_train_features_0)\n",
        "  cv_test_features_1 = sc.fit_transform(cv_test_features_0)\n",
        "\n",
        "  tsvd = TruncatedSVD(n_components=n_components_95, random_state=2021)\n",
        "  cv_train_features = tsvd.fit(cv_train_features_1).transform(cv_train_features_1)\n",
        "  # print('Reduced number of features:', cv_train_features.shape[1])\n",
        "  cv_test_features = tsvd.transform(cv_test_features_1)\n",
        "  # print('BOW model:> Train features shape:', cv_train_features.shape, ' Test features shape:', cv_test_features.shape)\n",
        "\n",
        "\n",
        "\n",
        "  # [4] XGBoost\n",
        " \n",
        "  xgb_pipeline = Pipeline([('xgb', XGBClassifier(booster='gbtree', min_child_weight=1, verbosity=1, random_state=42))])\n",
        "\n",
        "  param_grid = {'xgb__n_estimators': [100, 200, 400],\n",
        "                'xgb__gamma': [0],\n",
        "                'xgb__min_child_weight': [1],\n",
        "                'xgb__subsample': [0.5, 1.0],\n",
        "                'xgb__colsample_bytree': [0.5, 1.0],\n",
        "                'xgb__max_depth': [6],\n",
        "                'xgb__learning_rate': [0.3],\n",
        "                'xgb__colsample_bytree': [0.5, 1.0],\n",
        "                }\n",
        "\n",
        "  gs_xgb = GridSearchCV(xgb_pipeline, param_grid, cv=5, verbose=0)\n",
        "  gs_xgb = gs_xgb.fit(cv_train_features, train_label_nums)\n",
        "\n",
        "  best_xgb_test_score = gs_xgb.score(cv_test_features, test_label_nums)\n",
        "\n",
        "  xgb_n_times[i] = np.around(best_xgb_test_score, 4)\n",
        "  \n",
        "  if (i+1) % 10 == 0:\n",
        "    test_accuracy = np.around(np.mean(xgb_n_times[:i+1]) * 100, 2)\n",
        "    t2 = t.perf_counter()\n",
        "    time_spent = np.around(t2 - t1, 2)\n",
        "    print ('Times [{:3d}/{:d}] | test accuracy: {:5.2f} % | Time spent: {} s'.format(i+1, times, test_accuracy, time_spent))\n",
        "\n",
        "t3 = t.perf_counter()\n",
        "time_spent_final = np.around(t3 - t1, 2)\n",
        "print()\n",
        "print(\"Running time: {} s\".format(time_spent_final))\n",
        "print()\n",
        "print(\"Final test accuracy: {:5.2f} %\".format(np.mean(xgb_n_times) * 100))"
      ],
      "execution_count": null,
      "outputs": [
        {
          "output_type": "stream",
          "text": [
            "Times [ 10/100] | test accuracy: 76.89 % | Time spent: 161.63 s\n",
            "Times [ 20/100] | test accuracy: 76.44 % | Time spent: 324.08 s\n",
            "Times [ 30/100] | test accuracy: 76.96 % | Time spent: 485.53 s\n",
            "Times [ 40/100] | test accuracy: 76.39 % | Time spent: 647.28 s\n",
            "Times [ 50/100] | test accuracy: 76.44 % | Time spent: 808.9 s\n",
            "Times [ 60/100] | test accuracy: 76.45 % | Time spent: 970.01 s\n",
            "Times [ 70/100] | test accuracy: 76.51 % | Time spent: 1130.8 s\n",
            "Times [ 80/100] | test accuracy: 76.11 % | Time spent: 1290.53 s\n",
            "Times [ 90/100] | test accuracy: 75.88 % | Time spent: 1450.21 s\n",
            "Times [100/100] | test accuracy: 76.00 % | Time spent: 1613.02 s\n",
            "\n",
            "Running time: 1613.02 s\n",
            "\n",
            "Final test accuracy: 76.00 %\n"
          ],
          "name": "stdout"
        }
      ]
    },
    {
      "cell_type": "code",
      "metadata": {
        "id": "kntk2s7aExnE"
      },
      "source": [
        "'''\n",
        "XGBClassifier(base_score=0.5, booster='gbtree', colsample_bylevel=1,\n",
        "               colsample_bynode=1, colsample_bytree=0.6, gamma=1.5,\n",
        "               learning_rate=0.1, max_delta_step=0, max_depth=3,\n",
        "               min_child_weight=10, missing=None, n_estimators=50, n_jobs=1,\n",
        "               nthread=None, objective='multi:softprob', random_state=42,\n",
        "               reg_alpha=0, reg_lambda=1, scale_pos_weight=1, seed=None,\n",
        "               silent=None, subsample=0.8, verbosity=1)\n",
        "'''"
      ],
      "execution_count": null,
      "outputs": []
    },
    {
      "cell_type": "code",
      "metadata": {
        "colab": {
          "base_uri": "https://localhost:8080/"
        },
        "id": "CoH4oykcwKHh",
        "outputId": "af584195-25b1-44a4-aa2d-7e592ccfb724"
      },
      "source": [
        "'''\n",
        "from xgboost import XGBClassifier\n",
        "train_ = np.zeros(10)\n",
        "xgb = XGBClassifier(booster='gbtree', n_estimators=270, min_child_weight=10, gamma=1.5, subsample=0.8, colsample_bytree=0.6, max_depth=5,\n",
        "                    learning_rate=0.1, verbosity=1, random_state=42)\n",
        "\n",
        "for i in range(10):\n",
        "\n",
        "  xgb_bow_cv_scores = cross_val_score(xgb, cv_train_features, train_label_nums, cv=StratifiedKFold(n_splits=5, shuffle=True))\n",
        "  xgb_bow_cv_mean_score = np.mean(xgb_bow_cv_scores)\n",
        "  print('CV Accuracy (5-fold):', xgb_bow_cv_scores)\n",
        "  print('Mean CV Accuracy:', xgb_bow_cv_mean_score)\n",
        "\n",
        "  train_[i] = xgb_bow_cv_mean_score\n",
        "\n",
        "xgb.fit(cv_train_features, train_label_nums)\n",
        "xgb_bow_test_score = xgb.score(cv_test_features, test_label_nums)\n",
        "\n",
        "print('----------')\n",
        "print('Test Accuracy:', xgb_bow_test_score)\n",
        "'''"
      ],
      "execution_count": null,
      "outputs": [
        {
          "output_type": "stream",
          "text": [
            "CV Accuracy (5-fold): [0.80555556 0.75       0.8        0.65714286 0.68571429]\n",
            "Mean CV Accuracy: 0.7396825396825397\n",
            "CV Accuracy (5-fold): [0.75       0.72222222 0.74285714 0.82857143 0.65714286]\n",
            "Mean CV Accuracy: 0.7401587301587302\n",
            "CV Accuracy (5-fold): [0.75       0.72222222 0.85714286 0.71428571 0.74285714]\n",
            "Mean CV Accuracy: 0.7573015873015874\n",
            "CV Accuracy (5-fold): [0.77777778 0.66666667 0.65714286 0.65714286 0.82857143]\n",
            "Mean CV Accuracy: 0.7174603174603175\n",
            "CV Accuracy (5-fold): [0.72222222 0.75       0.77142857 0.77142857 0.71428571]\n",
            "Mean CV Accuracy: 0.7458730158730159\n",
            "CV Accuracy (5-fold): [0.77777778 0.58333333 0.77142857 0.68571429 0.77142857]\n",
            "Mean CV Accuracy: 0.7179365079365079\n",
            "CV Accuracy (5-fold): [0.80555556 0.66666667 0.77142857 0.77142857 0.77142857]\n",
            "Mean CV Accuracy: 0.7573015873015873\n",
            "CV Accuracy (5-fold): [0.66666667 0.77777778 0.71428571 0.68571429 0.74285714]\n",
            "Mean CV Accuracy: 0.7174603174603174\n",
            "CV Accuracy (5-fold): [0.63888889 0.75       0.71428571 0.8        0.74285714]\n",
            "Mean CV Accuracy: 0.7292063492063493\n",
            "CV Accuracy (5-fold): [0.75       0.80555556 0.71428571 0.71428571 0.74285714]\n",
            "Mean CV Accuracy: 0.7453968253968254\n",
            "----------\n",
            "Test Accuracy: 0.7777777777777778\n"
          ],
          "name": "stdout"
        }
      ]
    },
    {
      "cell_type": "markdown",
      "metadata": {
        "id": "VfXCxMNc3zmd"
      },
      "source": [
        "# Linear Reduction TSVD (90%)"
      ]
    },
    {
      "cell_type": "code",
      "metadata": {
        "id": "Erfw8umb30fP"
      },
      "source": [
        "def select_n_components(var_ratio_list, goal_explained_var):\n",
        "\n",
        "  for i in range(len(var_ratio_list)):\n",
        "    k = var_ratio_list[:i].sum()\n",
        "    if k > goal_explained_var:\n",
        "      return i"
      ],
      "execution_count": null,
      "outputs": []
    },
    {
      "cell_type": "markdown",
      "metadata": {
        "id": "w1qVlnW7zuiA"
      },
      "source": [
        "## 1. LR (90%)"
      ]
    },
    {
      "cell_type": "code",
      "metadata": {
        "colab": {
          "base_uri": "https://localhost:8080/"
        },
        "id": "01gFoNbINs21",
        "outputId": "fb9d9bdd-b2d2-4df3-a278-8182dfd53457"
      },
      "source": [
        "import time as t\n",
        "import numpy as np\n",
        "from sklearn.pipeline import Pipeline\n",
        "from sklearn.model_selection import GridSearchCV\n",
        "from sklearn.feature_extraction.text import TfidfVectorizer\n",
        "from sklearn.linear_model import LogisticRegression\n",
        "\n",
        "from sklearn.model_selection import train_test_split\n",
        "# from sklearn.model_selection import cross_val_score\n",
        "from sklearn.feature_extraction.text import CountVectorizer\n",
        "from sklearn.decomposition import TruncatedSVD\n",
        "from sklearn.preprocessing import StandardScaler\n",
        "\n",
        "times = 100\n",
        "lr_n_times = np.zeros(times)\n",
        "\n",
        "t1 = t.perf_counter()\n",
        "\n",
        "cv = CountVectorizer(binary=False, min_df=0.0, max_df=1.0, ngram_range=(1, 1), vocabulary=FOMC_all_voc)\n",
        "\n",
        "for i in range(times):\n",
        "  \n",
        "  ## [1] 80-20 split\n",
        "\n",
        "  # sklearn.model_selection.train_test_split(*arrays, test_size=None, train_size=None, random_state=None, shuffle=True, stratify=None)\n",
        "\n",
        "  train_corpus, test_corpus, train_label_nums, test_label_nums = \\\n",
        "                                  train_test_split(np.array(FOMC_pickle_2), fund_rate_change_2, \n",
        "                                                    test_size=0.2, stratify=fund_rate_change_2) # random_state = 2021 / 2022 / 2023 / 2024 / 3000\n",
        "\n",
        "  # build BOW features on train articles\n",
        "  # transform test articles into features\n",
        "\n",
        "  cv_train_features_0 = cv.fit_transform(train_corpus)\n",
        "  # print('Original number of features:', cv_train_features_0.shape[1])\n",
        "  cv_test_features_0 = cv.transform(test_corpus)\n",
        "\n",
        "  tsvd = TruncatedSVD(n_components=cv_train_features_0.shape[0]-1, random_state=2021)\n",
        "  features_tsvd = tsvd.fit(cv_train_features_0)\n",
        "\n",
        "  tsvd_var_ratios = tsvd.explained_variance_ratio_\n",
        "\n",
        "  n_components_90 = select_n_components(tsvd_var_ratios, 0.90)\n",
        "\n",
        "  '''\n",
        "  sc = StandardScaler(with_mean=False) \n",
        "  # ValueError: Cannot center sparse matrices: pass `with_mean=False` instead. See docstring for motivation and alternatives.\n",
        "  cv_train_features_1 = sc.fit_transform(cv_train_features_0)\n",
        "  cv_test_features_1 = sc.fit_transform(cv_test_features_0)\n",
        "  '''\n",
        "  sc = StandardScaler(with_mean=False) \n",
        "  cv_train_features_1 = sc.fit_transform(cv_train_features_0)\n",
        "  cv_test_features_1 = sc.fit_transform(cv_test_features_0)\n",
        "\n",
        "  tsvd = TruncatedSVD(n_components=n_components_90, random_state=2021)\n",
        "  cv_train_features = tsvd.fit(cv_train_features_1).transform(cv_train_features_1)\n",
        "  # print('Reduced number of features:', cv_train_features.shape[1])\n",
        "  cv_test_features = tsvd.transform(cv_test_features_1)\n",
        "  # print('BOW model:> Train features shape:', cv_train_features.shape, ' Test features shape:', cv_test_features.shape)\n",
        "\n",
        "\n",
        "  # [2] LR\n",
        " \n",
        "  lr_pipeline = Pipeline([('lr', LogisticRegression(penalty='l2', max_iter=8000, random_state=42))])\n",
        "\n",
        "  param_grid = {'lr__C': [0.001, 0.01, 0.1, 1.0, 5.0, 10.0, 100.0]}\n",
        "\n",
        "  gs_lr = GridSearchCV(lr_pipeline, param_grid, cv=5, verbose=0)\n",
        "  gs_lr = gs_lr.fit(cv_train_features, train_label_nums)\n",
        "\n",
        "  best_lr_test_score = gs_lr.score(cv_test_features, test_label_nums)\n",
        "  # print('Test Accuracy :', best_lr_test_score)\n",
        "\n",
        "  lr_n_times[i] = np.around(best_lr_test_score, 4)\n",
        "  \n",
        "  if (i+1) % 10 == 0:\n",
        "    test_accuracy = np.around(np.mean(lr_n_times[:i+1]) * 100, 2)\n",
        "    t2 = t.perf_counter()\n",
        "    time_spent = np.around(t2 - t1, 2)\n",
        "    print ('Times [{:3d}/{:d}] | test accuracy: {:5.2f} % | Time spent: {} s'.format(i+1, times, test_accuracy, time_spent))\n",
        "\n",
        "t3 = t.perf_counter()\n",
        "time_spent_final = np.around(t3 - t1, 2)\n",
        "print()\n",
        "print(\"Running time: {} s\".format(time_spent_final))\n",
        "print()\n",
        "print(\"Final test accuracy: {:5.2f} %\".format(np.mean(lr_n_times) * 100))"
      ],
      "execution_count": null,
      "outputs": [
        {
          "output_type": "stream",
          "text": [
            "Times [ 10/100] | test accuracy: 75.34 % | Time spent: 108.5 s\n",
            "Times [ 20/100] | test accuracy: 75.00 % | Time spent: 233.92 s\n",
            "Times [ 30/100] | test accuracy: 75.41 % | Time spent: 335.74 s\n",
            "Times [ 40/100] | test accuracy: 75.89 % | Time spent: 446.68 s\n",
            "Times [ 50/100] | test accuracy: 76.27 % | Time spent: 555.64 s\n",
            "Times [ 60/100] | test accuracy: 76.30 % | Time spent: 666.36 s\n",
            "Times [ 70/100] | test accuracy: 76.13 % | Time spent: 774.36 s\n",
            "Times [ 80/100] | test accuracy: 76.08 % | Time spent: 885.45 s\n",
            "Times [ 90/100] | test accuracy: 76.00 % | Time spent: 1002.92 s\n",
            "Times [100/100] | test accuracy: 75.98 % | Time spent: 1114.23 s\n",
            "\n",
            "Running time: 1114.23 s\n",
            "\n",
            "Final test accuracy: 75.98 %\n"
          ],
          "name": "stdout"
        }
      ]
    },
    {
      "cell_type": "code",
      "metadata": {
        "colab": {
          "base_uri": "https://localhost:8080/"
        },
        "id": "Iokn2EvnNws5",
        "outputId": "2c9ee661-0551-408c-f961-b358550f7a9f"
      },
      "source": [
        "gs_lr.best_estimator_.get_params()"
      ],
      "execution_count": null,
      "outputs": [
        {
          "output_type": "execute_result",
          "data": {
            "text/plain": [
              "{'lr': LogisticRegression(C=0.001, class_weight=None, dual=False, fit_intercept=True,\n",
              "                    intercept_scaling=1, l1_ratio=None, max_iter=8000,\n",
              "                    multi_class='auto', n_jobs=None, penalty='l2',\n",
              "                    random_state=42, solver='lbfgs', tol=0.0001, verbose=0,\n",
              "                    warm_start=False),\n",
              " 'lr__C': 0.001,\n",
              " 'lr__class_weight': None,\n",
              " 'lr__dual': False,\n",
              " 'lr__fit_intercept': True,\n",
              " 'lr__intercept_scaling': 1,\n",
              " 'lr__l1_ratio': None,\n",
              " 'lr__max_iter': 8000,\n",
              " 'lr__multi_class': 'auto',\n",
              " 'lr__n_jobs': None,\n",
              " 'lr__penalty': 'l2',\n",
              " 'lr__random_state': 42,\n",
              " 'lr__solver': 'lbfgs',\n",
              " 'lr__tol': 0.0001,\n",
              " 'lr__verbose': 0,\n",
              " 'lr__warm_start': False,\n",
              " 'memory': None,\n",
              " 'steps': [('lr',\n",
              "   LogisticRegression(C=0.001, class_weight=None, dual=False, fit_intercept=True,\n",
              "                      intercept_scaling=1, l1_ratio=None, max_iter=8000,\n",
              "                      multi_class='auto', n_jobs=None, penalty='l2',\n",
              "                      random_state=42, solver='lbfgs', tol=0.0001, verbose=0,\n",
              "                      warm_start=False))],\n",
              " 'verbose': False}"
            ]
          },
          "metadata": {
            "tags": []
          },
          "execution_count": 120
        }
      ]
    },
    {
      "cell_type": "code",
      "metadata": {
        "colab": {
          "base_uri": "https://localhost:8080/"
        },
        "id": "ydW8s0T-NyZ-",
        "outputId": "8c0ae1f9-0a08-4652-ac3b-e6fcd9aac1f4"
      },
      "source": [
        "print('BOW model:> Train features shape:', cv_train_features.shape, ' Test features shape:', cv_test_features.shape)"
      ],
      "execution_count": null,
      "outputs": [
        {
          "output_type": "stream",
          "text": [
            "BOW model:> Train features shape: (177, 66)  Test features shape: (45, 66)\n"
          ],
          "name": "stdout"
        }
      ]
    },
    {
      "cell_type": "code",
      "metadata": {
        "colab": {
          "base_uri": "https://localhost:8080/"
        },
        "id": "PI_pYfhpybBY",
        "outputId": "8d3077dd-9364-4492-8fda-fb1e00d23ac1"
      },
      "source": [
        "'''\n",
        "from sklearn.linear_model import LogisticRegression\n",
        "from sklearn.model_selection import StratifiedKFold\n",
        "\n",
        "train_ = np.zeros(10)\n",
        "lr = LogisticRegression(penalty='l2', max_iter=8000, C=0.005, random_state=42)\n",
        "\n",
        "for i in range(10):\n",
        "\n",
        "  lr_bow_cv_scores = cross_val_score(lr, cv_train_features, train_label_nums, cv=StratifiedKFold(n_splits=5, shuffle=True))\n",
        "  lr_bow_cv_mean_score = np.mean(lr_bow_cv_scores)\n",
        "  print('CV Accuracy (5-fold):', lr_bow_cv_scores)\n",
        "  print('Mean Training CV Accuracy:', lr_bow_cv_mean_score)\n",
        "\n",
        "  train_[i] = lr_bow_cv_mean_score\n",
        "\n",
        "lr.fit(cv_train_features, train_label_nums)\n",
        "lr_bow_test_score = lr.score(cv_test_features, test_label_nums)\n",
        "\n",
        "print('----------')\n",
        "print('Test Accuracy:', lr_bow_test_score)\n",
        "'''"
      ],
      "execution_count": null,
      "outputs": [
        {
          "output_type": "stream",
          "text": [
            "CV Accuracy (5-fold): [0.83333333 0.83333333 0.74285714 0.8        0.8       ]\n",
            "Mean Training CV Accuracy: 0.8019047619047619\n",
            "CV Accuracy (5-fold): [0.86111111 0.75       0.8        0.85714286 0.82857143]\n",
            "Mean Training CV Accuracy: 0.8193650793650795\n",
            "CV Accuracy (5-fold): [0.83333333 0.77777778 0.8        0.74285714 0.85714286]\n",
            "Mean Training CV Accuracy: 0.8022222222222222\n",
            "CV Accuracy (5-fold): [0.91666667 0.77777778 0.77142857 0.82857143 0.82857143]\n",
            "Mean Training CV Accuracy: 0.8246031746031747\n",
            "CV Accuracy (5-fold): [0.75       0.80555556 0.82857143 0.77142857 0.8       ]\n",
            "Mean Training CV Accuracy: 0.7911111111111111\n",
            "CV Accuracy (5-fold): [0.69444444 0.86111111 0.88571429 0.85714286 0.77142857]\n",
            "Mean Training CV Accuracy: 0.8139682539682541\n",
            "CV Accuracy (5-fold): [0.80555556 0.83333333 0.82857143 0.71428571 0.8       ]\n",
            "Mean Training CV Accuracy: 0.7963492063492064\n",
            "CV Accuracy (5-fold): [0.77777778 0.83333333 0.88571429 0.77142857 0.8       ]\n",
            "Mean Training CV Accuracy: 0.8136507936507936\n",
            "CV Accuracy (5-fold): [0.83333333 0.75       0.85714286 0.85714286 0.8       ]\n",
            "Mean Training CV Accuracy: 0.8195238095238097\n",
            "CV Accuracy (5-fold): [0.80555556 0.83333333 0.82857143 0.85714286 0.77142857]\n",
            "Mean Training CV Accuracy: 0.8192063492063493\n",
            "----------\n",
            "Test Accuracy: 0.7555555555555555\n"
          ],
          "name": "stdout"
        }
      ]
    },
    {
      "cell_type": "markdown",
      "metadata": {
        "id": "5uF3Hec12D2v"
      },
      "source": [
        "## 2. SVM (90%)"
      ]
    },
    {
      "cell_type": "code",
      "metadata": {
        "colab": {
          "base_uri": "https://localhost:8080/"
        },
        "id": "HuYJvgXGQ1O2",
        "outputId": "7b611c2a-10b6-4e33-eb7d-2382dc217139"
      },
      "source": [
        "import time as t\n",
        "import numpy as np\n",
        "from sklearn.pipeline import Pipeline\n",
        "from sklearn.model_selection import GridSearchCV\n",
        "from sklearn.feature_extraction.text import TfidfVectorizer\n",
        "from sklearn.svm import SVC\n",
        "\n",
        "from sklearn.model_selection import train_test_split\n",
        "# from sklearn.model_selection import cross_val_score\n",
        "from sklearn.feature_extraction.text import CountVectorizer\n",
        "from sklearn.decomposition import TruncatedSVD\n",
        "from sklearn.preprocessing import StandardScaler\n",
        "\n",
        "times = 100\n",
        "svm_n_times = np.zeros(times)\n",
        "\n",
        "t1 = t.perf_counter()\n",
        "\n",
        "cv = CountVectorizer(binary=False, min_df=0.0, max_df=1.0, ngram_range=(1, 1), vocabulary=FOMC_all_voc)\n",
        "\n",
        "for i in range(times):\n",
        "  \n",
        "  ## [1] 80-20 split\n",
        "\n",
        "  # sklearn.model_selection.train_test_split(*arrays, test_size=None, train_size=None, random_state=None, shuffle=True, stratify=None)\n",
        "\n",
        "  train_corpus, test_corpus, train_label_nums, test_label_nums = \\\n",
        "                                  train_test_split(np.array(FOMC_pickle_2), fund_rate_change_2, \n",
        "                                                    test_size=0.2, stratify=fund_rate_change_2) # random_state = 2021 / 2022 / 2023 / 2024 / 3000\n",
        "\n",
        "  # build BOW features on train articles\n",
        "  # transform test articles into features\n",
        "\n",
        "  cv_train_features_0 = cv.fit_transform(train_corpus)\n",
        "  # print('Original number of features:', cv_train_features_0.shape[1])\n",
        "  cv_test_features_0 = cv.transform(test_corpus)\n",
        "\n",
        "  tsvd = TruncatedSVD(n_components=cv_train_features_0.shape[0]-1, random_state=2021)\n",
        "  features_tsvd = tsvd.fit(cv_train_features_0)\n",
        "\n",
        "  tsvd_var_ratios = tsvd.explained_variance_ratio_\n",
        "\n",
        "  n_components_90 = select_n_components(tsvd_var_ratios, 0.90)\n",
        "\n",
        "  '''\n",
        "  sc = StandardScaler(with_mean=False) \n",
        "  # ValueError: Cannot center sparse matrices: pass `with_mean=False` instead. See docstring for motivation and alternatives.\n",
        "  cv_train_features_1 = sc.fit_transform(cv_train_features_0)\n",
        "  cv_test_features_1 = sc.fit_transform(cv_test_features_0)\n",
        "  '''\n",
        "  \n",
        "  sc = StandardScaler(with_mean=False) \n",
        "  cv_train_features_1 = sc.fit_transform(cv_train_features_0)\n",
        "  cv_test_features_1 = sc.fit_transform(cv_test_features_0)\n",
        "\n",
        "  tsvd = TruncatedSVD(n_components=n_components_90, random_state=2021)\n",
        "  cv_train_features = tsvd.fit(cv_train_features_1).transform(cv_train_features_1)\n",
        "  # print('Reduced number of features:', cv_train_features.shape[1])\n",
        "  cv_test_features = tsvd.transform(cv_test_features_1)\n",
        "  # print('BOW model:> Train features shape:', cv_train_features.shape, ' Test features shape:', cv_test_features.shape)\n",
        "\n",
        "\n",
        "\n",
        "  # [2] SVM\n",
        " \n",
        "  svm_pipeline = Pipeline([('svm', SVC(kernel='rbf'))])\n",
        "\n",
        "  param_grid = {'svm__gamma': [1e-07, 1e-06, 1e-05, 1e-04, 1e-03, 1e-02, 1e-01, 0, 1],\n",
        "                'svm__C': [0.1, 1.0, 10, 100, 500, 1000]}\n",
        "\n",
        "  gs_svm = GridSearchCV(svm_pipeline, param_grid, cv=5, verbose=0)\n",
        "  gs_svm = gs_svm.fit(cv_train_features, train_label_nums)\n",
        "\n",
        "  best_svm_test_score = gs_svm.score(cv_test_features, test_label_nums)\n",
        "\n",
        "  svm_n_times[i] = np.around(best_svm_test_score, 4)\n",
        "\n",
        "  if (i+1) % 10 == 0:\n",
        "    test_accuracy = np.around(np.mean(svm_n_times[:i+1]) * 100, 2)\n",
        "    t2 = t.perf_counter()\n",
        "    time_spent = np.around(t2 - t1, 2)\n",
        "    print ('Times [{:3d}/{:d}] | test accuracy: {:5.2f} % | Time spent: {} s'.format(i+1, times, test_accuracy, time_spent))\n",
        "\n",
        "t3 = t.perf_counter()\n",
        "time_spent_final = np.around(t3 - t1, 2)\n",
        "print()\n",
        "print(\"Running time: {} s\".format(time_spent_final))\n",
        "print()\n",
        "print(\"Final test accuracy: {:5.2f} %\".format(np.mean(svm_n_times) * 100))"
      ],
      "execution_count": null,
      "outputs": [
        {
          "output_type": "stream",
          "text": [
            "Times [ 10/100] | test accuracy: 78.45 % | Time spent: 28.79 s\n",
            "Times [ 20/100] | test accuracy: 75.89 % | Time spent: 57.62 s\n",
            "Times [ 30/100] | test accuracy: 76.22 % | Time spent: 86.14 s\n",
            "Times [ 40/100] | test accuracy: 76.67 % | Time spent: 115.0 s\n",
            "Times [ 50/100] | test accuracy: 76.62 % | Time spent: 143.79 s\n",
            "Times [ 60/100] | test accuracy: 76.41 % | Time spent: 172.85 s\n",
            "Times [ 70/100] | test accuracy: 76.25 % | Time spent: 201.44 s\n",
            "Times [ 80/100] | test accuracy: 75.86 % | Time spent: 230.43 s\n",
            "Times [ 90/100] | test accuracy: 75.85 % | Time spent: 259.53 s\n",
            "Times [100/100] | test accuracy: 75.93 % | Time spent: 288.71 s\n",
            "\n",
            "Running time: 288.71 s\n",
            "\n",
            "Final test accuracy: 75.93 %\n"
          ],
          "name": "stdout"
        }
      ]
    },
    {
      "cell_type": "code",
      "metadata": {
        "colab": {
          "base_uri": "https://localhost:8080/"
        },
        "id": "jDEYt7uKRBx6",
        "outputId": "199417dd-ef54-40b6-aab2-2310914bb81d"
      },
      "source": [
        "gs_svm.best_estimator_.get_params()"
      ],
      "execution_count": null,
      "outputs": [
        {
          "output_type": "execute_result",
          "data": {
            "text/plain": [
              "{'memory': None,\n",
              " 'steps': [('svm',\n",
              "   SVC(C=500, break_ties=False, cache_size=200, class_weight=None, coef0=0.0,\n",
              "       decision_function_shape='ovr', degree=3, gamma=1e-06, kernel='rbf',\n",
              "       max_iter=-1, probability=False, random_state=None, shrinking=True,\n",
              "       tol=0.001, verbose=False))],\n",
              " 'svm': SVC(C=500, break_ties=False, cache_size=200, class_weight=None, coef0=0.0,\n",
              "     decision_function_shape='ovr', degree=3, gamma=1e-06, kernel='rbf',\n",
              "     max_iter=-1, probability=False, random_state=None, shrinking=True,\n",
              "     tol=0.001, verbose=False),\n",
              " 'svm__C': 500,\n",
              " 'svm__break_ties': False,\n",
              " 'svm__cache_size': 200,\n",
              " 'svm__class_weight': None,\n",
              " 'svm__coef0': 0.0,\n",
              " 'svm__decision_function_shape': 'ovr',\n",
              " 'svm__degree': 3,\n",
              " 'svm__gamma': 1e-06,\n",
              " 'svm__kernel': 'rbf',\n",
              " 'svm__max_iter': -1,\n",
              " 'svm__probability': False,\n",
              " 'svm__random_state': None,\n",
              " 'svm__shrinking': True,\n",
              " 'svm__tol': 0.001,\n",
              " 'svm__verbose': False,\n",
              " 'verbose': False}"
            ]
          },
          "metadata": {
            "tags": []
          },
          "execution_count": 123
        }
      ]
    },
    {
      "cell_type": "code",
      "metadata": {
        "colab": {
          "base_uri": "https://localhost:8080/"
        },
        "id": "-t_W7h6KREV-",
        "outputId": "338eb714-9aa3-4797-ebaf-fc55d5dc1af4"
      },
      "source": [
        "print('BOW model:> Train features shape:', cv_train_features.shape, ' Test features shape:', cv_test_features.shape)"
      ],
      "execution_count": null,
      "outputs": [
        {
          "output_type": "stream",
          "text": [
            "BOW model:> Train features shape: (177, 67)  Test features shape: (45, 67)\n"
          ],
          "name": "stdout"
        }
      ]
    },
    {
      "cell_type": "code",
      "metadata": {
        "colab": {
          "base_uri": "https://localhost:8080/"
        },
        "id": "0hnMEUExyZGq",
        "outputId": "24028ac3-3f01-482c-d689-f775f907599b"
      },
      "source": [
        "'''\n",
        "from sklearn.svm import SVC\n",
        "\n",
        "train_ = np.zeros(10)\n",
        "svc = SVC(kernel='rbf', gamma=1e-05, C=300) # gamma=1e-06, C=400 / gamma=1e-05, C=10\n",
        "\n",
        "for i in range(10):\n",
        "\n",
        "  svc_tfidf_cv_scores = cross_val_score(svc, cv_train_features, train_label_nums, cv=StratifiedKFold(n_splits=5, shuffle=True))\n",
        "  svc_tfidf_cv_mean_score = np.mean(svc_tfidf_cv_scores)\n",
        "  print('CV Accuracy (5-fold):', svc_tfidf_cv_scores)\n",
        "  print('Mean Training CV Accuracy:', svc_tfidf_cv_mean_score)\n",
        "\n",
        "  train_[i] = svc_tfidf_cv_mean_score\n",
        "\n",
        "svc.fit(cv_train_features, train_label_nums)\n",
        "svc_tfidf_test_score = svc.score(cv_test_features, test_label_nums)\n",
        "\n",
        "print('----------')\n",
        "print('Test Accuracy:', svc_tfidf_test_score)\n",
        "'''"
      ],
      "execution_count": null,
      "outputs": [
        {
          "output_type": "stream",
          "text": [
            "CV Accuracy (5-fold): [0.77777778 0.72222222 0.74285714 0.88571429 0.88571429]\n",
            "Mean Training CV Accuracy: 0.8028571428571428\n",
            "CV Accuracy (5-fold): [0.72222222 0.88888889 0.68571429 0.77142857 0.82857143]\n",
            "Mean Training CV Accuracy: 0.7793650793650794\n",
            "CV Accuracy (5-fold): [0.77777778 0.75       0.8        0.88571429 0.82857143]\n",
            "Mean Training CV Accuracy: 0.8084126984126984\n",
            "CV Accuracy (5-fold): [0.83333333 0.69444444 0.68571429 0.85714286 0.88571429]\n",
            "Mean Training CV Accuracy: 0.7912698412698413\n",
            "CV Accuracy (5-fold): [0.77777778 0.75       0.82857143 0.82857143 0.77142857]\n",
            "Mean Training CV Accuracy: 0.7912698412698413\n",
            "CV Accuracy (5-fold): [0.80555556 0.80555556 0.77142857 0.8        0.77142857]\n",
            "Mean Training CV Accuracy: 0.7907936507936508\n",
            "CV Accuracy (5-fold): [0.66666667 0.80555556 0.8        0.77142857 0.82857143]\n",
            "Mean Training CV Accuracy: 0.7744444444444445\n",
            "CV Accuracy (5-fold): [0.66666667 0.86111111 0.71428571 0.85714286 0.88571429]\n",
            "Mean Training CV Accuracy: 0.796984126984127\n",
            "CV Accuracy (5-fold): [0.63888889 0.86111111 0.88571429 0.77142857 0.68571429]\n",
            "Mean Training CV Accuracy: 0.7685714285714285\n",
            "CV Accuracy (5-fold): [0.77777778 0.80555556 0.85714286 0.71428571 0.85714286]\n",
            "Mean Training CV Accuracy: 0.8023809523809524\n",
            "----------\n",
            "Test Accuracy: 0.7555555555555555\n"
          ],
          "name": "stdout"
        }
      ]
    },
    {
      "cell_type": "markdown",
      "metadata": {
        "id": "t2D63wNx7lo6"
      },
      "source": [
        "## 3. RF (90%)"
      ]
    },
    {
      "cell_type": "code",
      "metadata": {
        "colab": {
          "base_uri": "https://localhost:8080/"
        },
        "id": "tP9fRkKJTxqT",
        "outputId": "00ae5559-c717-47a6-91a7-df196048bd81"
      },
      "source": [
        "import time as t\n",
        "import numpy as np\n",
        "from sklearn.pipeline import Pipeline\n",
        "from sklearn.model_selection import GridSearchCV\n",
        "from sklearn.feature_extraction.text import TfidfVectorizer\n",
        "from sklearn.ensemble import RandomForestClassifier\n",
        "\n",
        "from sklearn.model_selection import train_test_split\n",
        "from sklearn.feature_extraction.text import CountVectorizer\n",
        "from sklearn.decomposition import TruncatedSVD\n",
        "from sklearn.preprocessing import StandardScaler\n",
        "\n",
        "times = 100\n",
        "rfc_n_times = np.zeros(times)\n",
        "\n",
        "t1 = t.perf_counter()\n",
        "\n",
        "cv = CountVectorizer(binary=False, min_df=0.0, max_df=1.0, ngram_range=(1, 1), vocabulary=FOMC_all_voc)\n",
        "\n",
        "for i in range(times):\n",
        "  \n",
        "  ## [1] 80-20 split\n",
        "\n",
        "  # sklearn.model_selection.train_test_split(*arrays, test_size=None, train_size=None, random_state=None, shuffle=True, stratify=None)\n",
        "\n",
        "  train_corpus, test_corpus, train_label_nums, test_label_nums = \\\n",
        "                                  train_test_split(np.array(FOMC_pickle_2), fund_rate_change_2, \n",
        "                                                    test_size=0.2, stratify=fund_rate_change_2) # random_state = 2021 / 2022 / 2023 / 2024 / 3000\n",
        "\n",
        "  # build BOW features on train articles\n",
        "  # transform test articles into features\n",
        "\n",
        "  cv_train_features_0 = cv.fit_transform(train_corpus)\n",
        "  # print('Original number of features:', cv_train_features_0.shape[1])\n",
        "  cv_test_features_0 = cv.transform(test_corpus)\n",
        "\n",
        "  tsvd = TruncatedSVD(n_components=cv_train_features_0.shape[0]-1, random_state=2021)\n",
        "  features_tsvd = tsvd.fit(cv_train_features_0)\n",
        "\n",
        "  tsvd_var_ratios = tsvd.explained_variance_ratio_\n",
        "\n",
        "  n_components_90 = select_n_components(tsvd_var_ratios, 0.90)\n",
        "\n",
        "  '''\n",
        "  sc = StandardScaler(with_mean=False) \n",
        "  # ValueError: Cannot center sparse matrices: pass `with_mean=False` instead. See docstring for motivation and alternatives.\n",
        "  cv_train_features_1 = sc.fit_transform(cv_train_features_0)\n",
        "  cv_test_features_1 = sc.fit_transform(cv_test_features_0)\n",
        "  '''\n",
        "  sc = StandardScaler(with_mean=False) \n",
        "  cv_train_features_1 = sc.fit_transform(cv_train_features_0)\n",
        "  cv_test_features_1 = sc.fit_transform(cv_test_features_0)\n",
        "\n",
        "  tsvd = TruncatedSVD(n_components=n_components_90, random_state=2021)\n",
        "  cv_train_features = tsvd.fit(cv_train_features_1).transform(cv_train_features_1)\n",
        "  # print('Reduced number of features:', cv_train_features.shape[1])\n",
        "  cv_test_features = tsvd.transform(cv_test_features_1)\n",
        "  # print('BOW model:> Train features shape:', cv_train_features.shape, ' Test features shape:', cv_test_features.shape)\n",
        "\n",
        "\n",
        "\n",
        "  # [3] RF\n",
        " \n",
        "  rfc_pipeline = Pipeline([('rfc', RandomForestClassifier(random_state=2020, criterion = \"gini\"))])\n",
        "\n",
        "  param_grid = {'rfc__n_estimators': [100, 300, 500, 700]}\n",
        "\n",
        "  gs_rfc = GridSearchCV(rfc_pipeline, param_grid, cv=5, verbose=0)\n",
        "  gs_rfc = gs_rfc.fit(cv_train_features, train_label_nums)\n",
        "\n",
        "  best_rfc_test_score = gs_rfc.score(cv_test_features, test_label_nums)\n",
        "\n",
        "  rfc_n_times[i] = np.around(best_rfc_test_score, 4)\n",
        "  \n",
        "  if (i+1) % 10 == 0:\n",
        "    test_accuracy = np.around(np.mean(rfc_n_times[:i+1]) * 100, 2)\n",
        "    t2 = t.perf_counter()\n",
        "    time_spent = np.around(t2 - t1, 2)\n",
        "    print ('Times [{:3d}/{:d}] | test accuracy: {:5.2f} % | Time spent: {} s'.format(i+1, times, test_accuracy, time_spent))\n",
        "\n",
        "t3 = t.perf_counter()\n",
        "time_spent_final = np.around(t3 - t1, 2)\n",
        "print()\n",
        "print(\"Running time: {} s\".format(time_spent_final))\n",
        "print()\n",
        "print(\"Final test accuracy: {:5.2f} %\".format(np.mean(rfc_n_times) * 100))"
      ],
      "execution_count": null,
      "outputs": [
        {
          "output_type": "stream",
          "text": [
            "Times [ 10/100] | test accuracy: 72.67 % | Time spent: 163.35 s\n",
            "Times [ 20/100] | test accuracy: 72.55 % | Time spent: 327.26 s\n",
            "Times [ 30/100] | test accuracy: 72.44 % | Time spent: 493.7 s\n",
            "Times [ 40/100] | test accuracy: 72.50 % | Time spent: 665.38 s\n",
            "Times [ 50/100] | test accuracy: 72.62 % | Time spent: 828.63 s\n",
            "Times [ 60/100] | test accuracy: 72.59 % | Time spent: 995.8 s\n",
            "Times [ 70/100] | test accuracy: 72.54 % | Time spent: 1163.4 s\n",
            "Times [ 80/100] | test accuracy: 72.47 % | Time spent: 1330.02 s\n",
            "Times [ 90/100] | test accuracy: 72.42 % | Time spent: 1496.54 s\n",
            "Times [100/100] | test accuracy: 72.33 % | Time spent: 1660.76 s\n",
            "\n",
            "Running time: 1660.76 s\n",
            "\n",
            "Final test accuracy: 72.33 %\n"
          ],
          "name": "stdout"
        }
      ]
    },
    {
      "cell_type": "code",
      "metadata": {
        "colab": {
          "base_uri": "https://localhost:8080/"
        },
        "id": "lNrL46kb2OWw",
        "outputId": "d1759a05-b6d9-4170-c6ae-9ec8e18a512d"
      },
      "source": [
        "'''\n",
        "from sklearn.ensemble import RandomForestClassifier\n",
        "\n",
        "train_ = np.zeros(10)\n",
        "rfc = RandomForestClassifier(n_estimators=500, random_state=2020, criterion = \"gini\")\n",
        "\n",
        "for i in range(10):\n",
        "\n",
        "  rfc_bow_cv_scores = cross_val_score(rfc, cv_train_features, train_label_nums, cv=StratifiedKFold(n_splits=5, shuffle=True))\n",
        "  rfc_bow_cv_mean_score = np.mean(rfc_bow_cv_scores)\n",
        "  print('CV Accuracy (5-fold):', rfc_bow_cv_scores)\n",
        "  print('Mean CV Accuracy:', rfc_bow_cv_mean_score)\n",
        "\n",
        "  train_[i] = rfc_bow_cv_mean_score\n",
        "\n",
        "rfc.fit(cv_train_features, train_label_nums)\n",
        "rfc_bow_test_score = rfc.score(cv_test_features, test_label_nums)\n",
        "\n",
        "print('----------')\n",
        "print('Test Accuracy:', rfc_bow_test_score)\n",
        "'''"
      ],
      "execution_count": null,
      "outputs": [
        {
          "output_type": "stream",
          "text": [
            "CV Accuracy (5-fold): [0.72222222 0.69444444 0.68571429 0.71428571 0.71428571]\n",
            "Mean CV Accuracy: 0.7061904761904761\n",
            "CV Accuracy (5-fold): [0.69444444 0.72222222 0.68571429 0.71428571 0.74285714]\n",
            "Mean CV Accuracy: 0.7119047619047618\n",
            "CV Accuracy (5-fold): [0.69444444 0.69444444 0.71428571 0.68571429 0.68571429]\n",
            "Mean CV Accuracy: 0.6949206349206349\n",
            "CV Accuracy (5-fold): [0.69444444 0.72222222 0.71428571 0.68571429 0.71428571]\n",
            "Mean CV Accuracy: 0.7061904761904761\n",
            "CV Accuracy (5-fold): [0.66666667 0.69444444 0.68571429 0.74285714 0.71428571]\n",
            "Mean CV Accuracy: 0.7007936507936507\n",
            "CV Accuracy (5-fold): [0.72222222 0.72222222 0.71428571 0.68571429 0.68571429]\n",
            "Mean CV Accuracy: 0.706031746031746\n",
            "CV Accuracy (5-fold): [0.69444444 0.69444444 0.68571429 0.65714286 0.71428571]\n",
            "Mean CV Accuracy: 0.6892063492063492\n",
            "CV Accuracy (5-fold): [0.72222222 0.69444444 0.68571429 0.68571429 0.71428571]\n",
            "Mean CV Accuracy: 0.7004761904761905\n",
            "CV Accuracy (5-fold): [0.69444444 0.72222222 0.71428571 0.68571429 0.68571429]\n",
            "Mean CV Accuracy: 0.7004761904761905\n",
            "CV Accuracy (5-fold): [0.69444444 0.69444444 0.71428571 0.68571429 0.74285714]\n",
            "Mean CV Accuracy: 0.7063492063492063\n",
            "----------\n",
            "Test Accuracy: 0.7111111111111111\n"
          ],
          "name": "stdout"
        }
      ]
    },
    {
      "cell_type": "markdown",
      "metadata": {
        "id": "CZPFWehxAvcx"
      },
      "source": [
        "## 4. XGBoost (90%)"
      ]
    },
    {
      "cell_type": "code",
      "metadata": {
        "colab": {
          "base_uri": "https://localhost:8080/"
        },
        "id": "zoRDVyoiVA4S",
        "outputId": "e960b92c-8aa8-4d9a-975a-27020ee07316"
      },
      "source": [
        "import time as t\n",
        "import numpy as np\n",
        "from sklearn.pipeline import Pipeline\n",
        "from sklearn.model_selection import GridSearchCV\n",
        "from sklearn.feature_extraction.text import TfidfVectorizer\n",
        "from xgboost import XGBClassifier\n",
        "\n",
        "from sklearn.model_selection import train_test_split\n",
        "# from sklearn.model_selection import cross_val_score\n",
        "from sklearn.feature_extraction.text import CountVectorizer\n",
        "from sklearn.decomposition import TruncatedSVD\n",
        "from sklearn.preprocessing import StandardScaler\n",
        "\n",
        "times = 100\n",
        "xgb_n_times = np.zeros(times)\n",
        "\n",
        "t1 = t.perf_counter()\n",
        "\n",
        "cv = CountVectorizer(binary=False, min_df=0.0, max_df=1.0, ngram_range=(1, 1), vocabulary=FOMC_all_voc)\n",
        "\n",
        "for i in range(times):\n",
        "  \n",
        "  ## [1] 80-20 split\n",
        "\n",
        "  # sklearn.model_selection.train_test_split(*arrays, test_size=None, train_size=None, random_state=None, shuffle=True, stratify=None)\n",
        "\n",
        "  train_corpus, test_corpus, train_label_nums, test_label_nums = \\\n",
        "                                  train_test_split(np.array(FOMC_pickle_2), fund_rate_change_2, \n",
        "                                                    test_size=0.2, stratify=fund_rate_change_2) # random_state = 2021 / 2022 / 2023 / 2024 / 3000\n",
        "\n",
        "  # build BOW features on train articles\n",
        "  # transform test articles into features\n",
        "\n",
        "  cv_train_features_0 = cv.fit_transform(train_corpus)\n",
        "  # print('Original number of features:', cv_train_features_0.shape[1])\n",
        "  cv_test_features_0 = cv.transform(test_corpus)\n",
        "\n",
        "  tsvd = TruncatedSVD(n_components=cv_train_features_0.shape[0]-1, random_state=2021)\n",
        "  features_tsvd = tsvd.fit(cv_train_features_0)\n",
        "\n",
        "  tsvd_var_ratios = tsvd.explained_variance_ratio_\n",
        "\n",
        "  n_components_90 = select_n_components(tsvd_var_ratios, 0.90)\n",
        "\n",
        "  '''\n",
        "  sc = StandardScaler(with_mean=False) \n",
        "  # ValueError: Cannot center sparse matrices: pass `with_mean=False` instead. See docstring for motivation and alternatives.\n",
        "  cv_train_features_1 = sc.fit_transform(cv_train_features_0)\n",
        "  cv_test_features_1 = sc.fit_transform(cv_test_features_0)\n",
        "  '''\n",
        "  sc = StandardScaler(with_mean=False) \n",
        "  cv_train_features_1 = sc.fit_transform(cv_train_features_0)\n",
        "  cv_test_features_1 = sc.fit_transform(cv_test_features_0)\n",
        "\n",
        "  tsvd = TruncatedSVD(n_components=n_components_90, random_state=2021)\n",
        "  cv_train_features = tsvd.fit(cv_train_features_1).transform(cv_train_features_1)\n",
        "  # print('Reduced number of features:', cv_train_features.shape[1])\n",
        "  cv_test_features = tsvd.transform(cv_test_features_1)\n",
        "  # print('BOW model:> Train features shape:', cv_train_features.shape, ' Test features shape:', cv_test_features.shape)\n",
        "\n",
        "\n",
        "\n",
        "  # [4] XGBoost\n",
        " \n",
        "  xgb_pipeline = Pipeline([('xgb', XGBClassifier(booster='gbtree', min_child_weight=1, verbosity=1, random_state=42))])\n",
        "\n",
        "  param_grid = {'xgb__n_estimators': [100, 200, 400],\n",
        "                'xgb__gamma': [0],\n",
        "                'xgb__min_child_weight': [1],\n",
        "                'xgb__subsample': [0.5, 1.0],\n",
        "                'xgb__colsample_bytree': [0.5, 1.0],\n",
        "                'xgb__max_depth': [6],\n",
        "                'xgb__learning_rate': [0.3],\n",
        "                'xgb__colsample_bytree': [0.5, 1.0],\n",
        "                }\n",
        "\n",
        "  gs_xgb = GridSearchCV(xgb_pipeline, param_grid, cv=5, verbose=0)\n",
        "  gs_xgb = gs_xgb.fit(cv_train_features, train_label_nums)\n",
        "\n",
        "  best_xgb_test_score = gs_xgb.score(cv_test_features, test_label_nums)\n",
        "\n",
        "  xgb_n_times[i] = np.around(best_xgb_test_score, 4)\n",
        "  \n",
        "  if (i+1) % 10 == 0:\n",
        "    test_accuracy = np.around(np.mean(xgb_n_times[:i+1]) * 100, 2)\n",
        "    t2 = t.perf_counter()\n",
        "    time_spent = np.around(t2 - t1, 2)\n",
        "    print ('Times [{:3d}/{:d}] | test accuracy: {:5.2f} % | Time spent: {} s'.format(i+1, times, test_accuracy, time_spent))\n",
        "\n",
        "t3 = t.perf_counter()\n",
        "time_spent_final = np.around(t3 - t1, 2)\n",
        "print()\n",
        "print(\"Running time: {} s\".format(time_spent_final))\n",
        "print()\n",
        "print(\"Final test accuracy: {:5.2f} %\".format(np.mean(xgb_n_times) * 100))"
      ],
      "execution_count": null,
      "outputs": [
        {
          "output_type": "stream",
          "text": [
            "Times [ 10/100] | test accuracy: 78.22 % | Time spent: 119.85 s\n",
            "Times [ 20/100] | test accuracy: 76.67 % | Time spent: 241.16 s\n",
            "Times [ 30/100] | test accuracy: 77.11 % | Time spent: 362.03 s\n",
            "Times [ 40/100] | test accuracy: 77.61 % | Time spent: 482.68 s\n",
            "Times [ 50/100] | test accuracy: 77.33 % | Time spent: 603.73 s\n",
            "Times [ 60/100] | test accuracy: 77.45 % | Time spent: 724.16 s\n",
            "Times [ 70/100] | test accuracy: 77.49 % | Time spent: 843.85 s\n",
            "Times [ 80/100] | test accuracy: 77.44 % | Time spent: 963.43 s\n",
            "Times [ 90/100] | test accuracy: 77.51 % | Time spent: 1082.46 s\n",
            "Times [100/100] | test accuracy: 77.36 % | Time spent: 1201.9 s\n",
            "\n",
            "Running time: 1201.9 s\n",
            "\n",
            "Final test accuracy: 77.36 %\n"
          ],
          "name": "stdout"
        }
      ]
    },
    {
      "cell_type": "code",
      "metadata": {
        "id": "My1ELYxvVGLJ"
      },
      "source": [
        "'''\n",
        "XGBClassifier(base_score=0.5, booster='gbtree', colsample_bylevel=1,\n",
        "               colsample_bynode=1, colsample_bytree=0.6, gamma=1.5,\n",
        "               learning_rate=0.1, max_delta_step=0, max_depth=3,\n",
        "               min_child_weight=10, missing=None, n_estimators=50, n_jobs=1,\n",
        "               nthread=None, objective='multi:softprob', random_state=42,\n",
        "               reg_alpha=0, reg_lambda=1, scale_pos_weight=1, seed=None,\n",
        "               silent=None, subsample=0.8, verbosity=1)\n",
        "'''"
      ],
      "execution_count": null,
      "outputs": []
    },
    {
      "cell_type": "code",
      "metadata": {
        "colab": {
          "base_uri": "https://localhost:8080/"
        },
        "id": "1qQcw1dM2Obe",
        "outputId": "bad2491b-cd19-42f2-9e29-17defda70cda"
      },
      "source": [
        "'''\n",
        "from xgboost import XGBClassifier\n",
        "train_ = np.zeros(10)\n",
        "xgb = XGBClassifier(booster='gbtree', n_estimators=1400, min_child_weight=10, gamma=1.5, subsample=0.8, colsample_bytree=0.6, max_depth=5,\n",
        "                    learning_rate=0.1, verbosity=1, random_state=42)\n",
        "\n",
        "\n",
        "for i in range(10):\n",
        "\n",
        "  xgb_bow_cv_scores = cross_val_score(xgb, cv_train_features, train_label_nums, cv=StratifiedKFold(n_splits=5, shuffle=True))\n",
        "  xgb_bow_cv_mean_score = np.mean(xgb_bow_cv_scores)\n",
        "  print('CV Accuracy (5-fold):', xgb_bow_cv_scores)\n",
        "  print('Mean CV Accuracy:', xgb_bow_cv_mean_score)\n",
        "\n",
        "  train_[i] = xgb_bow_cv_mean_score\n",
        "\n",
        "xgb.fit(cv_train_features, train_label_nums)\n",
        "xgb_bow_test_score = xgb.score(cv_test_features, test_label_nums)\n",
        "\n",
        "print('----------')\n",
        "print('Test Accuracy:', xgb_bow_test_score)\n",
        "'''"
      ],
      "execution_count": null,
      "outputs": [
        {
          "output_type": "stream",
          "text": [
            "CV Accuracy (5-fold): [0.77777778 0.77777778 0.74285714 0.71428571 0.8       ]\n",
            "Mean CV Accuracy: 0.7625396825396825\n",
            "CV Accuracy (5-fold): [0.80555556 0.72222222 0.71428571 0.77142857 0.77142857]\n",
            "Mean CV Accuracy: 0.756984126984127\n",
            "CV Accuracy (5-fold): [0.80555556 0.75       0.74285714 0.71428571 0.8       ]\n",
            "Mean CV Accuracy: 0.7625396825396825\n",
            "CV Accuracy (5-fold): [0.80555556 0.69444444 0.68571429 0.74285714 0.77142857]\n",
            "Mean CV Accuracy: 0.74\n",
            "CV Accuracy (5-fold): [0.75       0.72222222 0.8        0.82857143 0.71428571]\n",
            "Mean CV Accuracy: 0.763015873015873\n",
            "CV Accuracy (5-fold): [0.72222222 0.75       0.8        0.74285714 0.71428571]\n",
            "Mean CV Accuracy: 0.7458730158730159\n",
            "CV Accuracy (5-fold): [0.72222222 0.77777778 0.71428571 0.8        0.74285714]\n",
            "Mean CV Accuracy: 0.7514285714285714\n",
            "CV Accuracy (5-fold): [0.75       0.72222222 0.74285714 0.77142857 0.77142857]\n",
            "Mean CV Accuracy: 0.7515873015873016\n",
            "CV Accuracy (5-fold): [0.77777778 0.75       0.65714286 0.68571429 0.71428571]\n",
            "Mean CV Accuracy: 0.716984126984127\n",
            "CV Accuracy (5-fold): [0.66666667 0.75       0.8        0.8        0.65714286]\n",
            "Mean CV Accuracy: 0.7347619047619047\n",
            "----------\n",
            "Test Accuracy: 0.7555555555555555\n"
          ],
          "name": "stdout"
        }
      ]
    },
    {
      "cell_type": "markdown",
      "metadata": {
        "id": "mwBFW_p1WCDi"
      },
      "source": [
        "# Linear Reduction TSVD (85%)"
      ]
    },
    {
      "cell_type": "code",
      "metadata": {
        "id": "KMDjK-qOWdQm"
      },
      "source": [
        "def select_n_components(var_ratio_list, goal_explained_var):\n",
        "\n",
        "  for i in range(len(var_ratio_list)):\n",
        "    k = var_ratio_list[:i].sum()\n",
        "    if k > goal_explained_var:\n",
        "      return i"
      ],
      "execution_count": 30,
      "outputs": []
    },
    {
      "cell_type": "markdown",
      "metadata": {
        "id": "7FXwbCtmCp2R"
      },
      "source": [
        "## 1. LR (85%)"
      ]
    },
    {
      "cell_type": "code",
      "metadata": {
        "colab": {
          "base_uri": "https://localhost:8080/"
        },
        "id": "VZsUNExyWl6-",
        "outputId": "f6d98ea0-201d-4715-97f0-898e18ec4842"
      },
      "source": [
        "import time as t\n",
        "import numpy as np\n",
        "from sklearn.pipeline import Pipeline\n",
        "from sklearn.model_selection import GridSearchCV\n",
        "from sklearn.feature_extraction.text import TfidfVectorizer\n",
        "from sklearn.linear_model import LogisticRegression\n",
        "\n",
        "from sklearn.model_selection import train_test_split\n",
        "from sklearn.feature_extraction.text import CountVectorizer\n",
        "from sklearn.decomposition import TruncatedSVD\n",
        "from sklearn.preprocessing import StandardScaler\n",
        "\n",
        "times = 100\n",
        "lr_n_times = np.zeros(times)\n",
        "\n",
        "t1 = t.perf_counter()\n",
        "\n",
        "cv = CountVectorizer(binary=False, min_df=0.0, max_df=1.0, ngram_range=(1, 1), vocabulary=FOMC_all_voc)\n",
        "\n",
        "for i in range(times):\n",
        "  \n",
        "  ## [1] 80-20 split\n",
        "\n",
        "  # sklearn.model_selection.train_test_split(*arrays, test_size=None, train_size=None, random_state=None, shuffle=True, stratify=None)\n",
        "\n",
        "  train_corpus, test_corpus, train_label_nums, test_label_nums = \\\n",
        "                                  train_test_split(np.array(FOMC_pickle_2), fund_rate_change_2, \n",
        "                                                    test_size=0.2, stratify=fund_rate_change_2) # random_state = 2021 / 2022 / 2023 / 2024 / 3000\n",
        "\n",
        "  # build BOW features on train articles\n",
        "  # transform test articles into features\n",
        "\n",
        "  cv_train_features_0 = cv.fit_transform(train_corpus)\n",
        "  # print('Original number of features:', cv_train_features_0.shape[1])\n",
        "  cv_test_features_0 = cv.transform(test_corpus)\n",
        "\n",
        "  tsvd = TruncatedSVD(n_components=cv_train_features_0.shape[0]-1, random_state=2021)\n",
        "  features_tsvd = tsvd.fit(cv_train_features_0)\n",
        "\n",
        "  tsvd_var_ratios = tsvd.explained_variance_ratio_\n",
        "\n",
        "  n_components_85 = select_n_components(tsvd_var_ratios, 0.85)\n",
        "\n",
        "  '''\n",
        "  sc = StandardScaler(with_mean=False) \n",
        "  # ValueError: Cannot center sparse matrices: pass `with_mean=False` instead. See docstring for motivation and alternatives.\n",
        "  cv_train_features_1 = sc.fit_transform(cv_train_features_0)\n",
        "  cv_test_features_1 = sc.fit_transform(cv_test_features_0)\n",
        "  '''\n",
        "  sc = StandardScaler(with_mean=False) \n",
        "  cv_train_features_1 = sc.fit_transform(cv_train_features_0)\n",
        "  cv_test_features_1 = sc.fit_transform(cv_test_features_0)\n",
        "\n",
        "  tsvd = TruncatedSVD(n_components=n_components_85, random_state=2021)\n",
        "  cv_train_features = tsvd.fit(cv_train_features_1).transform(cv_train_features_1)\n",
        "  # print('Reduced number of features:', cv_train_features.shape[1])\n",
        "  cv_test_features = tsvd.transform(cv_test_features_1)\n",
        "  # print('BOW model:> Train features shape:', cv_train_features.shape, ' Test features shape:', cv_test_features.shape)\n",
        "\n",
        "\n",
        "  # [2] LR\n",
        " \n",
        "  lr_pipeline = Pipeline([('lr', LogisticRegression(penalty='l2', max_iter=8000, random_state=42))])\n",
        "\n",
        "  param_grid = {'lr__C': [0.001, 0.01, 0.1, 1.0, 5.0, 10.0, 100.0]}\n",
        "\n",
        "  gs_lr = GridSearchCV(lr_pipeline, param_grid, cv=5, verbose=0)\n",
        "  gs_lr = gs_lr.fit(cv_train_features, train_label_nums)\n",
        "\n",
        "  best_lr_test_score = gs_lr.score(cv_test_features, test_label_nums)\n",
        "  # print('Test Accuracy :', best_lr_test_score)\n",
        "\n",
        "  lr_n_times[i] = np.around(best_lr_test_score, 4)\n",
        "  \n",
        "  if (i+1) % 10 == 0:\n",
        "    test_accuracy = np.around(np.mean(lr_n_times[:i+1]) * 100, 2)\n",
        "    t2 = t.perf_counter()\n",
        "    time_spent = np.around(t2 - t1, 2)\n",
        "    print ('Times [{:3d}/{:d}] | test accuracy: {:5.2f} % | Time spent: {} s'.format(i+1, times, test_accuracy, time_spent))\n",
        "\n",
        "t3 = t.perf_counter()\n",
        "time_spent_final = np.around(t3 - t1, 2)\n",
        "print()\n",
        "print(\"Running time: {} s\".format(time_spent_final))\n",
        "print()\n",
        "print(\"Final test accuracy: {:5.2f} %\".format(np.mean(lr_n_times) * 100))"
      ],
      "execution_count": null,
      "outputs": [
        {
          "output_type": "stream",
          "text": [
            "Times [ 10/100] | test accuracy: 75.33 % | Time spent: 99.01 s\n",
            "Times [ 20/100] | test accuracy: 75.22 % | Time spent: 194.59 s\n",
            "Times [ 30/100] | test accuracy: 75.63 % | Time spent: 295.08 s\n",
            "Times [ 40/100] | test accuracy: 75.50 % | Time spent: 395.47 s\n",
            "Times [ 50/100] | test accuracy: 75.51 % | Time spent: 495.43 s\n",
            "Times [ 60/100] | test accuracy: 75.93 % | Time spent: 592.56 s\n",
            "Times [ 70/100] | test accuracy: 75.81 % | Time spent: 701.58 s\n",
            "Times [ 80/100] | test accuracy: 75.89 % | Time spent: 802.18 s\n",
            "Times [ 90/100] | test accuracy: 75.88 % | Time spent: 901.53 s\n",
            "Times [100/100] | test accuracy: 75.82 % | Time spent: 1006.35 s\n",
            "\n",
            "Running time: 1006.35 s\n",
            "\n",
            "Final test accuracy: 75.82 %\n"
          ],
          "name": "stdout"
        }
      ]
    },
    {
      "cell_type": "code",
      "metadata": {
        "colab": {
          "base_uri": "https://localhost:8080/"
        },
        "id": "8GWlmv92jV2N",
        "outputId": "667ac1b1-2c54-44ce-80cf-c893511eaf36"
      },
      "source": [
        "print('BOW model:> Train features shape:', cv_train_features.shape, ' Test features shape:', cv_test_features.shape)"
      ],
      "execution_count": 34,
      "outputs": [
        {
          "output_type": "stream",
          "text": [
            "BOW model:> Train features shape: (177, 45)  Test features shape: (45, 45)\n"
          ],
          "name": "stdout"
        }
      ]
    },
    {
      "cell_type": "code",
      "metadata": {
        "colab": {
          "base_uri": "https://localhost:8080/"
        },
        "id": "G3ruMED_jS8n",
        "outputId": "4fb20986-b681-47a9-ccb4-44e71ee123c8"
      },
      "source": [
        "gs_lr.best_estimator_.get_params()"
      ],
      "execution_count": 35,
      "outputs": [
        {
          "output_type": "execute_result",
          "data": {
            "text/plain": [
              "{'lr': LogisticRegression(C=0.01, class_weight=None, dual=False, fit_intercept=True,\n",
              "                    intercept_scaling=1, l1_ratio=None, max_iter=8000,\n",
              "                    multi_class='auto', n_jobs=None, penalty='l2',\n",
              "                    random_state=42, solver='lbfgs', tol=0.0001, verbose=0,\n",
              "                    warm_start=False),\n",
              " 'lr__C': 0.01,\n",
              " 'lr__class_weight': None,\n",
              " 'lr__dual': False,\n",
              " 'lr__fit_intercept': True,\n",
              " 'lr__intercept_scaling': 1,\n",
              " 'lr__l1_ratio': None,\n",
              " 'lr__max_iter': 8000,\n",
              " 'lr__multi_class': 'auto',\n",
              " 'lr__n_jobs': None,\n",
              " 'lr__penalty': 'l2',\n",
              " 'lr__random_state': 42,\n",
              " 'lr__solver': 'lbfgs',\n",
              " 'lr__tol': 0.0001,\n",
              " 'lr__verbose': 0,\n",
              " 'lr__warm_start': False,\n",
              " 'memory': None,\n",
              " 'steps': [('lr',\n",
              "   LogisticRegression(C=0.01, class_weight=None, dual=False, fit_intercept=True,\n",
              "                      intercept_scaling=1, l1_ratio=None, max_iter=8000,\n",
              "                      multi_class='auto', n_jobs=None, penalty='l2',\n",
              "                      random_state=42, solver='lbfgs', tol=0.0001, verbose=0,\n",
              "                      warm_start=False))],\n",
              " 'verbose': False}"
            ]
          },
          "metadata": {
            "tags": []
          },
          "execution_count": 35
        }
      ]
    },
    {
      "cell_type": "markdown",
      "metadata": {
        "id": "cx7lMaGvFCEb"
      },
      "source": [
        "## 2. SVM (85%)"
      ]
    },
    {
      "cell_type": "code",
      "metadata": {
        "colab": {
          "base_uri": "https://localhost:8080/"
        },
        "id": "7nra1BvJB_T7",
        "outputId": "d2c63f04-4763-44cc-8209-d653f2c8b549"
      },
      "source": [
        "import time as t\n",
        "import numpy as np\n",
        "from sklearn.pipeline import Pipeline\n",
        "from sklearn.model_selection import GridSearchCV\n",
        "from sklearn.feature_extraction.text import TfidfVectorizer\n",
        "from sklearn.svm import SVC\n",
        "\n",
        "from sklearn.model_selection import train_test_split\n",
        "from sklearn.feature_extraction.text import CountVectorizer\n",
        "from sklearn.decomposition import TruncatedSVD\n",
        "from sklearn.preprocessing import StandardScaler\n",
        "\n",
        "times = 100\n",
        "svm_n_times = np.zeros(times)\n",
        "\n",
        "t1 = t.perf_counter()\n",
        "\n",
        "cv = CountVectorizer(binary=False, min_df=0.0, max_df=1.0, ngram_range=(1, 1), vocabulary=FOMC_all_voc)\n",
        "\n",
        "for i in range(times):\n",
        "  \n",
        "  ## [1] 80-20 split\n",
        "\n",
        "  # sklearn.model_selection.train_test_split(*arrays, test_size=None, train_size=None, random_state=None, shuffle=True, stratify=None)\n",
        "\n",
        "  train_corpus, test_corpus, train_label_nums, test_label_nums = \\\n",
        "                                  train_test_split(np.array(FOMC_pickle_2), fund_rate_change_2, \n",
        "                                                    test_size=0.2, stratify=fund_rate_change_2) # random_state = 2021 / 2022 / 2023 / 2024 / 3000\n",
        "\n",
        "  # build BOW features on train articles\n",
        "  # transform test articles into features\n",
        "\n",
        "  cv_train_features_0 = cv.fit_transform(train_corpus)\n",
        "  # print('Original number of features:', cv_train_features_0.shape[1])\n",
        "  cv_test_features_0 = cv.transform(test_corpus)\n",
        "\n",
        "  tsvd = TruncatedSVD(n_components=cv_train_features_0.shape[0]-1, random_state=2021)\n",
        "  features_tsvd = tsvd.fit(cv_train_features_0)\n",
        "\n",
        "  tsvd_var_ratios = tsvd.explained_variance_ratio_\n",
        "\n",
        "  n_components_85 = select_n_components(tsvd_var_ratios, 0.85)\n",
        "\n",
        "  '''\n",
        "  sc = StandardScaler(with_mean=False) \n",
        "  # ValueError: Cannot center sparse matrices: pass `with_mean=False` instead. See docstring for motivation and alternatives.\n",
        "  cv_train_features_1 = sc.fit_transform(cv_train_features_0)\n",
        "  cv_test_features_1 = sc.fit_transform(cv_test_features_0)\n",
        "  '''\n",
        "  sc = StandardScaler(with_mean=False) \n",
        "  cv_train_features_1 = sc.fit_transform(cv_train_features_0)\n",
        "  cv_test_features_1 = sc.fit_transform(cv_test_features_0)\n",
        "\n",
        "  tsvd = TruncatedSVD(n_components=n_components_85, random_state=2021)\n",
        "  cv_train_features = tsvd.fit(cv_train_features_1).transform(cv_train_features_1)\n",
        "  # print('Reduced number of features:', cv_train_features.shape[1])\n",
        "  cv_test_features = tsvd.transform(cv_test_features_1)\n",
        "  # print('BOW model:> Train features shape:', cv_train_features.shape, ' Test features shape:', cv_test_features.shape)\n",
        "\n",
        "\n",
        "\n",
        "  # [2] SVM\n",
        " \n",
        "  svm_pipeline = Pipeline([('svm', SVC(kernel='rbf'))])\n",
        "\n",
        "  param_grid = {'svm__gamma': [1e-07, 1e-06, 1e-05, 1e-04, 1e-03, 1e-02, 1e-01, 0, 1],\n",
        "                'svm__C': [0.1, 1.0, 10, 100, 500, 1000]}\n",
        "\n",
        "  gs_svm = GridSearchCV(svm_pipeline, param_grid, cv=5, verbose=0)\n",
        "  gs_svm = gs_svm.fit(cv_train_features, train_label_nums)\n",
        "\n",
        "  best_svm_test_score = gs_svm.score(cv_test_features, test_label_nums)\n",
        "\n",
        "  svm_n_times[i] = np.around(best_svm_test_score, 4)\n",
        "\n",
        "  if (i+1) % 10 == 0:\n",
        "    test_accuracy = np.around(np.mean(svm_n_times[:i+1]) * 100, 2)\n",
        "    t2 = t.perf_counter()\n",
        "    time_spent = np.around(t2 - t1, 2)\n",
        "    print ('Times [{:3d}/{:d}] | test accuracy: {:5.2f} % | Time spent: {} s'.format(i+1, times, test_accuracy, time_spent))\n",
        "\n",
        "t3 = t.perf_counter()\n",
        "time_spent_final = np.around(t3 - t1, 2)\n",
        "print()\n",
        "print(\"Running time: {} s\".format(time_spent_final))\n",
        "print()\n",
        "print(\"Final test accuracy: {:5.2f} %\".format(np.mean(svm_n_times) * 100))"
      ],
      "execution_count": null,
      "outputs": [
        {
          "output_type": "stream",
          "text": [
            "Times [ 10/100] | test accuracy: 77.33 % | Time spent: 18.89 s\n",
            "Times [ 20/100] | test accuracy: 77.78 % | Time spent: 37.77 s\n",
            "Times [ 30/100] | test accuracy: 78.30 % | Time spent: 56.85 s\n",
            "Times [ 40/100] | test accuracy: 77.83 % | Time spent: 75.68 s\n",
            "Times [ 50/100] | test accuracy: 77.91 % | Time spent: 94.85 s\n",
            "Times [ 60/100] | test accuracy: 78.26 % | Time spent: 113.65 s\n",
            "Times [ 70/100] | test accuracy: 77.87 % | Time spent: 132.43 s\n",
            "Times [ 80/100] | test accuracy: 77.64 % | Time spent: 151.49 s\n",
            "Times [ 90/100] | test accuracy: 77.75 % | Time spent: 170.62 s\n",
            "Times [100/100] | test accuracy: 77.71 % | Time spent: 189.82 s\n",
            "\n",
            "Running time: 189.82 s\n",
            "\n",
            "Final test accuracy: 77.71 %\n"
          ],
          "name": "stdout"
        }
      ]
    },
    {
      "cell_type": "markdown",
      "metadata": {
        "id": "PkjIkqvrFqrq"
      },
      "source": [
        "## 3. RF (85%)"
      ]
    },
    {
      "cell_type": "code",
      "metadata": {
        "colab": {
          "background_save": true
        },
        "id": "R5wnsWBwB_lg",
        "outputId": "d4249402-63bc-42e8-9aa8-a2f9c38b8033"
      },
      "source": [
        "import time as t\n",
        "import numpy as np\n",
        "from sklearn.pipeline import Pipeline\n",
        "from sklearn.model_selection import GridSearchCV\n",
        "from sklearn.feature_extraction.text import TfidfVectorizer\n",
        "from sklearn.ensemble import RandomForestClassifier\n",
        "\n",
        "from sklearn.model_selection import train_test_split\n",
        "from sklearn.feature_extraction.text import CountVectorizer\n",
        "from sklearn.decomposition import TruncatedSVD\n",
        "from sklearn.preprocessing import StandardScaler\n",
        "\n",
        "times = 100\n",
        "rfc_n_times = np.zeros(times)\n",
        "\n",
        "t1 = t.perf_counter()\n",
        "\n",
        "cv = CountVectorizer(binary=False, min_df=0.0, max_df=1.0, ngram_range=(1, 1), vocabulary=FOMC_all_voc)\n",
        "\n",
        "for i in range(times):\n",
        "  \n",
        "  ## [1] 80-20 split\n",
        "\n",
        "  # sklearn.model_selection.train_test_split(*arrays, test_size=None, train_size=None, random_state=None, shuffle=True, stratify=None)\n",
        "\n",
        "  train_corpus, test_corpus, train_label_nums, test_label_nums = \\\n",
        "                                  train_test_split(np.array(FOMC_pickle_2), fund_rate_change_2, \n",
        "                                                    test_size=0.2, stratify=fund_rate_change_2) # random_state = 2021 / 2022 / 2023 / 2024 / 3000\n",
        "\n",
        "  # build BOW features on train articles\n",
        "  # transform test articles into features\n",
        "\n",
        "  cv_train_features_0 = cv.fit_transform(train_corpus)\n",
        "  # print('Original number of features:', cv_train_features_0.shape[1])\n",
        "  cv_test_features_0 = cv.transform(test_corpus)\n",
        "\n",
        "  tsvd = TruncatedSVD(n_components=cv_train_features_0.shape[0]-1, random_state=2021)\n",
        "  features_tsvd = tsvd.fit(cv_train_features_0)\n",
        "\n",
        "  tsvd_var_ratios = tsvd.explained_variance_ratio_\n",
        "\n",
        "  n_components_85 = select_n_components(tsvd_var_ratios, 0.85)\n",
        "\n",
        "  '''\n",
        "  sc = StandardScaler(with_mean=False) \n",
        "  # ValueError: Cannot center sparse matrices: pass `with_mean=False` instead. See docstring for motivation and alternatives.\n",
        "  cv_train_features_1 = sc.fit_transform(cv_train_features_0)\n",
        "  cv_test_features_1 = sc.fit_transform(cv_test_features_0)\n",
        "  '''\n",
        "  sc = StandardScaler(with_mean=False) \n",
        "  cv_train_features_1 = sc.fit_transform(cv_train_features_0)\n",
        "  cv_test_features_1 = sc.fit_transform(cv_test_features_0)\n",
        "\n",
        "  tsvd = TruncatedSVD(n_components=n_components_85, random_state=2021)\n",
        "  cv_train_features = tsvd.fit(cv_train_features_1).transform(cv_train_features_1)\n",
        "  # print('Reduced number of features:', cv_train_features.shape[1])\n",
        "  cv_test_features = tsvd.transform(cv_test_features_1)\n",
        "  # print('BOW model:> Train features shape:', cv_train_features.shape, ' Test features shape:', cv_test_features.shape)\n",
        "\n",
        "\n",
        "\n",
        "  # [3] RF\n",
        " \n",
        "  rfc_pipeline = Pipeline([('rfc', RandomForestClassifier(random_state=2020, criterion = \"gini\"))])\n",
        "\n",
        "  param_grid = {'rfc__n_estimators': [100, 300, 500, 700]}\n",
        "\n",
        "  gs_rfc = GridSearchCV(rfc_pipeline, param_grid, cv=5, verbose=0)\n",
        "  gs_rfc = gs_rfc.fit(cv_train_features, train_label_nums)\n",
        "\n",
        "  best_rfc_test_score = gs_rfc.score(cv_test_features, test_label_nums)\n",
        "\n",
        "  rfc_n_times[i] = np.around(best_rfc_test_score, 4)\n",
        "  \n",
        "  if (i+1) % 10 == 0:\n",
        "    test_accuracy = np.around(np.mean(rfc_n_times[:i+1]) * 100, 2)\n",
        "    t2 = t.perf_counter()\n",
        "    time_spent = np.around(t2 - t1, 2)\n",
        "    print ('Times [{:3d}/{:d}] | test accuracy: {:5.2f} % | Time spent: {} s'.format(i+1, times, test_accuracy, time_spent))\n",
        "\n",
        "t3 = t.perf_counter()\n",
        "time_spent_final = np.around(t3 - t1, 2)\n",
        "print()\n",
        "print(\"Running time: {} s\".format(time_spent_final))\n",
        "print()\n",
        "print(\"Final test accuracy: {:5.2f} %\".format(np.mean(rfc_n_times) * 100))"
      ],
      "execution_count": null,
      "outputs": [
        {
          "output_type": "stream",
          "text": [
            "Times [ 10/100] | test accuracy: 72.89 % | Time spent: 126.66 s\n",
            "Times [ 20/100] | test accuracy: 72.89 % | Time spent: 255.83 s\n",
            "Times [ 30/100] | test accuracy: 73.41 % | Time spent: 386.05 s\n",
            "Times [ 40/100] | test accuracy: 73.72 % | Time spent: 514.07 s\n",
            "Times [ 50/100] | test accuracy: 73.60 % | Time spent: 643.25 s\n",
            "Times [ 60/100] | test accuracy: 73.41 % | Time spent: 773.27 s\n",
            "Times [ 70/100] | test accuracy: 73.27 % | Time spent: 900.76 s\n",
            "Times [ 80/100] | test accuracy: 73.47 % | Time spent: 1027.67 s\n",
            "Times [ 90/100] | test accuracy: 73.56 % | Time spent: 1154.6 s\n",
            "Times [100/100] | test accuracy: 73.42 % | Time spent: 1283.88 s\n",
            "\n",
            "Running time: 1283.88 s\n",
            "\n",
            "Final test accuracy: 73.42 %\n"
          ],
          "name": "stdout"
        }
      ]
    },
    {
      "cell_type": "markdown",
      "metadata": {
        "id": "N4eEqJmgG1RQ"
      },
      "source": [
        "## 4. XGBoost (85%)"
      ]
    },
    {
      "cell_type": "code",
      "metadata": {
        "colab": {
          "background_save": true
        },
        "id": "LV9vylwfB_6F",
        "outputId": "46566d38-7a1b-4e27-c374-daf9fb909236"
      },
      "source": [
        "import time as t\n",
        "import numpy as np\n",
        "from sklearn.pipeline import Pipeline\n",
        "from sklearn.model_selection import GridSearchCV\n",
        "from sklearn.feature_extraction.text import TfidfVectorizer\n",
        "from xgboost import XGBClassifier\n",
        "\n",
        "from sklearn.model_selection import train_test_split\n",
        "from sklearn.feature_extraction.text import CountVectorizer\n",
        "from sklearn.decomposition import TruncatedSVD\n",
        "from sklearn.preprocessing import StandardScaler\n",
        "\n",
        "times = 100\n",
        "xgb_n_times = np.zeros(times)\n",
        "\n",
        "t1 = t.perf_counter()\n",
        "\n",
        "cv = CountVectorizer(binary=False, min_df=0.0, max_df=1.0, ngram_range=(1, 1), vocabulary=FOMC_all_voc)\n",
        "\n",
        "for i in range(times):\n",
        "  \n",
        "  ## [1] 80-20 split\n",
        "\n",
        "  # sklearn.model_selection.train_test_split(*arrays, test_size=None, train_size=None, random_state=None, shuffle=True, stratify=None)\n",
        "\n",
        "  train_corpus, test_corpus, train_label_nums, test_label_nums = \\\n",
        "                                  train_test_split(np.array(FOMC_pickle_2), fund_rate_change_2, \n",
        "                                                    test_size=0.2, stratify=fund_rate_change_2) # random_state = 2021 / 2022 / 2023 / 2024 / 3000\n",
        "\n",
        "  # build BOW features on train articles\n",
        "  # transform test articles into features\n",
        "\n",
        "  cv_train_features_0 = cv.fit_transform(train_corpus)\n",
        "  # print('Original number of features:', cv_train_features_0.shape[1])\n",
        "  cv_test_features_0 = cv.transform(test_corpus)\n",
        "\n",
        "  tsvd = TruncatedSVD(n_components=cv_train_features_0.shape[0]-1, random_state=2021)\n",
        "  features_tsvd = tsvd.fit(cv_train_features_0)\n",
        "\n",
        "  tsvd_var_ratios = tsvd.explained_variance_ratio_\n",
        "\n",
        "  n_components_85 = select_n_components(tsvd_var_ratios, 0.85)\n",
        "\n",
        "  '''\n",
        "  sc = StandardScaler(with_mean=False) \n",
        "  # ValueError: Cannot center sparse matrices: pass `with_mean=False` instead. See docstring for motivation and alternatives.\n",
        "  cv_train_features_1 = sc.fit_transform(cv_train_features_0)\n",
        "  cv_test_features_1 = sc.fit_transform(cv_test_features_0)\n",
        "  '''\n",
        "  sc = StandardScaler(with_mean=False) \n",
        "  cv_train_features_1 = sc.fit_transform(cv_train_features_0)\n",
        "  cv_test_features_1 = sc.fit_transform(cv_test_features_0)\n",
        "\n",
        "  tsvd = TruncatedSVD(n_components=n_components_85, random_state=2021)\n",
        "  cv_train_features = tsvd.fit(cv_train_features_1).transform(cv_train_features_1)\n",
        "  # print('Reduced number of features:', cv_train_features.shape[1])\n",
        "  cv_test_features = tsvd.transform(cv_test_features_1)\n",
        "  # print('BOW model:> Train features shape:', cv_train_features.shape, ' Test features shape:', cv_test_features.shape)\n",
        "\n",
        "\n",
        "\n",
        "  # [4] XGBoost\n",
        " \n",
        "  xgb_pipeline = Pipeline([('xgb', XGBClassifier(booster='gbtree', min_child_weight=1, verbosity=1, random_state=42))])\n",
        "\n",
        "  param_grid = {'xgb__n_estimators': [100, 200, 400],\n",
        "                'xgb__gamma': [0],\n",
        "                'xgb__min_child_weight': [1],\n",
        "                'xgb__subsample': [0.5, 1.0],\n",
        "                'xgb__colsample_bytree': [0.5, 1.0],\n",
        "                'xgb__max_depth': [6],\n",
        "                'xgb__learning_rate': [0.3],\n",
        "                'xgb__colsample_bytree': [0.5, 1.0],\n",
        "                }\n",
        "\n",
        "  gs_xgb = GridSearchCV(xgb_pipeline, param_grid, cv=5, verbose=0)\n",
        "  gs_xgb = gs_xgb.fit(cv_train_features, train_label_nums)\n",
        "\n",
        "  best_xgb_test_score = gs_xgb.score(cv_test_features, test_label_nums)\n",
        "\n",
        "  xgb_n_times[i] = np.around(best_xgb_test_score, 4)\n",
        "  \n",
        "  if (i+1) % 10 == 0:\n",
        "    test_accuracy = np.around(np.mean(xgb_n_times[:i+1]) * 100, 2)\n",
        "    t2 = t.perf_counter()\n",
        "    time_spent = np.around(t2 - t1, 2)\n",
        "    print ('Times [{:3d}/{:d}] | test accuracy: {:5.2f} % | Time spent: {} s'.format(i+1, times, test_accuracy, time_spent))\n",
        "\n",
        "t3 = t.perf_counter()\n",
        "time_spent_final = np.around(t3 - t1, 2)\n",
        "print()\n",
        "print(\"Running time: {} s\".format(time_spent_final))\n",
        "print()\n",
        "print(\"Final test accuracy: {:5.2f} %\".format(np.mean(xgb_n_times) * 100))"
      ],
      "execution_count": null,
      "outputs": [
        {
          "output_type": "stream",
          "text": [
            "Times [ 10/100] | test accuracy: 75.78 % | Time spent: 74.61 s\n",
            "Times [ 20/100] | test accuracy: 76.56 % | Time spent: 149.47 s\n",
            "Times [ 30/100] | test accuracy: 76.45 % | Time spent: 224.52 s\n",
            "Times [ 40/100] | test accuracy: 77.00 % | Time spent: 299.87 s\n",
            "Times [ 50/100] | test accuracy: 77.07 % | Time spent: 375.18 s\n",
            "Times [ 60/100] | test accuracy: 76.85 % | Time spent: 449.06 s\n",
            "Times [ 70/100] | test accuracy: 76.67 % | Time spent: 523.97 s\n",
            "Times [ 80/100] | test accuracy: 76.83 % | Time spent: 599.36 s\n",
            "Times [ 90/100] | test accuracy: 76.79 % | Time spent: 674.97 s\n",
            "Times [100/100] | test accuracy: 76.84 % | Time spent: 749.8 s\n",
            "\n",
            "Running time: 749.8 s\n",
            "\n",
            "Final test accuracy: 76.84 %\n"
          ],
          "name": "stdout"
        }
      ]
    },
    {
      "cell_type": "markdown",
      "metadata": {
        "id": "bBsA_qz-dTzQ"
      },
      "source": [
        "# Linear Reduction TSVD (80%)"
      ]
    },
    {
      "cell_type": "code",
      "metadata": {
        "colab": {
          "background_save": true
        },
        "id": "R86ZEIJHc11q"
      },
      "source": [
        "def select_n_components(var_ratio_list, goal_explained_var):\n",
        "\n",
        "  for i in range(len(var_ratio_list)):\n",
        "    k = var_ratio_list[:i].sum()\n",
        "    if k > goal_explained_var:\n",
        "      return i"
      ],
      "execution_count": null,
      "outputs": []
    },
    {
      "cell_type": "markdown",
      "metadata": {
        "id": "QtkEiS-Oddw2"
      },
      "source": [
        "## LR (80%)"
      ]
    },
    {
      "cell_type": "code",
      "metadata": {
        "colab": {
          "base_uri": "https://localhost:8080/"
        },
        "id": "zE2fHPH4dFaR",
        "outputId": "6a9b52a2-0a04-4d1c-af54-9db23d501424"
      },
      "source": [
        "import time as t\n",
        "import numpy as np\n",
        "from sklearn.pipeline import Pipeline\n",
        "from sklearn.model_selection import GridSearchCV\n",
        "from sklearn.feature_extraction.text import TfidfVectorizer\n",
        "from sklearn.linear_model import LogisticRegression\n",
        "\n",
        "from sklearn.model_selection import train_test_split\n",
        "from sklearn.feature_extraction.text import CountVectorizer\n",
        "from sklearn.decomposition import TruncatedSVD\n",
        "from sklearn.preprocessing import StandardScaler\n",
        "\n",
        "times = 100\n",
        "lr_n_times = np.zeros(times)\n",
        "\n",
        "t1 = t.perf_counter()\n",
        "\n",
        "cv = CountVectorizer(binary=False, min_df=0.0, max_df=1.0, ngram_range=(1, 1), vocabulary=FOMC_all_voc)\n",
        "\n",
        "for i in range(times):\n",
        "  \n",
        "  ## [1] 80-20 split\n",
        "\n",
        "  # sklearn.model_selection.train_test_split(*arrays, test_size=None, train_size=None, random_state=None, shuffle=True, stratify=None)\n",
        "\n",
        "  train_corpus, test_corpus, train_label_nums, test_label_nums = \\\n",
        "                                  train_test_split(np.array(FOMC_pickle_2), fund_rate_change_2, \n",
        "                                                    test_size=0.2, stratify=fund_rate_change_2) # random_state = 2021 / 2022 / 2023 / 2024 / 3000\n",
        "\n",
        "  # build BOW features on train articles\n",
        "  # transform test articles into features\n",
        "\n",
        "  cv_train_features_0 = cv.fit_transform(train_corpus)\n",
        "  # print('Original number of features:', cv_train_features_0.shape[1])\n",
        "  cv_test_features_0 = cv.transform(test_corpus)\n",
        "\n",
        "  tsvd = TruncatedSVD(n_components=cv_train_features_0.shape[0]-1, random_state=2021)\n",
        "  features_tsvd = tsvd.fit(cv_train_features_0)\n",
        "\n",
        "  tsvd_var_ratios = tsvd.explained_variance_ratio_\n",
        "\n",
        "  n_components_80 = select_n_components(tsvd_var_ratios, 0.80)\n",
        "\n",
        "  '''\n",
        "  sc = StandardScaler(with_mean=False) \n",
        "  # ValueError: Cannot center sparse matrices: pass `with_mean=False` instead. See docstring for motivation and alternatives.\n",
        "  cv_train_features_1 = sc.fit_transform(cv_train_features_0)\n",
        "  cv_test_features_1 = sc.fit_transform(cv_test_features_0)\n",
        "  '''\n",
        "  sc = StandardScaler(with_mean=False) \n",
        "  cv_train_features_1 = sc.fit_transform(cv_train_features_0)\n",
        "  cv_test_features_1 = sc.fit_transform(cv_test_features_0)\n",
        "\n",
        "  tsvd = TruncatedSVD(n_components=n_components_80, random_state=2021)\n",
        "  cv_train_features = tsvd.fit(cv_train_features_1).transform(cv_train_features_1)\n",
        "  # print('Reduced number of features:', cv_train_features.shape[1])\n",
        "  cv_test_features = tsvd.transform(cv_test_features_1)\n",
        "  # print('BOW model:> Train features shape:', cv_train_features.shape, ' Test features shape:', cv_test_features.shape)\n",
        "\n",
        "\n",
        "  # [2] LR\n",
        " \n",
        "  lr_pipeline = Pipeline([('lr', LogisticRegression(penalty='l2', max_iter=80000, random_state=42))])\n",
        "\n",
        "  param_grid = {'lr__C': [0.001, 0.01, 0.1, 1.0, 5.0, 10.0, 100.0]}\n",
        "\n",
        "  gs_lr = GridSearchCV(lr_pipeline, param_grid, cv=5, verbose=0)\n",
        "  gs_lr = gs_lr.fit(cv_train_features, train_label_nums)\n",
        "\n",
        "  best_lr_test_score = gs_lr.score(cv_test_features, test_label_nums)\n",
        "  # print('Test Accuracy :', best_lr_test_score)\n",
        "\n",
        "  lr_n_times[i] = np.around(best_lr_test_score, 4)\n",
        "  \n",
        "  if (i+1) % 10 == 0:\n",
        "    test_accuracy = np.around(np.mean(lr_n_times[:i+1]) * 100, 2)\n",
        "    t2 = t.perf_counter()\n",
        "    time_spent = np.around(t2 - t1, 2)\n",
        "    print ('Times [{:3d}/{:d}] | test accuracy: {:5.2f} % | Time spent: {} s'.format(i+1, times, test_accuracy, time_spent))\n",
        "\n",
        "t3 = t.perf_counter()\n",
        "time_spent_final = np.around(t3 - t1, 2)\n",
        "print()\n",
        "print(\"Running time: {} s\".format(time_spent_final))\n",
        "print()\n",
        "print(\"Final test accuracy: {:5.2f} %\".format(np.mean(lr_n_times) * 100))"
      ],
      "execution_count": null,
      "outputs": [
        {
          "output_type": "stream",
          "text": [
            "Times [ 10/100] | test accuracy: 76.00 % | Time spent: 135.87 s\n",
            "Times [ 20/100] | test accuracy: 76.67 % | Time spent: 269.67 s\n",
            "Times [ 30/100] | test accuracy: 77.19 % | Time spent: 413.55 s\n",
            "Times [ 40/100] | test accuracy: 76.61 % | Time spent: 562.76 s\n",
            "Times [ 50/100] | test accuracy: 76.31 % | Time spent: 711.69 s\n",
            "Times [ 60/100] | test accuracy: 76.04 % | Time spent: 852.28 s\n",
            "Times [ 70/100] | test accuracy: 76.38 % | Time spent: 995.17 s\n",
            "Times [ 80/100] | test accuracy: 76.42 % | Time spent: 1138.41 s\n",
            "Times [ 90/100] | test accuracy: 76.64 % | Time spent: 1280.61 s\n",
            "Times [100/100] | test accuracy: 76.78 % | Time spent: 1423.23 s\n",
            "\n",
            "Running time: 1423.23 s\n",
            "\n",
            "Final test accuracy: 76.78 %\n"
          ],
          "name": "stdout"
        }
      ]
    },
    {
      "cell_type": "code",
      "metadata": {
        "colab": {
          "base_uri": "https://localhost:8080/"
        },
        "id": "v6_ZdYVipyQZ",
        "outputId": "999b5961-60df-4fb5-93a6-8fdc4c6a026a"
      },
      "source": [
        "print('BOW model:> Train features shape:', cv_train_features.shape, ' Test features shape:', cv_test_features.shape)"
      ],
      "execution_count": 37,
      "outputs": [
        {
          "output_type": "stream",
          "text": [
            "BOW model:> Train features shape: (177, 31)  Test features shape: (45, 31)\n"
          ],
          "name": "stdout"
        }
      ]
    },
    {
      "cell_type": "code",
      "metadata": {
        "colab": {
          "base_uri": "https://localhost:8080/"
        },
        "id": "nexTr_ZApvjd",
        "outputId": "6f613a75-0066-49f8-b903-fb44169b64ff"
      },
      "source": [
        "gs_lr.best_estimator_.get_params()"
      ],
      "execution_count": 38,
      "outputs": [
        {
          "output_type": "execute_result",
          "data": {
            "text/plain": [
              "{'lr': LogisticRegression(C=0.01, class_weight=None, dual=False, fit_intercept=True,\n",
              "                    intercept_scaling=1, l1_ratio=None, max_iter=80000,\n",
              "                    multi_class='auto', n_jobs=None, penalty='l2',\n",
              "                    random_state=42, solver='lbfgs', tol=0.0001, verbose=0,\n",
              "                    warm_start=False),\n",
              " 'lr__C': 0.01,\n",
              " 'lr__class_weight': None,\n",
              " 'lr__dual': False,\n",
              " 'lr__fit_intercept': True,\n",
              " 'lr__intercept_scaling': 1,\n",
              " 'lr__l1_ratio': None,\n",
              " 'lr__max_iter': 80000,\n",
              " 'lr__multi_class': 'auto',\n",
              " 'lr__n_jobs': None,\n",
              " 'lr__penalty': 'l2',\n",
              " 'lr__random_state': 42,\n",
              " 'lr__solver': 'lbfgs',\n",
              " 'lr__tol': 0.0001,\n",
              " 'lr__verbose': 0,\n",
              " 'lr__warm_start': False,\n",
              " 'memory': None,\n",
              " 'steps': [('lr',\n",
              "   LogisticRegression(C=0.01, class_weight=None, dual=False, fit_intercept=True,\n",
              "                      intercept_scaling=1, l1_ratio=None, max_iter=80000,\n",
              "                      multi_class='auto', n_jobs=None, penalty='l2',\n",
              "                      random_state=42, solver='lbfgs', tol=0.0001, verbose=0,\n",
              "                      warm_start=False))],\n",
              " 'verbose': False}"
            ]
          },
          "metadata": {
            "tags": []
          },
          "execution_count": 38
        }
      ]
    },
    {
      "cell_type": "markdown",
      "metadata": {
        "id": "N6hERjGjdqNs"
      },
      "source": [
        "## SVM (80%)"
      ]
    },
    {
      "cell_type": "code",
      "metadata": {
        "colab": {
          "base_uri": "https://localhost:8080/"
        },
        "id": "LeUGhz7OdFje",
        "outputId": "8bcd979d-2cb8-4df2-c5c8-8e4da3c78b71"
      },
      "source": [
        "import time as t\n",
        "import numpy as np\n",
        "from sklearn.pipeline import Pipeline\n",
        "from sklearn.model_selection import GridSearchCV\n",
        "from sklearn.feature_extraction.text import TfidfVectorizer\n",
        "from sklearn.svm import SVC\n",
        "\n",
        "from sklearn.model_selection import train_test_split\n",
        "from sklearn.feature_extraction.text import CountVectorizer\n",
        "from sklearn.decomposition import TruncatedSVD\n",
        "from sklearn.preprocessing import StandardScaler\n",
        "\n",
        "times = 100\n",
        "svm_n_times = np.zeros(times)\n",
        "\n",
        "t1 = t.perf_counter()\n",
        "\n",
        "cv = CountVectorizer(binary=False, min_df=0.0, max_df=1.0, ngram_range=(1, 1), vocabulary=FOMC_all_voc)\n",
        "\n",
        "for i in range(times):\n",
        "  \n",
        "  ## [1] 80-20 split\n",
        "\n",
        "  # sklearn.model_selection.train_test_split(*arrays, test_size=None, train_size=None, random_state=None, shuffle=True, stratify=None)\n",
        "\n",
        "  train_corpus, test_corpus, train_label_nums, test_label_nums = \\\n",
        "                                  train_test_split(np.array(FOMC_pickle_2), fund_rate_change_2, \n",
        "                                                    test_size=0.2, stratify=fund_rate_change_2) # random_state = 2021 / 2022 / 2023 / 2024 / 3000\n",
        "\n",
        "  # build BOW features on train articles\n",
        "  # transform test articles into features\n",
        "\n",
        "  cv_train_features_0 = cv.fit_transform(train_corpus)\n",
        "  # print('Original number of features:', cv_train_features_0.shape[1])\n",
        "  cv_test_features_0 = cv.transform(test_corpus)\n",
        "\n",
        "  tsvd = TruncatedSVD(n_components=cv_train_features_0.shape[0]-1, random_state=2021)\n",
        "  features_tsvd = tsvd.fit(cv_train_features_0)\n",
        "\n",
        "  tsvd_var_ratios = tsvd.explained_variance_ratio_\n",
        "\n",
        "  n_components_80 = select_n_components(tsvd_var_ratios, 0.80)\n",
        "\n",
        "  '''\n",
        "  sc = StandardScaler(with_mean=False) \n",
        "  # ValueError: Cannot center sparse matrices: pass `with_mean=False` instead. See docstring for motivation and alternatives.\n",
        "  cv_train_features_1 = sc.fit_transform(cv_train_features_0)\n",
        "  cv_test_features_1 = sc.fit_transform(cv_test_features_0)\n",
        "  '''\n",
        "  sc = StandardScaler(with_mean=False) \n",
        "  cv_train_features_1 = sc.fit_transform(cv_train_features_0)\n",
        "  cv_test_features_1 = sc.fit_transform(cv_test_features_0)\n",
        "\n",
        "  tsvd = TruncatedSVD(n_components=n_components_80, random_state=2021)\n",
        "  cv_train_features = tsvd.fit(cv_train_features_1).transform(cv_train_features_1)\n",
        "  # print('Reduced number of features:', cv_train_features.shape[1])\n",
        "  cv_test_features = tsvd.transform(cv_test_features_1)\n",
        "  # print('BOW model:> Train features shape:', cv_train_features.shape, ' Test features shape:', cv_test_features.shape)\n",
        "\n",
        "\n",
        "\n",
        "  # [2] SVM\n",
        " \n",
        "  svm_pipeline = Pipeline([('svm', SVC(kernel='rbf'))])\n",
        "\n",
        "  param_grid = {'svm__gamma': [1e-07, 1e-06, 1e-05, 1e-04, 1e-03, 1e-02, 1e-01, 0, 1],\n",
        "                'svm__C': [0.1, 1.0, 10, 100, 500, 1000]}\n",
        "\n",
        "  gs_svm = GridSearchCV(svm_pipeline, param_grid, cv=5, verbose=0)\n",
        "  gs_svm = gs_svm.fit(cv_train_features, train_label_nums)\n",
        "\n",
        "  best_svm_test_score = gs_svm.score(cv_test_features, test_label_nums)\n",
        "\n",
        "  svm_n_times[i] = np.around(best_svm_test_score, 4)\n",
        "\n",
        "  if (i+1) % 10 == 0:\n",
        "    test_accuracy = np.around(np.mean(svm_n_times[:i+1]) * 100, 2)\n",
        "    t2 = t.perf_counter()\n",
        "    time_spent = np.around(t2 - t1, 2)\n",
        "    print ('Times [{:3d}/{:d}] | test accuracy: {:5.2f} % | Time spent: {} s'.format(i+1, times, test_accuracy, time_spent))\n",
        "\n",
        "t3 = t.perf_counter()\n",
        "time_spent_final = np.around(t3 - t1, 2)\n",
        "print()\n",
        "print(\"Running time: {} s\".format(time_spent_final))\n",
        "print()\n",
        "print(\"Final test accuracy: {:5.2f} %\".format(np.mean(svm_n_times) * 100))"
      ],
      "execution_count": null,
      "outputs": [
        {
          "output_type": "stream",
          "text": [
            "Times [ 10/100] | test accuracy: 79.11 % | Time spent: 17.47 s\n",
            "Times [ 20/100] | test accuracy: 78.11 % | Time spent: 34.94 s\n",
            "Times [ 30/100] | test accuracy: 78.07 % | Time spent: 52.27 s\n",
            "Times [ 40/100] | test accuracy: 77.50 % | Time spent: 69.68 s\n",
            "Times [ 50/100] | test accuracy: 78.76 % | Time spent: 87.08 s\n",
            "Times [ 60/100] | test accuracy: 78.22 % | Time spent: 104.52 s\n",
            "Times [ 70/100] | test accuracy: 78.06 % | Time spent: 122.04 s\n",
            "Times [ 80/100] | test accuracy: 78.08 % | Time spent: 139.46 s\n",
            "Times [ 90/100] | test accuracy: 78.05 % | Time spent: 156.84 s\n",
            "Times [100/100] | test accuracy: 78.33 % | Time spent: 174.36 s\n",
            "\n",
            "Running time: 174.36 s\n",
            "\n",
            "Final test accuracy: 78.33 %\n"
          ],
          "name": "stdout"
        }
      ]
    },
    {
      "cell_type": "markdown",
      "metadata": {
        "id": "OfBETc-wdzOs"
      },
      "source": [
        "## RF (80%)"
      ]
    },
    {
      "cell_type": "code",
      "metadata": {
        "colab": {
          "base_uri": "https://localhost:8080/"
        },
        "id": "WEJ9UVFqd0oY",
        "outputId": "1adfc7f7-cde5-432c-89c3-270e5a25271a"
      },
      "source": [
        "import time as t\n",
        "import numpy as np\n",
        "from sklearn.pipeline import Pipeline\n",
        "from sklearn.model_selection import GridSearchCV\n",
        "from sklearn.feature_extraction.text import TfidfVectorizer\n",
        "from sklearn.ensemble import RandomForestClassifier\n",
        "\n",
        "from sklearn.model_selection import train_test_split\n",
        "from sklearn.feature_extraction.text import CountVectorizer\n",
        "from sklearn.decomposition import TruncatedSVD\n",
        "from sklearn.preprocessing import StandardScaler\n",
        "\n",
        "times = 100\n",
        "rfc_n_times = np.zeros(times)\n",
        "\n",
        "t1 = t.perf_counter()\n",
        "\n",
        "cv = CountVectorizer(binary=False, min_df=0.0, max_df=1.0, ngram_range=(1, 1), vocabulary=FOMC_all_voc)\n",
        "\n",
        "for i in range(times):\n",
        "  \n",
        "  ## [1] 80-20 split\n",
        "\n",
        "  # sklearn.model_selection.train_test_split(*arrays, test_size=None, train_size=None, random_state=None, shuffle=True, stratify=None)\n",
        "\n",
        "  train_corpus, test_corpus, train_label_nums, test_label_nums = \\\n",
        "                                  train_test_split(np.array(FOMC_pickle_2), fund_rate_change_2, \n",
        "                                                    test_size=0.2, stratify=fund_rate_change_2) # random_state = 2021 / 2022 / 2023 / 2024 / 3000\n",
        "\n",
        "  # build BOW features on train articles\n",
        "  # transform test articles into features\n",
        "\n",
        "  cv_train_features_0 = cv.fit_transform(train_corpus)\n",
        "  # print('Original number of features:', cv_train_features_0.shape[1])\n",
        "  cv_test_features_0 = cv.transform(test_corpus)\n",
        "\n",
        "  tsvd = TruncatedSVD(n_components=cv_train_features_0.shape[0]-1, random_state=2021)\n",
        "  features_tsvd = tsvd.fit(cv_train_features_0)\n",
        "\n",
        "  tsvd_var_ratios = tsvd.explained_variance_ratio_\n",
        "\n",
        "  n_components_80 = select_n_components(tsvd_var_ratios, 0.80)\n",
        "\n",
        "  '''\n",
        "  sc = StandardScaler(with_mean=False) \n",
        "  # ValueError: Cannot center sparse matrices: pass `with_mean=False` instead. See docstring for motivation and alternatives.\n",
        "  cv_train_features_1 = sc.fit_transform(cv_train_features_0)\n",
        "  cv_test_features_1 = sc.fit_transform(cv_test_features_0)\n",
        "  '''\n",
        "  sc = StandardScaler(with_mean=False) \n",
        "  cv_train_features_1 = sc.fit_transform(cv_train_features_0)\n",
        "  cv_test_features_1 = sc.fit_transform(cv_test_features_0)\n",
        "\n",
        "  tsvd = TruncatedSVD(n_components=n_components_80, random_state=2021)\n",
        "  cv_train_features = tsvd.fit(cv_train_features_1).transform(cv_train_features_1)\n",
        "  # print('Reduced number of features:', cv_train_features.shape[1])\n",
        "  cv_test_features = tsvd.transform(cv_test_features_1)\n",
        "  # print('BOW model:> Train features shape:', cv_train_features.shape, ' Test features shape:', cv_test_features.shape)\n",
        "\n",
        "\n",
        "\n",
        "  # [3] RF\n",
        " \n",
        "  rfc_pipeline = Pipeline([('rfc', RandomForestClassifier(random_state=2020, criterion = \"gini\"))])\n",
        "\n",
        "  param_grid = {'rfc__n_estimators': [100, 300, 500, 700]}\n",
        "\n",
        "  gs_rfc = GridSearchCV(rfc_pipeline, param_grid, cv=5, verbose=0)\n",
        "  gs_rfc = gs_rfc.fit(cv_train_features, train_label_nums)\n",
        "\n",
        "  best_rfc_test_score = gs_rfc.score(cv_test_features, test_label_nums)\n",
        "\n",
        "  rfc_n_times[i] = np.around(best_rfc_test_score, 4)\n",
        "  \n",
        "  if (i+1) % 10 == 0:\n",
        "    test_accuracy = np.around(np.mean(rfc_n_times[:i+1]) * 100, 2)\n",
        "    t2 = t.perf_counter()\n",
        "    time_spent = np.around(t2 - t1, 2)\n",
        "    print ('Times [{:3d}/{:d}] | test accuracy: {:5.2f} % | Time spent: {} s'.format(i+1, times, test_accuracy, time_spent))\n",
        "\n",
        "t3 = t.perf_counter()\n",
        "time_spent_final = np.around(t3 - t1, 2)\n",
        "print()\n",
        "print(\"Running time: {} s\".format(time_spent_final))\n",
        "print()\n",
        "print(\"Final test accuracy: {:5.2f} %\".format(np.mean(rfc_n_times) * 100))"
      ],
      "execution_count": null,
      "outputs": [
        {
          "output_type": "stream",
          "text": [
            "Times [ 10/100] | test accuracy: 74.22 % | Time spent: 127.26 s\n",
            "Times [ 20/100] | test accuracy: 74.22 % | Time spent: 254.54 s\n",
            "Times [ 30/100] | test accuracy: 74.89 % | Time spent: 381.37 s\n",
            "Times [ 40/100] | test accuracy: 74.39 % | Time spent: 508.25 s\n",
            "Times [ 50/100] | test accuracy: 74.18 % | Time spent: 634.93 s\n",
            "Times [ 60/100] | test accuracy: 74.15 % | Time spent: 760.77 s\n",
            "Times [ 70/100] | test accuracy: 74.25 % | Time spent: 887.1 s\n",
            "Times [ 80/100] | test accuracy: 74.22 % | Time spent: 1014.39 s\n",
            "Times [ 90/100] | test accuracy: 74.27 % | Time spent: 1139.83 s\n",
            "Times [100/100] | test accuracy: 74.18 % | Time spent: 1268.23 s\n",
            "\n",
            "Running time: 1268.23 s\n",
            "\n",
            "Final test accuracy: 74.18 %\n"
          ],
          "name": "stdout"
        }
      ]
    },
    {
      "cell_type": "markdown",
      "metadata": {
        "id": "uQpq2r7hd75_"
      },
      "source": [
        "## XGBoost (80%)"
      ]
    },
    {
      "cell_type": "code",
      "metadata": {
        "colab": {
          "background_save": true,
          "base_uri": "https://localhost:8080/"
        },
        "id": "XvTYigeDdsaf",
        "outputId": "d0f459ca-d939-45e1-a4b3-d12b753d1912"
      },
      "source": [
        "import time as t\n",
        "import numpy as np\n",
        "from sklearn.pipeline import Pipeline\n",
        "from sklearn.model_selection import GridSearchCV\n",
        "from sklearn.feature_extraction.text import TfidfVectorizer\n",
        "from xgboost import XGBClassifier\n",
        "\n",
        "from sklearn.model_selection import train_test_split\n",
        "from sklearn.feature_extraction.text import CountVectorizer\n",
        "from sklearn.decomposition import TruncatedSVD\n",
        "from sklearn.preprocessing import StandardScaler\n",
        "\n",
        "times = 100\n",
        "xgb_n_times = np.zeros(times)\n",
        "\n",
        "t1 = t.perf_counter()\n",
        "\n",
        "cv = CountVectorizer(binary=False, min_df=0.0, max_df=1.0, ngram_range=(1, 1), vocabulary=FOMC_all_voc)\n",
        "\n",
        "for i in range(times):\n",
        "  \n",
        "  ## [1] 80-20 split\n",
        "\n",
        "  # sklearn.model_selection.train_test_split(*arrays, test_size=None, train_size=None, random_state=None, shuffle=True, stratify=None)\n",
        "\n",
        "  train_corpus, test_corpus, train_label_nums, test_label_nums = \\\n",
        "                                  train_test_split(np.array(FOMC_pickle_2), fund_rate_change_2, \n",
        "                                                    test_size=0.2, stratify=fund_rate_change_2) # random_state = 2021 / 2022 / 2023 / 2024 / 3000\n",
        "\n",
        "  # build BOW features on train articles\n",
        "  # transform test articles into features\n",
        "\n",
        "  cv_train_features_0 = cv.fit_transform(train_corpus)\n",
        "  # print('Original number of features:', cv_train_features_0.shape[1])\n",
        "  cv_test_features_0 = cv.transform(test_corpus)\n",
        "\n",
        "  tsvd = TruncatedSVD(n_components=cv_train_features_0.shape[0]-1, random_state=2021)\n",
        "  features_tsvd = tsvd.fit(cv_train_features_0)\n",
        "\n",
        "  tsvd_var_ratios = tsvd.explained_variance_ratio_\n",
        "\n",
        "  n_components_80 = select_n_components(tsvd_var_ratios, 0.80)\n",
        "\n",
        "  '''\n",
        "  sc = StandardScaler(with_mean=False) \n",
        "  # ValueError: Cannot center sparse matrices: pass `with_mean=False` instead. See docstring for motivation and alternatives.\n",
        "  cv_train_features_1 = sc.fit_transform(cv_train_features_0)\n",
        "  cv_test_features_1 = sc.fit_transform(cv_test_features_0)\n",
        "  '''\n",
        "  sc = StandardScaler(with_mean=False) \n",
        "  cv_train_features_1 = sc.fit_transform(cv_train_features_0)\n",
        "  cv_test_features_1 = sc.fit_transform(cv_test_features_0)\n",
        "\n",
        "  tsvd = TruncatedSVD(n_components=n_components_80, random_state=2021)\n",
        "  cv_train_features = tsvd.fit(cv_train_features_1).transform(cv_train_features_1)\n",
        "  # print('Reduced number of features:', cv_train_features.shape[1])\n",
        "  cv_test_features = tsvd.transform(cv_test_features_1)\n",
        "  # print('BOW model:> Train features shape:', cv_train_features.shape, ' Test features shape:', cv_test_features.shape)\n",
        "\n",
        "\n",
        "\n",
        "  # [4] XGBoost\n",
        " \n",
        "  xgb_pipeline = Pipeline([('xgb', XGBClassifier(booster='gbtree', min_child_weight=1, verbosity=1, random_state=42))])\n",
        "\n",
        "  param_grid = {'xgb__n_estimators': [100, 200, 400],\n",
        "                'xgb__gamma': [0],\n",
        "                'xgb__min_child_weight': [1],\n",
        "                'xgb__subsample': [0.5, 1.0],\n",
        "                'xgb__colsample_bytree': [0.5, 1.0],\n",
        "                'xgb__max_depth': [6],\n",
        "                'xgb__learning_rate': [0.3],\n",
        "                'xgb__colsample_bytree': [0.5, 1.0],\n",
        "                }\n",
        "\n",
        "  gs_xgb = GridSearchCV(xgb_pipeline, param_grid, cv=5, verbose=0)\n",
        "  gs_xgb = gs_xgb.fit(cv_train_features, train_label_nums)\n",
        "\n",
        "  best_xgb_test_score = gs_xgb.score(cv_test_features, test_label_nums)\n",
        "\n",
        "  xgb_n_times[i] = np.around(best_xgb_test_score, 4)\n",
        "  \n",
        "  if (i+1) % 10 == 0:\n",
        "    test_accuracy = np.around(np.mean(xgb_n_times[:i+1]) * 100, 2)\n",
        "    t2 = t.perf_counter()\n",
        "    time_spent = np.around(t2 - t1, 2)\n",
        "    print ('Times [{:3d}/{:d}] | test accuracy: {:5.2f} % | Time spent: {} s'.format(i+1, times, test_accuracy, time_spent))\n",
        "\n",
        "t3 = t.perf_counter()\n",
        "time_spent_final = np.around(t3 - t1, 2)\n",
        "print()\n",
        "print(\"Running time: {} s\".format(time_spent_final))\n",
        "print()\n",
        "print(\"Final test accuracy: {:5.2f} %\".format(np.mean(xgb_n_times) * 100))"
      ],
      "execution_count": null,
      "outputs": [
        {
          "output_type": "stream",
          "text": [
            "Times [ 10/100] | test accuracy: 76.45 % | Time spent: 61.47 s\n",
            "Times [ 20/100] | test accuracy: 77.22 % | Time spent: 122.35 s\n",
            "Times [ 30/100] | test accuracy: 77.93 % | Time spent: 183.09 s\n",
            "Times [ 40/100] | test accuracy: 78.11 % | Time spent: 244.18 s\n",
            "Times [ 50/100] | test accuracy: 77.82 % | Time spent: 305.16 s\n",
            "Times [ 60/100] | test accuracy: 77.81 % | Time spent: 366.06 s\n",
            "Times [ 70/100] | test accuracy: 77.36 % | Time spent: 427.04 s\n",
            "Times [ 80/100] | test accuracy: 77.53 % | Time spent: 488.01 s\n",
            "Times [ 90/100] | test accuracy: 77.23 % | Time spent: 549.08 s\n",
            "Times [100/100] | test accuracy: 77.47 % | Time spent: 610.3 s\n",
            "\n",
            "Running time: 610.3 s\n",
            "\n",
            "Final test accuracy: 77.47 %\n"
          ],
          "name": "stdout"
        }
      ]
    },
    {
      "cell_type": "code",
      "metadata": {
        "id": "0pNkc206eAtn"
      },
      "source": [
        ""
      ],
      "execution_count": null,
      "outputs": []
    },
    {
      "cell_type": "code",
      "metadata": {
        "id": "w_qVgjCddsjF"
      },
      "source": [
        ""
      ],
      "execution_count": null,
      "outputs": []
    },
    {
      "cell_type": "code",
      "metadata": {
        "id": "mVz3JilRdsqQ"
      },
      "source": [
        ""
      ],
      "execution_count": null,
      "outputs": []
    },
    {
      "cell_type": "markdown",
      "metadata": {
        "id": "pS7YbdeXTpy-"
      },
      "source": [
        "# Non-linear reduction: RBF (177f)"
      ]
    },
    {
      "cell_type": "markdown",
      "metadata": {
        "id": "z-ef1GnXqx-C"
      },
      "source": [
        "## LR (177 f)"
      ]
    },
    {
      "cell_type": "code",
      "metadata": {
        "colab": {
          "base_uri": "https://localhost:8080/"
        },
        "id": "I-GT5gvuTxKj",
        "outputId": "e358dac2-4b94-473d-ddab-cf2351dde260"
      },
      "source": [
        "import time as t\n",
        "import numpy as np\n",
        "from sklearn.pipeline import Pipeline\n",
        "from sklearn.model_selection import GridSearchCV\n",
        "from sklearn.feature_extraction.text import TfidfVectorizer\n",
        "from sklearn.linear_model import LogisticRegression\n",
        "\n",
        "from sklearn.model_selection import train_test_split\n",
        "from sklearn.feature_extraction.text import CountVectorizer\n",
        "from sklearn.decomposition import KernelPCA\n",
        "from sklearn.preprocessing import StandardScaler\n",
        "\n",
        "times = 100\n",
        "lr_n_times = np.zeros(times)\n",
        "\n",
        "t1 = t.perf_counter()\n",
        "\n",
        "cv = CountVectorizer(binary=False, min_df=0.0, max_df=1.0, ngram_range=(1, 1), vocabulary=FOMC_all_voc)\n",
        "\n",
        "for i in range(times):\n",
        "  \n",
        "  ## [1] 80-20 split\n",
        "\n",
        "  # sklearn.model_selection.train_test_split(*arrays, test_size=None, train_size=None, random_state=None, shuffle=True, stratify=None)\n",
        "\n",
        "  train_corpus, test_corpus, train_label_nums, test_label_nums = \\\n",
        "                                  train_test_split(np.array(FOMC_pickle_2), fund_rate_change_2, \n",
        "                                                    test_size=0.2, stratify=fund_rate_change_2) # random_state = 2021 / 2022 / 2023 / 2024 / 3000\n",
        "\n",
        "  # build BOW features on train articles\n",
        "  # transform test articles into features\n",
        "\n",
        "  cv_train_features_0 = cv.fit_transform(train_corpus)\n",
        "  # print('Original number of features:', cv_train_features_0.shape[1])\n",
        "  cv_test_features_0 = cv.transform(test_corpus)\n",
        "\n",
        "  sc = StandardScaler(with_mean=False) \n",
        "  cv_train_features_1 = sc.fit_transform(cv_train_features_0)\n",
        "  cv_test_features_1 = sc.fit_transform(cv_test_features_0)\n",
        "\n",
        "  kpca = KernelPCA(kernel='rbf', n_components=177, random_state=2020) #  gamma=15\n",
        "  cv_train_features = kpca.fit_transform(cv_train_features_1)\n",
        "  cv_test_features = kpca.transform(cv_test_features_1)\n",
        "  '''\n",
        "  tsvd = TruncatedSVD(n_components=n_components_80, random_state=2021)\n",
        "  cv_train_features = tsvd.fit(cv_train_features_1).transform(cv_train_features_1)\n",
        "  # print('Reduced number of features:', cv_train_features.shape[1])\n",
        "  cv_test_features = tsvd.transform(cv_test_features_1)\n",
        "  # print('BOW model:> Train features shape:', cv_train_features.shape, ' Test features shape:', cv_test_features.shape)\n",
        "  '''\n",
        "\n",
        "  # [2] LR\n",
        " \n",
        "  lr_pipeline = Pipeline([('lr', LogisticRegression(penalty='l2', max_iter=80000, random_state=42))])\n",
        "\n",
        "  param_grid = {'lr__C': [1e-20, 1e-19, 1e-18, 1e-17, 1e-16, 1e-15, 1e-14, 1e-13, 1e-12, 1e-11, 1e-10, 1e-9, 1e-8, 1e-7, 1e-6, 1e-5, 1e-4,1,10,100,1000,1e7,1e10, 1e15]}\n",
        "\n",
        "  gs_lr = GridSearchCV(lr_pipeline, param_grid, cv=5, verbose=0)\n",
        "  gs_lr = gs_lr.fit(cv_train_features, train_label_nums)\n",
        "\n",
        "  best_lr_test_score = gs_lr.score(cv_test_features, test_label_nums)\n",
        "  # print('Test Accuracy :', best_lr_test_score)\n",
        "\n",
        "  lr_n_times[i] = np.around(best_lr_test_score, 4)\n",
        "  \n",
        "  if (i+1) % 10 == 0:\n",
        "    test_accuracy = np.around(np.mean(lr_n_times[:i+1]) * 100, 2)\n",
        "    t2 = t.perf_counter()\n",
        "    time_spent = np.around(t2 - t1, 2)\n",
        "    print ('Times [{:3d}/{:d}] | test accuracy: {:5.2f} % | Time spent: {} s'.format(i+1, times, test_accuracy, time_spent))\n",
        "\n",
        "t3 = t.perf_counter()\n",
        "time_spent_final = np.around(t3 - t1, 2)\n",
        "print()\n",
        "print(\"Running time: {} s\".format(time_spent_final))\n",
        "print()\n",
        "print(\"Final test accuracy: {:5.2f} %\".format(np.mean(lr_n_times) * 100))"
      ],
      "execution_count": 92,
      "outputs": [
        {
          "output_type": "stream",
          "text": [
            "Times [ 10/100] | test accuracy: 71.55 % | Time spent: 19.29 s\n",
            "Times [ 20/100] | test accuracy: 71.56 % | Time spent: 38.63 s\n",
            "Times [ 30/100] | test accuracy: 71.41 % | Time spent: 57.72 s\n",
            "Times [ 40/100] | test accuracy: 71.17 % | Time spent: 76.58 s\n",
            "Times [ 50/100] | test accuracy: 70.89 % | Time spent: 95.28 s\n",
            "Times [ 60/100] | test accuracy: 70.81 % | Time spent: 114.07 s\n",
            "Times [ 70/100] | test accuracy: 70.79 % | Time spent: 132.72 s\n",
            "Times [ 80/100] | test accuracy: 70.81 % | Time spent: 151.96 s\n",
            "Times [ 90/100] | test accuracy: 70.79 % | Time spent: 171.54 s\n",
            "Times [100/100] | test accuracy: 70.84 % | Time spent: 191.2 s\n",
            "\n",
            "Running time: 191.2 s\n",
            "\n",
            "Final test accuracy: 70.84 %\n"
          ],
          "name": "stdout"
        }
      ]
    },
    {
      "cell_type": "code",
      "metadata": {
        "colab": {
          "base_uri": "https://localhost:8080/"
        },
        "id": "E0Xj2PnOq3Ms",
        "outputId": "796e020a-e8d1-4b2f-ddc7-1d27fd23850a"
      },
      "source": [
        "print('BOW model:> Train features shape:', cv_train_features.shape, ' Test features shape:', cv_test_features.shape)"
      ],
      "execution_count": 93,
      "outputs": [
        {
          "output_type": "stream",
          "text": [
            "BOW model:> Train features shape: (177, 177)  Test features shape: (45, 177)\n"
          ],
          "name": "stdout"
        }
      ]
    },
    {
      "cell_type": "code",
      "metadata": {
        "colab": {
          "base_uri": "https://localhost:8080/"
        },
        "id": "sj03TZmFq3S4",
        "outputId": "9b331089-8475-44bc-be2d-e454839e567f"
      },
      "source": [
        "gs_lr.best_estimator_.get_params()"
      ],
      "execution_count": 94,
      "outputs": [
        {
          "output_type": "execute_result",
          "data": {
            "text/plain": [
              "{'lr': LogisticRegression(C=100, class_weight=None, dual=False, fit_intercept=True,\n",
              "                    intercept_scaling=1, l1_ratio=None, max_iter=80000,\n",
              "                    multi_class='auto', n_jobs=None, penalty='l2',\n",
              "                    random_state=42, solver='lbfgs', tol=0.0001, verbose=0,\n",
              "                    warm_start=False),\n",
              " 'lr__C': 100,\n",
              " 'lr__class_weight': None,\n",
              " 'lr__dual': False,\n",
              " 'lr__fit_intercept': True,\n",
              " 'lr__intercept_scaling': 1,\n",
              " 'lr__l1_ratio': None,\n",
              " 'lr__max_iter': 80000,\n",
              " 'lr__multi_class': 'auto',\n",
              " 'lr__n_jobs': None,\n",
              " 'lr__penalty': 'l2',\n",
              " 'lr__random_state': 42,\n",
              " 'lr__solver': 'lbfgs',\n",
              " 'lr__tol': 0.0001,\n",
              " 'lr__verbose': 0,\n",
              " 'lr__warm_start': False,\n",
              " 'memory': None,\n",
              " 'steps': [('lr',\n",
              "   LogisticRegression(C=100, class_weight=None, dual=False, fit_intercept=True,\n",
              "                      intercept_scaling=1, l1_ratio=None, max_iter=80000,\n",
              "                      multi_class='auto', n_jobs=None, penalty='l2',\n",
              "                      random_state=42, solver='lbfgs', tol=0.0001, verbose=0,\n",
              "                      warm_start=False))],\n",
              " 'verbose': False}"
            ]
          },
          "metadata": {
            "tags": []
          },
          "execution_count": 94
        }
      ]
    },
    {
      "cell_type": "markdown",
      "metadata": {
        "id": "mrFOmLhw4X2M"
      },
      "source": [
        "## LR (150f)"
      ]
    },
    {
      "cell_type": "code",
      "metadata": {
        "colab": {
          "base_uri": "https://localhost:8080/"
        },
        "id": "TxJMPKFzq3aM",
        "outputId": "aba19a5a-042a-4d8a-e580-be02610f860c"
      },
      "source": [
        "import time as t\n",
        "import numpy as np\n",
        "from sklearn.pipeline import Pipeline\n",
        "from sklearn.model_selection import GridSearchCV\n",
        "from sklearn.feature_extraction.text import TfidfVectorizer\n",
        "from sklearn.linear_model import LogisticRegression\n",
        "\n",
        "from sklearn.model_selection import train_test_split\n",
        "from sklearn.feature_extraction.text import CountVectorizer\n",
        "from sklearn.decomposition import KernelPCA\n",
        "from sklearn.preprocessing import StandardScaler\n",
        "\n",
        "times = 100\n",
        "lr_n_times = np.zeros(times)\n",
        "\n",
        "t1 = t.perf_counter()\n",
        "\n",
        "cv = CountVectorizer(binary=False, min_df=0.0, max_df=1.0, ngram_range=(1, 1), vocabulary=FOMC_all_voc)\n",
        "\n",
        "for i in range(times):\n",
        "  \n",
        "  ## [1] 80-20 split\n",
        "\n",
        "  # sklearn.model_selection.train_test_split(*arrays, test_size=None, train_size=None, random_state=None, shuffle=True, stratify=None)\n",
        "\n",
        "  train_corpus, test_corpus, train_label_nums, test_label_nums = \\\n",
        "                                  train_test_split(np.array(FOMC_pickle_2), fund_rate_change_2, \n",
        "                                                    test_size=0.2, stratify=fund_rate_change_2) # random_state = 2021 / 2022 / 2023 / 2024 / 3000\n",
        "\n",
        "  # build BOW features on train articles\n",
        "  # transform test articles into features\n",
        "\n",
        "  cv_train_features_0 = cv.fit_transform(train_corpus)\n",
        "  # print('Original number of features:', cv_train_features_0.shape[1])\n",
        "  cv_test_features_0 = cv.transform(test_corpus)\n",
        "\n",
        "  sc = StandardScaler(with_mean=False) \n",
        "  cv_train_features_1 = sc.fit_transform(cv_train_features_0)\n",
        "  cv_test_features_1 = sc.fit_transform(cv_test_features_0)\n",
        "\n",
        "  kpca = KernelPCA(kernel='rbf', n_components=150, random_state=2020) #  gamma=15\n",
        "  cv_train_features = kpca.fit_transform(cv_train_features_1)\n",
        "  cv_test_features = kpca.transform(cv_test_features_1)\n",
        "  '''\n",
        "  tsvd = TruncatedSVD(n_components=n_components_80, random_state=2021)\n",
        "  cv_train_features = tsvd.fit(cv_train_features_1).transform(cv_train_features_1)\n",
        "  # print('Reduced number of features:', cv_train_features.shape[1])\n",
        "  cv_test_features = tsvd.transform(cv_test_features_1)\n",
        "  # print('BOW model:> Train features shape:', cv_train_features.shape, ' Test features shape:', cv_test_features.shape)\n",
        "  '''\n",
        "\n",
        "  # [2] LR\n",
        " \n",
        "  lr_pipeline = Pipeline([('lr', LogisticRegression(penalty='l2', max_iter=80000, random_state=42))])\n",
        "\n",
        "  param_grid = {'lr__C': [1e-20, 1e-19, 1e-18, 1e-17, 1e-16, 1e-15, 1e-14, 1e-13, 1e-12, 1e-11, 1e-10, 1e-9, 1e-8, 1e-7, 1e-6, 1e-5, 1e-4,1,10,100,1000,1e7,1e10, 1e15]}\n",
        "\n",
        "  gs_lr = GridSearchCV(lr_pipeline, param_grid, cv=5, verbose=0)\n",
        "  gs_lr = gs_lr.fit(cv_train_features, train_label_nums)\n",
        "\n",
        "  best_lr_test_score = gs_lr.score(cv_test_features, test_label_nums)\n",
        "  # print('Test Accuracy :', best_lr_test_score)\n",
        "\n",
        "  lr_n_times[i] = np.around(best_lr_test_score, 4)\n",
        "  \n",
        "  if (i+1) % 10 == 0:\n",
        "    test_accuracy = np.around(np.mean(lr_n_times[:i+1]) * 100, 2)\n",
        "    t2 = t.perf_counter()\n",
        "    time_spent = np.around(t2 - t1, 2)\n",
        "    print ('Times [{:3d}/{:d}] | test accuracy: {:5.2f} % | Time spent: {} s'.format(i+1, times, test_accuracy, time_spent))\n",
        "\n",
        "t3 = t.perf_counter()\n",
        "time_spent_final = np.around(t3 - t1, 2)\n",
        "print()\n",
        "print(\"Running time: {} s\".format(time_spent_final))\n",
        "print()\n",
        "print(\"Final test accuracy: {:5.2f} %\".format(np.mean(lr_n_times) * 100))"
      ],
      "execution_count": 97,
      "outputs": [
        {
          "output_type": "stream",
          "text": [
            "Times [ 10/100] | test accuracy: 71.33 % | Time spent: 19.56 s\n",
            "Times [ 20/100] | test accuracy: 71.22 % | Time spent: 39.18 s\n",
            "Times [ 30/100] | test accuracy: 71.33 % | Time spent: 58.81 s\n",
            "Times [ 40/100] | test accuracy: 71.39 % | Time spent: 78.41 s\n",
            "Times [ 50/100] | test accuracy: 71.60 % | Time spent: 97.6 s\n",
            "Times [ 60/100] | test accuracy: 71.52 % | Time spent: 116.6 s\n",
            "Times [ 70/100] | test accuracy: 71.49 % | Time spent: 135.51 s\n",
            "Times [ 80/100] | test accuracy: 71.33 % | Time spent: 154.21 s\n",
            "Times [ 90/100] | test accuracy: 71.28 % | Time spent: 172.76 s\n",
            "Times [100/100] | test accuracy: 71.22 % | Time spent: 191.61 s\n",
            "\n",
            "Running time: 191.61 s\n",
            "\n",
            "Final test accuracy: 71.22 %\n"
          ],
          "name": "stdout"
        }
      ]
    },
    {
      "cell_type": "code",
      "metadata": {
        "colab": {
          "base_uri": "https://localhost:8080/"
        },
        "id": "CSh6SJtu4j_W",
        "outputId": "7f46414c-1c0f-4895-fc8d-82b92bb38085"
      },
      "source": [
        "print('BOW model:> Train features shape:', cv_train_features.shape, ' Test features shape:', cv_test_features.shape)"
      ],
      "execution_count": 98,
      "outputs": [
        {
          "output_type": "stream",
          "text": [
            "BOW model:> Train features shape: (177, 150)  Test features shape: (45, 150)\n"
          ],
          "name": "stdout"
        }
      ]
    },
    {
      "cell_type": "code",
      "metadata": {
        "colab": {
          "base_uri": "https://localhost:8080/"
        },
        "id": "XJ9uNY2x4kFi",
        "outputId": "acaed9d8-17ab-48b6-d44c-d505a8e5b25a"
      },
      "source": [
        "gs_lr.best_estimator_.get_params()"
      ],
      "execution_count": 99,
      "outputs": [
        {
          "output_type": "execute_result",
          "data": {
            "text/plain": [
              "{'lr': LogisticRegression(C=10, class_weight=None, dual=False, fit_intercept=True,\n",
              "                    intercept_scaling=1, l1_ratio=None, max_iter=80000,\n",
              "                    multi_class='auto', n_jobs=None, penalty='l2',\n",
              "                    random_state=42, solver='lbfgs', tol=0.0001, verbose=0,\n",
              "                    warm_start=False),\n",
              " 'lr__C': 10,\n",
              " 'lr__class_weight': None,\n",
              " 'lr__dual': False,\n",
              " 'lr__fit_intercept': True,\n",
              " 'lr__intercept_scaling': 1,\n",
              " 'lr__l1_ratio': None,\n",
              " 'lr__max_iter': 80000,\n",
              " 'lr__multi_class': 'auto',\n",
              " 'lr__n_jobs': None,\n",
              " 'lr__penalty': 'l2',\n",
              " 'lr__random_state': 42,\n",
              " 'lr__solver': 'lbfgs',\n",
              " 'lr__tol': 0.0001,\n",
              " 'lr__verbose': 0,\n",
              " 'lr__warm_start': False,\n",
              " 'memory': None,\n",
              " 'steps': [('lr',\n",
              "   LogisticRegression(C=10, class_weight=None, dual=False, fit_intercept=True,\n",
              "                      intercept_scaling=1, l1_ratio=None, max_iter=80000,\n",
              "                      multi_class='auto', n_jobs=None, penalty='l2',\n",
              "                      random_state=42, solver='lbfgs', tol=0.0001, verbose=0,\n",
              "                      warm_start=False))],\n",
              " 'verbose': False}"
            ]
          },
          "metadata": {
            "tags": []
          },
          "execution_count": 99
        }
      ]
    },
    {
      "cell_type": "markdown",
      "metadata": {
        "id": "WrDKGxBL9jgW"
      },
      "source": [
        "## LR (100 features)"
      ]
    },
    {
      "cell_type": "code",
      "metadata": {
        "colab": {
          "base_uri": "https://localhost:8080/"
        },
        "id": "yntKZ3Uu4kLi",
        "outputId": "f0e97c1c-af7f-437c-fa34-fe9e243415e4"
      },
      "source": [
        "import time as t\n",
        "import numpy as np\n",
        "from sklearn.pipeline import Pipeline\n",
        "from sklearn.model_selection import GridSearchCV\n",
        "from sklearn.feature_extraction.text import TfidfVectorizer\n",
        "from sklearn.linear_model import LogisticRegression\n",
        "\n",
        "from sklearn.model_selection import train_test_split\n",
        "from sklearn.feature_extraction.text import CountVectorizer\n",
        "from sklearn.decomposition import KernelPCA\n",
        "from sklearn.preprocessing import StandardScaler\n",
        "\n",
        "times = 100\n",
        "lr_n_times = np.zeros(times)\n",
        "\n",
        "t1 = t.perf_counter()\n",
        "\n",
        "cv = CountVectorizer(binary=False, min_df=0.0, max_df=1.0, ngram_range=(1, 1), vocabulary=FOMC_all_voc)\n",
        "\n",
        "for i in range(times):\n",
        "  \n",
        "  ## [1] 80-20 split\n",
        "\n",
        "  # sklearn.model_selection.train_test_split(*arrays, test_size=None, train_size=None, random_state=None, shuffle=True, stratify=None)\n",
        "\n",
        "  train_corpus, test_corpus, train_label_nums, test_label_nums = \\\n",
        "                                  train_test_split(np.array(FOMC_pickle_2), fund_rate_change_2, \n",
        "                                                    test_size=0.2, stratify=fund_rate_change_2) # random_state = 2021 / 2022 / 2023 / 2024 / 3000\n",
        "\n",
        "  # build BOW features on train articles\n",
        "  # transform test articles into features\n",
        "\n",
        "  cv_train_features_0 = cv.fit_transform(train_corpus)\n",
        "  # print('Original number of features:', cv_train_features_0.shape[1])\n",
        "  cv_test_features_0 = cv.transform(test_corpus)\n",
        "\n",
        "  sc = StandardScaler(with_mean=False) \n",
        "  cv_train_features_1 = sc.fit_transform(cv_train_features_0)\n",
        "  cv_test_features_1 = sc.fit_transform(cv_test_features_0)\n",
        "\n",
        "  kpca = KernelPCA(kernel='rbf', n_components=100, random_state=2020) #  gamma=15\n",
        "  cv_train_features = kpca.fit_transform(cv_train_features_1)\n",
        "  cv_test_features = kpca.transform(cv_test_features_1)\n",
        "  '''\n",
        "  tsvd = TruncatedSVD(n_components=n_components_80, random_state=2021)\n",
        "  cv_train_features = tsvd.fit(cv_train_features_1).transform(cv_train_features_1)\n",
        "  # print('Reduced number of features:', cv_train_features.shape[1])\n",
        "  cv_test_features = tsvd.transform(cv_test_features_1)\n",
        "  # print('BOW model:> Train features shape:', cv_train_features.shape, ' Test features shape:', cv_test_features.shape)\n",
        "  '''\n",
        "\n",
        "  # [2] LR\n",
        " \n",
        "  lr_pipeline = Pipeline([('lr', LogisticRegression(penalty='l2', max_iter=80000, random_state=42))])\n",
        "\n",
        "  param_grid = {'lr__C': [1e-20, 1e-19, 1e-18, 1e-17, 1e-16, 1e-15, 1e-14, 1e-13, 1e-12, 1e-11, 1e-10, 1e-9, 1e-8, 1e-7, 1e-6, 1e-5, 1e-4,1,10,100,1000,1e7,1e10, 1e15]}\n",
        "\n",
        "  gs_lr = GridSearchCV(lr_pipeline, param_grid, cv=5, verbose=0)\n",
        "  gs_lr = gs_lr.fit(cv_train_features, train_label_nums)\n",
        "\n",
        "  best_lr_test_score = gs_lr.score(cv_test_features, test_label_nums)\n",
        "  # print('Test Accuracy :', best_lr_test_score)\n",
        "\n",
        "  lr_n_times[i] = np.around(best_lr_test_score, 4)\n",
        "  \n",
        "  if (i+1) % 10 == 0:\n",
        "    test_accuracy = np.around(np.mean(lr_n_times[:i+1]) * 100, 2)\n",
        "    t2 = t.perf_counter()\n",
        "    time_spent = np.around(t2 - t1, 2)\n",
        "    print ('Times [{:3d}/{:d}] | test accuracy: {:5.2f} % | Time spent: {} s'.format(i+1, times, test_accuracy, time_spent))\n",
        "\n",
        "t3 = t.perf_counter()\n",
        "time_spent_final = np.around(t3 - t1, 2)\n",
        "print()\n",
        "print(\"Running time: {} s\".format(time_spent_final))\n",
        "print()\n",
        "print(\"Final test accuracy: {:5.2f} %\".format(np.mean(lr_n_times) * 100))"
      ],
      "execution_count": 100,
      "outputs": [
        {
          "output_type": "stream",
          "text": [
            "Times [ 10/100] | test accuracy: 71.78 % | Time spent: 18.66 s\n",
            "Times [ 20/100] | test accuracy: 71.22 % | Time spent: 37.3 s\n",
            "Times [ 30/100] | test accuracy: 70.96 % | Time spent: 55.84 s\n",
            "Times [ 40/100] | test accuracy: 71.28 % | Time spent: 74.44 s\n",
            "Times [ 50/100] | test accuracy: 71.47 % | Time spent: 93.15 s\n",
            "Times [ 60/100] | test accuracy: 71.70 % | Time spent: 112.07 s\n",
            "Times [ 70/100] | test accuracy: 71.65 % | Time spent: 131.01 s\n",
            "Times [ 80/100] | test accuracy: 71.56 % | Time spent: 149.57 s\n",
            "Times [ 90/100] | test accuracy: 71.43 % | Time spent: 168.41 s\n",
            "Times [100/100] | test accuracy: 71.27 % | Time spent: 187.22 s\n",
            "\n",
            "Running time: 187.22 s\n",
            "\n",
            "Final test accuracy: 71.27 %\n"
          ],
          "name": "stdout"
        }
      ]
    },
    {
      "cell_type": "code",
      "metadata": {
        "colab": {
          "base_uri": "https://localhost:8080/"
        },
        "id": "1d39SbrY9uL0",
        "outputId": "956df9e7-bce4-4bd6-9b95-b4bbb0ac0131"
      },
      "source": [
        "print('BOW model:> Train features shape:', cv_train_features.shape, ' Test features shape:', cv_test_features.shape)"
      ],
      "execution_count": 101,
      "outputs": [
        {
          "output_type": "stream",
          "text": [
            "BOW model:> Train features shape: (177, 100)  Test features shape: (45, 100)\n"
          ],
          "name": "stdout"
        }
      ]
    },
    {
      "cell_type": "code",
      "metadata": {
        "colab": {
          "base_uri": "https://localhost:8080/"
        },
        "id": "s7U1z5fz9q2c",
        "outputId": "e879b5a0-074b-4229-92b3-0b7afb88e639"
      },
      "source": [
        "gs_lr.best_estimator_.get_params()"
      ],
      "execution_count": 102,
      "outputs": [
        {
          "output_type": "execute_result",
          "data": {
            "text/plain": [
              "{'lr': LogisticRegression(C=100, class_weight=None, dual=False, fit_intercept=True,\n",
              "                    intercept_scaling=1, l1_ratio=None, max_iter=80000,\n",
              "                    multi_class='auto', n_jobs=None, penalty='l2',\n",
              "                    random_state=42, solver='lbfgs', tol=0.0001, verbose=0,\n",
              "                    warm_start=False),\n",
              " 'lr__C': 100,\n",
              " 'lr__class_weight': None,\n",
              " 'lr__dual': False,\n",
              " 'lr__fit_intercept': True,\n",
              " 'lr__intercept_scaling': 1,\n",
              " 'lr__l1_ratio': None,\n",
              " 'lr__max_iter': 80000,\n",
              " 'lr__multi_class': 'auto',\n",
              " 'lr__n_jobs': None,\n",
              " 'lr__penalty': 'l2',\n",
              " 'lr__random_state': 42,\n",
              " 'lr__solver': 'lbfgs',\n",
              " 'lr__tol': 0.0001,\n",
              " 'lr__verbose': 0,\n",
              " 'lr__warm_start': False,\n",
              " 'memory': None,\n",
              " 'steps': [('lr',\n",
              "   LogisticRegression(C=100, class_weight=None, dual=False, fit_intercept=True,\n",
              "                      intercept_scaling=1, l1_ratio=None, max_iter=80000,\n",
              "                      multi_class='auto', n_jobs=None, penalty='l2',\n",
              "                      random_state=42, solver='lbfgs', tol=0.0001, verbose=0,\n",
              "                      warm_start=False))],\n",
              " 'verbose': False}"
            ]
          },
          "metadata": {
            "tags": []
          },
          "execution_count": 102
        }
      ]
    },
    {
      "cell_type": "markdown",
      "metadata": {
        "id": "oAITFhK69wkw"
      },
      "source": [
        "## LR (50 features)"
      ]
    },
    {
      "cell_type": "code",
      "metadata": {
        "colab": {
          "base_uri": "https://localhost:8080/"
        },
        "id": "scPnS7op9q9A",
        "outputId": "c838291b-0d4d-490d-ffc7-7720f7b1db74"
      },
      "source": [
        "import time as t\n",
        "import numpy as np\n",
        "from sklearn.pipeline import Pipeline\n",
        "from sklearn.model_selection import GridSearchCV\n",
        "from sklearn.feature_extraction.text import TfidfVectorizer\n",
        "from sklearn.linear_model import LogisticRegression\n",
        "\n",
        "from sklearn.model_selection import train_test_split\n",
        "from sklearn.feature_extraction.text import CountVectorizer\n",
        "from sklearn.decomposition import KernelPCA\n",
        "from sklearn.preprocessing import StandardScaler\n",
        "\n",
        "times = 100\n",
        "lr_n_times = np.zeros(times)\n",
        "\n",
        "t1 = t.perf_counter()\n",
        "\n",
        "cv = CountVectorizer(binary=False, min_df=0.0, max_df=1.0, ngram_range=(1, 1), vocabulary=FOMC_all_voc)\n",
        "\n",
        "for i in range(times):\n",
        "  \n",
        "  ## [1] 80-20 split\n",
        "\n",
        "  # sklearn.model_selection.train_test_split(*arrays, test_size=None, train_size=None, random_state=None, shuffle=True, stratify=None)\n",
        "\n",
        "  train_corpus, test_corpus, train_label_nums, test_label_nums = \\\n",
        "                                  train_test_split(np.array(FOMC_pickle_2), fund_rate_change_2, \n",
        "                                                    test_size=0.2, stratify=fund_rate_change_2) # random_state = 2021 / 2022 / 2023 / 2024 / 3000\n",
        "\n",
        "  # build BOW features on train articles\n",
        "  # transform test articles into features\n",
        "\n",
        "  cv_train_features_0 = cv.fit_transform(train_corpus)\n",
        "  # print('Original number of features:', cv_train_features_0.shape[1])\n",
        "  cv_test_features_0 = cv.transform(test_corpus)\n",
        "\n",
        "  sc = StandardScaler(with_mean=False) \n",
        "  cv_train_features_1 = sc.fit_transform(cv_train_features_0)\n",
        "  cv_test_features_1 = sc.fit_transform(cv_test_features_0)\n",
        "\n",
        "  kpca = KernelPCA(kernel='rbf', n_components=100, random_state=2020) #  gamma=15\n",
        "  cv_train_features = kpca.fit_transform(cv_train_features_1)\n",
        "  cv_test_features = kpca.transform(cv_test_features_1)\n",
        "  '''\n",
        "  tsvd = TruncatedSVD(n_components=n_components_80, random_state=2021)\n",
        "  cv_train_features = tsvd.fit(cv_train_features_1).transform(cv_train_features_1)\n",
        "  # print('Reduced number of features:', cv_train_features.shape[1])\n",
        "  cv_test_features = tsvd.transform(cv_test_features_1)\n",
        "  # print('BOW model:> Train features shape:', cv_train_features.shape, ' Test features shape:', cv_test_features.shape)\n",
        "  '''\n",
        "\n",
        "  # [2] LR\n",
        " \n",
        "  lr_pipeline = Pipeline([('lr', LogisticRegression(penalty='l2', max_iter=80000, random_state=42))])\n",
        "\n",
        "  param_grid = {'lr__C': [1e-20, 1e-19, 1e-18, 1e-17, 1e-16, 1e-15, 1e-14, 1e-13, 1e-12, 1e-11, 1e-10, 1e-9, 1e-8, 1e-7, 1e-6, 1e-5, 1e-4,1,10,100,1000,1e7,1e10, 1e15]}\n",
        "\n",
        "  gs_lr = GridSearchCV(lr_pipeline, param_grid, cv=5, verbose=0)\n",
        "  gs_lr = gs_lr.fit(cv_train_features, train_label_nums)\n",
        "\n",
        "  best_lr_test_score = gs_lr.score(cv_test_features, test_label_nums)\n",
        "  # print('Test Accuracy :', best_lr_test_score)\n",
        "\n",
        "  lr_n_times[i] = np.around(best_lr_test_score, 4)\n",
        "  \n",
        "  if (i+1) % 10 == 0:\n",
        "    test_accuracy = np.around(np.mean(lr_n_times[:i+1]) * 100, 2)\n",
        "    t2 = t.perf_counter()\n",
        "    time_spent = np.around(t2 - t1, 2)\n",
        "    print ('Times [{:3d}/{:d}] | test accuracy: {:5.2f} % | Time spent: {} s'.format(i+1, times, test_accuracy, time_spent))\n",
        "\n",
        "t3 = t.perf_counter()\n",
        "time_spent_final = np.around(t3 - t1, 2)\n",
        "print()\n",
        "print(\"Running time: {} s\".format(time_spent_final))\n",
        "print()\n",
        "print(\"Final test accuracy: {:5.2f} %\".format(np.mean(lr_n_times) * 100))"
      ],
      "execution_count": 103,
      "outputs": [
        {
          "output_type": "stream",
          "text": [
            "Times [ 10/100] | test accuracy: 71.11 % | Time spent: 18.55 s\n",
            "Times [ 20/100] | test accuracy: 70.89 % | Time spent: 37.33 s\n",
            "Times [ 30/100] | test accuracy: 70.74 % | Time spent: 56.03 s\n",
            "Times [ 40/100] | test accuracy: 70.67 % | Time spent: 74.94 s\n",
            "Times [ 50/100] | test accuracy: 70.58 % | Time spent: 93.59 s\n",
            "Times [ 60/100] | test accuracy: 70.63 % | Time spent: 112.4 s\n",
            "Times [ 70/100] | test accuracy: 70.73 % | Time spent: 131.28 s\n",
            "Times [ 80/100] | test accuracy: 70.78 % | Time spent: 150.0 s\n",
            "Times [ 90/100] | test accuracy: 70.74 % | Time spent: 168.54 s\n",
            "Times [100/100] | test accuracy: 70.84 % | Time spent: 187.44 s\n",
            "\n",
            "Running time: 187.44 s\n",
            "\n",
            "Final test accuracy: 70.84 %\n"
          ],
          "name": "stdout"
        }
      ]
    },
    {
      "cell_type": "code",
      "metadata": {
        "colab": {
          "base_uri": "https://localhost:8080/"
        },
        "id": "uMrjN-Ir90d6",
        "outputId": "0c38f577-dd81-46c2-9f97-259ebb03f408"
      },
      "source": [
        "print('BOW model:> Train features shape:', cv_train_features.shape, ' Test features shape:', cv_test_features.shape)"
      ],
      "execution_count": 104,
      "outputs": [
        {
          "output_type": "stream",
          "text": [
            "BOW model:> Train features shape: (177, 100)  Test features shape: (45, 100)\n"
          ],
          "name": "stdout"
        }
      ]
    },
    {
      "cell_type": "code",
      "metadata": {
        "colab": {
          "base_uri": "https://localhost:8080/"
        },
        "id": "l0bdiI7F9rDq",
        "outputId": "cd509fa4-17d5-428c-a963-36b5a93aab4a"
      },
      "source": [
        "gs_lr.best_estimator_.get_params()"
      ],
      "execution_count": 105,
      "outputs": [
        {
          "output_type": "execute_result",
          "data": {
            "text/plain": [
              "{'lr': LogisticRegression(C=10000000000.0, class_weight=None, dual=False,\n",
              "                    fit_intercept=True, intercept_scaling=1, l1_ratio=None,\n",
              "                    max_iter=80000, multi_class='auto', n_jobs=None,\n",
              "                    penalty='l2', random_state=42, solver='lbfgs', tol=0.0001,\n",
              "                    verbose=0, warm_start=False),\n",
              " 'lr__C': 10000000000.0,\n",
              " 'lr__class_weight': None,\n",
              " 'lr__dual': False,\n",
              " 'lr__fit_intercept': True,\n",
              " 'lr__intercept_scaling': 1,\n",
              " 'lr__l1_ratio': None,\n",
              " 'lr__max_iter': 80000,\n",
              " 'lr__multi_class': 'auto',\n",
              " 'lr__n_jobs': None,\n",
              " 'lr__penalty': 'l2',\n",
              " 'lr__random_state': 42,\n",
              " 'lr__solver': 'lbfgs',\n",
              " 'lr__tol': 0.0001,\n",
              " 'lr__verbose': 0,\n",
              " 'lr__warm_start': False,\n",
              " 'memory': None,\n",
              " 'steps': [('lr',\n",
              "   LogisticRegression(C=10000000000.0, class_weight=None, dual=False,\n",
              "                      fit_intercept=True, intercept_scaling=1, l1_ratio=None,\n",
              "                      max_iter=80000, multi_class='auto', n_jobs=None,\n",
              "                      penalty='l2', random_state=42, solver='lbfgs', tol=0.0001,\n",
              "                      verbose=0, warm_start=False))],\n",
              " 'verbose': False}"
            ]
          },
          "metadata": {
            "tags": []
          },
          "execution_count": 105
        }
      ]
    },
    {
      "cell_type": "markdown",
      "metadata": {
        "id": "UC_vxvzdKwJs"
      },
      "source": [
        "# Non-linear reduction: RBF"
      ]
    },
    {
      "cell_type": "code",
      "metadata": {
        "colab": {
          "base_uri": "https://localhost:8080/"
        },
        "id": "HdCBE11kyZK6",
        "outputId": "93dc723b-2448-4e97-fe67-dc5c2e183af2"
      },
      "source": [
        "from sklearn.decomposition import PCA, KernelPCA\n",
        "from sklearn.datasets import make_circles\n",
        "\n",
        "features, _ = make_circles(n_samples=1000, noise=0.1, factor=0.1, random_state=1)\n",
        "\n",
        "kpca = KernelPCA(kernel='rbf', gamma=15, n_components=1)\n",
        "features_kpca = kpca.fit_transform(features)\n",
        "\n",
        "print(\"Original number of features:\", features.shape[1])\n",
        "print(\"Reduced number of features:\", features_kpca.shape[1])"
      ],
      "execution_count": null,
      "outputs": [
        {
          "output_type": "stream",
          "text": [
            "Original number of features: 2\n",
            "Reduced number of features: 1\n"
          ],
          "name": "stdout"
        }
      ]
    },
    {
      "cell_type": "markdown",
      "metadata": {
        "id": "0-aavV0HxLOH"
      },
      "source": [
        "What is Kernel PCA? using R & Python\\\n",
        "https://medium.com/data2dimensions-rupak-bob-roy/what-is-kernel-pca-bb93f57259dd"
      ]
    },
    {
      "cell_type": "markdown",
      "metadata": {
        "id": "8EoNshTgAEnb"
      },
      "source": [
        "Chris Albon. Machine Learning with Python Cookbook: Practical Solutions from Preprocessing to Deep Learning. O'Reilly."
      ]
    },
    {
      "cell_type": "markdown",
      "metadata": {
        "id": "YmHSjZja_-Lx"
      },
      "source": [
        "Concatenating multiple dimensionality reduction algorithms in Scikit-Learn \\\n",
        "https://stackoverflow.com/questions/47775652/concatenating-multiple-dimensionality-reduction-algorithms-in-scikit-learn"
      ]
    },
    {
      "cell_type": "code",
      "metadata": {
        "id": "fIL5MQIhCKyH"
      },
      "source": [
        "#simple PCA\n",
        "#Splitting the dataset into the Training set and Test set\n",
        "from sklearn.model_selection import train_test_split\n",
        "X_train, X_test, y_train, y_test = train_test_split(X, y, test_size = 0.2, random_state = 0)\n",
        "\n",
        "#Feature Scaling\n",
        "from sklearn.preprocessing import StandardScaler\n",
        "sc = StandardScaler()\n",
        "X_train = sc.fit_transform(X_train)\n",
        "X_test = sc.transform(X_test)\n",
        "\n",
        "#Applying PCA\n",
        "from sklearn.decomposition import PCA\n",
        "pca = PCA(n_components = 2)\n",
        "X_train = pca.fit_transform(X_train)\n",
        "X_test = pca.transform(X_test)\n",
        "explained_variance = pca.explained_variance_ratio_\n",
        "\n",
        "#Fitting Logistic Regression to the Training set\n",
        "from sklearn.linear_model import LogisticRegression\n",
        "classifier = LogisticRegression(random_state = 0)\n",
        "classifier.fit(X_train, y_train)\n",
        "\n",
        "#Predicting the Test set results\n",
        "y_pred = classifier.predict(X_test)\n",
        "\n",
        "#Making the Confusion Matrix\n",
        "from sklearn.metrics import confusion_matrix\n",
        "cm = confusion_matrix(y_test, y_pred)\n",
        "\n",
        "#Another evaluation Metrics \n",
        "from sklearn import metrics\n",
        "print('Accuracy Score:', metrics.accuracy_score(y_test, y_pred))"
      ],
      "execution_count": null,
      "outputs": []
    },
    {
      "cell_type": "code",
      "metadata": {
        "id": "rbzpsBJp_6Ux"
      },
      "source": [
        "n_comp = 3\n",
        "\n",
        "plsca = PLSCanonical(n_components=n_comp)\n",
        "cca = CCA(n_components=n_comp)\n",
        "kpca = KernelPCA(kernel=\"rbf\", fit_inverse_transform=False, gamma=10, n_components=n_comp)\n",
        "x_tranf_kpca = kpca.fit_transform(X_train)\n",
        "\n",
        "svm = SVC(probability=True, class_weight='balanced', tol=0.0001)\n",
        "\n",
        "comb_feat_bna_sg = FeatureUnion([('pls_canonical', plsca), ('cca', cca)])\n",
        "x_feats_bna_sg = comb_feat_bna_sg.fit(X_train, Y_train).transform(X_train)\n",
        "\n",
        "pipe_bna = Pipeline([('kpca', kpca)])\n",
        "pipe_bna_sg = Pipeline([(\"x_feats_bna_sg\", comb_feat_bna_sg)])\n",
        "\n",
        "combined_features = FeatureUnion([('bna', pipe_bna), ('bna_sg', pipe_bna_sg)])\n",
        "\n",
        "pipe = Pipeline([(\"features\", combined_features), ('standardscaler', StandardScaler(copy=True, with_mean=True, with_std=True)), (\"svm\", svm)])\n",
        "\n",
        "# Parameters of pipelines can be set using ‘__’ separated parameter names:\n",
        "param_pipe = dict(features__bna_sg__x_feats_bna_sg__pls_canonical__n_components=[1, 2],\n",
        "                  features__bna_sg__x_feats_bna_sg__cca__n_components=[1, 2],\n",
        "                  features__bna__kpca__n_components=[1, 2],\n",
        "                  svm__kernel=[\"rbf\"],\n",
        "                  svm__C=[10],\n",
        "                  svm__gamma=[1e-2]\n",
        "                  )\n",
        "\n",
        "clf = dcv.GridSearchCV(pipe, param_pipe, cv=10)\n",
        "clf.fit(X_train, train_labels)\n",
        "y_predict = clf.predict(X_test)"
      ],
      "execution_count": null,
      "outputs": []
    },
    {
      "cell_type": "code",
      "metadata": {
        "colab": {
          "base_uri": "https://localhost:8080/",
          "height": 872
        },
        "id": "gcPZesFSlYgK",
        "outputId": "a51ce8da-ad28-4633-a854-831964ec6195"
      },
      "source": [
        "## Isomap\n",
        "\n",
        "from sklearn.feature_extraction.text import CountVectorizer\n",
        "from sklearn.model_selection import cross_val_score\n",
        "from sklearn.preprocessing import StandardScaler\n",
        "from sklearn.decomposition import KernelPCA\n",
        "from sklearn.manifold import Isomap\n",
        "from sklearn.manifold import MDS\n",
        "\n",
        "# Build BOW features on train articles\n",
        "cv = CountVectorizer(binary=False, min_df=0.0, max_df=1.0)\n",
        "\n",
        "cv_train_features_0 = cv.fit_transform(train_corpus)\n",
        "cv_test_features_0 = cv.transform(test_corpus)\n",
        "print('Original number of features:', cv_train_features_0.shape[1])\n",
        "print(train_corpus.shape)\n",
        "print(test_corpus.shape)\n",
        "print(cv_train_features_0.shape)\n",
        "print(cv_test_features_0.shape)\n",
        "'''\n",
        "sc = StandardScaler(with_mean=False)\n",
        "cv_train_features_1 = sc.fit_transform(cv_train_features_0)\n",
        "cv_test_features_1 = sc.fit_transform(cv_test_features_0)\n",
        "'''\n",
        "\n",
        "mds = MDS(n_components=10, n_init=12, max_iter=1200, metric=True, n_jobs=4, random_state=2019)\n",
        "cv_train_features = mds.fit_transform(cv_train_features_0.toarray())\n",
        "cv_test_features = mds.transform(cv_test_features_0.toarray())\n",
        "\n",
        "print('Reduced number of features:', cv_train_features.shape[1])\n",
        "print('Reduced number of features:', cv_test_features.shape[1])"
      ],
      "execution_count": null,
      "outputs": [
        {
          "output_type": "stream",
          "text": [
            "Original number of features: 3943\n",
            "(177,)\n",
            "(45,)\n",
            "(177, 3943)\n",
            "(45, 3943)\n"
          ],
          "name": "stdout"
        },
        {
          "output_type": "stream",
          "text": [
            "exception calling callback for <Future at 0x7fbc5b50b990 state=finished raised TerminatedWorkerError>\n",
            "Traceback (most recent call last):\n",
            "  File \"/usr/local/lib/python3.7/dist-packages/joblib/externals/loky/_base.py\", line 625, in _invoke_callbacks\n",
            "    callback(self)\n",
            "  File \"/usr/local/lib/python3.7/dist-packages/joblib/parallel.py\", line 359, in __call__\n",
            "    self.parallel.dispatch_next()\n",
            "  File \"/usr/local/lib/python3.7/dist-packages/joblib/parallel.py\", line 792, in dispatch_next\n",
            "    if not self.dispatch_one_batch(self._original_iterator):\n",
            "  File \"/usr/local/lib/python3.7/dist-packages/joblib/parallel.py\", line 859, in dispatch_one_batch\n",
            "    self._dispatch(tasks)\n",
            "  File \"/usr/local/lib/python3.7/dist-packages/joblib/parallel.py\", line 777, in _dispatch\n",
            "    job = self._backend.apply_async(batch, callback=cb)\n",
            "  File \"/usr/local/lib/python3.7/dist-packages/joblib/_parallel_backends.py\", line 531, in apply_async\n",
            "    future = self._workers.submit(SafeFunction(func))\n",
            "  File \"/usr/local/lib/python3.7/dist-packages/joblib/externals/loky/reusable_executor.py\", line 178, in submit\n",
            "    fn, *args, **kwargs)\n",
            "  File \"/usr/local/lib/python3.7/dist-packages/joblib/externals/loky/process_executor.py\", line 1102, in submit\n",
            "    raise self._flags.broken\n",
            "joblib.externals.loky.process_executor.TerminatedWorkerError: A worker process managed by the executor was unexpectedly terminated. This could be caused by a segmentation fault while calling the function or by an excessive memory usage causing the Operating System to kill the worker.\n",
            "\n",
            "The exit codes of the workers are {EXIT(1), EXIT(1)}\n"
          ],
          "name": "stderr"
        },
        {
          "output_type": "error",
          "ename": "TerminatedWorkerError",
          "evalue": "ignored",
          "traceback": [
            "\u001b[0;31m---------------------------------------------------------------------------\u001b[0m",
            "\u001b[0;31mTerminatedWorkerError\u001b[0m                     Traceback (most recent call last)",
            "\u001b[0;32m<ipython-input-63-de45e0df3464>\u001b[0m in \u001b[0;36m<module>\u001b[0;34m()\u001b[0m\n\u001b[1;32m     25\u001b[0m \u001b[0;34m\u001b[0m\u001b[0m\n\u001b[1;32m     26\u001b[0m \u001b[0mmds\u001b[0m \u001b[0;34m=\u001b[0m \u001b[0mMDS\u001b[0m\u001b[0;34m(\u001b[0m\u001b[0mn_components\u001b[0m\u001b[0;34m=\u001b[0m\u001b[0;36m10\u001b[0m\u001b[0;34m,\u001b[0m \u001b[0mn_init\u001b[0m\u001b[0;34m=\u001b[0m\u001b[0;36m12\u001b[0m\u001b[0;34m,\u001b[0m \u001b[0mmax_iter\u001b[0m\u001b[0;34m=\u001b[0m\u001b[0;36m1200\u001b[0m\u001b[0;34m,\u001b[0m \u001b[0mmetric\u001b[0m\u001b[0;34m=\u001b[0m\u001b[0;32mTrue\u001b[0m\u001b[0;34m,\u001b[0m \u001b[0mn_jobs\u001b[0m\u001b[0;34m=\u001b[0m\u001b[0;36m4\u001b[0m\u001b[0;34m,\u001b[0m \u001b[0mrandom_state\u001b[0m\u001b[0;34m=\u001b[0m\u001b[0;36m2019\u001b[0m\u001b[0;34m)\u001b[0m\u001b[0;34m\u001b[0m\u001b[0;34m\u001b[0m\u001b[0m\n\u001b[0;32m---> 27\u001b[0;31m \u001b[0mcv_train_features\u001b[0m \u001b[0;34m=\u001b[0m \u001b[0mmds\u001b[0m\u001b[0;34m.\u001b[0m\u001b[0mfit_transform\u001b[0m\u001b[0;34m(\u001b[0m\u001b[0mcv_train_features_0\u001b[0m\u001b[0;34m.\u001b[0m\u001b[0mtoarray\u001b[0m\u001b[0;34m(\u001b[0m\u001b[0;34m)\u001b[0m\u001b[0;34m)\u001b[0m\u001b[0;34m\u001b[0m\u001b[0;34m\u001b[0m\u001b[0m\n\u001b[0m\u001b[1;32m     28\u001b[0m \u001b[0mcv_test_features\u001b[0m \u001b[0;34m=\u001b[0m \u001b[0mmds\u001b[0m\u001b[0;34m.\u001b[0m\u001b[0mtransform\u001b[0m\u001b[0;34m(\u001b[0m\u001b[0mcv_test_features_0\u001b[0m\u001b[0;34m.\u001b[0m\u001b[0mtoarray\u001b[0m\u001b[0;34m(\u001b[0m\u001b[0;34m)\u001b[0m\u001b[0;34m)\u001b[0m\u001b[0;34m\u001b[0m\u001b[0;34m\u001b[0m\u001b[0m\n\u001b[1;32m     29\u001b[0m \u001b[0;34m\u001b[0m\u001b[0m\n",
            "\u001b[0;32m/usr/local/lib/python3.7/dist-packages/sklearn/manifold/_mds.py\u001b[0m in \u001b[0;36mfit_transform\u001b[0;34m(self, X, y, init)\u001b[0m\n\u001b[1;32m    435\u001b[0m             \u001b[0mn_jobs\u001b[0m\u001b[0;34m=\u001b[0m\u001b[0mself\u001b[0m\u001b[0;34m.\u001b[0m\u001b[0mn_jobs\u001b[0m\u001b[0;34m,\u001b[0m \u001b[0mmax_iter\u001b[0m\u001b[0;34m=\u001b[0m\u001b[0mself\u001b[0m\u001b[0;34m.\u001b[0m\u001b[0mmax_iter\u001b[0m\u001b[0;34m,\u001b[0m \u001b[0mverbose\u001b[0m\u001b[0;34m=\u001b[0m\u001b[0mself\u001b[0m\u001b[0;34m.\u001b[0m\u001b[0mverbose\u001b[0m\u001b[0;34m,\u001b[0m\u001b[0;34m\u001b[0m\u001b[0;34m\u001b[0m\u001b[0m\n\u001b[1;32m    436\u001b[0m             \u001b[0meps\u001b[0m\u001b[0;34m=\u001b[0m\u001b[0mself\u001b[0m\u001b[0;34m.\u001b[0m\u001b[0meps\u001b[0m\u001b[0;34m,\u001b[0m \u001b[0mrandom_state\u001b[0m\u001b[0;34m=\u001b[0m\u001b[0mself\u001b[0m\u001b[0;34m.\u001b[0m\u001b[0mrandom_state\u001b[0m\u001b[0;34m,\u001b[0m\u001b[0;34m\u001b[0m\u001b[0;34m\u001b[0m\u001b[0m\n\u001b[0;32m--> 437\u001b[0;31m             return_n_iter=True)\n\u001b[0m\u001b[1;32m    438\u001b[0m \u001b[0;34m\u001b[0m\u001b[0m\n\u001b[1;32m    439\u001b[0m         \u001b[0;32mreturn\u001b[0m \u001b[0mself\u001b[0m\u001b[0;34m.\u001b[0m\u001b[0membedding_\u001b[0m\u001b[0;34m\u001b[0m\u001b[0;34m\u001b[0m\u001b[0m\n",
            "\u001b[0;32m/usr/local/lib/python3.7/dist-packages/sklearn/manifold/_mds.py\u001b[0m in \u001b[0;36msmacof\u001b[0;34m(dissimilarities, metric, n_components, init, n_init, n_jobs, max_iter, verbose, eps, random_state, return_n_iter)\u001b[0m\n\u001b[1;32m    262\u001b[0m                 \u001b[0minit\u001b[0m\u001b[0;34m=\u001b[0m\u001b[0minit\u001b[0m\u001b[0;34m,\u001b[0m \u001b[0mmax_iter\u001b[0m\u001b[0;34m=\u001b[0m\u001b[0mmax_iter\u001b[0m\u001b[0;34m,\u001b[0m \u001b[0mverbose\u001b[0m\u001b[0;34m=\u001b[0m\u001b[0mverbose\u001b[0m\u001b[0;34m,\u001b[0m \u001b[0meps\u001b[0m\u001b[0;34m=\u001b[0m\u001b[0meps\u001b[0m\u001b[0;34m,\u001b[0m\u001b[0;34m\u001b[0m\u001b[0;34m\u001b[0m\u001b[0m\n\u001b[1;32m    263\u001b[0m                 random_state=seed)\n\u001b[0;32m--> 264\u001b[0;31m             for seed in seeds)\n\u001b[0m\u001b[1;32m    265\u001b[0m         \u001b[0mpositions\u001b[0m\u001b[0;34m,\u001b[0m \u001b[0mstress\u001b[0m\u001b[0;34m,\u001b[0m \u001b[0mn_iters\u001b[0m \u001b[0;34m=\u001b[0m \u001b[0mzip\u001b[0m\u001b[0;34m(\u001b[0m\u001b[0;34m*\u001b[0m\u001b[0mresults\u001b[0m\u001b[0;34m)\u001b[0m\u001b[0;34m\u001b[0m\u001b[0;34m\u001b[0m\u001b[0m\n\u001b[1;32m    266\u001b[0m         \u001b[0mbest\u001b[0m \u001b[0;34m=\u001b[0m \u001b[0mnp\u001b[0m\u001b[0;34m.\u001b[0m\u001b[0margmin\u001b[0m\u001b[0;34m(\u001b[0m\u001b[0mstress\u001b[0m\u001b[0;34m)\u001b[0m\u001b[0;34m\u001b[0m\u001b[0;34m\u001b[0m\u001b[0m\n",
            "\u001b[0;32m/usr/local/lib/python3.7/dist-packages/joblib/parallel.py\u001b[0m in \u001b[0;36m__call__\u001b[0;34m(self, iterable)\u001b[0m\n\u001b[1;32m   1052\u001b[0m \u001b[0;34m\u001b[0m\u001b[0m\n\u001b[1;32m   1053\u001b[0m             \u001b[0;32mwith\u001b[0m \u001b[0mself\u001b[0m\u001b[0;34m.\u001b[0m\u001b[0m_backend\u001b[0m\u001b[0;34m.\u001b[0m\u001b[0mretrieval_context\u001b[0m\u001b[0;34m(\u001b[0m\u001b[0;34m)\u001b[0m\u001b[0;34m:\u001b[0m\u001b[0;34m\u001b[0m\u001b[0;34m\u001b[0m\u001b[0m\n\u001b[0;32m-> 1054\u001b[0;31m                 \u001b[0mself\u001b[0m\u001b[0;34m.\u001b[0m\u001b[0mretrieve\u001b[0m\u001b[0;34m(\u001b[0m\u001b[0;34m)\u001b[0m\u001b[0;34m\u001b[0m\u001b[0;34m\u001b[0m\u001b[0m\n\u001b[0m\u001b[1;32m   1055\u001b[0m             \u001b[0;31m# Make sure that we get a last message telling us we are done\u001b[0m\u001b[0;34m\u001b[0m\u001b[0;34m\u001b[0m\u001b[0;34m\u001b[0m\u001b[0m\n\u001b[1;32m   1056\u001b[0m             \u001b[0melapsed_time\u001b[0m \u001b[0;34m=\u001b[0m \u001b[0mtime\u001b[0m\u001b[0;34m.\u001b[0m\u001b[0mtime\u001b[0m\u001b[0;34m(\u001b[0m\u001b[0;34m)\u001b[0m \u001b[0;34m-\u001b[0m \u001b[0mself\u001b[0m\u001b[0;34m.\u001b[0m\u001b[0m_start_time\u001b[0m\u001b[0;34m\u001b[0m\u001b[0;34m\u001b[0m\u001b[0m\n",
            "\u001b[0;32m/usr/local/lib/python3.7/dist-packages/joblib/parallel.py\u001b[0m in \u001b[0;36mretrieve\u001b[0;34m(self)\u001b[0m\n\u001b[1;32m    931\u001b[0m             \u001b[0;32mtry\u001b[0m\u001b[0;34m:\u001b[0m\u001b[0;34m\u001b[0m\u001b[0;34m\u001b[0m\u001b[0m\n\u001b[1;32m    932\u001b[0m                 \u001b[0;32mif\u001b[0m \u001b[0mgetattr\u001b[0m\u001b[0;34m(\u001b[0m\u001b[0mself\u001b[0m\u001b[0;34m.\u001b[0m\u001b[0m_backend\u001b[0m\u001b[0;34m,\u001b[0m \u001b[0;34m'supports_timeout'\u001b[0m\u001b[0;34m,\u001b[0m \u001b[0;32mFalse\u001b[0m\u001b[0;34m)\u001b[0m\u001b[0;34m:\u001b[0m\u001b[0;34m\u001b[0m\u001b[0;34m\u001b[0m\u001b[0m\n\u001b[0;32m--> 933\u001b[0;31m                     \u001b[0mself\u001b[0m\u001b[0;34m.\u001b[0m\u001b[0m_output\u001b[0m\u001b[0;34m.\u001b[0m\u001b[0mextend\u001b[0m\u001b[0;34m(\u001b[0m\u001b[0mjob\u001b[0m\u001b[0;34m.\u001b[0m\u001b[0mget\u001b[0m\u001b[0;34m(\u001b[0m\u001b[0mtimeout\u001b[0m\u001b[0;34m=\u001b[0m\u001b[0mself\u001b[0m\u001b[0;34m.\u001b[0m\u001b[0mtimeout\u001b[0m\u001b[0;34m)\u001b[0m\u001b[0;34m)\u001b[0m\u001b[0;34m\u001b[0m\u001b[0;34m\u001b[0m\u001b[0m\n\u001b[0m\u001b[1;32m    934\u001b[0m                 \u001b[0;32melse\u001b[0m\u001b[0;34m:\u001b[0m\u001b[0;34m\u001b[0m\u001b[0;34m\u001b[0m\u001b[0m\n\u001b[1;32m    935\u001b[0m                     \u001b[0mself\u001b[0m\u001b[0;34m.\u001b[0m\u001b[0m_output\u001b[0m\u001b[0;34m.\u001b[0m\u001b[0mextend\u001b[0m\u001b[0;34m(\u001b[0m\u001b[0mjob\u001b[0m\u001b[0;34m.\u001b[0m\u001b[0mget\u001b[0m\u001b[0;34m(\u001b[0m\u001b[0;34m)\u001b[0m\u001b[0;34m)\u001b[0m\u001b[0;34m\u001b[0m\u001b[0;34m\u001b[0m\u001b[0m\n",
            "\u001b[0;32m/usr/local/lib/python3.7/dist-packages/joblib/_parallel_backends.py\u001b[0m in \u001b[0;36mwrap_future_result\u001b[0;34m(future, timeout)\u001b[0m\n\u001b[1;32m    540\u001b[0m         AsyncResults.get from multiprocessing.\"\"\"\n\u001b[1;32m    541\u001b[0m         \u001b[0;32mtry\u001b[0m\u001b[0;34m:\u001b[0m\u001b[0;34m\u001b[0m\u001b[0;34m\u001b[0m\u001b[0m\n\u001b[0;32m--> 542\u001b[0;31m             \u001b[0;32mreturn\u001b[0m \u001b[0mfuture\u001b[0m\u001b[0;34m.\u001b[0m\u001b[0mresult\u001b[0m\u001b[0;34m(\u001b[0m\u001b[0mtimeout\u001b[0m\u001b[0;34m=\u001b[0m\u001b[0mtimeout\u001b[0m\u001b[0;34m)\u001b[0m\u001b[0;34m\u001b[0m\u001b[0;34m\u001b[0m\u001b[0m\n\u001b[0m\u001b[1;32m    543\u001b[0m         \u001b[0;32mexcept\u001b[0m \u001b[0mCfTimeoutError\u001b[0m \u001b[0;32mas\u001b[0m \u001b[0me\u001b[0m\u001b[0;34m:\u001b[0m\u001b[0;34m\u001b[0m\u001b[0;34m\u001b[0m\u001b[0m\n\u001b[1;32m    544\u001b[0m             \u001b[0;32mraise\u001b[0m \u001b[0mTimeoutError\u001b[0m \u001b[0;32mfrom\u001b[0m \u001b[0me\u001b[0m\u001b[0;34m\u001b[0m\u001b[0;34m\u001b[0m\u001b[0m\n",
            "\u001b[0;32m/usr/lib/python3.7/concurrent/futures/_base.py\u001b[0m in \u001b[0;36mresult\u001b[0;34m(self, timeout)\u001b[0m\n\u001b[1;32m    433\u001b[0m                 \u001b[0;32mraise\u001b[0m \u001b[0mCancelledError\u001b[0m\u001b[0;34m(\u001b[0m\u001b[0;34m)\u001b[0m\u001b[0;34m\u001b[0m\u001b[0;34m\u001b[0m\u001b[0m\n\u001b[1;32m    434\u001b[0m             \u001b[0;32melif\u001b[0m \u001b[0mself\u001b[0m\u001b[0;34m.\u001b[0m\u001b[0m_state\u001b[0m \u001b[0;34m==\u001b[0m \u001b[0mFINISHED\u001b[0m\u001b[0;34m:\u001b[0m\u001b[0;34m\u001b[0m\u001b[0;34m\u001b[0m\u001b[0m\n\u001b[0;32m--> 435\u001b[0;31m                 \u001b[0;32mreturn\u001b[0m \u001b[0mself\u001b[0m\u001b[0;34m.\u001b[0m\u001b[0m__get_result\u001b[0m\u001b[0;34m(\u001b[0m\u001b[0;34m)\u001b[0m\u001b[0;34m\u001b[0m\u001b[0;34m\u001b[0m\u001b[0m\n\u001b[0m\u001b[1;32m    436\u001b[0m             \u001b[0;32melse\u001b[0m\u001b[0;34m:\u001b[0m\u001b[0;34m\u001b[0m\u001b[0;34m\u001b[0m\u001b[0m\n\u001b[1;32m    437\u001b[0m                 \u001b[0;32mraise\u001b[0m \u001b[0mTimeoutError\u001b[0m\u001b[0;34m(\u001b[0m\u001b[0;34m)\u001b[0m\u001b[0;34m\u001b[0m\u001b[0;34m\u001b[0m\u001b[0m\n",
            "\u001b[0;32m/usr/lib/python3.7/concurrent/futures/_base.py\u001b[0m in \u001b[0;36m__get_result\u001b[0;34m(self)\u001b[0m\n\u001b[1;32m    382\u001b[0m     \u001b[0;32mdef\u001b[0m \u001b[0m__get_result\u001b[0m\u001b[0;34m(\u001b[0m\u001b[0mself\u001b[0m\u001b[0;34m)\u001b[0m\u001b[0;34m:\u001b[0m\u001b[0;34m\u001b[0m\u001b[0;34m\u001b[0m\u001b[0m\n\u001b[1;32m    383\u001b[0m         \u001b[0;32mif\u001b[0m \u001b[0mself\u001b[0m\u001b[0;34m.\u001b[0m\u001b[0m_exception\u001b[0m\u001b[0;34m:\u001b[0m\u001b[0;34m\u001b[0m\u001b[0;34m\u001b[0m\u001b[0m\n\u001b[0;32m--> 384\u001b[0;31m             \u001b[0;32mraise\u001b[0m \u001b[0mself\u001b[0m\u001b[0;34m.\u001b[0m\u001b[0m_exception\u001b[0m\u001b[0;34m\u001b[0m\u001b[0;34m\u001b[0m\u001b[0m\n\u001b[0m\u001b[1;32m    385\u001b[0m         \u001b[0;32melse\u001b[0m\u001b[0;34m:\u001b[0m\u001b[0;34m\u001b[0m\u001b[0;34m\u001b[0m\u001b[0m\n\u001b[1;32m    386\u001b[0m             \u001b[0;32mreturn\u001b[0m \u001b[0mself\u001b[0m\u001b[0;34m.\u001b[0m\u001b[0m_result\u001b[0m\u001b[0;34m\u001b[0m\u001b[0;34m\u001b[0m\u001b[0m\n",
            "\u001b[0;32m/usr/local/lib/python3.7/dist-packages/joblib/externals/loky/_base.py\u001b[0m in \u001b[0;36m_invoke_callbacks\u001b[0;34m(self)\u001b[0m\n\u001b[1;32m    623\u001b[0m         \u001b[0;32mfor\u001b[0m \u001b[0mcallback\u001b[0m \u001b[0;32min\u001b[0m \u001b[0mself\u001b[0m\u001b[0;34m.\u001b[0m\u001b[0m_done_callbacks\u001b[0m\u001b[0;34m:\u001b[0m\u001b[0;34m\u001b[0m\u001b[0;34m\u001b[0m\u001b[0m\n\u001b[1;32m    624\u001b[0m             \u001b[0;32mtry\u001b[0m\u001b[0;34m:\u001b[0m\u001b[0;34m\u001b[0m\u001b[0;34m\u001b[0m\u001b[0m\n\u001b[0;32m--> 625\u001b[0;31m                 \u001b[0mcallback\u001b[0m\u001b[0;34m(\u001b[0m\u001b[0mself\u001b[0m\u001b[0;34m)\u001b[0m\u001b[0;34m\u001b[0m\u001b[0;34m\u001b[0m\u001b[0m\n\u001b[0m\u001b[1;32m    626\u001b[0m             \u001b[0;32mexcept\u001b[0m \u001b[0mBaseException\u001b[0m\u001b[0;34m:\u001b[0m\u001b[0;34m\u001b[0m\u001b[0;34m\u001b[0m\u001b[0m\n\u001b[1;32m    627\u001b[0m                 \u001b[0mLOGGER\u001b[0m\u001b[0;34m.\u001b[0m\u001b[0mexception\u001b[0m\u001b[0;34m(\u001b[0m\u001b[0;34m'exception calling callback for %r'\u001b[0m\u001b[0;34m,\u001b[0m \u001b[0mself\u001b[0m\u001b[0;34m)\u001b[0m\u001b[0;34m\u001b[0m\u001b[0;34m\u001b[0m\u001b[0m\n",
            "\u001b[0;32m/usr/local/lib/python3.7/dist-packages/joblib/parallel.py\u001b[0m in \u001b[0;36m__call__\u001b[0;34m(self, out)\u001b[0m\n\u001b[1;32m    357\u001b[0m         \u001b[0;32mwith\u001b[0m \u001b[0mself\u001b[0m\u001b[0;34m.\u001b[0m\u001b[0mparallel\u001b[0m\u001b[0;34m.\u001b[0m\u001b[0m_lock\u001b[0m\u001b[0;34m:\u001b[0m\u001b[0;34m\u001b[0m\u001b[0;34m\u001b[0m\u001b[0m\n\u001b[1;32m    358\u001b[0m             \u001b[0;32mif\u001b[0m \u001b[0mself\u001b[0m\u001b[0;34m.\u001b[0m\u001b[0mparallel\u001b[0m\u001b[0;34m.\u001b[0m\u001b[0m_original_iterator\u001b[0m \u001b[0;32mis\u001b[0m \u001b[0;32mnot\u001b[0m \u001b[0;32mNone\u001b[0m\u001b[0;34m:\u001b[0m\u001b[0;34m\u001b[0m\u001b[0;34m\u001b[0m\u001b[0m\n\u001b[0;32m--> 359\u001b[0;31m                 \u001b[0mself\u001b[0m\u001b[0;34m.\u001b[0m\u001b[0mparallel\u001b[0m\u001b[0;34m.\u001b[0m\u001b[0mdispatch_next\u001b[0m\u001b[0;34m(\u001b[0m\u001b[0;34m)\u001b[0m\u001b[0;34m\u001b[0m\u001b[0;34m\u001b[0m\u001b[0m\n\u001b[0m\u001b[1;32m    360\u001b[0m \u001b[0;34m\u001b[0m\u001b[0m\n\u001b[1;32m    361\u001b[0m \u001b[0;34m\u001b[0m\u001b[0m\n",
            "\u001b[0;32m/usr/local/lib/python3.7/dist-packages/joblib/parallel.py\u001b[0m in \u001b[0;36mdispatch_next\u001b[0;34m(self)\u001b[0m\n\u001b[1;32m    790\u001b[0m \u001b[0;34m\u001b[0m\u001b[0m\n\u001b[1;32m    791\u001b[0m         \"\"\"\n\u001b[0;32m--> 792\u001b[0;31m         \u001b[0;32mif\u001b[0m \u001b[0;32mnot\u001b[0m \u001b[0mself\u001b[0m\u001b[0;34m.\u001b[0m\u001b[0mdispatch_one_batch\u001b[0m\u001b[0;34m(\u001b[0m\u001b[0mself\u001b[0m\u001b[0;34m.\u001b[0m\u001b[0m_original_iterator\u001b[0m\u001b[0;34m)\u001b[0m\u001b[0;34m:\u001b[0m\u001b[0;34m\u001b[0m\u001b[0;34m\u001b[0m\u001b[0m\n\u001b[0m\u001b[1;32m    793\u001b[0m             \u001b[0mself\u001b[0m\u001b[0;34m.\u001b[0m\u001b[0m_iterating\u001b[0m \u001b[0;34m=\u001b[0m \u001b[0;32mFalse\u001b[0m\u001b[0;34m\u001b[0m\u001b[0;34m\u001b[0m\u001b[0m\n\u001b[1;32m    794\u001b[0m             \u001b[0mself\u001b[0m\u001b[0;34m.\u001b[0m\u001b[0m_original_iterator\u001b[0m \u001b[0;34m=\u001b[0m \u001b[0;32mNone\u001b[0m\u001b[0;34m\u001b[0m\u001b[0;34m\u001b[0m\u001b[0m\n",
            "\u001b[0;32m/usr/local/lib/python3.7/dist-packages/joblib/parallel.py\u001b[0m in \u001b[0;36mdispatch_one_batch\u001b[0;34m(self, iterator)\u001b[0m\n\u001b[1;32m    857\u001b[0m                 \u001b[0;32mreturn\u001b[0m \u001b[0;32mFalse\u001b[0m\u001b[0;34m\u001b[0m\u001b[0;34m\u001b[0m\u001b[0m\n\u001b[1;32m    858\u001b[0m             \u001b[0;32melse\u001b[0m\u001b[0;34m:\u001b[0m\u001b[0;34m\u001b[0m\u001b[0;34m\u001b[0m\u001b[0m\n\u001b[0;32m--> 859\u001b[0;31m                 \u001b[0mself\u001b[0m\u001b[0;34m.\u001b[0m\u001b[0m_dispatch\u001b[0m\u001b[0;34m(\u001b[0m\u001b[0mtasks\u001b[0m\u001b[0;34m)\u001b[0m\u001b[0;34m\u001b[0m\u001b[0;34m\u001b[0m\u001b[0m\n\u001b[0m\u001b[1;32m    860\u001b[0m                 \u001b[0;32mreturn\u001b[0m \u001b[0;32mTrue\u001b[0m\u001b[0;34m\u001b[0m\u001b[0;34m\u001b[0m\u001b[0m\n\u001b[1;32m    861\u001b[0m \u001b[0;34m\u001b[0m\u001b[0m\n",
            "\u001b[0;32m/usr/local/lib/python3.7/dist-packages/joblib/parallel.py\u001b[0m in \u001b[0;36m_dispatch\u001b[0;34m(self, batch)\u001b[0m\n\u001b[1;32m    775\u001b[0m         \u001b[0;32mwith\u001b[0m \u001b[0mself\u001b[0m\u001b[0;34m.\u001b[0m\u001b[0m_lock\u001b[0m\u001b[0;34m:\u001b[0m\u001b[0;34m\u001b[0m\u001b[0;34m\u001b[0m\u001b[0m\n\u001b[1;32m    776\u001b[0m             \u001b[0mjob_idx\u001b[0m \u001b[0;34m=\u001b[0m \u001b[0mlen\u001b[0m\u001b[0;34m(\u001b[0m\u001b[0mself\u001b[0m\u001b[0;34m.\u001b[0m\u001b[0m_jobs\u001b[0m\u001b[0;34m)\u001b[0m\u001b[0;34m\u001b[0m\u001b[0;34m\u001b[0m\u001b[0m\n\u001b[0;32m--> 777\u001b[0;31m             \u001b[0mjob\u001b[0m \u001b[0;34m=\u001b[0m \u001b[0mself\u001b[0m\u001b[0;34m.\u001b[0m\u001b[0m_backend\u001b[0m\u001b[0;34m.\u001b[0m\u001b[0mapply_async\u001b[0m\u001b[0;34m(\u001b[0m\u001b[0mbatch\u001b[0m\u001b[0;34m,\u001b[0m \u001b[0mcallback\u001b[0m\u001b[0;34m=\u001b[0m\u001b[0mcb\u001b[0m\u001b[0;34m)\u001b[0m\u001b[0;34m\u001b[0m\u001b[0;34m\u001b[0m\u001b[0m\n\u001b[0m\u001b[1;32m    778\u001b[0m             \u001b[0;31m# A job can complete so quickly than its callback is\u001b[0m\u001b[0;34m\u001b[0m\u001b[0;34m\u001b[0m\u001b[0;34m\u001b[0m\u001b[0m\n\u001b[1;32m    779\u001b[0m             \u001b[0;31m# called before we get here, causing self._jobs to\u001b[0m\u001b[0;34m\u001b[0m\u001b[0;34m\u001b[0m\u001b[0;34m\u001b[0m\u001b[0m\n",
            "\u001b[0;32m/usr/local/lib/python3.7/dist-packages/joblib/_parallel_backends.py\u001b[0m in \u001b[0;36mapply_async\u001b[0;34m(self, func, callback)\u001b[0m\n\u001b[1;32m    529\u001b[0m     \u001b[0;32mdef\u001b[0m \u001b[0mapply_async\u001b[0m\u001b[0;34m(\u001b[0m\u001b[0mself\u001b[0m\u001b[0;34m,\u001b[0m \u001b[0mfunc\u001b[0m\u001b[0;34m,\u001b[0m \u001b[0mcallback\u001b[0m\u001b[0;34m=\u001b[0m\u001b[0;32mNone\u001b[0m\u001b[0;34m)\u001b[0m\u001b[0;34m:\u001b[0m\u001b[0;34m\u001b[0m\u001b[0;34m\u001b[0m\u001b[0m\n\u001b[1;32m    530\u001b[0m         \u001b[0;34m\"\"\"Schedule a func to be run\"\"\"\u001b[0m\u001b[0;34m\u001b[0m\u001b[0;34m\u001b[0m\u001b[0m\n\u001b[0;32m--> 531\u001b[0;31m         \u001b[0mfuture\u001b[0m \u001b[0;34m=\u001b[0m \u001b[0mself\u001b[0m\u001b[0;34m.\u001b[0m\u001b[0m_workers\u001b[0m\u001b[0;34m.\u001b[0m\u001b[0msubmit\u001b[0m\u001b[0;34m(\u001b[0m\u001b[0mSafeFunction\u001b[0m\u001b[0;34m(\u001b[0m\u001b[0mfunc\u001b[0m\u001b[0;34m)\u001b[0m\u001b[0;34m)\u001b[0m\u001b[0;34m\u001b[0m\u001b[0;34m\u001b[0m\u001b[0m\n\u001b[0m\u001b[1;32m    532\u001b[0m         \u001b[0mfuture\u001b[0m\u001b[0;34m.\u001b[0m\u001b[0mget\u001b[0m \u001b[0;34m=\u001b[0m \u001b[0mfunctools\u001b[0m\u001b[0;34m.\u001b[0m\u001b[0mpartial\u001b[0m\u001b[0;34m(\u001b[0m\u001b[0mself\u001b[0m\u001b[0;34m.\u001b[0m\u001b[0mwrap_future_result\u001b[0m\u001b[0;34m,\u001b[0m \u001b[0mfuture\u001b[0m\u001b[0;34m)\u001b[0m\u001b[0;34m\u001b[0m\u001b[0;34m\u001b[0m\u001b[0m\n\u001b[1;32m    533\u001b[0m         \u001b[0;32mif\u001b[0m \u001b[0mcallback\u001b[0m \u001b[0;32mis\u001b[0m \u001b[0;32mnot\u001b[0m \u001b[0;32mNone\u001b[0m\u001b[0;34m:\u001b[0m\u001b[0;34m\u001b[0m\u001b[0;34m\u001b[0m\u001b[0m\n",
            "\u001b[0;32m/usr/local/lib/python3.7/dist-packages/joblib/externals/loky/reusable_executor.py\u001b[0m in \u001b[0;36msubmit\u001b[0;34m(self, fn, *args, **kwargs)\u001b[0m\n\u001b[1;32m    176\u001b[0m         \u001b[0;32mwith\u001b[0m \u001b[0mself\u001b[0m\u001b[0;34m.\u001b[0m\u001b[0m_submit_resize_lock\u001b[0m\u001b[0;34m:\u001b[0m\u001b[0;34m\u001b[0m\u001b[0;34m\u001b[0m\u001b[0m\n\u001b[1;32m    177\u001b[0m             return super(_ReusablePoolExecutor, self).submit(\n\u001b[0;32m--> 178\u001b[0;31m                 fn, *args, **kwargs)\n\u001b[0m\u001b[1;32m    179\u001b[0m \u001b[0;34m\u001b[0m\u001b[0m\n\u001b[1;32m    180\u001b[0m     \u001b[0;32mdef\u001b[0m \u001b[0m_resize\u001b[0m\u001b[0;34m(\u001b[0m\u001b[0mself\u001b[0m\u001b[0;34m,\u001b[0m \u001b[0mmax_workers\u001b[0m\u001b[0;34m)\u001b[0m\u001b[0;34m:\u001b[0m\u001b[0;34m\u001b[0m\u001b[0;34m\u001b[0m\u001b[0m\n",
            "\u001b[0;32m/usr/local/lib/python3.7/dist-packages/joblib/externals/loky/process_executor.py\u001b[0m in \u001b[0;36msubmit\u001b[0;34m(self, fn, *args, **kwargs)\u001b[0m\n\u001b[1;32m   1100\u001b[0m         \u001b[0;32mwith\u001b[0m \u001b[0mself\u001b[0m\u001b[0;34m.\u001b[0m\u001b[0m_flags\u001b[0m\u001b[0;34m.\u001b[0m\u001b[0mshutdown_lock\u001b[0m\u001b[0;34m:\u001b[0m\u001b[0;34m\u001b[0m\u001b[0;34m\u001b[0m\u001b[0m\n\u001b[1;32m   1101\u001b[0m             \u001b[0;32mif\u001b[0m \u001b[0mself\u001b[0m\u001b[0;34m.\u001b[0m\u001b[0m_flags\u001b[0m\u001b[0;34m.\u001b[0m\u001b[0mbroken\u001b[0m \u001b[0;32mis\u001b[0m \u001b[0;32mnot\u001b[0m \u001b[0;32mNone\u001b[0m\u001b[0;34m:\u001b[0m\u001b[0;34m\u001b[0m\u001b[0;34m\u001b[0m\u001b[0m\n\u001b[0;32m-> 1102\u001b[0;31m                 \u001b[0;32mraise\u001b[0m \u001b[0mself\u001b[0m\u001b[0;34m.\u001b[0m\u001b[0m_flags\u001b[0m\u001b[0;34m.\u001b[0m\u001b[0mbroken\u001b[0m\u001b[0;34m\u001b[0m\u001b[0;34m\u001b[0m\u001b[0m\n\u001b[0m\u001b[1;32m   1103\u001b[0m             \u001b[0;32mif\u001b[0m \u001b[0mself\u001b[0m\u001b[0;34m.\u001b[0m\u001b[0m_flags\u001b[0m\u001b[0;34m.\u001b[0m\u001b[0mshutdown\u001b[0m\u001b[0;34m:\u001b[0m\u001b[0;34m\u001b[0m\u001b[0;34m\u001b[0m\u001b[0m\n\u001b[1;32m   1104\u001b[0m                 raise ShutdownExecutorError(\n",
            "\u001b[0;31mTerminatedWorkerError\u001b[0m: A worker process managed by the executor was unexpectedly terminated. This could be caused by a segmentation fault while calling the function or by an excessive memory usage causing the Operating System to kill the worker.\n\nThe exit codes of the workers are {EXIT(1), EXIT(1)}"
          ]
        }
      ]
    },
    {
      "cell_type": "code",
      "metadata": {
        "colab": {
          "base_uri": "https://localhost:8080/",
          "height": 818
        },
        "id": "PW7kdlSHzqCn",
        "outputId": "20f3f09c-5cdc-4df3-a6c3-b6a9c3dac78e"
      },
      "source": [
        "## Autoencoders\n",
        "\n",
        "from sklearn.feature_extraction.text import CountVectorizer\n",
        "from sklearn.model_selection import cross_val_score\n",
        "from sklearn.preprocessing import StandardScaler\n",
        "from sklearn.decomposition import KernelPCA\n",
        "from sklearn.manifold import Isomap\n",
        "from sklearn.manifold import MDS\n",
        "\n",
        "# Build BOW features on train articles\n",
        "cv = CountVectorizer(binary=False, min_df=0.0, max_df=1.0)\n",
        "\n",
        "cv_train_features_0 = cv.fit_transform(train_corpus)\n",
        "cv_test_features_0 = cv.transform(test_corpus)\n",
        "print('Original number of features:', cv_train_features_0.shape[1])\n",
        "print(train_corpus.shape)\n",
        "print(test_corpus.shape)\n",
        "print(cv_train_features_0.shape)\n",
        "print(cv_test_features_0.shape)\n",
        "'''\n",
        "sc = StandardScaler(with_mean=False)\n",
        "cv_train_features_1 = sc.fit_transform(cv_train_features_0)\n",
        "cv_test_features_1 = sc.fit_transform(cv_test_features_0)\n",
        "'''\n",
        "\n",
        "'''\n",
        "mds = MDS(n_components=10, n_init=12, max_iter=1200, metric=True, n_jobs=4, random_state=2019)\n",
        "cv_train_features = mds.fit_transform(cv_train_features_0.toarray())\n",
        "cv_test_features = mds.transform(cv_test_features_0.toarray())\n",
        "\n",
        "print('Reduced number of features:', cv_train_features.shape[1])\n",
        "print('Reduced number of features:', cv_test_features.shape[1])\n",
        "'''\n",
        "from keras.models import Sequential\n",
        "from keras.layers import Dense, Activation\n",
        "from keras.optimizers import Adam\n",
        "\n",
        "m = Sequential()\n",
        "m.add(Dense(512,  activation='elu', input_shape=(784,)))\n",
        "m.add(Dense(128,  activation='elu'))\n",
        "m.add(Dense(2,    activation='linear', name=\"bottleneck\"))\n",
        "m.add(Dense(128,  activation='elu'))\n",
        "m.add(Dense(512,  activation='elu'))\n",
        "m.add(Dense(784,  activation='sigmoid'))\n",
        "m.compile(loss='mean_squared_error', optimizer = Adam())\n",
        "\n",
        "history = m.fit(cv_train_features, cv_train_features, batch_size=8, epochs=5, verbose=1)\n",
        "\n",
        "encoder = Model(m.input, m.get_layer('bottleneck').output)\n",
        "Zenc = encoder.predict(cv_train_features)\n",
        "Renc = m.predict(cv_train_features)"
      ],
      "execution_count": null,
      "outputs": [
        {
          "output_type": "stream",
          "text": [
            "Original number of features: 3943\n",
            "(177,)\n",
            "(45,)\n",
            "(177, 3943)\n",
            "(45, 3943)\n",
            "Epoch 1/5\n"
          ],
          "name": "stdout"
        },
        {
          "output_type": "error",
          "ename": "ValueError",
          "evalue": "ignored",
          "traceback": [
            "\u001b[0;31m---------------------------------------------------------------------------\u001b[0m",
            "\u001b[0;31mValueError\u001b[0m                                Traceback (most recent call last)",
            "\u001b[0;32m<ipython-input-76-468411cbe87b>\u001b[0m in \u001b[0;36m<module>\u001b[0;34m()\u001b[0m\n\u001b[1;32m     45\u001b[0m \u001b[0mm\u001b[0m\u001b[0;34m.\u001b[0m\u001b[0mcompile\u001b[0m\u001b[0;34m(\u001b[0m\u001b[0mloss\u001b[0m\u001b[0;34m=\u001b[0m\u001b[0;34m'mean_squared_error'\u001b[0m\u001b[0;34m,\u001b[0m \u001b[0moptimizer\u001b[0m \u001b[0;34m=\u001b[0m \u001b[0mAdam\u001b[0m\u001b[0;34m(\u001b[0m\u001b[0;34m)\u001b[0m\u001b[0;34m)\u001b[0m\u001b[0;34m\u001b[0m\u001b[0;34m\u001b[0m\u001b[0m\n\u001b[1;32m     46\u001b[0m \u001b[0;34m\u001b[0m\u001b[0m\n\u001b[0;32m---> 47\u001b[0;31m \u001b[0mhistory\u001b[0m \u001b[0;34m=\u001b[0m \u001b[0mm\u001b[0m\u001b[0;34m.\u001b[0m\u001b[0mfit\u001b[0m\u001b[0;34m(\u001b[0m\u001b[0mcv_train_features\u001b[0m\u001b[0;34m,\u001b[0m \u001b[0mcv_train_features\u001b[0m\u001b[0;34m,\u001b[0m \u001b[0mbatch_size\u001b[0m\u001b[0;34m=\u001b[0m\u001b[0;36m8\u001b[0m\u001b[0;34m,\u001b[0m \u001b[0mepochs\u001b[0m\u001b[0;34m=\u001b[0m\u001b[0;36m5\u001b[0m\u001b[0;34m,\u001b[0m \u001b[0mverbose\u001b[0m\u001b[0;34m=\u001b[0m\u001b[0;36m1\u001b[0m\u001b[0;34m)\u001b[0m\u001b[0;34m\u001b[0m\u001b[0;34m\u001b[0m\u001b[0m\n\u001b[0m\u001b[1;32m     48\u001b[0m \u001b[0;34m\u001b[0m\u001b[0m\n\u001b[1;32m     49\u001b[0m \u001b[0mencoder\u001b[0m \u001b[0;34m=\u001b[0m \u001b[0mModel\u001b[0m\u001b[0;34m(\u001b[0m\u001b[0mm\u001b[0m\u001b[0;34m.\u001b[0m\u001b[0minput\u001b[0m\u001b[0;34m,\u001b[0m \u001b[0mm\u001b[0m\u001b[0;34m.\u001b[0m\u001b[0mget_layer\u001b[0m\u001b[0;34m(\u001b[0m\u001b[0;34m'bottleneck'\u001b[0m\u001b[0;34m)\u001b[0m\u001b[0;34m.\u001b[0m\u001b[0moutput\u001b[0m\u001b[0;34m)\u001b[0m\u001b[0;34m\u001b[0m\u001b[0;34m\u001b[0m\u001b[0m\n",
            "\u001b[0;32m/usr/local/lib/python3.7/dist-packages/tensorflow/python/keras/engine/training.py\u001b[0m in \u001b[0;36mfit\u001b[0;34m(self, x, y, batch_size, epochs, verbose, callbacks, validation_split, validation_data, shuffle, class_weight, sample_weight, initial_epoch, steps_per_epoch, validation_steps, validation_batch_size, validation_freq, max_queue_size, workers, use_multiprocessing)\u001b[0m\n\u001b[1;32m   1098\u001b[0m                 _r=1):\n\u001b[1;32m   1099\u001b[0m               \u001b[0mcallbacks\u001b[0m\u001b[0;34m.\u001b[0m\u001b[0mon_train_batch_begin\u001b[0m\u001b[0;34m(\u001b[0m\u001b[0mstep\u001b[0m\u001b[0;34m)\u001b[0m\u001b[0;34m\u001b[0m\u001b[0;34m\u001b[0m\u001b[0m\n\u001b[0;32m-> 1100\u001b[0;31m               \u001b[0mtmp_logs\u001b[0m \u001b[0;34m=\u001b[0m \u001b[0mself\u001b[0m\u001b[0;34m.\u001b[0m\u001b[0mtrain_function\u001b[0m\u001b[0;34m(\u001b[0m\u001b[0miterator\u001b[0m\u001b[0;34m)\u001b[0m\u001b[0;34m\u001b[0m\u001b[0;34m\u001b[0m\u001b[0m\n\u001b[0m\u001b[1;32m   1101\u001b[0m               \u001b[0;32mif\u001b[0m \u001b[0mdata_handler\u001b[0m\u001b[0;34m.\u001b[0m\u001b[0mshould_sync\u001b[0m\u001b[0;34m:\u001b[0m\u001b[0;34m\u001b[0m\u001b[0;34m\u001b[0m\u001b[0m\n\u001b[1;32m   1102\u001b[0m                 \u001b[0mcontext\u001b[0m\u001b[0;34m.\u001b[0m\u001b[0masync_wait\u001b[0m\u001b[0;34m(\u001b[0m\u001b[0;34m)\u001b[0m\u001b[0;34m\u001b[0m\u001b[0;34m\u001b[0m\u001b[0m\n",
            "\u001b[0;32m/usr/local/lib/python3.7/dist-packages/tensorflow/python/eager/def_function.py\u001b[0m in \u001b[0;36m__call__\u001b[0;34m(self, *args, **kwds)\u001b[0m\n\u001b[1;32m    826\u001b[0m     \u001b[0mtracing_count\u001b[0m \u001b[0;34m=\u001b[0m \u001b[0mself\u001b[0m\u001b[0;34m.\u001b[0m\u001b[0mexperimental_get_tracing_count\u001b[0m\u001b[0;34m(\u001b[0m\u001b[0;34m)\u001b[0m\u001b[0;34m\u001b[0m\u001b[0;34m\u001b[0m\u001b[0m\n\u001b[1;32m    827\u001b[0m     \u001b[0;32mwith\u001b[0m \u001b[0mtrace\u001b[0m\u001b[0;34m.\u001b[0m\u001b[0mTrace\u001b[0m\u001b[0;34m(\u001b[0m\u001b[0mself\u001b[0m\u001b[0;34m.\u001b[0m\u001b[0m_name\u001b[0m\u001b[0;34m)\u001b[0m \u001b[0;32mas\u001b[0m \u001b[0mtm\u001b[0m\u001b[0;34m:\u001b[0m\u001b[0;34m\u001b[0m\u001b[0;34m\u001b[0m\u001b[0m\n\u001b[0;32m--> 828\u001b[0;31m       \u001b[0mresult\u001b[0m \u001b[0;34m=\u001b[0m \u001b[0mself\u001b[0m\u001b[0;34m.\u001b[0m\u001b[0m_call\u001b[0m\u001b[0;34m(\u001b[0m\u001b[0;34m*\u001b[0m\u001b[0margs\u001b[0m\u001b[0;34m,\u001b[0m \u001b[0;34m**\u001b[0m\u001b[0mkwds\u001b[0m\u001b[0;34m)\u001b[0m\u001b[0;34m\u001b[0m\u001b[0;34m\u001b[0m\u001b[0m\n\u001b[0m\u001b[1;32m    829\u001b[0m       \u001b[0mcompiler\u001b[0m \u001b[0;34m=\u001b[0m \u001b[0;34m\"xla\"\u001b[0m \u001b[0;32mif\u001b[0m \u001b[0mself\u001b[0m\u001b[0;34m.\u001b[0m\u001b[0m_experimental_compile\u001b[0m \u001b[0;32melse\u001b[0m \u001b[0;34m\"nonXla\"\u001b[0m\u001b[0;34m\u001b[0m\u001b[0;34m\u001b[0m\u001b[0m\n\u001b[1;32m    830\u001b[0m       \u001b[0mnew_tracing_count\u001b[0m \u001b[0;34m=\u001b[0m \u001b[0mself\u001b[0m\u001b[0;34m.\u001b[0m\u001b[0mexperimental_get_tracing_count\u001b[0m\u001b[0;34m(\u001b[0m\u001b[0;34m)\u001b[0m\u001b[0;34m\u001b[0m\u001b[0;34m\u001b[0m\u001b[0m\n",
            "\u001b[0;32m/usr/local/lib/python3.7/dist-packages/tensorflow/python/eager/def_function.py\u001b[0m in \u001b[0;36m_call\u001b[0;34m(self, *args, **kwds)\u001b[0m\n\u001b[1;32m    869\u001b[0m       \u001b[0;31m# This is the first call of __call__, so we have to initialize.\u001b[0m\u001b[0;34m\u001b[0m\u001b[0;34m\u001b[0m\u001b[0;34m\u001b[0m\u001b[0m\n\u001b[1;32m    870\u001b[0m       \u001b[0minitializers\u001b[0m \u001b[0;34m=\u001b[0m \u001b[0;34m[\u001b[0m\u001b[0;34m]\u001b[0m\u001b[0;34m\u001b[0m\u001b[0;34m\u001b[0m\u001b[0m\n\u001b[0;32m--> 871\u001b[0;31m       \u001b[0mself\u001b[0m\u001b[0;34m.\u001b[0m\u001b[0m_initialize\u001b[0m\u001b[0;34m(\u001b[0m\u001b[0margs\u001b[0m\u001b[0;34m,\u001b[0m \u001b[0mkwds\u001b[0m\u001b[0;34m,\u001b[0m \u001b[0madd_initializers_to\u001b[0m\u001b[0;34m=\u001b[0m\u001b[0minitializers\u001b[0m\u001b[0;34m)\u001b[0m\u001b[0;34m\u001b[0m\u001b[0;34m\u001b[0m\u001b[0m\n\u001b[0m\u001b[1;32m    872\u001b[0m     \u001b[0;32mfinally\u001b[0m\u001b[0;34m:\u001b[0m\u001b[0;34m\u001b[0m\u001b[0;34m\u001b[0m\u001b[0m\n\u001b[1;32m    873\u001b[0m       \u001b[0;31m# At this point we know that the initialization is complete (or less\u001b[0m\u001b[0;34m\u001b[0m\u001b[0;34m\u001b[0m\u001b[0;34m\u001b[0m\u001b[0m\n",
            "\u001b[0;32m/usr/local/lib/python3.7/dist-packages/tensorflow/python/eager/def_function.py\u001b[0m in \u001b[0;36m_initialize\u001b[0;34m(self, args, kwds, add_initializers_to)\u001b[0m\n\u001b[1;32m    724\u001b[0m     self._concrete_stateful_fn = (\n\u001b[1;32m    725\u001b[0m         self._stateful_fn._get_concrete_function_internal_garbage_collected(  # pylint: disable=protected-access\n\u001b[0;32m--> 726\u001b[0;31m             *args, **kwds))\n\u001b[0m\u001b[1;32m    727\u001b[0m \u001b[0;34m\u001b[0m\u001b[0m\n\u001b[1;32m    728\u001b[0m     \u001b[0;32mdef\u001b[0m \u001b[0minvalid_creator_scope\u001b[0m\u001b[0;34m(\u001b[0m\u001b[0;34m*\u001b[0m\u001b[0munused_args\u001b[0m\u001b[0;34m,\u001b[0m \u001b[0;34m**\u001b[0m\u001b[0munused_kwds\u001b[0m\u001b[0;34m)\u001b[0m\u001b[0;34m:\u001b[0m\u001b[0;34m\u001b[0m\u001b[0;34m\u001b[0m\u001b[0m\n",
            "\u001b[0;32m/usr/local/lib/python3.7/dist-packages/tensorflow/python/eager/function.py\u001b[0m in \u001b[0;36m_get_concrete_function_internal_garbage_collected\u001b[0;34m(self, *args, **kwargs)\u001b[0m\n\u001b[1;32m   2967\u001b[0m       \u001b[0margs\u001b[0m\u001b[0;34m,\u001b[0m \u001b[0mkwargs\u001b[0m \u001b[0;34m=\u001b[0m \u001b[0;32mNone\u001b[0m\u001b[0;34m,\u001b[0m \u001b[0;32mNone\u001b[0m\u001b[0;34m\u001b[0m\u001b[0;34m\u001b[0m\u001b[0m\n\u001b[1;32m   2968\u001b[0m     \u001b[0;32mwith\u001b[0m \u001b[0mself\u001b[0m\u001b[0;34m.\u001b[0m\u001b[0m_lock\u001b[0m\u001b[0;34m:\u001b[0m\u001b[0;34m\u001b[0m\u001b[0;34m\u001b[0m\u001b[0m\n\u001b[0;32m-> 2969\u001b[0;31m       \u001b[0mgraph_function\u001b[0m\u001b[0;34m,\u001b[0m \u001b[0m_\u001b[0m \u001b[0;34m=\u001b[0m \u001b[0mself\u001b[0m\u001b[0;34m.\u001b[0m\u001b[0m_maybe_define_function\u001b[0m\u001b[0;34m(\u001b[0m\u001b[0margs\u001b[0m\u001b[0;34m,\u001b[0m \u001b[0mkwargs\u001b[0m\u001b[0;34m)\u001b[0m\u001b[0;34m\u001b[0m\u001b[0;34m\u001b[0m\u001b[0m\n\u001b[0m\u001b[1;32m   2970\u001b[0m     \u001b[0;32mreturn\u001b[0m \u001b[0mgraph_function\u001b[0m\u001b[0;34m\u001b[0m\u001b[0;34m\u001b[0m\u001b[0m\n\u001b[1;32m   2971\u001b[0m \u001b[0;34m\u001b[0m\u001b[0m\n",
            "\u001b[0;32m/usr/local/lib/python3.7/dist-packages/tensorflow/python/eager/function.py\u001b[0m in \u001b[0;36m_maybe_define_function\u001b[0;34m(self, args, kwargs)\u001b[0m\n\u001b[1;32m   3359\u001b[0m \u001b[0;34m\u001b[0m\u001b[0m\n\u001b[1;32m   3360\u001b[0m           \u001b[0mself\u001b[0m\u001b[0;34m.\u001b[0m\u001b[0m_function_cache\u001b[0m\u001b[0;34m.\u001b[0m\u001b[0mmissed\u001b[0m\u001b[0;34m.\u001b[0m\u001b[0madd\u001b[0m\u001b[0;34m(\u001b[0m\u001b[0mcall_context_key\u001b[0m\u001b[0;34m)\u001b[0m\u001b[0;34m\u001b[0m\u001b[0;34m\u001b[0m\u001b[0m\n\u001b[0;32m-> 3361\u001b[0;31m           \u001b[0mgraph_function\u001b[0m \u001b[0;34m=\u001b[0m \u001b[0mself\u001b[0m\u001b[0;34m.\u001b[0m\u001b[0m_create_graph_function\u001b[0m\u001b[0;34m(\u001b[0m\u001b[0margs\u001b[0m\u001b[0;34m,\u001b[0m \u001b[0mkwargs\u001b[0m\u001b[0;34m)\u001b[0m\u001b[0;34m\u001b[0m\u001b[0;34m\u001b[0m\u001b[0m\n\u001b[0m\u001b[1;32m   3362\u001b[0m           \u001b[0mself\u001b[0m\u001b[0;34m.\u001b[0m\u001b[0m_function_cache\u001b[0m\u001b[0;34m.\u001b[0m\u001b[0mprimary\u001b[0m\u001b[0;34m[\u001b[0m\u001b[0mcache_key\u001b[0m\u001b[0;34m]\u001b[0m \u001b[0;34m=\u001b[0m \u001b[0mgraph_function\u001b[0m\u001b[0;34m\u001b[0m\u001b[0;34m\u001b[0m\u001b[0m\n\u001b[1;32m   3363\u001b[0m \u001b[0;34m\u001b[0m\u001b[0m\n",
            "\u001b[0;32m/usr/local/lib/python3.7/dist-packages/tensorflow/python/eager/function.py\u001b[0m in \u001b[0;36m_create_graph_function\u001b[0;34m(self, args, kwargs, override_flat_arg_shapes)\u001b[0m\n\u001b[1;32m   3204\u001b[0m             \u001b[0marg_names\u001b[0m\u001b[0;34m=\u001b[0m\u001b[0marg_names\u001b[0m\u001b[0;34m,\u001b[0m\u001b[0;34m\u001b[0m\u001b[0;34m\u001b[0m\u001b[0m\n\u001b[1;32m   3205\u001b[0m             \u001b[0moverride_flat_arg_shapes\u001b[0m\u001b[0;34m=\u001b[0m\u001b[0moverride_flat_arg_shapes\u001b[0m\u001b[0;34m,\u001b[0m\u001b[0;34m\u001b[0m\u001b[0;34m\u001b[0m\u001b[0m\n\u001b[0;32m-> 3206\u001b[0;31m             capture_by_value=self._capture_by_value),\n\u001b[0m\u001b[1;32m   3207\u001b[0m         \u001b[0mself\u001b[0m\u001b[0;34m.\u001b[0m\u001b[0m_function_attributes\u001b[0m\u001b[0;34m,\u001b[0m\u001b[0;34m\u001b[0m\u001b[0;34m\u001b[0m\u001b[0m\n\u001b[1;32m   3208\u001b[0m         \u001b[0mfunction_spec\u001b[0m\u001b[0;34m=\u001b[0m\u001b[0mself\u001b[0m\u001b[0;34m.\u001b[0m\u001b[0mfunction_spec\u001b[0m\u001b[0;34m,\u001b[0m\u001b[0;34m\u001b[0m\u001b[0;34m\u001b[0m\u001b[0m\n",
            "\u001b[0;32m/usr/local/lib/python3.7/dist-packages/tensorflow/python/framework/func_graph.py\u001b[0m in \u001b[0;36mfunc_graph_from_py_func\u001b[0;34m(name, python_func, args, kwargs, signature, func_graph, autograph, autograph_options, add_control_dependencies, arg_names, op_return_value, collections, capture_by_value, override_flat_arg_shapes)\u001b[0m\n\u001b[1;32m    988\u001b[0m         \u001b[0m_\u001b[0m\u001b[0;34m,\u001b[0m \u001b[0moriginal_func\u001b[0m \u001b[0;34m=\u001b[0m \u001b[0mtf_decorator\u001b[0m\u001b[0;34m.\u001b[0m\u001b[0munwrap\u001b[0m\u001b[0;34m(\u001b[0m\u001b[0mpython_func\u001b[0m\u001b[0;34m)\u001b[0m\u001b[0;34m\u001b[0m\u001b[0;34m\u001b[0m\u001b[0m\n\u001b[1;32m    989\u001b[0m \u001b[0;34m\u001b[0m\u001b[0m\n\u001b[0;32m--> 990\u001b[0;31m       \u001b[0mfunc_outputs\u001b[0m \u001b[0;34m=\u001b[0m \u001b[0mpython_func\u001b[0m\u001b[0;34m(\u001b[0m\u001b[0;34m*\u001b[0m\u001b[0mfunc_args\u001b[0m\u001b[0;34m,\u001b[0m \u001b[0;34m**\u001b[0m\u001b[0mfunc_kwargs\u001b[0m\u001b[0;34m)\u001b[0m\u001b[0;34m\u001b[0m\u001b[0;34m\u001b[0m\u001b[0m\n\u001b[0m\u001b[1;32m    991\u001b[0m \u001b[0;34m\u001b[0m\u001b[0m\n\u001b[1;32m    992\u001b[0m       \u001b[0;31m# invariant: `func_outputs` contains only Tensors, CompositeTensors,\u001b[0m\u001b[0;34m\u001b[0m\u001b[0;34m\u001b[0m\u001b[0;34m\u001b[0m\u001b[0m\n",
            "\u001b[0;32m/usr/local/lib/python3.7/dist-packages/tensorflow/python/eager/def_function.py\u001b[0m in \u001b[0;36mwrapped_fn\u001b[0;34m(*args, **kwds)\u001b[0m\n\u001b[1;32m    632\u001b[0m             \u001b[0mxla_context\u001b[0m\u001b[0;34m.\u001b[0m\u001b[0mExit\u001b[0m\u001b[0;34m(\u001b[0m\u001b[0;34m)\u001b[0m\u001b[0;34m\u001b[0m\u001b[0;34m\u001b[0m\u001b[0m\n\u001b[1;32m    633\u001b[0m         \u001b[0;32melse\u001b[0m\u001b[0;34m:\u001b[0m\u001b[0;34m\u001b[0m\u001b[0;34m\u001b[0m\u001b[0m\n\u001b[0;32m--> 634\u001b[0;31m           \u001b[0mout\u001b[0m \u001b[0;34m=\u001b[0m \u001b[0mweak_wrapped_fn\u001b[0m\u001b[0;34m(\u001b[0m\u001b[0;34m)\u001b[0m\u001b[0;34m.\u001b[0m\u001b[0m__wrapped__\u001b[0m\u001b[0;34m(\u001b[0m\u001b[0;34m*\u001b[0m\u001b[0margs\u001b[0m\u001b[0;34m,\u001b[0m \u001b[0;34m**\u001b[0m\u001b[0mkwds\u001b[0m\u001b[0;34m)\u001b[0m\u001b[0;34m\u001b[0m\u001b[0;34m\u001b[0m\u001b[0m\n\u001b[0m\u001b[1;32m    635\u001b[0m         \u001b[0;32mreturn\u001b[0m \u001b[0mout\u001b[0m\u001b[0;34m\u001b[0m\u001b[0;34m\u001b[0m\u001b[0m\n\u001b[1;32m    636\u001b[0m \u001b[0;34m\u001b[0m\u001b[0m\n",
            "\u001b[0;32m/usr/local/lib/python3.7/dist-packages/tensorflow/python/framework/func_graph.py\u001b[0m in \u001b[0;36mwrapper\u001b[0;34m(*args, **kwargs)\u001b[0m\n\u001b[1;32m    975\u001b[0m           \u001b[0;32mexcept\u001b[0m \u001b[0mException\u001b[0m \u001b[0;32mas\u001b[0m \u001b[0me\u001b[0m\u001b[0;34m:\u001b[0m  \u001b[0;31m# pylint:disable=broad-except\u001b[0m\u001b[0;34m\u001b[0m\u001b[0;34m\u001b[0m\u001b[0m\n\u001b[1;32m    976\u001b[0m             \u001b[0;32mif\u001b[0m \u001b[0mhasattr\u001b[0m\u001b[0;34m(\u001b[0m\u001b[0me\u001b[0m\u001b[0;34m,\u001b[0m \u001b[0;34m\"ag_error_metadata\"\u001b[0m\u001b[0;34m)\u001b[0m\u001b[0;34m:\u001b[0m\u001b[0;34m\u001b[0m\u001b[0;34m\u001b[0m\u001b[0m\n\u001b[0;32m--> 977\u001b[0;31m               \u001b[0;32mraise\u001b[0m \u001b[0me\u001b[0m\u001b[0;34m.\u001b[0m\u001b[0mag_error_metadata\u001b[0m\u001b[0;34m.\u001b[0m\u001b[0mto_exception\u001b[0m\u001b[0;34m(\u001b[0m\u001b[0me\u001b[0m\u001b[0;34m)\u001b[0m\u001b[0;34m\u001b[0m\u001b[0;34m\u001b[0m\u001b[0m\n\u001b[0m\u001b[1;32m    978\u001b[0m             \u001b[0;32melse\u001b[0m\u001b[0;34m:\u001b[0m\u001b[0;34m\u001b[0m\u001b[0;34m\u001b[0m\u001b[0m\n\u001b[1;32m    979\u001b[0m               \u001b[0;32mraise\u001b[0m\u001b[0;34m\u001b[0m\u001b[0;34m\u001b[0m\u001b[0m\n",
            "\u001b[0;31mValueError\u001b[0m: in user code:\n\n    /usr/local/lib/python3.7/dist-packages/tensorflow/python/keras/engine/training.py:805 train_function  *\n        return step_function(self, iterator)\n    /usr/local/lib/python3.7/dist-packages/tensorflow/python/keras/engine/training.py:795 step_function  **\n        outputs = model.distribute_strategy.run(run_step, args=(data,))\n    /usr/local/lib/python3.7/dist-packages/tensorflow/python/distribute/distribute_lib.py:1259 run\n        return self._extended.call_for_each_replica(fn, args=args, kwargs=kwargs)\n    /usr/local/lib/python3.7/dist-packages/tensorflow/python/distribute/distribute_lib.py:2730 call_for_each_replica\n        return self._call_for_each_replica(fn, args, kwargs)\n    /usr/local/lib/python3.7/dist-packages/tensorflow/python/distribute/distribute_lib.py:3417 _call_for_each_replica\n        return fn(*args, **kwargs)\n    /usr/local/lib/python3.7/dist-packages/tensorflow/python/keras/engine/training.py:788 run_step  **\n        outputs = model.train_step(data)\n    /usr/local/lib/python3.7/dist-packages/tensorflow/python/keras/engine/training.py:754 train_step\n        y_pred = self(x, training=True)\n    /usr/local/lib/python3.7/dist-packages/tensorflow/python/keras/engine/base_layer.py:998 __call__\n        input_spec.assert_input_compatibility(self.input_spec, inputs, self.name)\n    /usr/local/lib/python3.7/dist-packages/tensorflow/python/keras/engine/input_spec.py:259 assert_input_compatibility\n        ' but received input with shape ' + display_shape(x.shape))\n\n    ValueError: Input 0 of layer sequential_8 is incompatible with the layer: expected axis -1 of input shape to have value 784 but received input with shape (None, 6)\n"
          ]
        }
      ]
    },
    {
      "cell_type": "code",
      "metadata": {
        "colab": {
          "base_uri": "https://localhost:8080/",
          "height": 485
        },
        "id": "DZglenVr2wBV",
        "outputId": "0372958b-0f88-4674-ef98-3a0b331cb060"
      },
      "source": [
        "## RandomizedPCA\n",
        "\n",
        "from sklearn.feature_extraction.text import CountVectorizer\n",
        "from sklearn.model_selection import cross_val_score\n",
        "from sklearn.preprocessing import StandardScaler\n",
        "from sklearn.decomposition import KernelPCA, SparsePCA \n",
        "from sklearn.manifold import Isomap\n",
        "from sklearn.manifold import MDS\n",
        "\n",
        "# Build BOW features on train articles\n",
        "cv = CountVectorizer(binary=False, min_df=0.0, max_df=1.0)\n",
        "\n",
        "cv_train_features_0 = cv.fit_transform(train_corpus)\n",
        "cv_test_features_0 = cv.transform(test_corpus)\n",
        "print('Original number of features:', cv_train_features_0.shape[1])\n",
        "print(train_corpus.shape)\n",
        "print(test_corpus.shape)\n",
        "print(cv_train_features_0.shape)\n",
        "print(cv_test_features_0.shape)\n",
        "'''\n",
        "sc = StandardScaler(with_mean=False)\n",
        "cv_train_features_1 = sc.fit_transform(cv_train_features_0)\n",
        "cv_test_features_1 = sc.fit_transform(cv_test_features_0)\n",
        "'''\n",
        "\n",
        "RPCA = SparsePCA(n_components=10, random_state=2019)\n",
        "cv_train_features = RPCA.fit_transform(cv_train_features_0.toarray())\n",
        "cv_test_features = RPCA.transform(cv_test_features_0.toarray())\n",
        "\n",
        "print('Reduced number of features:', cv_train_features.shape[1])\n",
        "print('Reduced number of features:', cv_test_features.shape[1])"
      ],
      "execution_count": null,
      "outputs": [
        {
          "output_type": "stream",
          "text": [
            "Original number of features: 3943\n",
            "(177,)\n",
            "(45,)\n",
            "(177, 3943)\n",
            "(45, 3943)\n"
          ],
          "name": "stdout"
        },
        {
          "output_type": "error",
          "ename": "KeyboardInterrupt",
          "evalue": "ignored",
          "traceback": [
            "\u001b[0;31m---------------------------------------------------------------------------\u001b[0m",
            "\u001b[0;31mKeyboardInterrupt\u001b[0m                         Traceback (most recent call last)",
            "\u001b[0;32m<ipython-input-84-7d4715e620de>\u001b[0m in \u001b[0;36m<module>\u001b[0;34m()\u001b[0m\n\u001b[1;32m     25\u001b[0m \u001b[0;34m\u001b[0m\u001b[0m\n\u001b[1;32m     26\u001b[0m \u001b[0mRPCA\u001b[0m \u001b[0;34m=\u001b[0m \u001b[0mSparsePCA\u001b[0m\u001b[0;34m(\u001b[0m\u001b[0mn_components\u001b[0m\u001b[0;34m=\u001b[0m\u001b[0;36m10\u001b[0m\u001b[0;34m,\u001b[0m \u001b[0mrandom_state\u001b[0m\u001b[0;34m=\u001b[0m\u001b[0;36m2019\u001b[0m\u001b[0;34m)\u001b[0m\u001b[0;34m\u001b[0m\u001b[0;34m\u001b[0m\u001b[0m\n\u001b[0;32m---> 27\u001b[0;31m \u001b[0mcv_train_features\u001b[0m \u001b[0;34m=\u001b[0m \u001b[0mRPCA\u001b[0m\u001b[0;34m.\u001b[0m\u001b[0mfit_transform\u001b[0m\u001b[0;34m(\u001b[0m\u001b[0mcv_train_features_0\u001b[0m\u001b[0;34m.\u001b[0m\u001b[0mtoarray\u001b[0m\u001b[0;34m(\u001b[0m\u001b[0;34m)\u001b[0m\u001b[0;34m)\u001b[0m\u001b[0;34m\u001b[0m\u001b[0;34m\u001b[0m\u001b[0m\n\u001b[0m\u001b[1;32m     28\u001b[0m \u001b[0mcv_test_features\u001b[0m \u001b[0;34m=\u001b[0m \u001b[0mRPCA\u001b[0m\u001b[0;34m.\u001b[0m\u001b[0mtransform\u001b[0m\u001b[0;34m(\u001b[0m\u001b[0mcv_test_features_0\u001b[0m\u001b[0;34m.\u001b[0m\u001b[0mtoarray\u001b[0m\u001b[0;34m(\u001b[0m\u001b[0;34m)\u001b[0m\u001b[0;34m)\u001b[0m\u001b[0;34m\u001b[0m\u001b[0;34m\u001b[0m\u001b[0m\n\u001b[1;32m     29\u001b[0m \u001b[0;34m\u001b[0m\u001b[0m\n",
            "\u001b[0;32m/usr/local/lib/python3.7/dist-packages/sklearn/base.py\u001b[0m in \u001b[0;36mfit_transform\u001b[0;34m(self, X, y, **fit_params)\u001b[0m\n\u001b[1;32m    569\u001b[0m         \u001b[0;32mif\u001b[0m \u001b[0my\u001b[0m \u001b[0;32mis\u001b[0m \u001b[0;32mNone\u001b[0m\u001b[0;34m:\u001b[0m\u001b[0;34m\u001b[0m\u001b[0;34m\u001b[0m\u001b[0m\n\u001b[1;32m    570\u001b[0m             \u001b[0;31m# fit method of arity 1 (unsupervised transformation)\u001b[0m\u001b[0;34m\u001b[0m\u001b[0;34m\u001b[0m\u001b[0;34m\u001b[0m\u001b[0m\n\u001b[0;32m--> 571\u001b[0;31m             \u001b[0;32mreturn\u001b[0m \u001b[0mself\u001b[0m\u001b[0;34m.\u001b[0m\u001b[0mfit\u001b[0m\u001b[0;34m(\u001b[0m\u001b[0mX\u001b[0m\u001b[0;34m,\u001b[0m \u001b[0;34m**\u001b[0m\u001b[0mfit_params\u001b[0m\u001b[0;34m)\u001b[0m\u001b[0;34m.\u001b[0m\u001b[0mtransform\u001b[0m\u001b[0;34m(\u001b[0m\u001b[0mX\u001b[0m\u001b[0;34m)\u001b[0m\u001b[0;34m\u001b[0m\u001b[0;34m\u001b[0m\u001b[0m\n\u001b[0m\u001b[1;32m    572\u001b[0m         \u001b[0;32melse\u001b[0m\u001b[0;34m:\u001b[0m\u001b[0;34m\u001b[0m\u001b[0;34m\u001b[0m\u001b[0m\n\u001b[1;32m    573\u001b[0m             \u001b[0;31m# fit method of arity 2 (supervised transformation)\u001b[0m\u001b[0;34m\u001b[0m\u001b[0;34m\u001b[0m\u001b[0;34m\u001b[0m\u001b[0m\n",
            "\u001b[0;32m/usr/local/lib/python3.7/dist-packages/sklearn/decomposition/_sparse_pca.py\u001b[0m in \u001b[0;36mfit\u001b[0;34m(self, X, y)\u001b[0m\n\u001b[1;32m    191\u001b[0m                                                \u001b[0mcode_init\u001b[0m\u001b[0;34m=\u001b[0m\u001b[0mcode_init\u001b[0m\u001b[0;34m,\u001b[0m\u001b[0;34m\u001b[0m\u001b[0;34m\u001b[0m\u001b[0m\n\u001b[1;32m    192\u001b[0m                                                \u001b[0mdict_init\u001b[0m\u001b[0;34m=\u001b[0m\u001b[0mdict_init\u001b[0m\u001b[0;34m,\u001b[0m\u001b[0;34m\u001b[0m\u001b[0;34m\u001b[0m\u001b[0m\n\u001b[0;32m--> 193\u001b[0;31m                                                return_n_iter=True)\n\u001b[0m\u001b[1;32m    194\u001b[0m         \u001b[0mself\u001b[0m\u001b[0;34m.\u001b[0m\u001b[0mcomponents_\u001b[0m \u001b[0;34m=\u001b[0m \u001b[0mVt\u001b[0m\u001b[0;34m.\u001b[0m\u001b[0mT\u001b[0m\u001b[0;34m\u001b[0m\u001b[0;34m\u001b[0m\u001b[0m\n\u001b[1;32m    195\u001b[0m         components_norm = np.linalg.norm(\n",
            "\u001b[0;32m/usr/local/lib/python3.7/dist-packages/sklearn/decomposition/_dict_learning.py\u001b[0m in \u001b[0;36mdict_learning\u001b[0;34m(X, n_components, alpha, max_iter, tol, method, n_jobs, dict_init, code_init, callback, verbose, random_state, return_n_iter, positive_dict, positive_code, method_max_iter)\u001b[0m\n\u001b[1;32m    587\u001b[0m         code = sparse_encode(X, dictionary, algorithm=method, alpha=alpha,\n\u001b[1;32m    588\u001b[0m                              \u001b[0minit\u001b[0m\u001b[0;34m=\u001b[0m\u001b[0mcode\u001b[0m\u001b[0;34m,\u001b[0m \u001b[0mn_jobs\u001b[0m\u001b[0;34m=\u001b[0m\u001b[0mn_jobs\u001b[0m\u001b[0;34m,\u001b[0m \u001b[0mpositive\u001b[0m\u001b[0;34m=\u001b[0m\u001b[0mpositive_code\u001b[0m\u001b[0;34m,\u001b[0m\u001b[0;34m\u001b[0m\u001b[0;34m\u001b[0m\u001b[0m\n\u001b[0;32m--> 589\u001b[0;31m                              max_iter=method_max_iter, verbose=verbose)\n\u001b[0m\u001b[1;32m    590\u001b[0m         \u001b[0;31m# Update dictionary\u001b[0m\u001b[0;34m\u001b[0m\u001b[0;34m\u001b[0m\u001b[0;34m\u001b[0m\u001b[0m\n\u001b[1;32m    591\u001b[0m         dictionary, residuals = _update_dict(dictionary.T, X.T, code.T,\n",
            "\u001b[0;32m/usr/local/lib/python3.7/dist-packages/sklearn/decomposition/_dict_learning.py\u001b[0m in \u001b[0;36msparse_encode\u001b[0;34m(X, dictionary, gram, cov, algorithm, n_nonzero_coefs, alpha, copy_cov, init, max_iter, n_jobs, check_input, verbose, positive)\u001b[0m\n\u001b[1;32m    316\u001b[0m                               \u001b[0mcheck_input\u001b[0m\u001b[0;34m=\u001b[0m\u001b[0;32mFalse\u001b[0m\u001b[0;34m,\u001b[0m\u001b[0;34m\u001b[0m\u001b[0;34m\u001b[0m\u001b[0m\n\u001b[1;32m    317\u001b[0m                               \u001b[0mverbose\u001b[0m\u001b[0;34m=\u001b[0m\u001b[0mverbose\u001b[0m\u001b[0;34m,\u001b[0m\u001b[0;34m\u001b[0m\u001b[0;34m\u001b[0m\u001b[0m\n\u001b[0;32m--> 318\u001b[0;31m                               positive=positive)\n\u001b[0m\u001b[1;32m    319\u001b[0m         \u001b[0;32mreturn\u001b[0m \u001b[0mcode\u001b[0m\u001b[0;34m\u001b[0m\u001b[0;34m\u001b[0m\u001b[0m\n\u001b[1;32m    320\u001b[0m \u001b[0;34m\u001b[0m\u001b[0m\n",
            "\u001b[0;32m/usr/local/lib/python3.7/dist-packages/sklearn/decomposition/_dict_learning.py\u001b[0m in \u001b[0;36m_sparse_encode\u001b[0;34m(X, dictionary, gram, cov, algorithm, regularization, copy_cov, init, max_iter, check_input, verbose, positive)\u001b[0m\n\u001b[1;32m    130\u001b[0m                                    \u001b[0mprecompute\u001b[0m\u001b[0;34m=\u001b[0m\u001b[0mgram\u001b[0m\u001b[0;34m,\u001b[0m \u001b[0mfit_path\u001b[0m\u001b[0;34m=\u001b[0m\u001b[0;32mFalse\u001b[0m\u001b[0;34m,\u001b[0m\u001b[0;34m\u001b[0m\u001b[0;34m\u001b[0m\u001b[0m\n\u001b[1;32m    131\u001b[0m                                    positive=positive, max_iter=max_iter)\n\u001b[0;32m--> 132\u001b[0;31m             \u001b[0mlasso_lars\u001b[0m\u001b[0;34m.\u001b[0m\u001b[0mfit\u001b[0m\u001b[0;34m(\u001b[0m\u001b[0mdictionary\u001b[0m\u001b[0;34m.\u001b[0m\u001b[0mT\u001b[0m\u001b[0;34m,\u001b[0m \u001b[0mX\u001b[0m\u001b[0;34m.\u001b[0m\u001b[0mT\u001b[0m\u001b[0;34m,\u001b[0m \u001b[0mXy\u001b[0m\u001b[0;34m=\u001b[0m\u001b[0mcov\u001b[0m\u001b[0;34m)\u001b[0m\u001b[0;34m\u001b[0m\u001b[0;34m\u001b[0m\u001b[0m\n\u001b[0m\u001b[1;32m    133\u001b[0m             \u001b[0mnew_code\u001b[0m \u001b[0;34m=\u001b[0m \u001b[0mlasso_lars\u001b[0m\u001b[0;34m.\u001b[0m\u001b[0mcoef_\u001b[0m\u001b[0;34m\u001b[0m\u001b[0;34m\u001b[0m\u001b[0m\n\u001b[1;32m    134\u001b[0m         \u001b[0;32mfinally\u001b[0m\u001b[0;34m:\u001b[0m\u001b[0;34m\u001b[0m\u001b[0;34m\u001b[0m\u001b[0m\n",
            "\u001b[0;32m/usr/local/lib/python3.7/dist-packages/sklearn/linear_model/_least_angle.py\u001b[0m in \u001b[0;36mfit\u001b[0;34m(self, X, y, Xy)\u001b[0m\n\u001b[1;32m    965\u001b[0m \u001b[0;34m\u001b[0m\u001b[0m\n\u001b[1;32m    966\u001b[0m         self._fit(X, y, max_iter=max_iter, alpha=alpha, fit_path=self.fit_path,\n\u001b[0;32m--> 967\u001b[0;31m                   Xy=Xy)\n\u001b[0m\u001b[1;32m    968\u001b[0m \u001b[0;34m\u001b[0m\u001b[0m\n\u001b[1;32m    969\u001b[0m         \u001b[0;32mreturn\u001b[0m \u001b[0mself\u001b[0m\u001b[0;34m\u001b[0m\u001b[0;34m\u001b[0m\u001b[0m\n",
            "\u001b[0;32m/usr/local/lib/python3.7/dist-packages/sklearn/linear_model/_least_angle.py\u001b[0m in \u001b[0;36m_fit\u001b[0;34m(self, X, y, max_iter, alpha, fit_path, Xy)\u001b[0m\n\u001b[1;32m    924\u001b[0m                     \u001b[0mverbose\u001b[0m\u001b[0;34m=\u001b[0m\u001b[0mmax\u001b[0m\u001b[0;34m(\u001b[0m\u001b[0;36m0\u001b[0m\u001b[0;34m,\u001b[0m \u001b[0mself\u001b[0m\u001b[0;34m.\u001b[0m\u001b[0mverbose\u001b[0m \u001b[0;34m-\u001b[0m \u001b[0;36m1\u001b[0m\u001b[0;34m)\u001b[0m\u001b[0;34m,\u001b[0m \u001b[0mmax_iter\u001b[0m\u001b[0;34m=\u001b[0m\u001b[0mmax_iter\u001b[0m\u001b[0;34m,\u001b[0m\u001b[0;34m\u001b[0m\u001b[0;34m\u001b[0m\u001b[0m\n\u001b[1;32m    925\u001b[0m                     \u001b[0meps\u001b[0m\u001b[0;34m=\u001b[0m\u001b[0mself\u001b[0m\u001b[0;34m.\u001b[0m\u001b[0meps\u001b[0m\u001b[0;34m,\u001b[0m \u001b[0mreturn_path\u001b[0m\u001b[0;34m=\u001b[0m\u001b[0;32mFalse\u001b[0m\u001b[0;34m,\u001b[0m \u001b[0mreturn_n_iter\u001b[0m\u001b[0;34m=\u001b[0m\u001b[0;32mTrue\u001b[0m\u001b[0;34m,\u001b[0m\u001b[0;34m\u001b[0m\u001b[0;34m\u001b[0m\u001b[0m\n\u001b[0;32m--> 926\u001b[0;31m                     positive=self.positive)\n\u001b[0m\u001b[1;32m    927\u001b[0m                 \u001b[0mself\u001b[0m\u001b[0;34m.\u001b[0m\u001b[0malphas_\u001b[0m\u001b[0;34m.\u001b[0m\u001b[0mappend\u001b[0m\u001b[0;34m(\u001b[0m\u001b[0malphas\u001b[0m\u001b[0;34m)\u001b[0m\u001b[0;34m\u001b[0m\u001b[0;34m\u001b[0m\u001b[0m\n\u001b[1;32m    928\u001b[0m                 \u001b[0mself\u001b[0m\u001b[0;34m.\u001b[0m\u001b[0mn_iter_\u001b[0m\u001b[0;34m.\u001b[0m\u001b[0mappend\u001b[0m\u001b[0;34m(\u001b[0m\u001b[0mn_iter_\u001b[0m\u001b[0;34m)\u001b[0m\u001b[0;34m\u001b[0m\u001b[0;34m\u001b[0m\u001b[0m\n",
            "\u001b[0;32m/usr/local/lib/python3.7/dist-packages/sklearn/linear_model/_least_angle.py\u001b[0m in \u001b[0;36mlars_path\u001b[0;34m(X, y, Xy, Gram, max_iter, alpha_min, method, copy_X, eps, copy_Gram, verbose, return_path, return_n_iter, positive)\u001b[0m\n\u001b[1;32m    163\u001b[0m         \u001b[0malpha_min\u001b[0m\u001b[0;34m=\u001b[0m\u001b[0malpha_min\u001b[0m\u001b[0;34m,\u001b[0m \u001b[0mmethod\u001b[0m\u001b[0;34m=\u001b[0m\u001b[0mmethod\u001b[0m\u001b[0;34m,\u001b[0m \u001b[0mcopy_X\u001b[0m\u001b[0;34m=\u001b[0m\u001b[0mcopy_X\u001b[0m\u001b[0;34m,\u001b[0m\u001b[0;34m\u001b[0m\u001b[0;34m\u001b[0m\u001b[0m\n\u001b[1;32m    164\u001b[0m         \u001b[0meps\u001b[0m\u001b[0;34m=\u001b[0m\u001b[0meps\u001b[0m\u001b[0;34m,\u001b[0m \u001b[0mcopy_Gram\u001b[0m\u001b[0;34m=\u001b[0m\u001b[0mcopy_Gram\u001b[0m\u001b[0;34m,\u001b[0m \u001b[0mverbose\u001b[0m\u001b[0;34m=\u001b[0m\u001b[0mverbose\u001b[0m\u001b[0;34m,\u001b[0m \u001b[0mreturn_path\u001b[0m\u001b[0;34m=\u001b[0m\u001b[0mreturn_path\u001b[0m\u001b[0;34m,\u001b[0m\u001b[0;34m\u001b[0m\u001b[0;34m\u001b[0m\u001b[0m\n\u001b[0;32m--> 165\u001b[0;31m         return_n_iter=return_n_iter, positive=positive)\n\u001b[0m\u001b[1;32m    166\u001b[0m \u001b[0;34m\u001b[0m\u001b[0m\n\u001b[1;32m    167\u001b[0m \u001b[0;34m\u001b[0m\u001b[0m\n",
            "\u001b[0;32m/usr/local/lib/python3.7/dist-packages/sklearn/linear_model/_least_angle.py\u001b[0m in \u001b[0;36m_lars_path_solver\u001b[0;34m(X, y, Xy, Gram, n_samples, max_iter, alpha_min, method, copy_X, eps, copy_Gram, verbose, return_path, return_n_iter, positive)\u001b[0m\n\u001b[1;32m    482\u001b[0m                 \u001b[0mC_idx\u001b[0m \u001b[0;34m=\u001b[0m \u001b[0mnp\u001b[0m\u001b[0;34m.\u001b[0m\u001b[0margmax\u001b[0m\u001b[0;34m(\u001b[0m\u001b[0mCov\u001b[0m\u001b[0;34m)\u001b[0m\u001b[0;34m\u001b[0m\u001b[0;34m\u001b[0m\u001b[0m\n\u001b[1;32m    483\u001b[0m             \u001b[0;32melse\u001b[0m\u001b[0;34m:\u001b[0m\u001b[0;34m\u001b[0m\u001b[0;34m\u001b[0m\u001b[0m\n\u001b[0;32m--> 484\u001b[0;31m                 \u001b[0mC_idx\u001b[0m \u001b[0;34m=\u001b[0m \u001b[0mnp\u001b[0m\u001b[0;34m.\u001b[0m\u001b[0margmax\u001b[0m\u001b[0;34m(\u001b[0m\u001b[0mnp\u001b[0m\u001b[0;34m.\u001b[0m\u001b[0mabs\u001b[0m\u001b[0;34m(\u001b[0m\u001b[0mCov\u001b[0m\u001b[0;34m)\u001b[0m\u001b[0;34m)\u001b[0m\u001b[0;34m\u001b[0m\u001b[0;34m\u001b[0m\u001b[0m\n\u001b[0m\u001b[1;32m    485\u001b[0m \u001b[0;34m\u001b[0m\u001b[0m\n\u001b[1;32m    486\u001b[0m             \u001b[0mC_\u001b[0m \u001b[0;34m=\u001b[0m \u001b[0mCov\u001b[0m\u001b[0;34m[\u001b[0m\u001b[0mC_idx\u001b[0m\u001b[0;34m]\u001b[0m\u001b[0;34m\u001b[0m\u001b[0;34m\u001b[0m\u001b[0m\n",
            "\u001b[0;32m<__array_function__ internals>\u001b[0m in \u001b[0;36margmax\u001b[0;34m(*args, **kwargs)\u001b[0m\n",
            "\u001b[0;32m/usr/local/lib/python3.7/dist-packages/numpy/core/fromnumeric.py\u001b[0m in \u001b[0;36margmax\u001b[0;34m(a, axis, out)\u001b[0m\n\u001b[1;32m   1186\u001b[0m \u001b[0;34m\u001b[0m\u001b[0m\n\u001b[1;32m   1187\u001b[0m     \"\"\"\n\u001b[0;32m-> 1188\u001b[0;31m     \u001b[0;32mreturn\u001b[0m \u001b[0m_wrapfunc\u001b[0m\u001b[0;34m(\u001b[0m\u001b[0ma\u001b[0m\u001b[0;34m,\u001b[0m \u001b[0;34m'argmax'\u001b[0m\u001b[0;34m,\u001b[0m \u001b[0maxis\u001b[0m\u001b[0;34m=\u001b[0m\u001b[0maxis\u001b[0m\u001b[0;34m,\u001b[0m \u001b[0mout\u001b[0m\u001b[0;34m=\u001b[0m\u001b[0mout\u001b[0m\u001b[0;34m)\u001b[0m\u001b[0;34m\u001b[0m\u001b[0;34m\u001b[0m\u001b[0m\n\u001b[0m\u001b[1;32m   1189\u001b[0m \u001b[0;34m\u001b[0m\u001b[0m\n\u001b[1;32m   1190\u001b[0m \u001b[0;34m\u001b[0m\u001b[0m\n",
            "\u001b[0;32m/usr/local/lib/python3.7/dist-packages/numpy/core/fromnumeric.py\u001b[0m in \u001b[0;36m_wrapfunc\u001b[0;34m(obj, method, *args, **kwds)\u001b[0m\n\u001b[1;32m     51\u001b[0m \u001b[0;34m\u001b[0m\u001b[0m\n\u001b[1;32m     52\u001b[0m \u001b[0;32mdef\u001b[0m \u001b[0m_wrapfunc\u001b[0m\u001b[0;34m(\u001b[0m\u001b[0mobj\u001b[0m\u001b[0;34m,\u001b[0m \u001b[0mmethod\u001b[0m\u001b[0;34m,\u001b[0m \u001b[0;34m*\u001b[0m\u001b[0margs\u001b[0m\u001b[0;34m,\u001b[0m \u001b[0;34m**\u001b[0m\u001b[0mkwds\u001b[0m\u001b[0;34m)\u001b[0m\u001b[0;34m:\u001b[0m\u001b[0;34m\u001b[0m\u001b[0;34m\u001b[0m\u001b[0m\n\u001b[0;32m---> 53\u001b[0;31m     \u001b[0mbound\u001b[0m \u001b[0;34m=\u001b[0m \u001b[0mgetattr\u001b[0m\u001b[0;34m(\u001b[0m\u001b[0mobj\u001b[0m\u001b[0;34m,\u001b[0m \u001b[0mmethod\u001b[0m\u001b[0;34m,\u001b[0m \u001b[0;32mNone\u001b[0m\u001b[0;34m)\u001b[0m\u001b[0;34m\u001b[0m\u001b[0;34m\u001b[0m\u001b[0m\n\u001b[0m\u001b[1;32m     54\u001b[0m     \u001b[0;32mif\u001b[0m \u001b[0mbound\u001b[0m \u001b[0;32mis\u001b[0m \u001b[0;32mNone\u001b[0m\u001b[0;34m:\u001b[0m\u001b[0;34m\u001b[0m\u001b[0;34m\u001b[0m\u001b[0m\n\u001b[1;32m     55\u001b[0m         \u001b[0;32mreturn\u001b[0m \u001b[0m_wrapit\u001b[0m\u001b[0;34m(\u001b[0m\u001b[0mobj\u001b[0m\u001b[0;34m,\u001b[0m \u001b[0mmethod\u001b[0m\u001b[0;34m,\u001b[0m \u001b[0;34m*\u001b[0m\u001b[0margs\u001b[0m\u001b[0;34m,\u001b[0m \u001b[0;34m**\u001b[0m\u001b[0mkwds\u001b[0m\u001b[0;34m)\u001b[0m\u001b[0;34m\u001b[0m\u001b[0;34m\u001b[0m\u001b[0m\n",
            "\u001b[0;31mKeyboardInterrupt\u001b[0m: "
          ]
        }
      ]
    },
    {
      "cell_type": "code",
      "metadata": {
        "id": "p6NFsINt2gfx"
      },
      "source": [
        "## Isomap\n",
        "\n",
        "from sklearn.feature_extraction.text import CountVectorizer\n",
        "from sklearn.model_selection import cross_val_score\n",
        "from sklearn.preprocessing import StandardScaler\n",
        "from sklearn.decomposition import KernelPCA\n",
        "from sklearn.manifold import MDS, Isomap\n",
        "\n",
        "\n",
        "# Build BOW features on train articles\n",
        "cv = CountVectorizer(binary=False, min_df=0.0, max_df=1.0)\n",
        "\n",
        "cv_train_features_0 = cv.fit_transform(train_corpus)\n",
        "cv_test_features_0 = cv.transform(test_corpus)\n",
        "print('Original number of features:', cv_train_features_0.shape[1])\n",
        "print(train_corpus.shape)\n",
        "print(test_corpus.shape)\n",
        "print(cv_train_features_0.shape)\n",
        "print(cv_test_features_0.shape)\n",
        "'''\n",
        "sc = StandardScaler(with_mean=False)\n",
        "cv_train_features_1 = sc.fit_transform(cv_train_features_0)\n",
        "cv_test_features_1 = sc.fit_transform(cv_test_features_0)\n",
        "'''\n",
        "\n",
        "mds = MDS(n_components=10, n_init=12, max_iter=1200, metric=True, n_jobs=4, random_state=2019)\n",
        "cv_train_features = mds.fit_transform(cv_train_features_0.toarray())\n",
        "cv_test_features = mds.transform(cv_test_features_0.toarray())\n",
        "\n",
        "print('Reduced number of features:', cv_train_features.shape[1])\n",
        "print('Reduced number of features:', cv_test_features.shape[1])"
      ],
      "execution_count": null,
      "outputs": []
    },
    {
      "cell_type": "code",
      "metadata": {
        "colab": {
          "base_uri": "https://localhost:8080/"
        },
        "id": "p-8uvXEByZOj",
        "outputId": "880f73c7-d680-468c-86b5-d2fadae2248c"
      },
      "source": [
        "## Kernel PCA\n",
        "\n",
        "from sklearn.feature_extraction.text import CountVectorizer\n",
        "from sklearn.model_selection import cross_val_score\n",
        "from sklearn.preprocessing import StandardScaler\n",
        "from sklearn.decomposition import KernelPCA\n",
        "\n",
        "# Build BOW features on train articles\n",
        "cv = CountVectorizer(binary=False, min_df=0.0, max_df=1.0)\n",
        "\n",
        "cv_train_features_0 = cv.fit_transform(train_corpus)\n",
        "cv_test_features_0 = cv.transform(test_corpus)\n",
        "print('Original number of features:', cv_train_features_0.shape[1])\n",
        "print(train_corpus.shape)\n",
        "print(test_corpus.shape)\n",
        "print(cv_train_features_0.shape)\n",
        "print(cv_test_features_0.shape)\n",
        "'''\n",
        "sc = StandardScaler(with_mean=False)\n",
        "cv_train_features_1 = sc.fit_transform(cv_train_features_0)\n",
        "cv_test_features_1 = sc.fit_transform(cv_test_features_0)\n",
        "'''\n",
        "\n",
        "kpca = KernelPCA(kernel='rbf', n_components=2) #  gamma=15\n",
        "cv_train_features = kpca.fit_transform(cv_train_features_0)\n",
        "cv_test_features = kpca.transform(cv_test_features_0)\n",
        "\n",
        "print('Reduced number of features:', cv_train_features.shape)\n",
        "print('Reduced number of features:', cv_test_features.shape)"
      ],
      "execution_count": null,
      "outputs": [
        {
          "output_type": "stream",
          "text": [
            "Original number of features: 3943\n",
            "(177,)\n",
            "(45,)\n",
            "(177, 3943)\n",
            "(45, 3943)\n",
            "Reduced number of features: (177, 2)\n",
            "Reduced number of features: (45, 2)\n"
          ],
          "name": "stdout"
        }
      ]
    },
    {
      "cell_type": "code",
      "metadata": {
        "colab": {
          "base_uri": "https://localhost:8080/"
        },
        "id": "8-WRbXQdOIm3",
        "outputId": "89e67efc-6d7d-48d2-b4b6-96dc8748b232"
      },
      "source": [
        "print(cv_train_features_0.shape)\n",
        "print(type(cv_train_features_0))\n",
        "print(cv_train_features.shape)\n",
        "print(type(cv_train_features)); print('----------')\n",
        "\n",
        "print(train_label_nums.shape)"
      ],
      "execution_count": null,
      "outputs": [
        {
          "output_type": "stream",
          "text": [
            "(177, 3943)\n",
            "<class 'scipy.sparse.csr.csr_matrix'>\n",
            "(177, 2)\n",
            "<class 'numpy.ndarray'>\n",
            "----------\n",
            "(177,)\n"
          ],
          "name": "stdout"
        }
      ]
    },
    {
      "cell_type": "code",
      "metadata": {
        "id": "kWc_T1R4Qpyf"
      },
      "source": [
        "# print(cv_train_features_0)"
      ],
      "execution_count": null,
      "outputs": []
    },
    {
      "cell_type": "code",
      "metadata": {
        "colab": {
          "base_uri": "https://localhost:8080/"
        },
        "id": "SSfxYTgIQnT7",
        "outputId": "7f10085c-2cda-4a02-abd5-4814f0005065"
      },
      "source": [
        "print(cv_train_features)"
      ],
      "execution_count": null,
      "outputs": [
        {
          "output_type": "stream",
          "text": [
            "[[-0.21680576  0.01568165  0.03857845 ...  0.01276899 -0.04197761\n",
            "   0.01527048]\n",
            " [-0.26384429  0.0238633   0.06366194 ... -0.07327477  0.05428721\n",
            "   0.24889837]\n",
            " [-0.24915348  0.01366649  0.0762795  ... -0.05268679  0.05272404\n",
            "   0.17804971]\n",
            " ...\n",
            " [-0.17155226  0.02947346 -0.01267395 ... -0.04794764 -0.07946713\n",
            "   0.01219796]\n",
            " [-0.23268919  0.01016774  0.06584037 ...  0.01857646  0.013403\n",
            "  -0.09921762]\n",
            " [ 0.28476053 -0.15196957 -0.04531051 ... -0.01512676 -0.01650369\n",
            "  -0.03512999]]\n"
          ],
          "name": "stdout"
        }
      ]
    },
    {
      "cell_type": "markdown",
      "metadata": {
        "id": "LWRtj0FjLBvT"
      },
      "source": [
        "## 1. LR"
      ]
    },
    {
      "cell_type": "code",
      "metadata": {
        "colab": {
          "base_uri": "https://localhost:8080/"
        },
        "id": "hUBG8cT2c_-Z",
        "outputId": "bb443224-24fe-4780-e7fe-d76dad92503d"
      },
      "source": [
        "train_label_nums"
      ],
      "execution_count": null,
      "outputs": [
        {
          "output_type": "execute_result",
          "data": {
            "text/plain": [
              "array([ 0,  0,  1,  0,  1,  1, -1, -1,  0,  0,  0,  0,  1,  0,  0,  0,  0,\n",
              "        0,  1,  1,  0,  0,  0,  0,  0,  0,  0, -1,  1,  0,  0,  0,  0,  1,\n",
              "        1,  0,  0,  0,  1,  0,  0,  1,  1, -1,  0,  1,  0,  0,  0,  0,  0,\n",
              "        0,  0,  0,  0,  0,  0,  0,  0,  0,  0,  0,  0,  0,  0,  0,  0, -1,\n",
              "       -1, -1,  0,  0,  1,  0,  0,  1, -1,  0,  0,  0,  0,  1,  0,  1,  0,\n",
              "        1,  0,  0,  1,  0,  0,  0,  1,  0,  0,  0, -1,  0, -1,  0, -1,  1,\n",
              "        0,  1, -1,  0,  0,  0,  0,  0,  0,  0,  1, -1, -1,  0,  0, -1,  1,\n",
              "        0,  0,  0,  0,  0, -1,  0,  0, -1, -1,  0,  0,  0,  0,  0,  0, -1,\n",
              "        1,  1,  1,  0,  0,  0,  0,  0,  0,  0,  0,  0,  0,  0,  0,  1,  0,\n",
              "       -1,  0,  0, -1, -1,  0,  0,  0,  0,  1,  0,  0, -1,  0, -1,  1,  0,\n",
              "        0,  0,  1,  0,  0,  0,  0])"
            ]
          },
          "metadata": {
            "tags": []
          },
          "execution_count": 119
        }
      ]
    },
    {
      "cell_type": "code",
      "metadata": {
        "colab": {
          "base_uri": "https://localhost:8080/"
        },
        "id": "qWgmp9gSyZSc",
        "outputId": "0285a8b4-89c6-481e-a5d2-a37366dceec7"
      },
      "source": [
        "from sklearn.linear_model import LogisticRegression\n",
        "from sklearn.model_selection import StratifiedKFold\n",
        "\n",
        "train_ = np.zeros(10)\n",
        "lr = LogisticRegression(penalty='l2', max_iter=20000, C=0.01, random_state=42)\n",
        "\n",
        "\n",
        "for i in range(10):\n",
        "\n",
        "  lr_bow_cv_scores = cross_val_score(lr, cv_train_features, train_label_nums, cv=StratifiedKFold(n_splits=5, shuffle=True))\n",
        "  lr_bow_cv_mean_score = np.mean(lr_bow_cv_scores)\n",
        "  print('CV Accuracy (5-fold):', lr_bow_cv_scores)\n",
        "  print('Mean Training CV Accuracy:', lr_bow_cv_mean_score)\n",
        "\n",
        "  train_[i] = lr_bow_cv_mean_score\n",
        "\n",
        "lr.fit(cv_train_features, train_label_nums)\n",
        "lr_tfidf_test_score = lr.score(cv_test_features, test_label_nums)\n",
        "\n",
        "print('----------')\n",
        "print('Test Accuracy:', lr_tfidf_test_score)"
      ],
      "execution_count": null,
      "outputs": [
        {
          "output_type": "stream",
          "text": [
            "CV Accuracy (5-fold): [0.69444444 0.69444444 0.68571429 0.68571429 0.68571429]\n",
            "Mean Training CV Accuracy: 0.6892063492063493\n",
            "CV Accuracy (5-fold): [0.69444444 0.69444444 0.68571429 0.68571429 0.68571429]\n",
            "Mean Training CV Accuracy: 0.6892063492063493\n",
            "CV Accuracy (5-fold): [0.69444444 0.69444444 0.68571429 0.68571429 0.68571429]\n",
            "Mean Training CV Accuracy: 0.6892063492063493\n",
            "CV Accuracy (5-fold): [0.69444444 0.69444444 0.68571429 0.68571429 0.68571429]\n",
            "Mean Training CV Accuracy: 0.6892063492063493\n",
            "CV Accuracy (5-fold): [0.69444444 0.69444444 0.68571429 0.68571429 0.68571429]\n",
            "Mean Training CV Accuracy: 0.6892063492063493\n",
            "CV Accuracy (5-fold): [0.69444444 0.69444444 0.68571429 0.68571429 0.68571429]\n",
            "Mean Training CV Accuracy: 0.6892063492063493\n",
            "CV Accuracy (5-fold): [0.69444444 0.69444444 0.68571429 0.68571429 0.68571429]\n",
            "Mean Training CV Accuracy: 0.6892063492063493\n",
            "CV Accuracy (5-fold): [0.69444444 0.69444444 0.68571429 0.68571429 0.68571429]\n",
            "Mean Training CV Accuracy: 0.6892063492063493\n",
            "CV Accuracy (5-fold): [0.69444444 0.69444444 0.68571429 0.68571429 0.68571429]\n",
            "Mean Training CV Accuracy: 0.6892063492063493\n",
            "CV Accuracy (5-fold): [0.69444444 0.69444444 0.68571429 0.68571429 0.68571429]\n",
            "Mean Training CV Accuracy: 0.6892063492063493\n",
            "----------\n",
            "Test Accuracy: 0.6888888888888889\n"
          ],
          "name": "stdout"
        }
      ]
    },
    {
      "cell_type": "code",
      "metadata": {
        "colab": {
          "base_uri": "https://localhost:8080/"
        },
        "id": "nWVOwDxwMgcH",
        "outputId": "9d2bada1-1d87-4c1b-c296-2e8f1a71586f"
      },
      "source": [
        "# C=0.01\n",
        "\n",
        "print(f'Training accuracy (mean)   = {np.mean(train_):.4f}')\n",
        "print(f'Training accuracy (median) = {np.median(train_):.4f}')"
      ],
      "execution_count": null,
      "outputs": [
        {
          "output_type": "stream",
          "text": [
            "Training accuracy (mean)   = 0.6892\n",
            "Training accuracy (median) = 0.6892\n"
          ],
          "name": "stdout"
        }
      ]
    },
    {
      "cell_type": "code",
      "metadata": {
        "id": "GPBJAaqyLvk1"
      },
      "source": [
        "# C=0.1\n",
        "\n",
        "print(f'Training accuracy (mean)   = {np.mean(train_):.4f}')\n",
        "print(f'Training accuracy (median) = {np.median(train_):.4f}')"
      ],
      "execution_count": null,
      "outputs": []
    },
    {
      "cell_type": "code",
      "metadata": {
        "colab": {
          "base_uri": "https://localhost:8080/"
        },
        "id": "aDMRhx8hyZVq",
        "outputId": "61543582-2c62-4105-ab36-0275ac8650bf"
      },
      "source": [
        "# C=0.03\n",
        "\n",
        "print(f'Training accuracy (mean)   = {np.mean(train_):.4f}')\n",
        "print(f'Training accuracy (median) = {np.median(train_):.4f}')"
      ],
      "execution_count": null,
      "outputs": [
        {
          "output_type": "stream",
          "text": [
            "Training accuracy (mean)   = 0.6892\n",
            "Training accuracy (median) = 0.6892\n"
          ],
          "name": "stdout"
        }
      ]
    },
    {
      "cell_type": "code",
      "metadata": {
        "id": "7_T7kfmCyZoB"
      },
      "source": [
        ""
      ],
      "execution_count": null,
      "outputs": []
    },
    {
      "cell_type": "markdown",
      "metadata": {
        "id": "uOpmP81Z2V0G"
      },
      "source": [
        "## 2. SVM\n"
      ]
    },
    {
      "cell_type": "code",
      "metadata": {
        "colab": {
          "base_uri": "https://localhost:8080/"
        },
        "id": "wOYNMxcP2WgK",
        "outputId": "8412027b-adf2-4619-8457-f4e27ff18af2"
      },
      "source": [
        "from sklearn.svm import SVC\n",
        "\n",
        "train_ = np.zeros(10)\n",
        "svc = SVC(kernel='rbf', gamma=1e-06, C=200) # gamma=1e-06, C=400 / gamma=1e-05, C=10\n",
        "\n",
        "for i in range(10):\n",
        "\n",
        "  svc_tfidf_cv_scores = cross_val_score(svc, cv_train_features, train_label_nums, cv=StratifiedKFold(n_splits=5, shuffle=True))\n",
        "  svc_tfidf_cv_mean_score = np.mean(svc_tfidf_cv_scores)\n",
        "  print('CV Accuracy (5-fold):', svc_tfidf_cv_scores)\n",
        "  print('Mean Training CV Accuracy:', svc_tfidf_cv_mean_score)\n",
        "\n",
        "  train_[i] = svc_tfidf_cv_mean_score\n",
        "\n",
        "svc.fit(cv_train_features, train_label_nums)\n",
        "svc_tfidf_test_score = svc.score(cv_test_features, test_label_nums)\n",
        "\n",
        "print('----------')\n",
        "print('Test Accuracy:', svc_tfidf_test_score)"
      ],
      "execution_count": null,
      "outputs": [
        {
          "output_type": "stream",
          "text": [
            "CV Accuracy (5-fold): [0.69444444 0.69444444 0.68571429 0.68571429 0.68571429]\n",
            "Mean Training CV Accuracy: 0.6892063492063493\n",
            "CV Accuracy (5-fold): [0.69444444 0.69444444 0.68571429 0.68571429 0.68571429]\n",
            "Mean Training CV Accuracy: 0.6892063492063493\n",
            "CV Accuracy (5-fold): [0.69444444 0.69444444 0.68571429 0.68571429 0.68571429]\n",
            "Mean Training CV Accuracy: 0.6892063492063493\n",
            "CV Accuracy (5-fold): [0.69444444 0.69444444 0.68571429 0.68571429 0.68571429]\n",
            "Mean Training CV Accuracy: 0.6892063492063493\n",
            "CV Accuracy (5-fold): [0.69444444 0.69444444 0.68571429 0.68571429 0.68571429]\n",
            "Mean Training CV Accuracy: 0.6892063492063493\n",
            "CV Accuracy (5-fold): [0.69444444 0.69444444 0.68571429 0.68571429 0.68571429]\n",
            "Mean Training CV Accuracy: 0.6892063492063493\n",
            "CV Accuracy (5-fold): [0.69444444 0.69444444 0.68571429 0.68571429 0.68571429]\n",
            "Mean Training CV Accuracy: 0.6892063492063493\n",
            "CV Accuracy (5-fold): [0.69444444 0.69444444 0.68571429 0.68571429 0.68571429]\n",
            "Mean Training CV Accuracy: 0.6892063492063493\n",
            "CV Accuracy (5-fold): [0.69444444 0.69444444 0.68571429 0.68571429 0.68571429]\n",
            "Mean Training CV Accuracy: 0.6892063492063493\n",
            "CV Accuracy (5-fold): [0.69444444 0.69444444 0.68571429 0.68571429 0.68571429]\n",
            "Mean Training CV Accuracy: 0.6892063492063493\n",
            "----------\n",
            "Test Accuracy: 0.6888888888888889\n"
          ],
          "name": "stdout"
        }
      ]
    },
    {
      "cell_type": "markdown",
      "metadata": {
        "id": "vhajQgtr4Lqv"
      },
      "source": [
        "## 3. RF"
      ]
    },
    {
      "cell_type": "code",
      "metadata": {
        "colab": {
          "base_uri": "https://localhost:8080/"
        },
        "id": "kYBEpB0y2azy",
        "outputId": "de0f148e-9580-48ac-ef7a-31c9f1c78202"
      },
      "source": [
        "from sklearn.ensemble import RandomForestClassifier\n",
        "\n",
        "train_ = np.zeros(10)\n",
        "rfc = RandomForestClassifier(n_estimators=550, random_state=2020, criterion = \"gini\")\n",
        "\n",
        "for i in range(10):\n",
        "\n",
        "  rfc_bow_cv_scores = cross_val_score(rfc, cv_train_features, train_label_nums, cv=StratifiedKFold(n_splits=5, shuffle=True))\n",
        "  rfc_bow_cv_mean_score = np.mean(rfc_bow_cv_scores)\n",
        "  print('CV Accuracy (5-fold):', rfc_bow_cv_scores)\n",
        "  print('Mean CV Accuracy:', rfc_bow_cv_mean_score)\n",
        "\n",
        "  train_[i] = rfc_bow_cv_mean_score\n",
        "\n",
        "rfc.fit(cv_train_features, train_label_nums)\n",
        "rfc_bow_test_score = rfc.score(cv_test_features, test_label_nums)\n",
        "\n",
        "print('----------')\n",
        "print('Test Accuracy:', rfc_bow_test_score)"
      ],
      "execution_count": null,
      "outputs": [
        {
          "output_type": "stream",
          "text": [
            "CV Accuracy (5-fold): [0.55555556 0.72222222 0.62857143 0.74285714 0.68571429]\n",
            "Mean CV Accuracy: 0.6669841269841269\n",
            "CV Accuracy (5-fold): [0.72222222 0.66666667 0.62857143 0.77142857 0.71428571]\n",
            "Mean CV Accuracy: 0.7006349206349206\n",
            "CV Accuracy (5-fold): [0.72222222 0.61111111 0.74285714 0.74285714 0.71428571]\n",
            "Mean CV Accuracy: 0.7066666666666668\n",
            "CV Accuracy (5-fold): [0.66666667 0.72222222 0.68571429 0.62857143 0.77142857]\n",
            "Mean CV Accuracy: 0.6949206349206348\n",
            "CV Accuracy (5-fold): [0.58333333 0.69444444 0.62857143 0.74285714 0.71428571]\n",
            "Mean CV Accuracy: 0.6726984126984127\n",
            "CV Accuracy (5-fold): [0.72222222 0.58333333 0.77142857 0.6        0.77142857]\n",
            "Mean CV Accuracy: 0.6896825396825397\n",
            "CV Accuracy (5-fold): [0.69444444 0.72222222 0.62857143 0.71428571 0.62857143]\n",
            "Mean CV Accuracy: 0.6776190476190476\n",
            "CV Accuracy (5-fold): [0.69444444 0.63888889 0.71428571 0.71428571 0.71428571]\n",
            "Mean CV Accuracy: 0.6952380952380952\n",
            "CV Accuracy (5-fold): [0.63888889 0.72222222 0.54285714 0.77142857 0.8       ]\n",
            "Mean CV Accuracy: 0.6950793650793651\n",
            "CV Accuracy (5-fold): [0.63888889 0.66666667 0.68571429 0.65714286 0.57142857]\n",
            "Mean CV Accuracy: 0.643968253968254\n",
            "----------\n",
            "Test Accuracy: 0.6444444444444445\n"
          ],
          "name": "stdout"
        }
      ]
    },
    {
      "cell_type": "code",
      "metadata": {
        "colab": {
          "base_uri": "https://localhost:8080/"
        },
        "id": "hXNDgx3_4tw-",
        "outputId": "0fa88a97-d621-41f9-fb39-13f5a15e8a41"
      },
      "source": [
        "# n_estimators=400\n",
        "\n",
        "print(f'Training accuracy (mean)   = {np.mean(train_):.4f}')\n",
        "print(f'Training accuracy (median) = {np.median(train_):.4f}')\n",
        "\n",
        "print('----------')\n",
        "print(f'Test accuracy = {rfc_bow_test_score:.4f}')"
      ],
      "execution_count": null,
      "outputs": [
        {
          "output_type": "stream",
          "text": [
            "Training accuracy (mean)   = 0.6843\n",
            "Training accuracy (median) = 0.6923\n",
            "----------\n",
            "Test accuracy = 0.6444\n"
          ],
          "name": "stdout"
        }
      ]
    },
    {
      "cell_type": "code",
      "metadata": {
        "colab": {
          "base_uri": "https://localhost:8080/"
        },
        "id": "B7mjFiGs6FOp",
        "outputId": "07591882-c051-4d0b-feca-8fee47736df8"
      },
      "source": [
        "# n_estimators=500\n",
        "\n",
        "print(f'Training accuracy (mean)   = {np.mean(train_):.4f}')\n",
        "print(f'Training accuracy (median) = {np.median(train_):.4f}')\n",
        "\n",
        "print('----------')\n",
        "print(f'Test accuracy = {rfc_bow_test_score:.4f}')"
      ],
      "execution_count": null,
      "outputs": [
        {
          "output_type": "stream",
          "text": [
            "Training accuracy (mean)   = 0.7553\n",
            "Training accuracy (median) = 0.7568\n",
            "----------\n",
            "Test accuracy = 0.7111\n"
          ],
          "name": "stdout"
        }
      ]
    },
    {
      "cell_type": "code",
      "metadata": {
        "colab": {
          "base_uri": "https://localhost:8080/"
        },
        "id": "R0HUDFpA7z52",
        "outputId": "31b4204c-e26f-4b49-d8ce-d73b7114365d"
      },
      "source": [
        "####\n",
        "# n_estimators=550\n",
        "\n",
        "print(f'Training accuracy (mean)   = {np.mean(train_):.4f}')\n",
        "print(f'Training accuracy (median) = {np.median(train_):.4f}')\n",
        "\n",
        "print('----------')\n",
        "print(f'Test accuracy = {rfc_bow_test_score:.4f}')"
      ],
      "execution_count": null,
      "outputs": [
        {
          "output_type": "stream",
          "text": [
            "Training accuracy (mean)   = 0.7555\n",
            "Training accuracy (median) = 0.7516\n",
            "----------\n",
            "Test accuracy = 0.7111\n"
          ],
          "name": "stdout"
        }
      ]
    },
    {
      "cell_type": "code",
      "metadata": {
        "colab": {
          "base_uri": "https://localhost:8080/"
        },
        "id": "wS4yX2da7YY7",
        "outputId": "01fcd26f-0ff5-4e62-a7e9-42b081c3a404"
      },
      "source": [
        "# n_estimators=550\n",
        "\n",
        "print(f'Training accuracy (mean)   = {np.mean(train_):.4f}')\n",
        "print(f'Training accuracy (median) = {np.median(train_):.4f}')\n",
        "\n",
        "print('----------')\n",
        "print(f'Test accuracy = {rfc_bow_test_score:.4f}')"
      ],
      "execution_count": null,
      "outputs": [
        {
          "output_type": "stream",
          "text": [
            "Training accuracy (mean)   = 0.7599\n",
            "Training accuracy (median) = 0.7600\n",
            "----------\n",
            "Test accuracy = 0.7111\n"
          ],
          "name": "stdout"
        }
      ]
    },
    {
      "cell_type": "code",
      "metadata": {
        "colab": {
          "base_uri": "https://localhost:8080/"
        },
        "id": "P-CuFj7_7E3y",
        "outputId": "41091363-d533-45bc-bc91-a4366fb48f4a"
      },
      "source": [
        "# n_estimators=600\n",
        "\n",
        "print(f'Training accuracy (mean)   = {np.mean(train_):.4f}')\n",
        "print(f'Training accuracy (median) = {np.median(train_):.4f}')\n",
        "\n",
        "print('----------')\n",
        "print(f'Test accuracy = {rfc_bow_test_score:.4f}')"
      ],
      "execution_count": null,
      "outputs": [
        {
          "output_type": "stream",
          "text": [
            "Training accuracy (mean)   = 0.7514\n",
            "Training accuracy (median) = 0.7514\n",
            "----------\n",
            "Test accuracy = 0.7111\n"
          ],
          "name": "stdout"
        }
      ]
    },
    {
      "cell_type": "markdown",
      "metadata": {
        "id": "5cHtBdWr4GqG"
      },
      "source": [
        "## 4. XGBoost"
      ]
    },
    {
      "cell_type": "code",
      "metadata": {
        "colab": {
          "base_uri": "https://localhost:8080/"
        },
        "id": "x89UIMUx2a-d",
        "outputId": "3f18c8f9-5628-468f-b369-3744a1625ec2"
      },
      "source": [
        "from xgboost import XGBClassifier\n",
        "train_ = np.zeros(10)\n",
        "xgb = XGBClassifier(booster='gbtree', n_estimators=400, min_child_weight=10, gamma=1.5, subsample=0.6, colsample_bytree=0.8, max_depth=5,\n",
        "                    learning_rate=0.1, verbosity=1, random_state=42)\n",
        "'''\n",
        "XGBClassifier(base_score=0.5, booster='gbtree', colsample_bylevel=1,\n",
        "               colsample_bynode=1, colsample_bytree=0.6, gamma=1.5,\n",
        "               learning_rate=0.1, max_delta_step=0, max_depth=3,\n",
        "               min_child_weight=10, missing=None, n_estimators=50, n_jobs=1,\n",
        "               nthread=None, objective='multi:softprob', random_state=42,\n",
        "               reg_alpha=0, reg_lambda=1, scale_pos_weight=1, seed=None,\n",
        "               silent=None, subsample=0.8, verbosity=1)\n",
        "'''\n",
        "\n",
        "for i in range(10):\n",
        "\n",
        "  xgb_bow_cv_scores = cross_val_score(xgb, cv_train_features, train_label_nums, cv=StratifiedKFold(n_splits=5, shuffle=True))\n",
        "  xgb_bow_cv_mean_score = np.mean(xgb_bow_cv_scores)\n",
        "  print('CV Accuracy (5-fold):', xgb_bow_cv_scores)\n",
        "  print('Mean CV Accuracy:', xgb_bow_cv_mean_score)\n",
        "\n",
        "  train_[i] = xgb_bow_cv_mean_score\n",
        "\n",
        "xgb.fit(cv_train_features, train_label_nums)\n",
        "xgb_bow_test_score = xgb.score(cv_test_features, test_label_nums)\n",
        "\n",
        "print('----------')\n",
        "print('Test Accuracy:', xgb_bow_test_score)"
      ],
      "execution_count": null,
      "outputs": [
        {
          "output_type": "stream",
          "text": [
            "CV Accuracy (5-fold): [0.72222222 0.72222222 0.65714286 0.74285714 0.71428571]\n",
            "Mean CV Accuracy: 0.7117460317460318\n",
            "CV Accuracy (5-fold): [0.80555556 0.77777778 0.71428571 0.65714286 0.74285714]\n",
            "Mean CV Accuracy: 0.7395238095238096\n",
            "CV Accuracy (5-fold): [0.72222222 0.75       0.6        0.77142857 0.74285714]\n",
            "Mean CV Accuracy: 0.7173015873015873\n",
            "CV Accuracy (5-fold): [0.72222222 0.80555556 0.74285714 0.68571429 0.71428571]\n",
            "Mean CV Accuracy: 0.7341269841269842\n",
            "CV Accuracy (5-fold): [0.77777778 0.69444444 0.74285714 0.71428571 0.8       ]\n",
            "Mean CV Accuracy: 0.7458730158730159\n",
            "CV Accuracy (5-fold): [0.75       0.80555556 0.74285714 0.71428571 0.71428571]\n",
            "Mean CV Accuracy: 0.7453968253968254\n",
            "CV Accuracy (5-fold): [0.72222222 0.72222222 0.74285714 0.74285714 0.74285714]\n",
            "Mean CV Accuracy: 0.7346031746031747\n",
            "CV Accuracy (5-fold): [0.69444444 0.69444444 0.77142857 0.71428571 0.71428571]\n",
            "Mean CV Accuracy: 0.7177777777777778\n",
            "CV Accuracy (5-fold): [0.80555556 0.72222222 0.71428571 0.68571429 0.74285714]\n",
            "Mean CV Accuracy: 0.7341269841269842\n",
            "CV Accuracy (5-fold): [0.69444444 0.69444444 0.71428571 0.71428571 0.77142857]\n",
            "Mean CV Accuracy: 0.7177777777777778\n",
            "----------\n",
            "Test Accuracy: 0.7333333333333333\n"
          ],
          "name": "stdout"
        }
      ]
    },
    {
      "cell_type": "code",
      "metadata": {
        "id": "1Jy-6YaZ2bHp"
      },
      "source": [
        ""
      ],
      "execution_count": null,
      "outputs": []
    },
    {
      "cell_type": "code",
      "metadata": {
        "id": "LhO9ZBmN2bQ6"
      },
      "source": [
        ""
      ],
      "execution_count": null,
      "outputs": []
    },
    {
      "cell_type": "code",
      "metadata": {
        "id": "vwlk4hv72baF"
      },
      "source": [
        ""
      ],
      "execution_count": null,
      "outputs": []
    },
    {
      "cell_type": "code",
      "metadata": {
        "id": "g4CvTsM62bkO"
      },
      "source": [
        ""
      ],
      "execution_count": null,
      "outputs": []
    },
    {
      "cell_type": "markdown",
      "metadata": {
        "id": "xkNNj5FRb4gg"
      },
      "source": [
        ""
      ]
    },
    {
      "cell_type": "code",
      "metadata": {
        "id": "PS-K6XzDjyc2"
      },
      "source": [
        "kpca = KernelPCA(kernel=\"rbf\",n_components=154, gamma=None, fit_inverse_transform=True, random_state = 2019, n_jobs=1)\n",
        "kpca.fit(X_m[:10000,:])\n",
        "X_kpca = kpca.transform(X_m)\n",
        "X_kpca_reconst = kpca.inverse_transform(X_kpca)"
      ],
      "execution_count": null,
      "outputs": []
    },
    {
      "cell_type": "code",
      "metadata": {
        "id": "EopK_HBQyZsF"
      },
      "source": [
        "mds = MDS(n_components=154, n_init=12, max_iter=1200, metric=True, n_jobs=4, random_state=2019)\n",
        "X_mds = mds.fit_transform(X_m[:1000,:])"
      ],
      "execution_count": null,
      "outputs": []
    },
    {
      "cell_type": "code",
      "metadata": {
        "id": "rohs4850yVxm"
      },
      "source": [
        "isomap = Isomap(n_components=154, n_jobs = 4, n_neighbors = 5)\n",
        "isomap.fit(X_m[0:5000,:])\n",
        "X_isomap = isomap.transform(X_m)"
      ],
      "execution_count": null,
      "outputs": []
    },
    {
      "cell_type": "markdown",
      "metadata": {
        "id": "3qbngVIPjjcC"
      },
      "source": [
        "T-distributed Stochastic Neighbor Embedding [T-SNE]\n",
        "T-SNE reduces dimensionality while trying to keep similar instances close and dissimilar instances apart. It is mostly used for visualization, in particular to visualize clusters of instances in high-dimensional space."
      ]
    },
    {
      "cell_type": "code",
      "metadata": {
        "id": "qoM43EUYwKXK"
      },
      "source": [
        "from sklearn.manifold import TSNE\n",
        "\n",
        "tsne = TSNE(n_components=2,learning_rate=300,perplexity = 30,early_exaggeration = 12,init = 'random',  random_state=2019)\n",
        "X_tsne = tsne.fit_transform(cv_train_features_0)"
      ],
      "execution_count": null,
      "outputs": []
    },
    {
      "cell_type": "code",
      "metadata": {
        "colab": {
          "base_uri": "https://localhost:8080/",
          "height": 492
        },
        "id": "cihIriX8N_Fd",
        "outputId": "f5e04c5c-e780-40fb-99a0-9846b117c5db"
      },
      "source": [
        "'''t-SNE'''\n",
        "from sklearn.manifold import TSNE\n",
        "import matplotlib.pyplot as plt\n",
        "\n",
        "\n",
        "tsne = TSNE(n_components=2,learning_rate=300,perplexity = 30,early_exaggeration = 12,init = 'random',  random_state=2019)\n",
        "X_tsne = tsne.fit_transform(cv_train_features_0)\n",
        "\n",
        "print(\"Org data dimension is {}. Embedded data dimension is {}\".format(cv_train_features_0.shape[-1], X_tsne.shape[-1]))\n",
        "\n",
        "'''嵌入空间可视化'''\n",
        "x_min, x_max = X_tsne.min(0), X_tsne.max(0)\n",
        "X_norm = (X_tsne - x_min) / (x_max - x_min)  # 归一化\n",
        "plt.figure(figsize=(8, 8))\n",
        "for i in range(X_norm.shape[0]):\n",
        "    plt.text(X_norm[i, 0], X_norm[i, 1], str(train_label_nums[i]), color=plt.cm.Set1(train_label_nums[i]), \n",
        "             fontdict={'weight': 'bold', 'size': 9})\n",
        "plt.xticks([])\n",
        "plt.yticks([])\n",
        "plt.show()"
      ],
      "execution_count": null,
      "outputs": [
        {
          "output_type": "stream",
          "text": [
            "Org data dimension is 3943. Embedded data dimension is 2\n"
          ],
          "name": "stdout"
        },
        {
          "output_type": "display_data",
          "data": {
            "image/png": "[encoded data removed]",
            "text/plain": [
              "<Figure size 576x576 with 1 Axes>"
            ]
          },
          "metadata": {
            "tags": []
          }
        }
      ]
    },
    {
      "cell_type": "code",
      "metadata": {
        "colab": {
          "base_uri": "https://localhost:8080/",
          "height": 592
        },
        "id": "K0aI0tCSAECw",
        "outputId": "70d82b35-ef6e-4805-9419-ee36c97d19d5"
      },
      "source": [
        "#t-SNE\n",
        "X_tsne = TSNE(n_components=2, init='random', random_state=5, verbose=1).fit_transform(cv_train_features_0)\n",
        "\n",
        "#Data Visualization\n",
        "x_min, x_max = X_tsne.min(0), X_tsne.max(0)\n",
        "X_norm = (X_tsne - x_min) / (x_max - x_min)  #Normalize\n",
        "plt.figure(figsize=(8, 8))\n",
        "for i in range(X_norm.shape[0]):\n",
        "    plt.text(X_norm[i, 0], X_norm[i, 1], str(train_label_nums[i]), color=plt.cm.Set1(train_label_nums[i]), \n",
        "             fontdict={'weight': 'bold', 'size': 9})\n",
        "plt.xticks([])\n",
        "plt.yticks([])\n",
        "plt.show()"
      ],
      "execution_count": null,
      "outputs": [
        {
          "output_type": "stream",
          "text": [
            "[t-SNE] Computing 91 nearest neighbors...\n",
            "[t-SNE] Indexed 177 samples in 0.001s...\n",
            "[t-SNE] Computed neighbors for 177 samples in 0.056s...\n",
            "[t-SNE] Computed conditional probabilities for sample 177 / 177\n",
            "[t-SNE] Mean sigma: 37.030818\n",
            "[t-SNE] KL divergence after 250 iterations with early exaggeration: 54.278015\n",
            "[t-SNE] KL divergence after 700 iterations: 0.215040\n"
          ],
          "name": "stdout"
        },
        {
          "output_type": "display_data",
          "data": {
            "image/png": "[encoded data removed]",
            "text/plain": [
              "<Figure size 576x576 with 1 Axes>"
            ]
          },
          "metadata": {
            "tags": []
          }
        }
      ]
    },
    {
      "cell_type": "code",
      "metadata": {
        "colab": {
          "base_uri": "https://localhost:8080/"
        },
        "id": "lz5o3E4AOxsi",
        "outputId": "25415917-90fc-4696-8aee-d973a2e1fb18"
      },
      "source": [
        "print(train_label_nums)\n",
        "print(train_label_nums.shape)\n",
        "\n",
        "train_label_nums_02 = train_label_nums\n",
        "\n",
        "for i in range(train_label_nums_02.shape[0]):\n",
        "  if train_label_nums_02[i] == -1:\n",
        "    train_label_nums_02[i] = 2\n",
        "\n",
        "print(train_label_nums_02)"
      ],
      "execution_count": null,
      "outputs": [
        {
          "output_type": "stream",
          "text": [
            "[0 0 1 0 1 1 2 2 0 0 0 0 1 0 0 0 0 0 1 1 0 0 0 0 0 0 0 2 1 0 0 0 0 1 1 0 0\n",
            " 0 1 0 0 1 1 2 0 1 0 0 0 0 0 0 0 0 0 0 0 0 0 0 0 0 0 0 0 0 0 2 2 2 0 0 1 0\n",
            " 0 1 2 0 0 0 0 1 0 1 0 1 0 0 1 0 0 0 1 0 0 0 2 0 2 0 2 1 0 1 2 0 0 0 0 0 0\n",
            " 0 1 2 2 0 0 2 1 0 0 0 0 0 2 0 0 2 2 0 0 0 0 0 0 2 1 1 1 0 0 0 0 0 0 0 0 0\n",
            " 0 0 0 1 0 2 0 0 2 2 0 0 0 0 1 0 0 2 0 2 1 0 0 0 1 0 0 0 0]\n",
            "(177,)\n",
            "[0 0 1 0 1 1 2 2 0 0 0 0 1 0 0 0 0 0 1 1 0 0 0 0 0 0 0 2 1 0 0 0 0 1 1 0 0\n",
            " 0 1 0 0 1 1 2 0 1 0 0 0 0 0 0 0 0 0 0 0 0 0 0 0 0 0 0 0 0 0 2 2 2 0 0 1 0\n",
            " 0 1 2 0 0 0 0 1 0 1 0 1 0 0 1 0 0 0 1 0 0 0 2 0 2 0 2 1 0 1 2 0 0 0 0 0 0\n",
            " 0 1 2 2 0 0 2 1 0 0 0 0 0 2 0 0 2 2 0 0 0 0 0 0 2 1 1 1 0 0 0 0 0 0 0 0 0\n",
            " 0 0 0 1 0 2 0 0 2 2 0 0 0 0 1 0 0 2 0 2 1 0 0 0 1 0 0 0 0]\n"
          ],
          "name": "stdout"
        }
      ]
    },
    {
      "cell_type": "code",
      "metadata": {
        "colab": {
          "base_uri": "https://localhost:8080/"
        },
        "id": "Ejs8m3HhQuWi",
        "outputId": "70525315-9682-4dbd-fb10-dd054d6a1391"
      },
      "source": [
        "train_label_nums"
      ],
      "execution_count": null,
      "outputs": [
        {
          "output_type": "execute_result",
          "data": {
            "text/plain": [
              "array([0, 0, 1, 0, 1, 1, 2, 2, 0, 0, 0, 0, 1, 0, 0, 0, 0, 0, 1, 1, 0, 0,\n",
              "       0, 0, 0, 0, 0, 2, 1, 0, 0, 0, 0, 1, 1, 0, 0, 0, 1, 0, 0, 1, 1, 2,\n",
              "       0, 1, 0, 0, 0, 0, 0, 0, 0, 0, 0, 0, 0, 0, 0, 0, 0, 0, 0, 0, 0, 0,\n",
              "       0, 2, 2, 2, 0, 0, 1, 0, 0, 1, 2, 0, 0, 0, 0, 1, 0, 1, 0, 1, 0, 0,\n",
              "       1, 0, 0, 0, 1, 0, 0, 0, 2, 0, 2, 0, 2, 1, 0, 1, 2, 0, 0, 0, 0, 0,\n",
              "       0, 0, 1, 2, 2, 0, 0, 2, 1, 0, 0, 0, 0, 0, 2, 0, 0, 2, 2, 0, 0, 0,\n",
              "       0, 0, 0, 2, 1, 1, 1, 0, 0, 0, 0, 0, 0, 0, 0, 0, 0, 0, 0, 1, 0, 2,\n",
              "       0, 0, 2, 2, 0, 0, 0, 0, 1, 0, 0, 2, 0, 2, 1, 0, 0, 0, 1, 0, 0, 0,\n",
              "       0])"
            ]
          },
          "metadata": {
            "tags": []
          },
          "execution_count": 34
        }
      ]
    },
    {
      "cell_type": "code",
      "metadata": {
        "colab": {
          "base_uri": "https://localhost:8080/",
          "height": 531
        },
        "id": "DwJjKkj-MjNz",
        "outputId": "ade35071-e0a9-4b2f-f4c4-b6ed7c5740d6"
      },
      "source": [
        "#t-SNE\n",
        "\n",
        "from sklearn.manifold import TSNE\n",
        "import matplotlib.pyplot as plt\n",
        "\n",
        "X_tsne = TSNE(n_components=2,learning_rate=300,perplexity = 30,early_exaggeration = 12,init = 'random',  random_state=2019).fit_transform(cv_train_features_0)\n",
        "\n",
        "#Data Visualization\n",
        "x_min, x_max = X_tsne.min(0), X_tsne.max(0)\n",
        "X_norm = (X_tsne - x_min) / (x_max - x_min)  #Normalize\n",
        "\n",
        "plt.figure(figsize=(10, 9))\n",
        "for i in range(X_norm.shape[0]):\n",
        "    plt.text(X_norm[i, 0], X_norm[i, 1], str(train_label_nums[i]), color=plt.cm.Set1(train_label_nums_02[i]), \n",
        "             fontdict={'weight': 'bold', 'size': 9})\n",
        "plt.xticks([])\n",
        "plt.yticks([])\n",
        "plt.show()"
      ],
      "execution_count": null,
      "outputs": [
        {
          "output_type": "display_data",
          "data": {
            "image/png": "[encoded data removed]",
            "text/plain": [
              "<Figure size 720x648 with 1 Axes>"
            ]
          },
          "metadata": {
            "tags": []
          }
        }
      ]
    },
    {
      "cell_type": "code",
      "metadata": {
        "colab": {
          "base_uri": "https://localhost:8080/",
          "height": 437
        },
        "id": "4OJa7clY7tMy",
        "outputId": "dee74acf-5b92-4c26-af4d-7b06b9c8f777"
      },
      "source": [
        "import pandas\n",
        "\n",
        "df = pandas.DataFrame(dict(Feature_1=X_tsne[:,0], Feature_2=X_tsne[:,1], label=train_label_nums))\n",
        "\n",
        "df.plot(x=\"Feature_1\", y=\"Feature_2\", kind='scatter', c='label', figsize=(9,7));"
      ],
      "execution_count": null,
      "outputs": [
        {
          "output_type": "display_data",
          "data": {
            "text/plain": [
              "<Figure size 1296x720 with 0 Axes>"
            ]
          },
          "metadata": {
            "tags": []
          }
        },
        {
          "output_type": "display_data",
          "data": {
            "image/png": "[encoded data removed]",
            "text/plain": [
              "<Figure size 648x504 with 2 Axes>"
            ]
          },
          "metadata": {
            "tags": []
          }
        }
      ]
    },
    {
      "cell_type": "markdown",
      "metadata": {
        "id": "CMvFOAn7SZeU"
      },
      "source": [
        "## t-SNE"
      ]
    },
    {
      "cell_type": "code",
      "metadata": {
        "colab": {
          "base_uri": "https://localhost:8080/",
          "height": 421
        },
        "id": "4VcK-tGh_nM2",
        "outputId": "edebf25d-be87-4984-8e5d-2ede39c30de0"
      },
      "source": [
        "import pandas\n",
        "from sklearn.manifold import TSNE\n",
        "\n",
        "tsne = TSNE(n_components=2,learning_rate=300,perplexity = 30,early_exaggeration = 12,init = 'random',  random_state=2019)\n",
        "X_tsne = tsne.fit_transform(cv_train_features_0)\n",
        "\n",
        "df = pandas.DataFrame(dict(Feature_1=X_tsne[:,0], Feature_2=X_tsne[:,1], label=train_label_nums))\n",
        "\n",
        "df.plot(x=\"Feature_1\", y=\"Feature_2\", kind='scatter', c='label', colormap='coolwarm', figsize=(9.5,7));"
      ],
      "execution_count": null,
      "outputs": [
        {
          "output_type": "display_data",
          "data": {
            "image/png": "[encoded data removed]",
            "text/plain": [
              "<Figure size 684x504 with 2 Axes>"
            ]
          },
          "metadata": {
            "tags": []
          }
        }
      ]
    },
    {
      "cell_type": "code",
      "metadata": {
        "colab": {
          "base_uri": "https://localhost:8080/",
          "height": 374
        },
        "id": "Lm-ZIWfZPQ07",
        "outputId": "46fbfe80-5f44-4c27-e36e-fceaee0b9c72"
      },
      "source": [
        "from sklearn.cluster import KMeans\n",
        "import matplotlib.pyplot as plt\n",
        "\n",
        "tsne = TSNE(n_components=2,learning_rate=300,perplexity = 30,early_exaggeration = 12,init = 'random',  random_state=2019)\n",
        "X_tsne = tsne.fit_transform(cv_train_features_0)\n",
        "\n",
        "kmeans = KMeans(n_clusters=3, random_state=2020)\n",
        "clusters = kmeans.fit_predict(X_tsne)\n",
        "\n",
        "plt.figure(figsize=(8,6))\n",
        "plt.scatter(X_tsne[:,0],X_tsne[:,1], s=50, c=clusters, cmap='winter');"
      ],
      "execution_count": null,
      "outputs": [
        {
          "output_type": "display_data",
          "data": {
            "image/png": "[encoded data removed]",
            "text/plain": [
              "<Figure size 576x432 with 1 Axes>"
            ]
          },
          "metadata": {
            "tags": []
          }
        }
      ]
    },
    {
      "cell_type": "code",
      "metadata": {
        "colab": {
          "base_uri": "https://localhost:8080/"
        },
        "id": "VWlmKQ5LQ5x5",
        "outputId": "b29c239a-145f-4e77-8311-6d815cd999af"
      },
      "source": [
        "from sklearn.metrics import accuracy_score\n",
        "from scipy.stats import mode\n",
        "\n",
        "labels = np.zeros_like(clusters)\n",
        "\n",
        "for i in range(10):\n",
        "  mask = (clusters == i)\n",
        "  labels[mask] = mode(train_label_nums[mask])[0]\n",
        "\n",
        "accuracy_score(train_label_nums, labels)"
      ],
      "execution_count": null,
      "outputs": [
        {
          "output_type": "execute_result",
          "data": {
            "text/plain": [
              "0.6892655367231638"
            ]
          },
          "metadata": {
            "tags": []
          },
          "execution_count": 143
        }
      ]
    },
    {
      "cell_type": "markdown",
      "metadata": {
        "id": "7tAX6xgnSdkv"
      },
      "source": [
        "## Isomap"
      ]
    },
    {
      "cell_type": "code",
      "metadata": {
        "colab": {
          "base_uri": "https://localhost:8080/",
          "height": 421
        },
        "id": "VB3TC6-DBNwl",
        "outputId": "ea982074-a15a-43e3-ccdf-f1e204e3d936"
      },
      "source": [
        "import pandas\n",
        "from sklearn.manifold import TSNE, Isomap\n",
        "\n",
        "isomap = Isomap(n_components=2, n_jobs = 4, n_neighbors = 5)\n",
        "X_isomap = isomap.fit_transform(cv_train_features_0)\n",
        "\n",
        "df = pandas.DataFrame(dict(Feature_1=X_isomap[:,0], Feature_2=X_isomap[:,1], label=train_label_nums))\n",
        "\n",
        "df.plot(x=\"Feature_1\", y=\"Feature_2\", kind='scatter', c='label', colormap='coolwarm', figsize=(9.5,7));"
      ],
      "execution_count": null,
      "outputs": [
        {
          "output_type": "display_data",
          "data": {
            "image/png": "[encoded data removed]",
            "text/plain": [
              "<Figure size 684x504 with 2 Axes>"
            ]
          },
          "metadata": {
            "tags": []
          }
        }
      ]
    },
    {
      "cell_type": "code",
      "metadata": {
        "colab": {
          "base_uri": "https://localhost:8080/",
          "height": 374
        },
        "id": "959qNEvZBN5M",
        "outputId": "6142dd4f-be40-4860-f41e-6daffed508de"
      },
      "source": [
        "from sklearn.cluster import KMeans\n",
        "import matplotlib.pyplot as plt\n",
        "\n",
        "kmeans = KMeans(n_clusters=3, random_state=2020)\n",
        "clusters = kmeans.fit_predict(X_isomap)\n",
        "\n",
        "plt.figure(figsize=(8,6))\n",
        "plt.scatter(X_isomap[:,0],X_isomap[:,1], s=50, c=clusters, cmap='winter');"
      ],
      "execution_count": null,
      "outputs": [
        {
          "output_type": "display_data",
          "data": {
            "image/png": "[encoded data removed]",
            "text/plain": [
              "<Figure size 576x432 with 1 Axes>"
            ]
          },
          "metadata": {
            "tags": []
          }
        }
      ]
    },
    {
      "cell_type": "code",
      "metadata": {
        "colab": {
          "base_uri": "https://localhost:8080/"
        },
        "id": "rpd43s4wBOC6",
        "outputId": "db70a35c-d331-4f29-808a-0830cbec92fd"
      },
      "source": [
        "from sklearn.metrics import accuracy_score\n",
        "from scipy.stats import mode\n",
        "\n",
        "labels = np.zeros_like(clusters)\n",
        "\n",
        "for i in range(10):\n",
        "  mask = (clusters == i)\n",
        "  labels[mask] = mode(train_label_nums[mask])[0]\n",
        "\n",
        "accuracy_score(train_label_nums, labels)"
      ],
      "execution_count": null,
      "outputs": [
        {
          "output_type": "execute_result",
          "data": {
            "text/plain": [
              "0.6892655367231638"
            ]
          },
          "metadata": {
            "tags": []
          },
          "execution_count": 46
        }
      ]
    },
    {
      "cell_type": "markdown",
      "metadata": {
        "id": "rmRiuYClSwj5"
      },
      "source": [
        "## linear PCA"
      ]
    },
    {
      "cell_type": "code",
      "metadata": {
        "colab": {
          "base_uri": "https://localhost:8080/",
          "height": 421
        },
        "id": "VZ3dBu4cQkH9",
        "outputId": "4c34060a-867b-4dcf-8e3d-9cbae66d7524"
      },
      "source": [
        "import pandas\n",
        "from sklearn.manifold import TSNE, Isomap\n",
        "from sklearn.decomposition import KernelPCA\n",
        "\n",
        "kpca = KernelPCA(kernel=\"linear\",n_components=2, gamma=None, random_state = 2019, n_jobs=1)\n",
        "X_kpca = kpca.fit_transform(cv_train_features_0)\n",
        "\n",
        "'''\n",
        "kpca = KernelPCA(kernel='rbf', n_components=50) #  gamma=15\n",
        "cv_train_features = kpca.fit_transform(cv_train_features_0)\n",
        "cv_test_features = kpca.transform(cv_test_features_0)\n",
        "'''\n",
        "\n",
        "df = pandas.DataFrame(dict(Feature_1=X_kpca[:,0], Feature_2=X_kpca[:,1], label=train_label_nums))\n",
        "\n",
        "df.plot(x=\"Feature_1\", y=\"Feature_2\", kind='scatter', c='label', colormap='coolwarm', figsize=(9.5,7));"
      ],
      "execution_count": null,
      "outputs": [
        {
          "output_type": "display_data",
          "data": {
            "image/png": "[encoded data removed]",
            "text/plain": [
              "<Figure size 684x504 with 2 Axes>"
            ]
          },
          "metadata": {
            "tags": []
          }
        }
      ]
    },
    {
      "cell_type": "code",
      "metadata": {
        "colab": {
          "base_uri": "https://localhost:8080/",
          "height": 374
        },
        "id": "iFClXflUQtXc",
        "outputId": "d95573db-aafb-4e8d-cd7f-d566ed01ecb1"
      },
      "source": [
        "from sklearn.cluster import KMeans\n",
        "import matplotlib.pyplot as plt\n",
        "\n",
        "kmeans = KMeans(n_clusters=3, random_state=2020)\n",
        "clusters = kmeans.fit_predict(X_kpca)\n",
        "\n",
        "plt.figure(figsize=(8,6))\n",
        "plt.scatter(X_kpca[:,0],X_kpca[:,1], s=50, c=clusters, cmap='winter');"
      ],
      "execution_count": null,
      "outputs": [
        {
          "output_type": "display_data",
          "data": {
            "image/png": "[encoded data removed]",
            "text/plain": [
              "<Figure size 576x432 with 1 Axes>"
            ]
          },
          "metadata": {
            "tags": []
          }
        }
      ]
    },
    {
      "cell_type": "markdown",
      "metadata": {
        "id": "pf2bkiSSS0rG"
      },
      "source": [
        "## poly PCA"
      ]
    },
    {
      "cell_type": "code",
      "metadata": {
        "colab": {
          "base_uri": "https://localhost:8080/",
          "height": 421
        },
        "id": "WDn2P2akS5sZ",
        "outputId": "8b8e2d3e-76e7-4540-c042-40ddfc13a179"
      },
      "source": [
        "import pandas\n",
        "from sklearn.manifold import TSNE, Isomap\n",
        "from sklearn.decomposition import KernelPCA\n",
        "\n",
        "kpca = KernelPCA(kernel=\"poly\",n_components=2, gamma=None, random_state = 2019, n_jobs=1)\n",
        "X_kpca = kpca.fit_transform(cv_train_features_0)\n",
        "\n",
        "'''\n",
        "kpca = KernelPCA(kernel='rbf', n_components=50) #  gamma=15\n",
        "cv_train_features = kpca.fit_transform(cv_train_features_0)\n",
        "cv_test_features = kpca.transform(cv_test_features_0)\n",
        "'''\n",
        "\n",
        "df = pandas.DataFrame(dict(Feature_1=X_kpca[:,0], Feature_2=X_kpca[:,1], label=train_label_nums))\n",
        "\n",
        "df.plot(x=\"Feature_1\", y=\"Feature_2\", kind='scatter', c='label', colormap='coolwarm', figsize=(9.5,7));"
      ],
      "execution_count": null,
      "outputs": [
        {
          "output_type": "display_data",
          "data": {
            "image/png": "[encoded data removed]",
            "text/plain": [
              "<Figure size 684x504 with 2 Axes>"
            ]
          },
          "metadata": {
            "tags": []
          }
        }
      ]
    },
    {
      "cell_type": "markdown",
      "metadata": {
        "id": "eePATdXaS5DK"
      },
      "source": [
        "sigmoid PCA"
      ]
    },
    {
      "cell_type": "code",
      "metadata": {
        "colab": {
          "base_uri": "https://localhost:8080/",
          "height": 421
        },
        "id": "obc-WKdqTZVP",
        "outputId": "2a4df6ee-02eb-49ad-87dc-21e20ea8785c"
      },
      "source": [
        "import pandas\n",
        "from sklearn.manifold import TSNE, Isomap\n",
        "from sklearn.decomposition import KernelPCA\n",
        "\n",
        "kpca = KernelPCA(kernel=\"sigmoid\",n_components=2, gamma=None, random_state = 2019, n_jobs=1)\n",
        "X_kpca = kpca.fit_transform(cv_train_features_0)\n",
        "\n",
        "'''\n",
        "kpca = KernelPCA(kernel='rbf', n_components=50) #  gamma=15\n",
        "cv_train_features = kpca.fit_transform(cv_train_features_0)\n",
        "cv_test_features = kpca.transform(cv_test_features_0)\n",
        "'''\n",
        "\n",
        "df = pandas.DataFrame(dict(Feature_1=X_kpca[:,0], Feature_2=X_kpca[:,1], label=train_label_nums))\n",
        "\n",
        "df.plot(x=\"Feature_1\", y=\"Feature_2\", kind='scatter', c='label', colormap='coolwarm', figsize=(9.5,7));"
      ],
      "execution_count": null,
      "outputs": [
        {
          "output_type": "display_data",
          "data": {
            "image/png": "[encoded data removed]",
            "text/plain": [
              "<Figure size 684x504 with 2 Axes>"
            ]
          },
          "metadata": {
            "tags": []
          }
        }
      ]
    },
    {
      "cell_type": "markdown",
      "metadata": {
        "id": "DKl8sTnuS-Ja"
      },
      "source": [
        ""
      ]
    },
    {
      "cell_type": "code",
      "metadata": {
        "colab": {
          "base_uri": "https://localhost:8080/",
          "height": 421
        },
        "id": "5gAJ7hbgCS40",
        "outputId": "8e7d00b1-fd8a-4054-c565-40f6550e9c0f"
      },
      "source": [
        "import pandas\n",
        "from sklearn.manifold import TSNE, Isomap\n",
        "from sklearn.decomposition import KernelPCA\n",
        "\n",
        "kpca = KernelPCA(kernel=\"rbf\",n_components=2, gamma=None, random_state = 2019, n_jobs=1)\n",
        "X_kpca = kpca.fit_transform(cv_train_features_0)\n",
        "\n",
        "'''\n",
        "kpca = KernelPCA(kernel='rbf', n_components=50) #  gamma=15\n",
        "cv_train_features = kpca.fit_transform(cv_train_features_0)\n",
        "cv_test_features = kpca.transform(cv_test_features_0)\n",
        "'''\n",
        "\n",
        "df = pandas.DataFrame(dict(Feature_1=X_kpca[:,0], Feature_2=X_kpca[:,1], label=train_label_nums))\n",
        "\n",
        "df.plot(x=\"Feature_1\", y=\"Feature_2\", kind='scatter', c='label', colormap='coolwarm', figsize=(9.5,7));"
      ],
      "execution_count": null,
      "outputs": [
        {
          "output_type": "display_data",
          "data": {
            "image/png": "[encoded data removed]",
            "text/plain": [
              "<Figure size 684x504 with 2 Axes>"
            ]
          },
          "metadata": {
            "tags": []
          }
        }
      ]
    },
    {
      "cell_type": "code",
      "metadata": {
        "colab": {
          "base_uri": "https://localhost:8080/",
          "height": 374
        },
        "id": "-a1UVrB7BOMb",
        "outputId": "fa567574-5282-4154-ca24-84a01ad594a7"
      },
      "source": [
        "from sklearn.cluster import KMeans\n",
        "import matplotlib.pyplot as plt\n",
        "\n",
        "kmeans = KMeans(n_clusters=3, random_state=2020)\n",
        "clusters = kmeans.fit_predict(X_kpca)\n",
        "\n",
        "plt.figure(figsize=(8,6))\n",
        "plt.scatter(X_kpca[:,0],X_kpca[:,1], s=50, c=clusters, cmap='winter');"
      ],
      "execution_count": null,
      "outputs": [
        {
          "output_type": "display_data",
          "data": {
            "image/png": "[encoded data removed]",
            "text/plain": [
              "<Figure size 576x432 with 1 Axes>"
            ]
          },
          "metadata": {
            "tags": []
          }
        }
      ]
    },
    {
      "cell_type": "code",
      "metadata": {
        "colab": {
          "base_uri": "https://localhost:8080/"
        },
        "id": "IKsapwFJGXIH",
        "outputId": "60a27a65-083b-4c7e-cd7d-e12a4d44ee07"
      },
      "source": [
        "print(clusters)\n",
        "print(clusters.shape)"
      ],
      "execution_count": null,
      "outputs": [
        {
          "output_type": "stream",
          "text": [
            "[1 1 1 2 0 0 0 0 2 1 1 1 0 2 1 1 1 2 0 0 1 1 1 0 2 1 0 1 2 2 1 0 1 0 1 0 0\n",
            " 2 0 2 0 0 1 1 2 0 1 1 2 2 2 2 1 1 1 1 0 0 1 2 1 1 2 1 1 0 1 0 1 2 2 0 0 1\n",
            " 0 0 1 1 1 1 2 0 1 0 1 2 0 1 1 1 1 0 0 1 2 2 0 1 0 1 1 0 1 0 1 1 1 2 0 2 1\n",
            " 1 1 1 0 0 2 1 2 1 0 0 1 2 1 1 0 1 0 1 1 1 2 1 2 0 1 2 0 0 2 2 1 1 1 0 1 2\n",
            " 2 1 0 0 2 2 1 1 0 2 1 1 1 1 1 1 0 1 0 2 2 0 2 2 1 1 1 1 2]\n",
            "(177,)\n"
          ],
          "name": "stdout"
        }
      ]
    },
    {
      "cell_type": "code",
      "metadata": {
        "colab": {
          "base_uri": "https://localhost:8080/"
        },
        "id": "x-J8trhaMIxD",
        "outputId": "6e9552d8-98f5-4272-e4d7-c39677da065e"
      },
      "source": [
        "print(train_label_nums)\n",
        "print(train_label_nums.shape)\n",
        "print(train_label_nums.shape[0])"
      ],
      "execution_count": null,
      "outputs": [
        {
          "output_type": "stream",
          "text": [
            "[ 0  0  1  0  1  1 -1 -1  0  0  0  0  1  0  0  0  0  0  1  1  0  0  0  0\n",
            "  0  0  0 -1  1  0  0  0  0  1  1  0  0  0  1  0  0  1  1 -1  0  1  0  0\n",
            "  0  0  0  0  0  0  0  0  0  0  0  0  0  0  0  0  0  0  0 -1 -1 -1  0  0\n",
            "  1  0  0  1 -1  0  0  0  0  1  0  1  0  1  0  0  1  0  0  0  1  0  0  0\n",
            " -1  0 -1  0 -1  1  0  1 -1  0  0  0  0  0  0  0  1 -1 -1  0  0 -1  1  0\n",
            "  0  0  0  0 -1  0  0 -1 -1  0  0  0  0  0  0 -1  1  1  1  0  0  0  0  0\n",
            "  0  0  0  0  0  0  0  1  0 -1  0  0 -1 -1  0  0  0  0  1  0  0 -1  0 -1\n",
            "  1  0  0  0  1  0  0  0  0]\n",
            "(177,)\n",
            "177\n"
          ],
          "name": "stdout"
        }
      ]
    },
    {
      "cell_type": "code",
      "metadata": {
        "colab": {
          "base_uri": "https://localhost:8080/"
        },
        "id": "GUfX0lIvGuEv",
        "outputId": "d1617e13-5e95-45b7-e2cf-2ab684987deb"
      },
      "source": [
        "print(train_label_nums)\n",
        "print(train_label_nums.shape)\n",
        "\n",
        "train_label_nums_02 = train_label_nums\n",
        "\n",
        "for i in range(train_label_nums_02.shape[0]):\n",
        "  if train_label_nums_02[i] == -1:\n",
        "    train_label_nums_02[i] = 2\n",
        "\n",
        "print(train_label_nums_02)"
      ],
      "execution_count": null,
      "outputs": [
        {
          "output_type": "stream",
          "text": [
            "[ 0  0  1  0  1  1 -1 -1  0  0  0  0  1  0  0  0  0  0  1  1  0  0  0  0\n",
            "  0  0  0 -1  1  0  0  0  0  1  1  0  0  0  1  0  0  1  1 -1  0  1  0  0\n",
            "  0  0  0  0  0  0  0  0  0  0  0  0  0  0  0  0  0  0  0 -1 -1 -1  0  0\n",
            "  1  0  0  1 -1  0  0  0  0  1  0  1  0  1  0  0  1  0  0  0  1  0  0  0\n",
            " -1  0 -1  0 -1  1  0  1 -1  0  0  0  0  0  0  0  1 -1 -1  0  0 -1  1  0\n",
            "  0  0  0  0 -1  0  0 -1 -1  0  0  0  0  0  0 -1  1  1  1  0  0  0  0  0\n",
            "  0  0  0  0  0  0  0  1  0 -1  0  0 -1 -1  0  0  0  0  1  0  0 -1  0 -1\n",
            "  1  0  0  0  1  0  0  0  0]\n",
            "(177,)\n",
            "[0 0 1 0 1 1 2 2 0 0 0 0 1 0 0 0 0 0 1 1 0 0 0 0 0 0 0 2 1 0 0 0 0 1 1 0 0\n",
            " 0 1 0 0 1 1 2 0 1 0 0 0 0 0 0 0 0 0 0 0 0 0 0 0 0 0 0 0 0 0 2 2 2 0 0 1 0\n",
            " 0 1 2 0 0 0 0 1 0 1 0 1 0 0 1 0 0 0 1 0 0 0 2 0 2 0 2 1 0 1 2 0 0 0 0 0 0\n",
            " 0 1 2 2 0 0 2 1 0 0 0 0 0 2 0 0 2 2 0 0 0 0 0 0 2 1 1 1 0 0 0 0 0 0 0 0 0\n",
            " 0 0 0 1 0 2 0 0 2 2 0 0 0 0 1 0 0 2 0 2 1 0 0 0 1 0 0 0 0]\n"
          ],
          "name": "stdout"
        }
      ]
    },
    {
      "cell_type": "code",
      "metadata": {
        "colab": {
          "base_uri": "https://localhost:8080/"
        },
        "id": "0Bd0OysELXor",
        "outputId": "3653a33b-30e4-4497-f86c-7f179c13d9d4"
      },
      "source": [
        "train_label_nums[mask]"
      ],
      "execution_count": null,
      "outputs": [
        {
          "output_type": "execute_result",
          "data": {
            "text/plain": [
              "array([ 0,  0,  0,  0,  0,  1,  0,  0,  0,  0,  0,  0,  0,  0,  0,  0, -1,\n",
              "        0,  0,  1,  0,  0,  0,  0,  0,  1,  0,  0,  0,  1,  0,  0,  0,  0,\n",
              "        0, -1, -1, -1,  1,  0,  0,  0])"
            ]
          },
          "metadata": {
            "tags": []
          },
          "execution_count": 87
        }
      ]
    },
    {
      "cell_type": "code",
      "metadata": {
        "colab": {
          "base_uri": "https://localhost:8080/"
        },
        "id": "ijD9GSJjBOV4",
        "outputId": "947685e5-e762-4b7a-c5b7-999aaa3a2d97"
      },
      "source": [
        "from sklearn.metrics import accuracy_score\n",
        "from scipy.stats import mode\n",
        "\n",
        "labels = np.zeros_like(clusters)\n",
        "\n",
        "for i in range(3):\n",
        "  mask = (clusters == i)\n",
        "  print(mask); print()\n",
        "  labels[mask] = mode(train_label_nums_02[mask])[0]\n",
        "  print(mode(train_label_nums_02[mask]))\n",
        "  print(labels); print()\n",
        "  print('-----------------------------')\n",
        "\n",
        "accuracy_score(train_label_nums_02, labels)"
      ],
      "execution_count": null,
      "outputs": [
        {
          "output_type": "stream",
          "text": [
            "[False False False False  True  True  True  True False False False False\n",
            "  True False False False False False  True  True False False False  True\n",
            " False False  True False False False False  True False  True False  True\n",
            "  True False  True False  True  True False False False  True False False\n",
            " False False False False False False False False  True  True False False\n",
            " False False False False False  True False  True False False False  True\n",
            "  True False  True  True False False False False False  True False  True\n",
            " False False  True False False False False  True  True False False False\n",
            "  True False  True False False  True False  True False False False False\n",
            "  True False False False False False  True  True False False False False\n",
            "  True  True False False False False  True False  True False False False\n",
            " False False False  True False False  True  True False False False False\n",
            " False  True False False False False  True  True False False False False\n",
            "  True False False False False False False False  True False  True False\n",
            " False  True False False False False False False False]\n",
            "\n",
            "ModeResult(mode=array([0]), count=array([24]))\n",
            "[0 0 0 0 0 0 0 0 0 0 0 0 0 0 0 0 0 0 0 0 0 0 0 0 0 0 0 0 0 0 0 0 0 0 0 0 0\n",
            " 0 0 0 0 0 0 0 0 0 0 0 0 0 0 0 0 0 0 0 0 0 0 0 0 0 0 0 0 0 0 0 0 0 0 0 0 0\n",
            " 0 0 0 0 0 0 0 0 0 0 0 0 0 0 0 0 0 0 0 0 0 0 0 0 0 0 0 0 0 0 0 0 0 0 0 0 0\n",
            " 0 0 0 0 0 0 0 0 0 0 0 0 0 0 0 0 0 0 0 0 0 0 0 0 0 0 0 0 0 0 0 0 0 0 0 0 0\n",
            " 0 0 0 0 0 0 0 0 0 0 0 0 0 0 0 0 0 0 0 0 0 0 0 0 0 0 0 0 0]\n",
            "\n",
            "-----------------------------\n",
            "[ True  True  True False False False False False False  True  True  True\n",
            " False False  True  True  True False False False  True  True  True False\n",
            " False  True False  True False False  True False  True False  True False\n",
            " False False False False False False  True  True False False  True  True\n",
            " False False False False  True  True  True  True False False  True False\n",
            "  True  True False  True  True False  True False  True False False False\n",
            " False  True False False  True  True  True  True False False  True False\n",
            "  True False False  True  True  True  True False False  True False False\n",
            " False  True False  True  True False  True False  True  True  True False\n",
            " False False  True  True  True  True False False False  True False  True\n",
            " False False  True False  True  True False  True False  True  True  True\n",
            " False  True False False  True False False False False False  True  True\n",
            "  True False  True False False  True False False False False  True  True\n",
            " False False  True  True  True  True  True  True False  True False False\n",
            " False False False False  True  True  True  True False]\n",
            "\n",
            "ModeResult(mode=array([0]), count=array([65]))\n",
            "[0 0 0 0 0 0 0 0 0 0 0 0 0 0 0 0 0 0 0 0 0 0 0 0 0 0 0 0 0 0 0 0 0 0 0 0 0\n",
            " 0 0 0 0 0 0 0 0 0 0 0 0 0 0 0 0 0 0 0 0 0 0 0 0 0 0 0 0 0 0 0 0 0 0 0 0 0\n",
            " 0 0 0 0 0 0 0 0 0 0 0 0 0 0 0 0 0 0 0 0 0 0 0 0 0 0 0 0 0 0 0 0 0 0 0 0 0\n",
            " 0 0 0 0 0 0 0 0 0 0 0 0 0 0 0 0 0 0 0 0 0 0 0 0 0 0 0 0 0 0 0 0 0 0 0 0 0\n",
            " 0 0 0 0 0 0 0 0 0 0 0 0 0 0 0 0 0 0 0 0 0 0 0 0 0 0 0 0 0]\n",
            "\n",
            "-----------------------------\n",
            "[False False False  True False False False False  True False False False\n",
            " False  True False False False  True False False False False False False\n",
            "  True False False False  True  True False False False False False False\n",
            " False  True False  True False False False False  True False False False\n",
            "  True  True  True  True False False False False False False False  True\n",
            " False False  True False False False False False False  True  True False\n",
            " False False False False False False False False  True False False False\n",
            " False  True False False False False False False False False  True  True\n",
            " False False False False False False False False False False False  True\n",
            " False  True False False False False False False  True False  True False\n",
            " False False False  True False False False False False False False False\n",
            "  True False  True False False  True False False  True  True False False\n",
            " False False False  True  True False False False  True  True False False\n",
            " False  True False False False False False False False False False  True\n",
            "  True False  True  True False False False False  True]\n",
            "\n",
            "ModeResult(mode=array([0]), count=array([33]))\n",
            "[0 0 0 0 0 0 0 0 0 0 0 0 0 0 0 0 0 0 0 0 0 0 0 0 0 0 0 0 0 0 0 0 0 0 0 0 0\n",
            " 0 0 0 0 0 0 0 0 0 0 0 0 0 0 0 0 0 0 0 0 0 0 0 0 0 0 0 0 0 0 0 0 0 0 0 0 0\n",
            " 0 0 0 0 0 0 0 0 0 0 0 0 0 0 0 0 0 0 0 0 0 0 0 0 0 0 0 0 0 0 0 0 0 0 0 0 0\n",
            " 0 0 0 0 0 0 0 0 0 0 0 0 0 0 0 0 0 0 0 0 0 0 0 0 0 0 0 0 0 0 0 0 0 0 0 0 0\n",
            " 0 0 0 0 0 0 0 0 0 0 0 0 0 0 0 0 0 0 0 0 0 0 0 0 0 0 0 0 0]\n",
            "\n",
            "-----------------------------\n"
          ],
          "name": "stdout"
        },
        {
          "output_type": "execute_result",
          "data": {
            "text/plain": [
              "0.6892655367231638"
            ]
          },
          "metadata": {
            "tags": []
          },
          "execution_count": 92
        }
      ]
    },
    {
      "cell_type": "code",
      "metadata": {
        "colab": {
          "base_uri": "https://localhost:8080/"
        },
        "id": "vGb6quG2BOgJ",
        "outputId": "4edcb525-523c-429e-e8e7-60338795057a"
      },
      "source": [
        "print(labels)"
      ],
      "execution_count": null,
      "outputs": [
        {
          "output_type": "stream",
          "text": [
            "[0 0 0 0 0 0 0 0 0 0 0 0 0 0 0 0 0 0 0 0 0 0 0 0 0 0 0 0 0 0 0 0 0 0 0 0 0\n",
            " 0 0 0 0 0 0 0 0 0 0 0 0 0 0 0 0 0 0 0 0 0 0 0 0 0 0 0 0 0 0 0 0 0 0 0 0 0\n",
            " 0 0 0 0 0 0 0 0 0 0 0 0 0 0 0 0 0 0 0 0 0 0 0 0 0 0 0 0 0 0 0 0 0 0 0 0 0\n",
            " 0 0 0 0 0 0 0 0 0 0 0 0 0 0 0 0 0 0 0 0 0 0 0 0 0 0 0 0 0 0 0 0 0 0 0 0 0\n",
            " 0 0 0 0 0 0 0 0 0 0 0 0 0 0 0 0 0 0 0 0 0 0 0 0 0 0 0 0 0]\n"
          ],
          "name": "stdout"
        }
      ]
    },
    {
      "cell_type": "code",
      "metadata": {
        "id": "SEawDzlNBOqZ"
      },
      "source": [
        ""
      ],
      "execution_count": null,
      "outputs": []
    },
    {
      "cell_type": "code",
      "metadata": {
        "id": "mmQ9xn0XBO1e"
      },
      "source": [
        ""
      ],
      "execution_count": null,
      "outputs": []
    },
    {
      "cell_type": "code",
      "metadata": {
        "id": "9HceHL7CBO-6"
      },
      "source": [
        ""
      ],
      "execution_count": null,
      "outputs": []
    },
    {
      "cell_type": "code",
      "metadata": {
        "id": "rySeejbXBPIm"
      },
      "source": [
        ""
      ],
      "execution_count": null,
      "outputs": []
    },
    {
      "cell_type": "code",
      "metadata": {
        "id": "PYIsbmiLBPSU"
      },
      "source": [
        ""
      ],
      "execution_count": null,
      "outputs": []
    },
    {
      "cell_type": "code",
      "metadata": {
        "colab": {
          "base_uri": "https://localhost:8080/",
          "height": 492
        },
        "id": "TmrzkLcLN_L2",
        "outputId": "369a5ae8-5213-4dbd-b790-a394fe533ce5"
      },
      "source": [
        "import pandas\n",
        "\n",
        "df = pandas.DataFrame(dict(Feature_1=X_tsne[:,0], Feature_2=X_tsne[:,1], label=train_label_nums))\n",
        "\n",
        "plt.figure(figsize=(18,10))\n",
        "df.plot(x=\"Feature_1\", y=\"Feature_2\", kind='scatter', c='label', colormap='tab10', figsize=(10,8));"
      ],
      "execution_count": null,
      "outputs": [
        {
          "output_type": "display_data",
          "data": {
            "text/plain": [
              "<Figure size 1296x720 with 0 Axes>"
            ]
          },
          "metadata": {
            "tags": []
          }
        },
        {
          "output_type": "display_data",
          "data": {
            "image/png": "[encoded data removed]",
            "text/plain": [
              "<Figure size 720x576 with 2 Axes>"
            ]
          },
          "metadata": {
            "tags": []
          }
        }
      ]
    },
    {
      "cell_type": "code",
      "metadata": {
        "id": "8lDf5iWkN_UM"
      },
      "source": [
        "\n"
      ],
      "execution_count": null,
      "outputs": []
    },
    {
      "cell_type": "code",
      "metadata": {
        "id": "mcG18ZPRN_Ze"
      },
      "source": [
        ""
      ],
      "execution_count": null,
      "outputs": []
    },
    {
      "cell_type": "code",
      "metadata": {
        "id": "KS7rVG__N_gF"
      },
      "source": [
        ""
      ],
      "execution_count": null,
      "outputs": []
    },
    {
      "cell_type": "code",
      "metadata": {
        "id": "EWqTo8XnN_of"
      },
      "source": [
        ""
      ],
      "execution_count": null,
      "outputs": []
    },
    {
      "cell_type": "code",
      "metadata": {
        "id": "MKHT2zXXN_s6"
      },
      "source": [
        ""
      ],
      "execution_count": null,
      "outputs": []
    },
    {
      "cell_type": "code",
      "metadata": {
        "id": "l4BBZ6D6N_zK"
      },
      "source": [
        ""
      ],
      "execution_count": null,
      "outputs": []
    },
    {
      "cell_type": "code",
      "metadata": {
        "id": "Pl_kJDCON_4N"
      },
      "source": [
        ""
      ],
      "execution_count": null,
      "outputs": []
    },
    {
      "cell_type": "code",
      "metadata": {
        "id": "AqtdcgV5N_8s"
      },
      "source": [
        ""
      ],
      "execution_count": null,
      "outputs": []
    },
    {
      "cell_type": "code",
      "metadata": {
        "id": "vGbwoWe1wKaS"
      },
      "source": [
        ""
      ],
      "execution_count": null,
      "outputs": []
    },
    {
      "cell_type": "code",
      "metadata": {
        "id": "4lfNYWgpwKd7"
      },
      "source": [
        ""
      ],
      "execution_count": null,
      "outputs": []
    },
    {
      "cell_type": "code",
      "metadata": {
        "id": "tnoVdRy0teAE"
      },
      "source": [
        ""
      ],
      "execution_count": null,
      "outputs": []
    },
    {
      "cell_type": "code",
      "metadata": {
        "id": "jcblu47mIf68"
      },
      "source": [
        "param_grid = {'tf__ngram_range': [(1, 1)],\n",
        "              'lr__C': [1e-5, 1e-4, 1e-2, 1e-1, 1, 10, 100, 1000]}\n",
        "# 1e-5 | \n",
        "# 1e-4 |\n",
        "# 1e-3 | \n",
        "# 1e-2 | 0.7683861082737486\n",
        "\n",
        "# gamma=1e-05, C=100 | 0.8080952380952381 / 0.8192063492063493 / 0.8022222222222222\n",
        "\n",
        "# 1    | 0.7741317671092951\n",
        "# 10   | 0.7910495403472931\n",
        "# 100  | 0.8077757916241062\n",
        "# 1000 | 0.8136491317671093\n",
        "# 10000| 0.7685776302349336"
      ],
      "execution_count": null,
      "outputs": []
    },
    {
      "cell_type": "code",
      "metadata": {
        "id": "CO5mTHPIXV95"
      },
      "source": [
        "'''\n",
        "param_grid = {'tf__ngram_range': [(1, 1), (1, 2)],\n",
        "              'clf__gamma': [1e-6, 1e-5, 1e-4, 1e-2, 1e-1, 1],\n",
        "              'clf__C':[0.1,0.3,1,3,10,30,100,200,300]}\n",
        "'''"
      ],
      "execution_count": null,
      "outputs": []
    },
    {
      "cell_type": "code",
      "metadata": {
        "colab": {
          "base_uri": "https://localhost:8080/"
        },
        "id": "l0k6vgRPIcQv",
        "outputId": "6ea996bf-25a5-4d68-bf0e-86f4ad9a8cfb"
      },
      "source": [
        "print(svc_tfidf_test_score)"
      ],
      "execution_count": null,
      "outputs": [
        {
          "output_type": "stream",
          "text": [
            "0.7777777777777778\n"
          ],
          "name": "stdout"
        }
      ]
    },
    {
      "cell_type": "code",
      "metadata": {
        "colab": {
          "base_uri": "https://localhost:8080/"
        },
        "id": "x_U3xOCRK7K_",
        "outputId": "52c2e716-9be4-483e-fcb2-7f18950745f8"
      },
      "source": [
        "from sklearn.svm import SVC\n",
        "\n",
        "from sklearn.pipeline import Pipeline\n",
        "from sklearn.model_selection import GridSearchCV\n",
        "from sklearn.naive_bayes import MultinomialNB\n",
        "from sklearn.feature_extraction.text import TfidfVectorizer\n",
        "\n",
        "svc_pipeline = Pipeline([('tf', CountVectorizer(binary=False, min_df=0.0, max_df=1.0)),\n",
        "                        ('clf', SVC(kernel='rbf'))])\n",
        "\n",
        "param_grid = {'tf__ngram_range': [(1, 1)],\n",
        "              'clf__gamma': [1e-6, 1e-5, 1e-4, 1e-2, 1e-1, 1],\n",
        "              'clf__C':[0.1,0.3,1,3,10,30,100,200,300]\n",
        "}\n",
        "\n",
        "gs_svc = GridSearchCV(svc_pipeline, param_grid, cv=StratifiedKFold(n_splits=5, shuffle=True), verbose=1)\n",
        "gs_svc_2 = gs_svc.fit(train_corpus, train_label_nums)"
      ],
      "execution_count": null,
      "outputs": [
        {
          "output_type": "stream",
          "text": [
            "Fitting 5 folds for each of 54 candidates, totalling 270 fits\n"
          ],
          "name": "stdout"
        },
        {
          "output_type": "stream",
          "text": [
            "[Parallel(n_jobs=1)]: Using backend SequentialBackend with 1 concurrent workers.\n",
            "[Parallel(n_jobs=1)]: Done 270 out of 270 | elapsed:  2.5min finished\n"
          ],
          "name": "stderr"
        }
      ]
    },
    {
      "cell_type": "code",
      "metadata": {
        "id": "SXQESgaMdean"
      },
      "source": [
        ""
      ],
      "execution_count": null,
      "outputs": []
    },
    {
      "cell_type": "code",
      "metadata": {
        "colab": {
          "base_uri": "https://localhost:8080/",
          "height": 197
        },
        "id": "GqEUgD50bVXd",
        "outputId": "aa2b5f11-6700-41a2-e23a-62d0f63647c6"
      },
      "source": [
        "cv_results = gs_svc_2.cv_results_\n",
        "results_df = pd.DataFrame({'rank': cv_results['rank_test_score'],\n",
        "                           'params': cv_results['params'], \n",
        "                           'cv score (mean)': cv_results['mean_test_score'], \n",
        "                           'cv score (std)': cv_results['std_test_score']} \n",
        "              )\n",
        "results_df = results_df.sort_values(by=['rank'], ascending=True)[0:5]\n",
        "pd.set_option('display.max_colwidth', 100)\n",
        "results_df"
      ],
      "execution_count": null,
      "outputs": [
        {
          "output_type": "execute_result",
          "data": {
            "text/html": [
              "<div>\n",
              "<style scoped>\n",
              "    .dataframe tbody tr th:only-of-type {\n",
              "        vertical-align: middle;\n",
              "    }\n",
              "\n",
              "    .dataframe tbody tr th {\n",
              "        vertical-align: top;\n",
              "    }\n",
              "\n",
              "    .dataframe thead th {\n",
              "        text-align: right;\n",
              "    }\n",
              "</style>\n",
              "<table border=\"1\" class=\"dataframe\">\n",
              "  <thead>\n",
              "    <tr style=\"text-align: right;\">\n",
              "      <th></th>\n",
              "      <th>rank</th>\n",
              "      <th>params</th>\n",
              "      <th>cv score (mean)</th>\n",
              "      <th>cv score (std)</th>\n",
              "    </tr>\n",
              "  </thead>\n",
              "  <tbody>\n",
              "    <tr>\n",
              "      <th>37</th>\n",
              "      <td>1</td>\n",
              "      <td>{'clf__C': 100, 'clf__gamma': 1e-05, 'tf__ngram_range': (1, 1)}</td>\n",
              "      <td>0.801746</td>\n",
              "      <td>0.042219</td>\n",
              "    </tr>\n",
              "    <tr>\n",
              "      <th>49</th>\n",
              "      <td>1</td>\n",
              "      <td>{'clf__C': 300, 'clf__gamma': 1e-05, 'tf__ngram_range': (1, 1)}</td>\n",
              "      <td>0.801746</td>\n",
              "      <td>0.042219</td>\n",
              "    </tr>\n",
              "    <tr>\n",
              "      <th>43</th>\n",
              "      <td>1</td>\n",
              "      <td>{'clf__C': 200, 'clf__gamma': 1e-05, 'tf__ngram_range': (1, 1)}</td>\n",
              "      <td>0.801746</td>\n",
              "      <td>0.042219</td>\n",
              "    </tr>\n",
              "    <tr>\n",
              "      <th>48</th>\n",
              "      <td>4</td>\n",
              "      <td>{'clf__C': 300, 'clf__gamma': 1e-06, 'tf__ngram_range': (1, 1)}</td>\n",
              "      <td>0.796349</td>\n",
              "      <td>0.042985</td>\n",
              "    </tr>\n",
              "    <tr>\n",
              "      <th>31</th>\n",
              "      <td>5</td>\n",
              "      <td>{'clf__C': 30, 'clf__gamma': 1e-05, 'tf__ngram_range': (1, 1)}</td>\n",
              "      <td>0.796190</td>\n",
              "      <td>0.046989</td>\n",
              "    </tr>\n",
              "  </tbody>\n",
              "</table>\n",
              "</div>"
            ],
            "text/plain": [
              "    rank  ... cv score (std)\n",
              "37     1  ...       0.042219\n",
              "49     1  ...       0.042219\n",
              "43     1  ...       0.042219\n",
              "48     4  ...       0.042985\n",
              "31     5  ...       0.046989\n",
              "\n",
              "[5 rows x 4 columns]"
            ]
          },
          "metadata": {
            "tags": []
          },
          "execution_count": 62
        }
      ]
    },
    {
      "cell_type": "code",
      "metadata": {
        "id": "QXT2pfksbXbx"
      },
      "source": [
        "from sklearn.svm import SVC\n",
        "\n",
        "svc = SVC(kernel='rbf', gamma=1e-05, C=100)\n",
        "svc.fit(cv_train_features, train_label_nums)\n",
        "svc_tfidf_cv_scores = cross_val_score(svc, cv_train_features, train_label_nums, cv=5)\n",
        "svc_tfidf_cv_mean_score = np.mean(svc_tfidf_cv_scores)\n",
        "print('CV Accuracy (5-fold):', svc_tfidf_cv_scores)\n",
        "print('Mean CV Accuracy:', svc_tfidf_cv_mean_score)\n",
        "svc_tfidf_test_score = svc.score(cv_test_features, test_label_nums)\n",
        "print('Test Accuracy:', svc_tfidf_test_score)"
      ],
      "execution_count": null,
      "outputs": []
    },
    {
      "cell_type": "code",
      "metadata": {
        "id": "H7bRKRKRnSJQ"
      },
      "source": [
        ""
      ],
      "execution_count": null,
      "outputs": []
    },
    {
      "cell_type": "markdown",
      "metadata": {
        "id": "DdAMLohDiSIj"
      },
      "source": [
        "## 4. RF"
      ]
    },
    {
      "cell_type": "code",
      "metadata": {
        "colab": {
          "base_uri": "https://localhost:8080/"
        },
        "id": "nbzqDV49nTlH",
        "outputId": "7725e6b7-a2f2-4df1-b7f4-e081418fd96a"
      },
      "source": [
        "from sklearn.ensemble import RandomForestClassifier\n",
        "\n",
        "train_ = np.zeros(10)\n",
        "rfc = RandomForestClassifier(n_estimators=500, random_state=2020, criterion = \"gini\")\n",
        "\n",
        "for i in range(10):\n",
        "\n",
        "  rfc_bow_cv_scores = cross_val_score(rfc, cv_train_features, train_label_nums, cv=StratifiedKFold(n_splits=5, shuffle=True))\n",
        "  rfc_bow_cv_mean_score = np.mean(rfc_bow_cv_scores)\n",
        "  print('CV Accuracy (5-fold):', rfc_bow_cv_scores)\n",
        "  print('Mean CV Accuracy:', rfc_bow_cv_mean_score)\n",
        "\n",
        "  train_[i] = rfc_bow_cv_mean_score\n",
        "\n",
        "rfc.fit(cv_train_features, train_label_nums)\n",
        "rfc_bow_test_score = rfc.score(cv_test_features, test_label_nums)\n",
        "\n",
        "print('----------')\n",
        "print('Test Accuracy:', rfc_bow_test_score)"
      ],
      "execution_count": null,
      "outputs": [
        {
          "output_type": "stream",
          "text": [
            "CV Accuracy (5-fold): [0.77777778 0.66666667 0.74285714 0.68571429 0.74285714]\n",
            "Mean CV Accuracy: 0.7231746031746032\n",
            "CV Accuracy (5-fold): [0.72222222 0.69444444 0.68571429 0.71428571 0.74285714]\n",
            "Mean CV Accuracy: 0.7119047619047618\n",
            "CV Accuracy (5-fold): [0.72222222 0.72222222 0.68571429 0.77142857 0.74285714]\n",
            "Mean CV Accuracy: 0.7288888888888889\n",
            "CV Accuracy (5-fold): [0.75       0.75       0.68571429 0.74285714 0.68571429]\n",
            "Mean CV Accuracy: 0.722857142857143\n",
            "CV Accuracy (5-fold): [0.69444444 0.66666667 0.71428571 0.74285714 0.68571429]\n",
            "Mean CV Accuracy: 0.7007936507936507\n",
            "CV Accuracy (5-fold): [0.72222222 0.77777778 0.65714286 0.71428571 0.71428571]\n",
            "Mean CV Accuracy: 0.7171428571428572\n",
            "CV Accuracy (5-fold): [0.69444444 0.72222222 0.71428571 0.74285714 0.71428571]\n",
            "Mean CV Accuracy: 0.7176190476190476\n",
            "CV Accuracy (5-fold): [0.75       0.75       0.77142857 0.71428571 0.68571429]\n",
            "Mean CV Accuracy: 0.7342857142857143\n",
            "CV Accuracy (5-fold): [0.69444444 0.72222222 0.68571429 0.74285714 0.71428571]\n",
            "Mean CV Accuracy: 0.7119047619047618\n",
            "CV Accuracy (5-fold): [0.69444444 0.69444444 0.71428571 0.71428571 0.74285714]\n",
            "Mean CV Accuracy: 0.7120634920634921\n",
            "----------\n",
            "Test Accuracy: 0.7111111111111111\n"
          ],
          "name": "stdout"
        }
      ]
    },
    {
      "cell_type": "code",
      "metadata": {
        "colab": {
          "base_uri": "https://localhost:8080/"
        },
        "id": "PElk4stHn-e5",
        "outputId": "b9f89441-23ea-47c7-ead0-3247553844f7"
      },
      "source": [
        "print(train_.shape)\n",
        "print(type(train_))\n",
        "print('----------')\n",
        "\n",
        "print(f'Training accuracy (mean)   = {np.mean(train_):.4f}')\n",
        "print(f'Training accuracy (median) = {np.median(train_):.4f}')\n",
        "print('----------')\n",
        "\n",
        "print(f'Test accuracy = {rfc_bow_test_score:.4f}')"
      ],
      "execution_count": null,
      "outputs": [
        {
          "output_type": "stream",
          "text": [
            "(10,)\n",
            "<class 'numpy.ndarray'>\n",
            "----------\n",
            "Training accuracy (mean)   = 0.7181\n",
            "Training accuracy (median) = 0.7174\n",
            "----------\n",
            "Test accuracy = 0.7111\n"
          ],
          "name": "stdout"
        }
      ]
    },
    {
      "cell_type": "code",
      "metadata": {
        "id": "c-tGq2QNwNuk"
      },
      "source": [
        ""
      ],
      "execution_count": null,
      "outputs": []
    },
    {
      "cell_type": "code",
      "metadata": {
        "id": "MoV07L9iwNyt"
      },
      "source": [
        ""
      ],
      "execution_count": null,
      "outputs": []
    },
    {
      "cell_type": "markdown",
      "metadata": {
        "id": "YVsuagurkFm4"
      },
      "source": [
        "## XGBoost"
      ]
    },
    {
      "cell_type": "code",
      "metadata": {
        "colab": {
          "base_uri": "https://localhost:8080/"
        },
        "id": "8oZtielyrvrW",
        "outputId": "bd2701a3-06f8-4364-ea36-cfda9767aa3d"
      },
      "source": [
        "from xgboost import XGBClassifier\n",
        "train_ = np.zeros(10)\n",
        "xgb = XGBClassifier(booster='gbtree', n_estimators=300, min_child_weight=1, gamma=0.5, subsample=0.8, colsample_bytree=0.6, max_depth=5,\n",
        "                    learning_rate=0.1, verbosity=1, random_state=42)\n",
        "\n",
        "for i in range(10):\n",
        "\n",
        "  xgb_bow_cv_scores = cross_val_score(xgb, cv_train_features, train_label_nums, cv=StratifiedKFold(n_splits=5, shuffle=True))\n",
        "  xgb_bow_cv_mean_score = np.mean(xgb_bow_cv_scores)\n",
        "  print('CV Accuracy (5-fold):', xgb_bow_cv_scores)\n",
        "  print('Mean CV Accuracy:', xgb_bow_cv_mean_score)\n",
        "\n",
        "  train_[i] = xgb_bow_cv_mean_score\n",
        "\n",
        "xgb.fit(cv_train_features, train_label_nums)\n",
        "xgb_bow_test_score = xgb.score(cv_test_features, test_label_nums)\n",
        "\n",
        "print('----------')\n",
        "print('Test Accuracy:', xgb_bow_test_score)"
      ],
      "execution_count": null,
      "outputs": [
        {
          "output_type": "stream",
          "text": [
            "CV Accuracy (5-fold): [0.77777778 0.91666667 0.85714286 0.8        0.82857143]\n",
            "Mean CV Accuracy: 0.8360317460317459\n",
            "CV Accuracy (5-fold): [0.80555556 0.80555556 0.88571429 0.88571429 0.8       ]\n",
            "Mean CV Accuracy: 0.8365079365079365\n",
            "CV Accuracy (5-fold): [0.88888889 0.80555556 0.88571429 0.8        0.85714286]\n",
            "Mean CV Accuracy: 0.8474603174603172\n",
            "CV Accuracy (5-fold): [0.83333333 0.88888889 0.8        0.8        0.82857143]\n",
            "Mean CV Accuracy: 0.8301587301587301\n",
            "CV Accuracy (5-fold): [0.83333333 0.86111111 0.94285714 0.85714286 0.8       ]\n",
            "Mean CV Accuracy: 0.858888888888889\n",
            "CV Accuracy (5-fold): [0.86111111 0.83333333 0.82857143 0.8        0.85714286]\n",
            "Mean CV Accuracy: 0.8360317460317461\n",
            "CV Accuracy (5-fold): [0.86111111 0.86111111 0.88571429 0.82857143 0.85714286]\n",
            "Mean CV Accuracy: 0.8587301587301587\n",
            "CV Accuracy (5-fold): [0.88888889 0.88888889 0.8        0.85714286 0.85714286]\n",
            "Mean CV Accuracy: 0.8584126984126984\n",
            "CV Accuracy (5-fold): [0.80555556 0.91666667 0.85714286 0.8        0.8       ]\n",
            "Mean CV Accuracy: 0.8358730158730159\n",
            "CV Accuracy (5-fold): [0.88888889 0.86111111 0.85714286 0.88571429 0.8       ]\n",
            "Mean CV Accuracy: 0.8585714285714285\n",
            "----------\n",
            "Test Accuracy: 0.8222222222222222\n"
          ],
          "name": "stdout"
        }
      ]
    },
    {
      "cell_type": "code",
      "metadata": {
        "colab": {
          "base_uri": "https://localhost:8080/"
        },
        "id": "WJcqTJ2hr5EY",
        "outputId": "0c5d5aef-efd4-4373-ea05-32cf4914664d"
      },
      "source": [
        "print(train_.shape)\n",
        "print(type(train_))\n",
        "print('----------')\n",
        "\n",
        "print(f'Training accuracy (mean)   = {np.mean(train_):.4f}')\n",
        "print(f'Training accuracy (median) = {np.median(train_):.4f}')\n",
        "print('----------')\n",
        "\n",
        "print(f'Test accuracy = {xgb_bow_test_score:.4f}')"
      ],
      "execution_count": null,
      "outputs": [
        {
          "output_type": "stream",
          "text": [
            "(10,)\n",
            "<class 'numpy.ndarray'>\n",
            "----------\n",
            "Training accuracy (mean)   = 0.8457\n",
            "Training accuracy (median) = 0.8420\n",
            "----------\n",
            "Test accuracy = 0.8222\n"
          ],
          "name": "stdout"
        }
      ]
    },
    {
      "cell_type": "code",
      "metadata": {
        "id": "Sr0EKvV2r-bd"
      },
      "source": [
        ""
      ],
      "execution_count": null,
      "outputs": []
    },
    {
      "cell_type": "code",
      "metadata": {
        "id": "jkTBOP8jnaUU"
      },
      "source": [
        ""
      ],
      "execution_count": null,
      "outputs": []
    },
    {
      "cell_type": "code",
      "metadata": {
        "id": "xGpWojErnaQo"
      },
      "source": [
        ""
      ],
      "execution_count": null,
      "outputs": []
    },
    {
      "cell_type": "code",
      "metadata": {
        "id": "g7K6nqN5naM5"
      },
      "source": [
        ""
      ],
      "execution_count": null,
      "outputs": []
    },
    {
      "cell_type": "code",
      "metadata": {
        "id": "2gqRIsuDnaIz"
      },
      "source": [
        ""
      ],
      "execution_count": null,
      "outputs": []
    },
    {
      "cell_type": "code",
      "metadata": {
        "id": "jWsfN_oKnaEa"
      },
      "source": [
        ""
      ],
      "execution_count": null,
      "outputs": []
    },
    {
      "cell_type": "code",
      "metadata": {
        "id": "9Hh3goSgnaBE"
      },
      "source": [
        ""
      ],
      "execution_count": null,
      "outputs": []
    },
    {
      "cell_type": "code",
      "metadata": {
        "id": "4W_XXX28nZ53"
      },
      "source": [
        ""
      ],
      "execution_count": null,
      "outputs": []
    },
    {
      "cell_type": "code",
      "metadata": {
        "id": "NVzt7GmUnZtz"
      },
      "source": [
        ""
      ],
      "execution_count": null,
      "outputs": []
    },
    {
      "cell_type": "code",
      "metadata": {
        "id": "P893l2drwKkI"
      },
      "source": [
        ""
      ],
      "execution_count": null,
      "outputs": []
    },
    {
      "cell_type": "code",
      "metadata": {
        "id": "WyH7zj7-wKm-"
      },
      "source": [
        ""
      ],
      "execution_count": null,
      "outputs": []
    },
    {
      "cell_type": "code",
      "metadata": {
        "id": "pyBxsZK62WpZ"
      },
      "source": [
        ""
      ],
      "execution_count": null,
      "outputs": []
    },
    {
      "cell_type": "code",
      "metadata": {
        "id": "S4tQo6d72Wsf"
      },
      "source": [
        ""
      ],
      "execution_count": null,
      "outputs": []
    },
    {
      "cell_type": "code",
      "metadata": {
        "id": "JT2Ie9312Wxj"
      },
      "source": [
        ""
      ],
      "execution_count": null,
      "outputs": []
    },
    {
      "cell_type": "code",
      "metadata": {
        "id": "L-jurUcU2W1A"
      },
      "source": [
        ""
      ],
      "execution_count": null,
      "outputs": []
    },
    {
      "cell_type": "code",
      "metadata": {
        "id": "77CohBLX2W4I"
      },
      "source": [
        ""
      ],
      "execution_count": null,
      "outputs": []
    }
  ]
}