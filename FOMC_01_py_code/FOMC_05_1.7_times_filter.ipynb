{
  "nbformat": 4,
  "nbformat_minor": 0,
  "metadata": {
    "colab": {
      "name": "FOMC_04_1.7_times_filter.ipynb",
      "provenance": [],
      "collapsed_sections": [
        "I3iNb1lEHT30",
        "YcZEu7TDvow2",
        "X1RfmJl1QLka",
        "AeyIiejHxc2E",
        "AcjvuQJ3wJe0",
        "XPen2SM4wOck",
        "44NnbRfWwREa",
        "NikSDiHJwehN",
        "nPxX7JjIwhcg",
        "z-oQeGrdYwxB",
        "2ecFDYoqxe8A",
        "B5c8QjM19vX2"
      ]
    },
    "kernelspec": {
      "display_name": "Python 3",
      "name": "python3"
    }
  },
  "cells": [
    {
      "cell_type": "markdown",
      "metadata": {
        "id": "uP3zDZhjvUJN"
      },
      "source": [
        "# (1) Preparation"
      ]
    },
    {
      "cell_type": "markdown",
      "metadata": {
        "id": "QGWXhpVfF7N6"
      },
      "source": [
        "## 1-1 **Connecting Google Colab to Google Drive**"
      ]
    },
    {
      "cell_type": "code",
      "metadata": {
        "colab": {
          "base_uri": "https://localhost:8080/"
        },
        "id": "unF1kNljF25l",
        "outputId": "499570d3-a263-44ed-8f08-f8962b347bc0"
      },
      "source": [
        "from google.colab import drive\n",
        "drive.mount('/content/drive')"
      ],
      "execution_count": null,
      "outputs": [
        {
          "output_type": "stream",
          "text": [
            "Mounted at /content/drive\n"
          ],
          "name": "stdout"
        }
      ]
    },
    {
      "cell_type": "code",
      "metadata": {
        "colab": {
          "base_uri": "https://localhost:8080/",
          "height": 35
        },
        "id": "t6-hx56mGBK8",
        "outputId": "eba34c80-98c5-4b2e-c8bb-e2acb90214cd"
      },
      "source": [
        "%pwd"
      ],
      "execution_count": null,
      "outputs": [
        {
          "output_type": "execute_result",
          "data": {
            "application/vnd.google.colaboratory.intrinsic+json": {
              "type": "string"
            },
            "text/plain": [
              "'/content'"
            ]
          },
          "metadata": {
            "tags": []
          },
          "execution_count": 2
        }
      ]
    },
    {
      "cell_type": "code",
      "metadata": {
        "colab": {
          "base_uri": "https://localhost:8080/",
          "height": 51
        },
        "id": "MQ3KCLD2GBPo",
        "outputId": "668c221a-af2f-4efc-cfb0-5cb72e00fc0e"
      },
      "source": [
        "%cd '/content/drive'\n",
        "%pwd"
      ],
      "execution_count": null,
      "outputs": [
        {
          "output_type": "stream",
          "text": [
            "/content/drive\n"
          ],
          "name": "stdout"
        },
        {
          "output_type": "execute_result",
          "data": {
            "application/vnd.google.colaboratory.intrinsic+json": {
              "type": "string"
            },
            "text/plain": [
              "'/content/drive'"
            ]
          },
          "metadata": {
            "tags": []
          },
          "execution_count": 3
        }
      ]
    },
    {
      "cell_type": "code",
      "metadata": {
        "colab": {
          "base_uri": "https://localhost:8080/"
        },
        "id": "-hOniAvKGBT2",
        "outputId": "c91bcba8-946d-4793-fb68-4c340a3cb149"
      },
      "source": [
        "%ls"
      ],
      "execution_count": null,
      "outputs": [
        {
          "output_type": "stream",
          "text": [
            "\u001b[0m\u001b[01;34mMyDrive\u001b[0m/\n"
          ],
          "name": "stdout"
        }
      ]
    },
    {
      "cell_type": "code",
      "metadata": {
        "colab": {
          "base_uri": "https://localhost:8080/"
        },
        "id": "IoTJWE84GBXY",
        "outputId": "e361c58b-4800-47c3-ae5a-a955c4979628"
      },
      "source": [
        "%cd 'MyDrive/'"
      ],
      "execution_count": null,
      "outputs": [
        {
          "output_type": "stream",
          "text": [
            "/content/drive/MyDrive\n"
          ],
          "name": "stdout"
        }
      ]
    },
    {
      "cell_type": "code",
      "metadata": {
        "colab": {
          "base_uri": "https://localhost:8080/",
          "height": 35
        },
        "id": "F60mgqC9GBaX",
        "outputId": "3911fa84-f276-4949-f0a7-b0bbc2643682"
      },
      "source": [
        "%pwd"
      ],
      "execution_count": null,
      "outputs": [
        {
          "output_type": "execute_result",
          "data": {
            "application/vnd.google.colaboratory.intrinsic+json": {
              "type": "string"
            },
            "text/plain": [
              "'/content/drive/MyDrive'"
            ]
          },
          "metadata": {
            "tags": []
          },
          "execution_count": 6
        }
      ]
    },
    {
      "cell_type": "code",
      "metadata": {
        "colab": {
          "base_uri": "https://localhost:8080/"
        },
        "id": "-O7px7YTGBdZ",
        "outputId": "faa53323-f2b5-4be9-b20a-d05f461a201a"
      },
      "source": [
        "%cd 'Colab_Data'"
      ],
      "execution_count": null,
      "outputs": [
        {
          "output_type": "stream",
          "text": [
            "/content/drive/MyDrive/Colab_Data\n"
          ],
          "name": "stdout"
        }
      ]
    },
    {
      "cell_type": "code",
      "metadata": {
        "colab": {
          "base_uri": "https://localhost:8080/",
          "height": 35
        },
        "id": "JKXjZ3p9GBgz",
        "outputId": "a72def5b-5681-4c46-afc4-6e5bb79747fa"
      },
      "source": [
        "%pwd"
      ],
      "execution_count": null,
      "outputs": [
        {
          "output_type": "execute_result",
          "data": {
            "application/vnd.google.colaboratory.intrinsic+json": {
              "type": "string"
            },
            "text/plain": [
              "'/content/drive/MyDrive/Colab_Data'"
            ]
          },
          "metadata": {
            "tags": []
          },
          "execution_count": 8
        }
      ]
    },
    {
      "cell_type": "markdown",
      "metadata": {
        "id": "I3iNb1lEHT30"
      },
      "source": [
        "## 1-2 **Loading Data**"
      ]
    },
    {
      "cell_type": "code",
      "metadata": {
        "colab": {
          "base_uri": "https://localhost:8080/"
        },
        "id": "QaXXKsaHHiRN",
        "outputId": "9ef3020f-9515-43a3-a568-f1bcdeee3f07"
      },
      "source": [
        "'''\n",
        "import tensorflow as tf\n",
        "tf.test.gpu_device_name()\n",
        "# /device:GPU:0 means success\n",
        "'''"
      ],
      "execution_count": null,
      "outputs": [
        {
          "output_type": "execute_result",
          "data": {
            "application/vnd.google.colaboratory.intrinsic+json": {
              "type": "string"
            },
            "text/plain": [
              "'\\nimport tensorflow as tf\\ntf.test.gpu_device_name()\\n# /device:GPU:0 means success\\n'"
            ]
          },
          "metadata": {
            "tags": []
          },
          "execution_count": 9
        }
      ]
    },
    {
      "cell_type": "code",
      "metadata": {
        "colab": {
          "base_uri": "https://localhost:8080/"
        },
        "id": "SHSDj4i0KHL9",
        "outputId": "dc332c5d-d321-4c79-86d3-be2a91b027de"
      },
      "source": [
        "%pwd"
      ],
      "execution_count": null,
      "outputs": [
        {
          "output_type": "execute_result",
          "data": {
            "application/vnd.google.colaboratory.intrinsic+json": {
              "type": "string"
            },
            "text/plain": [
              "'/content/drive/MyDrive/Colab_Data'"
            ]
          },
          "metadata": {
            "tags": []
          },
          "execution_count": 10
        }
      ]
    },
    {
      "cell_type": "code",
      "metadata": {
        "colab": {
          "base_uri": "https://localhost:8080/"
        },
        "id": "o9UJPbMUKEH8",
        "outputId": "cedf0b91-40fe-4229-f53d-1fbce1d4d92d"
      },
      "source": [
        "import os\n",
        "os.chdir(r'FOMC_04_pickle_data')\n",
        "os.getcwd()"
      ],
      "execution_count": null,
      "outputs": [
        {
          "output_type": "execute_result",
          "data": {
            "application/vnd.google.colaboratory.intrinsic+json": {
              "type": "string"
            },
            "text/plain": [
              "'/content/drive/MyDrive/Colab_Data/FOMC_04_pickle_data'"
            ]
          },
          "metadata": {
            "tags": []
          },
          "execution_count": 11
        }
      ]
    },
    {
      "cell_type": "code",
      "metadata": {
        "colab": {
          "base_uri": "https://localhost:8080/"
        },
        "id": "NYhciwJKLIEG",
        "outputId": "d0ff9cc3-9572-457a-d60d-6ea269bad9a7"
      },
      "source": [
        "os.getcwd()"
      ],
      "execution_count": null,
      "outputs": [
        {
          "output_type": "execute_result",
          "data": {
            "application/vnd.google.colaboratory.intrinsic+json": {
              "type": "string"
            },
            "text/plain": [
              "'/content/drive/MyDrive/Colab_Data/FOMC_04_pickle_data'"
            ]
          },
          "metadata": {
            "tags": []
          },
          "execution_count": 12
        }
      ]
    },
    {
      "cell_type": "code",
      "metadata": {
        "colab": {
          "base_uri": "https://localhost:8080/"
        },
        "id": "mBFq6C6XMjpk",
        "outputId": "749ec31e-0ead-496b-fa43-bd74e5cda2f9"
      },
      "source": [
        "!pip3 install pickle5\n",
        "import pickle5 as pickle"
      ],
      "execution_count": null,
      "outputs": [
        {
          "output_type": "stream",
          "text": [
            "Collecting pickle5\n",
            "  Downloading pickle5-0.0.11.tar.gz (132 kB)\n",
            "\u001b[?25l\r\u001b[K     |██▌                             | 10 kB 24.3 MB/s eta 0:00:01\r\u001b[K     |█████                           | 20 kB 26.9 MB/s eta 0:00:01\r\u001b[K     |███████▍                        | 30 kB 29.4 MB/s eta 0:00:01\r\u001b[K     |██████████                      | 40 kB 32.1 MB/s eta 0:00:01\r\u001b[K     |████████████▍                   | 51 kB 32.9 MB/s eta 0:00:01\r\u001b[K     |██████████████▉                 | 61 kB 33.6 MB/s eta 0:00:01\r\u001b[K     |█████████████████▍              | 71 kB 33.5 MB/s eta 0:00:01\r\u001b[K     |███████████████████▉            | 81 kB 35.3 MB/s eta 0:00:01\r\u001b[K     |██████████████████████▎         | 92 kB 33.3 MB/s eta 0:00:01\r\u001b[K     |████████████████████████▉       | 102 kB 33.5 MB/s eta 0:00:01\r\u001b[K     |███████████████████████████▎    | 112 kB 33.5 MB/s eta 0:00:01\r\u001b[K     |█████████████████████████████▊  | 122 kB 33.5 MB/s eta 0:00:01\r\u001b[K     |████████████████████████████████| 132 kB 33.5 MB/s \n",
            "\u001b[?25hBuilding wheels for collected packages: pickle5\n",
            "  Building wheel for pickle5 (setup.py) ... \u001b[?25l\u001b[?25hdone\n",
            "  Created wheel for pickle5: filename=pickle5-0.0.11-cp37-cp37m-linux_x86_64.whl size=219291 sha256=935fdbaea24b18b4c4ef74051f13279c8aba9ba73a878b476e6bd76b77a521ed\n",
            "  Stored in directory: /root/.cache/pip/wheels/7e/6a/00/67136a90d6aca437d806d1d3cedf98106e840c97a3e5188198\n",
            "Successfully built pickle5\n",
            "Installing collected packages: pickle5\n",
            "Successfully installed pickle5-0.0.11\n"
          ],
          "name": "stdout"
        }
      ]
    },
    {
      "cell_type": "code",
      "metadata": {
        "id": "EG5JqZsaJ6cC"
      },
      "source": [
        "# import pickle\n",
        "\n",
        "FOMC_pickle = [0] * 222 # list(range(0,222))\n",
        "FOMC_pickle_2 = [0] * 222\n",
        "\n",
        "for i in range(0,222):\n",
        "    name = str(i+1)+'.txt'    \n",
        "    FOMC_pickle[i] = pickle.load(open(name, 'rb'))\n",
        "    FOMC_pickle_2[i] = ' '.join(FOMC_pickle[i])"
      ],
      "execution_count": null,
      "outputs": []
    },
    {
      "cell_type": "code",
      "metadata": {
        "colab": {
          "base_uri": "https://localhost:8080/"
        },
        "id": "PawsKrOE7quH",
        "outputId": "47693298-745c-4aa5-9334-0cd06519217b"
      },
      "source": [
        "FOMC_pickle[0][0:10]"
      ],
      "execution_count": null,
      "outputs": [
        {
          "output_type": "execute_result",
          "data": {
            "text/plain": [
              "['inform',\n",
              " 'review',\n",
              " 'meet',\n",
              " 'indic',\n",
              " 'econom',\n",
              " 'activ',\n",
              " 'rose',\n",
              " 'appreci',\n",
              " 'fourth',\n",
              " 'quarter']"
            ]
          },
          "metadata": {
            "tags": []
          },
          "execution_count": 15
        }
      ]
    },
    {
      "cell_type": "code",
      "metadata": {
        "colab": {
          "base_uri": "https://localhost:8080/"
        },
        "id": "SpmIyW6pMyvF",
        "outputId": "a94c0c4a-96e2-499e-8beb-538bd9239973"
      },
      "source": [
        "%cd .."
      ],
      "execution_count": null,
      "outputs": [
        {
          "output_type": "stream",
          "text": [
            "/content/drive/My Drive/Colab_Data\n"
          ],
          "name": "stdout"
        }
      ]
    },
    {
      "cell_type": "code",
      "metadata": {
        "id": "YeKDaPW1Musc"
      },
      "source": [
        "import pandas as pd\n",
        "# df = pd.read_excel (r'Path where the Excel file is stored\\File name.xlsx')\n",
        "df = pd.read_excel(r'FOMC_02_excel_data/Fed_fund_rate_change.xlsx')\n",
        "\n",
        "fund_rate_change = list(df.iloc[:,5])\n",
        "fund_rate_change_date = list(df.iloc[:,1])"
      ],
      "execution_count": null,
      "outputs": []
    },
    {
      "cell_type": "code",
      "metadata": {
        "colab": {
          "base_uri": "https://localhost:8080/"
        },
        "id": "jLT_UwVbMlPI",
        "outputId": "6ed32911-078b-44a3-f857-786c1ce4b914"
      },
      "source": [
        "corpus_df = pd.DataFrame({'Document': FOMC_pickle_2, \n",
        "                          'Category': fund_rate_change[24:246]})\n",
        "corpus_df = corpus_df[['Document', 'Category']]\n",
        "print(corpus_df.head())"
      ],
      "execution_count": null,
      "outputs": [
        {
          "output_type": "stream",
          "text": [
            "                                            Document  Category\n",
            "0  inform review meet indic econom activ rose app...         0\n",
            "1  inform review meet suggest econom activ expand...         0\n",
            "2  inform review meet suggest pace econom expans ...         0\n",
            "3  inform review meet provid mix read economi bal...         0\n",
            "4  inform review committe suggest econom activ ex...         0\n"
          ],
          "name": "stdout"
        }
      ]
    },
    {
      "cell_type": "code",
      "metadata": {
        "id": "1BtaY8BUkIci"
      },
      "source": [
        ""
      ],
      "execution_count": null,
      "outputs": []
    },
    {
      "cell_type": "markdown",
      "metadata": {
        "id": "0DWbudY1QIMW"
      },
      "source": [
        "# (2) Building a Word2Vec Model by Gensim"
      ]
    },
    {
      "cell_type": "code",
      "metadata": {
        "colab": {
          "base_uri": "https://localhost:8080/",
          "height": 51
        },
        "id": "2ayFDwuddSRf",
        "outputId": "04bacf3f-1a8f-4747-b286-f7c51658ef1c"
      },
      "source": [
        "'''\n",
        "# import pickle\n",
        "\n",
        "FOMC_pickle = [0] * 222 # list(range(0,222))\n",
        "FOMC_pickle_2 = [0] * 222\n",
        "\n",
        "for i in range(0,222):\n",
        "    name = str(i+1)+'.txt'    \n",
        "    FOMC_pickle[i] = pickle.load(open(name, 'rb'))\n",
        "    FOMC_pickle_2[i] = ' '.join(FOMC_pickle[i])\n",
        "'''"
      ],
      "execution_count": null,
      "outputs": [
        {
          "output_type": "execute_result",
          "data": {
            "application/vnd.google.colaboratory.intrinsic+json": {
              "type": "string"
            },
            "text/plain": [
              "\"\\n# import pickle\\n\\nFOMC_pickle = [0] * 222 # list(range(0,222))\\nFOMC_pickle_2 = [0] * 222\\n\\nfor i in range(0,222):\\n    name = str(i+1)+'.txt'    \\n    FOMC_pickle[i] = pickle.load(open(name, 'rb'))\\n    FOMC_pickle_2[i] = ' '.join(FOMC_pickle[i])\\n\""
            ]
          },
          "metadata": {
            "tags": []
          },
          "execution_count": 19
        }
      ]
    },
    {
      "cell_type": "markdown",
      "metadata": {
        "id": "bUzvDcE-m7pP"
      },
      "source": [
        "## 2-1 **All words**"
      ]
    },
    {
      "cell_type": "markdown",
      "metadata": {
        "id": "YcZEu7TDvow2"
      },
      "source": [
        "### 2-1-1 *Word2Vec*"
      ]
    },
    {
      "cell_type": "code",
      "metadata": {
        "id": "LguYAHFTiPMl"
      },
      "source": [
        "from gensim.models import word2vec\n",
        "import nltk\n",
        "\n",
        "# tokenize sentences in corpus\n",
        "wpt = nltk.WordPunctTokenizer()\n",
        "tokenized_corpus = [wpt.tokenize(document) for document in FOMC_pickle_2]\n",
        "\n",
        "# Set values for various parameters\n",
        "feature_size = 100    # Word vector dimensionality  \n",
        "window_context = 30          # Context window size                                                                                    \n",
        "min_word_count = 10  # Minimum word count                        \n",
        "sample = 1e-3   # Downsample setting for frequent words\n",
        "\n",
        "w2v_model = word2vec.Word2Vec(tokenized_corpus, size=feature_size, \n",
        "                          window=window_context, min_count=min_word_count,\n",
        "                          sample=sample, iter=50)"
      ],
      "execution_count": null,
      "outputs": []
    },
    {
      "cell_type": "code",
      "metadata": {
        "id": "SBbEtsC3QJ6-"
      },
      "source": [
        "from gensim.models import word2vec\n",
        "import nltk\n",
        "\n",
        "# tokenize sentences in corpus\n",
        "wpt = nltk.WordPunctTokenizer()\n",
        "tokenized_corpus = [wpt.tokenize(document) for document in FOMC_pickle_2]\n",
        "\n",
        "# Set values for various parameters\n",
        "feature_size = 100    # Word vector dimensionality  \n",
        "window_context = 30          # Context window size                                                                                    \n",
        "min_word_count = 10  # Minimum word count                        \n",
        "sample = 1e-3   # Downsample setting for frequent words\n",
        "\n",
        "w2v_model = word2vec.Word2Vec(tokenized_corpus, size=feature_size, \n",
        "                          window=window_context, min_count=min_word_count,\n",
        "                          sample=sample, iter=50)"
      ],
      "execution_count": null,
      "outputs": []
    },
    {
      "cell_type": "code",
      "metadata": {
        "id": "trRIbGnbTk6t",
        "colab": {
          "base_uri": "https://localhost:8080/"
        },
        "outputId": "f609adbc-1efc-42b8-b0c5-2b692018ca69"
      },
      "source": [
        "# view similar words based on gensim's model\n",
        "similar_words = {search_term: [item[0] for item in w2v_model.wv.most_similar([search_term], topn=20)] # topn=5\n",
        "                  for search_term in ['inflat', 'price', 'growth', 'unemploy', 'labor', 'interest', 'money', 'fund', 'exchang']}\n",
        "similar_words"
      ],
      "execution_count": null,
      "outputs": [
        {
          "output_type": "execute_result",
          "data": {
            "text/plain": [
              "{'exchang': ['equiti',\n",
              "  'depreci',\n",
              "  'appreci',\n",
              "  'chair',\n",
              "  'failur',\n",
              "  'book',\n",
              "  'substitut',\n",
              "  'asset',\n",
              "  'british',\n",
              "  'intermedi',\n",
              "  'g',\n",
              "  'currenc',\n",
              "  'competit',\n",
              "  'north',\n",
              "  'proxim',\n",
              "  'impart',\n",
              "  'denomin',\n",
              "  'neg',\n",
              "  'day',\n",
              "  'sterl'],\n",
              " 'fund': ['reserv',\n",
              "  'assign',\n",
              "  'ioer',\n",
              "  'interest',\n",
              "  'intend',\n",
              "  'oi',\n",
              "  'primari',\n",
              "  'open',\n",
              "  'quot',\n",
              "  'aa',\n",
              "  'rrp',\n",
              "  'deem',\n",
              "  'polici',\n",
              "  'certif',\n",
              "  'swap',\n",
              "  'governor',\n",
              "  'day',\n",
              "  'reiter',\n",
              "  'exercis',\n",
              "  'eurodollar'],\n",
              " 'growth': ['expans',\n",
              "  'gain',\n",
              "  'recoveri',\n",
              "  'expand',\n",
              "  'pace',\n",
              "  'activ',\n",
              "  'buildup',\n",
              "  'advanc',\n",
              "  'grow',\n",
              "  'partial',\n",
              "  'grew',\n",
              "  'restraint',\n",
              "  'accumul',\n",
              "  'deleverag',\n",
              "  'deceler',\n",
              "  'perform',\n",
              "  'uptrend',\n",
              "  'rise',\n",
              "  'grown',\n",
              "  'turnaround'],\n",
              " 'inflat': ['commod',\n",
              "  'disinflationari',\n",
              "  'core',\n",
              "  'anchor',\n",
              "  'disinfl',\n",
              "  'price',\n",
              "  'energi',\n",
              "  'wage',\n",
              "  'transitori',\n",
              "  'gasolin',\n",
              "  'pass',\n",
              "  'slack',\n",
              "  'resourc',\n",
              "  'stabl',\n",
              "  'expect',\n",
              "  'policymak',\n",
              "  'contain',\n",
              "  'persist',\n",
              "  'predomin',\n",
              "  'check'],\n",
              " 'interest': ['intermedi',\n",
              "  'yield',\n",
              "  'save',\n",
              "  'premium',\n",
              "  'appetit',\n",
              "  'ioer',\n",
              "  'homebuild',\n",
              "  'score',\n",
              "  'fund',\n",
              "  'jumbo',\n",
              "  'unemploy',\n",
              "  'delinqu',\n",
              "  'usag',\n",
              "  'vacanc',\n",
              "  'embed',\n",
              "  'instrument',\n",
              "  'document',\n",
              "  'opportun',\n",
              "  'mortgag',\n",
              "  'wealth'],\n",
              " 'labor': ['wage',\n",
              "  'suffici',\n",
              "  'fill',\n",
              "  'worker',\n",
              "  'job',\n",
              "  'enough',\n",
              "  'employ',\n",
              "  'whether',\n",
              "  'inflat',\n",
              "  'age',\n",
              "  'acknowledg',\n",
              "  'unemploy',\n",
              "  'welcom',\n",
              "  'hourli',\n",
              "  'hire',\n",
              "  'similarli',\n",
              "  'payrol',\n",
              "  'without',\n",
              "  'district',\n",
              "  'resourc'],\n",
              " 'money': ['inflow',\n",
              "  'deposit',\n",
              "  'mutual',\n",
              "  'instrument',\n",
              "  'opportun',\n",
              "  'veloc',\n",
              "  'liquid',\n",
              "  'flight',\n",
              "  'outflow',\n",
              "  'depositori',\n",
              "  'safe',\n",
              "  'ran',\n",
              "  'eurodollar',\n",
              "  'aggreg',\n",
              "  'typic',\n",
              "  'whose',\n",
              "  'relianc',\n",
              "  'liabil',\n",
              "  'relationship',\n",
              "  'acquisit'],\n",
              " 'price': ['headlin',\n",
              "  'food',\n",
              "  'non',\n",
              "  'indirect',\n",
              "  'core',\n",
              "  'pass',\n",
              "  'inflat',\n",
              "  'crude',\n",
              "  'equival',\n",
              "  'item',\n",
              "  'commod',\n",
              "  'thomson',\n",
              "  'cpi',\n",
              "  'shelter',\n",
              "  'compens',\n",
              "  'spot',\n",
              "  'minimum',\n",
              "  'expect',\n",
              "  'significantli',\n",
              "  'gasolin'],\n",
              " 'unemploy': ['forc',\n",
              "  'hire',\n",
              "  'age',\n",
              "  'workweek',\n",
              "  'popul',\n",
              "  'jobless',\n",
              "  'save',\n",
              "  'reason',\n",
              "  'quit',\n",
              "  'group',\n",
              "  'underutil',\n",
              "  'work',\n",
              "  'find',\n",
              "  'interest',\n",
              "  'share',\n",
              "  'hour',\n",
              "  'delinqu',\n",
              "  'converg',\n",
              "  'employe',\n",
              "  'labor']}"
            ]
          },
          "metadata": {
            "tags": []
          },
          "execution_count": 21
        }
      ]
    },
    {
      "cell_type": "code",
      "metadata": {
        "id": "Tl0nyHBkFPOG"
      },
      "source": [
        "similar_words_2 = {\n",
        " 'exchang': ['equiti', 'chair', 'book', 'substitut', 'impart'],\n",
        " 'fund': ['reserv', 'assign', 'matur', 'ioer'],\n",
        " 'growth': ['expans', 'recoveri', 'gain', 'pace', 'expand'],\n",
        " 'inflat': ['commod', 'disinflationari', 'disinfl', 'anchor'],\n",
        " 'interest': ['intermedi', 'yield', 'save', 'delinqu', 'homebuild'],\n",
        " 'labor': ['wage', 'fill', 'inflat', 'age', 'job'],\n",
        " 'money': ['inflow', 'deposit', 'mutual', 'instrument', 'opportun'],\n",
        " 'price': ['headlin', 'food', 'core', 'crude'],\n",
        " 'unemploy': ['forc', 'hire', 'popul', 'workweek', 'reason']}"
      ],
      "execution_count": null,
      "outputs": []
    },
    {
      "cell_type": "code",
      "metadata": {
        "id": "llQKoaBYAEQc"
      },
      "source": [
        "'unemploy': ['forc', 'workweek', 'hire', 'save', 'popul', 'jobless', 'age', 'reason', 'work', 'interest', 'underutil', 'delinqu', 'hour', 'quit', 'lengthi']}"
      ],
      "execution_count": null,
      "outputs": []
    },
    {
      "cell_type": "code",
      "metadata": {
        "id": "DqjK_A42FZVR"
      },
      "source": [
        "'unemploy': ['forc', 'workweek', 'hire', 'age', 'popul', 'reason', 'jobless', 'save', 'underutil', 'interest', 'hour', 'sideway', 'summari', 'quit', 'group', 'delinqu', 'addendum', 'converg', 'work', 'fill']}"
      ],
      "execution_count": null,
      "outputs": []
    },
    {
      "cell_type": "markdown",
      "metadata": {
        "id": "X1RfmJl1QLka"
      },
      "source": [
        "### 2-1-2 *Visualizing word embeddings*"
      ]
    },
    {
      "cell_type": "code",
      "metadata": {
        "id": "lxadWs9hQL2y",
        "colab": {
          "base_uri": "https://localhost:8080/",
          "height": 223
        },
        "outputId": "c621ea27-aaaa-4b77-ea4a-d93a8ba9766f"
      },
      "source": [
        "import matplotlib.pyplot as plt\n",
        "import numpy as np\n",
        "from sklearn.manifold import TSNE\n",
        "\n",
        "words = sum([[k] + v for k, v in similar_words_2.items()], [])\n",
        "wvs = w2v_model.wv[words]\n",
        "\n",
        "tsne = TSNE(n_components=2, random_state=0, n_iter=10000, perplexity=2)\n",
        "np.set_printoptions(suppress=True)\n",
        "T = tsne.fit_transform(wvs)\n",
        "labels = words\n",
        "\n",
        "plt.figure(figsize=(22, 15))\n",
        "plt.scatter(T[:, 0], T[:, 1], c='orange', edgecolors='r')\n",
        "for label, x, y in zip(labels, T[:, 0], T[:, 1]):\n",
        "    plt.annotate(label, xy=(x+1, y+1), xytext=(0, 0), textcoords='offset points', fontsize=13.5)"
      ],
      "execution_count": 1,
      "outputs": [
        {
          "output_type": "error",
          "ename": "NameError",
          "evalue": "ignored",
          "traceback": [
            "\u001b[0;31m---------------------------------------------------------------------------\u001b[0m",
            "\u001b[0;31mNameError\u001b[0m                                 Traceback (most recent call last)",
            "\u001b[0;32m<ipython-input-1-2705dcbc21f2>\u001b[0m in \u001b[0;36m<module>\u001b[0;34m()\u001b[0m\n\u001b[1;32m      3\u001b[0m \u001b[0;32mfrom\u001b[0m \u001b[0msklearn\u001b[0m\u001b[0;34m.\u001b[0m\u001b[0mmanifold\u001b[0m \u001b[0;32mimport\u001b[0m \u001b[0mTSNE\u001b[0m\u001b[0;34m\u001b[0m\u001b[0;34m\u001b[0m\u001b[0m\n\u001b[1;32m      4\u001b[0m \u001b[0;34m\u001b[0m\u001b[0m\n\u001b[0;32m----> 5\u001b[0;31m \u001b[0mwords\u001b[0m \u001b[0;34m=\u001b[0m \u001b[0msum\u001b[0m\u001b[0;34m(\u001b[0m\u001b[0;34m[\u001b[0m\u001b[0;34m[\u001b[0m\u001b[0mk\u001b[0m\u001b[0;34m]\u001b[0m \u001b[0;34m+\u001b[0m \u001b[0mv\u001b[0m \u001b[0;32mfor\u001b[0m \u001b[0mk\u001b[0m\u001b[0;34m,\u001b[0m \u001b[0mv\u001b[0m \u001b[0;32min\u001b[0m \u001b[0msimilar_words_2\u001b[0m\u001b[0;34m.\u001b[0m\u001b[0mitems\u001b[0m\u001b[0;34m(\u001b[0m\u001b[0;34m)\u001b[0m\u001b[0;34m]\u001b[0m\u001b[0;34m,\u001b[0m \u001b[0;34m[\u001b[0m\u001b[0;34m]\u001b[0m\u001b[0;34m)\u001b[0m\u001b[0;34m\u001b[0m\u001b[0;34m\u001b[0m\u001b[0m\n\u001b[0m\u001b[1;32m      6\u001b[0m \u001b[0mwvs\u001b[0m \u001b[0;34m=\u001b[0m \u001b[0mw2v_model\u001b[0m\u001b[0;34m.\u001b[0m\u001b[0mwv\u001b[0m\u001b[0;34m[\u001b[0m\u001b[0mwords\u001b[0m\u001b[0;34m]\u001b[0m\u001b[0;34m\u001b[0m\u001b[0;34m\u001b[0m\u001b[0m\n\u001b[1;32m      7\u001b[0m \u001b[0;34m\u001b[0m\u001b[0m\n",
            "\u001b[0;31mNameError\u001b[0m: name 'similar_words_2' is not defined"
          ]
        }
      ]
    },
    {
      "cell_type": "code",
      "metadata": {
        "id": "d6H_girsySRg"
      },
      "source": [
        "# words for the figure above\n",
        "'''\n",
        "similar_words_2 = {\n",
        " 'exchang': ['equiti', 'chair', 'book', 'substitut', 'impart'],\n",
        " 'fund': ['reserv', 'assign', 'matur', 'ioer', 'interest'],\n",
        " 'growth': ['expans', 'recoveri', 'gain', 'pace', 'expand'],\n",
        " 'inflat': ['commod', 'disinflationari', 'core', 'disinfl', 'anchor'],\n",
        " 'interest': ['intermedi', 'yield', 'save', 'delinqu', 'homebuild'],\n",
        " 'labor': ['wage', 'fill', 'inflat', 'age', 'job'],\n",
        " 'money': ['inflow', 'deposit', 'mutual', 'instrument', 'opportun'],\n",
        " 'price': ['headlin', 'food', 'core', 'crude', 'inflat'],\n",
        " 'unemploy': ['forc', 'hire', 'popul', 'workweek', 'reason']}\n",
        "'''"
      ],
      "execution_count": null,
      "outputs": []
    },
    {
      "cell_type": "code",
      "metadata": {
        "id": "y-oFFWgVl8f9"
      },
      "source": [
        "w2v_model.most_similar(\"fed\")"
      ],
      "execution_count": null,
      "outputs": []
    },
    {
      "cell_type": "code",
      "metadata": {
        "id": "CAhNS4MPyWuF"
      },
      "source": [
        "# 1\n",
        "w2v_model.wv.most_similar(\"fed\")"
      ],
      "execution_count": null,
      "outputs": []
    },
    {
      "cell_type": "code",
      "metadata": {
        "id": "jsQ7hUZfyX8n"
      },
      "source": [
        "# 2\n",
        "w2v_model.wv.most_similar(\"growth\")"
      ],
      "execution_count": null,
      "outputs": []
    },
    {
      "cell_type": "code",
      "metadata": {
        "id": "CVu8hk6Uots_"
      },
      "source": [
        "# 3\n",
        "w2v_model.wv.most_similar(\"inflat\")"
      ],
      "execution_count": null,
      "outputs": []
    },
    {
      "cell_type": "code",
      "metadata": {
        "id": "KsCjgpduyhHi"
      },
      "source": [
        "# 4\n",
        "w2v_model.wv.most_similar(\"interest\")"
      ],
      "execution_count": null,
      "outputs": []
    },
    {
      "cell_type": "code",
      "metadata": {
        "id": "DePTObScyi6f"
      },
      "source": [
        "# 5\n",
        "w2v_model.wv.most_similar(\"labor\")"
      ],
      "execution_count": null,
      "outputs": []
    },
    {
      "cell_type": "code",
      "metadata": {
        "id": "O4xia1D7ykw8"
      },
      "source": [
        "# 6\n",
        "w2v_model.wv.most_similar(\"money\")"
      ],
      "execution_count": null,
      "outputs": []
    },
    {
      "cell_type": "code",
      "metadata": {
        "id": "vTJ0fGVVpP5A"
      },
      "source": [
        "# 7\n",
        "w2v_model.wv.most_similar(\"price\")"
      ],
      "execution_count": null,
      "outputs": []
    },
    {
      "cell_type": "code",
      "metadata": {
        "id": "xu6i0UTDpQTJ"
      },
      "source": [
        "# 8\n",
        "w2v_model.wv.most_similar(\"unemploy\")"
      ],
      "execution_count": null,
      "outputs": []
    },
    {
      "cell_type": "markdown",
      "metadata": {
        "id": "pfXUaxqVxDec"
      },
      "source": [
        "## 2-2 **Generating the indexes of up, down & unchanged**"
      ]
    },
    {
      "cell_type": "code",
      "metadata": {
        "colab": {
          "base_uri": "https://localhost:8080/"
        },
        "id": "8VulH0FXp2Gk",
        "outputId": "81190938-cd40-463a-b10a-53f5ff41e97f"
      },
      "source": [
        "# import pickle\n",
        "!pip3 install pickle5\n",
        "import pickle5 as pickle"
      ],
      "execution_count": null,
      "outputs": [
        {
          "output_type": "stream",
          "text": [
            "Requirement already satisfied: pickle5 in /usr/local/lib/python3.7/dist-packages (0.0.11)\n"
          ],
          "name": "stdout"
        }
      ]
    },
    {
      "cell_type": "code",
      "metadata": {
        "colab": {
          "base_uri": "https://localhost:8080/"
        },
        "id": "8_pPnPcop7rb",
        "outputId": "47c90c39-58ff-458c-d6bc-fcd5ade2f956"
      },
      "source": [
        "import os\n",
        "import numpy as np\n",
        "os.getcwd()"
      ],
      "execution_count": null,
      "outputs": [
        {
          "output_type": "execute_result",
          "data": {
            "application/vnd.google.colaboratory.intrinsic+json": {
              "type": "string"
            },
            "text/plain": [
              "'/content/drive/My Drive/Colab_Data'"
            ]
          },
          "metadata": {
            "tags": []
          },
          "execution_count": 28
        }
      ]
    },
    {
      "cell_type": "code",
      "metadata": {
        "colab": {
          "base_uri": "https://localhost:8080/"
        },
        "id": "2NkFaycOqNnD",
        "outputId": "1922bea7-5b68-4944-f79f-17453b467ff6"
      },
      "source": [
        "import os\n",
        "os.chdir(r'FOMC_04_pickle_data')\n",
        "os.getcwd()"
      ],
      "execution_count": null,
      "outputs": [
        {
          "output_type": "execute_result",
          "data": {
            "application/vnd.google.colaboratory.intrinsic+json": {
              "type": "string"
            },
            "text/plain": [
              "'/content/drive/My Drive/Colab_Data/FOMC_04_pickle_data'"
            ]
          },
          "metadata": {
            "tags": []
          },
          "execution_count": 29
        }
      ]
    },
    {
      "cell_type": "code",
      "metadata": {
        "id": "3HQmhXUWqO51"
      },
      "source": [
        "FOMC_pickle = [0] * 222 # list(range(0,222))\n",
        "FOMC_pickle_2 = [0] * 222\n",
        "\n",
        "for i in range(0,222):\n",
        "    name = str(i+1)+'.txt'    \n",
        "    FOMC_pickle[i] = pickle.load(open(name, 'rb'))\n",
        "    FOMC_pickle_2[i] = ' '.join(FOMC_pickle[i])"
      ],
      "execution_count": null,
      "outputs": []
    },
    {
      "cell_type": "code",
      "metadata": {
        "colab": {
          "base_uri": "https://localhost:8080/"
        },
        "id": "-_kWMLXXqgAJ",
        "outputId": "dc9205be-ba45-48ef-840e-6cf0e0678a0c"
      },
      "source": [
        "%pwd"
      ],
      "execution_count": null,
      "outputs": [
        {
          "output_type": "execute_result",
          "data": {
            "application/vnd.google.colaboratory.intrinsic+json": {
              "type": "string"
            },
            "text/plain": [
              "'/content/drive/My Drive/Colab_Data/FOMC_04_pickle_data'"
            ]
          },
          "metadata": {
            "tags": []
          },
          "execution_count": 31
        }
      ]
    },
    {
      "cell_type": "code",
      "metadata": {
        "colab": {
          "base_uri": "https://localhost:8080/"
        },
        "id": "dBJ2ZkTAqPA1",
        "outputId": "8d8cbf8e-92a0-4858-9a06-635b0f48036e"
      },
      "source": [
        "%cd .."
      ],
      "execution_count": null,
      "outputs": [
        {
          "output_type": "stream",
          "text": [
            "/content/drive/My Drive/Colab_Data\n"
          ],
          "name": "stdout"
        }
      ]
    },
    {
      "cell_type": "code",
      "metadata": {
        "id": "w2Tq7O4CqPGp"
      },
      "source": [
        "import pandas as pd\n",
        "# df = pd.read_excel (r'Path where the Excel file is stored\\File name.xlsx')\n",
        "df = pd.read_excel(r'FOMC_02_excel_data/Fed_fund_rate_change.xlsx')\n",
        "\n",
        "fund_rate_change = list(df.iloc[:,5])\n",
        "fund_rate_change_date = list(df.iloc[:,1])"
      ],
      "execution_count": null,
      "outputs": []
    },
    {
      "cell_type": "code",
      "metadata": {
        "colab": {
          "base_uri": "https://localhost:8080/"
        },
        "id": "MCUHj_1LqPL7",
        "outputId": "cd668c39-3a1b-4f44-c19c-86ff09ffaec3"
      },
      "source": [
        "corpus_df = pd.DataFrame({'Document': FOMC_pickle_2, \n",
        "                          'Category': fund_rate_change[24:246]})\n",
        "corpus_df = corpus_df[['Document', 'Category']]\n",
        "print(corpus_df.head())"
      ],
      "execution_count": null,
      "outputs": [
        {
          "output_type": "stream",
          "text": [
            "                                            Document  Category\n",
            "0  inform review meet indic econom activ rose app...         0\n",
            "1  inform review meet suggest econom activ expand...         0\n",
            "2  inform review meet suggest pace econom expans ...         0\n",
            "3  inform review meet provid mix read economi bal...         0\n",
            "4  inform review committe suggest econom activ ex...         0\n"
          ],
          "name": "stdout"
        }
      ]
    },
    {
      "cell_type": "code",
      "metadata": {
        "colab": {
          "base_uri": "https://localhost:8080/"
        },
        "id": "EcMZltV9qnXT",
        "outputId": "c7002345-197c-40eb-b919-70456af79822"
      },
      "source": [
        "import numpy as np\n",
        "print(len(np.array(FOMC_pickle_2))); print(len(np.array(fund_rate_change[24:246])))"
      ],
      "execution_count": null,
      "outputs": [
        {
          "output_type": "stream",
          "text": [
            "222\n",
            "222\n"
          ],
          "name": "stdout"
        }
      ]
    },
    {
      "cell_type": "code",
      "metadata": {
        "id": "5TY2FXVwrGj9"
      },
      "source": [
        "up_index = []\n",
        "down_index = []\n",
        "unchanged_index = []\n",
        "\n",
        "for i in range(24,246):\n",
        "    if fund_rate_change[i] == 1:\n",
        "        up_index.append(i-24)\n",
        "    elif fund_rate_change[i] == -1:\n",
        "        down_index.append(i-24)\n",
        "    elif fund_rate_change[i] == 0:\n",
        "        unchanged_index.append(i-24)\n",
        "    else:\n",
        "        print('Wrong !')\n"
      ],
      "execution_count": null,
      "outputs": []
    },
    {
      "cell_type": "code",
      "metadata": {
        "colab": {
          "base_uri": "https://localhost:8080/"
        },
        "id": "aMX2iFRcpX-X",
        "outputId": "f51b0255-1ca9-4e1a-faeb-29fb6c299024"
      },
      "source": [
        "print(up_index); print(down_index); print(unchanged_index)"
      ],
      "execution_count": null,
      "outputs": [
        {
          "output_type": "stream",
          "text": [
            "[8, 9, 10, 12, 14, 16, 33, 51, 52, 54, 56, 57, 58, 91, 92, 93, 94, 95, 96, 97, 98, 99, 100, 101, 102, 103, 104, 105, 106, 107, 183, 191, 193, 195, 199, 201, 203, 205, 207]\n",
            "[19, 23, 24, 45, 46, 63, 64, 65, 66, 67, 68, 69, 70, 71, 78, 83, 117, 118, 119, 120, 121, 122, 125, 126, 127, 212, 213, 214, 216, 217]\n",
            "[0, 1, 2, 3, 4, 5, 6, 7, 11, 13, 15, 17, 18, 20, 21, 22, 25, 26, 27, 28, 29, 30, 31, 32, 34, 35, 36, 37, 38, 39, 40, 41, 42, 43, 44, 47, 48, 49, 50, 53, 55, 59, 60, 61, 62, 72, 73, 74, 75, 76, 77, 79, 80, 81, 82, 84, 85, 86, 87, 88, 89, 90, 108, 109, 110, 111, 112, 113, 114, 115, 116, 123, 124, 128, 129, 130, 131, 132, 133, 134, 135, 136, 137, 138, 139, 140, 141, 142, 143, 144, 145, 146, 147, 148, 149, 150, 151, 152, 153, 154, 155, 156, 157, 158, 159, 160, 161, 162, 163, 164, 165, 166, 167, 168, 169, 170, 171, 172, 173, 174, 175, 176, 177, 178, 179, 180, 181, 182, 184, 185, 186, 187, 188, 189, 190, 192, 194, 196, 197, 198, 200, 202, 204, 206, 208, 209, 210, 211, 215, 218, 219, 220, 221]\n"
          ],
          "name": "stdout"
        }
      ]
    },
    {
      "cell_type": "code",
      "metadata": {
        "colab": {
          "base_uri": "https://localhost:8080/"
        },
        "id": "ZyIyZb-Fpu5T",
        "outputId": "b9ef92d7-6464-415d-91e1-8c4584147652"
      },
      "source": [
        "'''\n",
        "# import pickle\n",
        "\n",
        "FOMC_pickle = [0] * 222 # list(range(0,222))\n",
        "FOMC_pickle_2 = [0] * 222\n",
        "\n",
        "for i in range(0,222):\n",
        "    name = str(i+1)+'.txt'    \n",
        "    FOMC_pickle[i] = pickle.load(open(name, 'rb'))\n",
        "    FOMC_pickle_2[i] = ' '.join(FOMC_pickle[i])\n",
        "'''"
      ],
      "execution_count": null,
      "outputs": [
        {
          "output_type": "execute_result",
          "data": {
            "application/vnd.google.colaboratory.intrinsic+json": {
              "type": "string"
            },
            "text/plain": [
              "\"\\n# import pickle\\n\\nFOMC_pickle = [0] * 222 # list(range(0,222))\\nFOMC_pickle_2 = [0] * 222\\n\\nfor i in range(0,222):\\n    name = str(i+1)+'.txt'    \\n    FOMC_pickle[i] = pickle.load(open(name, 'rb'))\\n    FOMC_pickle_2[i] = ' '.join(FOMC_pickle[i])\\n\""
            ]
          },
          "metadata": {
            "tags": []
          },
          "execution_count": 38
        }
      ]
    },
    {
      "cell_type": "code",
      "metadata": {
        "colab": {
          "base_uri": "https://localhost:8080/"
        },
        "id": "8rwvQGr5sHyK",
        "outputId": "01d4af9c-80fb-422f-ca5c-bb79daf3771e"
      },
      "source": [
        "print('8'+' 9')"
      ],
      "execution_count": null,
      "outputs": [
        {
          "output_type": "stream",
          "text": [
            "8 9\n"
          ],
          "name": "stdout"
        }
      ]
    },
    {
      "cell_type": "code",
      "metadata": {
        "colab": {
          "base_uri": "https://localhost:8080/"
        },
        "id": "h08x7uXY1xaX",
        "outputId": "989348de-a8d0-4b0a-cb88-75bd3ac26009"
      },
      "source": [
        "# Joining with empty separator\n",
        "list1 = ['g','e','e','k', 's'] \n",
        "print(\"\".join(list1))"
      ],
      "execution_count": null,
      "outputs": [
        {
          "output_type": "stream",
          "text": [
            "geeks\n"
          ],
          "name": "stdout"
        }
      ]
    },
    {
      "cell_type": "code",
      "metadata": {
        "colab": {
          "base_uri": "https://localhost:8080/"
        },
        "id": "MswJISmuADbq",
        "outputId": "6bd60535-fb24-4dce-d4be-bba9b4b42751"
      },
      "source": [
        "print(len(up_index)); print(len(down_index)); print(len(unchanged_index))"
      ],
      "execution_count": null,
      "outputs": [
        {
          "output_type": "stream",
          "text": [
            "39\n",
            "30\n",
            "153\n"
          ],
          "name": "stdout"
        }
      ]
    },
    {
      "cell_type": "code",
      "metadata": {
        "colab": {
          "base_uri": "https://localhost:8080/"
        },
        "id": "6XsHdh6eJLCA",
        "outputId": "e3db8ada-9c55-40c1-b383-82b7def5b259"
      },
      "source": [
        "FOMC_pickle_up = [0] * len(up_index)\n",
        "\n",
        "print(FOMC_pickle_up)"
      ],
      "execution_count": null,
      "outputs": [
        {
          "output_type": "stream",
          "text": [
            "[0, 0, 0, 0, 0, 0, 0, 0, 0, 0, 0, 0, 0, 0, 0, 0, 0, 0, 0, 0, 0, 0, 0, 0, 0, 0, 0, 0, 0, 0, 0, 0, 0, 0, 0, 0, 0, 0, 0]\n"
          ],
          "name": "stdout"
        }
      ]
    },
    {
      "cell_type": "code",
      "metadata": {
        "colab": {
          "base_uri": "https://localhost:8080/"
        },
        "id": "vuGr-vBSQJ_3",
        "outputId": "2b5c0574-b84c-4933-f692-dad66e04ebd6"
      },
      "source": [
        "FOMC_pickle_up = [0] * len(up_index)\n",
        "\n",
        "print(FOMC_pickle_up)\n",
        "\n",
        "for i in range(0, len(up_index)):\n",
        "  k = up_index[i]\n",
        "  FOMC_pickle_up[i] = FOMC_pickle_2[int(k)]"
      ],
      "execution_count": null,
      "outputs": [
        {
          "output_type": "stream",
          "text": [
            "[0, 0, 0, 0, 0, 0, 0, 0, 0, 0, 0, 0, 0, 0, 0, 0, 0, 0, 0, 0, 0, 0, 0, 0, 0, 0, 0, 0, 0, 0, 0, 0, 0, 0, 0, 0, 0, 0, 0]\n"
          ],
          "name": "stdout"
        }
      ]
    },
    {
      "cell_type": "code",
      "metadata": {
        "id": "p3-y03mLH7qS"
      },
      "source": [
        "FOMC_pickle_down = [0] * len(down_index)\n",
        "\n",
        "for i in range(0, len(down_index)):\n",
        "  k = down_index[i]\n",
        "  FOMC_pickle_down[i] = FOMC_pickle_2[k]"
      ],
      "execution_count": null,
      "outputs": []
    },
    {
      "cell_type": "code",
      "metadata": {
        "id": "zlxAErIsPOwl"
      },
      "source": [
        "FOMC_pickle_unchanged = [0] * len(unchanged_index)\n",
        "\n",
        "for i in range(0, len(unchanged_index)):\n",
        "  k = unchanged_index[i]\n",
        "  FOMC_pickle_unchanged[i] = FOMC_pickle_2[int(k)]"
      ],
      "execution_count": null,
      "outputs": []
    },
    {
      "cell_type": "code",
      "metadata": {
        "colab": {
          "base_uri": "https://localhost:8080/"
        },
        "id": "lPS6GO7RKdPI",
        "outputId": "290450d4-2dae-4b5f-ff36-ce521d0a3674"
      },
      "source": [
        "print(FOMC_pickle_up[0])"
      ],
      "execution_count": null,
      "outputs": [
        {
          "output_type": "stream",
          "text": [
            "inform review meet indic econom activ record strong advanc close month limit data avail product employ suggest appreci gain earli week year hous start strengthen substanti fourth quarter last year busi fix invest regist sharp rise increas broad index consum produc price exclud food energi compon somewhat larger recent month earlier price number commod turn assess januari labor market data complic statist revis weather relat report problem varieti indic point convincingli strengthen demand labor total nonfarm payrol employ post small gain januari sizabl decemb increas manufactur employ rose fourth consecut month gain concentr motor vehicl construct payrol edg evid reflect advers effect sever winter weather total number job servic industri unchang januari inclement weather appar held employ segment sector well averag workweek product nonsupervisori worker rose januari highest level almost five year manufactur averag workweek remain post world war ii high third consecut month civilian unemploy rate calcul new basi percent januari industri product increas appreci decemb avail inform suggest consider rise januari decemb advanc manufactur led motor vehicl comput equip industri sizabl increas materi construct suppli also record hand output consum good motor vehicl sluggish product aircraft defens space equip continu shrink total util manufactur capac rose decemb reach rel high level judg histor experi consum spend measur real person consumpt expenditur post anoth solid increas fourth quarter strong sale motor vehicl januari suggest continu buoyanc consum demand fourth quarter real outlay motor vehicl surg spend durabl good notabl furnitur applianc household equip regist larg gain contrast real outlay nondur good servic rose moder hous start jump decemb singl famili multifamili start share advanc whole hous start highest annual total four year sale new home sharpli novemb sale exist home end year highest monthli level twenti five year histori seri real busi fix invest record larg increas fourth quarter busi spend equip notabl inform process equip sharpli seventh straight quarter strength evid recent order nondefens capit good point gain shipment good earli outlay nonresidenti structur fourth quarter post largest quarterli rise six year increas spread across broad array categori offic build construct permit continu rise fourth quarter suggest growth invest nonresidenti structur near term busi inventori remain gener well align sale novemb recent month complet data avail manufactur inventori stock fell decemb edg lower novemb brisk gain shipment month ratio stock shipment fell level alreadi low histor standard wholesal level inventori rose moder novemb littl chang preced two month inventori sale ratio sector chang littl sinc may retail inventori expand substanti novemb third straight month buildup stock might anticip robust holiday sale retail busi particularli gener merchandis store increas coincid weak sale retail sector whole inventori sale ratio slightli novemb averag nomin merchandis trade deficit octob novemb period averag rate third quarter valu export two month period increas occur larg machineri automot product aircraft higher valu import two month period reflect case earlier greater import consum good automot product machineri trend econom activ major foreign industri countri appear diverg fourth quarter moder growth appear continu canada unit kingdom econom activ seem grow slowli turn japan western germani franc produc price finish good slightli decemb unchang novemb exclud food energi compon produc price edg higher decemb slightli year whole retail level consum price rose modestli novemb decemb energi price declin hold increas overal index item food energi price advanc two month slightli faster pace seen previou month year whole increas hourli compens privat industri worker increas fourth quarter pace third quarter rise hourli compens littl chang previou year averag hourli earn product nonsupervisori worker rose sharpli januari twelv month end januari increas record previou twelv month meet decemb committe adopt direct call maintain exist degre pressur reserv posit includ presumpt like direct adjust polici intermeet period accordingli direct indic context committe long run object price stabil sustain econom growth give care consider econom financi monetari develop slightli greater slightli lesser reserv restraint might accept intermeet period reserv condit associ direct expect consist modest growth follow month open market oper direct toward maintain exist degre pressur reserv posit throughout intermeet period addit reserv suppli bank system temporari basi around year end meet season movement currenc requir reserv well enlarg demand excess reserv intermeet period whole feder fund rate remain close percent adjust plu season borrow averag somewhat anticip market interest rate declin slightli intermeet period major index stock price post new high market particip saw incom news inflat encourag still view economi rel robust balanc deem firm monetari polici counteract potenti buildup inflat pressur like next month probabl near term foreign exchang market trade weight valu dollar term g currenc chang littl balanc intermeet period dollar fell yen context somewhat higher japanes interest rate renew express concern bilater trade issu dollar appreci slightli rel german mark european currenc background rel strong econom data gener sluggish econom activ continent europ growth broad monetari aggreg though littl faster remain rel slow decemb januari investor evid continu find low yield deposit less appeal stock bond mutual fund although recent inflow bond fund appear slower rate seen year growth estim slightli lower end committe rang privat borrow pick recent month total domest nonfinanci debt expand somewhat faster though still moder pace fourth quarter year nonfinanci debt estim lower half committe monitor rang staff forecast prepar meet suggest econom expans would slow strong pace fourth quarter economi still would advanc rate somewhat excess growth potenti sever winter weather much countri california earthquak would tend distort econom indic earli part year howev taken togeth develop expect materi last effect overal level activ price consum spend time tend outpac growth dispos incom project increas rate line incom busi fix invest expect deceler gradual rapid rate reflect diminish effect earlier pickup output growth slower growth corpor cash flow less rapid declin cost capit homebuild activ driven greatli improv afford hous increas confid employ prospect anticip continu rel brisk pace much year export project strengthen somewhat bolster pickup foreign econom growth fiscal restraint expect exert reduc drag spend light limit margin slack labor product market anticip prevail forecast horizon ongo expans project associ slight reduct core rate inflat committe discuss current prospect econom develop member comment economi enter new year appreci forward momentum expans like sustain year ahead pace somewhat economi long run potenti rapid rate econom growth indic fourth quarter clearli could maintain much recent impetu expans stem surg expenditur hous busi equip consum durabl spend reach high level relat underli demand pace addit increas undoubtedli would moder cours still econom expans seem consider momentum larg consequ diminish balanc sheet constraint gener favor financi condit spur highli accommod monetari polici consequ number member express view risk upsid moder growth forecast context low decreas slack economi littl progress would made toward price stabil distinct risk higher inflat point monetari polici adjust broad measur inflat whole suggest chang inflat trend member note number commod price turn recent month refer still scatter increas anecdot report busi firm pay slightli higher price variou materi purchas use product process keep practic meet committe establish long run rang growth money debt aggreg committe member feder reserv bank presid current serv member prepar project econom activ rate unemploy inflat central tendenc forecast point somewhat faster econom growth year current estim anticip rate econom expans expect foster limit drop rate unemploy fourth quarter year slack product resourc expect diminish quit low level price cost pressur unlik abat significantli inde price increas could exceed inflat held favor develop energi price measur fourth quarter fourth quarter forecast growth real gdp central tendenc percent full rang percent project civilian rate unemploy fourth quarter rang percent calcul basi new survey recent introduc bureau labor statist cpi central tendenc forecast period fourth quarter fourth quarter center increas percent within rang percent nomin gdp forecast cluster rang percent year committe review factor underli recent develop member observ gener favor financi condit provid backdrop conduc robust expans busi activ much recent strengthen econom growth gener increas spend interest sensit sector economi hous respons rel low interest rate gener buoyant equiti market readier avail financ lend institut strengthen financi condit busi household also cite factor tend boost econom activ balanc sheet restructur activ appear slacken markedli balanc sheet adjust probabl still made latter seem exert much less restraint willing busi especi household spend incur new debt financ grow expenditur report develop across nation member comment widespread indic improv econom activ includ strengthen region earlier character stagnant busi condit area continu affect advers special factor especi spend cutback defens aerospac industri california notabl exampl rang indic suggest california economi might stabil albeit depress level extend period declin activ mirror develop busi sentiment character gener optimist around nation busi execut remain cautiou hire practic expans busi activ foster sizabl overal gain employ even area major busi concern reduc workforc larg firm previous frozen reduc payrol report hire addit worker turn prospect develop key sector economi member anticip expans consum expenditur would well maintain though growth spend probabl would moder pace line gain dispos incom avail data retail sale sinc holiday period still limit anecdot report point continu momentum sever part countri winter storm hinder sale number area accord retail contact advers effect like temporari event rapid rate growth sale automobil consum durabl sustain alreadi high consum debt ratio would inhibit factor note connect consum debt becom concentr cours recent year among consum group like borrow help financ spend result abil consum incur addit indebted could diminish higher tax confront household also cite neg factor outlook consum sector balanc howev prospect consum spend clearli free uncertainti mark improv consum confid favor financi condit would provid set conduc sustain moder growth consum expenditur improv consum sentiment togeth avail rel low cost financ foster strong growth hous construct close month adjust season weather condit anecdot report mani area suggest continu robust perform sector economi earli week year strength hous activ induc increas cost lumber build materi shortag skill construct worker report area despit develop price new home appear point signific upward pressur look ahead hous construct alreadi high level gain cours expect substanti record recent quarter busi fix invest like sustain continu effort modern product facil order achiev effici oper highli competit domest world market gain invest concentr expenditur equip new order point brisk growth month ahead increas expenditur like moder time time grow econom activ associ declin commerci industri vacanc rate least part countri suggest nonresidenti build construct offic structur would post sizabl increas year rebuild activ follow earthquak california would stimul engin construct lo angel area quarter ahead fiscal polici foreign trade exert retard effect economi respons economi fiscal restraint outlook export market remain subject substanti uncertainti fiscal polici trade deficit expect point less neg factor perform economi regard outlook fiscal polici downtrend defens spend project moder contribut smaller net declin overal feder govern expenditur good servic note widespread polit support effort curtail feder govern deficit could expect continu contain new feder spend initi regard outlook export accommod fiscal monetari polici abroad expect foster gradual improv rate econom growth major foreign industri countri benefici effect demand countri good servic one member also comment nafta alreadi seem favor effect export mexico one sector economi view sourc particular uncertainti outlook inventori busi firm continu maintain tight control inventori gener latter quit low level relat sale inde anecdot report inventori shortfal result loss sale recent month lean inventori level context diminish slack labor product market rais concern potenti increas capac pressur strong demand persist would tend deplet exist inventori lead effort rebuild increas thu far sign develop signific increas deliveri lead time cost good purchas busi firm past trigger substanti inventori buildup howev ampl preced histori busi cycl expans effort accumul larg inventori period strong final demand alreadi exert inflationari pressur economi member gener express concern buildup inflationari pressur year ahead especi current view accommod monetari polici maintain number member emphas even substanti slow anticip rate econom expans rapid growth fourth quarter overal margin slack labor product market alreadi reduc fairli modest level would shrink quarter ahead clear possibl variou imbal ad inflat would emerg absenc monetari tighten action continu upward impetu food price result advers weather condit likelihood energi price would declin might fact turn environ somewhat stronger worldwid demand energi product could add overal price pressur member acknowledg broad measur price wage display mix pattern recent month whole yet point clear chang inflat trend howev indic disquiet one exampl grow though still limit number anecdot report shortag skill worker part countri occup notabl construct moreov report rise price product purchas busi firm use product process turn success effort busi rais price order pass higher cost improv profit margin gener mani commod price increas past sever week posit side competit pressur remain intens mani market augment market numer product competit foreign produc member also comment tradeoff econom growth inflat would improv year ahead extent credibl system anti inflationari polici maintain keep requir full employ balanc growth act humphrey hawkin act committe meet review rang growth monetari debt aggreg establish tent basi meet juli tent rang includ expans percent percent measur fourth quarter fourth quarter monitor rang growth total domest nonfinanci debt set provision percent rang unchang committe set latter adjust take account ongo increas veloc committe discuss rang tend focu member express prefer affirm rang establish provision basi juli one favor adopt provision monitor rang nonfinanci debt member prefer lower rang mani member comment uncertainti surround establish rang consist committe goal economi note varieti develop alter histor relationship monetari aggreg broad measur econom perform past sever year result uncertainti impli committe need retain flexibl approach behavior monetari aggreg relat rang includ need assess broad array indic gaug implic monetari growth develop nonetheless member conclud best could evalu evolv financi condit point monetari growth within tent rang would like promot committe object sustain econom expans subdu inflat grown rate percentag point lower bound rang committe contempl retain accord staff analysi prepar meet somewhat faster growth aggreg could expect nomin gdp also expect stronger indic central tendenc member forecast veloc would continu rise appreci faster rate histor relationship would suggest assess assum household would continu redirect save type account higher yield invest especi bond stock mutual fund howev redeploy fund moder year extent investor alreadi accomplish consider portion desir portfolio realloc light possibl chang price stock bond includ drop bond price recent month would underlin risk hold instrument moreov depositori institut strengthen capit posit markedli like compet aggress especi type deposit effort maintain increas role financ expand econom activ develop implic monetari growth could forecast confid member believ rang consider would probabl suffici wide accommod growth rate varieti like veloc scenario exampl factor tend depress growth broad aggreg relat incom abat expect year growth would near lower bound committe rang altern behavior aggreg move closer earlier pattern growth upper portion rang would foster econom perform line member forecast perspect longer time horizon mani member note provision rang essenti level could well prove consist sustain noninflationari econom expans conclus assum histor relationship money growth expans broad measur econom perform would restor point absenc develop emerg new reason stabl relationship committe would continu place diminish relianc monetari aggreg formul monetari polici regard rang nonfinanci debt member anticip growth year would remain within contempl rang staff analysi suggest feder borrow compon would decreas result ongo effect deficit reduct measur enact rise tax receipt stem econom growth time borrow nonfeder sector strengthen backdrop comfort financi posit expect pickup gdp expans one view howev somewhat lower rang desir nonfinanci debt light shift busi prefer away debt toward equiti debt veloc could increas slower growth debt would consist committe object howev member could accept higher rang favor member conclus committe discuss member indic favor could accept rang committe establish tent basi meet juli keep committe usual procedur humphrey hawkin act rang would review midyear sooner deem necessari light behavior aggreg interim econom financi develop committe approv follow paragraph inclus domest polici direct feder open market committe seek monetari financi condit foster price stabil promot sustain growth output further object committe meet establish rang growth percent percent respect measur fourth quarter fourth quarter committe anticip develop contribut unusu veloc increas could persist year money growth within rang would consist broad polici object monitor rang growth total domest nonfinanci debt set percent year behavior monetari aggreg continu evalu light progress toward price level stabil movement veloc develop economi financi market vote action messr greenspan mcdonough broaddu forrest jordan kelley lawar lindsey parri ms phillip vote action none absent vote messr angel mullin committe discuss polici intermeet period ahead member favor adjust toward less accommod polici stanc though view differ extent regard amount adjust current polici postur effect sinc late summer highli stimul evidenc exampl low even slightli neg real short term interest rate view least member rel rapid growth extend period narrow measur money reserv polici appropri period variou develop tend inhibit expans includ widespread effort repair strain balanc sheet varieti busi restructur activ tend depress confid spend recent consider progress made household busi decreas debt servic burden much strengthen capit posit lend institut provid financi basi context low interest rate growth demand product capac could gener inflat pressur situat member agre monetari polici adjust toward neutral stanc would encourag sustain econom growth without buildup inflationari imbal member recogn time action need preclud necess vigor disrupt polici move later inflationari pressur allow intensifi histori past cyclic upsw demonstr inflationari consequ advers effect econom activ delay anti inflat polici action cours committe discuss number member endors polici move would involv slight adjust toward less accommod degre reserv pressur member recogn evolv econom condit might well justifi somewhat greater polici adjust believ howev even slight move time like particularli strong impact financi market would first polici chang long hiatu inde first tighten action five year market effect might amplifi contempl decis author chairman announc polici action discuss circumst member felt somewhat greater polici adjust would incur unaccept risk disloc repercuss financi market rel small move would readili accomplish purpos signal committe anti inflat resolv togeth expect action help temper avert increas inflat expect specul develop financi market member indic prefer somewhat greater firm action would move monetari polici closer desir neutral stanc view recent develop economi demonstr monetari polici much accommod slow gradual tighten move risk allow inflat pressur build decis polici move junctur would fact reduc uncertainti fewer discret action would requir would pronounc desir effect curb inflationari sentiment thu minim upward pressur longer term interest rate time result would polici stanc consist sustain econom expans progress toward price stabil discuss member indic could accept propos slight polici adjust point mani observ addit firm probabl would desir later member see unusu likelihood polici action would need intermeet period committe therefor decid retain unbias intermeet instruct direct connect understood committe would prepar review polici stanc take action warrant intermeet develop telephon confer period ahead meet committe member discuss agre propos chairman announc committe short term polici decis promptli purpos announc would departur past committe practic avoid misinterpret committe action purpos would first tighten polici action long time like attract consider attent committe intend announc set preced impli commit regard announc decis futur matter would review along issu relat disclosur committe inform later meet conclus committe discuss member indic could support direct call slight increas degre pressur reserv posit includ presumpt like direct adjust polici intermeet period accordingli committe decid context long run object price stabil sustain econom growth give care consider econom financi monetari develop slightli greater slightli lesser reserv restraint might accept intermeet period reserv condit contempl meet expect consist moder growth first half conclus meet feder reserv bank new york author direct instruct otherwis committe execut transact system account accord follow domest polici direct inform review meet indic strong advanc econom activ close month limit data avail earli week year suggest appreci gain januari labor market data complic statist revis weather relat report problem howev varieti indic point convincingli continu expans employ industri product increas sharpli fourth quarter appear risen consider januari consum spend hous activ post solid gain late strong sale motor vehicl januari suggest continu buoyanc consum demand trend contract order point sizabl gain busi fix invest averag nomin merchandis trade deficit octob novemb averag rate third quarter latter part increas broad index consum produc price exclud food energi compon somewhat larger earlier year price number commod also turn recent market interest rate declin slightli sinc committe meet decemb foreign exchang market trade weight valu dollar term g currenc unchang intermeet period growth rel slow decemb januari fourth quarter fourth quarter estim grown rate slightli lower end committe rang year privat borrow pick recent month total domest nonfinanci debt expand moder rate fourth quarter year nonfinanci debt estim increas rate lower half committe monitor rang feder open market committe seek monetari financi condit foster price stabil promot sustain growth output further object committe meet establish rang growth percent percent respect measur fourth quarter fourth quarter committe anticip develop contribut unusu veloc increas could persist year money growth within rang would consist broad polici object monitor rang growth total domest nonfinanci debt set percent year behavior monetari aggreg continu evalu light progress toward price level stabil movement veloc develop economi financi market implement polici immedi futur committe seek increas slightli exist degre pressur reserv posit context committe long run object price stabil sustain econom growth give care consider econom financi monetari develop slightli greater reserv restraint slightli lesser reserv restraint might accept intermeet period contempl reserv condit expect consist moder growth first half\n"
          ],
          "name": "stdout"
        }
      ]
    },
    {
      "cell_type": "code",
      "metadata": {
        "id": "-iI9satLKpwU"
      },
      "source": [
        "FOMC_pickle_up_integrated = ' '.join(FOMC_pickle_up)"
      ],
      "execution_count": null,
      "outputs": []
    },
    {
      "cell_type": "code",
      "metadata": {
        "colab": {
          "base_uri": "https://localhost:8080/"
        },
        "id": "sOq4Ur4QKuPs",
        "outputId": "c69f4370-a010-40de-af5b-52a181c0fd63"
      },
      "source": [
        "print(len(FOMC_pickle_up[0])); print(len(FOMC_pickle_up_integrated))"
      ],
      "execution_count": null,
      "outputs": [
        {
          "output_type": "stream",
          "text": [
            "24588\n",
            "660802\n"
          ],
          "name": "stdout"
        }
      ]
    },
    {
      "cell_type": "markdown",
      "metadata": {
        "id": "qtwIxRWTxWET"
      },
      "source": [
        "## 2-3 **Up**"
      ]
    },
    {
      "cell_type": "markdown",
      "metadata": {
        "id": "AeyIiejHxc2E"
      },
      "source": [
        "### 2-3-1 *Word2Vec*"
      ]
    },
    {
      "cell_type": "code",
      "metadata": {
        "id": "rshWLqk2pvQW"
      },
      "source": [
        "from gensim.models import word2vec\n",
        "import nltk\n",
        "\n",
        "# tokenize sentences in corpus\n",
        "wpt = nltk.WordPunctTokenizer()\n",
        "tokenized_corpus = [wpt.tokenize(document) for document in FOMC_pickle_up]\n",
        "\n",
        "# Set values for various parameters\n",
        "feature_size = 100    # Word vector dimensionality  \n",
        "window_context = 30          # Context window size                                                                                    \n",
        "min_word_count = 2  # Minimum word count\n",
        "# min_word_count = 10 for all corpus    \n",
        "sample = 1e-3   # Downsample setting for frequent words\n",
        "\n",
        "w2v_model = word2vec.Word2Vec(tokenized_corpus, size=feature_size, \n",
        "                          window=window_context, min_count=min_word_count,\n",
        "                          sample=sample, iter=50)"
      ],
      "execution_count": null,
      "outputs": []
    },
    {
      "cell_type": "code",
      "metadata": {
        "colab": {
          "base_uri": "https://localhost:8080/"
        },
        "id": "S5FVygqSL7L7",
        "outputId": "55f2201d-4850-46d5-c44c-e41d27a4afa7"
      },
      "source": [
        "# view similar words based on gensim's model\n",
        "similar_words = {search_term: [item[0] for item in w2v_model.wv.most_similar([search_term], topn=20)] # topn=5\n",
        "                  for search_term in ['inflat', 'price', 'growth', 'unemploy', 'labor', 'interest', 'money', 'fund', 'exchang']}\n",
        "similar_words"
      ],
      "execution_count": null,
      "outputs": [
        {
          "output_type": "execute_result",
          "data": {
            "text/plain": [
              "{'exchang': ['weight',\n",
              "  'dollar',\n",
              "  'valu',\n",
              "  'currenc',\n",
              "  'g',\n",
              "  'depreci',\n",
              "  'vi',\n",
              "  'inter',\n",
              "  'came',\n",
              "  'news',\n",
              "  'foreign',\n",
              "  'withdraw',\n",
              "  'british',\n",
              "  'brexit',\n",
              "  'worri',\n",
              "  'metal',\n",
              "  'versu',\n",
              "  'interv',\n",
              "  'swap',\n",
              "  'intervent'],\n",
              " 'fund': ['target',\n",
              "  'quot',\n",
              "  'repo',\n",
              "  'certainti',\n",
              "  'unsecur',\n",
              "  'hike',\n",
              "  'therebi',\n",
              "  'return',\n",
              "  'overnight',\n",
              "  'oi',\n",
              "  'realiz',\n",
              "  'impli',\n",
              "  'manner',\n",
              "  'certif',\n",
              "  'determin',\n",
              "  'rrp',\n",
              "  'likelihood',\n",
              "  'fomc',\n",
              "  'warrant',\n",
              "  'accompani'],\n",
              " 'growth': ['expans',\n",
              "  'pace',\n",
              "  'cutback',\n",
              "  'expand',\n",
              "  'flow',\n",
              "  'deceler',\n",
              "  'favor',\n",
              "  'frequenc',\n",
              "  'advanc',\n",
              "  'thereaft',\n",
              "  'bounc',\n",
              "  'abat',\n",
              "  'pickup',\n",
              "  'somewhat',\n",
              "  'acceler',\n",
              "  'grew',\n",
              "  'lack',\n",
              "  'perform',\n",
              "  'boost',\n",
              "  'demand'],\n",
              " 'inflat': ['core',\n",
              "  'dissip',\n",
              "  'anchor',\n",
              "  'read',\n",
              "  'along',\n",
              "  'commod',\n",
              "  'headlin',\n",
              "  'price',\n",
              "  'energi',\n",
              "  'compens',\n",
              "  'pass',\n",
              "  'likelihood',\n",
              "  'base',\n",
              "  'acknowledg',\n",
              "  'cpi',\n",
              "  'passthrough',\n",
              "  'dual',\n",
              "  'benign',\n",
              "  'deterior',\n",
              "  'nevertheless'],\n",
              " 'interest': ['wake',\n",
              "  'lift',\n",
              "  'prolong',\n",
              "  'ratchet',\n",
              "  'proxim',\n",
              "  'hard',\n",
              "  'wealth',\n",
              "  'save',\n",
              "  'headwind',\n",
              "  'equiti',\n",
              "  'delinqu',\n",
              "  'mortgag',\n",
              "  'stock',\n",
              "  'increasingli',\n",
              "  'pent',\n",
              "  'unanticip',\n",
              "  'effect',\n",
              "  'better',\n",
              "  'asset',\n",
              "  'short'],\n",
              " 'labor': ['manifest',\n",
              "  'tight',\n",
              "  'job',\n",
              "  'wage',\n",
              "  'underutil',\n",
              "  'employ',\n",
              "  'subsid',\n",
              "  'worker',\n",
              "  'demograph',\n",
              "  'link',\n",
              "  'unemploy',\n",
              "  'age',\n",
              "  'entrant',\n",
              "  'forc',\n",
              "  'scope',\n",
              "  'enough',\n",
              "  'slack',\n",
              "  'usual',\n",
              "  'men',\n",
              "  'inflat'],\n",
              " 'money': ['deposit',\n",
              "  'relianc',\n",
              "  'nondeposit',\n",
              "  'instrument',\n",
              "  'mutual',\n",
              "  'denomin',\n",
              "  'eurodollar',\n",
              "  'bill',\n",
              "  'oi',\n",
              "  'repo',\n",
              "  'liquid',\n",
              "  'overnight',\n",
              "  'runoff',\n",
              "  'opportun',\n",
              "  'typic',\n",
              "  'interbank',\n",
              "  'veloc',\n",
              "  'outstand',\n",
              "  'certif',\n",
              "  'london'],\n",
              " 'price': ['produc',\n",
              "  'food',\n",
              "  'commod',\n",
              "  'core',\n",
              "  'finish',\n",
              "  'pass',\n",
              "  'passthrough',\n",
              "  'non',\n",
              "  'tobacco',\n",
              "  'worldwid',\n",
              "  'headlin',\n",
              "  'inflat',\n",
              "  'latin',\n",
              "  'america',\n",
              "  'welcom',\n",
              "  'gasolin',\n",
              "  'crude',\n",
              "  'tip',\n",
              "  'jump',\n",
              "  'sharp'],\n",
              " 'unemploy': ['forc',\n",
              "  'african',\n",
              "  'hispan',\n",
              "  'jobless',\n",
              "  'white',\n",
              "  'american',\n",
              "  'job',\n",
              "  'workweek',\n",
              "  'hour',\n",
              "  'underutil',\n",
              "  'civilian',\n",
              "  'worker',\n",
              "  'demograph',\n",
              "  'payrol',\n",
              "  'men',\n",
              "  'popul',\n",
              "  'claim',\n",
              "  'held',\n",
              "  'entrant',\n",
              "  'share']}"
            ]
          },
          "metadata": {
            "tags": []
          },
          "execution_count": 50
        }
      ]
    },
    {
      "cell_type": "code",
      "metadata": {
        "id": "LuFNJDAMqOM_"
      },
      "source": [
        "similar_words_2 = {\n",
        " 'exchang': ['weight', 'dollar', 'valu', 'currenc', 'depreci'],\n",
        " 'fund': ['target', 'quot', 'hike', 'unsecur', 'overnight'],\n",
        " 'growth': ['expans', 'expand', 'pace', 'flow', 'deceler'],\n",
        " 'inflat': ['read', 'energi', 'anchor'],\n",
        " 'interest': ['wake', 'intermedi', 'lift', 'prolong', 'save'],\n",
        " 'labor': ['wage', 'manifest', 'job', 'underutil', 'tight'],\n",
        " 'money': ['deposit', 'relianc', 'mutual', 'nondeposit', 'repo'],\n",
        " 'price': ['core', 'food', 'finish', 'produc', 'commod'],\n",
        " 'unemploy': ['forc', 'african', 'hispan', 'jobless']}"
      ],
      "execution_count": null,
      "outputs": []
    },
    {
      "cell_type": "code",
      "metadata": {
        "id": "eiVNJvZuBYSt"
      },
      "source": [
        "# 'unemploy': ['forc', 'african', 'hispan', 'jobless', 'american', 'popul', 'hour', 'men', 'job', 'civilian', 'workweek', 'white', 'demograph', 'underutil', 'claim']}"
      ],
      "execution_count": null,
      "outputs": []
    },
    {
      "cell_type": "code",
      "metadata": {
        "id": "QcNyI2_3IPdN"
      },
      "source": [
        "# 'unemploy': ['forc', 'african', 'hispan', 'workweek', 'american', 'hour', 'underutil', 'men', 'job', 'white', 'jobless', 'claim', 'worker', 'civilian', 'popul', 'monthli', 'lowest', 'payrol', 'war', 'ii']"
      ],
      "execution_count": null,
      "outputs": []
    },
    {
      "cell_type": "markdown",
      "metadata": {
        "id": "AcjvuQJ3wJe0"
      },
      "source": [
        "### 2-3-2 *Visualizing word embeddings*"
      ]
    },
    {
      "cell_type": "code",
      "metadata": {
        "colab": {
          "base_uri": "https://localhost:8080/",
          "height": 808
        },
        "id": "01mULAhqqOkq",
        "outputId": "49ccecfc-7ad5-4dd6-b1f4-131ae6b62bdb"
      },
      "source": [
        "import matplotlib.pyplot as plt\n",
        "import numpy as np\n",
        "from sklearn.manifold import TSNE\n",
        "\n",
        "words = sum([[k] + v for k, v in similar_words_2.items()], [])\n",
        "wvs = w2v_model.wv[words]\n",
        "\n",
        "tsne = TSNE(n_components=2, random_state=0, n_iter=10000, perplexity=2)\n",
        "np.set_printoptions(suppress=True)\n",
        "T = tsne.fit_transform(wvs)\n",
        "labels = words\n",
        "\n",
        "plt.figure(figsize=(20, 14))\n",
        "plt.scatter(T[:, 0], T[:, 1], c='orange', edgecolors='r')\n",
        "for label, x, y in zip(labels, T[:, 0], T[:, 1]):\n",
        "    plt.annotate(label, xy=(x+1, y+1), xytext=(0, 0), textcoords='offset points', fontsize=22)"
      ],
      "execution_count": null,
      "outputs": [
        {
          "output_type": "display_data",
          "data": {
            "image/png": "[encoded data removed]",
            "text/plain": [
              "<Figure size 1440x1008 with 1 Axes>"
            ]
          },
          "metadata": {
            "tags": [],
            "needs_background": "light"
          }
        }
      ]
    },
    {
      "cell_type": "markdown",
      "metadata": {
        "id": "-CkEgE7FvMxN"
      },
      "source": [
        "## 2-4 **Down**"
      ]
    },
    {
      "cell_type": "markdown",
      "metadata": {
        "id": "XPen2SM4wOck"
      },
      "source": [
        "### 2-4-1 *Word2Vec*"
      ]
    },
    {
      "cell_type": "code",
      "metadata": {
        "id": "JJdX7pdZqTyU"
      },
      "source": [
        "from gensim.models import word2vec\n",
        "import nltk\n",
        "\n",
        "# tokenize sentences in corpus\n",
        "wpt = nltk.WordPunctTokenizer()\n",
        "tokenized_corpus = [wpt.tokenize(document) for document in FOMC_pickle_down]\n",
        "\n",
        "# Set values for various parameters\n",
        "feature_size = 100    # Word vector dimensionality  \n",
        "window_context = 30          # Context window size                                                                                    \n",
        "min_word_count = 2  # Minimum word count\n",
        "# min_word_count = 10 for all corpus    \n",
        "sample = 1e-3   # Downsample setting for frequent words\n",
        "\n",
        "w2v_model = word2vec.Word2Vec(tokenized_corpus, size=feature_size, \n",
        "                          window=window_context, min_count=min_word_count,\n",
        "                          sample=sample, iter=50)"
      ],
      "execution_count": null,
      "outputs": []
    },
    {
      "cell_type": "code",
      "metadata": {
        "colab": {
          "base_uri": "https://localhost:8080/"
        },
        "id": "2gblVuPNQdEz",
        "outputId": "d59d2e48-a887-4a30-b384-0b8c94d6372d"
      },
      "source": [
        "# view similar words based on gensim's model\n",
        "similar_words = {search_term: [item[0] for item in w2v_model.wv.most_similar([search_term], topn=20)] # topn=5\n",
        "                  for search_term in ['inflat', 'price', 'growth', 'unemploy', 'labor', 'interest', 'money', 'fund', 'exchang']}\n",
        "similar_words"
      ],
      "execution_count": null,
      "outputs": [
        {
          "output_type": "execute_result",
          "data": {
            "text/plain": [
              "{'exchang': ['dollar',\n",
              "  'g',\n",
              "  'depreci',\n",
              "  'currenc',\n",
              "  'foreign',\n",
              "  'valu',\n",
              "  'grow',\n",
              "  'peso',\n",
              "  'intervent',\n",
              "  'partner',\n",
              "  'major',\n",
              "  'risen',\n",
              "  'yen',\n",
              "  'exposur',\n",
              "  'concert',\n",
              "  'diminut',\n",
              "  'backdrop',\n",
              "  'passthrough',\n",
              "  'extern',\n",
              "  'put'],\n",
              " 'fund': ['certif',\n",
              "  'effr',\n",
              "  'target',\n",
              "  'ioer',\n",
              "  'overnight',\n",
              "  'libor',\n",
              "  'unsecur',\n",
              "  'close',\n",
              "  'oi',\n",
              "  'interbank',\n",
              "  'intraday',\n",
              "  'london',\n",
              "  'reserv',\n",
              "  'accompani',\n",
              "  'open',\n",
              "  'paper',\n",
              "  'assign',\n",
              "  'cp',\n",
              "  'intend',\n",
              "  'governor'],\n",
              " 'growth': ['expans',\n",
              "  'expand',\n",
              "  'pace',\n",
              "  'gain',\n",
              "  'recoveri',\n",
              "  'restraint',\n",
              "  'grew',\n",
              "  'grown',\n",
              "  'midpoint',\n",
              "  'outpac',\n",
              "  'upper',\n",
              "  'assum',\n",
              "  'downdraft',\n",
              "  'activ',\n",
              "  'diminut',\n",
              "  'demonstr',\n",
              "  'latin',\n",
              "  'gradual',\n",
              "  'aid',\n",
              "  'risen'],\n",
              " 'inflat': ['calcul',\n",
              "  'anchor',\n",
              "  'commod',\n",
              "  'disinflationari',\n",
              "  'transitori',\n",
              "  'read',\n",
              "  'drift',\n",
              "  'quiescent',\n",
              "  'core',\n",
              "  'energi',\n",
              "  'resourc',\n",
              "  'slack',\n",
              "  'mute',\n",
              "  'firmli',\n",
              "  'food',\n",
              "  'tip',\n",
              "  'pressur',\n",
              "  'dalla',\n",
              "  'upward',\n",
              "  'softer'],\n",
              " 'interest': ['refinanc',\n",
              "  'pent',\n",
              "  'counter',\n",
              "  'attract',\n",
              "  'instrument',\n",
              "  'mortgag',\n",
              "  'burden',\n",
              "  'equiti',\n",
              "  'grow',\n",
              "  'satisfact',\n",
              "  'conservatorship',\n",
              "  'currenc',\n",
              "  'imping',\n",
              "  'channel',\n",
              "  'thing',\n",
              "  'intermedi',\n",
              "  'influenc',\n",
              "  'oblig',\n",
              "  'delinqu',\n",
              "  'reset'],\n",
              " 'labor': ['wage',\n",
              "  'fill',\n",
              "  'scatter',\n",
              "  'payrol',\n",
              "  'age',\n",
              "  'qualifi',\n",
              "  'job',\n",
              "  'competit',\n",
              "  'subdu',\n",
              "  'employ',\n",
              "  'nonwag',\n",
              "  'semi',\n",
              "  'tight',\n",
              "  'upward',\n",
              "  'benchmark',\n",
              "  'publish',\n",
              "  'recruit',\n",
              "  'broaden',\n",
              "  'abet',\n",
              "  'unemploy'],\n",
              " 'money': ['inflow',\n",
              "  'deposit',\n",
              "  'safeti',\n",
              "  'mutual',\n",
              "  'flight',\n",
              "  'liquid',\n",
              "  'safe',\n",
              "  'instrument',\n",
              "  'thrift',\n",
              "  'bid',\n",
              "  'shift',\n",
              "  'opportun',\n",
              "  'portfolio',\n",
              "  'pro',\n",
              "  'outflow',\n",
              "  'announc',\n",
              "  'upper',\n",
              "  'share',\n",
              "  'tem',\n",
              "  'step'],\n",
              " 'price': ['food',\n",
              "  'headlin',\n",
              "  'commod',\n",
              "  'stage',\n",
              "  'pass',\n",
              "  'higher',\n",
              "  'gasolin',\n",
              "  'upward',\n",
              "  'finish',\n",
              "  'energi',\n",
              "  'core',\n",
              "  'cost',\n",
              "  'moreov',\n",
              "  'input',\n",
              "  'sharpli',\n",
              "  'quiescent',\n",
              "  'bit',\n",
              "  'inflat',\n",
              "  'slack',\n",
              "  'side'],\n",
              " 'unemploy': ['popul',\n",
              "  'forc',\n",
              "  'african',\n",
              "  'civilian',\n",
              "  'group',\n",
              "  'workweek',\n",
              "  'claim',\n",
              "  'age',\n",
              "  'hispan',\n",
              "  'white',\n",
              "  'job',\n",
              "  'hour',\n",
              "  'american',\n",
              "  'hurrican',\n",
              "  'insur',\n",
              "  'steadi',\n",
              "  'roughli',\n",
              "  'averag',\n",
              "  'sideway',\n",
              "  'factori']}"
            ]
          },
          "metadata": {
            "tags": []
          },
          "execution_count": 68
        }
      ]
    },
    {
      "cell_type": "code",
      "metadata": {
        "id": "zS2hBtn-Qg4q"
      },
      "source": [
        "similar_words_2 = {\n",
        " 'exchang': ['dollar', 'g', 'depreci', 'currenc', 'valu'],\n",
        " 'fund': ['target', 'effr', 'overnight', 'certif', 'ioer'],\n",
        " 'growth': ['expans', 'pace', 'expand', 'midpoint', 'gain'],\n",
        " 'inflat': ['disinflationari', 'calcul', 'anchor', 'firmli'],\n",
        " 'interest': ['counter', 'refinanc', 'attract', 'intermedi', 'pent'],\n",
        " 'labor': ['fill', 'wage', 'payrol', 'qualifi', 'evidenc'],\n",
        " 'money': ['inflow', 'deposit', 'safeti', 'mutual', 'flight'],\n",
        " 'price': ['food', 'headlin', 'stage', 'commod', 'pass'],\n",
        " 'unemploy': ['popul', 'african', 'forc', 'workweek', 'civilian']}"
      ],
      "execution_count": null,
      "outputs": []
    },
    {
      "cell_type": "code",
      "metadata": {
        "id": "eldMgSi5DpoV"
      },
      "source": [
        "# 'unemploy': ['popul', 'african', 'civilian', 'workweek', 'forc', 'age', 'claim', 'group', 'hour', 'hispan', 'hurrican', 'job', 'white', 'steadi', 'insur']}"
      ],
      "execution_count": null,
      "outputs": []
    },
    {
      "cell_type": "code",
      "metadata": {
        "id": "oR-0uALGJ_I8"
      },
      "source": [
        " # 'unemploy': ['popul', 'african', 'age', 'civilian', 'workweek', 'forc', 'claim', 'hour', 'group', 'steadi', 'hispan', 'white', 'american', 'job', 'averag', 'insur', 'hurrican', 'payrol', 'employ', 'roughli']}"
      ],
      "execution_count": null,
      "outputs": []
    },
    {
      "cell_type": "markdown",
      "metadata": {
        "id": "44NnbRfWwREa"
      },
      "source": [
        "### 2-4-2 *Visualizing word embeddings*"
      ]
    },
    {
      "cell_type": "code",
      "metadata": {
        "colab": {
          "base_uri": "https://localhost:8080/",
          "height": 808
        },
        "id": "3KwQ6amkQhRS",
        "outputId": "cd16843e-ddd5-43c0-e213-e712c1b7bcd0"
      },
      "source": [
        "import matplotlib.pyplot as plt\n",
        "import numpy as np\n",
        "from sklearn.manifold import TSNE\n",
        "\n",
        "words = sum([[k] + v for k, v in similar_words_2.items()], [])\n",
        "wvs = w2v_model.wv[words]\n",
        "\n",
        "tsne = TSNE(n_components=2, random_state=0, n_iter=10000, perplexity=2)\n",
        "np.set_printoptions(suppress=True)\n",
        "T = tsne.fit_transform(wvs)\n",
        "labels = words\n",
        "\n",
        "plt.figure(figsize=(20, 14))\n",
        "plt.scatter(T[:, 0], T[:, 1], c='orange', edgecolors='r')\n",
        "for label, x, y in zip(labels, T[:, 0], T[:, 1]):\n",
        "    plt.annotate(label, xy=(x+1, y+1), xytext=(0, 0), textcoords='offset points', fontsize=22)"
      ],
      "execution_count": null,
      "outputs": [
        {
          "output_type": "display_data",
          "data": {
            "image/png": "[encoded data removed]",
            "text/plain": [
              "<Figure size 1440x1008 with 1 Axes>"
            ]
          },
          "metadata": {
            "tags": [],
            "needs_background": "light"
          }
        }
      ]
    },
    {
      "cell_type": "markdown",
      "metadata": {
        "id": "y0IUuBMjwZmW"
      },
      "source": [
        "## 2-5 **Unchanged**"
      ]
    },
    {
      "cell_type": "markdown",
      "metadata": {
        "id": "NikSDiHJwehN"
      },
      "source": [
        "### 3-4-1 Word2Vec"
      ]
    },
    {
      "cell_type": "code",
      "metadata": {
        "id": "zJqym9rnQdeF"
      },
      "source": [
        "from gensim.models import word2vec\n",
        "import nltk\n",
        "\n",
        "# tokenize sentences in corpus\n",
        "wpt = nltk.WordPunctTokenizer()\n",
        "tokenized_corpus = [wpt.tokenize(document) for document in FOMC_pickle_unchanged]\n",
        "\n",
        "# Set values for various parameters\n",
        "feature_size = 100    # Word vector dimensionality  \n",
        "window_context = 30          # Context window size                                                                                    \n",
        "min_word_count = 5  # Minimum word count\n",
        "# min_word_count = 10 for all corpus    \n",
        "sample = 1e-3   # Downsample setting for frequent words\n",
        "\n",
        "w2v_model = word2vec.Word2Vec(tokenized_corpus, size=feature_size, \n",
        "                          window=window_context, min_count=min_word_count,\n",
        "                          sample=sample, iter=50)"
      ],
      "execution_count": null,
      "outputs": []
    },
    {
      "cell_type": "code",
      "metadata": {
        "colab": {
          "base_uri": "https://localhost:8080/"
        },
        "id": "g1HAKUL-cjba",
        "outputId": "994dea0b-32b5-4cad-ca67-a6cd4ae599b0"
      },
      "source": [
        "# view similar words based on gensim's model\n",
        "similar_words = {search_term: [item[0] for item in w2v_model.wv.most_similar([search_term], topn=20)] # topn=5\n",
        "                  for search_term in ['inflat', 'price', 'growth', 'unemploy', 'labor', 'interest', 'money', 'fund', 'exchang']}\n",
        "similar_words"
      ],
      "execution_count": null,
      "outputs": [
        {
          "output_type": "execute_result",
          "data": {
            "text/plain": [
              "{'exchang': ['depreci',\n",
              "  'intermedi',\n",
              "  'equiti',\n",
              "  'british',\n",
              "  'occur',\n",
              "  'chair',\n",
              "  'open',\n",
              "  'substitut',\n",
              "  'benchmark',\n",
              "  'appreci',\n",
              "  'swiss',\n",
              "  'upsid',\n",
              "  'garner',\n",
              "  'day',\n",
              "  'fulli',\n",
              "  'pound',\n",
              "  'counterbalanc',\n",
              "  'line',\n",
              "  'g',\n",
              "  'confer'],\n",
              " 'fund': ['reserv',\n",
              "  'eurodollar',\n",
              "  'quot',\n",
              "  'aa',\n",
              "  'ioer',\n",
              "  'assign',\n",
              "  'overnight',\n",
              "  'primari',\n",
              "  'decis',\n",
              "  'minim',\n",
              "  'ask',\n",
              "  'exercis',\n",
              "  'matur',\n",
              "  'repurchas',\n",
              "  'rrp',\n",
              "  'intend',\n",
              "  'liftoff',\n",
              "  'entail',\n",
              "  'paper',\n",
              "  'repo'],\n",
              " 'growth': ['expans',\n",
              "  'gain',\n",
              "  'recoveri',\n",
              "  'pace',\n",
              "  'expand',\n",
              "  'grow',\n",
              "  'drawdown',\n",
              "  'activ',\n",
              "  'crise',\n",
              "  'uptrend',\n",
              "  'bounceback',\n",
              "  'accumul',\n",
              "  'restraint',\n",
              "  'perform',\n",
              "  'spurt',\n",
              "  'wildfir',\n",
              "  'turn',\n",
              "  'heat',\n",
              "  'deceler',\n",
              "  'demand'],\n",
              " 'inflat': ['commod',\n",
              "  'disinflationari',\n",
              "  'core',\n",
              "  'price',\n",
              "  'anchor',\n",
              "  'transitori',\n",
              "  'disinfl',\n",
              "  'stabl',\n",
              "  'gasolin',\n",
              "  'resourc',\n",
              "  'dissip',\n",
              "  'would',\n",
              "  'wage',\n",
              "  'expect',\n",
              "  'pass',\n",
              "  'energi',\n",
              "  'predomin',\n",
              "  'import',\n",
              "  'slack',\n",
              "  'food'],\n",
              " 'interest': ['intermedi',\n",
              "  'yield',\n",
              "  'jumbo',\n",
              "  'r',\n",
              "  'intend',\n",
              "  'save',\n",
              "  'appetit',\n",
              "  'unemploy',\n",
              "  'valuat',\n",
              "  'instrument',\n",
              "  'estat',\n",
              "  'oi',\n",
              "  'overnight',\n",
              "  'counterpart',\n",
              "  'premium',\n",
              "  'vacanc',\n",
              "  'readi',\n",
              "  'came',\n",
              "  'apprehens',\n",
              "  'enterpris'],\n",
              " 'labor': ['reconcil',\n",
              "  'fill',\n",
              "  'suffici',\n",
              "  'wage',\n",
              "  'welcom',\n",
              "  'innov',\n",
              "  'dimens',\n",
              "  'whether',\n",
              "  'manifest',\n",
              "  'worker',\n",
              "  'job',\n",
              "  'inflat',\n",
              "  'base',\n",
              "  'employe',\n",
              "  'presag',\n",
              "  'age',\n",
              "  'unemploy',\n",
              "  'payrol',\n",
              "  'resourc',\n",
              "  'employ'],\n",
              " 'money': ['inflow',\n",
              "  'mutual',\n",
              "  'deposit',\n",
              "  'nonwithheld',\n",
              "  'instrument',\n",
              "  'depositori',\n",
              "  'whose',\n",
              "  'complianc',\n",
              "  'veloc',\n",
              "  'opportun',\n",
              "  'safe',\n",
              "  'outflow',\n",
              "  'eb',\n",
              "  'mmf',\n",
              "  'away',\n",
              "  'ml',\n",
              "  'transfer',\n",
              "  'relianc',\n",
              "  'definit',\n",
              "  'liquid'],\n",
              " 'price': ['headlin',\n",
              "  'non',\n",
              "  'food',\n",
              "  'indirect',\n",
              "  'item',\n",
              "  'inflat',\n",
              "  'core',\n",
              "  'commod',\n",
              "  'shelter',\n",
              "  'cpi',\n",
              "  'nonfood',\n",
              "  'compens',\n",
              "  'crude',\n",
              "  'pass',\n",
              "  'owner',\n",
              "  'minimum',\n",
              "  'spot',\n",
              "  'valu',\n",
              "  'prove',\n",
              "  'ship'],\n",
              " 'unemploy': ['forc',\n",
              "  'popul',\n",
              "  'age',\n",
              "  'hire',\n",
              "  'workweek',\n",
              "  'jobless',\n",
              "  'weekli',\n",
              "  'unus',\n",
              "  'lengthi',\n",
              "  'involuntari',\n",
              "  'job',\n",
              "  'work',\n",
              "  'reason',\n",
              "  'save',\n",
              "  'fill',\n",
              "  'manifest',\n",
              "  'interest',\n",
              "  'share',\n",
              "  'hour',\n",
              "  'downshift']}"
            ]
          },
          "metadata": {
            "tags": []
          },
          "execution_count": 72
        }
      ]
    },
    {
      "cell_type": "code",
      "metadata": {
        "id": "SH11Vkhrcj0J"
      },
      "source": [
        "similar_words_2 = {\n",
        " 'exchang': ['depreci', 'equiti', 'intermedi', 'power', 'chair'],\n",
        " 'fund': ['assign', 'reserv', 'quot', 'oi', 'aa'],\n",
        " 'growth': ['expans', 'recoveri', 'gain', 'expand', 'activ'],\n",
        " 'inflat': ['commod', 'disinflationari', 'core', 'dissip', 'anchor'],\n",
        " 'interest': ['jumbo', 'yield', 'intermedi', 'oi', 'save'],\n",
        " 'labor': ['wage', 'reconcil', 'fill', 'suffici', 'worker'],\n",
        " 'money': ['inflow', 'deposit', 'mutual', 'depositori', 'nonwithheld'],\n",
        " 'price': ['food', 'headlin', 'non', 'item', 'pass'],\n",
        " 'unemploy': ['forc', 'popul', 'age', 'hire', 'workweek']}"
      ],
      "execution_count": null,
      "outputs": []
    },
    {
      "cell_type": "code",
      "metadata": {
        "id": "5E62s4eIHz-x"
      },
      "source": [
        "# 'unemploy': ['forc', 'age', 'popul', 'hire', 'workweek', 'jobless', 'weekli', 'fill', 'unus', 'addendum', 'underutil', 'job', 'payrol', 'manifest', 'share']}"
      ],
      "execution_count": null,
      "outputs": []
    },
    {
      "cell_type": "code",
      "metadata": {
        "id": "1hsnu4JHNtCZ"
      },
      "source": [
        "# 'unemploy': ['forc', 'popul', 'age', 'workweek', 'hire', 'jobless', 'delinqu', 'work', 'addendum', 'save', 'lengthi', 'weekli', 'worker', 'job', 'reason', 'suspend', 'manifest', 'interest', 'payrol', 'durat']}"
      ],
      "execution_count": null,
      "outputs": []
    },
    {
      "cell_type": "markdown",
      "metadata": {
        "id": "nPxX7JjIwhcg"
      },
      "source": [
        "### 3-4-2 Visualizing word embeddings"
      ]
    },
    {
      "cell_type": "code",
      "metadata": {
        "colab": {
          "base_uri": "https://localhost:8080/",
          "height": 808
        },
        "id": "-TIa8OoockLg",
        "outputId": "10396f12-81f8-4dd7-aa06-d35ba0a02b15"
      },
      "source": [
        "import matplotlib.pyplot as plt\n",
        "import numpy as np\n",
        "from sklearn.manifold import TSNE\n",
        "\n",
        "words = sum([[k] + v for k, v in similar_words_2.items()], [])\n",
        "wvs = w2v_model.wv[words]\n",
        "\n",
        "tsne = TSNE(n_components=2, random_state=0, n_iter=10000, perplexity=2)\n",
        "np.set_printoptions(suppress=True)\n",
        "T = tsne.fit_transform(wvs)\n",
        "labels = words\n",
        "\n",
        "plt.figure(figsize=(20, 14))\n",
        "plt.scatter(T[:, 0], T[:, 1], c='orange', edgecolors='r')\n",
        "for label, x, y in zip(labels, T[:, 0], T[:, 1]):\n",
        "    plt.annotate(label, xy=(x+1, y+1), xytext=(0, 0), textcoords='offset points', fontsize=22)"
      ],
      "execution_count": null,
      "outputs": [
        {
          "output_type": "display_data",
          "data": {
            "image/png": "[encoded data removed]",
            "text/plain": [
              "<Figure size 1440x1008 with 1 Axes>"
            ]
          },
          "metadata": {
            "tags": [],
            "needs_background": "light"
          }
        }
      ]
    },
    {
      "cell_type": "markdown",
      "metadata": {
        "id": "SZGoa9nIHSIh"
      },
      "source": [
        "# (3) Classification"
      ]
    },
    {
      "cell_type": "code",
      "metadata": {
        "colab": {
          "base_uri": "https://localhost:8080/"
        },
        "id": "lZQCQi6ynxZW",
        "outputId": "2954f70c-5c38-4c42-855b-0c811ac5ed5b"
      },
      "source": [
        "# Run (1) & 2-2 before running this section\n",
        "\n",
        "print(up_index); print(down_index); print(unchanged_index)"
      ],
      "execution_count": null,
      "outputs": [
        {
          "output_type": "stream",
          "text": [
            "[8, 9, 10, 12, 14, 16, 33, 51, 52, 54, 56, 57, 58, 91, 92, 93, 94, 95, 96, 97, 98, 99, 100, 101, 102, 103, 104, 105, 106, 107, 183, 191, 193, 195, 199, 201, 203, 205, 207]\n",
            "[19, 23, 24, 45, 46, 63, 64, 65, 66, 67, 68, 69, 70, 71, 78, 83, 117, 118, 119, 120, 121, 122, 125, 126, 127, 212, 213, 214, 216, 217]\n",
            "[0, 1, 2, 3, 4, 5, 6, 7, 11, 13, 15, 17, 18, 20, 21, 22, 25, 26, 27, 28, 29, 30, 31, 32, 34, 35, 36, 37, 38, 39, 40, 41, 42, 43, 44, 47, 48, 49, 50, 53, 55, 59, 60, 61, 62, 72, 73, 74, 75, 76, 77, 79, 80, 81, 82, 84, 85, 86, 87, 88, 89, 90, 108, 109, 110, 111, 112, 113, 114, 115, 116, 123, 124, 128, 129, 130, 131, 132, 133, 134, 135, 136, 137, 138, 139, 140, 141, 142, 143, 144, 145, 146, 147, 148, 149, 150, 151, 152, 153, 154, 155, 156, 157, 158, 159, 160, 161, 162, 163, 164, 165, 166, 167, 168, 169, 170, 171, 172, 173, 174, 175, 176, 177, 178, 179, 180, 181, 182, 184, 185, 186, 187, 188, 189, 190, 192, 194, 196, 197, 198, 200, 202, 204, 206, 208, 209, 210, 211, 215, 218, 219, 220, 221]\n"
          ],
          "name": "stdout"
        }
      ]
    },
    {
      "cell_type": "code",
      "metadata": {
        "colab": {
          "base_uri": "https://localhost:8080/"
        },
        "id": "EQ78G_3EPXZ6",
        "outputId": "402033b1-c3a0-4d60-c629-f6a795df0c4f"
      },
      "source": [
        "print(np.array(fund_rate_change[24:246])[up_index])"
      ],
      "execution_count": null,
      "outputs": [
        {
          "output_type": "stream",
          "text": [
            "[1 1 1 1 1 1 1 1 1 1 1 1 1 1 1 1 1 1 1 1 1 1 1 1 1 1 1 1 1 1 1 1 1 1 1 1 1\n",
            " 1 1]\n"
          ],
          "name": "stdout"
        }
      ]
    },
    {
      "cell_type": "code",
      "metadata": {
        "colab": {
          "base_uri": "https://localhost:8080/"
        },
        "id": "eQoJTNiGk7N-",
        "outputId": "d577ca46-b90f-4b60-bbed-d4307643ab4c"
      },
      "source": [
        "print(np.array(fund_rate_change[24:246])[down_index])"
      ],
      "execution_count": null,
      "outputs": [
        {
          "output_type": "stream",
          "text": [
            "[-1 -1 -1 -1 -1 -1 -1 -1 -1 -1 -1 -1 -1 -1 -1 -1 -1 -1 -1 -1 -1 -1 -1 -1\n",
            " -1 -1 -1 -1 -1 -1]\n"
          ],
          "name": "stdout"
        }
      ]
    },
    {
      "cell_type": "code",
      "metadata": {
        "colab": {
          "base_uri": "https://localhost:8080/"
        },
        "id": "U7lrdk9zlCxc",
        "outputId": "8da6031a-c8ef-44ef-b5a0-de3a24ce03a0"
      },
      "source": [
        "print(np.array(fund_rate_change[24:246])[unchanged_index])"
      ],
      "execution_count": null,
      "outputs": [
        {
          "output_type": "stream",
          "text": [
            "[0 0 0 0 0 0 0 0 0 0 0 0 0 0 0 0 0 0 0 0 0 0 0 0 0 0 0 0 0 0 0 0 0 0 0 0 0\n",
            " 0 0 0 0 0 0 0 0 0 0 0 0 0 0 0 0 0 0 0 0 0 0 0 0 0 0 0 0 0 0 0 0 0 0 0 0 0\n",
            " 0 0 0 0 0 0 0 0 0 0 0 0 0 0 0 0 0 0 0 0 0 0 0 0 0 0 0 0 0 0 0 0 0 0 0 0 0\n",
            " 0 0 0 0 0 0 0 0 0 0 0 0 0 0 0 0 0 0 0 0 0 0 0 0 0 0 0 0 0 0 0 0 0 0 0 0 0\n",
            " 0 0 0 0 0]\n"
          ],
          "name": "stdout"
        }
      ]
    },
    {
      "cell_type": "code",
      "metadata": {
        "colab": {
          "base_uri": "https://localhost:8080/"
        },
        "id": "e5tRCXYcWjKs",
        "outputId": "fa972754-ca48-4c76-c4e1-b773438ef002"
      },
      "source": [
        "fund_rate_change[0:5]"
      ],
      "execution_count": null,
      "outputs": [
        {
          "output_type": "execute_result",
          "data": {
            "text/plain": [
              "[0, 0, 0, -1, 0]"
            ]
          },
          "metadata": {
            "tags": []
          },
          "execution_count": 57
        }
      ]
    },
    {
      "cell_type": "code",
      "metadata": {
        "colab": {
          "base_uri": "https://localhost:8080/"
        },
        "id": "yMiZan9jWmUs",
        "outputId": "d0dba615-59b9-42b2-e815-1857dc87aba2"
      },
      "source": [
        "fund_rate_change[1:5]"
      ],
      "execution_count": null,
      "outputs": [
        {
          "output_type": "execute_result",
          "data": {
            "text/plain": [
              "[0, 0, -1, 0]"
            ]
          },
          "metadata": {
            "tags": []
          },
          "execution_count": 58
        }
      ]
    },
    {
      "cell_type": "code",
      "metadata": {
        "colab": {
          "base_uri": "https://localhost:8080/"
        },
        "id": "pWddbMK9W8lk",
        "outputId": "5bdb3f0f-5219-4c57-a294-b9cd2799e99e"
      },
      "source": [
        "fund_rate_change[245]"
      ],
      "execution_count": null,
      "outputs": [
        {
          "output_type": "execute_result",
          "data": {
            "text/plain": [
              "0"
            ]
          },
          "metadata": {
            "tags": []
          },
          "execution_count": 61
        }
      ]
    },
    {
      "cell_type": "code",
      "metadata": {
        "colab": {
          "base_uri": "https://localhost:8080/"
        },
        "id": "G4R1uzX6V6LN",
        "outputId": "989faffd-3eb6-4e58-974a-ff65272d9f0c"
      },
      "source": [
        "print(len(fund_rate_change))\n",
        "fund_rate_change_2 = fund_rate_change[24:246]\n",
        "print(len(fund_rate_change))"
      ],
      "execution_count": null,
      "outputs": [
        {
          "output_type": "stream",
          "text": [
            "246\n",
            "246\n"
          ],
          "name": "stdout"
        }
      ]
    },
    {
      "cell_type": "code",
      "metadata": {
        "id": "AIP7Tozeq4XO"
      },
      "source": [
        "# sklearn.model_selection.train_test_split(*arrays, test_size=None, train_size=None, random_state=None, shuffle=True, stratify=None)\n",
        "\n",
        "from sklearn.model_selection import train_test_split\n",
        "\n",
        "train_corpus, test_corpus, train_label_nums, test_label_nums =\\\n",
        "                                 train_test_split(np.array(FOMC_pickle_2), fund_rate_change_2, \n",
        "                                                  test_size=0.2, stratify=fund_rate_change_2) # random_state = 2021 / 2022 / 2023 / 2024 / 3000\n"
      ],
      "execution_count": null,
      "outputs": []
    },
    {
      "cell_type": "code",
      "metadata": {
        "colab": {
          "base_uri": "https://localhost:8080/"
        },
        "id": "1PCp1LlfTOYg",
        "outputId": "f9fef037-bc71-4bd8-b94c-20f761919c74"
      },
      "source": [
        "print(len(train_corpus)); print(len(test_corpus)); print()\n",
        "print(len(train_label_nums)); print(len(test_label_nums))"
      ],
      "execution_count": null,
      "outputs": [
        {
          "output_type": "stream",
          "text": [
            "177\n",
            "45\n",
            "\n",
            "177\n",
            "45\n"
          ],
          "name": "stdout"
        }
      ]
    },
    {
      "cell_type": "code",
      "metadata": {
        "colab": {
          "base_uri": "https://localhost:8080/",
          "height": 138
        },
        "id": "ZkIEdNyBQqpE",
        "outputId": "6f36b31b-efaa-4c35-9165-be8e3c660cd2"
      },
      "source": [
        "from collections import Counter\n",
        "\n",
        "trd = dict(Counter(train_label_nums))\n",
        "tsd = dict(Counter(test_label_nums))\n",
        "\n",
        "(pd.DataFrame([[key, trd[key], tsd[key]] for key in trd], \n",
        "             columns=['Target Label', 'Train Count', 'Test Count'])\n",
        ".sort_values(by=['Train Count', 'Test Count'],\n",
        "             ascending=False))"
      ],
      "execution_count": null,
      "outputs": [
        {
          "output_type": "execute_result",
          "data": {
            "text/html": [
              "<div>\n",
              "<style scoped>\n",
              "    .dataframe tbody tr th:only-of-type {\n",
              "        vertical-align: middle;\n",
              "    }\n",
              "\n",
              "    .dataframe tbody tr th {\n",
              "        vertical-align: top;\n",
              "    }\n",
              "\n",
              "    .dataframe thead th {\n",
              "        text-align: right;\n",
              "    }\n",
              "</style>\n",
              "<table border=\"1\" class=\"dataframe\">\n",
              "  <thead>\n",
              "    <tr style=\"text-align: right;\">\n",
              "      <th></th>\n",
              "      <th>Target Label</th>\n",
              "      <th>Train Count</th>\n",
              "      <th>Test Count</th>\n",
              "    </tr>\n",
              "  </thead>\n",
              "  <tbody>\n",
              "    <tr>\n",
              "      <th>0</th>\n",
              "      <td>0</td>\n",
              "      <td>122</td>\n",
              "      <td>31</td>\n",
              "    </tr>\n",
              "    <tr>\n",
              "      <th>1</th>\n",
              "      <td>1</td>\n",
              "      <td>31</td>\n",
              "      <td>8</td>\n",
              "    </tr>\n",
              "    <tr>\n",
              "      <th>2</th>\n",
              "      <td>-1</td>\n",
              "      <td>24</td>\n",
              "      <td>6</td>\n",
              "    </tr>\n",
              "  </tbody>\n",
              "</table>\n",
              "</div>"
            ],
            "text/plain": [
              "   Target Label  Train Count  Test Count\n",
              "0             0          122          31\n",
              "1             1           31           8\n",
              "2            -1           24           6"
            ]
          },
          "metadata": {
            "tags": []
          },
          "execution_count": 65
        }
      ]
    },
    {
      "cell_type": "code",
      "metadata": {
        "colab": {
          "base_uri": "https://localhost:8080/"
        },
        "id": "FhNfuYcWyQzR",
        "outputId": "f7fd2e2c-bd02-4752-d8b5-0ced4a2f633f"
      },
      "source": [
        "'''\n",
        "# 1.5 times filter (331 vocs)\n",
        "\n",
        "A = ['rise', 'energi', 'higher', 'strong', 'cost', 'sustain', 'tighten', 'februari', 'solid', 'robust', 'need', 'action', 'boost', 'rais', 'bit', 'hurrican', 'post', 'underli', 'probabl', 'acceler', 'alreadi', 'anecdot', 'contain', 'twelv', 'surg', 'upsid', 'grow', 'weather', 'materi', 'remov', 'roughli', 'inflationari', 'pass', 'district', 'brisk', 'margin', 'believ', 'circumst', 'compon', 'owe', 'momentum', 'process', 'effort', 'grew', 'far', 'natur', 'depreci', 'save', 'eme', 'fairli', 'briskli', 'symmetr', 'requir', 'buildup', 'veloc', 'season', 'evolv', 'preced', 'percentag', 'fundament', 'slight', 'lag', 'jump', 'afe', 'languag', 'wane', 'curv', 'importantli', 'al', 'add', 'character', 'shortag', 'ga', 'neutral', 'increasingli', 'flatten', 'remark', 'tendenc', 'transport', 'opportun', 'portion', 'attain', 'constraint', 'individu', 'imbal', 'discount', 'statist', 'driven', 'acknowledg', 'rebuild', 'technolog', 'vigor', 'unseason', 'warm', 'abil', 'exampl', 'buoy', 'policymak', 'governor', 'workweek', 'equal']\n",
        "B = ['declin', 'improv', 'secur', 'bank', 'credit', 'maintain', 'spread', 'reduc', 'loan', 'fell', 'august', 'purchas', 'weak', 'provid', 'state', 'agenc', 'sharpli', 'issuanc', 'drop', 'emerg', 'commerci', 'global', 'asset', 'significantli', 'decreas', 'reduct', 'liquid', 'desk', 'situat', 'advers', 'fall', 'stabl', 'downward', 'sheet', 'grade', 'standard', 'maximum', 'euro', 'categori', 'contract', 'billion', 'japan', 'temporari', 'eas', 'weigh', 'sluggish', 'plan', 'extend', 'recoveri', 'subsequ', 'weaken', 'weaker', 'better', 'local', 'estat', 'gross', 'insur', 'issu', 'lend', 'flow', 'public', 'institut', 'make', 'broader']\n",
        "\n",
        "C = ['eas', 'weak', 'septemb', 'export', 'octob', 'august', 'basi', 'reduc', 'action', 'prospect', 'fell', 'major', 'drop', 'downsid', 'liquid', 'sharpli', 'reduct', 'help', 'deterior', 'weaken', 'contract', 'foster', 'deceler', 'anecdot', 'alreadi', 'strain', 'weaker', 'promot', 'institut', 'sharp', 'advers', 'money', 'led', 'soften', 'stimulu', 'facil', 'tech', 'wealth', 'sluggish', 'stress', 'neg', 'week', 'headlin', 'notic', 'summer', 'excess', 'weight', 'prefer', 'implement', 'soft', 'immedi', 'insur', 'loss', 'day', 'damp', 'disrupt', 'paper', 'tighter', 'cut', 'sourc', 'overnight', 'function', 'effort', 'mid', 'stem', 'intensifi', 'experienc', 'primari', 'board', 'propos', 'downturn', 'turmoil', 'slight', 'coronaviru', 'act', 'partner', 'fallen', 'upturn', 'lag', 'heighten', 'outbreak', 'latest', 'correct', 'taken', 'tension', 'discount', 'surround', 'pronounc', 'difficulti', 'auction', 'worsen', 'combin', 'clearli', 'repo', 'intend', 'recogn', 'abat', 'event', 'cutback', 'stimul', 'strike', 'disappoint', 'opportun', 'homebuild', 'delay', 'statist', 'approv', 'ampl', 'overhang', 'technolog']\n",
        "D = ['labor', 'pace', 'chang', 'rise', 'staff', 'longer', 'unemploy', 'run', 'improv', 'object', 'net', 'accommod', 'purchas', 'maintain', 'compens', 'expand', 'june', 'april', 'assess', 'govern', 'pick', 'contribut', 'contact', 'recoveri', 'forward', 'gradual', 'matur', 'close', 'progress', 'coupl', 'begin', 'slack', 'region', 'forc', 'stronger', 'weather', 'program', 'depend', 'receiv', 'upsid', 'hire', 'medium', 'larger', 'respond', 'maximum', 'thought', 'warrant', 'gross']\n",
        "\n",
        "E = ['declin', 'financi', 'eas', 'credit', 'weak', 'bank', 'septemb', 'august', 'basi', 'reduc', 'fell', 'major', 'drop', 'downsid', 'liquid', 'come', 'spread', 'sharpli', 'reduct', 'provid', 'loan', 'help', 'weaken', 'ahead', 'contract', 'state', 'global', 'commerci', 'emerg', 'decreas', 'deceler', 'sentiment', 'weaker', 'promot', 'asset', 'institut', 'advers', 'lend', 'significantli', 'money', 'fall', 'led', 'announc', 'soften', 'stimulu', 'grade', 'downward', 'sluggish', 'neg', 'affect', 'week', 'headlin', 'notic', 'summer', 'sheet', 'aircraft', 'prefer', 'central', 'soft', 'insur', 'standard', 'weigh', 'recoveri', 'day', 'billion', 'extend', 'slowli', 'japan', 'overnight', 'nondefens', 'experienc', 'better', 'board', 'propos', 'fallen', 'estat']\n",
        "F = ['increas', 'labor', 'pace', 'energi', 'chang', 'rise', 'gain', 'longer', 'higher', 'run', 'cost', 'object', 'sustain', 'accommod', 'februari', 'need', 'compens', 'tighten', 'advanc', 'expand', 'solid', 'strengthen', 'april', 'assess', 'boost', 'pick', 'path', 'deficit', 'contribut', 'contact', 'upward', 'rais', 'nonfarm', 'gradual', 'underli', 'close', 'tax', 'tend', 'acceler', 'inflationari', 'slack', 'forc', 'stronger', 'roughli', 'weather', 'depend', 'margin', 'upsid', 'brisk', 'perhap', 'hire', 'natur', 'fairli', 'medium', 'larger', 'respond', 'date', 'buildup', 'thu']\n",
        "\n",
        "voc_1_5_filter = set(A+B+C+D+E+F)\n",
        "\n",
        "print(len(voc_1_5_filter))\n",
        "\n",
        "'''"
      ],
      "execution_count": null,
      "outputs": [
        {
          "output_type": "stream",
          "text": [
            "311\n"
          ],
          "name": "stdout"
        }
      ]
    },
    {
      "cell_type": "code",
      "metadata": {
        "colab": {
          "base_uri": "https://localhost:8080/"
        },
        "id": "w8YS7rIIwg9P",
        "outputId": "19186746-d4d3-4944-8fcd-aa6e8e26027e"
      },
      "source": [
        "'''\n",
        "\n",
        "# 1.3 times filter (464 vocs)\n",
        "\n",
        "A = ['percent', 'rise', 'energi', 'higher', 'pressur', 'gain', 'strong', 'averag', 'cost', 'fourth', 'core', 'sustain', 'accommod', 'tighten', 'februari', 'possibl', 'aggreg', 'solid', 'robust', 'need', 'gradual', 'action', 'util', 'basi', 'boost', 'despit', 'rais', 'oper', 'contribut', 'bit', 'hurrican', 'post', 'rapid', 'underli', 'close', 'produc', 'probabl', 'acceler', 'upward', 'alreadi', 'anecdot', 'degre', 'nonfarm', 'contain', 'twelv', 'outlay', 'surg', 'upsid', 'grow', 'weather', 'materi', 'remov', 'build', 'tend', 'roughli', 'inflationari', 'pass', 'district', 'softwar', 'depend', 'brisk', 'widespread', 'margin', 'believ', 'circumst', 'compon', 'respond', 'perhap', 'owe', 'tech', 'momentum', 'process', 'effort', 'accumul', 'date', 'grew', 'far', 'natur', 'set', 'depreci', 'regist', 'retain', 'save', 'eme', 'fairli', 'briskli', 'symmetr', 'strongli', 'requir', 'buildup', 'veloc', 'season', 'evolv', 'preced', 'percentag', 'fundament', 'slight', 'drill', 'lag', 'hour', 'jump', 'afe', 'languag', 'wane', 'partial', 'curv', 'importantli', 'al', 'add', 'character', 'shortag', 'partner', 'gasolin', 'ga', 'neutral', 'increasingli', 'flatten', 'remark', 'tendenc', 'transport', 'opportun', 'accompani', 'portion', 'attain', 'pattern', 'actual', 'constraint', 'individu', 'concentr', 'imbal', 'discount', 'statist', 'driven', 'acknowledg', 'rebuild', 'technolog', 'vigor', 'unseason', 'warm', 'abil', 'exampl', 'minut', 'buoy', 'budget', 'policymak', 'governor', 'backdrop', 'workweek', 'equal', 'attribut', 'presid']\n",
        "B = ['declin', 'financi', 'staff', 'improv', 'secur', 'mortgag', 'juli', 'treasuri', 'bank', 'net', 'credit', 'june', 'septemb', 'maintain', 'bond', 'spread', 'fiscal', 'fomc', 'reduc', 'unchang', 'loan', 'fell', 'august', 'purchas', 'govern', 'weak', 'provid', 'subdu', 'state', 'agenc', 'sharpli', 'issuanc', 'investor', 'sentiment', 'drop', 'emerg', 'commerci', 'matur', 'commun', 'global', 'asset', 'significantli', 'decreas', 'progress', 'reduct', 'narrow', 'liquid', 'desk', 'situat', 'begin', 'advers', 'fall', 'stabl', 'downward', 'affect', 'sheet', 'grade', 'central', 'standard', 'reportedli', 'maximum', 'euro', 'notic', 'shift', 'warrant', 'categori', 'contract', 'billion', 'japan', 'temporari', 'slowli', 'eas', 'weigh', 'outcom', 'sluggish', 'offic', 'plan', 'extend', 'nondefens', 'recoveri', 'subsequ', 'weaken', 'share', 'weaker', 'size', 'better', 'local', 'estat', 'gross', 'insur', 'issu', 'variou', 'lend', 'flow', 'prefer', 'face', 'public', 'institut', 'overnight', 'accordingli', 'experienc', 'make', 'broader', 'tilt']\n",
        "\n",
        "C = ['economi', 'fund', 'reserv', 'eas', 'point', 'credit', 'weak', 'inventori', 'high', 'trade', 'septemb', 'export', 'octob', 'capit', 'core', 'august', 'basi', 'reduc', 'avail', 'action', 'prospect', 'fell', 'major', 'drop', 'downsid', 'stock', 'liquid', 'futur', 'sharpli', 'reduct', 'provid', 'relat', 'evid', 'help', 'deterior', 'weaken', 'ahead', 'confid', 'contract', 'notabl', 'global', 'foster', 'moreov', 'ratio', 'deceler', 'anecdot', 'alreadi', 'strain', 'weaker', 'promot', 'suppli', 'institut', 'sharp', 'advers', 'lend', 'money', 'fall', 'led', 'announc', 'perform', 'soften', 'stimulu', 'borrow', 'facil', 'grade', 'downward', 'tech', 'wealth', 'sluggish', 'stress', 'neg', 'materi', 'consumpt', 'affect', 'turn', 'week', 'softwar', 'profit', 'headlin', 'notic', 'summer', 'excess', 'weight', 'aircraft', 'prefer', 'implement', 'deposit', 'soft', 'immedi', 'insur', 'loss', 'weigh', 'inde', 'day', 'look', 'damp', 'disrupt', 'paper', 'circumst', 'tighter', 'cut', 'sourc', 'overnight', 'believ', 'desir', 'function', 'mark', 'effort', 'mid', 'stem', 'intensifi', 'experienc', 'primari', 'board', 'refer', 'propos', 'downturn', 'turmoil', 'slight', 'coronaviru', 'automot', 'act', 'ad', 'partner', 'fallen', 'consequ', 'upturn', 'lag', 'heighten', 'uncertain', 'outbreak', 'latest', 'correct', 'taken', 'tension', 'discount', 'surround', 'pronounc', 'intermedi', 'symmetr', 'difficulti', 'auction', 'worsen', 'outsid', 'combin', 'vulner', 'clearli', 'repo', 'intend', 'wholesal', 'place', 'recogn', 'abat', 'event', 'cutback', 'percentag', 'stimul', 'strike', 'disappoint', 'outstand', 'opportun', 'homebuild', 'upper', 'delay', 'statist', 'approv', 'al', 'ampl', 'overhang', 'technolog']\n",
        "D = ['increas', 'labor', 'pace', 'low', 'chang', 'rise', 'employ', 'project', 'secur', 'gain', 'staff', 'longer', 'unemploy', 'higher', 'run', 'survey', 'cost', 'improv', 'loan', 'object', 'factor', 'net', 'nomin', 'accommod', 'purchas', 'march', 'februari', 'total', 'maintain', 'compens', 'tighten', 'advanc', 'fiscal', 'asset', 'expand', 'appropri', 'solid', 'base', 'strengthen', 'agenc', 'june', 'april', 'assess', 'nonfinanci', 'worker', 'modest', 'subdu', 'wage', 'govern', 'review', 'pick', 'path', 'deficit', 'contribut', 'contrast', 'contact', 'situat', 'restraint', 'rais', 'recoveri', 'forward', 'narrow', 'nonfarm', 'gradual', 'matur', 'underli', 'close', 'tax', 'euro', 'modestli', 'progress', 'acceler', 'coupl', 'begin', 'slack', 'reportedli', 'region', 'forc', 'issu', 'stronger', 'roughli', 'payment', 'weather', 'program', 'depend', 'margin', 'receiv', 'upsid', 'brisk', 'perhap', 'reach', 'hire', 'dealer', 'medium', 'larger', 'respond', 'maximum', 'thought', 'date', 'warrant', 'gross', 'princip', 'establish', 'thu']\n",
        "\n",
        "E = ['declin', 'financi', 'activ', 'fund', 'reserv', 'sale', 'eas', 'credit', 'weak', 'inventori', 'bank', 'septemb', 'export', 'lower', 'octob', 'substanti', 'capit', 'mani', 'august', 'basi', 'mortgag', 'reduc', 'addit', 'avail', 'action', 'fell', 'motor', 'major', 'drop', 'downsid', 'stock', 'liquid', 'come', 'spread', 'sharpli', 'reduct', 'provid', 'loan', 'half', 'help', 'weaken', 'ahead', 'contract', 'notabl', 'purchas', 'light', 'state', 'global', 'commerci', 'financ', 'emerg', 'foster', 'sizabl', 'moreov', 'decreas', 'ratio', 'deceler', 'sentiment', 'weaker', 'promot', 'asset', 'issuanc', 'institut', 'short', 'advers', 'lend', 'investor', 'significantli', 'money', 'revis', 'fall', 'led', 'announc', 'perform', 'residenti', 'soften', 'stimulu', 'borrow', 'nonetheless', 'grade', 'downward', 'tech', 'wealth', 'sluggish', 'neg', 'affect', 'turn', 'week', 'profit', 'headlin', 'notic', 'summer', 'weight', 'sheet', 'lead', 'aircraft', 'prefer', 'central', 'deposit', 'soft', 'insur', 'standard', 'weigh', 'recoveri', 'day', 'damp', 'disrupt', 'billion', 'extend', 'slowli', 'japan', 'euro', 'shift', 'overnight', 'desir', 'nondefens', 'experienc', 'temporari', 'better', 'board', 'refer', 'propos', 'plan', 'fallen', 'consequ', 'estat', 'uncertain', 'discount', 'issu', 'tilt', 'public', 'clearli']\n",
        "F = ['inflat', 'increas', 'polici', 'expect', 'percent', 'labor', 'pace', 'energi', 'chang', 'rise', 'strong', 'fourth', 'gain', 'longer', 'unemploy', 'higher', 'run', 'cost', 'januari', 'object', 'possibl', 'sustain', 'nomin', 'accommod', 'long', 'robust', 'februari', 'total', 'need', 'util', 'trend', 'compens', 'tighten', 'advanc', 'seen', 'expand', 'despit', 'appropri', 'solid', 'base', 'strengthen', 'june', 'april', 'assess', 'strength', 'boost', 'broad', 'worker', 'rapid', 'express', 'bit', 'review', 'post', 'probabl', 'pick', 'path', 'deficit', 'contribut', 'degre', 'contact', 'upward', 'restraint', 'rais', 'exchang', 'forward', 'capac', 'surg', 'nonfarm', 'gradual', 'underli', 'close', 'tax', 'partli', 'believ', 'tend', 'rapidli', 'modestli', 'acceler', 'inflationari', 'return', 'durabl', 'coupl', 'necessari', 'slack', 'region', 'forc', 'far', 'accumul', 'stronger', 'regist', 'roughli', 'payment', 'weather', 'grew', 'depend', 'margin', 'receiv', 'requir', 'upsid', 'benefit', 'brisk', 'perhap', 'reach', 'hire', 'natur', 'fairli', 'medium', 'larger', 'respond', 'thought', 'date', 'princip', 'buildup', 'establish', 'thu']\n",
        "\n",
        "voc_1_3_filter = set(A+B+C+D+E+F)\n",
        "\n",
        "print(len(voc_1_3_filter))\n",
        "\n",
        "'''"
      ],
      "execution_count": null,
      "outputs": [
        {
          "output_type": "stream",
          "text": [
            "464\n"
          ],
          "name": "stdout"
        }
      ]
    },
    {
      "cell_type": "code",
      "metadata": {
        "colab": {
          "base_uri": "https://localhost:8080/"
        },
        "id": "qJD9GnA4yrt9",
        "outputId": "c3df3818-8e01-4ff7-8724-ec7e97a219a4"
      },
      "source": [
        "# 1.7 times filter (210 vocs)\n",
        "\n",
        "A = ['tighten', 'need', 'rais', 'hurrican', 'underli', 'contain', 'upsid', 'weather', 'remov', 'inflationari', 'pass', 'brisk', 'margin', 'believ', 'owe', 'momentum', 'process', 'effort', 'grew', 'save', 'eme', 'symmetr', 'requir', 'buildup', 'evolv', 'percentag', 'fundament', 'jump', 'afe', 'curv', 'al', 'add', 'shortag', 'ga', 'neutral', 'increasingli', 'flatten', 'remark', 'tendenc', 'attain', 'constraint', 'imbal', 'discount', 'acknowledg', 'rebuild', 'technolog', 'vigor', 'unseason', 'warm', 'exampl', 'buoy', 'policymak', 'workweek', 'equal']\n",
        "B = ['secur', 'bank', 'credit', 'loan', 'august', 'purchas', 'weak', 'agenc', 'drop', 'commerci', 'asset', 'decreas', 'reduct', 'liquid', 'fall', 'stabl', 'standard', 'euro', 'contract', 'billion', 'japan', 'eas', 'extend', 'recoveri', 'weaken', 'weaker', 'better', 'estat', 'gross', 'issu', 'lend', 'institut', 'broader']\n",
        "\n",
        "C = ['eas', 'weak', 'septemb', 'basi', 'action', 'drop', 'downsid', 'liquid', 'sharpli', 'reduct', 'help', 'deterior', 'weaken', 'contract', 'deceler', 'anecdot', 'alreadi', 'strain', 'weaker', 'promot', 'institut', 'led', 'soften', 'stimulu', 'facil', 'tech', 'sluggish', 'stress', 'neg', 'week', 'headlin', 'summer', 'excess', 'prefer', 'loss', 'day', 'paper', 'tighter', 'sourc', 'function', 'stem', 'intensifi', 'primari', 'board', 'propos', 'downturn', 'turmoil', 'slight', 'coronaviru', 'act', 'partner', 'fallen', 'upturn', 'heighten', 'outbreak', 'correct', 'taken', 'tension', 'discount', 'surround', 'pronounc', 'auction', 'worsen', 'combin', 'repo', 'intend', 'recogn', 'abat', 'cutback', 'stimul', 'strike', 'disappoint', 'approv', 'ampl', 'overhang', 'technolog']\n",
        "D = ['longer', 'unemploy', 'run', 'improv', 'purchas', 'expand', 'june', 'april', 'contact', 'recoveri', 'forward', 'gradual', 'slack', 'stronger', 'program', 'hire', 'medium', 'maximum', 'warrant']\n",
        "\n",
        "E = ['declin', 'financi', 'eas', 'credit', 'weak', 'bank', 'septemb', 'august', 'reduc', 'fell', 'drop', 'downsid', 'liquid', 'sharpli', 'reduct', 'provid', 'help', 'weaken', 'contract', 'global', 'commerci', 'emerg', 'decreas', 'weaker', 'promot', 'asset', 'institut', 'advers', 'lend', 'significantli', 'fall', 'led', 'soften', 'stimulu', 'grade', 'downward', 'sluggish', 'neg', 'affect', 'headlin', 'notic', 'summer', 'prefer', 'soft', 'insur', 'weigh', 'recoveri', 'extend', 'overnight', 'experienc']\n",
        "F = ['increas', 'pace', 'energi', 'rise', 'gain', 'longer', 'higher', 'run', 'cost', 'sustain', 'accommod', 'februari', 'tighten', 'expand', 'solid', 'april', 'assess', 'contribut', 'contact', 'rais', 'nonfarm', 'gradual', 'underli', 'close', 'acceler', 'slack', 'forc', 'roughli', 'weather', 'depend', 'margin', 'upsid', 'brisk', 'perhap', 'hire', 'medium', 'larger', 'respond', 'date']\n",
        "\n",
        "voc_1_7_filter = set(A+B+C+D+E+F)\n",
        "\n",
        "print(len(voc_1_7_filter))"
      ],
      "execution_count": null,
      "outputs": [
        {
          "output_type": "stream",
          "text": [
            "210\n"
          ],
          "name": "stdout"
        }
      ]
    },
    {
      "cell_type": "code",
      "metadata": {
        "id": "bn5KTw1xQ7M2"
      },
      "source": [
        "from sklearn.feature_extraction.text import CountVectorizer\n",
        "from sklearn.model_selection import cross_val_score\n",
        "\n",
        "# build BOW features on train articles\n",
        "cv = CountVectorizer(binary=False, min_df=0.0, max_df=1.0, vocabulary = voc_1_7_filter, ngram_range=(1, 1))\n",
        "cv_train_features = cv.fit_transform(train_corpus)"
      ],
      "execution_count": null,
      "outputs": []
    },
    {
      "cell_type": "code",
      "metadata": {
        "id": "H-GXGWR7Q8io"
      },
      "source": [
        "# transform test articles into features\n",
        "cv_test_features = cv.transform(test_corpus)"
      ],
      "execution_count": null,
      "outputs": []
    },
    {
      "cell_type": "code",
      "metadata": {
        "id": "9KWWx4LIohif"
      },
      "source": [
        "# print(cv_train_features)"
      ],
      "execution_count": null,
      "outputs": []
    },
    {
      "cell_type": "code",
      "metadata": {
        "colab": {
          "base_uri": "https://localhost:8080/"
        },
        "id": "eMBXTjcoRD4S",
        "outputId": "3cc9b143-93e3-4238-9442-e41dda9b9c5c"
      },
      "source": [
        "print('BOW model:> Train features shape:', cv_train_features.shape, ' Test features shape:', cv_test_features.shape)"
      ],
      "execution_count": null,
      "outputs": [
        {
          "output_type": "stream",
          "text": [
            "BOW model:> Train features shape: (177, 210)  Test features shape: (45, 210)\n"
          ],
          "name": "stdout"
        }
      ]
    },
    {
      "cell_type": "markdown",
      "metadata": {
        "id": "z-oQeGrdYwxB"
      },
      "source": [
        "## Confusion matrix function"
      ]
    },
    {
      "cell_type": "code",
      "metadata": {
        "id": "OrgDyHs0Ydl9"
      },
      "source": [
        "from sklearn import metrics\n",
        "import pandas as pd\n",
        "\n",
        "def display_confusion_matrix(true_labels, predicted_labels, classes=[1,0]):\n",
        "    \n",
        "    total_classes = len(classes)\n",
        "    level_labels = [total_classes*[0], list(range(total_classes))]\n",
        "\n",
        "    cm = metrics.confusion_matrix(y_true=true_labels, y_pred=predicted_labels, \n",
        "                                  labels=classes)\n",
        "    cm_frame = pd.DataFrame(data=cm, \n",
        "                            columns=pd.MultiIndex.from_product([['Predicted'], classes]), \n",
        "                            index=pd.MultiIndex.from_product([['Actual'], classes])) \n",
        "    '''\n",
        "    cm_frame = pd.DataFrame(data=cm, \n",
        "                        columns=pd.MultiIndex.from_product(levels=[['Predicted:'], classes], \n",
        "                                              labels=level_labels), \n",
        "                        index=pd.MultiIndex.from_product(levels=[['Actual:'], classes], \n",
        "                                            labels=level_labels)) \n",
        "    '''\n",
        "    print(cm_frame) "
      ],
      "execution_count": null,
      "outputs": []
    },
    {
      "cell_type": "code",
      "metadata": {
        "id": "cRviGNFgY7u5"
      },
      "source": [
        "from sklearn import metrics\n",
        "import pandas as pd\n",
        "\n",
        "def display_confusion_matrix_pretty(true_labels, predicted_labels, classes=[1,0]):\n",
        "    \n",
        "    total_classes = len(classes)\n",
        "    level_labels = [total_classes*[0], list(range(total_classes))]\n",
        "\n",
        "    cm = metrics.confusion_matrix(y_true=true_labels, y_pred=predicted_labels, \n",
        "                                  labels=classes)\n",
        "    cm_frame = pd.DataFrame(data=cm, \n",
        "                            columns=pd.MultiIndex.from_product([['Predicted'], classes]), \n",
        "                            index=pd.MultiIndex.from_product([['Actual'], classes])) \n",
        "    return cm_frame"
      ],
      "execution_count": null,
      "outputs": []
    },
    {
      "cell_type": "markdown",
      "metadata": {
        "id": "dJI4gPL3zVFP"
      },
      "source": [
        "## LR"
      ]
    },
    {
      "cell_type": "code",
      "metadata": {
        "id": "hq5WvY1vbk1G"
      },
      "source": [
        "'''\n",
        "\n",
        "param_grid = [\n",
        "    {\n",
        "        \"preprocesser__num_transform__imputer__strategy\": [\"mean\", \"median\"],\n",
        "        \"classifier__C\": [0.1, 1.0, 10.0, 100.0],\n",
        "        \"classifier\": [LogisticRegression()]\n",
        "    }\n",
        "]\n",
        "\n",
        "grid_search = GridSearchCV(model, param_grid, cv=10, verbose=1,n_jobs=-1)\n",
        "grid_search.fit(X_train, y_train)\n",
        "\n",
        "\n",
        "param_grid = [\n",
        "    {\n",
        "        \"preprocesser__num_transform__imputer__strategy\": [\"mean\", \"median\"],\n",
        "        \"classifier__C\": [0.1, 1.0, 10.0, 100.0],\n",
        "        \"classifier\": [LogisticRegression()]\n",
        "    },\n",
        "    {\n",
        "        \"preprocesser__num_transform__imputer__strategy\": [\"mean\", \"median\"],\n",
        "        \"classifier__n_estimators\": [10, 100, 1000],\n",
        "        \"classifier\": [RandomForestClassifier()]\n",
        "    }\n",
        "]\n",
        "grid_search = GridSearchCV(model, param_grid, cv=10, verbose=1,n_jobs=-1)\n",
        "grid_search.fit(X_train, y_train)\n",
        "\n",
        "'''"
      ],
      "execution_count": null,
      "outputs": []
    },
    {
      "cell_type": "code",
      "metadata": {
        "colab": {
          "base_uri": "https://localhost:8080/"
        },
        "id": "uRPqZXK1zLXE",
        "outputId": "351c4743-7610-4cea-a52c-1709fa4ba875"
      },
      "source": [
        "'''\n",
        "\n",
        "from sklearn.linear_model import LogisticRegression\n",
        "from sklearn.model_selection import StratifiedKFold\n",
        "\n",
        "train_ = np.zeros(10)\n",
        "lr = LogisticRegression(penalty='l2', max_iter=8000, C=0.1, random_state=42)\n",
        "\n",
        "for i in range(10):\n",
        "\n",
        "  lr_bow_cv_scores = cross_val_score(lr, cv_train_features, train_label_nums, cv=StratifiedKFold(n_splits=5, shuffle=True))\n",
        "  lr_bow_cv_mean_score = np.mean(lr_bow_cv_scores)\n",
        "  print('CV Accuracy (5-fold):', lr_bow_cv_scores)\n",
        "  print('Mean Training CV Accuracy:', lr_bow_cv_mean_score)\n",
        "\n",
        "  train_[i] = lr_bow_cv_mean_score\n",
        "\n",
        "lr.fit(cv_train_features, train_label_nums)\n",
        "lr_bow_test_score = lr.score(cv_test_features, test_label_nums)\n",
        "\n",
        "y_test_pred = lr.predict(cv_test_features)\n",
        "cm = metrics.confusion_matrix(y_true=test_label_nums, y_pred=y_test_pred, \n",
        "                              labels=[-1,0,1])\n",
        "print(cm)\n",
        "\n",
        "print('----------')\n",
        "print('Test Accuracy:', lr_bow_test_score)\n",
        "\n",
        "'''"
      ],
      "execution_count": null,
      "outputs": [
        {
          "output_type": "stream",
          "text": [
            "CV Accuracy (5-fold): [0.91666667 0.83333333 0.97142857 0.94285714 0.82857143]\n",
            "Mean Training CV Accuracy: 0.8985714285714286\n",
            "CV Accuracy (5-fold): [0.86111111 0.88888889 0.85714286 0.97142857 0.88571429]\n",
            "Mean Training CV Accuracy: 0.8928571428571429\n",
            "CV Accuracy (5-fold): [0.88888889 0.94444444 0.91428571 0.77142857 0.97142857]\n",
            "Mean Training CV Accuracy: 0.8980952380952381\n",
            "CV Accuracy (5-fold): [0.91666667 0.83333333 0.85714286 0.91428571 0.91428571]\n",
            "Mean Training CV Accuracy: 0.8871428571428572\n",
            "CV Accuracy (5-fold): [0.94444444 0.88888889 0.97142857 0.91428571 0.85714286]\n",
            "Mean Training CV Accuracy: 0.9152380952380952\n",
            "CV Accuracy (5-fold): [0.97222222 1.         0.85714286 0.94285714 0.88571429]\n",
            "Mean Training CV Accuracy: 0.9315873015873016\n",
            "CV Accuracy (5-fold): [0.88888889 0.86111111 0.91428571 0.8        0.88571429]\n",
            "Mean Training CV Accuracy: 0.8699999999999999\n",
            "CV Accuracy (5-fold): [0.86111111 0.94444444 0.91428571 0.88571429 0.74285714]\n",
            "Mean Training CV Accuracy: 0.8696825396825396\n",
            "CV Accuracy (5-fold): [0.86111111 0.88888889 0.85714286 0.82857143 0.91428571]\n",
            "Mean Training CV Accuracy: 0.8700000000000001\n",
            "CV Accuracy (5-fold): [0.94444444 0.86111111 0.91428571 0.88571429 0.8       ]\n",
            "Mean Training CV Accuracy: 0.8811111111111112\n",
            "[[ 6  0  0]\n",
            " [ 0 30  1]\n",
            " [ 0  5  3]]\n",
            "----------\n",
            "Test Accuracy: 0.8666666666666667\n"
          ],
          "name": "stdout"
        }
      ]
    },
    {
      "cell_type": "code",
      "metadata": {
        "colab": {
          "base_uri": "https://localhost:8080/"
        },
        "id": "p_Z8azzKdBXz",
        "outputId": "6117e5d5-1bdf-497f-8bf1-b5d04f792c92"
      },
      "source": [
        "from sklearn.pipeline import Pipeline\n",
        "from sklearn.model_selection import GridSearchCV\n",
        "from sklearn.feature_extraction.text import TfidfVectorizer\n",
        "from sklearn.linear_model import LogisticRegression\n",
        "\n",
        "\n",
        "lr_pipeline = Pipeline([('lr', LogisticRegression(penalty='l2', max_iter=8000, random_state=42))])\n",
        "\n",
        "param_grid = {'lr__C': [0.001, 0.01, 0.05, 0.1, 0.5, 1.0, 10.0, 100.0]}\n",
        "\n",
        "gs_lr = GridSearchCV(lr_pipeline, param_grid, cv=5, verbose=1)\n",
        "gs_lr = gs_lr.fit(cv_train_features, train_label_nums)\n"
      ],
      "execution_count": null,
      "outputs": [
        {
          "output_type": "stream",
          "text": [
            "Fitting 5 folds for each of 8 candidates, totalling 40 fits\n"
          ],
          "name": "stdout"
        },
        {
          "output_type": "stream",
          "text": [
            "[Parallel(n_jobs=1)]: Using backend SequentialBackend with 1 concurrent workers.\n",
            "[Parallel(n_jobs=1)]: Done  40 out of  40 | elapsed:   11.3s finished\n"
          ],
          "name": "stderr"
        }
      ]
    },
    {
      "cell_type": "code",
      "metadata": {
        "colab": {
          "base_uri": "https://localhost:8080/"
        },
        "id": "05DJRKQwgM7v",
        "outputId": "faccbd7b-57b8-403c-e21a-2c3d158aac2b"
      },
      "source": [
        "gs_lr.best_estimator_.get_params()"
      ],
      "execution_count": null,
      "outputs": [
        {
          "output_type": "execute_result",
          "data": {
            "text/plain": [
              "{'lr': LogisticRegression(C=5, class_weight=None, dual=False, fit_intercept=True,\n",
              "                    intercept_scaling=1, l1_ratio=None, max_iter=8000,\n",
              "                    multi_class='auto', n_jobs=None, penalty='l2',\n",
              "                    random_state=42, solver='lbfgs', tol=0.0001, verbose=0,\n",
              "                    warm_start=False),\n",
              " 'lr__C': 5,\n",
              " 'lr__class_weight': None,\n",
              " 'lr__dual': False,\n",
              " 'lr__fit_intercept': True,\n",
              " 'lr__intercept_scaling': 1,\n",
              " 'lr__l1_ratio': None,\n",
              " 'lr__max_iter': 8000,\n",
              " 'lr__multi_class': 'auto',\n",
              " 'lr__n_jobs': None,\n",
              " 'lr__penalty': 'l2',\n",
              " 'lr__random_state': 42,\n",
              " 'lr__solver': 'lbfgs',\n",
              " 'lr__tol': 0.0001,\n",
              " 'lr__verbose': 0,\n",
              " 'lr__warm_start': False,\n",
              " 'memory': None,\n",
              " 'steps': [('lr',\n",
              "   LogisticRegression(C=5, class_weight=None, dual=False, fit_intercept=True,\n",
              "                      intercept_scaling=1, l1_ratio=None, max_iter=8000,\n",
              "                      multi_class='auto', n_jobs=None, penalty='l2',\n",
              "                      random_state=42, solver='lbfgs', tol=0.0001, verbose=0,\n",
              "                      warm_start=False))],\n",
              " 'verbose': False}"
            ]
          },
          "metadata": {
            "tags": []
          },
          "execution_count": 83
        }
      ]
    },
    {
      "cell_type": "code",
      "metadata": {
        "colab": {
          "base_uri": "https://localhost:8080/",
          "height": 290
        },
        "id": "RDn_do2WgRLN",
        "outputId": "32727bf2-53ee-4acb-8a2c-6225bfce673a"
      },
      "source": [
        "cv_results = gs_lr.cv_results_\n",
        "results_df = pd.DataFrame({'rank': cv_results['rank_test_score'],\n",
        "                           'params': cv_results['params'], \n",
        "                           'cv score (mean)': cv_results['mean_test_score'], \n",
        "                           'cv score (std)': cv_results['std_test_score']}\n",
        "                          )\n",
        "\n",
        "results_df = results_df.sort_values(by=['rank'], ascending=True)\n",
        "pd.set_option('display.max_colwidth', 100)\n",
        "results_df"
      ],
      "execution_count": null,
      "outputs": [
        {
          "output_type": "execute_result",
          "data": {
            "text/html": [
              "<div>\n",
              "<style scoped>\n",
              "    .dataframe tbody tr th:only-of-type {\n",
              "        vertical-align: middle;\n",
              "    }\n",
              "\n",
              "    .dataframe tbody tr th {\n",
              "        vertical-align: top;\n",
              "    }\n",
              "\n",
              "    .dataframe thead th {\n",
              "        text-align: right;\n",
              "    }\n",
              "</style>\n",
              "<table border=\"1\" class=\"dataframe\">\n",
              "  <thead>\n",
              "    <tr style=\"text-align: right;\">\n",
              "      <th></th>\n",
              "      <th>rank</th>\n",
              "      <th>params</th>\n",
              "      <th>cv score (mean)</th>\n",
              "      <th>cv score (std)</th>\n",
              "    </tr>\n",
              "  </thead>\n",
              "  <tbody>\n",
              "    <tr>\n",
              "      <th>3</th>\n",
              "      <td>1</td>\n",
              "      <td>{'lr__C': 0.1}</td>\n",
              "      <td>0.847302</td>\n",
              "      <td>0.029817</td>\n",
              "    </tr>\n",
              "    <tr>\n",
              "      <th>2</th>\n",
              "      <td>2</td>\n",
              "      <td>{'lr__C': 0.05}</td>\n",
              "      <td>0.841746</td>\n",
              "      <td>0.029310</td>\n",
              "    </tr>\n",
              "    <tr>\n",
              "      <th>1</th>\n",
              "      <td>3</td>\n",
              "      <td>{'lr__C': 0.01}</td>\n",
              "      <td>0.836190</td>\n",
              "      <td>0.048807</td>\n",
              "    </tr>\n",
              "    <tr>\n",
              "      <th>6</th>\n",
              "      <td>4</td>\n",
              "      <td>{'lr__C': 10.0}</td>\n",
              "      <td>0.836190</td>\n",
              "      <td>0.027701</td>\n",
              "    </tr>\n",
              "    <tr>\n",
              "      <th>4</th>\n",
              "      <td>5</td>\n",
              "      <td>{'lr__C': 0.5}</td>\n",
              "      <td>0.830476</td>\n",
              "      <td>0.031385</td>\n",
              "    </tr>\n",
              "    <tr>\n",
              "      <th>5</th>\n",
              "      <td>5</td>\n",
              "      <td>{'lr__C': 1.0}</td>\n",
              "      <td>0.830476</td>\n",
              "      <td>0.031385</td>\n",
              "    </tr>\n",
              "    <tr>\n",
              "      <th>7</th>\n",
              "      <td>7</td>\n",
              "      <td>{'lr__C': 100.0}</td>\n",
              "      <td>0.824921</td>\n",
              "      <td>0.032814</td>\n",
              "    </tr>\n",
              "    <tr>\n",
              "      <th>0</th>\n",
              "      <td>8</td>\n",
              "      <td>{'lr__C': 0.001}</td>\n",
              "      <td>0.813333</td>\n",
              "      <td>0.052984</td>\n",
              "    </tr>\n",
              "  </tbody>\n",
              "</table>\n",
              "</div>"
            ],
            "text/plain": [
              "   rank            params  cv score (mean)  cv score (std)\n",
              "3     1    {'lr__C': 0.1}         0.847302        0.029817\n",
              "2     2   {'lr__C': 0.05}         0.841746        0.029310\n",
              "1     3   {'lr__C': 0.01}         0.836190        0.048807\n",
              "6     4   {'lr__C': 10.0}         0.836190        0.027701\n",
              "4     5    {'lr__C': 0.5}         0.830476        0.031385\n",
              "5     5    {'lr__C': 1.0}         0.830476        0.031385\n",
              "7     7  {'lr__C': 100.0}         0.824921        0.032814\n",
              "0     8  {'lr__C': 0.001}         0.813333        0.052984"
            ]
          },
          "metadata": {
            "tags": []
          },
          "execution_count": 90
        }
      ]
    },
    {
      "cell_type": "code",
      "metadata": {
        "colab": {
          "base_uri": "https://localhost:8080/"
        },
        "id": "Ecz7SBCkgWP4",
        "outputId": "312790d4-a38e-4185-c75c-5c0d9615928b"
      },
      "source": [
        "best_lr_test_score = gs_lr.score(cv_test_features, test_label_nums)\n",
        "print('Test Accuracy :', best_lr_test_score)"
      ],
      "execution_count": null,
      "outputs": [
        {
          "output_type": "stream",
          "text": [
            "Test Accuracy : 0.9555555555555556\n"
          ],
          "name": "stdout"
        }
      ]
    },
    {
      "cell_type": "code",
      "metadata": {
        "colab": {
          "base_uri": "https://localhost:8080/"
        },
        "id": "xNLjmnpopDWK",
        "outputId": "6de8a25d-57f5-4970-dbdc-df9e4b4049b6"
      },
      "source": [
        "# Confusion matrix 01\n",
        "from sklearn.metrics import classification_report\n",
        "\n",
        "y_test_pred = gs_lr.predict(cv_test_features)\n",
        "\n",
        "print(classification_report(test_label_nums, y_test_pred))"
      ],
      "execution_count": null,
      "outputs": [
        {
          "output_type": "stream",
          "text": [
            "              precision    recall  f1-score   support\n",
            "\n",
            "          -1       1.00      0.83      0.91         6\n",
            "           0       0.94      1.00      0.97        31\n",
            "           1       1.00      0.88      0.93         8\n",
            "\n",
            "    accuracy                           0.96        45\n",
            "   macro avg       0.98      0.90      0.94        45\n",
            "weighted avg       0.96      0.96      0.95        45\n",
            "\n"
          ],
          "name": "stdout"
        }
      ]
    },
    {
      "cell_type": "code",
      "metadata": {
        "colab": {
          "base_uri": "https://localhost:8080/",
          "height": 170
        },
        "id": "5Rsy2SgPpi3M",
        "outputId": "1fc22fa0-fb43-4dd2-ec9d-92c11088b378"
      },
      "source": [
        "# Confusion matrix 02\n",
        "\n",
        "# display_confusion_matrix(true_labels=test_label_nums, predicted_labels=y_test_pred, classes=[-1, 0, 1])\n",
        "\n",
        "display_confusion_matrix_pretty(true_labels=test_label_nums, predicted_labels=y_test_pred, classes=[-1, 0, 1])"
      ],
      "execution_count": null,
      "outputs": [
        {
          "output_type": "execute_result",
          "data": {
            "text/html": [
              "<div>\n",
              "<style scoped>\n",
              "    .dataframe tbody tr th:only-of-type {\n",
              "        vertical-align: middle;\n",
              "    }\n",
              "\n",
              "    .dataframe tbody tr th {\n",
              "        vertical-align: top;\n",
              "    }\n",
              "\n",
              "    .dataframe thead tr th {\n",
              "        text-align: left;\n",
              "    }\n",
              "</style>\n",
              "<table border=\"1\" class=\"dataframe\">\n",
              "  <thead>\n",
              "    <tr>\n",
              "      <th></th>\n",
              "      <th></th>\n",
              "      <th colspan=\"3\" halign=\"left\">Predicted</th>\n",
              "    </tr>\n",
              "    <tr>\n",
              "      <th></th>\n",
              "      <th></th>\n",
              "      <th>-1</th>\n",
              "      <th>0</th>\n",
              "      <th>1</th>\n",
              "    </tr>\n",
              "  </thead>\n",
              "  <tbody>\n",
              "    <tr>\n",
              "      <th rowspan=\"3\" valign=\"top\">Actual</th>\n",
              "      <th>-1</th>\n",
              "      <td>5</td>\n",
              "      <td>1</td>\n",
              "      <td>0</td>\n",
              "    </tr>\n",
              "    <tr>\n",
              "      <th>0</th>\n",
              "      <td>0</td>\n",
              "      <td>31</td>\n",
              "      <td>0</td>\n",
              "    </tr>\n",
              "    <tr>\n",
              "      <th>1</th>\n",
              "      <td>0</td>\n",
              "      <td>1</td>\n",
              "      <td>7</td>\n",
              "    </tr>\n",
              "  </tbody>\n",
              "</table>\n",
              "</div>"
            ],
            "text/plain": [
              "          Predicted       \n",
              "                 -1   0  1\n",
              "Actual -1         5   1  0\n",
              "        0         0  31  0\n",
              "        1         0   1  7"
            ]
          },
          "metadata": {
            "tags": []
          },
          "execution_count": 99
        }
      ]
    },
    {
      "cell_type": "code",
      "metadata": {
        "id": "S7XlnAEBdBsh"
      },
      "source": [
        "'''\n",
        "from sklearn.pipeline import Pipeline\n",
        "from sklearn.model_selection import GridSearchCV\n",
        "from sklearn.naive_bayes import MultinomialNB\n",
        "from sklearn.feature_extraction.text import TfidfVectorizer\n",
        "\n",
        "mnb_pipeline = Pipeline([('tfidf', TfidfVectorizer()),\n",
        "                        ('mnb', MultinomialNB())\n",
        "                       ])\n",
        "\n",
        "param_grid = {'tfidf__ngram_range': [(1, 1), (1, 2)],\n",
        "              'mnb__alpha': [1e-5, 1e-4, 1e-2, 1e-1, 1]\n",
        "}\n",
        "\n",
        "gs_mnb = GridSearchCV(mnb_pipeline, param_grid, cv=5, verbose=2)\n",
        "gs_mnb = gs_mnb.fit(train_corpus, train_label_names)\n",
        "\n",
        "\n",
        "\n",
        "from sklearn.pipeline import Pipeline\n",
        "from sklearn.model_selection import GridSearchCV\n",
        "\n",
        "lr_pipeline = Pipeline([('tfidf', TfidfVectorizer()),\n",
        "                        ('lr', LogisticRegression(penalty='l2', max_iter=100, random_state=42))\n",
        "                       ])\n",
        "\n",
        "param_grid = {'tfidf__ngram_range': [(1, 1), (1, 2)],\n",
        "              'lr__C': [1, 5, 10]\n",
        "}\n",
        "\n",
        "gs_lr = GridSearchCV(lr_pipeline, param_grid, cv=5, verbose=2)\n",
        "gs_lr = gs_lr.fit(train_corpus, train_label_names)\n",
        "\n",
        "\n",
        "\n",
        "from sklearn.pipeline import Pipeline\n",
        "from sklearn.model_selection import GridSearchCV\n",
        "\n",
        "svm_pipeline = Pipeline([('tfidf', TfidfVectorizer()),\n",
        "                        ('svm', LinearSVC(random_state=42))\n",
        "                       ])\n",
        "\n",
        "param_grid = {'tfidf__ngram_range': [(1, 1), (1, 2)],\n",
        "              'svm__C': [0.01, 0.1, 1, 5]\n",
        "}\n",
        "\n",
        "gs_svm = GridSearchCV(svm_pipeline, param_grid, cv=5, verbose=2)\n",
        "gs_svm = gs_svm.fit(train_corpus, train_label_names)\n",
        "\n",
        "\n",
        "\n",
        "from sklearn.pipeline import Pipeline\n",
        "from sklearn.model_selection import GridSearchCV\n",
        "\n",
        "sgd_pipeline = Pipeline([('tfidf', TfidfVectorizer()),\n",
        "                        ('sgd', SGDClassifier(random_state=42))\n",
        "                       ])\n",
        "\n",
        "param_grid = {'tfidf__ngram_range': [(1, 1), (1, 2)],\n",
        "              'sgd__alpha': [1e-7, 1e-6, 1e-5, 1e-4]\n",
        "}\n",
        "\n",
        "gs_sgd = GridSearchCV(sgd_pipeline, param_grid, cv=5, verbose=2)\n",
        "gs_sgd = gs_sgd.fit(train_corpus, train_label_names)"
      ],
      "execution_count": null,
      "outputs": []
    },
    {
      "cell_type": "code",
      "metadata": {
        "colab": {
          "base_uri": "https://localhost:8080/"
        },
        "id": "GMQQeYrpz05p",
        "outputId": "fc366bfc-ed7b-4d22-a07c-60c3c355005f"
      },
      "source": [
        "'''\n",
        "y_test_pred = lr.predict(cv_test_features)\n",
        "cm = metrics.confusion_matrix(y_true=test_label_nums, y_pred=y_test_pred, \n",
        "                              labels=[-1, 0, 1])\n",
        "print(cm)\n",
        "\n",
        "display_confusion_matrix(true_labels=test_label_nums, predicted_labels=y_test_pred, classes=[-1, 0, 1])\n",
        "\n",
        "display_confusion_matrix_pretty(true_labels=test_label_nums, predicted_labels=y_test_pred, classes=[-1, 0, 1])\n",
        "\n",
        "\n",
        "\n",
        "# 多分類的 F1-score\n",
        "# https://zhuanlan.zhihu.com/p/147663370\n",
        "\n",
        "from sklearn.metrics import classification_report\n",
        "print(classification_report(test_label_nums, y_test_pred))\n",
        "\n",
        "'''"
      ],
      "execution_count": null,
      "outputs": [
        {
          "output_type": "stream",
          "text": [
            "[[ 6  0  0]\n",
            " [ 0 30  1]\n",
            " [ 0  5  3]]\n"
          ],
          "name": "stdout"
        }
      ]
    },
    {
      "cell_type": "code",
      "metadata": {
        "id": "70cPWO3HBtH5"
      },
      "source": [
        "'''\n",
        "print(__doc__)\n",
        "\n",
        "import numpy as np\n",
        "import matplotlib.pyplot as plt\n",
        "\n",
        "from sklearn import svm, datasets\n",
        "from sklearn.model_selection import train_test_split\n",
        "from sklearn.metrics import plot_confusion_matrix\n",
        "\n",
        "# import some data to play with\n",
        "iris = datasets.load_iris()\n",
        "X = iris.data\n",
        "y = iris.target\n",
        "class_names = iris.target_names\n",
        "\n",
        "# Split the data into a training set and a test set\n",
        "X_train, X_test, y_train, y_test = train_test_split(X, y, random_state=0)\n",
        "\n",
        "# Run classifier, using a model that is too regularized (C too low) to see\n",
        "# the impact on the results\n",
        "classifier = svm.SVC(kernel='linear', C=0.01).fit(X_train, y_train)\n",
        "\n",
        "np.set_printoptions(precision=2)\n",
        "\n",
        "\n",
        "# Plot non-normalized confusion matrix\n",
        "titles_options = [(\"Confusion matrix, without normalization\", None),\n",
        "                  (\"Normalized confusion matrix\", 'true')]\n",
        "for title, normalize in titles_options:\n",
        "    disp = plot_confusion_matrix(lr, X_test, y_test,\n",
        "                                 display_labels=class_names,\n",
        "                                 cmap=plt.cm.Blues,\n",
        "                                 normalize=normalize)\n",
        "    disp.ax_.set_title(title)\n",
        "\n",
        "    print(title)\n",
        "    print(disp.confusion_matrix)\n",
        "\n",
        "plt.show()\n",
        "\n",
        "'''"
      ],
      "execution_count": null,
      "outputs": []
    },
    {
      "cell_type": "code",
      "metadata": {
        "colab": {
          "base_uri": "https://localhost:8080/"
        },
        "id": "fyyHPU59zSrF",
        "outputId": "1baff5b1-1d9b-4777-bdcf-1f2e78b9ab0b"
      },
      "source": [
        "'''\n",
        "# C = 0.1\n",
        "\n",
        "print(train_.shape)\n",
        "print(type(train_))\n",
        "print('----------')\n",
        "\n",
        "print(f'Training accuracy (mean)   = {np.mean(train_):.4f}')\n",
        "print(f'Training accuracy (median) = {np.median(train_):.4f}')\n",
        "print('----------')\n",
        "\n",
        "print(f'Test accuracy = {lr_bow_test_score:.4f}')\n",
        "\n",
        "'''"
      ],
      "execution_count": null,
      "outputs": [
        {
          "output_type": "stream",
          "text": [
            "(10,)\n",
            "<class 'numpy.ndarray'>\n",
            "----------\n",
            "Training accuracy (mean)   = 0.8966\n",
            "Training accuracy (median) = 0.8982\n",
            "----------\n",
            "Test accuracy = 0.8667\n"
          ],
          "name": "stdout"
        }
      ]
    },
    {
      "cell_type": "markdown",
      "metadata": {
        "id": "ZXrpJI4lzgNn"
      },
      "source": [
        "## SVM"
      ]
    },
    {
      "cell_type": "code",
      "metadata": {
        "colab": {
          "base_uri": "https://localhost:8080/"
        },
        "id": "PDXlToqRriwq",
        "outputId": "e524250e-08bc-45a8-8040-fc72eddf6598"
      },
      "source": [
        "from sklearn.pipeline import Pipeline\n",
        "from sklearn.model_selection import GridSearchCV\n",
        "from sklearn.feature_extraction.text import TfidfVectorizer\n",
        "from sklearn.svm import SVC\n",
        "\n",
        "\n",
        "svm_pipeline = Pipeline([('svm', SVC(kernel='rbf'))])\n",
        "\n",
        "param_grid = {'svm__gamma': [1e-06, 1e-05, 1e-04, 1e-03, 1e-02, 1e-01, 0, 1, 10],\n",
        "              'svm__C': [0.1, 1.0, 10, 100, 300, 320, 350, 400, 450, 500, 600]}\n",
        "\n",
        "gs_svm = GridSearchCV(svm_pipeline, param_grid, cv=5, verbose=1)\n",
        "gs_svm = gs_svm.fit(cv_train_features, train_label_nums)"
      ],
      "execution_count": null,
      "outputs": [
        {
          "output_type": "stream",
          "text": [
            "Fitting 5 folds for each of 99 candidates, totalling 495 fits\n"
          ],
          "name": "stdout"
        },
        {
          "output_type": "stream",
          "text": [
            "[Parallel(n_jobs=1)]: Using backend SequentialBackend with 1 concurrent workers.\n",
            "[Parallel(n_jobs=1)]: Done 495 out of 495 | elapsed:   16.1s finished\n"
          ],
          "name": "stderr"
        }
      ]
    },
    {
      "cell_type": "code",
      "metadata": {
        "colab": {
          "base_uri": "https://localhost:8080/"
        },
        "id": "0XbBMPwgrpVD",
        "outputId": "be97edfe-f550-4d28-b24f-57bfbdb1dcd4"
      },
      "source": [
        "gs_svm.best_estimator_.get_params()"
      ],
      "execution_count": null,
      "outputs": [
        {
          "output_type": "execute_result",
          "data": {
            "text/plain": [
              "{'memory': None,\n",
              " 'steps': [('svm',\n",
              "   SVC(C=10, break_ties=False, cache_size=200, class_weight=None, coef0=0.0,\n",
              "       decision_function_shape='ovr', degree=3, gamma=0.0001, kernel='rbf',\n",
              "       max_iter=-1, probability=False, random_state=None, shrinking=True,\n",
              "       tol=0.001, verbose=False))],\n",
              " 'svm': SVC(C=10, break_ties=False, cache_size=200, class_weight=None, coef0=0.0,\n",
              "     decision_function_shape='ovr', degree=3, gamma=0.0001, kernel='rbf',\n",
              "     max_iter=-1, probability=False, random_state=None, shrinking=True,\n",
              "     tol=0.001, verbose=False),\n",
              " 'svm__C': 10,\n",
              " 'svm__break_ties': False,\n",
              " 'svm__cache_size': 200,\n",
              " 'svm__class_weight': None,\n",
              " 'svm__coef0': 0.0,\n",
              " 'svm__decision_function_shape': 'ovr',\n",
              " 'svm__degree': 3,\n",
              " 'svm__gamma': 0.0001,\n",
              " 'svm__kernel': 'rbf',\n",
              " 'svm__max_iter': -1,\n",
              " 'svm__probability': False,\n",
              " 'svm__random_state': None,\n",
              " 'svm__shrinking': True,\n",
              " 'svm__tol': 0.001,\n",
              " 'svm__verbose': False,\n",
              " 'verbose': False}"
            ]
          },
          "metadata": {
            "tags": []
          },
          "execution_count": 102
        }
      ]
    },
    {
      "cell_type": "code",
      "metadata": {
        "colab": {
          "base_uri": "https://localhost:8080/",
          "height": 408
        },
        "id": "c1HEG9jqrpfS",
        "outputId": "b9e7aed9-0d5c-4a1c-e039-c11423e6105a"
      },
      "source": [
        "cv_results = gs_svm.cv_results_\n",
        "results_df = pd.DataFrame({'rank': cv_results['rank_test_score'],\n",
        "                           'params': cv_results['params'], \n",
        "                           'cv score (mean)': cv_results['mean_test_score'], \n",
        "                           'cv score (std)': cv_results['std_test_score']}\n",
        "                          )\n",
        "\n",
        "results_df = results_df.sort_values(by=['rank'], ascending=True)\n",
        "pd.set_option('display.max_colwidth', 100)\n",
        "results_df"
      ],
      "execution_count": null,
      "outputs": [
        {
          "output_type": "execute_result",
          "data": {
            "text/html": [
              "<div>\n",
              "<style scoped>\n",
              "    .dataframe tbody tr th:only-of-type {\n",
              "        vertical-align: middle;\n",
              "    }\n",
              "\n",
              "    .dataframe tbody tr th {\n",
              "        vertical-align: top;\n",
              "    }\n",
              "\n",
              "    .dataframe thead th {\n",
              "        text-align: right;\n",
              "    }\n",
              "</style>\n",
              "<table border=\"1\" class=\"dataframe\">\n",
              "  <thead>\n",
              "    <tr style=\"text-align: right;\">\n",
              "      <th></th>\n",
              "      <th>rank</th>\n",
              "      <th>params</th>\n",
              "      <th>cv score (mean)</th>\n",
              "      <th>cv score (std)</th>\n",
              "    </tr>\n",
              "  </thead>\n",
              "  <tbody>\n",
              "    <tr>\n",
              "      <th>20</th>\n",
              "      <td>1</td>\n",
              "      <td>{'svm__C': 10, 'svm__gamma': 0.0001}</td>\n",
              "      <td>0.847460</td>\n",
              "      <td>0.070546</td>\n",
              "    </tr>\n",
              "    <tr>\n",
              "      <th>28</th>\n",
              "      <td>2</td>\n",
              "      <td>{'svm__C': 100, 'svm__gamma': 1e-05}</td>\n",
              "      <td>0.841905</td>\n",
              "      <td>0.063282</td>\n",
              "    </tr>\n",
              "    <tr>\n",
              "      <th>57</th>\n",
              "      <td>3</td>\n",
              "      <td>{'svm__C': 350, 'svm__gamma': 0.001}</td>\n",
              "      <td>0.841587</td>\n",
              "      <td>0.039273</td>\n",
              "    </tr>\n",
              "    <tr>\n",
              "      <th>21</th>\n",
              "      <td>3</td>\n",
              "      <td>{'svm__C': 10, 'svm__gamma': 0.001}</td>\n",
              "      <td>0.841587</td>\n",
              "      <td>0.039273</td>\n",
              "    </tr>\n",
              "    <tr>\n",
              "      <th>39</th>\n",
              "      <td>3</td>\n",
              "      <td>{'svm__C': 300, 'svm__gamma': 0.001}</td>\n",
              "      <td>0.841587</td>\n",
              "      <td>0.039273</td>\n",
              "    </tr>\n",
              "    <tr>\n",
              "      <th>...</th>\n",
              "      <td>...</td>\n",
              "      <td>...</td>\n",
              "      <td>...</td>\n",
              "      <td>...</td>\n",
              "    </tr>\n",
              "    <tr>\n",
              "      <th>31</th>\n",
              "      <td>37</td>\n",
              "      <td>{'svm__C': 100, 'svm__gamma': 0.01}</td>\n",
              "      <td>0.689206</td>\n",
              "      <td>0.004277</td>\n",
              "    </tr>\n",
              "    <tr>\n",
              "      <th>26</th>\n",
              "      <td>37</td>\n",
              "      <td>{'svm__C': 10, 'svm__gamma': 10}</td>\n",
              "      <td>0.689206</td>\n",
              "      <td>0.004277</td>\n",
              "    </tr>\n",
              "    <tr>\n",
              "      <th>25</th>\n",
              "      <td>37</td>\n",
              "      <td>{'svm__C': 10, 'svm__gamma': 1}</td>\n",
              "      <td>0.689206</td>\n",
              "      <td>0.004277</td>\n",
              "    </tr>\n",
              "    <tr>\n",
              "      <th>40</th>\n",
              "      <td>37</td>\n",
              "      <td>{'svm__C': 300, 'svm__gamma': 0.01}</td>\n",
              "      <td>0.689206</td>\n",
              "      <td>0.004277</td>\n",
              "    </tr>\n",
              "    <tr>\n",
              "      <th>98</th>\n",
              "      <td>37</td>\n",
              "      <td>{'svm__C': 600, 'svm__gamma': 10}</td>\n",
              "      <td>0.689206</td>\n",
              "      <td>0.004277</td>\n",
              "    </tr>\n",
              "  </tbody>\n",
              "</table>\n",
              "<p>99 rows × 4 columns</p>\n",
              "</div>"
            ],
            "text/plain": [
              "    rank                                params  cv score (mean)  cv score (std)\n",
              "20     1  {'svm__C': 10, 'svm__gamma': 0.0001}         0.847460        0.070546\n",
              "28     2  {'svm__C': 100, 'svm__gamma': 1e-05}         0.841905        0.063282\n",
              "57     3  {'svm__C': 350, 'svm__gamma': 0.001}         0.841587        0.039273\n",
              "21     3   {'svm__C': 10, 'svm__gamma': 0.001}         0.841587        0.039273\n",
              "39     3  {'svm__C': 300, 'svm__gamma': 0.001}         0.841587        0.039273\n",
              "..   ...                                   ...              ...             ...\n",
              "31    37   {'svm__C': 100, 'svm__gamma': 0.01}         0.689206        0.004277\n",
              "26    37      {'svm__C': 10, 'svm__gamma': 10}         0.689206        0.004277\n",
              "25    37       {'svm__C': 10, 'svm__gamma': 1}         0.689206        0.004277\n",
              "40    37   {'svm__C': 300, 'svm__gamma': 0.01}         0.689206        0.004277\n",
              "98    37     {'svm__C': 600, 'svm__gamma': 10}         0.689206        0.004277\n",
              "\n",
              "[99 rows x 4 columns]"
            ]
          },
          "metadata": {
            "tags": []
          },
          "execution_count": 103
        }
      ]
    },
    {
      "cell_type": "code",
      "metadata": {
        "colab": {
          "base_uri": "https://localhost:8080/"
        },
        "id": "HydKHSPUrpos",
        "outputId": "3abdea29-51c4-48d0-d4c5-681cdda73799"
      },
      "source": [
        "best_svm_test_score = gs_svm.score(cv_test_features, test_label_nums)\n",
        "print('Test Accuracy :', best_svm_test_score)"
      ],
      "execution_count": null,
      "outputs": [
        {
          "output_type": "stream",
          "text": [
            "Test Accuracy : 0.9111111111111111\n"
          ],
          "name": "stdout"
        }
      ]
    },
    {
      "cell_type": "code",
      "metadata": {
        "colab": {
          "base_uri": "https://localhost:8080/"
        },
        "id": "MzcCRiLgzS44",
        "outputId": "47048183-decc-4ea1-a97f-16609463abc3"
      },
      "source": [
        "'''\n",
        "\n",
        "from sklearn.svm import SVC\n",
        "\n",
        "train_ = np.zeros(10)\n",
        "svc = SVC(kernel='rbf', gamma=1e-05, C=320) # gamma=1e-06, C=300 / gamma=1e-05, C=10\n",
        "\n",
        "for i in range(10):\n",
        "\n",
        "  svc_tfidf_cv_scores = cross_val_score(svc, cv_train_features, train_label_nums, cv=StratifiedKFold(n_splits=5, shuffle=True))\n",
        "  svc_tfidf_cv_mean_score = np.mean(svc_tfidf_cv_scores)\n",
        "  print('CV Accuracy (5-fold):', svc_tfidf_cv_scores)\n",
        "  print('Mean Training CV Accuracy:', svc_tfidf_cv_mean_score)\n",
        "\n",
        "  train_[i] = svc_tfidf_cv_mean_score\n",
        "\n",
        "svc.fit(cv_train_features, train_label_nums)\n",
        "svc_tfidf_test_score = svc.score(cv_test_features, test_label_nums)\n",
        "\n",
        "print('----------')\n",
        "print('Test Accuracy:', svc_tfidf_test_score)\n",
        "\n",
        "\n",
        "\n",
        "# gamma=1e-05, C=300\n",
        "\n",
        "print(train_.shape)\n",
        "print(type(train_))\n",
        "print('----------')\n",
        "\n",
        "print(f'Training accuracy (mean)   = {np.mean(train_):.4f}')\n",
        "print(f'Training accuracy (median) = {np.median(train_):.4f}')\n",
        "print('----------')\n",
        "\n",
        "print(f'Test accuracy = {svc_tfidf_test_score:.4f}')"
      ],
      "execution_count": null,
      "outputs": [
        {
          "output_type": "stream",
          "text": [
            "CV Accuracy (5-fold): [0.88888889 0.88888889 0.97142857 0.85714286 0.82857143]\n",
            "Mean Training CV Accuracy: 0.886984126984127\n",
            "CV Accuracy (5-fold): [0.86111111 0.83333333 0.91428571 0.88571429 0.88571429]\n",
            "Mean Training CV Accuracy: 0.8760317460317459\n",
            "CV Accuracy (5-fold): [0.88888889 0.83333333 0.88571429 0.94285714 0.77142857]\n",
            "Mean Training CV Accuracy: 0.8644444444444443\n",
            "CV Accuracy (5-fold): [0.83333333 0.88888889 0.8        0.91428571 0.88571429]\n",
            "Mean Training CV Accuracy: 0.8644444444444443\n",
            "CV Accuracy (5-fold): [0.83333333 0.80555556 0.85714286 0.94285714 0.91428571]\n",
            "Mean Training CV Accuracy: 0.8706349206349208\n",
            "CV Accuracy (5-fold): [0.80555556 0.83333333 0.85714286 0.88571429 0.91428571]\n",
            "Mean Training CV Accuracy: 0.8592063492063492\n",
            "CV Accuracy (5-fold): [0.94444444 0.86111111 0.85714286 0.85714286 0.88571429]\n",
            "Mean Training CV Accuracy: 0.881111111111111\n",
            "CV Accuracy (5-fold): [0.86111111 0.88888889 0.82857143 0.85714286 0.97142857]\n",
            "Mean Training CV Accuracy: 0.8814285714285715\n",
            "CV Accuracy (5-fold): [0.97222222 0.91666667 0.8        0.88571429 0.82857143]\n",
            "Mean Training CV Accuracy: 0.8806349206349207\n",
            "CV Accuracy (5-fold): [0.86111111 0.94444444 0.8        0.97142857 0.85714286]\n",
            "Mean Training CV Accuracy: 0.8868253968253968\n",
            "----------\n",
            "Test Accuracy: 0.8444444444444444\n"
          ],
          "name": "stdout"
        }
      ]
    },
    {
      "cell_type": "markdown",
      "metadata": {
        "id": "oGFFETdqzh_V"
      },
      "source": [
        "## RF"
      ]
    },
    {
      "cell_type": "code",
      "metadata": {
        "colab": {
          "base_uri": "https://localhost:8080/"
        },
        "id": "cDu1Ek5iuh4E",
        "outputId": "5e178720-4604-4411-eae4-693861ec641b"
      },
      "source": [
        "from sklearn.pipeline import Pipeline\n",
        "from sklearn.model_selection import GridSearchCV\n",
        "from sklearn.feature_extraction.text import TfidfVectorizer\n",
        "from sklearn.ensemble import RandomForestClassifier\n",
        "\n",
        "rfc = RandomForestClassifier(n_estimators=150, random_state=2020, criterion = \"gini\")\n",
        "\n",
        "rfc_pipeline = Pipeline([('rfc', RandomForestClassifier(random_state=2020, criterion = \"gini\"))])  # gamma=1e-06, C=300 / gamma=1e-05, C=10\n",
        "\n",
        "param_grid = {'rfc__n_estimators': [50, 100, 150, 260, 300, 500, 600, 700, 800, 1000, 1200]}\n",
        "\n",
        "gs_rfc = GridSearchCV(rfc_pipeline, param_grid, cv=5, verbose=1)\n",
        "gs_rfc = gs_rfc.fit(cv_train_features, train_label_nums)"
      ],
      "execution_count": null,
      "outputs": [
        {
          "output_type": "stream",
          "text": [
            "Fitting 5 folds for each of 11 candidates, totalling 55 fits\n"
          ],
          "name": "stdout"
        },
        {
          "output_type": "stream",
          "text": [
            "[Parallel(n_jobs=1)]: Using backend SequentialBackend with 1 concurrent workers.\n",
            "[Parallel(n_jobs=1)]: Done  55 out of  55 | elapsed:   51.3s finished\n"
          ],
          "name": "stderr"
        }
      ]
    },
    {
      "cell_type": "code",
      "metadata": {
        "colab": {
          "base_uri": "https://localhost:8080/"
        },
        "id": "DnFN3KgIuhzT",
        "outputId": "06dda2e9-910b-4411-b259-7537289f10e1"
      },
      "source": [
        "gs_rfc.best_estimator_.get_params()"
      ],
      "execution_count": null,
      "outputs": [
        {
          "output_type": "execute_result",
          "data": {
            "text/plain": [
              "{'memory': None,\n",
              " 'rfc': RandomForestClassifier(bootstrap=True, ccp_alpha=0.0, class_weight=None,\n",
              "                        criterion='gini', max_depth=None, max_features='auto',\n",
              "                        max_leaf_nodes=None, max_samples=None,\n",
              "                        min_impurity_decrease=0.0, min_impurity_split=None,\n",
              "                        min_samples_leaf=1, min_samples_split=2,\n",
              "                        min_weight_fraction_leaf=0.0, n_estimators=800,\n",
              "                        n_jobs=None, oob_score=False, random_state=2020,\n",
              "                        verbose=0, warm_start=False),\n",
              " 'rfc__bootstrap': True,\n",
              " 'rfc__ccp_alpha': 0.0,\n",
              " 'rfc__class_weight': None,\n",
              " 'rfc__criterion': 'gini',\n",
              " 'rfc__max_depth': None,\n",
              " 'rfc__max_features': 'auto',\n",
              " 'rfc__max_leaf_nodes': None,\n",
              " 'rfc__max_samples': None,\n",
              " 'rfc__min_impurity_decrease': 0.0,\n",
              " 'rfc__min_impurity_split': None,\n",
              " 'rfc__min_samples_leaf': 1,\n",
              " 'rfc__min_samples_split': 2,\n",
              " 'rfc__min_weight_fraction_leaf': 0.0,\n",
              " 'rfc__n_estimators': 800,\n",
              " 'rfc__n_jobs': None,\n",
              " 'rfc__oob_score': False,\n",
              " 'rfc__random_state': 2020,\n",
              " 'rfc__verbose': 0,\n",
              " 'rfc__warm_start': False,\n",
              " 'steps': [('rfc',\n",
              "   RandomForestClassifier(bootstrap=True, ccp_alpha=0.0, class_weight=None,\n",
              "                          criterion='gini', max_depth=None, max_features='auto',\n",
              "                          max_leaf_nodes=None, max_samples=None,\n",
              "                          min_impurity_decrease=0.0, min_impurity_split=None,\n",
              "                          min_samples_leaf=1, min_samples_split=2,\n",
              "                          min_weight_fraction_leaf=0.0, n_estimators=800,\n",
              "                          n_jobs=None, oob_score=False, random_state=2020,\n",
              "                          verbose=0, warm_start=False))],\n",
              " 'verbose': False}"
            ]
          },
          "metadata": {
            "tags": []
          },
          "execution_count": 107
        }
      ]
    },
    {
      "cell_type": "code",
      "metadata": {
        "colab": {
          "base_uri": "https://localhost:8080/",
          "height": 381
        },
        "id": "0fA1mUNVuhuj",
        "outputId": "8a1212bc-9b54-4e14-cd1d-cf422367aa78"
      },
      "source": [
        "cv_results = gs_rfc.cv_results_\n",
        "results_df = pd.DataFrame({'rank': cv_results['rank_test_score'],\n",
        "                           'params': cv_results['params'], \n",
        "                           'cv score (mean)': cv_results['mean_test_score'], \n",
        "                           'cv score (std)': cv_results['std_test_score']}\n",
        "                          )\n",
        "\n",
        "results_df = results_df.sort_values(by=['rank'], ascending=True)\n",
        "pd.set_option('display.max_colwidth', 100)\n",
        "\n",
        "results_df"
      ],
      "execution_count": null,
      "outputs": [
        {
          "output_type": "execute_result",
          "data": {
            "text/html": [
              "<div>\n",
              "<style scoped>\n",
              "    .dataframe tbody tr th:only-of-type {\n",
              "        vertical-align: middle;\n",
              "    }\n",
              "\n",
              "    .dataframe tbody tr th {\n",
              "        vertical-align: top;\n",
              "    }\n",
              "\n",
              "    .dataframe thead th {\n",
              "        text-align: right;\n",
              "    }\n",
              "</style>\n",
              "<table border=\"1\" class=\"dataframe\">\n",
              "  <thead>\n",
              "    <tr style=\"text-align: right;\">\n",
              "      <th></th>\n",
              "      <th>rank</th>\n",
              "      <th>params</th>\n",
              "      <th>cv score (mean)</th>\n",
              "      <th>cv score (std)</th>\n",
              "    </tr>\n",
              "  </thead>\n",
              "  <tbody>\n",
              "    <tr>\n",
              "      <th>8</th>\n",
              "      <td>1</td>\n",
              "      <td>{'rfc__n_estimators': 800}</td>\n",
              "      <td>0.813651</td>\n",
              "      <td>0.033380</td>\n",
              "    </tr>\n",
              "    <tr>\n",
              "      <th>4</th>\n",
              "      <td>2</td>\n",
              "      <td>{'rfc__n_estimators': 300}</td>\n",
              "      <td>0.807937</td>\n",
              "      <td>0.027346</td>\n",
              "    </tr>\n",
              "    <tr>\n",
              "      <th>6</th>\n",
              "      <td>2</td>\n",
              "      <td>{'rfc__n_estimators': 600}</td>\n",
              "      <td>0.807937</td>\n",
              "      <td>0.027346</td>\n",
              "    </tr>\n",
              "    <tr>\n",
              "      <th>7</th>\n",
              "      <td>2</td>\n",
              "      <td>{'rfc__n_estimators': 700}</td>\n",
              "      <td>0.807937</td>\n",
              "      <td>0.027346</td>\n",
              "    </tr>\n",
              "    <tr>\n",
              "      <th>9</th>\n",
              "      <td>2</td>\n",
              "      <td>{'rfc__n_estimators': 1000}</td>\n",
              "      <td>0.807937</td>\n",
              "      <td>0.027346</td>\n",
              "    </tr>\n",
              "    <tr>\n",
              "      <th>10</th>\n",
              "      <td>2</td>\n",
              "      <td>{'rfc__n_estimators': 1200}</td>\n",
              "      <td>0.807937</td>\n",
              "      <td>0.027346</td>\n",
              "    </tr>\n",
              "    <tr>\n",
              "      <th>3</th>\n",
              "      <td>7</td>\n",
              "      <td>{'rfc__n_estimators': 260}</td>\n",
              "      <td>0.802222</td>\n",
              "      <td>0.025349</td>\n",
              "    </tr>\n",
              "    <tr>\n",
              "      <th>1</th>\n",
              "      <td>8</td>\n",
              "      <td>{'rfc__n_estimators': 100}</td>\n",
              "      <td>0.796825</td>\n",
              "      <td>0.025678</td>\n",
              "    </tr>\n",
              "    <tr>\n",
              "      <th>2</th>\n",
              "      <td>9</td>\n",
              "      <td>{'rfc__n_estimators': 150}</td>\n",
              "      <td>0.796667</td>\n",
              "      <td>0.032212</td>\n",
              "    </tr>\n",
              "    <tr>\n",
              "      <th>5</th>\n",
              "      <td>9</td>\n",
              "      <td>{'rfc__n_estimators': 500}</td>\n",
              "      <td>0.796667</td>\n",
              "      <td>0.032212</td>\n",
              "    </tr>\n",
              "    <tr>\n",
              "      <th>0</th>\n",
              "      <td>11</td>\n",
              "      <td>{'rfc__n_estimators': 50}</td>\n",
              "      <td>0.779841</td>\n",
              "      <td>0.026119</td>\n",
              "    </tr>\n",
              "  </tbody>\n",
              "</table>\n",
              "</div>"
            ],
            "text/plain": [
              "    rank                       params  cv score (mean)  cv score (std)\n",
              "8      1   {'rfc__n_estimators': 800}         0.813651        0.033380\n",
              "4      2   {'rfc__n_estimators': 300}         0.807937        0.027346\n",
              "6      2   {'rfc__n_estimators': 600}         0.807937        0.027346\n",
              "7      2   {'rfc__n_estimators': 700}         0.807937        0.027346\n",
              "9      2  {'rfc__n_estimators': 1000}         0.807937        0.027346\n",
              "10     2  {'rfc__n_estimators': 1200}         0.807937        0.027346\n",
              "3      7   {'rfc__n_estimators': 260}         0.802222        0.025349\n",
              "1      8   {'rfc__n_estimators': 100}         0.796825        0.025678\n",
              "2      9   {'rfc__n_estimators': 150}         0.796667        0.032212\n",
              "5      9   {'rfc__n_estimators': 500}         0.796667        0.032212\n",
              "0     11    {'rfc__n_estimators': 50}         0.779841        0.026119"
            ]
          },
          "metadata": {
            "tags": []
          },
          "execution_count": 108
        }
      ]
    },
    {
      "cell_type": "code",
      "metadata": {
        "colab": {
          "base_uri": "https://localhost:8080/"
        },
        "id": "khw8-bqOu8gX",
        "outputId": "f9f536aa-b962-48ed-edc7-65bbc4cc0596"
      },
      "source": [
        "best_rfc_test_score = gs_rfc.score(cv_test_features, test_label_nums)\n",
        "print('Test Accuracy :', best_rfc_test_score)"
      ],
      "execution_count": null,
      "outputs": [
        {
          "output_type": "stream",
          "text": [
            "Test Accuracy : 0.7777777777777778\n"
          ],
          "name": "stdout"
        }
      ]
    },
    {
      "cell_type": "code",
      "metadata": {
        "colab": {
          "base_uri": "https://localhost:8080/"
        },
        "id": "8bfzvGU2zTUr",
        "outputId": "9c1cf21b-d0eb-48b0-baab-c3edeb339b21"
      },
      "source": [
        "'''\n",
        "\n",
        "from sklearn.ensemble import RandomForestClassifier\n",
        "\n",
        "train_ = np.zeros(10)\n",
        "rfc = RandomForestClassifier(n_estimators=150, random_state=2020, criterion = \"gini\")\n",
        "\n",
        "for i in range(10):\n",
        "\n",
        "  rfc_bow_cv_scores = cross_val_score(rfc, cv_train_features, train_label_nums, cv=StratifiedKFold(n_splits=5, shuffle=True))\n",
        "  rfc_bow_cv_mean_score = np.mean(rfc_bow_cv_scores)\n",
        "  print('CV Accuracy (5-fold):', rfc_bow_cv_scores)\n",
        "  print('Mean CV Accuracy:', rfc_bow_cv_mean_score)\n",
        "\n",
        "  train_[i] = rfc_bow_cv_mean_score\n",
        "\n",
        "rfc.fit(cv_train_features, train_label_nums)\n",
        "rfc_bow_test_score = rfc.score(cv_test_features, test_label_nums)\n",
        "\n",
        "print('----------')\n",
        "print('Test Accuracy:', rfc_bow_test_score)\n",
        "\n",
        "\n",
        "\n",
        "# n_estimators=150\n",
        "\n",
        "print(train_.shape)\n",
        "print(type(train_))\n",
        "print('----------')\n",
        "\n",
        "print(f'Training accuracy (mean)   = {np.mean(train_):.4f}')\n",
        "print(f'Training accuracy (median) = {np.median(train_):.4f}')\n",
        "print('----------')\n",
        "\n",
        "print(f'Test accuracy = {rfc_bow_test_score:.4f}')"
      ],
      "execution_count": null,
      "outputs": [
        {
          "output_type": "stream",
          "text": [
            "CV Accuracy (5-fold): [0.80555556 0.83333333 0.74285714 0.74285714 0.82857143]\n",
            "Mean CV Accuracy: 0.7906349206349207\n",
            "CV Accuracy (5-fold): [0.80555556 0.83333333 0.82857143 0.77142857 0.8       ]\n",
            "Mean CV Accuracy: 0.8077777777777777\n",
            "CV Accuracy (5-fold): [0.77777778 0.77777778 0.8        0.85714286 0.8       ]\n",
            "Mean CV Accuracy: 0.8025396825396826\n",
            "CV Accuracy (5-fold): [0.75       0.77777778 0.77142857 0.77142857 0.74285714]\n",
            "Mean CV Accuracy: 0.7626984126984127\n",
            "CV Accuracy (5-fold): [0.72222222 0.77777778 0.8        0.77142857 0.74285714]\n",
            "Mean CV Accuracy: 0.7628571428571428\n",
            "CV Accuracy (5-fold): [0.75       0.80555556 0.85714286 0.77142857 0.8       ]\n",
            "Mean CV Accuracy: 0.7968253968253969\n",
            "CV Accuracy (5-fold): [0.80555556 0.88888889 0.74285714 0.8        0.82857143]\n",
            "Mean CV Accuracy: 0.8131746031746031\n",
            "CV Accuracy (5-fold): [0.77777778 0.75       0.82857143 0.8        0.74285714]\n",
            "Mean CV Accuracy: 0.7798412698412699\n",
            "CV Accuracy (5-fold): [0.75       0.77777778 0.82857143 0.77142857 0.82857143]\n",
            "Mean CV Accuracy: 0.7912698412698413\n",
            "CV Accuracy (5-fold): [0.80555556 0.86111111 0.8        0.77142857 0.8       ]\n",
            "Mean CV Accuracy: 0.8076190476190476\n",
            "----------\n",
            "Test Accuracy: 0.8\n"
          ],
          "name": "stdout"
        }
      ]
    },
    {
      "cell_type": "markdown",
      "metadata": {
        "id": "25KwAc3P2wIn"
      },
      "source": [
        "## XGBoost"
      ]
    },
    {
      "cell_type": "code",
      "metadata": {
        "colab": {
          "base_uri": "https://localhost:8080/"
        },
        "id": "M3NUeCBywW8H",
        "outputId": "a5d28776-ae76-483d-f187-748c421d74e5"
      },
      "source": [
        "from sklearn.pipeline import Pipeline\n",
        "from sklearn.model_selection import GridSearchCV\n",
        "from sklearn.feature_extraction.text import TfidfVectorizer\n",
        "from xgboost import XGBClassifier\n",
        "\n",
        "# xgb = XGBClassifier(booster='gbtree', n_estimators=200, min_child_weight=1, gamma=0.5, subsample=0.8, colsample_bytree=0.6, max_depth=5, learning_rate=0.1, verbosity=1, random_state=42)\n",
        "\n",
        "xgb_pipeline = Pipeline([('xgb', XGBClassifier(booster='gbtree', min_child_weight=1, verbosity=1, random_state=42))])\n",
        "\n",
        "param_grid = {'xgb__n_estimators': [100, 200, 400],\n",
        "              'xgb__gamma': [0],\n",
        "              'xgb__min_child_weight': [1],\n",
        "              'xgb__subsample': [0.5, 1.0],\n",
        "              'xgb__colsample_bytree': [0.5, 1.0],\n",
        "              'xgb__max_depth': [6],\n",
        "              'xgb__learning_rate': [0.1, 0.3],\n",
        "              'xgb__colsample_bytree': [0.5, 1.0],\n",
        "              }\n",
        "\n",
        "gs_xgb = GridSearchCV(xgb_pipeline, param_grid, cv=5, verbose=1)\n",
        "gs_xgb = gs_xgb.fit(cv_train_features, train_label_nums)"
      ],
      "execution_count": null,
      "outputs": [
        {
          "output_type": "stream",
          "text": [
            "Fitting 5 folds for each of 24 candidates, totalling 120 fits\n"
          ],
          "name": "stdout"
        },
        {
          "output_type": "stream",
          "text": [
            "[Parallel(n_jobs=1)]: Using backend SequentialBackend with 1 concurrent workers.\n",
            "[Parallel(n_jobs=1)]: Done 120 out of 120 | elapsed:   57.6s finished\n"
          ],
          "name": "stderr"
        }
      ]
    },
    {
      "cell_type": "code",
      "metadata": {
        "colab": {
          "base_uri": "https://localhost:8080/"
        },
        "id": "zd7cv-PdwZq3",
        "outputId": "ad6618fd-ce7e-4efa-ff55-0523ddd207cf"
      },
      "source": [
        "gs_xgb.best_estimator_.get_params()"
      ],
      "execution_count": null,
      "outputs": [
        {
          "output_type": "execute_result",
          "data": {
            "text/plain": [
              "{'memory': None,\n",
              " 'steps': [('xgb',\n",
              "   XGBClassifier(base_score=0.5, booster='gbtree', colsample_bylevel=1,\n",
              "                 colsample_bynode=1, colsample_bytree=1.0, gamma=0,\n",
              "                 learning_rate=0.1, max_delta_step=0, max_depth=6,\n",
              "                 min_child_weight=1, missing=None, n_estimators=400, n_jobs=1,\n",
              "                 nthread=None, objective='multi:softprob', random_state=42,\n",
              "                 reg_alpha=0, reg_lambda=1, scale_pos_weight=1, seed=None,\n",
              "                 silent=None, subsample=0.5, verbosity=1))],\n",
              " 'verbose': False,\n",
              " 'xgb': XGBClassifier(base_score=0.5, booster='gbtree', colsample_bylevel=1,\n",
              "               colsample_bynode=1, colsample_bytree=1.0, gamma=0,\n",
              "               learning_rate=0.1, max_delta_step=0, max_depth=6,\n",
              "               min_child_weight=1, missing=None, n_estimators=400, n_jobs=1,\n",
              "               nthread=None, objective='multi:softprob', random_state=42,\n",
              "               reg_alpha=0, reg_lambda=1, scale_pos_weight=1, seed=None,\n",
              "               silent=None, subsample=0.5, verbosity=1),\n",
              " 'xgb__base_score': 0.5,\n",
              " 'xgb__booster': 'gbtree',\n",
              " 'xgb__colsample_bylevel': 1,\n",
              " 'xgb__colsample_bynode': 1,\n",
              " 'xgb__colsample_bytree': 1.0,\n",
              " 'xgb__gamma': 0,\n",
              " 'xgb__learning_rate': 0.1,\n",
              " 'xgb__max_delta_step': 0,\n",
              " 'xgb__max_depth': 6,\n",
              " 'xgb__min_child_weight': 1,\n",
              " 'xgb__missing': None,\n",
              " 'xgb__n_estimators': 400,\n",
              " 'xgb__n_jobs': 1,\n",
              " 'xgb__nthread': None,\n",
              " 'xgb__objective': 'multi:softprob',\n",
              " 'xgb__random_state': 42,\n",
              " 'xgb__reg_alpha': 0,\n",
              " 'xgb__reg_lambda': 1,\n",
              " 'xgb__scale_pos_weight': 1,\n",
              " 'xgb__seed': None,\n",
              " 'xgb__silent': None,\n",
              " 'xgb__subsample': 0.5,\n",
              " 'xgb__verbosity': 1}"
            ]
          },
          "metadata": {
            "tags": []
          },
          "execution_count": 126
        }
      ]
    },
    {
      "cell_type": "code",
      "metadata": {
        "colab": {
          "base_uri": "https://localhost:8080/",
          "height": 1000
        },
        "id": "zr324tnNwZwA",
        "outputId": "d66b17c6-2bb2-4175-f291-b73e33502f29"
      },
      "source": [
        "cv_results = gs_xgb.cv_results_\n",
        "results_df = pd.DataFrame({'rank': cv_results['rank_test_score'],\n",
        "                           'params': cv_results['params'], \n",
        "                           'cv score (mean)': cv_results['mean_test_score'], \n",
        "                           'cv score (std)': cv_results['std_test_score']} \n",
        "                          )\n",
        "\n",
        "results_df = results_df.sort_values(by=['rank'], ascending=True)\n",
        "pd.set_option('display.max_colwidth', 100)\n",
        "\n",
        "results_df"
      ],
      "execution_count": null,
      "outputs": [
        {
          "output_type": "execute_result",
          "data": {
            "text/html": [
              "<div>\n",
              "<style scoped>\n",
              "    .dataframe tbody tr th:only-of-type {\n",
              "        vertical-align: middle;\n",
              "    }\n",
              "\n",
              "    .dataframe tbody tr th {\n",
              "        vertical-align: top;\n",
              "    }\n",
              "\n",
              "    .dataframe thead th {\n",
              "        text-align: right;\n",
              "    }\n",
              "</style>\n",
              "<table border=\"1\" class=\"dataframe\">\n",
              "  <thead>\n",
              "    <tr style=\"text-align: right;\">\n",
              "      <th></th>\n",
              "      <th>rank</th>\n",
              "      <th>params</th>\n",
              "      <th>cv score (mean)</th>\n",
              "      <th>cv score (std)</th>\n",
              "    </tr>\n",
              "  </thead>\n",
              "  <tbody>\n",
              "    <tr>\n",
              "      <th>22</th>\n",
              "      <td>1</td>\n",
              "      <td>{'xgb__colsample_bytree': 1.0, 'xgb__gamma': 0, 'xgb__learning_rate': 0.1, 'xgb__max_depth': 6, ...</td>\n",
              "      <td>0.864603</td>\n",
              "      <td>0.032256</td>\n",
              "    </tr>\n",
              "    <tr>\n",
              "      <th>9</th>\n",
              "      <td>2</td>\n",
              "      <td>{'xgb__colsample_bytree': 0.5, 'xgb__gamma': 0, 'xgb__learning_rate': 0.3, 'xgb__max_depth': 6, ...</td>\n",
              "      <td>0.864444</td>\n",
              "      <td>0.032832</td>\n",
              "    </tr>\n",
              "    <tr>\n",
              "      <th>15</th>\n",
              "      <td>3</td>\n",
              "      <td>{'xgb__colsample_bytree': 0.5, 'xgb__gamma': 0, 'xgb__learning_rate': 0.3, 'xgb__max_depth': 6, ...</td>\n",
              "      <td>0.864286</td>\n",
              "      <td>0.045575</td>\n",
              "    </tr>\n",
              "    <tr>\n",
              "      <th>7</th>\n",
              "      <td>3</td>\n",
              "      <td>{'xgb__colsample_bytree': 0.5, 'xgb__gamma': 0, 'xgb__learning_rate': 0.1, 'xgb__max_depth': 6, ...</td>\n",
              "      <td>0.864286</td>\n",
              "      <td>0.041840</td>\n",
              "    </tr>\n",
              "    <tr>\n",
              "      <th>13</th>\n",
              "      <td>3</td>\n",
              "      <td>{'xgb__colsample_bytree': 0.5, 'xgb__gamma': 0, 'xgb__learning_rate': 0.3, 'xgb__max_depth': 6, ...</td>\n",
              "      <td>0.864286</td>\n",
              "      <td>0.045575</td>\n",
              "    </tr>\n",
              "    <tr>\n",
              "      <th>2</th>\n",
              "      <td>6</td>\n",
              "      <td>{'xgb__colsample_bytree': 0.5, 'xgb__gamma': 0, 'xgb__learning_rate': 0.1, 'xgb__max_depth': 6, ...</td>\n",
              "      <td>0.859048</td>\n",
              "      <td>0.038876</td>\n",
              "    </tr>\n",
              "    <tr>\n",
              "      <th>6</th>\n",
              "      <td>7</td>\n",
              "      <td>{'xgb__colsample_bytree': 0.5, 'xgb__gamma': 0, 'xgb__learning_rate': 0.1, 'xgb__max_depth': 6, ...</td>\n",
              "      <td>0.859048</td>\n",
              "      <td>0.046523</td>\n",
              "    </tr>\n",
              "    <tr>\n",
              "      <th>12</th>\n",
              "      <td>7</td>\n",
              "      <td>{'xgb__colsample_bytree': 0.5, 'xgb__gamma': 0, 'xgb__learning_rate': 0.3, 'xgb__max_depth': 6, ...</td>\n",
              "      <td>0.859048</td>\n",
              "      <td>0.034421</td>\n",
              "    </tr>\n",
              "    <tr>\n",
              "      <th>14</th>\n",
              "      <td>9</td>\n",
              "      <td>{'xgb__colsample_bytree': 0.5, 'xgb__gamma': 0, 'xgb__learning_rate': 0.3, 'xgb__max_depth': 6, ...</td>\n",
              "      <td>0.858889</td>\n",
              "      <td>0.030493</td>\n",
              "    </tr>\n",
              "    <tr>\n",
              "      <th>20</th>\n",
              "      <td>9</td>\n",
              "      <td>{'xgb__colsample_bytree': 1.0, 'xgb__gamma': 0, 'xgb__learning_rate': 0.1, 'xgb__max_depth': 6, ...</td>\n",
              "      <td>0.858889</td>\n",
              "      <td>0.039785</td>\n",
              "    </tr>\n",
              "    <tr>\n",
              "      <th>5</th>\n",
              "      <td>11</td>\n",
              "      <td>{'xgb__colsample_bytree': 0.5, 'xgb__gamma': 0, 'xgb__learning_rate': 0.1, 'xgb__max_depth': 6, ...</td>\n",
              "      <td>0.858730</td>\n",
              "      <td>0.035945</td>\n",
              "    </tr>\n",
              "    <tr>\n",
              "      <th>11</th>\n",
              "      <td>11</td>\n",
              "      <td>{'xgb__colsample_bytree': 0.5, 'xgb__gamma': 0, 'xgb__learning_rate': 0.3, 'xgb__max_depth': 6, ...</td>\n",
              "      <td>0.858730</td>\n",
              "      <td>0.035945</td>\n",
              "    </tr>\n",
              "    <tr>\n",
              "      <th>10</th>\n",
              "      <td>13</td>\n",
              "      <td>{'xgb__colsample_bytree': 0.5, 'xgb__gamma': 0, 'xgb__learning_rate': 0.3, 'xgb__max_depth': 6, ...</td>\n",
              "      <td>0.853492</td>\n",
              "      <td>0.030965</td>\n",
              "    </tr>\n",
              "    <tr>\n",
              "      <th>28</th>\n",
              "      <td>14</td>\n",
              "      <td>{'xgb__colsample_bytree': 1.0, 'xgb__gamma': 0, 'xgb__learning_rate': 0.3, 'xgb__max_depth': 6, ...</td>\n",
              "      <td>0.853333</td>\n",
              "      <td>0.036568</td>\n",
              "    </tr>\n",
              "    <tr>\n",
              "      <th>4</th>\n",
              "      <td>14</td>\n",
              "      <td>{'xgb__colsample_bytree': 0.5, 'xgb__gamma': 0, 'xgb__learning_rate': 0.1, 'xgb__max_depth': 6, ...</td>\n",
              "      <td>0.853333</td>\n",
              "      <td>0.036568</td>\n",
              "    </tr>\n",
              "    <tr>\n",
              "      <th>29</th>\n",
              "      <td>16</td>\n",
              "      <td>{'xgb__colsample_bytree': 1.0, 'xgb__gamma': 0, 'xgb__learning_rate': 0.3, 'xgb__max_depth': 6, ...</td>\n",
              "      <td>0.853175</td>\n",
              "      <td>0.032869</td>\n",
              "    </tr>\n",
              "    <tr>\n",
              "      <th>31</th>\n",
              "      <td>16</td>\n",
              "      <td>{'xgb__colsample_bytree': 1.0, 'xgb__gamma': 0, 'xgb__learning_rate': 0.3, 'xgb__max_depth': 6, ...</td>\n",
              "      <td>0.853175</td>\n",
              "      <td>0.032869</td>\n",
              "    </tr>\n",
              "    <tr>\n",
              "      <th>30</th>\n",
              "      <td>16</td>\n",
              "      <td>{'xgb__colsample_bytree': 1.0, 'xgb__gamma': 0, 'xgb__learning_rate': 0.3, 'xgb__max_depth': 6, ...</td>\n",
              "      <td>0.853175</td>\n",
              "      <td>0.037509</td>\n",
              "    </tr>\n",
              "    <tr>\n",
              "      <th>8</th>\n",
              "      <td>19</td>\n",
              "      <td>{'xgb__colsample_bytree': 0.5, 'xgb__gamma': 0, 'xgb__learning_rate': 0.3, 'xgb__max_depth': 6, ...</td>\n",
              "      <td>0.847619</td>\n",
              "      <td>0.027771</td>\n",
              "    </tr>\n",
              "    <tr>\n",
              "      <th>27</th>\n",
              "      <td>19</td>\n",
              "      <td>{'xgb__colsample_bytree': 1.0, 'xgb__gamma': 0, 'xgb__learning_rate': 0.3, 'xgb__max_depth': 6, ...</td>\n",
              "      <td>0.847619</td>\n",
              "      <td>0.033401</td>\n",
              "    </tr>\n",
              "    <tr>\n",
              "      <th>18</th>\n",
              "      <td>21</td>\n",
              "      <td>{'xgb__colsample_bytree': 1.0, 'xgb__gamma': 0, 'xgb__learning_rate': 0.1, 'xgb__max_depth': 6, ...</td>\n",
              "      <td>0.847619</td>\n",
              "      <td>0.033401</td>\n",
              "    </tr>\n",
              "    <tr>\n",
              "      <th>23</th>\n",
              "      <td>22</td>\n",
              "      <td>{'xgb__colsample_bytree': 1.0, 'xgb__gamma': 0, 'xgb__learning_rate': 0.1, 'xgb__max_depth': 6, ...</td>\n",
              "      <td>0.847460</td>\n",
              "      <td>0.022640</td>\n",
              "    </tr>\n",
              "    <tr>\n",
              "      <th>26</th>\n",
              "      <td>22</td>\n",
              "      <td>{'xgb__colsample_bytree': 1.0, 'xgb__gamma': 0, 'xgb__learning_rate': 0.3, 'xgb__max_depth': 6, ...</td>\n",
              "      <td>0.847460</td>\n",
              "      <td>0.046317</td>\n",
              "    </tr>\n",
              "    <tr>\n",
              "      <th>25</th>\n",
              "      <td>24</td>\n",
              "      <td>{'xgb__colsample_bytree': 1.0, 'xgb__gamma': 0, 'xgb__learning_rate': 0.3, 'xgb__max_depth': 6, ...</td>\n",
              "      <td>0.842063</td>\n",
              "      <td>0.037388</td>\n",
              "    </tr>\n",
              "    <tr>\n",
              "      <th>21</th>\n",
              "      <td>25</td>\n",
              "      <td>{'xgb__colsample_bytree': 1.0, 'xgb__gamma': 0, 'xgb__learning_rate': 0.1, 'xgb__max_depth': 6, ...</td>\n",
              "      <td>0.841905</td>\n",
              "      <td>0.022008</td>\n",
              "    </tr>\n",
              "    <tr>\n",
              "      <th>16</th>\n",
              "      <td>26</td>\n",
              "      <td>{'xgb__colsample_bytree': 1.0, 'xgb__gamma': 0, 'xgb__learning_rate': 0.1, 'xgb__max_depth': 6, ...</td>\n",
              "      <td>0.841905</td>\n",
              "      <td>0.028476</td>\n",
              "    </tr>\n",
              "    <tr>\n",
              "      <th>19</th>\n",
              "      <td>27</td>\n",
              "      <td>{'xgb__colsample_bytree': 1.0, 'xgb__gamma': 0, 'xgb__learning_rate': 0.1, 'xgb__max_depth': 6, ...</td>\n",
              "      <td>0.836508</td>\n",
              "      <td>0.040228</td>\n",
              "    </tr>\n",
              "    <tr>\n",
              "      <th>0</th>\n",
              "      <td>28</td>\n",
              "      <td>{'xgb__colsample_bytree': 0.5, 'xgb__gamma': 0, 'xgb__learning_rate': 0.1, 'xgb__max_depth': 6, ...</td>\n",
              "      <td>0.836190</td>\n",
              "      <td>0.020565</td>\n",
              "    </tr>\n",
              "    <tr>\n",
              "      <th>24</th>\n",
              "      <td>29</td>\n",
              "      <td>{'xgb__colsample_bytree': 1.0, 'xgb__gamma': 0, 'xgb__learning_rate': 0.3, 'xgb__max_depth': 6, ...</td>\n",
              "      <td>0.836032</td>\n",
              "      <td>0.049461</td>\n",
              "    </tr>\n",
              "    <tr>\n",
              "      <th>3</th>\n",
              "      <td>29</td>\n",
              "      <td>{'xgb__colsample_bytree': 0.5, 'xgb__gamma': 0, 'xgb__learning_rate': 0.1, 'xgb__max_depth': 6, ...</td>\n",
              "      <td>0.836032</td>\n",
              "      <td>0.038298</td>\n",
              "    </tr>\n",
              "    <tr>\n",
              "      <th>1</th>\n",
              "      <td>31</td>\n",
              "      <td>{'xgb__colsample_bytree': 0.5, 'xgb__gamma': 0, 'xgb__learning_rate': 0.1, 'xgb__max_depth': 6, ...</td>\n",
              "      <td>0.830476</td>\n",
              "      <td>0.018220</td>\n",
              "    </tr>\n",
              "    <tr>\n",
              "      <th>17</th>\n",
              "      <td>32</td>\n",
              "      <td>{'xgb__colsample_bytree': 1.0, 'xgb__gamma': 0, 'xgb__learning_rate': 0.1, 'xgb__max_depth': 6, ...</td>\n",
              "      <td>0.825079</td>\n",
              "      <td>0.031875</td>\n",
              "    </tr>\n",
              "  </tbody>\n",
              "</table>\n",
              "</div>"
            ],
            "text/plain": [
              "    rank  ... cv score (std)\n",
              "22     1  ...       0.032256\n",
              "9      2  ...       0.032832\n",
              "15     3  ...       0.045575\n",
              "7      3  ...       0.041840\n",
              "13     3  ...       0.045575\n",
              "2      6  ...       0.038876\n",
              "6      7  ...       0.046523\n",
              "12     7  ...       0.034421\n",
              "14     9  ...       0.030493\n",
              "20     9  ...       0.039785\n",
              "5     11  ...       0.035945\n",
              "11    11  ...       0.035945\n",
              "10    13  ...       0.030965\n",
              "28    14  ...       0.036568\n",
              "4     14  ...       0.036568\n",
              "29    16  ...       0.032869\n",
              "31    16  ...       0.032869\n",
              "30    16  ...       0.037509\n",
              "8     19  ...       0.027771\n",
              "27    19  ...       0.033401\n",
              "18    21  ...       0.033401\n",
              "23    22  ...       0.022640\n",
              "26    22  ...       0.046317\n",
              "25    24  ...       0.037388\n",
              "21    25  ...       0.022008\n",
              "16    26  ...       0.028476\n",
              "19    27  ...       0.040228\n",
              "0     28  ...       0.020565\n",
              "24    29  ...       0.049461\n",
              "3     29  ...       0.038298\n",
              "1     31  ...       0.018220\n",
              "17    32  ...       0.031875\n",
              "\n",
              "[32 rows x 4 columns]"
            ]
          },
          "metadata": {
            "tags": []
          },
          "execution_count": 123
        }
      ]
    },
    {
      "cell_type": "code",
      "metadata": {
        "colab": {
          "base_uri": "https://localhost:8080/"
        },
        "id": "kuaTFCUxwZ1q",
        "outputId": "b5be1789-a4d7-4331-c66d-df7cad5f468a"
      },
      "source": [
        "best_xgb_test_score = gs_xgb.score(cv_test_features, test_label_nums)\n",
        "print('Test Accuracy :', best_xgb_test_score)"
      ],
      "execution_count": null,
      "outputs": [
        {
          "output_type": "stream",
          "text": [
            "Test Accuracy : 0.8444444444444444\n"
          ],
          "name": "stdout"
        }
      ]
    },
    {
      "cell_type": "code",
      "metadata": {
        "colab": {
          "base_uri": "https://localhost:8080/"
        },
        "id": "Tl7FG7NXzMEv",
        "outputId": "2ffd402d-7d03-4236-a533-77f479197332"
      },
      "source": [
        "'''\n",
        "from xgboost import XGBClassifier\n",
        "train_ = np.zeros(10)\n",
        "xgb = XGBClassifier(booster='gbtree', n_estimators=200, min_child_weight=1, gamma=0.5, subsample=0.8, colsample_bytree=0.6, max_depth=5,\n",
        "                    learning_rate=0.1, verbosity=1, random_state=42)\n",
        "\n",
        "for i in range(10):\n",
        "\n",
        "  xgb_bow_cv_scores = cross_val_score(xgb, cv_train_features, train_label_nums, cv=StratifiedKFold(n_splits=5, shuffle=True))\n",
        "  xgb_bow_cv_mean_score = np.mean(xgb_bow_cv_scores)\n",
        "  print('CV Accuracy (5-fold):', xgb_bow_cv_scores)\n",
        "  print('Mean CV Accuracy:', xgb_bow_cv_mean_score)\n",
        "\n",
        "  train_[i] = xgb_bow_cv_mean_score\n",
        "\n",
        "xgb.fit(cv_train_features, train_label_nums)\n",
        "xgb_bow_test_score = xgb.score(cv_test_features, test_label_nums)\n",
        "\n",
        "print('----------')\n",
        "print('Test Accuracy:', xgb_bow_test_score)\n",
        "\n",
        "\n",
        "\n",
        "# 50\n",
        "print(train_.shape)\n",
        "print(type(train_))\n",
        "print('----------')\n",
        "\n",
        "print(f'Training accuracy (mean)   = {np.mean(train_):.4f}')\n",
        "print(f'Training accuracy (median) = {np.median(train_):.4f}')\n",
        "print('----------')\n",
        "\n",
        "print(f'Test accuracy = {xgb_bow_test_score:.4f}')\n",
        "'''"
      ],
      "execution_count": null,
      "outputs": [
        {
          "output_type": "stream",
          "text": [
            "CV Accuracy (5-fold): [0.86111111 0.83333333 0.82857143 0.85714286 0.77142857]\n",
            "Mean CV Accuracy: 0.8303174603174603\n",
            "CV Accuracy (5-fold): [0.86111111 0.77777778 0.94285714 0.82857143 0.68571429]\n",
            "Mean CV Accuracy: 0.8192063492063492\n",
            "CV Accuracy (5-fold): [0.80555556 0.83333333 0.82857143 0.8        0.77142857]\n",
            "Mean CV Accuracy: 0.8077777777777777\n",
            "CV Accuracy (5-fold): [0.83333333 0.83333333 0.88571429 0.77142857 0.82857143]\n",
            "Mean CV Accuracy: 0.8304761904761904\n",
            "CV Accuracy (5-fold): [0.80555556 0.88888889 0.85714286 0.82857143 0.82857143]\n",
            "Mean CV Accuracy: 0.8417460317460318\n",
            "CV Accuracy (5-fold): [0.83333333 0.80555556 0.88571429 0.74285714 0.82857143]\n",
            "Mean CV Accuracy: 0.8192063492063492\n",
            "CV Accuracy (5-fold): [0.83333333 0.80555556 0.91428571 0.85714286 0.77142857]\n",
            "Mean CV Accuracy: 0.8363492063492064\n",
            "CV Accuracy (5-fold): [0.83333333 0.94444444 0.68571429 0.91428571 0.68571429]\n",
            "Mean CV Accuracy: 0.8126984126984127\n",
            "CV Accuracy (5-fold): [0.86111111 0.94444444 0.8        0.82857143 0.82857143]\n",
            "Mean CV Accuracy: 0.8525396825396825\n",
            "CV Accuracy (5-fold): [0.80555556 0.86111111 0.82857143 0.82857143 0.8       ]\n",
            "Mean CV Accuracy: 0.8247619047619048\n",
            "----------\n",
            "Test Accuracy: 0.8888888888888888\n"
          ],
          "name": "stdout"
        }
      ]
    },
    {
      "cell_type": "markdown",
      "metadata": {
        "id": "1_5MO_8IDA19"
      },
      "source": [
        "## 80/20 split for 500 times using LR, SVM, RF, XGBoost"
      ]
    },
    {
      "cell_type": "markdown",
      "metadata": {
        "id": "wmEP6bZ5reRE"
      },
      "source": [
        "### LR"
      ]
    },
    {
      "cell_type": "code",
      "metadata": {
        "colab": {
          "base_uri": "https://localhost:8080/"
        },
        "id": "u_HWPG8VDJdK",
        "outputId": "70881b3c-42ec-4aae-e933-cf2c610e9149"
      },
      "source": [
        "import time as t\n",
        "import numpy as np\n",
        "from sklearn.pipeline import Pipeline\n",
        "from sklearn.model_selection import GridSearchCV\n",
        "from sklearn.feature_extraction.text import TfidfVectorizer\n",
        "from sklearn.linear_model import LogisticRegression\n",
        "\n",
        "times = 100\n",
        "lr_n_times = np.zeros(times)\n",
        "\n",
        "t1 = t.perf_counter()\n",
        "\n",
        "for i in range(times):\n",
        "  \n",
        "  ## [1] 80-20 split\n",
        "\n",
        "  # sklearn.model_selection.train_test_split(*arrays, test_size=None, train_size=None, random_state=None, shuffle=True, stratify=None)\n",
        "\n",
        "  from sklearn.model_selection import train_test_split\n",
        "\n",
        "  train_corpus, test_corpus, train_label_nums, test_label_nums = \\\n",
        "                                  train_test_split(np.array(FOMC_pickle_2), fund_rate_change_2, \n",
        "                                                    test_size=0.2, stratify=fund_rate_change_2) # random_state = 2021 / 2022 / 2023 / 2024 / 3000\n",
        "\n",
        "  from sklearn.feature_extraction.text import CountVectorizer\n",
        "  from sklearn.model_selection import cross_val_score\n",
        "\n",
        "  # build BOW features on train articles\n",
        "  cv = CountVectorizer(binary=False, min_df=0.0, max_df=1.0, vocabulary = voc_1_7_filter, ngram_range=(1, 1))\n",
        "  cv_train_features = cv.fit_transform(train_corpus)\n",
        "\n",
        "  # transform test articles into features\n",
        "  cv_test_features = cv.transform(test_corpus)\n",
        "\n",
        "  # print('BOW model:> Train features shape:', cv_train_features.shape, ' Test features shape:', cv_test_features.shape)\n",
        "\n",
        "\n",
        "  # [2] LR\n",
        " \n",
        "  lr_pipeline = Pipeline([('lr', LogisticRegression(penalty='l2', max_iter=8000, random_state=42))])\n",
        "\n",
        "  param_grid = {'lr__C': [0.01, 0.1, 1.0, 5.0, 10.0, 100.0]}\n",
        "\n",
        "  gs_lr = GridSearchCV(lr_pipeline, param_grid, cv=5, verbose=0)\n",
        "  gs_lr = gs_lr.fit(cv_train_features, train_label_nums)\n",
        "\n",
        "  best_lr_test_score = gs_lr.score(cv_test_features, test_label_nums)\n",
        "  # print('Test Accuracy :', best_lr_test_score)\n",
        "\n",
        "  lr_n_times[i] = np.around(best_lr_test_score, 4)\n",
        "  \n",
        "  if (i+1) % 10 == 0:\n",
        "    test_accuracy = np.around(np.mean(lr_n_times[:i+1]) * 100, 2)\n",
        "    t2 = t.perf_counter()\n",
        "    time_spent = t2 - t1\n",
        "    print ('Times [{:3d}/{:d}] | test accuracy: {:5.2f} % | Time spent: {}'.format(i+1, times, test_accuracy, np.around(time_spent,2)))\n",
        "\n",
        "t3 = t.perf_counter()\n",
        "time_spent_final = t3 - t1\n",
        "print()\n",
        "print(\"Running time: {} s\".format(np.around(time_spent_final, 2)))\n",
        "print()\n",
        "print(\"Final test accuracy: {:5.2f} %\".format(np.around(np.mean(lr_n_times) * 100, 2)))"
      ],
      "execution_count": null,
      "outputs": [
        {
          "output_type": "stream",
          "text": [
            "Times [ 10/100] | test accuracy: 90.66 % | Time spent: 108.74\n",
            "Times [ 20/100] | test accuracy: 88.78 % | Time spent: 213.21\n",
            "Times [ 30/100] | test accuracy: 88.37 % | Time spent: 328.31\n",
            "Times [ 40/100] | test accuracy: 88.11 % | Time spent: 433.26\n",
            "Times [ 50/100] | test accuracy: 87.96 % | Time spent: 536.11\n",
            "Times [ 60/100] | test accuracy: 88.18 % | Time spent: 644.41\n",
            "Times [ 70/100] | test accuracy: 88.29 % | Time spent: 756.87\n",
            "Times [ 80/100] | test accuracy: 88.19 % | Time spent: 864.28\n",
            "Times [ 90/100] | test accuracy: 87.98 % | Time spent: 969.51\n",
            "Times [100/100] | test accuracy: 88.11 % | Time spent: 1070.88\n",
            "\n",
            "Running time: 1070.88 s\n",
            "\n",
            "Final test accuracy: 88.11 %\n"
          ],
          "name": "stdout"
        }
      ]
    },
    {
      "cell_type": "code",
      "metadata": {
        "colab": {
          "base_uri": "https://localhost:8080/"
        },
        "id": "GI8BwFWkzf9x",
        "outputId": "bc6eff72-040a-460b-c475-464ab6468227"
      },
      "source": [
        "gs_lr.best_estimator_.get_params()"
      ],
      "execution_count": null,
      "outputs": [
        {
          "output_type": "execute_result",
          "data": {
            "text/plain": [
              "{'lr': LogisticRegression(C=0.01, class_weight=None, dual=False, fit_intercept=True,\n",
              "                    intercept_scaling=1, l1_ratio=None, max_iter=8000,\n",
              "                    multi_class='auto', n_jobs=None, penalty='l2',\n",
              "                    random_state=42, solver='lbfgs', tol=0.0001, verbose=0,\n",
              "                    warm_start=False),\n",
              " 'lr__C': 0.01,\n",
              " 'lr__class_weight': None,\n",
              " 'lr__dual': False,\n",
              " 'lr__fit_intercept': True,\n",
              " 'lr__intercept_scaling': 1,\n",
              " 'lr__l1_ratio': None,\n",
              " 'lr__max_iter': 8000,\n",
              " 'lr__multi_class': 'auto',\n",
              " 'lr__n_jobs': None,\n",
              " 'lr__penalty': 'l2',\n",
              " 'lr__random_state': 42,\n",
              " 'lr__solver': 'lbfgs',\n",
              " 'lr__tol': 0.0001,\n",
              " 'lr__verbose': 0,\n",
              " 'lr__warm_start': False,\n",
              " 'memory': None,\n",
              " 'steps': [('lr',\n",
              "   LogisticRegression(C=0.01, class_weight=None, dual=False, fit_intercept=True,\n",
              "                      intercept_scaling=1, l1_ratio=None, max_iter=8000,\n",
              "                      multi_class='auto', n_jobs=None, penalty='l2',\n",
              "                      random_state=42, solver='lbfgs', tol=0.0001, verbose=0,\n",
              "                      warm_start=False))],\n",
              " 'verbose': False}"
            ]
          },
          "metadata": {
            "tags": []
          },
          "execution_count": 187
        }
      ]
    },
    {
      "cell_type": "markdown",
      "metadata": {
        "id": "jNb_DxIjrjdp"
      },
      "source": [
        "### SVM"
      ]
    },
    {
      "cell_type": "code",
      "metadata": {
        "colab": {
          "base_uri": "https://localhost:8080/"
        },
        "id": "Tx6nzcf4OcnT",
        "outputId": "2cd921cc-e714-4df3-c765-ad2c8800c236"
      },
      "source": [
        "import time as t\n",
        "import numpy as np\n",
        "from sklearn.pipeline import Pipeline\n",
        "from sklearn.model_selection import GridSearchCV\n",
        "from sklearn.feature_extraction.text import TfidfVectorizer\n",
        "from sklearn.svm import SVC\n",
        "\n",
        "times = 100\n",
        "svm_n_times = np.zeros(times)\n",
        "\n",
        "t1 = t.perf_counter()\n",
        "\n",
        "for i in range(times):\n",
        "  \n",
        "  ## [1] 80-20 split\n",
        "\n",
        "  # sklearn.model_selection.train_test_split(*arrays, test_size=None, train_size=None, random_state=None, shuffle=True, stratify=None)\n",
        "\n",
        "  from sklearn.model_selection import train_test_split\n",
        "\n",
        "  train_corpus, test_corpus, train_label_nums, test_label_nums = \\\n",
        "                                  train_test_split(np.array(FOMC_pickle_2), fund_rate_change_2, \n",
        "                                                    test_size=0.2, stratify=fund_rate_change_2) # random_state = 2021 / 2022 / 2023 / 2024 / 3000\n",
        "\n",
        "  from sklearn.feature_extraction.text import CountVectorizer\n",
        "  from sklearn.model_selection import cross_val_score\n",
        "\n",
        "  # build BOW features on train articles\n",
        "  cv = CountVectorizer(binary=False, min_df=0.0, max_df=1.0, vocabulary = voc_1_7_filter, ngram_range=(1, 1))\n",
        "  cv_train_features = cv.fit_transform(train_corpus)\n",
        "\n",
        "  # transform test articles into features\n",
        "  cv_test_features = cv.transform(test_corpus)\n",
        "\n",
        "  # print('BOW model:> Train features shape:', cv_train_features.shape, ' Test features shape:', cv_test_features.shape)\n",
        "\n",
        "\n",
        "  # [2] SVM\n",
        " \n",
        "  svm_pipeline = Pipeline([('svm', SVC(kernel='rbf'))])\n",
        "\n",
        "  param_grid = {'svm__gamma': [1e-06, 1e-05, 1e-04, 1e-03, 1e-02, 1e-01, 0, 1],\n",
        "                'svm__C': [0.1, 1.0, 10, 100, 500, 1000]}\n",
        "\n",
        "  gs_svm = GridSearchCV(svm_pipeline, param_grid, cv=5, verbose=0)\n",
        "  gs_svm = gs_svm.fit(cv_train_features, train_label_nums)\n",
        "\n",
        "  best_svm_test_score = gs_svm.score(cv_test_features, test_label_nums)\n",
        "\n",
        "  svm_n_times[i] = np.around(best_svm_test_score, 4)\n",
        "  \n",
        "  if (i+1) % 10 == 0:\n",
        "    test_accuracy = np.mean(svm_n_times[:i+1]) * 100\n",
        "    t2 = t.perf_counter()\n",
        "    time_spent = t2 - t1\n",
        "    print ('Times [{:3d}/{:d}] | test accuracy: {:5.2f} % | Time spent: {}'.format(i+1, times, test_accuracy, np.around(time_spent,2)))\n",
        "\n",
        "t3 = t.perf_counter()\n",
        "time_spent_final = t3 - t1\n",
        "print()\n",
        "print(\"Running time: {} s\".format(np.around(time_spent_final, 2)))\n",
        "print()\n",
        "print(\"Final test accuracy: {:5.2f} %\".format(np.around(np.mean(svm_n_times) * 100, 2)))"
      ],
      "execution_count": null,
      "outputs": [
        {
          "output_type": "stream",
          "text": [
            "Times [ 10/100] | test accuracy: 85.11 % | Time spent: 74.25\n",
            "Times [ 20/100] | test accuracy: 84.89 % | Time spent: 147.81\n",
            "Times [ 30/100] | test accuracy: 85.33 % | Time spent: 221.36\n",
            "Times [ 40/100] | test accuracy: 84.89 % | Time spent: 295.69\n",
            "Times [ 50/100] | test accuracy: 84.98 % | Time spent: 368.9\n",
            "Times [ 60/100] | test accuracy: 84.93 % | Time spent: 443.52\n",
            "Times [ 70/100] | test accuracy: 85.11 % | Time spent: 517.88\n",
            "Times [ 80/100] | test accuracy: 84.97 % | Time spent: 592.95\n",
            "Times [ 90/100] | test accuracy: 84.99 % | Time spent: 667.23\n",
            "Times [100/100] | test accuracy: 85.07 % | Time spent: 741.24\n",
            "\n",
            "Running time: 741.24 s\n",
            "\n",
            "Final test accuracy: 85.07 %\n"
          ],
          "name": "stdout"
        }
      ]
    },
    {
      "cell_type": "markdown",
      "metadata": {
        "id": "HqgltWAwrnmi"
      },
      "source": [
        "### RF"
      ]
    },
    {
      "cell_type": "code",
      "metadata": {
        "colab": {
          "base_uri": "https://localhost:8080/"
        },
        "id": "kmJf2GlHDIF0",
        "outputId": "2697e71f-47a7-489a-dd0a-1efc56f51fb1"
      },
      "source": [
        "import time as t\n",
        "import numpy as np\n",
        "from sklearn.pipeline import Pipeline\n",
        "from sklearn.model_selection import GridSearchCV\n",
        "from sklearn.feature_extraction.text import TfidfVectorizer\n",
        "from sklearn.ensemble import RandomForestClassifier\n",
        "\n",
        "times = 100\n",
        "rfc_n_times = np.zeros(times)\n",
        "\n",
        "t1 = t.perf_counter()\n",
        "\n",
        "for i in range(times):\n",
        "  \n",
        "  ## [1] 80-20 split\n",
        "\n",
        "  # sklearn.model_selection.train_test_split(*arrays, test_size=None, train_size=None, random_state=None, shuffle=True, stratify=None)\n",
        "\n",
        "  from sklearn.model_selection import train_test_split\n",
        "\n",
        "  train_corpus, test_corpus, train_label_nums, test_label_nums = \\\n",
        "                                  train_test_split(np.array(FOMC_pickle_2), fund_rate_change_2, \n",
        "                                                    test_size=0.2, stratify=fund_rate_change_2) # random_state = 2021 / 2022 / 2023 / 2024 / 3000\n",
        "\n",
        "  from sklearn.feature_extraction.text import CountVectorizer\n",
        "  from sklearn.model_selection import cross_val_score\n",
        "\n",
        "  # build BOW features on train articles\n",
        "  cv = CountVectorizer(binary=False, min_df=0.0, max_df=1.0, vocabulary = voc_1_7_filter, ngram_range=(1, 1))\n",
        "  cv_train_features = cv.fit_transform(train_corpus)\n",
        "\n",
        "  # transform test articles into features\n",
        "  cv_test_features = cv.transform(test_corpus)\n",
        "\n",
        "\n",
        "\n",
        "  # [3] RF\n",
        " \n",
        "  rfc_pipeline = Pipeline([('rfc', RandomForestClassifier(random_state=2020, criterion = \"gini\"))])\n",
        "\n",
        "  param_grid = {'rfc__n_estimators': [100, 300, 500, 700]}\n",
        "\n",
        "  gs_rfc = GridSearchCV(rfc_pipeline, param_grid, cv=5, verbose=0)\n",
        "  gs_rfc = gs_rfc.fit(cv_train_features, train_label_nums)\n",
        "\n",
        "  best_rfc_test_score = gs_rfc.score(cv_test_features, test_label_nums)\n",
        "\n",
        "  rfc_n_times[i] = np.around(best_rfc_test_score, 4)\n",
        "  \n",
        "  if (i+1) % 10 == 0:\n",
        "    test_accuracy = np.mean(rfc_n_times[:i+1]) * 100\n",
        "    t2 = t.perf_counter()\n",
        "    time_spent = t2 - t1\n",
        "    print ('Times [{:3d}/{:d}] | test accuracy: {:5.2f} % | Time spent: {}'.format(i+1, times, test_accuracy, np.around(time_spent,2)))\n",
        "\n",
        "t3 = t.perf_counter()\n",
        "time_spent_final = t3 - t1\n",
        "print()\n",
        "print(\"Running time: {} s\".format(np.around(time_spent_final, 2)))\n",
        "print()\n",
        "print(\"Final test accuracy: {:5.2f} %\".format(np.around(np.mean(rfc_n_times) * 100, 2)))"
      ],
      "execution_count": null,
      "outputs": [
        {
          "output_type": "stream",
          "text": [
            "Times [ 10/100] | test accuracy: 80.67 % | Time spent: 147.74\n",
            "Times [ 20/100] | test accuracy: 81.00 % | Time spent: 295.77\n",
            "Times [ 30/100] | test accuracy: 80.81 % | Time spent: 439.83\n",
            "Times [ 40/100] | test accuracy: 81.00 % | Time spent: 589.78\n",
            "Times [ 50/100] | test accuracy: 81.29 % | Time spent: 737.2\n",
            "Times [ 60/100] | test accuracy: 81.11 % | Time spent: 887.01\n",
            "Times [ 70/100] | test accuracy: 81.36 % | Time spent: 1038.2\n",
            "Times [ 80/100] | test accuracy: 81.22 % | Time spent: 1187.78\n",
            "Times [ 90/100] | test accuracy: 81.11 % | Time spent: 1335.37\n",
            "Times [100/100] | test accuracy: 81.00 % | Time spent: 1485.89\n",
            "\n",
            "Running time: 1485.89 s\n",
            "\n",
            "Final test accuracy: 81.00 %\n"
          ],
          "name": "stdout"
        }
      ]
    },
    {
      "cell_type": "code",
      "metadata": {
        "colab": {
          "base_uri": "https://localhost:8080/"
        },
        "id": "kNXts1FhtHRZ",
        "outputId": "2f9b647c-b7ba-4a53-bb40-7a12267085e5"
      },
      "source": [
        "gs_rfc.best_estimator_.get_params()"
      ],
      "execution_count": null,
      "outputs": [
        {
          "output_type": "execute_result",
          "data": {
            "text/plain": [
              "{'memory': None,\n",
              " 'rfc': RandomForestClassifier(bootstrap=True, ccp_alpha=0.0, class_weight=None,\n",
              "                        criterion='gini', max_depth=None, max_features='auto',\n",
              "                        max_leaf_nodes=None, max_samples=None,\n",
              "                        min_impurity_decrease=0.0, min_impurity_split=None,\n",
              "                        min_samples_leaf=1, min_samples_split=2,\n",
              "                        min_weight_fraction_leaf=0.0, n_estimators=500,\n",
              "                        n_jobs=None, oob_score=False, random_state=2020,\n",
              "                        verbose=0, warm_start=False),\n",
              " 'rfc__bootstrap': True,\n",
              " 'rfc__ccp_alpha': 0.0,\n",
              " 'rfc__class_weight': None,\n",
              " 'rfc__criterion': 'gini',\n",
              " 'rfc__max_depth': None,\n",
              " 'rfc__max_features': 'auto',\n",
              " 'rfc__max_leaf_nodes': None,\n",
              " 'rfc__max_samples': None,\n",
              " 'rfc__min_impurity_decrease': 0.0,\n",
              " 'rfc__min_impurity_split': None,\n",
              " 'rfc__min_samples_leaf': 1,\n",
              " 'rfc__min_samples_split': 2,\n",
              " 'rfc__min_weight_fraction_leaf': 0.0,\n",
              " 'rfc__n_estimators': 500,\n",
              " 'rfc__n_jobs': None,\n",
              " 'rfc__oob_score': False,\n",
              " 'rfc__random_state': 2020,\n",
              " 'rfc__verbose': 0,\n",
              " 'rfc__warm_start': False,\n",
              " 'steps': [('rfc',\n",
              "   RandomForestClassifier(bootstrap=True, ccp_alpha=0.0, class_weight=None,\n",
              "                          criterion='gini', max_depth=None, max_features='auto',\n",
              "                          max_leaf_nodes=None, max_samples=None,\n",
              "                          min_impurity_decrease=0.0, min_impurity_split=None,\n",
              "                          min_samples_leaf=1, min_samples_split=2,\n",
              "                          min_weight_fraction_leaf=0.0, n_estimators=500,\n",
              "                          n_jobs=None, oob_score=False, random_state=2020,\n",
              "                          verbose=0, warm_start=False))],\n",
              " 'verbose': False}"
            ]
          },
          "metadata": {
            "tags": []
          },
          "execution_count": 200
        }
      ]
    },
    {
      "cell_type": "markdown",
      "metadata": {
        "id": "_87MbTDBrvA4"
      },
      "source": [
        "### XGBoost"
      ]
    },
    {
      "cell_type": "code",
      "metadata": {
        "colab": {
          "base_uri": "https://localhost:8080/"
        },
        "id": "xzZqP-c_DIJ7",
        "outputId": "4b6048be-2042-411b-e69b-673af30c7d45"
      },
      "source": [
        "import time as t\n",
        "import numpy as np\n",
        "from sklearn.pipeline import Pipeline\n",
        "from sklearn.model_selection import GridSearchCV\n",
        "from sklearn.feature_extraction.text import TfidfVectorizer\n",
        "from xgboost import XGBClassifier\n",
        "\n",
        "times = 100\n",
        "xgb_n_times = np.zeros(times)\n",
        "\n",
        "t1 = t.perf_counter()\n",
        "\n",
        "for i in range(times):\n",
        "  \n",
        "  ## [1] 80-20 split\n",
        "\n",
        "  # sklearn.model_selection.train_test_split(*arrays, test_size=None, train_size=None, random_state=None, shuffle=True, stratify=None)\n",
        "\n",
        "  from sklearn.model_selection import train_test_split\n",
        "\n",
        "  train_corpus, test_corpus, train_label_nums, test_label_nums = \\\n",
        "                                  train_test_split(np.array(FOMC_pickle_2), fund_rate_change_2, \n",
        "                                                    test_size=0.2, stratify=fund_rate_change_2) # random_state = 2021 / 2022 / 2023 / 2024 / 3000\n",
        "\n",
        "  from sklearn.feature_extraction.text import CountVectorizer\n",
        "  from sklearn.model_selection import cross_val_score\n",
        "\n",
        "  # build BOW features on train articles\n",
        "  cv = CountVectorizer(binary=False, min_df=0.0, max_df=1.0, vocabulary = voc_1_7_filter, ngram_range=(1, 1))\n",
        "  cv_train_features = cv.fit_transform(train_corpus)\n",
        "\n",
        "  # transform test articles into features\n",
        "  cv_test_features = cv.transform(test_corpus)\n",
        "\n",
        "\n",
        "\n",
        "  # [4] XGBoost\n",
        " \n",
        "  xgb_pipeline = Pipeline([('xgb', XGBClassifier(booster='gbtree', min_child_weight=1, verbosity=1, random_state=42))])\n",
        "\n",
        "  param_grid = {'xgb__n_estimators': [100, 200, 400],\n",
        "                'xgb__gamma': [0],\n",
        "                'xgb__min_child_weight': [1],\n",
        "                'xgb__subsample': [0.5, 1.0],\n",
        "                'xgb__colsample_bytree': [0.5, 1.0],\n",
        "                'xgb__max_depth': [6],\n",
        "                'xgb__learning_rate': [0.3],\n",
        "                'xgb__colsample_bytree': [0.5, 1.0],\n",
        "                }\n",
        "\n",
        "  gs_xgb = GridSearchCV(xgb_pipeline, param_grid, cv=5, verbose=0)\n",
        "  gs_xgb = gs_xgb.fit(cv_train_features, train_label_nums)\n",
        "\n",
        "  best_xgb_test_score = gs_xgb.score(cv_test_features, test_label_nums)\n",
        "\n",
        "  xgb_n_times[i] = np.around(best_xgb_test_score, 4)\n",
        "  \n",
        "  if (i+1) % 10 == 0:\n",
        "    test_accuracy = np.mean(xgb_n_times[:i+1]) * 100\n",
        "    t2 = t.perf_counter()\n",
        "    time_spent = t2 - t1\n",
        "    print ('Times [{:3d}/{:d}] | test accuracy: {:5.2f} % | Time spent: {}'.format(i+1, times, test_accuracy, np.around(time_spent,2)))\n",
        "\n",
        "t3 = t.perf_counter()\n",
        "time_spent_final = t3 - t1\n",
        "print()\n",
        "print(\"Running time: {} s\".format(np.around(time_spent_final, 2)))\n",
        "print()\n",
        "print(\"Final test accuracy: {:5.2f} %\".format(np.around(np.mean(xgb_n_times) * 100, 2)))"
      ],
      "execution_count": null,
      "outputs": [
        {
          "output_type": "stream",
          "text": [
            "Times [ 10/100] | test accuracy: 85.78 % | Time spent: 226.06\n",
            "Times [ 20/100] | test accuracy: 85.33 % | Time spent: 448.06\n",
            "Times [ 30/100] | test accuracy: 85.41 % | Time spent: 676.11\n",
            "Times [ 40/100] | test accuracy: 86.00 % | Time spent: 904.52\n",
            "Times [ 50/100] | test accuracy: 85.56 % | Time spent: 1130.98\n",
            "Times [ 60/100] | test accuracy: 85.37 % | Time spent: 1359.2\n",
            "Times [ 70/100] | test accuracy: 85.17 % | Time spent: 1602.17\n",
            "Times [ 80/100] | test accuracy: 85.17 % | Time spent: 1840.81\n",
            "Times [ 90/100] | test accuracy: 85.11 % | Time spent: 2076.77\n",
            "Times [100/100] | test accuracy: 85.11 % | Time spent: 2305.6\n",
            "\n",
            "Running time: 2305.6 s\n",
            "\n",
            "Final test accuracy: 85.11 %\n"
          ],
          "name": "stdout"
        }
      ]
    },
    {
      "cell_type": "code",
      "metadata": {
        "colab": {
          "base_uri": "https://localhost:8080/"
        },
        "id": "fah7wcSStGZU",
        "outputId": "a97e1095-679f-42dd-8b79-86090eaf9558"
      },
      "source": [
        "gs_xgb.best_estimator_.get_params()"
      ],
      "execution_count": null,
      "outputs": [
        {
          "output_type": "execute_result",
          "data": {
            "text/plain": [
              "{'memory': None,\n",
              " 'steps': [('xgb',\n",
              "   XGBClassifier(base_score=0.5, booster='gbtree', colsample_bylevel=1,\n",
              "                 colsample_bynode=1, colsample_bytree=0.5, gamma=0,\n",
              "                 learning_rate=0.3, max_delta_step=0, max_depth=6,\n",
              "                 min_child_weight=1, missing=None, n_estimators=200, n_jobs=1,\n",
              "                 nthread=None, objective='multi:softprob', random_state=42,\n",
              "                 reg_alpha=0, reg_lambda=1, scale_pos_weight=1, seed=None,\n",
              "                 silent=None, subsample=0.5, verbosity=1))],\n",
              " 'verbose': False,\n",
              " 'xgb': XGBClassifier(base_score=0.5, booster='gbtree', colsample_bylevel=1,\n",
              "               colsample_bynode=1, colsample_bytree=0.5, gamma=0,\n",
              "               learning_rate=0.3, max_delta_step=0, max_depth=6,\n",
              "               min_child_weight=1, missing=None, n_estimators=200, n_jobs=1,\n",
              "               nthread=None, objective='multi:softprob', random_state=42,\n",
              "               reg_alpha=0, reg_lambda=1, scale_pos_weight=1, seed=None,\n",
              "               silent=None, subsample=0.5, verbosity=1),\n",
              " 'xgb__base_score': 0.5,\n",
              " 'xgb__booster': 'gbtree',\n",
              " 'xgb__colsample_bylevel': 1,\n",
              " 'xgb__colsample_bynode': 1,\n",
              " 'xgb__colsample_bytree': 0.5,\n",
              " 'xgb__gamma': 0,\n",
              " 'xgb__learning_rate': 0.3,\n",
              " 'xgb__max_delta_step': 0,\n",
              " 'xgb__max_depth': 6,\n",
              " 'xgb__min_child_weight': 1,\n",
              " 'xgb__missing': None,\n",
              " 'xgb__n_estimators': 200,\n",
              " 'xgb__n_jobs': 1,\n",
              " 'xgb__nthread': None,\n",
              " 'xgb__objective': 'multi:softprob',\n",
              " 'xgb__random_state': 42,\n",
              " 'xgb__reg_alpha': 0,\n",
              " 'xgb__reg_lambda': 1,\n",
              " 'xgb__scale_pos_weight': 1,\n",
              " 'xgb__seed': None,\n",
              " 'xgb__silent': None,\n",
              " 'xgb__subsample': 0.5,\n",
              " 'xgb__verbosity': 1}"
            ]
          },
          "metadata": {
            "tags": []
          },
          "execution_count": 207
        }
      ]
    },
    {
      "cell_type": "markdown",
      "metadata": {
        "id": "2ecFDYoqxe8A"
      },
      "source": [
        "## NN"
      ]
    },
    {
      "cell_type": "code",
      "metadata": {
        "colab": {
          "base_uri": "https://localhost:8080/"
        },
        "id": "m3M7Tbxw6j3r",
        "outputId": "93ceb5bd-4a6b-4a2c-9263-85166768d4b6"
      },
      "source": [
        "from sklearn.neural_network.multilayer_perceptron import MLPClassifier\n",
        "\n",
        "train_ = np.zeros(10)\n",
        "nn = MLPClassifier(hidden_layer_sizes=(50,50,50), batch_size=8, alpha=0.12, max_iter=1000, random_state=2020)\n",
        "\n",
        "for i in range(10):\n",
        "\n",
        "  nn_bow_cv_scores = cross_val_score(nn, cv_train_features, train_label_nums, cv=StratifiedKFold(n_splits=5, shuffle=True))\n",
        "  nn_bow_cv_mean_score = np.mean(nn_bow_cv_scores)\n",
        "  print('CV Accuracy (5-fold):', nn_bow_cv_scores)\n",
        "  print('Mean CV Accuracy:', nn_bow_cv_mean_score)\n",
        "\n",
        "  train_[i] = nn_bow_cv_mean_score\n",
        "\n",
        "nn.fit(cv_train_features, train_label_nums)\n",
        "nn_bow_test_score = nn.score(cv_test_features, test_label_nums)\n",
        "\n",
        "print('----------')\n",
        "print('Test Accuracy:', nn_bow_test_score)"
      ],
      "execution_count": null,
      "outputs": [
        {
          "output_type": "stream",
          "text": [
            "CV Accuracy (5-fold): [0.83333333 0.97222222 0.88571429 0.88571429 0.88571429]\n",
            "Mean CV Accuracy: 0.8925396825396825\n",
            "CV Accuracy (5-fold): [0.94444444 0.86111111 0.88571429 0.85714286 0.91428571]\n",
            "Mean CV Accuracy: 0.8925396825396825\n",
            "CV Accuracy (5-fold): [0.94444444 0.80555556 0.88571429 0.85714286 0.97142857]\n",
            "Mean CV Accuracy: 0.8928571428571429\n",
            "CV Accuracy (5-fold): [0.91666667 0.77777778 0.91428571 0.82857143 0.85714286]\n",
            "Mean CV Accuracy: 0.8588888888888888\n",
            "CV Accuracy (5-fold): [0.91666667 0.91666667 0.85714286 0.97142857 0.88571429]\n",
            "Mean CV Accuracy: 0.9095238095238095\n",
            "CV Accuracy (5-fold): [0.91666667 0.86111111 0.71428571 0.91428571 0.88571429]\n",
            "Mean CV Accuracy: 0.8584126984126984\n",
            "CV Accuracy (5-fold): [0.86111111 0.91666667 0.82857143 0.91428571 0.82857143]\n",
            "Mean CV Accuracy: 0.8698412698412697\n",
            "CV Accuracy (5-fold): [0.86111111 0.88888889 0.91428571 0.97142857 0.8       ]\n",
            "Mean CV Accuracy: 0.8871428571428572\n",
            "CV Accuracy (5-fold): [0.88888889 0.83333333 0.91428571 0.88571429 0.71428571]\n",
            "Mean CV Accuracy: 0.8473015873015873\n",
            "CV Accuracy (5-fold): [0.75       0.94444444 0.94285714 0.82857143 0.88571429]\n",
            "Mean CV Accuracy: 0.8703174603174603\n",
            "----------\n",
            "Test Accuracy: 0.8222222222222222\n"
          ],
          "name": "stdout"
        }
      ]
    },
    {
      "cell_type": "code",
      "metadata": {
        "colab": {
          "base_uri": "https://localhost:8080/"
        },
        "id": "zUxwkUYxFYZa",
        "outputId": "677ddc31-58ba-43cf-e108-813d77559195"
      },
      "source": [
        "# (hidden_layer_sizes=(50,50,50), batch_size=8, alpha=0.12\n",
        "\n",
        "print(train_.shape)\n",
        "print(type(train_))\n",
        "print('----------')\n",
        "\n",
        "print(f'Training accuracy (mean)   = {np.mean(train_):.4f}')\n",
        "print(f'Training accuracy (median) = {np.median(train_):.4f}')\n",
        "print('----------')\n",
        "\n",
        "print(f'Test accuracy = {nn_bow_test_score:.4f}')"
      ],
      "execution_count": null,
      "outputs": [
        {
          "output_type": "stream",
          "text": [
            "(10,)\n",
            "<class 'numpy.ndarray'>\n",
            "----------\n",
            "Training accuracy (mean)   = 0.8779\n",
            "Training accuracy (median) = 0.8787\n",
            "----------\n",
            "Test accuracy = 0.8222\n"
          ],
          "name": "stdout"
        }
      ]
    },
    {
      "cell_type": "code",
      "metadata": {
        "colab": {
          "base_uri": "https://localhost:8080/"
        },
        "id": "hflJGx38EOsn",
        "outputId": "20e0b8fa-ec86-4ace-dff8-ede1726e19e0"
      },
      "source": [
        "# (hidden_layer_sizes=(50,50,50), batch_size=8, alpha=0.1\n",
        "\n",
        "print(train_.shape)\n",
        "print(type(train_))\n",
        "print('----------')\n",
        "\n",
        "print(f'Training accuracy (mean)   = {np.mean(train_):.4f}')\n",
        "print(f'Training accuracy (median) = {np.median(train_):.4f}')\n",
        "print('----------')\n",
        "\n",
        "print(f'Test accuracy = {nn_bow_test_score:.4f}')"
      ],
      "execution_count": null,
      "outputs": [
        {
          "output_type": "stream",
          "text": [
            "(10,)\n",
            "<class 'numpy.ndarray'>\n",
            "----------\n",
            "Training accuracy (mean)   = 0.8718\n",
            "Training accuracy (median) = 0.8675\n",
            "----------\n",
            "Test accuracy = 0.8222\n"
          ],
          "name": "stdout"
        }
      ]
    },
    {
      "cell_type": "code",
      "metadata": {
        "colab": {
          "base_uri": "https://localhost:8080/"
        },
        "id": "wxxLHWUWDazi",
        "outputId": "7d3e9909-3167-4484-9ec4-b5910644ad75"
      },
      "source": [
        "# (hidden_layer_sizes=(50,50,50), batch_size=10, alpha=0.1\n",
        "\n",
        "print(train_.shape)\n",
        "print(type(train_))\n",
        "print('----------')\n",
        "\n",
        "print(f'Training accuracy (mean)   = {np.mean(train_):.4f}')\n",
        "print(f'Training accuracy (median) = {np.median(train_):.4f}')\n",
        "print('----------')\n",
        "\n",
        "print(f'Test accuracy = {nn_bow_test_score:.4f}')"
      ],
      "execution_count": null,
      "outputs": [
        {
          "output_type": "stream",
          "text": [
            "(10,)\n",
            "<class 'numpy.ndarray'>\n",
            "----------\n",
            "Training accuracy (mean)   = 0.8610\n",
            "Training accuracy (median) = 0.8587\n",
            "----------\n",
            "Test accuracy = 0.8222\n"
          ],
          "name": "stdout"
        }
      ]
    },
    {
      "cell_type": "code",
      "metadata": {
        "colab": {
          "base_uri": "https://localhost:8080/"
        },
        "id": "6drxtudXB8uO",
        "outputId": "a693cc08-8ec7-4d85-c4f2-54300dbd3c73"
      },
      "source": [
        "# hidden_layer_sizes=(50,50,50), batch_size=4, alpha=0.12\n",
        "\n",
        "print(train_.shape)\n",
        "print(type(train_))\n",
        "print('----------')\n",
        "\n",
        "print(f'Training accuracy (mean)   = {np.mean(train_):.4f}')\n",
        "print(f'Training accuracy (median) = {np.median(train_):.4f}')\n",
        "print('----------')\n",
        "\n",
        "print(f'Test accuracy = {nn_bow_test_score:.4f}')"
      ],
      "execution_count": null,
      "outputs": [
        {
          "output_type": "stream",
          "text": [
            "(10,)\n",
            "<class 'numpy.ndarray'>\n",
            "----------\n",
            "Training accuracy (mean)   = 0.8689\n",
            "Training accuracy (median) = 0.8704\n",
            "----------\n",
            "Test accuracy = 0.8444\n"
          ],
          "name": "stdout"
        }
      ]
    },
    {
      "cell_type": "code",
      "metadata": {
        "colab": {
          "base_uri": "https://localhost:8080/"
        },
        "id": "v-NOA6QUA77Q",
        "outputId": "67f45b85-5137-4f1e-878d-8e0e35453625"
      },
      "source": [
        "# hidden_layer_sizes=(50,50,50), batch_size=8, alpha=0.12\n",
        "\n",
        "print(train_.shape)\n",
        "print(type(train_))\n",
        "print('----------')\n",
        "\n",
        "print(f'Training accuracy (mean)   = {np.mean(train_):.4f}')\n",
        "print(f'Training accuracy (median) = {np.median(train_):.4f}')\n",
        "print('----------')\n",
        "\n",
        "print(f'Test accuracy = {nn_bow_test_score:.4f}')"
      ],
      "execution_count": null,
      "outputs": [
        {
          "output_type": "stream",
          "text": [
            "(10,)\n",
            "<class 'numpy.ndarray'>\n",
            "----------\n",
            "Training accuracy (mean)   = 0.8728\n",
            "Training accuracy (median) = 0.8726\n",
            "----------\n",
            "Test accuracy = 0.8222\n"
          ],
          "name": "stdout"
        }
      ]
    },
    {
      "cell_type": "code",
      "metadata": {
        "colab": {
          "base_uri": "https://localhost:8080/"
        },
        "id": "-fpB_4Si-WRv",
        "outputId": "f1400e56-8db6-4ade-e8c5-d62bf43c56bc"
      },
      "source": [
        "# hidden_layer_sizes=(50,50,50,50)\n",
        "\n",
        "print(train_.shape)\n",
        "print(type(train_))\n",
        "print('----------')\n",
        "\n",
        "print(f'Training accuracy (mean)   = {np.mean(train_):.4f}')\n",
        "print(f'Training accuracy (median) = {np.median(train_):.4f}')\n",
        "print('----------')\n",
        "\n",
        "print(f'Test accuracy = {nn_bow_test_score:.4f}')"
      ],
      "execution_count": null,
      "outputs": [
        {
          "output_type": "stream",
          "text": [
            "(10,)\n",
            "<class 'numpy.ndarray'>\n",
            "----------\n",
            "Training accuracy (mean)   = 0.8722\n",
            "Training accuracy (median) = 0.8699\n",
            "----------\n",
            "Test accuracy = 0.8222\n"
          ],
          "name": "stdout"
        }
      ]
    },
    {
      "cell_type": "code",
      "metadata": {
        "id": "q1QuAq_19Ku-"
      },
      "source": [
        "# hidden_layer_sizes=(50,50,50,50,50)\n",
        "\n",
        "print(train_.shape)\n",
        "print(type(train_))\n",
        "print('----------')\n",
        "\n",
        "print(f'Training accuracy (mean)   = {np.mean(train_):.4f}')\n",
        "print(f'Training accuracy (median) = {np.median(train_):.4f}')\n",
        "print('----------')\n",
        "\n",
        "print(f'Test accuracy = {nn_bow_test_score:.4f}')"
      ],
      "execution_count": null,
      "outputs": []
    },
    {
      "cell_type": "code",
      "metadata": {
        "id": "d9DPbGN26gCv"
      },
      "source": [
        "# hidden_layer_sizes=(50,50,50,50,50,50)\n",
        "\n",
        "print(train_.shape)\n",
        "print(type(train_))\n",
        "print('----------')\n",
        "\n",
        "print(f'Training accuracy (mean)   = {np.mean(train_):.4f}')\n",
        "print(f'Training accuracy (median) = {np.median(train_):.4f}')\n",
        "print('----------')\n",
        "\n",
        "print(f'Test accuracy = {nn_bow_test_score:.4f}')"
      ],
      "execution_count": null,
      "outputs": []
    },
    {
      "cell_type": "markdown",
      "metadata": {
        "id": "B5c8QjM19vX2"
      },
      "source": [
        "## Other code"
      ]
    },
    {
      "cell_type": "code",
      "metadata": {
        "colab": {
          "base_uri": "https://localhost:8080/"
        },
        "id": "qs7AvK87RFqK",
        "outputId": "5fb92186-9cc5-486a-b9fd-55b0fe397371"
      },
      "source": [
        "from sklearn.naive_bayes import MultinomialNB\n",
        "\n",
        "mnb = MultinomialNB(alpha=1)\n",
        "mnb.fit(cv_train_features, train_label_nums)\n",
        "mnb_bow_cv_scores = cross_val_score(mnb, cv_train_features, train_label_nums, cv=5)\n",
        "mnb_bow_cv_mean_score = np.mean(mnb_bow_cv_scores)\n",
        "print('CV Accuracy (5-fold):', mnb_bow_cv_scores)\n",
        "print('Mean CV Accuracy:', mnb_bow_cv_mean_score)\n",
        "mnb_bow_test_score = mnb.score(cv_test_features, test_label_nums)\n",
        "print('Test Accuracy:', mnb_bow_test_score)"
      ],
      "execution_count": null,
      "outputs": [
        {
          "output_type": "stream",
          "text": [
            "CV Accuracy (5-fold): [0.77777778 0.55555556 0.82857143 0.62857143 0.6       ]\n",
            "Mean CV Accuracy: 0.6780952380952382\n",
            "Test Accuracy: 0.6666666666666666\n"
          ],
          "name": "stdout"
        }
      ]
    },
    {
      "cell_type": "code",
      "metadata": {
        "colab": {
          "base_uri": "https://localhost:8080/"
        },
        "id": "SKFSV96UJVfw",
        "outputId": "40c1ae5e-c15a-4435-aa48-3bc67b38ccf7"
      },
      "source": [
        "from sklearn.pipeline import Pipeline\n",
        "from sklearn.model_selection import GridSearchCV\n",
        "from sklearn.naive_bayes import MultinomialNB\n",
        "from sklearn.feature_extraction.text import TfidfVectorizer\n",
        "\n",
        "mnb_pipeline = Pipeline([('tf', CountVectorizer(binary=False, min_df=0.0, max_df=1.0, vocabulary = voc_1_5_filter)),\n",
        "                        ('mnb', MultinomialNB())\n",
        "                       ])\n",
        "\n",
        "param_grid = {'tf__ngram_range': [(1, 1), (1, 2)],\n",
        "              'mnb__alpha': [1e-10, 1e-9, 1e-8, 1e-7, 1e-6, 1e-5, 1e-4, 1e-2, 1e-1, 1]\n",
        "}\n",
        "\n",
        "gs_mnb = GridSearchCV(mnb_pipeline, param_grid, cv=5, verbose=1)\n",
        "gs_mnb = gs_mnb.fit(train_corpus, train_label_nums)"
      ],
      "execution_count": null,
      "outputs": [
        {
          "output_type": "stream",
          "text": [
            "Fitting 5 folds for each of 20 candidates, totalling 100 fits\n"
          ],
          "name": "stdout"
        },
        {
          "output_type": "stream",
          "text": [
            "[Parallel(n_jobs=1)]: Using backend SequentialBackend with 1 concurrent workers.\n",
            "[Parallel(n_jobs=1)]: Done 100 out of 100 | elapsed:   37.7s finished\n"
          ],
          "name": "stderr"
        }
      ]
    },
    {
      "cell_type": "code",
      "metadata": {
        "colab": {
          "base_uri": "https://localhost:8080/",
          "height": 204
        },
        "id": "RCxV-BGPOKTE",
        "outputId": "10bd4471-af43-4e95-994e-fdd6297852b7"
      },
      "source": [
        "cv_results = gs_mnb.cv_results_\n",
        "results_df = pd.DataFrame({'rank': cv_results['rank_test_score'],\n",
        "                           'params': cv_results['params'], \n",
        "                           'cv score (mean)': cv_results['mean_test_score'], \n",
        "                           'cv score (std)': cv_results['std_test_score']} \n",
        "              )\n",
        "results_df = results_df.sort_values(by=['rank'], ascending=True)[0:5]\n",
        "pd.set_option('display.max_colwidth', 100)\n",
        "results_df"
      ],
      "execution_count": null,
      "outputs": [
        {
          "output_type": "execute_result",
          "data": {
            "text/html": [
              "<div>\n",
              "<style scoped>\n",
              "    .dataframe tbody tr th:only-of-type {\n",
              "        vertical-align: middle;\n",
              "    }\n",
              "\n",
              "    .dataframe tbody tr th {\n",
              "        vertical-align: top;\n",
              "    }\n",
              "\n",
              "    .dataframe thead th {\n",
              "        text-align: right;\n",
              "    }\n",
              "</style>\n",
              "<table border=\"1\" class=\"dataframe\">\n",
              "  <thead>\n",
              "    <tr style=\"text-align: right;\">\n",
              "      <th></th>\n",
              "      <th>rank</th>\n",
              "      <th>params</th>\n",
              "      <th>cv score (mean)</th>\n",
              "      <th>cv score (std)</th>\n",
              "    </tr>\n",
              "  </thead>\n",
              "  <tbody>\n",
              "    <tr>\n",
              "      <th>0</th>\n",
              "      <td>1</td>\n",
              "      <td>{'mnb__alpha': 1e-10, 'tf__ngram_range': (1, 1)}</td>\n",
              "      <td>0.716129</td>\n",
              "      <td>0.071842</td>\n",
              "    </tr>\n",
              "    <tr>\n",
              "      <th>1</th>\n",
              "      <td>1</td>\n",
              "      <td>{'mnb__alpha': 1e-10, 'tf__ngram_range': (1, 2)}</td>\n",
              "      <td>0.716129</td>\n",
              "      <td>0.071842</td>\n",
              "    </tr>\n",
              "    <tr>\n",
              "      <th>2</th>\n",
              "      <td>1</td>\n",
              "      <td>{'mnb__alpha': 1e-09, 'tf__ngram_range': (1, 1)}</td>\n",
              "      <td>0.716129</td>\n",
              "      <td>0.071842</td>\n",
              "    </tr>\n",
              "    <tr>\n",
              "      <th>3</th>\n",
              "      <td>1</td>\n",
              "      <td>{'mnb__alpha': 1e-09, 'tf__ngram_range': (1, 2)}</td>\n",
              "      <td>0.716129</td>\n",
              "      <td>0.071842</td>\n",
              "    </tr>\n",
              "    <tr>\n",
              "      <th>4</th>\n",
              "      <td>1</td>\n",
              "      <td>{'mnb__alpha': 1e-08, 'tf__ngram_range': (1, 1)}</td>\n",
              "      <td>0.716129</td>\n",
              "      <td>0.071842</td>\n",
              "    </tr>\n",
              "  </tbody>\n",
              "</table>\n",
              "</div>"
            ],
            "text/plain": [
              "   rank  ... cv score (std)\n",
              "0     1  ...       0.071842\n",
              "1     1  ...       0.071842\n",
              "2     1  ...       0.071842\n",
              "3     1  ...       0.071842\n",
              "4     1  ...       0.071842\n",
              "\n",
              "[5 rows x 4 columns]"
            ]
          },
          "metadata": {
            "tags": []
          },
          "execution_count": 96
        }
      ]
    },
    {
      "cell_type": "code",
      "metadata": {
        "colab": {
          "base_uri": "https://localhost:8080/"
        },
        "id": "AHtpY721N5Ju",
        "outputId": "d62fb0e9-36d4-4173-dc84-1168375ffb1d"
      },
      "source": [
        "from sklearn.naive_bayes import MultinomialNB\n",
        "\n",
        "mnb = MultinomialNB(alpha=1e-8)\n",
        "mnb.fit(cv_train_features, train_label_nums)\n",
        "mnb_bow_cv_scores = cross_val_score(mnb, cv_train_features, train_label_nums, cv=5)\n",
        "mnb_bow_cv_mean_score = np.mean(mnb_bow_cv_scores)\n",
        "print('CV Accuracy (5-fold):', mnb_bow_cv_scores)\n",
        "print('Mean CV Accuracy:', mnb_bow_cv_mean_score)\n",
        "mnb_bow_test_score = mnb.score(cv_test_features, test_label_nums)\n",
        "print('Test Accuracy:', mnb_bow_test_score)"
      ],
      "execution_count": null,
      "outputs": [
        {
          "output_type": "stream",
          "text": [
            "CV Accuracy (5-fold): [0.74193548 0.83870968 0.64516129 0.70967742 0.64516129]\n",
            "Mean CV Accuracy: 0.7161290322580645\n",
            "Test Accuracy: 0.6716417910447762\n"
          ],
          "name": "stdout"
        }
      ]
    },
    {
      "cell_type": "code",
      "metadata": {
        "id": "8N-hN9T_XNRG"
      },
      "source": [
        ""
      ],
      "execution_count": null,
      "outputs": []
    },
    {
      "cell_type": "code",
      "metadata": {
        "colab": {
          "base_uri": "https://localhost:8080/"
        },
        "id": "URFYCaBLRXhj",
        "outputId": "2da76289-0088-49d2-9d06-190e92245c18"
      },
      "source": [
        "from sklearn.linear_model import LogisticRegression\n",
        "\n",
        "lr = LogisticRegression(penalty='l2', max_iter=2000, C=1, random_state=42)\n",
        "lr.fit(cv_train_features, train_label_nums)\n",
        "lr_bow_cv_scores = cross_val_score(lr, cv_train_features, train_label_nums, cv=5)\n",
        "lr_bow_cv_mean_score = np.mean(lr_bow_cv_scores)\n",
        "print('CV Accuracy (5-fold):', lr_bow_cv_scores)\n",
        "print('Mean CV Accuracy:', lr_bow_cv_mean_score)\n",
        "lr_bow_test_score = lr.score(cv_test_features, test_label_nums)\n",
        "print('Test Accuracy:', lr_bow_test_score)"
      ],
      "execution_count": null,
      "outputs": [
        {
          "output_type": "stream",
          "text": [
            "CV Accuracy (5-fold): [0.80645161 0.83870968 0.83870968 0.83870968 0.96774194]\n",
            "Mean CV Accuracy: 0.8580645161290323\n",
            "Test Accuracy: 0.8805970149253731\n"
          ],
          "name": "stdout"
        }
      ]
    },
    {
      "cell_type": "code",
      "metadata": {
        "colab": {
          "base_uri": "https://localhost:8080/"
        },
        "id": "fSNxsK8sPg9U",
        "outputId": "ed1e5809-c533-4dc0-f948-f42e036ae59f"
      },
      "source": [
        "from sklearn.pipeline import Pipeline\n",
        "from sklearn.model_selection import GridSearchCV\n",
        "from sklearn.naive_bayes import MultinomialNB\n",
        "from sklearn.feature_extraction.text import TfidfVectorizer\n",
        "\n",
        "lr_pipeline = Pipeline([('tf', CountVectorizer(binary=False, min_df=0.0, max_df=1.0, vocabulary = voc_1_5_filter)),\n",
        "                        ('lr', LogisticRegression(penalty='l2', max_iter=4000, random_state=42))\n",
        "                       ])\n",
        "\n",
        "param_grid = {'tf__ngram_range': [(1, 1)],\n",
        "              'lr__C': [1e-5, 1e-4, 1e-2, 1e-1, 1, 10, 100, 1000]\n",
        "}\n",
        "\n",
        "gs_lr = GridSearchCV(lr_pipeline, param_grid, cv=5, verbose=1)\n",
        "gs_lr_2 = gs_lr.fit(train_corpus, train_label_nums)"
      ],
      "execution_count": null,
      "outputs": [
        {
          "output_type": "stream",
          "text": [
            "Fitting 5 folds for each of 8 candidates, totalling 40 fits\n"
          ],
          "name": "stdout"
        },
        {
          "output_type": "stream",
          "text": [
            "[Parallel(n_jobs=1)]: Using backend SequentialBackend with 1 concurrent workers.\n",
            "[Parallel(n_jobs=1)]: Done  40 out of  40 | elapsed:   17.1s finished\n"
          ],
          "name": "stderr"
        }
      ]
    },
    {
      "cell_type": "code",
      "metadata": {
        "colab": {
          "base_uri": "https://localhost:8080/",
          "height": 204
        },
        "id": "q9nYNAwoPljm",
        "outputId": "f28b384e-28c0-430a-e229-60d424b8dc30"
      },
      "source": [
        "cv_results = gs_lr_2.cv_results_\n",
        "results_df = pd.DataFrame({'rank': cv_results['rank_test_score'],\n",
        "                           'params': cv_results['params'], \n",
        "                           'cv score (mean)': cv_results['mean_test_score'], \n",
        "                           'cv score (std)': cv_results['std_test_score']} \n",
        "              )\n",
        "results_df = results_df.sort_values(by=['rank'], ascending=True)[0:5]\n",
        "pd.set_option('display.max_colwidth', 100)\n",
        "results_df"
      ],
      "execution_count": null,
      "outputs": [
        {
          "output_type": "execute_result",
          "data": {
            "text/html": [
              "<div>\n",
              "<style scoped>\n",
              "    .dataframe tbody tr th:only-of-type {\n",
              "        vertical-align: middle;\n",
              "    }\n",
              "\n",
              "    .dataframe tbody tr th {\n",
              "        vertical-align: top;\n",
              "    }\n",
              "\n",
              "    .dataframe thead th {\n",
              "        text-align: right;\n",
              "    }\n",
              "</style>\n",
              "<table border=\"1\" class=\"dataframe\">\n",
              "  <thead>\n",
              "    <tr style=\"text-align: right;\">\n",
              "      <th></th>\n",
              "      <th>rank</th>\n",
              "      <th>params</th>\n",
              "      <th>cv score (mean)</th>\n",
              "      <th>cv score (std)</th>\n",
              "    </tr>\n",
              "  </thead>\n",
              "  <tbody>\n",
              "    <tr>\n",
              "      <th>3</th>\n",
              "      <td>1</td>\n",
              "      <td>{'lr__C': 0.1, 'tf__ngram_range': (1, 1)}</td>\n",
              "      <td>0.858065</td>\n",
              "      <td>0.056244</td>\n",
              "    </tr>\n",
              "    <tr>\n",
              "      <th>4</th>\n",
              "      <td>1</td>\n",
              "      <td>{'lr__C': 1, 'tf__ngram_range': (1, 1)}</td>\n",
              "      <td>0.858065</td>\n",
              "      <td>0.056244</td>\n",
              "    </tr>\n",
              "    <tr>\n",
              "      <th>5</th>\n",
              "      <td>1</td>\n",
              "      <td>{'lr__C': 10, 'tf__ngram_range': (1, 1)}</td>\n",
              "      <td>0.858065</td>\n",
              "      <td>0.056244</td>\n",
              "    </tr>\n",
              "    <tr>\n",
              "      <th>6</th>\n",
              "      <td>1</td>\n",
              "      <td>{'lr__C': 100, 'tf__ngram_range': (1, 1)}</td>\n",
              "      <td>0.858065</td>\n",
              "      <td>0.056244</td>\n",
              "    </tr>\n",
              "    <tr>\n",
              "      <th>2</th>\n",
              "      <td>5</td>\n",
              "      <td>{'lr__C': 0.01, 'tf__ngram_range': (1, 1)}</td>\n",
              "      <td>0.819355</td>\n",
              "      <td>0.015803</td>\n",
              "    </tr>\n",
              "  </tbody>\n",
              "</table>\n",
              "</div>"
            ],
            "text/plain": [
              "   rank  ... cv score (std)\n",
              "3     1  ...       0.056244\n",
              "4     1  ...       0.056244\n",
              "5     1  ...       0.056244\n",
              "6     1  ...       0.056244\n",
              "2     5  ...       0.015803\n",
              "\n",
              "[5 rows x 4 columns]"
            ]
          },
          "metadata": {
            "tags": []
          },
          "execution_count": 113
        }
      ]
    },
    {
      "cell_type": "code",
      "metadata": {
        "colab": {
          "base_uri": "https://localhost:8080/"
        },
        "id": "kjdfIjrPPhQR",
        "outputId": "b1c9128f-9ac3-462e-ffc1-532141684fba"
      },
      "source": [
        "from sklearn.linear_model import LogisticRegression\n",
        "\n",
        "lr = LogisticRegression(penalty='l2', max_iter=2000, C=0.1, random_state=42)\n",
        "lr.fit(cv_train_features, train_label_nums)\n",
        "lr_bow_cv_scores = cross_val_score(lr, cv_train_features, train_label_nums, cv=5)\n",
        "lr_bow_cv_mean_score = np.mean(lr_bow_cv_scores)\n",
        "print('CV Accuracy (5-fold):', lr_bow_cv_scores)\n",
        "print('Mean CV Accuracy:', lr_bow_cv_mean_score)\n",
        "lr_bow_test_score = lr.score(cv_test_features, test_label_nums)\n",
        "print('Test Accuracy:', lr_bow_test_score)"
      ],
      "execution_count": null,
      "outputs": [
        {
          "output_type": "stream",
          "text": [
            "CV Accuracy (5-fold): [0.83870968 0.83870968 0.80645161 0.83870968 0.96774194]\n",
            "Mean CV Accuracy: 0.8580645161290323\n",
            "Test Accuracy: 0.8656716417910447\n"
          ],
          "name": "stdout"
        }
      ]
    },
    {
      "cell_type": "code",
      "metadata": {
        "id": "GJ2UCWGGQIfC"
      },
      "source": [
        ""
      ],
      "execution_count": null,
      "outputs": []
    },
    {
      "cell_type": "code",
      "metadata": {
        "colab": {
          "base_uri": "https://localhost:8080/"
        },
        "id": "dMdBvAYuRj7k",
        "outputId": "e324a425-dc07-4401-ee2e-03d5ac8c9d63"
      },
      "source": [
        "from sklearn.svm import LinearSVC\n",
        "\n",
        "svm = LinearSVC(penalty='l2', C=1, random_state=42)\n",
        "svm.fit(cv_train_features, train_label_nums)\n",
        "svm_bow_cv_scores = cross_val_score(svm, cv_train_features, train_label_nums, cv=5)\n",
        "svm_bow_cv_mean_score = np.mean(svm_bow_cv_scores)\n",
        "print('CV Accuracy (5-fold):', svm_bow_cv_scores)\n",
        "print('Mean CV Accuracy:', svm_bow_cv_mean_score)\n",
        "svm_bow_test_score = svm.score(cv_test_features, test_label_nums)\n",
        "print('Test Accuracy:', svm_bow_test_score)"
      ],
      "execution_count": null,
      "outputs": [
        {
          "output_type": "stream",
          "text": [
            "CV Accuracy (5-fold): [0.67741935 0.83870968 0.80645161 0.77419355 0.93548387]\n",
            "Mean CV Accuracy: 0.8064516129032258\n",
            "Test Accuracy: 0.8656716417910447\n"
          ],
          "name": "stdout"
        }
      ]
    },
    {
      "cell_type": "code",
      "metadata": {
        "colab": {
          "base_uri": "https://localhost:8080/"
        },
        "id": "fNRKr-kURYZt",
        "outputId": "7d44ec83-7822-4587-bc71-072ea1ce6aad"
      },
      "source": [
        "from sklearn.linear_model import SGDClassifier\n",
        "\n",
        "svm_sgd = SGDClassifier(loss='hinge', penalty='l2', max_iter=100, random_state=42)\n",
        "svm_sgd.fit(cv_train_features, train_label_nums)\n",
        "svmsgd_bow_cv_scores = cross_val_score(svm_sgd, cv_train_features, train_label_nums, cv=5)\n",
        "svmsgd_bow_cv_mean_score = np.mean(svmsgd_bow_cv_scores)\n",
        "print('CV Accuracy (5-fold):', svmsgd_bow_cv_scores)\n",
        "print('Mean CV Accuracy:', svmsgd_bow_cv_mean_score)\n",
        "svmsgd_bow_test_score = svm_sgd.score(cv_test_features, test_label_nums)\n",
        "print('Test Accuracy:', svmsgd_bow_test_score)"
      ],
      "execution_count": null,
      "outputs": [
        {
          "output_type": "stream",
          "text": [
            "CV Accuracy (5-fold): [0.80645161 0.80645161 0.80645161 0.80645161 0.80645161]\n",
            "Mean CV Accuracy: 0.8064516129032258\n",
            "Test Accuracy: 0.8955223880597015\n"
          ],
          "name": "stdout"
        }
      ]
    },
    {
      "cell_type": "code",
      "metadata": {
        "colab": {
          "base_uri": "https://localhost:8080/"
        },
        "id": "-ITXpuANE3WN",
        "outputId": "7bc81a82-2e25-4ed4-d3a8-a0bf5af5731b"
      },
      "source": [
        "from sklearn.svm import SVC\n",
        "\n",
        "svc = SVC(kernel='rbf', C=1e2)\n",
        "svc.fit(cv_train_features, train_label_nums)\n",
        "svc_tfidf_cv_scores = cross_val_score(svc, cv_train_features, train_label_nums, cv=5)\n",
        "svc_tfidf_cv_mean_score = np.mean(svc_tfidf_cv_scores)\n",
        "print('CV Accuracy (5-fold):', svc_tfidf_cv_scores)\n",
        "print('Mean CV Accuracy:', svc_tfidf_cv_mean_score)\n",
        "svc_tfidf_test_score = svc.score(cv_test_features, test_label_nums)\n",
        "print('Test Accuracy:', svc_tfidf_test_score)"
      ],
      "execution_count": null,
      "outputs": [
        {
          "output_type": "stream",
          "text": [
            "CV Accuracy (5-fold): [0.87096774 0.80645161 0.80645161 0.77419355 0.87096774]\n",
            "Mean CV Accuracy: 0.8258064516129032\n",
            "Test Accuracy: 0.8656716417910447\n"
          ],
          "name": "stdout"
        }
      ]
    },
    {
      "cell_type": "code",
      "metadata": {
        "id": "6mZkg_ajE3I_"
      },
      "source": [
        ""
      ],
      "execution_count": null,
      "outputs": []
    },
    {
      "cell_type": "code",
      "metadata": {
        "colab": {
          "base_uri": "https://localhost:8080/"
        },
        "id": "OKa29rv3jKX3",
        "outputId": "408685e2-517a-40e6-c1d1-538e22d67a94"
      },
      "source": [
        "from sklearn.svm import SVC\n",
        "\n",
        "svc = SVC(kernel='rbf', C=1e6)\n",
        "svc.fit(cv_train_features, train_label_nums)\n",
        "svc_tfidf_cv_scores = cross_val_score(svc, cv_train_features, train_label_nums, cv=5)\n",
        "svc_tfidf_cv_mean_score = np.mean(svc_tfidf_cv_scores)\n",
        "print('CV Accuracy (5-fold):', svc_tfidf_cv_scores)\n",
        "print('Mean CV Accuracy:', svc_tfidf_cv_mean_score)\n",
        "svc_tfidf_test_score = svc.score(cv_test_features, test_label_nums)\n",
        "print('Test Accuracy:', svc_tfidf_test_score)"
      ],
      "execution_count": null,
      "outputs": [
        {
          "output_type": "stream",
          "text": [
            "CV Accuracy (5-fold): [0.87096774 0.80645161 0.80645161 0.77419355 0.87096774]\n",
            "Mean CV Accuracy: 0.8258064516129032\n",
            "Test Accuracy: 0.8656716417910447\n"
          ],
          "name": "stdout"
        }
      ]
    },
    {
      "cell_type": "code",
      "metadata": {
        "colab": {
          "base_uri": "https://localhost:8080/"
        },
        "id": "fFITwHasrb54",
        "outputId": "88441117-6c14-4207-a0b2-90754370de69"
      },
      "source": [
        "from sklearn.pipeline import Pipeline\n",
        "from sklearn.model_selection import GridSearchCV\n",
        "from sklearn.naive_bayes import MultinomialNB\n",
        "from sklearn.feature_extraction.text import TfidfVectorizer\n",
        "\n",
        "svc_pipeline = Pipeline([('tf', CountVectorizer(binary=False, min_df=0.0, max_df=1.0, vocabulary = voc_1_5_filter)),\n",
        "                        ('clf', SVC(kernel='rbf'))\n",
        "                        ])\n",
        "\n",
        "param_grid = {'tf__ngram_range': [(1, 1), (1, 2)],\n",
        "              'clf__gamma': [1e-6, 1e-5, 1e-4, 1e-2, 1e-1, 1],\n",
        "              'clf__C':[0.1,0.3,1,3,10,30,100,200,300]\n",
        "}\n",
        "\n",
        "gs_svc = GridSearchCV(svc_pipeline, param_grid, cv=5, verbose=1)\n",
        "gs_svc_2 = gs_svc.fit(train_corpus, train_label_nums)"
      ],
      "execution_count": null,
      "outputs": [
        {
          "output_type": "stream",
          "text": [
            "Fitting 5 folds for each of 108 candidates, totalling 540 fits\n"
          ],
          "name": "stdout"
        },
        {
          "output_type": "stream",
          "text": [
            "[Parallel(n_jobs=1)]: Using backend SequentialBackend with 1 concurrent workers.\n",
            "[Parallel(n_jobs=1)]: Done 540 out of 540 | elapsed:  3.7min finished\n"
          ],
          "name": "stderr"
        }
      ]
    },
    {
      "cell_type": "code",
      "metadata": {
        "colab": {
          "base_uri": "https://localhost:8080/",
          "height": 204
        },
        "id": "ojWLZznHHDoB",
        "outputId": "8299cfaa-26a1-41ee-f9d2-0bc4182bee48"
      },
      "source": [
        "cv_results = gs_svc_2.cv_results_\n",
        "results_df = pd.DataFrame({'rank': cv_results['rank_test_score'],\n",
        "                           'params': cv_results['params'], \n",
        "                           'cv score (mean)': cv_results['mean_test_score'], \n",
        "                           'cv score (std)': cv_results['std_test_score']} \n",
        "              )\n",
        "results_df = results_df.sort_values(by=['rank'], ascending=True)[0:5]\n",
        "pd.set_option('display.max_colwidth', 100)\n",
        "results_df"
      ],
      "execution_count": null,
      "outputs": [
        {
          "output_type": "execute_result",
          "data": {
            "text/html": [
              "<div>\n",
              "<style scoped>\n",
              "    .dataframe tbody tr th:only-of-type {\n",
              "        vertical-align: middle;\n",
              "    }\n",
              "\n",
              "    .dataframe tbody tr th {\n",
              "        vertical-align: top;\n",
              "    }\n",
              "\n",
              "    .dataframe thead th {\n",
              "        text-align: right;\n",
              "    }\n",
              "</style>\n",
              "<table border=\"1\" class=\"dataframe\">\n",
              "  <thead>\n",
              "    <tr style=\"text-align: right;\">\n",
              "      <th></th>\n",
              "      <th>rank</th>\n",
              "      <th>params</th>\n",
              "      <th>cv score (mean)</th>\n",
              "      <th>cv score (std)</th>\n",
              "    </tr>\n",
              "  </thead>\n",
              "  <tbody>\n",
              "    <tr>\n",
              "      <th>74</th>\n",
              "      <td>1</td>\n",
              "      <td>{'clf__C': 100, 'clf__gamma': 1e-05, 'tf__ngram_range': (1, 1)}</td>\n",
              "      <td>0.864516</td>\n",
              "      <td>0.042795</td>\n",
              "    </tr>\n",
              "    <tr>\n",
              "      <th>75</th>\n",
              "      <td>1</td>\n",
              "      <td>{'clf__C': 100, 'clf__gamma': 1e-05, 'tf__ngram_range': (1, 2)}</td>\n",
              "      <td>0.864516</td>\n",
              "      <td>0.042795</td>\n",
              "    </tr>\n",
              "    <tr>\n",
              "      <th>99</th>\n",
              "      <td>1</td>\n",
              "      <td>{'clf__C': 300, 'clf__gamma': 1e-05, 'tf__ngram_range': (1, 2)}</td>\n",
              "      <td>0.864516</td>\n",
              "      <td>0.042795</td>\n",
              "    </tr>\n",
              "    <tr>\n",
              "      <th>98</th>\n",
              "      <td>1</td>\n",
              "      <td>{'clf__C': 300, 'clf__gamma': 1e-05, 'tf__ngram_range': (1, 1)}</td>\n",
              "      <td>0.864516</td>\n",
              "      <td>0.042795</td>\n",
              "    </tr>\n",
              "    <tr>\n",
              "      <th>86</th>\n",
              "      <td>5</td>\n",
              "      <td>{'clf__C': 200, 'clf__gamma': 1e-05, 'tf__ngram_range': (1, 1)}</td>\n",
              "      <td>0.858065</td>\n",
              "      <td>0.052413</td>\n",
              "    </tr>\n",
              "  </tbody>\n",
              "</table>\n",
              "</div>"
            ],
            "text/plain": [
              "    rank  ... cv score (std)\n",
              "74     1  ...       0.042795\n",
              "75     1  ...       0.042795\n",
              "99     1  ...       0.042795\n",
              "98     1  ...       0.042795\n",
              "86     5  ...       0.052413\n",
              "\n",
              "[5 rows x 4 columns]"
            ]
          },
          "metadata": {
            "tags": []
          },
          "execution_count": 73
        }
      ]
    },
    {
      "cell_type": "code",
      "metadata": {
        "colab": {
          "base_uri": "https://localhost:8080/",
          "height": 232
        },
        "id": "LflOUOPrHD1C",
        "outputId": "900746a5-e52e-4d44-9c0a-9eaf939bd922"
      },
      "source": [
        "from sklearn.svm import SVC\n",
        "\n",
        "svc = SVC(kernel='rbf', gamma=1e-05, C=100)\n",
        "svc.fit(cv_train_features, train_label_nums)\n",
        "svc_tfidf_cv_scores = cross_val_score(svc, cv_train_features, train_label_nums, cv=5)\n",
        "svc_tfidf_cv_mean_score = np.mean(svc_tfidf_cv_scores)\n",
        "print('CV Accuracy (5-fold):', svc_tfidf_cv_scores)\n",
        "print('Mean CV Accuracy:', svc_tfidf_cv_mean_score)\n",
        "svc_tfidf_test_score = svc.score(cv_test_features, test_label_nums)\n",
        "print('Test Accuracy:', svc_tfidf_test_score)"
      ],
      "execution_count": null,
      "outputs": [
        {
          "output_type": "error",
          "ename": "NameError",
          "evalue": "ignored",
          "traceback": [
            "\u001b[0;31m---------------------------------------------------------------------------\u001b[0m",
            "\u001b[0;31mNameError\u001b[0m                                 Traceback (most recent call last)",
            "\u001b[0;32m<ipython-input-1-46a99d202348>\u001b[0m in \u001b[0;36m<module>\u001b[0;34m()\u001b[0m\n\u001b[1;32m      2\u001b[0m \u001b[0;34m\u001b[0m\u001b[0m\n\u001b[1;32m      3\u001b[0m \u001b[0msvc\u001b[0m \u001b[0;34m=\u001b[0m \u001b[0mSVC\u001b[0m\u001b[0;34m(\u001b[0m\u001b[0mkernel\u001b[0m\u001b[0;34m=\u001b[0m\u001b[0;34m'rbf'\u001b[0m\u001b[0;34m,\u001b[0m \u001b[0mC\u001b[0m\u001b[0;34m=\u001b[0m\u001b[0;36m1e2\u001b[0m\u001b[0;34m)\u001b[0m\u001b[0;34m\u001b[0m\u001b[0;34m\u001b[0m\u001b[0m\n\u001b[0;32m----> 4\u001b[0;31m \u001b[0msvc\u001b[0m\u001b[0;34m.\u001b[0m\u001b[0mfit\u001b[0m\u001b[0;34m(\u001b[0m\u001b[0mcv_train_features\u001b[0m\u001b[0;34m,\u001b[0m \u001b[0mtrain_label_nums\u001b[0m\u001b[0;34m)\u001b[0m\u001b[0;34m\u001b[0m\u001b[0;34m\u001b[0m\u001b[0m\n\u001b[0m\u001b[1;32m      5\u001b[0m \u001b[0msvc_tfidf_cv_scores\u001b[0m \u001b[0;34m=\u001b[0m \u001b[0mcross_val_score\u001b[0m\u001b[0;34m(\u001b[0m\u001b[0msvc\u001b[0m\u001b[0;34m,\u001b[0m \u001b[0mcv_train_features\u001b[0m\u001b[0;34m,\u001b[0m \u001b[0mtrain_label_nums\u001b[0m\u001b[0;34m,\u001b[0m \u001b[0mcv\u001b[0m\u001b[0;34m=\u001b[0m\u001b[0;36m5\u001b[0m\u001b[0;34m)\u001b[0m\u001b[0;34m\u001b[0m\u001b[0;34m\u001b[0m\u001b[0m\n\u001b[1;32m      6\u001b[0m \u001b[0msvc_tfidf_cv_mean_score\u001b[0m \u001b[0;34m=\u001b[0m \u001b[0mnp\u001b[0m\u001b[0;34m.\u001b[0m\u001b[0mmean\u001b[0m\u001b[0;34m(\u001b[0m\u001b[0msvc_tfidf_cv_scores\u001b[0m\u001b[0;34m)\u001b[0m\u001b[0;34m\u001b[0m\u001b[0;34m\u001b[0m\u001b[0m\n",
            "\u001b[0;31mNameError\u001b[0m: name 'cv_train_features' is not defined"
          ]
        }
      ]
    },
    {
      "cell_type": "code",
      "metadata": {
        "id": "l3TFaFYtIWw2"
      },
      "source": [
        ""
      ],
      "execution_count": null,
      "outputs": []
    },
    {
      "cell_type": "code",
      "metadata": {
        "colab": {
          "base_uri": "https://localhost:8080/"
        },
        "id": "NcbyJ4p3RYg0",
        "outputId": "cafd3f85-d572-4732-a08c-5e4d9a2bbe10"
      },
      "source": [
        "from sklearn.ensemble import RandomForestClassifier\n",
        "\n",
        "rfc = RandomForestClassifier(n_estimators=10, random_state=42, criterion = \"gini\")\n",
        "rfc.fit(cv_train_features, train_label_nums)\n",
        "rfc_bow_cv_scores = cross_val_score(rfc, cv_train_features, train_label_nums, cv=5)\n",
        "rfc_bow_cv_mean_score = np.mean(rfc_bow_cv_scores)\n",
        "print('CV Accuracy (5-fold):', rfc_bow_cv_scores)\n",
        "print('Mean CV Accuracy:', rfc_bow_cv_mean_score)\n",
        "rfc_bow_test_score = rfc.score(cv_test_features, test_label_nums)\n",
        "print('Test Accuracy:', rfc_bow_test_score)"
      ],
      "execution_count": null,
      "outputs": [
        {
          "output_type": "stream",
          "text": [
            "CV Accuracy (5-fold): [0.77419355 0.77419355 0.77419355 0.74193548 0.80645161]\n",
            "Mean CV Accuracy: 0.7741935483870968\n",
            "Test Accuracy: 0.7761194029850746\n"
          ],
          "name": "stdout"
        }
      ]
    },
    {
      "cell_type": "code",
      "metadata": {
        "colab": {
          "base_uri": "https://localhost:8080/"
        },
        "id": "p9fPM1Bxqp3-",
        "outputId": "543ea313-018c-4e23-a2e9-429a51f5ab5c"
      },
      "source": [
        "rfc_2 = RandomForestClassifier(n_estimators=10, random_state=42, criterion = \"entropy\")\n",
        "rfc_2.fit(cv_train_features, train_label_nums)\n",
        "rfc_bow_cv_scores_2 = cross_val_score(rfc_2, cv_train_features, train_label_nums, cv=5)\n",
        "rfc_bow_cv_mean_score_2 = np.mean(rfc_bow_cv_scores_2)\n",
        "print('CV Accuracy (5-fold):', rfc_bow_cv_scores_2)\n",
        "print('Mean CV Accuracy:', rfc_bow_cv_mean_score_2)\n",
        "rfc_bow_test_score_2 = rfc_2.score(cv_test_features, test_label_nums)\n",
        "print('Test Accuracy:', rfc_bow_test_score_2)"
      ],
      "execution_count": null,
      "outputs": [
        {
          "output_type": "stream",
          "text": [
            "CV Accuracy (5-fold): [0.77419355 0.67741935 0.77419355 0.74193548 0.74193548]\n",
            "Mean CV Accuracy: 0.7419354838709677\n",
            "Test Accuracy: 0.746268656716418\n"
          ],
          "name": "stdout"
        }
      ]
    },
    {
      "cell_type": "code",
      "metadata": {
        "colab": {
          "base_uri": "https://localhost:8080/"
        },
        "id": "Nk-wkapERLrr",
        "outputId": "fbdffbae-22cb-4603-d56f-a1b8bf3468ad"
      },
      "source": [
        "from sklearn.pipeline import Pipeline\n",
        "from sklearn.model_selection import GridSearchCV\n",
        "from sklearn.naive_bayes import MultinomialNB\n",
        "from sklearn.feature_extraction.text import TfidfVectorizer\n",
        "\n",
        "rf_pipeline = Pipeline([('tf', CountVectorizer(binary=False, min_df=0.0, max_df=1.0, vocabulary = voc_1_5_filter)),\n",
        "                        ('rf', RandomForestClassifier(random_state=42, criterion = \"gini\"))\n",
        "                        ])\n",
        "\n",
        "param_grid = {'tf__ngram_range': [(1, 1)],\n",
        "              'rf__n_estimators': [3,5,8,10,30,50,80,100,200],\n",
        "}\n",
        "\n",
        "gf_rf = GridSearchCV(rf_pipeline, param_grid, cv=5, verbose=1)\n",
        "gf_rf_2 = gf_rf.fit(train_corpus, train_label_nums)"
      ],
      "execution_count": null,
      "outputs": [
        {
          "output_type": "stream",
          "text": [
            "Fitting 5 folds for each of 9 candidates, totalling 45 fits\n"
          ],
          "name": "stdout"
        },
        {
          "output_type": "stream",
          "text": [
            "[Parallel(n_jobs=1)]: Using backend SequentialBackend with 1 concurrent workers.\n",
            "[Parallel(n_jobs=1)]: Done  45 out of  45 | elapsed:   16.0s finished\n"
          ],
          "name": "stderr"
        }
      ]
    },
    {
      "cell_type": "code",
      "metadata": {
        "colab": {
          "base_uri": "https://localhost:8080/",
          "height": 204
        },
        "id": "43bwCpPOSHJN",
        "outputId": "92340a93-f1bb-4b54-e348-e01153a19231"
      },
      "source": [
        "cv_results = gf_rf_2.cv_results_\n",
        "results_df = pd.DataFrame({'rank': cv_results['rank_test_score'],\n",
        "                           'params': cv_results['params'], \n",
        "                           'cv score (mean)': cv_results['mean_test_score'], \n",
        "                           'cv score (std)': cv_results['std_test_score']} \n",
        "              )\n",
        "results_df = results_df.sort_values(by=['rank'], ascending=True)[0:5]\n",
        "pd.set_option('display.max_colwidth', 100)\n",
        "results_df"
      ],
      "execution_count": null,
      "outputs": [
        {
          "output_type": "execute_result",
          "data": {
            "text/html": [
              "<div>\n",
              "<style scoped>\n",
              "    .dataframe tbody tr th:only-of-type {\n",
              "        vertical-align: middle;\n",
              "    }\n",
              "\n",
              "    .dataframe tbody tr th {\n",
              "        vertical-align: top;\n",
              "    }\n",
              "\n",
              "    .dataframe thead th {\n",
              "        text-align: right;\n",
              "    }\n",
              "</style>\n",
              "<table border=\"1\" class=\"dataframe\">\n",
              "  <thead>\n",
              "    <tr style=\"text-align: right;\">\n",
              "      <th></th>\n",
              "      <th>rank</th>\n",
              "      <th>params</th>\n",
              "      <th>cv score (mean)</th>\n",
              "      <th>cv score (std)</th>\n",
              "    </tr>\n",
              "  </thead>\n",
              "  <tbody>\n",
              "    <tr>\n",
              "      <th>1</th>\n",
              "      <td>1</td>\n",
              "      <td>{'rf__n_estimators': 5, 'tf__ngram_range': (1, 1)}</td>\n",
              "      <td>0.787097</td>\n",
              "      <td>0.048279</td>\n",
              "    </tr>\n",
              "    <tr>\n",
              "      <th>3</th>\n",
              "      <td>2</td>\n",
              "      <td>{'rf__n_estimators': 10, 'tf__ngram_range': (1, 1)}</td>\n",
              "      <td>0.774194</td>\n",
              "      <td>0.020402</td>\n",
              "    </tr>\n",
              "    <tr>\n",
              "      <th>5</th>\n",
              "      <td>3</td>\n",
              "      <td>{'rf__n_estimators': 50, 'tf__ngram_range': (1, 1)}</td>\n",
              "      <td>0.767742</td>\n",
              "      <td>0.055499</td>\n",
              "    </tr>\n",
              "    <tr>\n",
              "      <th>6</th>\n",
              "      <td>3</td>\n",
              "      <td>{'rf__n_estimators': 80, 'tf__ngram_range': (1, 1)}</td>\n",
              "      <td>0.767742</td>\n",
              "      <td>0.055499</td>\n",
              "    </tr>\n",
              "    <tr>\n",
              "      <th>7</th>\n",
              "      <td>5</td>\n",
              "      <td>{'rf__n_estimators': 100, 'tf__ngram_range': (1, 1)}</td>\n",
              "      <td>0.761290</td>\n",
              "      <td>0.043757</td>\n",
              "    </tr>\n",
              "  </tbody>\n",
              "</table>\n",
              "</div>"
            ],
            "text/plain": [
              "   rank  ... cv score (std)\n",
              "1     1  ...       0.048279\n",
              "3     2  ...       0.020402\n",
              "5     3  ...       0.055499\n",
              "6     3  ...       0.055499\n",
              "7     5  ...       0.043757\n",
              "\n",
              "[5 rows x 4 columns]"
            ]
          },
          "metadata": {
            "tags": []
          },
          "execution_count": 130
        }
      ]
    },
    {
      "cell_type": "code",
      "metadata": {
        "colab": {
          "base_uri": "https://localhost:8080/"
        },
        "id": "vf_3rF2_Ua2B",
        "outputId": "1ce7538b-bc51-4d6d-b0de-1d393b47fd33"
      },
      "source": [
        "from sklearn.ensemble import RandomForestClassifier\n",
        "\n",
        "rfc = RandomForestClassifier(n_estimators=5, random_state=42, criterion = \"gini\")\n",
        "rfc.fit(cv_train_features, train_label_nums)\n",
        "rfc_bow_cv_scores = cross_val_score(rfc, cv_train_features, train_label_nums, cv=5)\n",
        "rfc_bow_cv_mean_score = np.mean(rfc_bow_cv_scores)\n",
        "print('CV Accuracy (5-fold):', rfc_bow_cv_scores)\n",
        "print('Mean CV Accuracy:', rfc_bow_cv_mean_score)\n",
        "rfc_bow_test_score = rfc.score(cv_test_features, test_label_nums)\n",
        "print('Test Accuracy:', rfc_bow_test_score)"
      ],
      "execution_count": null,
      "outputs": [
        {
          "output_type": "stream",
          "text": [
            "CV Accuracy (5-fold): [0.74193548 0.74193548 0.77419355 0.80645161 0.87096774]\n",
            "Mean CV Accuracy: 0.7870967741935484\n",
            "Test Accuracy: 0.7910447761194029\n"
          ],
          "name": "stdout"
        }
      ]
    },
    {
      "cell_type": "code",
      "metadata": {
        "id": "o1rE-RV1RL6a"
      },
      "source": [
        ""
      ],
      "execution_count": null,
      "outputs": []
    },
    {
      "cell_type": "markdown",
      "metadata": {
        "id": "eWRv-MrRavyw"
      },
      "source": [
        "https://xgboost.readthedocs.io/en/latest/python/python_api.html\n",
        "\n",
        "https://www.kaggle.com/tilii7/hyperparameter-grid-search-with-xgboost\n",
        "\n"
      ]
    },
    {
      "cell_type": "code",
      "metadata": {
        "colab": {
          "base_uri": "https://localhost:8080/"
        },
        "id": "mFiQwrLESWoC",
        "outputId": "2ec8855e-46ec-4aab-997c-1bf9a7421539"
      },
      "source": [
        "from sklearn.ensemble import GradientBoostingClassifier\n",
        "\n",
        "gbc = GradientBoostingClassifier(n_estimators=10, random_state=42)\n",
        "gbc.fit(cv_train_features, train_label_nums)\n",
        "gbc_bow_cv_scores = cross_val_score(gbc, cv_train_features, train_label_nums, cv=5)\n",
        "gbc_bow_cv_mean_score = np.mean(gbc_bow_cv_scores)\n",
        "print('CV Accuracy (5-fold):', gbc_bow_cv_scores)\n",
        "print('Mean CV Accuracy:', gbc_bow_cv_mean_score)\n",
        "gbc_bow_test_score = gbc.score(cv_test_features, test_label_nums)\n",
        "print('Test Accuracy:', gbc_bow_test_score)"
      ],
      "execution_count": null,
      "outputs": [
        {
          "output_type": "stream",
          "text": [
            "CV Accuracy (5-fold): [0.83870968 0.74193548 0.64516129 0.67741935 0.87096774]\n",
            "Mean CV Accuracy: 0.7548387096774193\n",
            "Test Accuracy: 0.8208955223880597\n"
          ],
          "name": "stdout"
        }
      ]
    },
    {
      "cell_type": "code",
      "metadata": {
        "id": "oubAMX-HYtc-"
      },
      "source": [
        "from numpy import loadtxt\n",
        "from xgboost import XGBClassifier\n",
        "from sklearn.model_selection import train_test_split\n",
        "from sklearn.metrics import accuracy_score"
      ],
      "execution_count": null,
      "outputs": []
    },
    {
      "cell_type": "code",
      "metadata": {
        "colab": {
          "base_uri": "https://localhost:8080/"
        },
        "id": "d72QdVyIYtpr",
        "outputId": "10846b4b-e2cb-4400-d1d1-7695a9ae0eca"
      },
      "source": [
        "from xgboost import XGBClassifier\n",
        "\n",
        "gbc = XGBClassifier(n_estimators=10, random_state=42, booster='gbtree', verbosity=1)\n",
        "gbc.fit(cv_train_features, train_label_nums)\n",
        "gbc_bow_cv_scores = cross_val_score(gbc, cv_train_features, train_label_nums, cv=5)\n",
        "gbc_bow_cv_mean_score = np.mean(gbc_bow_cv_scores)\n",
        "print('CV Accuracy (5-fold):', gbc_bow_cv_scores)\n",
        "print('Mean CV Accuracy:', gbc_bow_cv_mean_score)\n",
        "gbc_bow_test_score = gbc.score(cv_test_features, test_label_nums)\n",
        "print('Test Accuracy:', gbc_bow_test_score)"
      ],
      "execution_count": null,
      "outputs": [
        {
          "output_type": "stream",
          "text": [
            "CV Accuracy (5-fold): [0.83870968 0.80645161 0.77419355 0.77419355 0.93548387]\n",
            "Mean CV Accuracy: 0.8258064516129032\n",
            "Test Accuracy: 0.8507462686567164\n"
          ],
          "name": "stdout"
        }
      ]
    },
    {
      "cell_type": "code",
      "metadata": {
        "colab": {
          "base_uri": "https://localhost:8080/"
        },
        "id": "uV1QjqyrYtwK",
        "outputId": "500c5a69-65fa-4984-d9dd-294506489d7a"
      },
      "source": [
        "from sklearn.pipeline import Pipeline\n",
        "from sklearn.model_selection import GridSearchCV\n",
        "from sklearn.naive_bayes import MultinomialNB\n",
        "from sklearn.feature_extraction.text import TfidfVectorizer\n",
        "\n",
        "gbt_pipeline = Pipeline([('tf', CountVectorizer(binary=False, min_df=0.0, max_df=1.0, vocabulary = voc_1_5_filter)),\n",
        "                         ('gbt', XGBClassifier(random_state=42, booster='gbtree', verbosity=1))\n",
        "                        ])\n",
        "\n",
        "param_grid = {'tf__ngram_range': [(1, 1)],\n",
        "              'gbt__n_estimators': [5,10,20,50],\n",
        "              'gbt__min_child_weight': [1, 5, 10],\n",
        "              'gbt__gamma': [0.5, 1, 1.5, 2, 5],\n",
        "              'gbt__subsample': [0.6, 0.8, 1.0],\n",
        "              'gbt__colsample_bytree': [0.6, 0.8, 1.0],\n",
        "              'gbt__max_depth': [3, 4, 5]\n",
        "}\n",
        "\n",
        "gf_gbt = GridSearchCV(gbt_pipeline, param_grid, cv=5, verbose=1)\n",
        "gf_gbt_2 = gf_gbt.fit(train_corpus, train_label_nums)"
      ],
      "execution_count": null,
      "outputs": [
        {
          "output_type": "stream",
          "text": [
            "Fitting 5 folds for each of 1620 candidates, totalling 8100 fits\n"
          ],
          "name": "stdout"
        },
        {
          "output_type": "stream",
          "text": [
            "[Parallel(n_jobs=1)]: Using backend SequentialBackend with 1 concurrent workers.\n",
            "[Parallel(n_jobs=1)]: Done 8100 out of 8100 | elapsed: 50.5min finished\n"
          ],
          "name": "stderr"
        }
      ]
    },
    {
      "cell_type": "code",
      "metadata": {
        "colab": {
          "base_uri": "https://localhost:8080/",
          "height": 204
        },
        "id": "PIAlmTI9Yt3F",
        "outputId": "76c9c1d0-d765-4d1c-bc6f-b00f11b06ab1"
      },
      "source": [
        "cv_results = gf_gbt_2.cv_results_\n",
        "results_df = pd.DataFrame({'rank': cv_results['rank_test_score'],\n",
        "                           'params': cv_results['params'], \n",
        "                           'cv score (mean)': cv_results['mean_test_score'], \n",
        "                           'cv score (std)': cv_results['std_test_score']} \n",
        "              )\n",
        "results_df = results_df.sort_values(by=['rank'], ascending=True)[0:5]\n",
        "pd.set_option('display.max_colwidth', 100)\n",
        "results_df"
      ],
      "execution_count": null,
      "outputs": [
        {
          "output_type": "execute_result",
          "data": {
            "text/html": [
              "<div>\n",
              "<style scoped>\n",
              "    .dataframe tbody tr th:only-of-type {\n",
              "        vertical-align: middle;\n",
              "    }\n",
              "\n",
              "    .dataframe tbody tr th {\n",
              "        vertical-align: top;\n",
              "    }\n",
              "\n",
              "    .dataframe thead th {\n",
              "        text-align: right;\n",
              "    }\n",
              "</style>\n",
              "<table border=\"1\" class=\"dataframe\">\n",
              "  <thead>\n",
              "    <tr style=\"text-align: right;\">\n",
              "      <th></th>\n",
              "      <th>rank</th>\n",
              "      <th>params</th>\n",
              "      <th>cv score (mean)</th>\n",
              "      <th>cv score (std)</th>\n",
              "    </tr>\n",
              "  </thead>\n",
              "  <tbody>\n",
              "    <tr>\n",
              "      <th>82</th>\n",
              "      <td>1</td>\n",
              "      <td>{'gbt__colsample_bytree': 0.6, 'gbt__gamma': 0.5, 'gbt__max_depth': 5, 'gbt__min_child_weight': ...</td>\n",
              "      <td>0.851613</td>\n",
              "      <td>0.043757</td>\n",
              "    </tr>\n",
              "    <tr>\n",
              "      <th>46</th>\n",
              "      <td>2</td>\n",
              "      <td>{'gbt__colsample_bytree': 0.6, 'gbt__gamma': 0.5, 'gbt__max_depth': 4, 'gbt__min_child_weight': ...</td>\n",
              "      <td>0.845161</td>\n",
              "      <td>0.055499</td>\n",
              "    </tr>\n",
              "    <tr>\n",
              "      <th>10</th>\n",
              "      <td>2</td>\n",
              "      <td>{'gbt__colsample_bytree': 0.6, 'gbt__gamma': 0.5, 'gbt__max_depth': 3, 'gbt__min_child_weight': ...</td>\n",
              "      <td>0.845161</td>\n",
              "      <td>0.037619</td>\n",
              "    </tr>\n",
              "    <tr>\n",
              "      <th>326</th>\n",
              "      <td>4</td>\n",
              "      <td>{'gbt__colsample_bytree': 0.6, 'gbt__gamma': 2, 'gbt__max_depth': 3, 'gbt__min_child_weight': 1,...</td>\n",
              "      <td>0.838710</td>\n",
              "      <td>0.057705</td>\n",
              "    </tr>\n",
              "    <tr>\n",
              "      <th>707</th>\n",
              "      <td>4</td>\n",
              "      <td>{'gbt__colsample_bytree': 0.8, 'gbt__gamma': 1, 'gbt__max_depth': 4, 'gbt__min_child_weight': 5,...</td>\n",
              "      <td>0.838710</td>\n",
              "      <td>0.028852</td>\n",
              "    </tr>\n",
              "  </tbody>\n",
              "</table>\n",
              "</div>"
            ],
            "text/plain": [
              "     rank  ... cv score (std)\n",
              "82      1  ...       0.043757\n",
              "46      2  ...       0.055499\n",
              "10      2  ...       0.037619\n",
              "326     4  ...       0.057705\n",
              "707     4  ...       0.028852\n",
              "\n",
              "[5 rows x 4 columns]"
            ]
          },
          "metadata": {
            "tags": []
          },
          "execution_count": 149
        }
      ]
    },
    {
      "cell_type": "code",
      "metadata": {
        "colab": {
          "base_uri": "https://localhost:8080/"
        },
        "id": "NtYQxZu4pkdX",
        "outputId": "24af3b8f-227e-456f-a48e-ed33932730eb"
      },
      "source": [
        "gf_gbt_2.best_estimator_.get_params()"
      ],
      "execution_count": null,
      "outputs": [
        {
          "output_type": "execute_result",
          "data": {
            "text/plain": [
              "{'gbt': XGBClassifier(base_score=0.5, booster='gbtree', colsample_bylevel=1,\n",
              "               colsample_bynode=1, colsample_bytree=0.6, gamma=0.5,\n",
              "               learning_rate=0.1, max_delta_step=0, max_depth=5,\n",
              "               min_child_weight=1, missing=None, n_estimators=50, n_jobs=1,\n",
              "               nthread=None, objective='multi:softprob', random_state=42,\n",
              "               reg_alpha=0, reg_lambda=1, scale_pos_weight=1, seed=None,\n",
              "               silent=None, subsample=0.8, verbosity=1),\n",
              " 'gbt__base_score': 0.5,\n",
              " 'gbt__booster': 'gbtree',\n",
              " 'gbt__colsample_bylevel': 1,\n",
              " 'gbt__colsample_bynode': 1,\n",
              " 'gbt__colsample_bytree': 0.6,\n",
              " 'gbt__gamma': 0.5,\n",
              " 'gbt__learning_rate': 0.1,\n",
              " 'gbt__max_delta_step': 0,\n",
              " 'gbt__max_depth': 5,\n",
              " 'gbt__min_child_weight': 1,\n",
              " 'gbt__missing': None,\n",
              " 'gbt__n_estimators': 50,\n",
              " 'gbt__n_jobs': 1,\n",
              " 'gbt__nthread': None,\n",
              " 'gbt__objective': 'multi:softprob',\n",
              " 'gbt__random_state': 42,\n",
              " 'gbt__reg_alpha': 0,\n",
              " 'gbt__reg_lambda': 1,\n",
              " 'gbt__scale_pos_weight': 1,\n",
              " 'gbt__seed': None,\n",
              " 'gbt__silent': None,\n",
              " 'gbt__subsample': 0.8,\n",
              " 'gbt__verbosity': 1,\n",
              " 'memory': None,\n",
              " 'steps': [('tf',\n",
              "   CountVectorizer(analyzer='word', binary=False, decode_error='strict',\n",
              "                   dtype=<class 'numpy.int64'>, encoding='utf-8', input='content',\n",
              "                   lowercase=True, max_df=1.0, max_features=None, min_df=0.0,\n",
              "                   ngram_range=(1, 1), preprocessor=None, stop_words=None,\n",
              "                   strip_accents=None, token_pattern='(?u)\\\\b\\\\w\\\\w+\\\\b',\n",
              "                   tokenizer=None,\n",
              "                   vocabulary={'abat', 'abil', 'acceler', 'accommod', 'acknowledg',\n",
              "                               'act', 'action', 'add', 'advanc', 'advers', 'afe',\n",
              "                               'affect', 'agenc', 'ahead', 'aircraft', 'al',\n",
              "                               'alreadi', 'ampl', 'anecdot', 'announc', 'approv',\n",
              "                               'april', 'assess', 'asset', 'attain', 'auction',\n",
              "                               'august', 'bank', 'basi', 'begin', ...})),\n",
              "  ('gbt', XGBClassifier(base_score=0.5, booster='gbtree', colsample_bylevel=1,\n",
              "                 colsample_bynode=1, colsample_bytree=0.6, gamma=0.5,\n",
              "                 learning_rate=0.1, max_delta_step=0, max_depth=5,\n",
              "                 min_child_weight=1, missing=None, n_estimators=50, n_jobs=1,\n",
              "                 nthread=None, objective='multi:softprob', random_state=42,\n",
              "                 reg_alpha=0, reg_lambda=1, scale_pos_weight=1, seed=None,\n",
              "                 silent=None, subsample=0.8, verbosity=1))],\n",
              " 'tf': CountVectorizer(analyzer='word', binary=False, decode_error='strict',\n",
              "                 dtype=<class 'numpy.int64'>, encoding='utf-8', input='content',\n",
              "                 lowercase=True, max_df=1.0, max_features=None, min_df=0.0,\n",
              "                 ngram_range=(1, 1), preprocessor=None, stop_words=None,\n",
              "                 strip_accents=None, token_pattern='(?u)\\\\b\\\\w\\\\w+\\\\b',\n",
              "                 tokenizer=None,\n",
              "                 vocabulary={'abat', 'abil', 'acceler', 'accommod', 'acknowledg',\n",
              "                             'act', 'action', 'add', 'advanc', 'advers', 'afe',\n",
              "                             'affect', 'agenc', 'ahead', 'aircraft', 'al',\n",
              "                             'alreadi', 'ampl', 'anecdot', 'announc', 'approv',\n",
              "                             'april', 'assess', 'asset', 'attain', 'auction',\n",
              "                             'august', 'bank', 'basi', 'begin', ...}),\n",
              " 'tf__analyzer': 'word',\n",
              " 'tf__binary': False,\n",
              " 'tf__decode_error': 'strict',\n",
              " 'tf__dtype': numpy.int64,\n",
              " 'tf__encoding': 'utf-8',\n",
              " 'tf__input': 'content',\n",
              " 'tf__lowercase': True,\n",
              " 'tf__max_df': 1.0,\n",
              " 'tf__max_features': None,\n",
              " 'tf__min_df': 0.0,\n",
              " 'tf__ngram_range': (1, 1),\n",
              " 'tf__preprocessor': None,\n",
              " 'tf__stop_words': None,\n",
              " 'tf__strip_accents': None,\n",
              " 'tf__token_pattern': '(?u)\\\\b\\\\w\\\\w+\\\\b',\n",
              " 'tf__tokenizer': None,\n",
              " 'tf__vocabulary': {'abat',\n",
              "  'abil',\n",
              "  'acceler',\n",
              "  'accommod',\n",
              "  'acknowledg',\n",
              "  'act',\n",
              "  'action',\n",
              "  'add',\n",
              "  'advanc',\n",
              "  'advers',\n",
              "  'afe',\n",
              "  'affect',\n",
              "  'agenc',\n",
              "  'ahead',\n",
              "  'aircraft',\n",
              "  'al',\n",
              "  'alreadi',\n",
              "  'ampl',\n",
              "  'anecdot',\n",
              "  'announc',\n",
              "  'approv',\n",
              "  'april',\n",
              "  'assess',\n",
              "  'asset',\n",
              "  'attain',\n",
              "  'auction',\n",
              "  'august',\n",
              "  'bank',\n",
              "  'basi',\n",
              "  'begin',\n",
              "  'believ',\n",
              "  'better',\n",
              "  'billion',\n",
              "  'bit',\n",
              "  'board',\n",
              "  'boost',\n",
              "  'brisk',\n",
              "  'briskli',\n",
              "  'broader',\n",
              "  'buildup',\n",
              "  'buoy',\n",
              "  'categori',\n",
              "  'central',\n",
              "  'chang',\n",
              "  'character',\n",
              "  'circumst',\n",
              "  'clearli',\n",
              "  'close',\n",
              "  'combin',\n",
              "  'come',\n",
              "  'commerci',\n",
              "  'compens',\n",
              "  'compon',\n",
              "  'constraint',\n",
              "  'contact',\n",
              "  'contain',\n",
              "  'contract',\n",
              "  'contribut',\n",
              "  'coronaviru',\n",
              "  'correct',\n",
              "  'cost',\n",
              "  'coupl',\n",
              "  'credit',\n",
              "  'curv',\n",
              "  'cut',\n",
              "  'cutback',\n",
              "  'damp',\n",
              "  'date',\n",
              "  'day',\n",
              "  'deceler',\n",
              "  'declin',\n",
              "  'decreas',\n",
              "  'deficit',\n",
              "  'delay',\n",
              "  'depend',\n",
              "  'depreci',\n",
              "  'desk',\n",
              "  'deterior',\n",
              "  'difficulti',\n",
              "  'disappoint',\n",
              "  'discount',\n",
              "  'disrupt',\n",
              "  'district',\n",
              "  'downsid',\n",
              "  'downturn',\n",
              "  'downward',\n",
              "  'driven',\n",
              "  'drop',\n",
              "  'eas',\n",
              "  'effort',\n",
              "  'eme',\n",
              "  'emerg',\n",
              "  'energi',\n",
              "  'equal',\n",
              "  'estat',\n",
              "  'euro',\n",
              "  'event',\n",
              "  'evolv',\n",
              "  'exampl',\n",
              "  'excess',\n",
              "  'expand',\n",
              "  'experienc',\n",
              "  'export',\n",
              "  'extend',\n",
              "  'facil',\n",
              "  'fairli',\n",
              "  'fall',\n",
              "  'fallen',\n",
              "  'far',\n",
              "  'februari',\n",
              "  'fell',\n",
              "  'financi',\n",
              "  'flatten',\n",
              "  'flow',\n",
              "  'forc',\n",
              "  'forward',\n",
              "  'foster',\n",
              "  'function',\n",
              "  'fundament',\n",
              "  'ga',\n",
              "  'gain',\n",
              "  'global',\n",
              "  'govern',\n",
              "  'governor',\n",
              "  'grade',\n",
              "  'gradual',\n",
              "  'grew',\n",
              "  'gross',\n",
              "  'grow',\n",
              "  'headlin',\n",
              "  'heighten',\n",
              "  'help',\n",
              "  'higher',\n",
              "  'hire',\n",
              "  'homebuild',\n",
              "  'hurrican',\n",
              "  'imbal',\n",
              "  'immedi',\n",
              "  'implement',\n",
              "  'importantli',\n",
              "  'improv',\n",
              "  'increas',\n",
              "  'increasingli',\n",
              "  'individu',\n",
              "  'inflationari',\n",
              "  'institut',\n",
              "  'insur',\n",
              "  'intend',\n",
              "  'intensifi',\n",
              "  'issu',\n",
              "  'issuanc',\n",
              "  'japan',\n",
              "  'jump',\n",
              "  'june',\n",
              "  'labor',\n",
              "  'lag',\n",
              "  'languag',\n",
              "  'larger',\n",
              "  'latest',\n",
              "  'led',\n",
              "  'lend',\n",
              "  'liquid',\n",
              "  'loan',\n",
              "  'local',\n",
              "  'longer',\n",
              "  'loss',\n",
              "  'maintain',\n",
              "  'major',\n",
              "  'make',\n",
              "  'margin',\n",
              "  'materi',\n",
              "  'matur',\n",
              "  'maximum',\n",
              "  'medium',\n",
              "  'mid',\n",
              "  'momentum',\n",
              "  'money',\n",
              "  'natur',\n",
              "  'need',\n",
              "  'neg',\n",
              "  'net',\n",
              "  'neutral',\n",
              "  'nondefens',\n",
              "  'nonfarm',\n",
              "  'notic',\n",
              "  'object',\n",
              "  'octob',\n",
              "  'opportun',\n",
              "  'outbreak',\n",
              "  'overhang',\n",
              "  'overnight',\n",
              "  'owe',\n",
              "  'pace',\n",
              "  'paper',\n",
              "  'partner',\n",
              "  'pass',\n",
              "  'path',\n",
              "  'percentag',\n",
              "  'perhap',\n",
              "  'pick',\n",
              "  'plan',\n",
              "  'policymak',\n",
              "  'portion',\n",
              "  'post',\n",
              "  'preced',\n",
              "  'prefer',\n",
              "  'primari',\n",
              "  'probabl',\n",
              "  'process',\n",
              "  'program',\n",
              "  'progress',\n",
              "  'promot',\n",
              "  'pronounc',\n",
              "  'propos',\n",
              "  'prospect',\n",
              "  'provid',\n",
              "  'public',\n",
              "  'purchas',\n",
              "  'rais',\n",
              "  'rebuild',\n",
              "  'receiv',\n",
              "  'recogn',\n",
              "  'recoveri',\n",
              "  'reduc',\n",
              "  'reduct',\n",
              "  'region',\n",
              "  'remark',\n",
              "  'remov',\n",
              "  'repo',\n",
              "  'requir',\n",
              "  'respond',\n",
              "  'rise',\n",
              "  'robust',\n",
              "  'roughli',\n",
              "  'run',\n",
              "  'save',\n",
              "  'season',\n",
              "  'secur',\n",
              "  'sentiment',\n",
              "  'septemb',\n",
              "  'sharp',\n",
              "  'sharpli',\n",
              "  'sheet',\n",
              "  'shortag',\n",
              "  'significantli',\n",
              "  'situat',\n",
              "  'slack',\n",
              "  'slight',\n",
              "  'slowli',\n",
              "  'sluggish',\n",
              "  'soft',\n",
              "  'soften',\n",
              "  'solid',\n",
              "  'sourc',\n",
              "  'spread',\n",
              "  'stabl',\n",
              "  'staff',\n",
              "  'standard',\n",
              "  'state',\n",
              "  'statist',\n",
              "  'stem',\n",
              "  'stimul',\n",
              "  'stimulu',\n",
              "  'strain',\n",
              "  'strengthen',\n",
              "  'stress',\n",
              "  'strike',\n",
              "  'strong',\n",
              "  'stronger',\n",
              "  'subsequ',\n",
              "  'summer',\n",
              "  'surg',\n",
              "  'surround',\n",
              "  'sustain',\n",
              "  'symmetr',\n",
              "  'taken',\n",
              "  'tax',\n",
              "  'tech',\n",
              "  'technolog',\n",
              "  'temporari',\n",
              "  'tend',\n",
              "  'tendenc',\n",
              "  'tension',\n",
              "  'thought',\n",
              "  'thu',\n",
              "  'tighten',\n",
              "  'tighter',\n",
              "  'transport',\n",
              "  'turmoil',\n",
              "  'twelv',\n",
              "  'underli',\n",
              "  'unemploy',\n",
              "  'unseason',\n",
              "  'upsid',\n",
              "  'upturn',\n",
              "  'upward',\n",
              "  'veloc',\n",
              "  'vigor',\n",
              "  'wane',\n",
              "  'warm',\n",
              "  'warrant',\n",
              "  'weak',\n",
              "  'weaken',\n",
              "  'weaker',\n",
              "  'wealth',\n",
              "  'weather',\n",
              "  'week',\n",
              "  'weigh',\n",
              "  'weight',\n",
              "  'workweek',\n",
              "  'worsen'},\n",
              " 'verbose': False}"
            ]
          },
          "metadata": {
            "tags": []
          },
          "execution_count": 150
        }
      ]
    },
    {
      "cell_type": "code",
      "metadata": {
        "colab": {
          "base_uri": "https://localhost:8080/"
        },
        "id": "v3OFC6BKpylj",
        "outputId": "7dbb07de-9203-44cb-b775-874645f6e6a3"
      },
      "source": [
        "from sklearn.ensemble import GradientBoostingClassifier\n",
        "\n",
        "xgb = XGBClassifier(booster='gbtree', n_estimators=50, min_child_weight=1, gamma=0.5, subsample=0.8, colsample_bytree=0.6, max_depth=5,\n",
        "                    learning_rate=0.1, verbosity=1, random_state=42)\n",
        "xgb.fit(cv_train_features, train_label_nums)\n",
        "xgb_bow_cv_scores = cross_val_score(xgb, cv_train_features, train_label_nums, cv=5)\n",
        "xgb_bow_cv_mean_score = np.mean(xgb_bow_cv_scores)\n",
        "print('CV Accuracy (5-fold):', xgb_bow_cv_scores)\n",
        "print('Mean CV Accuracy:', xgb_bow_cv_mean_score)\n",
        "xgb_bow_test_score = xgb.score(cv_test_features, test_label_nums)\n",
        "print('Test Accuracy:', xgb_bow_test_score)"
      ],
      "execution_count": null,
      "outputs": [
        {
          "output_type": "stream",
          "text": [
            "CV Accuracy (5-fold): [0.83870968 0.87096774 0.77419355 0.87096774 0.90322581]\n",
            "Mean CV Accuracy: 0.8516129032258064\n",
            "Test Accuracy: 0.8656716417910447\n"
          ],
          "name": "stdout"
        }
      ]
    },
    {
      "cell_type": "code",
      "metadata": {
        "id": "VpBUN2AzZRvE"
      },
      "source": [
        "param_dist = {'objective':'binary:logistic', 'n_estimators':2}\n",
        "\n",
        "clf = xgb.XGBClassifier(**param_dist)"
      ],
      "execution_count": null,
      "outputs": []
    },
    {
      "cell_type": "code",
      "metadata": {
        "id": "S0AbCpWUbZUg"
      },
      "source": [
        ""
      ],
      "execution_count": null,
      "outputs": []
    },
    {
      "cell_type": "code",
      "metadata": {
        "id": "oFtVjdRkatYS"
      },
      "source": [
        "from sklearn.model_selection import cross_val_score\n",
        "from sklearn.pipeline import Pipeline\n",
        "from sklearn.preprocessing import StandardScaler\n",
        "from sklearn.nural_network.multilayer_perceptron import MLPClassifier\n",
        "\n",
        "nn_pipeline([\n",
        "             ('mlp', MLPClassifier(hidden_layer_sizes=(15,10), alpha=0.1, max_iter=300, random_state=2020))\n",
        "])"
      ],
      "execution_count": null,
      "outputs": []
    },
    {
      "cell_type": "code",
      "metadata": {
        "colab": {
          "base_uri": "https://localhost:8080/"
        },
        "id": "quSZGz-XZR3B",
        "outputId": "a8ceb6e8-ab04-48fb-b743-a5eca9d7b6fc"
      },
      "source": [
        "from sklearn.neural_network.multilayer_perceptron import MLPClassifier\n",
        "\n",
        "nn = MLPClassifier(hidden_layer_sizes=(50,50,50), alpha=0.01, max_iter=1000, random_state=2020)\n",
        "nn.fit(cv_train_features, train_label_nums)\n",
        "nn_bow_cv_scores = cross_val_score(nn, cv_train_features, train_label_nums, cv=5)\n",
        "nn_bow_cv_mean_score = np.mean(nn_bow_cv_scores)\n",
        "print('CV Accuracy (5-fold):', nn_bow_cv_scores)\n",
        "print('Mean CV Accuracy:', nn_bow_cv_mean_score)\n",
        "nn_bow_test_score = nn.score(cv_test_features, test_label_nums)\n",
        "print('Test Accuracy:', nn_bow_test_score)"
      ],
      "execution_count": null,
      "outputs": [
        {
          "output_type": "stream",
          "text": [
            "CV Accuracy (5-fold): [0.77419355 0.80645161 0.80645161 0.70967742 0.80645161]\n",
            "Mean CV Accuracy: 0.7806451612903226\n",
            "Test Accuracy: 0.8805970149253731\n"
          ],
          "name": "stdout"
        }
      ]
    },
    {
      "cell_type": "code",
      "metadata": {
        "colab": {
          "base_uri": "https://localhost:8080/"
        },
        "id": "03W_Yb6ytdkR",
        "outputId": "8a8f3ce6-53ee-4b9e-af89-b62180fd1e98"
      },
      "source": [
        "from sklearn.neural_network.multilayer_perceptron import MLPClassifier\n",
        "\n",
        "nn = MLPClassifier(hidden_layer_sizes=(50,50,50), alpha=0.4, max_iter=1000, random_state=2020)\n",
        "nn.fit(cv_train_features, train_label_nums)\n",
        "nn_bow_cv_scores = cross_val_score(nn, cv_train_features, train_label_nums, cv=5)\n",
        "nn_bow_cv_mean_score = np.mean(nn_bow_cv_scores)\n",
        "print('CV Accuracy (5-fold):', nn_bow_cv_scores)\n",
        "print('Mean CV Accuracy:', nn_bow_cv_mean_score)\n",
        "nn_bow_test_score = nn.score(cv_test_features, test_label_nums)\n",
        "print('Test Accuracy:', nn_bow_test_score)"
      ],
      "execution_count": null,
      "outputs": [
        {
          "output_type": "stream",
          "text": [
            "CV Accuracy (5-fold): [0.80645161 0.80645161 0.74193548 0.83870968 0.87096774]\n",
            "Mean CV Accuracy: 0.8129032258064516\n",
            "Test Accuracy: 0.8955223880597015\n"
          ],
          "name": "stdout"
        }
      ]
    },
    {
      "cell_type": "code",
      "metadata": {
        "colab": {
          "base_uri": "https://localhost:8080/"
        },
        "id": "2bxARb37uzcv",
        "outputId": "d3f0989f-1aea-4f67-cdc2-26d92669c558"
      },
      "source": [
        "from sklearn.neural_network.multilayer_perceptron import MLPClassifier\n",
        "\n",
        "nn = MLPClassifier(hidden_layer_sizes=(50,50,50), batch_size=10, alpha=0.4, max_iter=1000, random_state=2020)\n",
        "nn.fit(cv_train_features, train_label_nums)\n",
        "nn_bow_cv_scores = cross_val_score(nn, cv_train_features, train_label_nums, cv=5)\n",
        "nn_bow_cv_mean_score = np.mean(nn_bow_cv_scores)\n",
        "print('CV Accuracy (5-fold):', nn_bow_cv_scores)\n",
        "print('Mean CV Accuracy:', nn_bow_cv_mean_score)\n",
        "nn_bow_test_score = nn.score(cv_test_features, test_label_nums)\n",
        "print('Test Accuracy:', nn_bow_test_score)"
      ],
      "execution_count": null,
      "outputs": [
        {
          "output_type": "stream",
          "text": [
            "CV Accuracy (5-fold): [0.83870968 0.83870968 0.80645161 0.83870968 0.87096774]\n",
            "Mean CV Accuracy: 0.8387096774193548\n",
            "Test Accuracy: 0.8805970149253731\n"
          ],
          "name": "stdout"
        }
      ]
    },
    {
      "cell_type": "code",
      "metadata": {
        "colab": {
          "base_uri": "https://localhost:8080/"
        },
        "id": "dPWvkiOKvJx8",
        "outputId": "4e3eb9dd-7c1e-4897-d022-b76ac27ddecf"
      },
      "source": [
        "from sklearn.neural_network.multilayer_perceptron import MLPClassifier\n",
        "\n",
        "nn = MLPClassifier(hidden_layer_sizes=(50,50,50,30,30,30), batch_size=10, alpha=0.1, max_iter=1000, random_state=2020)\n",
        "nn.fit(cv_train_features, train_label_nums)\n",
        "nn_bow_cv_scores = cross_val_score(nn, cv_train_features, train_label_nums, cv=5)\n",
        "nn_bow_cv_mean_score = np.mean(nn_bow_cv_scores)\n",
        "print('CV Accuracy (5-fold):', nn_bow_cv_scores)\n",
        "print('Mean CV Accuracy:', nn_bow_cv_mean_score)\n",
        "nn_bow_test_score = nn.score(cv_test_features, test_label_nums)\n",
        "print('Test Accuracy:', nn_bow_test_score)"
      ],
      "execution_count": null,
      "outputs": [
        {
          "output_type": "stream",
          "text": [
            "CV Accuracy (5-fold): [0.87096774 0.90322581 0.70967742 0.80645161 0.93548387]\n",
            "Mean CV Accuracy: 0.8451612903225806\n",
            "Test Accuracy: 0.835820895522388\n"
          ],
          "name": "stdout"
        }
      ]
    },
    {
      "cell_type": "code",
      "metadata": {
        "colab": {
          "base_uri": "https://localhost:8080/"
        },
        "id": "G482nUNew667",
        "outputId": "4ed76033-43a4-48a8-d6c7-9718b82f9129"
      },
      "source": [
        "from sklearn.neural_network.multilayer_perceptron import MLPClassifier\n",
        "\n",
        "nn = MLPClassifier(hidden_layer_sizes=(50,50,50,30,30,30), batch_size=10, alpha=0.7, max_iter=1000, random_state=2020)\n",
        "nn.fit(cv_train_features, train_label_nums)\n",
        "nn_bow_cv_scores = cross_val_score(nn, cv_train_features, train_label_nums, cv=5)\n",
        "nn_bow_cv_mean_score = np.mean(nn_bow_cv_scores)\n",
        "print('CV Accuracy (5-fold):', nn_bow_cv_scores)\n",
        "print('Mean CV Accuracy:', nn_bow_cv_mean_score)\n",
        "nn_bow_test_score = nn.score(cv_test_features, test_label_nums)\n",
        "print('Test Accuracy:', nn_bow_test_score)"
      ],
      "execution_count": null,
      "outputs": [
        {
          "output_type": "stream",
          "text": [
            "CV Accuracy (5-fold): [0.77419355 0.80645161 0.80645161 0.83870968 0.87096774]\n",
            "Mean CV Accuracy: 0.8193548387096774\n",
            "Test Accuracy: 0.8805970149253731\n"
          ],
          "name": "stdout"
        }
      ]
    },
    {
      "cell_type": "code",
      "metadata": {
        "colab": {
          "base_uri": "https://localhost:8080/"
        },
        "id": "kKY57hnkxDMv",
        "outputId": "40953954-ec94-43da-da53-7c53f95ca8a0"
      },
      "source": [
        "from sklearn.neural_network.multilayer_perceptron import MLPClassifier\n",
        "\n",
        "nn = MLPClassifier(hidden_layer_sizes=(50,50,50,50,50,50), batch_size=10, alpha=0.1, max_iter=1000, random_state=2020)\n",
        "nn.fit(cv_train_features, train_label_nums)\n",
        "nn_bow_cv_scores = cross_val_score(nn, cv_train_features, train_label_nums, cv=5)\n",
        "nn_bow_cv_mean_score = np.mean(nn_bow_cv_scores)\n",
        "print('CV Accuracy (5-fold):', nn_bow_cv_scores)\n",
        "print('Mean CV Accuracy:', nn_bow_cv_mean_score)\n",
        "nn_bow_test_score = nn.score(cv_test_features, test_label_nums)\n",
        "print('Test Accuracy:', nn_bow_test_score)"
      ],
      "execution_count": null,
      "outputs": [
        {
          "output_type": "stream",
          "text": [
            "CV Accuracy (5-fold): [0.87096774 0.87096774 0.80645161 0.80645161 0.90322581]\n",
            "Mean CV Accuracy: 0.8516129032258064\n",
            "Test Accuracy: 0.8656716417910447\n"
          ],
          "name": "stdout"
        }
      ]
    },
    {
      "cell_type": "code",
      "metadata": {
        "colab": {
          "base_uri": "https://localhost:8080/"
        },
        "id": "s-ix8rKIydXu",
        "outputId": "237157b3-1ad0-4132-e40c-0a04aaf3c5fc"
      },
      "source": [
        "from sklearn.neural_network.multilayer_perceptron import MLPClassifier\n",
        "\n",
        "nn = MLPClassifier(hidden_layer_sizes=(50,50,50,50,50,50), batch_size=10, alpha=0.12, max_iter=1000, random_state=2020)\n",
        "nn.fit(cv_train_features, train_label_nums)\n",
        "nn_bow_cv_scores = cross_val_score(nn, cv_train_features, train_label_nums, cv=5)\n",
        "nn_bow_cv_mean_score = np.mean(nn_bow_cv_scores)\n",
        "print('CV Accuracy (5-fold):', nn_bow_cv_scores)\n",
        "print('Mean CV Accuracy:', nn_bow_cv_mean_score)\n",
        "nn_bow_test_score = nn.score(cv_test_features, test_label_nums)\n",
        "print('Test Accuracy:', nn_bow_test_score)"
      ],
      "execution_count": null,
      "outputs": [
        {
          "output_type": "stream",
          "text": [
            "CV Accuracy (5-fold): [0.87096774 0.90322581 0.80645161 0.77419355 0.90322581]\n",
            "Mean CV Accuracy: 0.8516129032258064\n",
            "Test Accuracy: 0.8805970149253731\n"
          ],
          "name": "stdout"
        }
      ]
    },
    {
      "cell_type": "code",
      "metadata": {
        "colab": {
          "base_uri": "https://localhost:8080/"
        },
        "id": "ZToTImvmzGXB",
        "outputId": "9b167c74-3bb0-454d-99b5-64f610ef7ab9"
      },
      "source": [
        "from sklearn.neural_network.multilayer_perceptron import MLPClassifier\n",
        "\n",
        "nn = MLPClassifier(hidden_layer_sizes=(50,50,50,50,50,50), batch_size=10, alpha=0.13, max_iter=1000, random_state=2020)\n",
        "nn.fit(cv_train_features, train_label_nums)\n",
        "nn_bow_cv_scores = cross_val_score(nn, cv_train_features, train_label_nums, cv=5)\n",
        "nn_bow_cv_mean_score = np.mean(nn_bow_cv_scores)\n",
        "print('CV Accuracy (5-fold):', nn_bow_cv_scores)\n",
        "print('Mean CV Accuracy:', nn_bow_cv_mean_score)\n",
        "nn_bow_test_score = nn.score(cv_test_features, test_label_nums)\n",
        "print('Test Accuracy:', nn_bow_test_score)"
      ],
      "execution_count": null,
      "outputs": [
        {
          "output_type": "stream",
          "text": [
            "CV Accuracy (5-fold): [0.83870968 0.83870968 0.74193548 0.83870968 0.87096774]\n",
            "Mean CV Accuracy: 0.8258064516129032\n",
            "Test Accuracy: 0.8507462686567164\n"
          ],
          "name": "stdout"
        }
      ]
    },
    {
      "cell_type": "code",
      "metadata": {
        "colab": {
          "base_uri": "https://localhost:8080/"
        },
        "id": "y-F1PTYrzNEq",
        "outputId": "4e6e69a2-b18b-4495-b093-d553a131581e"
      },
      "source": [
        "from sklearn.neural_network.multilayer_perceptron import MLPClassifier\n",
        "\n",
        "nn = MLPClassifier(hidden_layer_sizes=(50,50,50,50,50,50), batch_size=10, alpha=0.11, max_iter=1000, random_state=2020)\n",
        "nn.fit(cv_train_features, train_label_nums)\n",
        "nn_bow_cv_scores = cross_val_score(nn, cv_train_features, train_label_nums, cv=5)\n",
        "nn_bow_cv_mean_score = np.mean(nn_bow_cv_scores)\n",
        "print('CV Accuracy (5-fold):', nn_bow_cv_scores)\n",
        "print('Mean CV Accuracy:', nn_bow_cv_mean_score)\n",
        "nn_bow_test_score = nn.score(cv_test_features, test_label_nums)\n",
        "print('Test Accuracy:', nn_bow_test_score)"
      ],
      "execution_count": null,
      "outputs": [
        {
          "output_type": "stream",
          "text": [
            "CV Accuracy (5-fold): [0.83870968 0.83870968 0.77419355 0.77419355 0.87096774]\n",
            "Mean CV Accuracy: 0.8193548387096774\n",
            "Test Accuracy: 0.8507462686567164\n"
          ],
          "name": "stdout"
        }
      ]
    },
    {
      "cell_type": "code",
      "metadata": {
        "colab": {
          "base_uri": "https://localhost:8080/"
        },
        "id": "eyMgyFNAzOSU",
        "outputId": "b1ca5fc2-9c91-41f9-d06b-2ecf8c8b2616"
      },
      "source": [
        "from sklearn.neural_network.multilayer_perceptron import MLPClassifier\n",
        "\n",
        "nn = MLPClassifier(hidden_layer_sizes=(50,50,50,50,50,50), batch_size=10, alpha=0.14, max_iter=1000, random_state=2020)\n",
        "nn.fit(cv_train_features, train_label_nums)\n",
        "nn_bow_cv_scores = cross_val_score(nn, cv_train_features, train_label_nums, cv=5)\n",
        "nn_bow_cv_mean_score = np.mean(nn_bow_cv_scores)\n",
        "print('CV Accuracy (5-fold):', nn_bow_cv_scores)\n",
        "print('Mean CV Accuracy:', nn_bow_cv_mean_score)\n",
        "nn_bow_test_score = nn.score(cv_test_features, test_label_nums)\n",
        "print('Test Accuracy:', nn_bow_test_score)"
      ],
      "execution_count": null,
      "outputs": [
        {
          "output_type": "stream",
          "text": [
            "CV Accuracy (5-fold): [0.83870968 0.74193548 0.77419355 0.80645161 0.87096774]\n",
            "Mean CV Accuracy: 0.8064516129032258\n",
            "Test Accuracy: 0.8805970149253731\n"
          ],
          "name": "stdout"
        }
      ]
    },
    {
      "cell_type": "code",
      "metadata": {
        "colab": {
          "base_uri": "https://localhost:8080/"
        },
        "id": "RBYJfOs2zWOP",
        "outputId": "45eaf832-8385-493a-9ee6-c157839e7580"
      },
      "source": [
        "from sklearn.neural_network.multilayer_perceptron import MLPClassifier\n",
        "\n",
        "nn = MLPClassifier(hidden_layer_sizes=(50,50,50,50,50,50), batch_size=10, alpha=0.09, max_iter=1000, random_state=2020)\n",
        "nn.fit(cv_train_features, train_label_nums)\n",
        "nn_bow_cv_scores = cross_val_score(nn, cv_train_features, train_label_nums, cv=5)\n",
        "nn_bow_cv_mean_score = np.mean(nn_bow_cv_scores)\n",
        "print('CV Accuracy (5-fold):', nn_bow_cv_scores)\n",
        "print('Mean CV Accuracy:', nn_bow_cv_mean_score)\n",
        "nn_bow_test_score = nn.score(cv_test_features, test_label_nums)\n",
        "print('Test Accuracy:', nn_bow_test_score)"
      ],
      "execution_count": null,
      "outputs": [
        {
          "output_type": "stream",
          "text": [
            "CV Accuracy (5-fold): [0.80645161 0.74193548 0.80645161 0.80645161 0.74193548]\n",
            "Mean CV Accuracy: 0.7806451612903226\n",
            "Test Accuracy: 0.8208955223880597\n"
          ],
          "name": "stdout"
        }
      ]
    },
    {
      "cell_type": "code",
      "metadata": {
        "colab": {
          "base_uri": "https://localhost:8080/"
        },
        "id": "VzNTKv9azYmg",
        "outputId": "33795b16-f9f1-4e4f-c6ea-0dbdf1060700"
      },
      "source": [
        "from sklearn.neural_network.multilayer_perceptron import MLPClassifier\n",
        "\n",
        "nn = MLPClassifier(hidden_layer_sizes=(50,50,50,50,50,50), batch_size=8, alpha=0.12, max_iter=1000, random_state=2020)\n",
        "nn.fit(cv_train_features, train_label_nums)\n",
        "nn_bow_cv_scores = cross_val_score(nn, cv_train_features, train_label_nums, cv=5)\n",
        "nn_bow_cv_mean_score = np.mean(nn_bow_cv_scores)\n",
        "print('CV Accuracy (5-fold):', nn_bow_cv_scores)\n",
        "print('Mean CV Accuracy:', nn_bow_cv_mean_score)\n",
        "nn_bow_test_score = nn.score(cv_test_features, test_label_nums)\n",
        "print('Test Accuracy:', nn_bow_test_score)"
      ],
      "execution_count": null,
      "outputs": [
        {
          "output_type": "stream",
          "text": [
            "CV Accuracy (5-fold): [0.83870968 0.93548387 0.80645161 0.83870968 0.83870968]\n",
            "Mean CV Accuracy: 0.8516129032258064\n",
            "Test Accuracy: 0.8955223880597015\n"
          ],
          "name": "stdout"
        }
      ]
    },
    {
      "cell_type": "code",
      "metadata": {
        "colab": {
          "base_uri": "https://localhost:8080/"
        },
        "id": "5-ogwl5HzfMN",
        "outputId": "830c7eb3-cd6d-4104-b086-b88e184d7451"
      },
      "source": [
        "from sklearn.neural_network.multilayer_perceptron import MLPClassifier\n",
        "\n",
        "nn = MLPClassifier(hidden_layer_sizes=(50,50,50,50,50,50), batch_size=12, alpha=0.12, max_iter=1000, random_state=2020)\n",
        "nn.fit(cv_train_features, train_label_nums)\n",
        "nn_bow_cv_scores = cross_val_score(nn, cv_train_features, train_label_nums, cv=5)\n",
        "nn_bow_cv_mean_score = np.mean(nn_bow_cv_scores)\n",
        "print('CV Accuracy (5-fold):', nn_bow_cv_scores)\n",
        "print('Mean CV Accuracy:', nn_bow_cv_mean_score)\n",
        "nn_bow_test_score = nn.score(cv_test_features, test_label_nums)\n",
        "print('Test Accuracy:', nn_bow_test_score)"
      ],
      "execution_count": null,
      "outputs": [
        {
          "output_type": "stream",
          "text": [
            "CV Accuracy (5-fold): [0.83870968 0.80645161 0.74193548 0.83870968 0.90322581]\n",
            "Mean CV Accuracy: 0.8258064516129032\n",
            "Test Accuracy: 0.8805970149253731\n"
          ],
          "name": "stdout"
        }
      ]
    },
    {
      "cell_type": "code",
      "metadata": {
        "colab": {
          "base_uri": "https://localhost:8080/"
        },
        "id": "YlyY0FSTzhF4",
        "outputId": "d7875f88-30e8-4894-9c10-fabbb64ad577"
      },
      "source": [
        "from sklearn.neural_network.multilayer_perceptron import MLPClassifier\n",
        "\n",
        "nn = MLPClassifier(hidden_layer_sizes=(50,50,50,50,50,50), batch_size=6, alpha=0.12, max_iter=1000, random_state=2020)\n",
        "nn.fit(cv_train_features, train_label_nums)\n",
        "nn_bow_cv_scores = cross_val_score(nn, cv_train_features, train_label_nums, cv=5)\n",
        "nn_bow_cv_mean_score = np.mean(nn_bow_cv_scores)\n",
        "print('CV Accuracy (5-fold):', nn_bow_cv_scores)\n",
        "print('Mean CV Accuracy:', nn_bow_cv_mean_score)\n",
        "nn_bow_test_score = nn.score(cv_test_features, test_label_nums)\n",
        "print('Test Accuracy:', nn_bow_test_score)"
      ],
      "execution_count": null,
      "outputs": [
        {
          "output_type": "stream",
          "text": [
            "CV Accuracy (5-fold): [0.90322581 0.80645161 0.83870968 0.83870968 0.87096774]\n",
            "Mean CV Accuracy: 0.8516129032258064\n",
            "Test Accuracy: 0.8656716417910447\n"
          ],
          "name": "stdout"
        }
      ]
    },
    {
      "cell_type": "code",
      "metadata": {
        "colab": {
          "base_uri": "https://localhost:8080/"
        },
        "id": "4XGOrXHTxYUh",
        "outputId": "76fb92c2-dd21-40ad-c7fe-67222712f27a"
      },
      "source": [
        "from sklearn.neural_network.multilayer_perceptron import MLPClassifier\n",
        "\n",
        "nn = MLPClassifier(hidden_layer_sizes=(50,50,50,50,50,50,50), batch_size=10, alpha=0.1, max_iter=1000, random_state=2020)\n",
        "nn.fit(cv_train_features, train_label_nums)\n",
        "nn_bow_cv_scores = cross_val_score(nn, cv_train_features, train_label_nums, cv=5)\n",
        "nn_bow_cv_mean_score = np.mean(nn_bow_cv_scores)\n",
        "print('CV Accuracy (5-fold):', nn_bow_cv_scores)\n",
        "print('Mean CV Accuracy:', nn_bow_cv_mean_score)\n",
        "nn_bow_test_score = nn.score(cv_test_features, test_label_nums)\n",
        "print('Test Accuracy:', nn_bow_test_score)"
      ],
      "execution_count": null,
      "outputs": [
        {
          "output_type": "stream",
          "text": [
            "CV Accuracy (5-fold): [0.90322581 0.83870968 0.80645161 0.80645161 0.83870968]\n",
            "Mean CV Accuracy: 0.8387096774193548\n",
            "Test Accuracy: 0.8507462686567164\n"
          ],
          "name": "stdout"
        }
      ]
    },
    {
      "cell_type": "code",
      "metadata": {
        "colab": {
          "base_uri": "https://localhost:8080/"
        },
        "id": "quPToKwtYt9u",
        "outputId": "508d6a5d-6699-4310-9fc4-41665fa105a7"
      },
      "source": [
        "from sklearn.neural_network.multilayer_perceptron import MLPClassifier\n",
        "\n",
        "nn = MLPClassifier(hidden_layer_sizes=(50,50,50,10,10,10,10), alpha=0.1, max_iter=1000, random_state=2020)\n",
        "nn.fit(cv_train_features, train_label_nums)\n",
        "nn_bow_cv_scores = cross_val_score(nn, cv_train_features, train_label_nums, cv=5)\n",
        "nn_bow_cv_mean_score = np.mean(nn_bow_cv_scores)\n",
        "print('CV Accuracy (5-fold):', nn_bow_cv_scores)\n",
        "print('Mean CV Accuracy:', nn_bow_cv_mean_score)\n",
        "nn_bow_test_score = nn.score(cv_test_features, test_label_nums)\n",
        "print('Test Accuracy:', nn_bow_test_score)"
      ],
      "execution_count": null,
      "outputs": [
        {
          "output_type": "stream",
          "text": [
            "CV Accuracy (5-fold): [0.74193548 0.64516129 0.77419355 0.61290323 0.83870968]\n",
            "Mean CV Accuracy: 0.7225806451612903\n",
            "Test Accuracy: 0.835820895522388\n"
          ],
          "name": "stdout"
        }
      ]
    },
    {
      "cell_type": "code",
      "metadata": {
        "colab": {
          "base_uri": "https://localhost:8080/"
        },
        "id": "bfT414eYhn8F",
        "outputId": "2565eef2-f078-4879-ac25-834a954a58f5"
      },
      "source": [
        "from sklearn.neural_network.multilayer_perceptron import MLPClassifier\n",
        "\n",
        "nn = MLPClassifier(hidden_layer_sizes=(150,100), alpha=0.0001, max_iter=1000, random_state=2020)\n",
        "nn.fit(cv_train_features, train_label_nums)\n",
        "nn_bow_cv_scores = cross_val_score(nn, cv_train_features, train_label_nums, cv=5)\n",
        "nn_bow_cv_mean_score = np.mean(nn_bow_cv_scores)\n",
        "print('CV Accuracy (5-fold):', nn_bow_cv_scores)\n",
        "print('Mean CV Accuracy:', nn_bow_cv_mean_score)\n",
        "nn_bow_test_score = nn.score(cv_test_features, test_label_nums)\n",
        "print('Test Accuracy:', nn_bow_test_score)"
      ],
      "execution_count": null,
      "outputs": [
        {
          "output_type": "stream",
          "text": [
            "CV Accuracy (5-fold): [0.80645161 0.80645161 0.80645161 0.74193548 0.77419355]\n",
            "Mean CV Accuracy: 0.7870967741935484\n",
            "Test Accuracy: 0.8656716417910447\n"
          ],
          "name": "stdout"
        }
      ]
    },
    {
      "cell_type": "code",
      "metadata": {
        "colab": {
          "base_uri": "https://localhost:8080/"
        },
        "id": "kFvn29qftttg",
        "outputId": "8c2b904e-c7c4-4217-b8fa-5d12d864d216"
      },
      "source": [
        "from sklearn.neural_network.multilayer_perceptron import MLPClassifier\n",
        "\n",
        "nn = MLPClassifier(hidden_layer_sizes=(150,100), alpha=0.1, max_iter=1000, random_state=2020)\n",
        "nn.fit(cv_train_features, train_label_nums)\n",
        "nn_bow_cv_scores = cross_val_score(nn, cv_train_features, train_label_nums, cv=5)\n",
        "nn_bow_cv_mean_score = np.mean(nn_bow_cv_scores)\n",
        "print('CV Accuracy (5-fold):', nn_bow_cv_scores)\n",
        "print('Mean CV Accuracy:', nn_bow_cv_mean_score)\n",
        "nn_bow_test_score = nn.score(cv_test_features, test_label_nums)\n",
        "print('Test Accuracy:', nn_bow_test_score)"
      ],
      "execution_count": null,
      "outputs": [
        {
          "output_type": "stream",
          "text": [
            "CV Accuracy (5-fold): [0.80645161 0.80645161 0.80645161 0.80645161 0.83870968]\n",
            "Mean CV Accuracy: 0.8129032258064516\n",
            "Test Accuracy: 0.8507462686567164\n"
          ],
          "name": "stdout"
        }
      ]
    },
    {
      "cell_type": "code",
      "metadata": {
        "id": "t7oXyJSgtt1U"
      },
      "source": [
        ""
      ],
      "execution_count": null,
      "outputs": []
    },
    {
      "cell_type": "code",
      "metadata": {
        "id": "7aYjqbvBuTAj"
      },
      "source": [
        ""
      ],
      "execution_count": null,
      "outputs": []
    },
    {
      "cell_type": "code",
      "metadata": {
        "id": "n-uqqJ98tuMp"
      },
      "source": [
        ""
      ],
      "execution_count": null,
      "outputs": []
    },
    {
      "cell_type": "code",
      "metadata": {
        "id": "L37pBwwhSbS4"
      },
      "source": [
        "from sklearn.feature_extraction.text import TfidfVectorizer\n",
        "\n",
        "# build BOW features on train articles\n",
        "tv = TfidfVectorizer(use_idf=True, min_df=0.0, max_df=1.0, vocabulary = voc_1_5_filter)\n",
        "tv_train_features = tv.fit_transform(train_corpus)"
      ],
      "execution_count": null,
      "outputs": []
    },
    {
      "cell_type": "code",
      "metadata": {
        "id": "0R8kiXWkSdRt"
      },
      "source": [
        "# transform test articles into features\n",
        "tv_test_features = tv.transform(test_corpus)"
      ],
      "execution_count": null,
      "outputs": []
    },
    {
      "cell_type": "code",
      "metadata": {
        "colab": {
          "base_uri": "https://localhost:8080/"
        },
        "id": "ukw5xGKiSeeQ",
        "outputId": "c3212c8c-780a-411e-9e6c-79099281cdcf"
      },
      "source": [
        "print('TFIDF model:> Train features shape:', tv_train_features.shape, ' Test features shape:', tv_test_features.shape)"
      ],
      "execution_count": null,
      "outputs": [
        {
          "output_type": "stream",
          "text": [
            "TFIDF model:> Train features shape: (155, 311)  Test features shape: (67, 311)\n"
          ],
          "name": "stdout"
        }
      ]
    },
    {
      "cell_type": "code",
      "metadata": {
        "id": "DMvce_MoSeoS"
      },
      "source": [
        ""
      ],
      "execution_count": null,
      "outputs": []
    },
    {
      "cell_type": "code",
      "metadata": {
        "colab": {
          "base_uri": "https://localhost:8080/"
        },
        "id": "gT4I32GdSg4S",
        "outputId": "97008b00-d529-4d4e-8ced-16850c56f3e6"
      },
      "source": [
        "mnb = MultinomialNB(alpha=1)\n",
        "mnb.fit(tv_train_features, train_label_nums)\n",
        "mnb_tfidf_cv_scores = cross_val_score(mnb, tv_train_features, train_label_nums, cv=5)\n",
        "mnb_tfidf_cv_mean_score = np.mean(mnb_tfidf_cv_scores)\n",
        "print('CV Accuracy (5-fold):', mnb_tfidf_cv_scores)\n",
        "print('Mean CV Accuracy:', mnb_tfidf_cv_mean_score)\n",
        "mnb_tfidf_test_score = mnb.score(tv_test_features, test_label_nums)\n",
        "print('Test Accuracy:', mnb_tfidf_test_score)"
      ],
      "execution_count": null,
      "outputs": [
        {
          "output_type": "stream",
          "text": [
            "CV Accuracy (5-fold): [0.67741935 0.67741935 0.67741935 0.70967742 0.70967742]\n",
            "Mean CV Accuracy: 0.6903225806451614\n",
            "Test Accuracy: 0.6865671641791045\n"
          ],
          "name": "stdout"
        }
      ]
    },
    {
      "cell_type": "code",
      "metadata": {
        "colab": {
          "base_uri": "https://localhost:8080/"
        },
        "id": "SlAMRwAvSkb8",
        "outputId": "e48e415f-db95-4147-fcf3-3d8e6c941cc8"
      },
      "source": [
        "lr = LogisticRegression(penalty='l2', max_iter=100, C=1, random_state=42)\n",
        "lr.fit(tv_train_features, train_label_nums)\n",
        "lr_tfidf_cv_scores = cross_val_score(lr, tv_train_features, train_label_nums, cv=5)\n",
        "lr_tfidf_cv_mean_score = np.mean(lr_tfidf_cv_scores)\n",
        "print('CV Accuracy (5-fold):', lr_tfidf_cv_scores)\n",
        "print('Mean CV Accuracy:', lr_tfidf_cv_mean_score)\n",
        "lr_tfidf_test_score = lr.score(tv_test_features, test_label_nums)\n",
        "print('Test Accuracy:', lr_tfidf_test_score)"
      ],
      "execution_count": null,
      "outputs": [
        {
          "output_type": "stream",
          "text": [
            "CV Accuracy (5-fold): [0.67741935 0.70967742 0.74193548 0.70967742 0.70967742]\n",
            "Mean CV Accuracy: 0.7096774193548387\n",
            "Test Accuracy: 0.746268656716418\n"
          ],
          "name": "stdout"
        }
      ]
    },
    {
      "cell_type": "code",
      "metadata": {
        "colab": {
          "base_uri": "https://localhost:8080/"
        },
        "id": "kT0XG2hySyJ1",
        "outputId": "814c0e7b-cb4d-4344-8d85-b701f5a38678"
      },
      "source": [
        "svm = LinearSVC(penalty='l2', C=1, random_state=42)\n",
        "svm.fit(tv_train_features, train_label_nums)\n",
        "svm_tfidf_cv_scores = cross_val_score(svm, tv_train_features, train_label_nums, cv=5)\n",
        "svm_tfidf_cv_mean_score = np.mean(svm_tfidf_cv_scores)\n",
        "print('CV Accuracy (5-fold):', svm_tfidf_cv_scores)\n",
        "print('Mean CV Accuracy:', svm_tfidf_cv_mean_score)\n",
        "svm_tfidf_test_score = svm.score(tv_test_features, test_label_nums)\n",
        "print('Test Accuracy:', svm_tfidf_test_score)"
      ],
      "execution_count": null,
      "outputs": [
        {
          "output_type": "stream",
          "text": [
            "CV Accuracy (5-fold): [0.80645161 0.74193548 0.74193548 0.80645161 0.87096774]\n",
            "Mean CV Accuracy: 0.7935483870967742\n",
            "Test Accuracy: 0.835820895522388\n"
          ],
          "name": "stdout"
        }
      ]
    },
    {
      "cell_type": "code",
      "metadata": {
        "colab": {
          "base_uri": "https://localhost:8080/"
        },
        "id": "G2ZQFnc4S3ZF",
        "outputId": "718a622e-72fb-4e40-a8ca-7f3735b3f321"
      },
      "source": [
        "svm_sgd = SGDClassifier(loss='hinge', penalty='l2', max_iter=40, random_state=42)\n",
        "svm_sgd.fit(tv_train_features, train_label_nums)\n",
        "svmsgd_tfidf_cv_scores = cross_val_score(svm_sgd, tv_train_features, train_label_nums, cv=5)\n",
        "svmsgd_tfidf_cv_mean_score = np.mean(svmsgd_tfidf_cv_scores)\n",
        "print('CV Accuracy (5-fold):', svmsgd_tfidf_cv_scores)\n",
        "print('Mean CV Accuracy:', svmsgd_tfidf_cv_mean_score)\n",
        "svmsgd_tfidf_test_score = svm_sgd.score(tv_test_features, test_label_nums)\n",
        "print('Test Accuracy:', svmsgd_tfidf_test_score)"
      ],
      "execution_count": null,
      "outputs": [
        {
          "output_type": "stream",
          "text": [
            "CV Accuracy (5-fold): [0.80645161 0.80645161 0.77419355 0.80645161 0.83870968]\n",
            "Mean CV Accuracy: 0.8064516129032258\n",
            "Test Accuracy: 0.7910447761194029\n"
          ],
          "name": "stdout"
        }
      ]
    },
    {
      "cell_type": "code",
      "metadata": {
        "colab": {
          "base_uri": "https://localhost:8080/"
        },
        "id": "dwy-wetmUrRP",
        "outputId": "541c187e-9002-4d83-859b-c260ae820a72"
      },
      "source": [
        "from sklearn.svm import SVC\n",
        "\n",
        "svc = SVC(kernel='rbf', C=1e6)\n",
        "svc.fit(tv_train_features, train_label_nums)\n",
        "svc_tfidf_cv_scores = cross_val_score(svc, tv_train_features, train_label_nums, cv=5)\n",
        "svc_tfidf_cv_mean_score = np.mean(svc_tfidf_cv_scores)\n",
        "print('CV Accuracy (5-fold):', svc_tfidf_cv_scores)\n",
        "print('Mean CV Accuracy:', svc_tfidf_cv_mean_score)\n",
        "svc_tfidf_test_score = svc.score(tv_test_features, test_label_nums)\n",
        "print('Test Accuracy:', svc_tfidf_test_score)"
      ],
      "execution_count": null,
      "outputs": [
        {
          "output_type": "stream",
          "text": [
            "CV Accuracy (5-fold): [0.87096774 0.80645161 0.77419355 0.83870968 0.80645161]\n",
            "Mean CV Accuracy: 0.8193548387096774\n",
            "Test Accuracy: 0.8507462686567164\n"
          ],
          "name": "stdout"
        }
      ]
    },
    {
      "cell_type": "code",
      "metadata": {
        "colab": {
          "base_uri": "https://localhost:8080/"
        },
        "id": "d1UObZyBS6S3",
        "outputId": "8d2af6ae-9b6d-4a9c-8775-5f3368600187"
      },
      "source": [
        "rfc = RandomForestClassifier(n_estimators=10, random_state=42)\n",
        "rfc.fit(tv_train_features, train_label_nums)\n",
        "rfc_tfidf_cv_scores = cross_val_score(rfc, tv_train_features, train_label_nums, cv=5)\n",
        "rfc_tfidf_cv_mean_score = np.mean(rfc_tfidf_cv_scores)\n",
        "print('CV Accuracy (5-fold):', rfc_tfidf_cv_scores)\n",
        "print('Mean CV Accuracy:', rfc_tfidf_cv_mean_score)\n",
        "rfc_tfidf_test_score = rfc.score(tv_test_features, test_label_nums)\n",
        "print('Test Accuracy:', rfc_tfidf_test_score)"
      ],
      "execution_count": null,
      "outputs": [
        {
          "output_type": "stream",
          "text": [
            "CV Accuracy (5-fold): [0.77419355 0.70967742 0.80645161 0.77419355 0.74193548]\n",
            "Mean CV Accuracy: 0.7612903225806452\n",
            "Test Accuracy: 0.746268656716418\n"
          ],
          "name": "stdout"
        }
      ]
    },
    {
      "cell_type": "code",
      "metadata": {
        "colab": {
          "base_uri": "https://localhost:8080/"
        },
        "id": "tJRvlmLrjWGw",
        "outputId": "cb1a4ccf-21aa-4e0d-d21e-08d819a4c177"
      },
      "source": [
        "rfc_2 = RandomForestClassifier(n_estimators=10, random_state=42, criterion = \"entropy\")\n",
        "rfc_2.fit(cv_train_features, train_label_nums)\n",
        "rfc_bow_cv_scores_2 = cross_val_score(rfc_2, cv_train_features, train_label_nums, cv=5)\n",
        "rfc_bow_cv_mean_score_2 = np.mean(rfc_bow_cv_scores_2)\n",
        "print('CV Accuracy (5-fold):', rfc_bow_cv_scores_2)\n",
        "print('Mean CV Accuracy:', rfc_bow_cv_mean_score_2)\n",
        "rfc_bow_test_score_2 = rfc_2.score(cv_test_features, test_label_nums)\n",
        "print('Test Accuracy:', rfc_bow_test_score_2)"
      ],
      "execution_count": null,
      "outputs": [
        {
          "output_type": "stream",
          "text": [
            "CV Accuracy (5-fold): [0.77419355 0.67741935 0.77419355 0.74193548 0.74193548]\n",
            "Mean CV Accuracy: 0.7419354838709677\n",
            "Test Accuracy: 0.746268656716418\n"
          ],
          "name": "stdout"
        }
      ]
    },
    {
      "cell_type": "code",
      "metadata": {
        "colab": {
          "base_uri": "https://localhost:8080/"
        },
        "id": "NGWxI5OfTmIV",
        "outputId": "e7c16edc-9ef2-4c49-ec1f-5c592790fb8e"
      },
      "source": [
        "gbc = GradientBoostingClassifier(n_estimators=10, random_state=42)\n",
        "gbc.fit(tv_train_features, train_label_nums)\n",
        "gbc_tfidf_cv_scores = cross_val_score(gbc, tv_train_features, train_label_nums, cv=5)\n",
        "gbc_tfidf_cv_mean_score = np.mean(gbc_tfidf_cv_scores)\n",
        "print('CV Accuracy (5-fold):', gbc_tfidf_cv_scores)\n",
        "print('Mean CV Accuracy:', gbc_tfidf_cv_mean_score)\n",
        "gbc_tfidf_test_score = gbc.score(tv_test_features, test_label_nums)\n",
        "print('Test Accuracy:', gbc_tfidf_test_score)"
      ],
      "execution_count": null,
      "outputs": [
        {
          "output_type": "stream",
          "text": [
            "CV Accuracy (5-fold): [0.70967742 0.77419355 0.64516129 0.77419355 0.87096774]\n",
            "Mean CV Accuracy: 0.7548387096774194\n",
            "Test Accuracy: 0.7761194029850746\n"
          ],
          "name": "stdout"
        }
      ]
    },
    {
      "cell_type": "code",
      "metadata": {
        "colab": {
          "base_uri": "https://localhost:8080/",
          "height": 204
        },
        "id": "O6c-UiQpTuOi",
        "outputId": "a9e717aa-876c-4beb-9bb3-9bd7721f9fb6"
      },
      "source": [
        "pd.DataFrame([['Naive Bayes', mnb_bow_cv_mean_score, mnb_bow_test_score, \n",
        "               mnb_tfidf_cv_mean_score, mnb_tfidf_test_score],\n",
        "              ['Logistic Regression', lr_bow_cv_mean_score, lr_bow_test_score, \n",
        "               lr_tfidf_cv_mean_score, lr_tfidf_test_score],\n",
        "              ['Linear SVM', svm_bow_cv_mean_score, svm_bow_test_score, \n",
        "               svm_tfidf_cv_mean_score, svm_tfidf_test_score],\n",
        "              ['Linear SVM (SGD)', svmsgd_bow_cv_mean_score, svmsgd_bow_test_score, \n",
        "               svmsgd_tfidf_cv_mean_score, svmsgd_tfidf_test_score],\n",
        "              ['Random Forest', rfc_bow_cv_mean_score, rfc_bow_test_score, \n",
        "               rfc_tfidf_cv_mean_score, rfc_tfidf_test_score],\n",
        "              ['Gradient Boosted Machines', gbc_bow_cv_mean_score, gbc_bow_test_score, \n",
        "               gbc_tfidf_cv_mean_score, gbc_tfidf_test_score]],\n",
        "             columns=['Model', 'CV Score (TF)', 'Test Score (TF)', 'CV Score (TF-IDF)', 'Test Score (TF-IDF)'],\n",
        "             ).T"
      ],
      "execution_count": null,
      "outputs": [
        {
          "output_type": "execute_result",
          "data": {
            "text/html": [
              "<div>\n",
              "<style scoped>\n",
              "    .dataframe tbody tr th:only-of-type {\n",
              "        vertical-align: middle;\n",
              "    }\n",
              "\n",
              "    .dataframe tbody tr th {\n",
              "        vertical-align: top;\n",
              "    }\n",
              "\n",
              "    .dataframe thead th {\n",
              "        text-align: right;\n",
              "    }\n",
              "</style>\n",
              "<table border=\"1\" class=\"dataframe\">\n",
              "  <thead>\n",
              "    <tr style=\"text-align: right;\">\n",
              "      <th></th>\n",
              "      <th>0</th>\n",
              "      <th>1</th>\n",
              "      <th>2</th>\n",
              "      <th>3</th>\n",
              "      <th>4</th>\n",
              "      <th>5</th>\n",
              "    </tr>\n",
              "  </thead>\n",
              "  <tbody>\n",
              "    <tr>\n",
              "      <th>Model</th>\n",
              "      <td>Naive Bayes</td>\n",
              "      <td>Logistic Regression</td>\n",
              "      <td>Linear SVM</td>\n",
              "      <td>Linear SVM (SGD)</td>\n",
              "      <td>Random Forest</td>\n",
              "      <td>Gradient Boosted Machines</td>\n",
              "    </tr>\n",
              "    <tr>\n",
              "      <th>CV Score (TF)</th>\n",
              "      <td>0.651613</td>\n",
              "      <td>0.858065</td>\n",
              "      <td>0.806452</td>\n",
              "      <td>0.806452</td>\n",
              "      <td>0.774194</td>\n",
              "      <td>0.754839</td>\n",
              "    </tr>\n",
              "    <tr>\n",
              "      <th>Test Score (TF)</th>\n",
              "      <td>0.626866</td>\n",
              "      <td>0.880597</td>\n",
              "      <td>0.865672</td>\n",
              "      <td>0.895522</td>\n",
              "      <td>0.776119</td>\n",
              "      <td>0.820896</td>\n",
              "    </tr>\n",
              "    <tr>\n",
              "      <th>CV Score (TF-IDF)</th>\n",
              "      <td>0.690323</td>\n",
              "      <td>0.709677</td>\n",
              "      <td>0.793548</td>\n",
              "      <td>0.806452</td>\n",
              "      <td>0.76129</td>\n",
              "      <td>0.754839</td>\n",
              "    </tr>\n",
              "    <tr>\n",
              "      <th>Test Score (TF-IDF)</th>\n",
              "      <td>0.686567</td>\n",
              "      <td>0.746269</td>\n",
              "      <td>0.835821</td>\n",
              "      <td>0.791045</td>\n",
              "      <td>0.746269</td>\n",
              "      <td>0.776119</td>\n",
              "    </tr>\n",
              "  </tbody>\n",
              "</table>\n",
              "</div>"
            ],
            "text/plain": [
              "                               0  ...                          5\n",
              "Model                Naive Bayes  ...  Gradient Boosted Machines\n",
              "CV Score (TF)           0.651613  ...                   0.754839\n",
              "Test Score (TF)         0.626866  ...                   0.820896\n",
              "CV Score (TF-IDF)       0.690323  ...                   0.754839\n",
              "Test Score (TF-IDF)     0.686567  ...                   0.776119\n",
              "\n",
              "[5 rows x 6 columns]"
            ]
          },
          "metadata": {
            "tags": []
          },
          "execution_count": 79
        }
      ]
    },
    {
      "cell_type": "code",
      "metadata": {
        "colab": {
          "base_uri": "https://localhost:8080/"
        },
        "id": "PVO3ygTBUB2M",
        "outputId": "29be2c94-8035-4959-9beb-aa1224dc3b45"
      },
      "source": [
        "from sklearn.pipeline import Pipeline\n",
        "from sklearn.model_selection import GridSearchCV\n",
        "from sklearn.naive_bayes import MultinomialNB\n",
        "from sklearn.feature_extraction.text import TfidfVectorizer\n",
        "\n",
        "mnb_pipeline = Pipeline([('tfidf', TfidfVectorizer()),\n",
        "                        ('mnb', MultinomialNB())\n",
        "                       ])\n",
        "\n",
        "param_grid = {'tfidf__ngram_range': [(1, 1), (1, 2)],\n",
        "              'mnb__alpha': [1e-5, 1e-4, 1e-2, 1e-1, 1]\n",
        "}\n",
        "\n",
        "gs_mnb = GridSearchCV(mnb_pipeline, param_grid, cv=5, verbose=2)\n",
        "gs_mnb = gs_mnb.fit(train_corpus, train_label_nums)"
      ],
      "execution_count": null,
      "outputs": [
        {
          "output_type": "stream",
          "text": [
            "Fitting 5 folds for each of 10 candidates, totalling 50 fits\n",
            "[CV] mnb__alpha=1e-05, tfidf__ngram_range=(1, 1) .....................\n"
          ],
          "name": "stdout"
        },
        {
          "output_type": "stream",
          "text": [
            "[Parallel(n_jobs=1)]: Using backend SequentialBackend with 1 concurrent workers.\n"
          ],
          "name": "stderr"
        },
        {
          "output_type": "stream",
          "text": [
            "[CV] ...... mnb__alpha=1e-05, tfidf__ngram_range=(1, 1), total=   0.3s\n",
            "[CV] mnb__alpha=1e-05, tfidf__ngram_range=(1, 1) .....................\n"
          ],
          "name": "stdout"
        },
        {
          "output_type": "stream",
          "text": [
            "[Parallel(n_jobs=1)]: Done   1 out of   1 | elapsed:    0.3s remaining:    0.0s\n"
          ],
          "name": "stderr"
        },
        {
          "output_type": "stream",
          "text": [
            "[CV] ...... mnb__alpha=1e-05, tfidf__ngram_range=(1, 1), total=   0.3s\n",
            "[CV] mnb__alpha=1e-05, tfidf__ngram_range=(1, 1) .....................\n",
            "[CV] ...... mnb__alpha=1e-05, tfidf__ngram_range=(1, 1), total=   0.3s\n",
            "[CV] mnb__alpha=1e-05, tfidf__ngram_range=(1, 1) .....................\n",
            "[CV] ...... mnb__alpha=1e-05, tfidf__ngram_range=(1, 1), total=   0.3s\n",
            "[CV] mnb__alpha=1e-05, tfidf__ngram_range=(1, 1) .....................\n",
            "[CV] ...... mnb__alpha=1e-05, tfidf__ngram_range=(1, 1), total=   0.3s\n",
            "[CV] mnb__alpha=1e-05, tfidf__ngram_range=(1, 2) .....................\n",
            "[CV] ...... mnb__alpha=1e-05, tfidf__ngram_range=(1, 2), total=   1.1s\n",
            "[CV] mnb__alpha=1e-05, tfidf__ngram_range=(1, 2) .....................\n",
            "[CV] ...... mnb__alpha=1e-05, tfidf__ngram_range=(1, 2), total=   1.2s\n",
            "[CV] mnb__alpha=1e-05, tfidf__ngram_range=(1, 2) .....................\n",
            "[CV] ...... mnb__alpha=1e-05, tfidf__ngram_range=(1, 2), total=   1.1s\n",
            "[CV] mnb__alpha=1e-05, tfidf__ngram_range=(1, 2) .....................\n",
            "[CV] ...... mnb__alpha=1e-05, tfidf__ngram_range=(1, 2), total=   1.1s\n",
            "[CV] mnb__alpha=1e-05, tfidf__ngram_range=(1, 2) .....................\n",
            "[CV] ...... mnb__alpha=1e-05, tfidf__ngram_range=(1, 2), total=   1.1s\n",
            "[CV] mnb__alpha=0.0001, tfidf__ngram_range=(1, 1) ....................\n",
            "[CV] ..... mnb__alpha=0.0001, tfidf__ngram_range=(1, 1), total=   0.3s\n",
            "[CV] mnb__alpha=0.0001, tfidf__ngram_range=(1, 1) ....................\n",
            "[CV] ..... mnb__alpha=0.0001, tfidf__ngram_range=(1, 1), total=   0.3s\n",
            "[CV] mnb__alpha=0.0001, tfidf__ngram_range=(1, 1) ....................\n",
            "[CV] ..... mnb__alpha=0.0001, tfidf__ngram_range=(1, 1), total=   0.3s\n",
            "[CV] mnb__alpha=0.0001, tfidf__ngram_range=(1, 1) ....................\n",
            "[CV] ..... mnb__alpha=0.0001, tfidf__ngram_range=(1, 1), total=   0.3s\n",
            "[CV] mnb__alpha=0.0001, tfidf__ngram_range=(1, 1) ....................\n",
            "[CV] ..... mnb__alpha=0.0001, tfidf__ngram_range=(1, 1), total=   0.3s\n",
            "[CV] mnb__alpha=0.0001, tfidf__ngram_range=(1, 2) ....................\n",
            "[CV] ..... mnb__alpha=0.0001, tfidf__ngram_range=(1, 2), total=   1.1s\n",
            "[CV] mnb__alpha=0.0001, tfidf__ngram_range=(1, 2) ....................\n",
            "[CV] ..... mnb__alpha=0.0001, tfidf__ngram_range=(1, 2), total=   1.1s\n",
            "[CV] mnb__alpha=0.0001, tfidf__ngram_range=(1, 2) ....................\n",
            "[CV] ..... mnb__alpha=0.0001, tfidf__ngram_range=(1, 2), total=   1.1s\n",
            "[CV] mnb__alpha=0.0001, tfidf__ngram_range=(1, 2) ....................\n",
            "[CV] ..... mnb__alpha=0.0001, tfidf__ngram_range=(1, 2), total=   1.1s\n",
            "[CV] mnb__alpha=0.0001, tfidf__ngram_range=(1, 2) ....................\n",
            "[CV] ..... mnb__alpha=0.0001, tfidf__ngram_range=(1, 2), total=   1.1s\n",
            "[CV] mnb__alpha=0.01, tfidf__ngram_range=(1, 1) ......................\n",
            "[CV] ....... mnb__alpha=0.01, tfidf__ngram_range=(1, 1), total=   0.3s\n",
            "[CV] mnb__alpha=0.01, tfidf__ngram_range=(1, 1) ......................\n",
            "[CV] ....... mnb__alpha=0.01, tfidf__ngram_range=(1, 1), total=   0.3s\n",
            "[CV] mnb__alpha=0.01, tfidf__ngram_range=(1, 1) ......................\n",
            "[CV] ....... mnb__alpha=0.01, tfidf__ngram_range=(1, 1), total=   0.3s\n",
            "[CV] mnb__alpha=0.01, tfidf__ngram_range=(1, 1) ......................\n",
            "[CV] ....... mnb__alpha=0.01, tfidf__ngram_range=(1, 1), total=   0.3s\n",
            "[CV] mnb__alpha=0.01, tfidf__ngram_range=(1, 1) ......................\n",
            "[CV] ....... mnb__alpha=0.01, tfidf__ngram_range=(1, 1), total=   0.3s\n",
            "[CV] mnb__alpha=0.01, tfidf__ngram_range=(1, 2) ......................\n",
            "[CV] ....... mnb__alpha=0.01, tfidf__ngram_range=(1, 2), total=   1.1s\n",
            "[CV] mnb__alpha=0.01, tfidf__ngram_range=(1, 2) ......................\n",
            "[CV] ....... mnb__alpha=0.01, tfidf__ngram_range=(1, 2), total=   1.1s\n",
            "[CV] mnb__alpha=0.01, tfidf__ngram_range=(1, 2) ......................\n",
            "[CV] ....... mnb__alpha=0.01, tfidf__ngram_range=(1, 2), total=   1.1s\n",
            "[CV] mnb__alpha=0.01, tfidf__ngram_range=(1, 2) ......................\n",
            "[CV] ....... mnb__alpha=0.01, tfidf__ngram_range=(1, 2), total=   1.1s\n",
            "[CV] mnb__alpha=0.01, tfidf__ngram_range=(1, 2) ......................\n",
            "[CV] ....... mnb__alpha=0.01, tfidf__ngram_range=(1, 2), total=   1.1s\n",
            "[CV] mnb__alpha=0.1, tfidf__ngram_range=(1, 1) .......................\n",
            "[CV] ........ mnb__alpha=0.1, tfidf__ngram_range=(1, 1), total=   0.3s\n",
            "[CV] mnb__alpha=0.1, tfidf__ngram_range=(1, 1) .......................\n",
            "[CV] ........ mnb__alpha=0.1, tfidf__ngram_range=(1, 1), total=   0.3s\n",
            "[CV] mnb__alpha=0.1, tfidf__ngram_range=(1, 1) .......................\n",
            "[CV] ........ mnb__alpha=0.1, tfidf__ngram_range=(1, 1), total=   0.3s\n",
            "[CV] mnb__alpha=0.1, tfidf__ngram_range=(1, 1) .......................\n",
            "[CV] ........ mnb__alpha=0.1, tfidf__ngram_range=(1, 1), total=   0.4s\n",
            "[CV] mnb__alpha=0.1, tfidf__ngram_range=(1, 1) .......................\n",
            "[CV] ........ mnb__alpha=0.1, tfidf__ngram_range=(1, 1), total=   0.3s\n",
            "[CV] mnb__alpha=0.1, tfidf__ngram_range=(1, 2) .......................\n",
            "[CV] ........ mnb__alpha=0.1, tfidf__ngram_range=(1, 2), total=   1.1s\n",
            "[CV] mnb__alpha=0.1, tfidf__ngram_range=(1, 2) .......................\n",
            "[CV] ........ mnb__alpha=0.1, tfidf__ngram_range=(1, 2), total=   1.1s\n",
            "[CV] mnb__alpha=0.1, tfidf__ngram_range=(1, 2) .......................\n",
            "[CV] ........ mnb__alpha=0.1, tfidf__ngram_range=(1, 2), total=   1.1s\n",
            "[CV] mnb__alpha=0.1, tfidf__ngram_range=(1, 2) .......................\n",
            "[CV] ........ mnb__alpha=0.1, tfidf__ngram_range=(1, 2), total=   1.1s\n",
            "[CV] mnb__alpha=0.1, tfidf__ngram_range=(1, 2) .......................\n",
            "[CV] ........ mnb__alpha=0.1, tfidf__ngram_range=(1, 2), total=   1.1s\n",
            "[CV] mnb__alpha=1, tfidf__ngram_range=(1, 1) .........................\n",
            "[CV] .......... mnb__alpha=1, tfidf__ngram_range=(1, 1), total=   0.3s\n",
            "[CV] mnb__alpha=1, tfidf__ngram_range=(1, 1) .........................\n",
            "[CV] .......... mnb__alpha=1, tfidf__ngram_range=(1, 1), total=   0.3s\n",
            "[CV] mnb__alpha=1, tfidf__ngram_range=(1, 1) .........................\n",
            "[CV] .......... mnb__alpha=1, tfidf__ngram_range=(1, 1), total=   0.3s\n",
            "[CV] mnb__alpha=1, tfidf__ngram_range=(1, 1) .........................\n",
            "[CV] .......... mnb__alpha=1, tfidf__ngram_range=(1, 1), total=   0.3s\n",
            "[CV] mnb__alpha=1, tfidf__ngram_range=(1, 1) .........................\n",
            "[CV] .......... mnb__alpha=1, tfidf__ngram_range=(1, 1), total=   0.3s\n",
            "[CV] mnb__alpha=1, tfidf__ngram_range=(1, 2) .........................\n",
            "[CV] .......... mnb__alpha=1, tfidf__ngram_range=(1, 2), total=   1.1s\n",
            "[CV] mnb__alpha=1, tfidf__ngram_range=(1, 2) .........................\n",
            "[CV] .......... mnb__alpha=1, tfidf__ngram_range=(1, 2), total=   1.1s\n",
            "[CV] mnb__alpha=1, tfidf__ngram_range=(1, 2) .........................\n",
            "[CV] .......... mnb__alpha=1, tfidf__ngram_range=(1, 2), total=   1.1s\n",
            "[CV] mnb__alpha=1, tfidf__ngram_range=(1, 2) .........................\n",
            "[CV] .......... mnb__alpha=1, tfidf__ngram_range=(1, 2), total=   1.1s\n",
            "[CV] mnb__alpha=1, tfidf__ngram_range=(1, 2) .........................\n",
            "[CV] .......... mnb__alpha=1, tfidf__ngram_range=(1, 2), total=   1.1s\n"
          ],
          "name": "stdout"
        },
        {
          "output_type": "stream",
          "text": [
            "[Parallel(n_jobs=1)]: Done  50 out of  50 | elapsed:   34.9s finished\n"
          ],
          "name": "stderr"
        }
      ]
    },
    {
      "cell_type": "code",
      "metadata": {
        "id": "xmdZnLmIUB9y"
      },
      "source": [
        "gs_mnb.best_estimator_.get_params()"
      ],
      "execution_count": null,
      "outputs": []
    },
    {
      "cell_type": "code",
      "metadata": {
        "colab": {
          "base_uri": "https://localhost:8080/",
          "height": 359
        },
        "id": "FOzPskvVUCCF",
        "outputId": "81e8eb50-75d9-4af2-a991-48189c944ebf"
      },
      "source": [
        "cv_results = gs_mnb.cv_results_\n",
        "results_df = pd.DataFrame({'rank': cv_results['rank_test_score'],\n",
        "                           'params': cv_results['params'], \n",
        "                           'cv score (mean)': cv_results['mean_test_score'], \n",
        "                           'cv score (std)': cv_results['std_test_score']} \n",
        "              )\n",
        "results_df = results_df.sort_values(by=['rank'], ascending=True)\n",
        "pd.set_option('display.max_colwidth', 100)\n",
        "results_df"
      ],
      "execution_count": null,
      "outputs": [
        {
          "output_type": "execute_result",
          "data": {
            "text/html": [
              "<div>\n",
              "<style scoped>\n",
              "    .dataframe tbody tr th:only-of-type {\n",
              "        vertical-align: middle;\n",
              "    }\n",
              "\n",
              "    .dataframe tbody tr th {\n",
              "        vertical-align: top;\n",
              "    }\n",
              "\n",
              "    .dataframe thead th {\n",
              "        text-align: right;\n",
              "    }\n",
              "</style>\n",
              "<table border=\"1\" class=\"dataframe\">\n",
              "  <thead>\n",
              "    <tr style=\"text-align: right;\">\n",
              "      <th></th>\n",
              "      <th>rank</th>\n",
              "      <th>params</th>\n",
              "      <th>cv score (mean)</th>\n",
              "      <th>cv score (std)</th>\n",
              "    </tr>\n",
              "  </thead>\n",
              "  <tbody>\n",
              "    <tr>\n",
              "      <th>4</th>\n",
              "      <td>1</td>\n",
              "      <td>{'mnb__alpha': 0.01, 'tfidf__ngram_range': (1, 1)}</td>\n",
              "      <td>0.722581</td>\n",
              "      <td>0.025806</td>\n",
              "    </tr>\n",
              "    <tr>\n",
              "      <th>0</th>\n",
              "      <td>2</td>\n",
              "      <td>{'mnb__alpha': 1e-05, 'tfidf__ngram_range': (1, 1)}</td>\n",
              "      <td>0.709677</td>\n",
              "      <td>0.020402</td>\n",
              "    </tr>\n",
              "    <tr>\n",
              "      <th>2</th>\n",
              "      <td>2</td>\n",
              "      <td>{'mnb__alpha': 0.0001, 'tfidf__ngram_range': (1, 1)}</td>\n",
              "      <td>0.709677</td>\n",
              "      <td>0.020402</td>\n",
              "    </tr>\n",
              "    <tr>\n",
              "      <th>3</th>\n",
              "      <td>4</td>\n",
              "      <td>{'mnb__alpha': 0.0001, 'tfidf__ngram_range': (1, 2)}</td>\n",
              "      <td>0.696774</td>\n",
              "      <td>0.015803</td>\n",
              "    </tr>\n",
              "    <tr>\n",
              "      <th>5</th>\n",
              "      <td>4</td>\n",
              "      <td>{'mnb__alpha': 0.01, 'tfidf__ngram_range': (1, 2)}</td>\n",
              "      <td>0.696774</td>\n",
              "      <td>0.015803</td>\n",
              "    </tr>\n",
              "    <tr>\n",
              "      <th>1</th>\n",
              "      <td>6</td>\n",
              "      <td>{'mnb__alpha': 1e-05, 'tfidf__ngram_range': (1, 2)}</td>\n",
              "      <td>0.690323</td>\n",
              "      <td>0.015803</td>\n",
              "    </tr>\n",
              "    <tr>\n",
              "      <th>6</th>\n",
              "      <td>6</td>\n",
              "      <td>{'mnb__alpha': 0.1, 'tfidf__ngram_range': (1, 1)}</td>\n",
              "      <td>0.690323</td>\n",
              "      <td>0.015803</td>\n",
              "    </tr>\n",
              "    <tr>\n",
              "      <th>7</th>\n",
              "      <td>6</td>\n",
              "      <td>{'mnb__alpha': 0.1, 'tfidf__ngram_range': (1, 2)}</td>\n",
              "      <td>0.690323</td>\n",
              "      <td>0.015803</td>\n",
              "    </tr>\n",
              "    <tr>\n",
              "      <th>8</th>\n",
              "      <td>6</td>\n",
              "      <td>{'mnb__alpha': 1, 'tfidf__ngram_range': (1, 1)}</td>\n",
              "      <td>0.690323</td>\n",
              "      <td>0.015803</td>\n",
              "    </tr>\n",
              "    <tr>\n",
              "      <th>9</th>\n",
              "      <td>6</td>\n",
              "      <td>{'mnb__alpha': 1, 'tfidf__ngram_range': (1, 2)}</td>\n",
              "      <td>0.690323</td>\n",
              "      <td>0.015803</td>\n",
              "    </tr>\n",
              "  </tbody>\n",
              "</table>\n",
              "</div>"
            ],
            "text/plain": [
              "   rank  ... cv score (std)\n",
              "4     1  ...       0.025806\n",
              "0     2  ...       0.020402\n",
              "2     2  ...       0.020402\n",
              "3     4  ...       0.015803\n",
              "5     4  ...       0.015803\n",
              "1     6  ...       0.015803\n",
              "6     6  ...       0.015803\n",
              "7     6  ...       0.015803\n",
              "8     6  ...       0.015803\n",
              "9     6  ...       0.015803\n",
              "\n",
              "[10 rows x 4 columns]"
            ]
          },
          "metadata": {
            "tags": []
          },
          "execution_count": 65
        }
      ]
    },
    {
      "cell_type": "code",
      "metadata": {
        "colab": {
          "base_uri": "https://localhost:8080/"
        },
        "id": "aJOhlnY6UN9C",
        "outputId": "515575e5-cba1-4c75-b489-b31959bf82a1"
      },
      "source": [
        "best_mnb_test_score = gs_mnb.score(test_corpus, test_label_nums)\n",
        "print('Test Accuracy :', best_mnb_test_score)"
      ],
      "execution_count": null,
      "outputs": [
        {
          "output_type": "stream",
          "text": [
            "Test Accuracy : 0.746268656716418\n"
          ],
          "name": "stdout"
        }
      ]
    },
    {
      "cell_type": "code",
      "metadata": {
        "id": "8qWpPNjaUODw"
      },
      "source": [
        "from sklearn.linear_model import LogisticRegression, SGDClassifier\n",
        "from sklearn.svm import LinearSVC"
      ],
      "execution_count": null,
      "outputs": []
    },
    {
      "cell_type": "code",
      "metadata": {
        "colab": {
          "base_uri": "https://localhost:8080/"
        },
        "id": "_5sdnx0RUOJw",
        "outputId": "ed37d73a-5ea1-4856-db5f-e8e6a555cf9c"
      },
      "source": [
        "from sklearn.pipeline import Pipeline\n",
        "from sklearn.model_selection import GridSearchCV\n",
        "\n",
        "lr_pipeline = Pipeline([('tfidf', TfidfVectorizer()),\n",
        "                        ('lr', LogisticRegression(penalty='l2', max_iter=100, random_state=42))\n",
        "                       ])\n",
        "\n",
        "param_grid = {'tfidf__ngram_range': [(1, 1), (1, 2)],\n",
        "              'lr__C': [1, 5, 10]\n",
        "}\n",
        "\n",
        "gs_lr = GridSearchCV(lr_pipeline, param_grid, cv=5, verbose=2)\n",
        "gs_lr = gs_lr.fit(train_corpus, train_label_nums)"
      ],
      "execution_count": null,
      "outputs": [
        {
          "output_type": "stream",
          "text": [
            "Fitting 5 folds for each of 6 candidates, totalling 30 fits\n",
            "[CV] lr__C=1, tfidf__ngram_range=(1, 1) ..............................\n"
          ],
          "name": "stdout"
        },
        {
          "output_type": "stream",
          "text": [
            "[Parallel(n_jobs=1)]: Using backend SequentialBackend with 1 concurrent workers.\n"
          ],
          "name": "stderr"
        },
        {
          "output_type": "stream",
          "text": [
            "[CV] ............... lr__C=1, tfidf__ngram_range=(1, 1), total=   0.4s\n",
            "[CV] lr__C=1, tfidf__ngram_range=(1, 1) ..............................\n"
          ],
          "name": "stdout"
        },
        {
          "output_type": "stream",
          "text": [
            "[Parallel(n_jobs=1)]: Done   1 out of   1 | elapsed:    0.5s remaining:    0.0s\n"
          ],
          "name": "stderr"
        },
        {
          "output_type": "stream",
          "text": [
            "[CV] ............... lr__C=1, tfidf__ngram_range=(1, 1), total=   0.5s\n",
            "[CV] lr__C=1, tfidf__ngram_range=(1, 1) ..............................\n",
            "[CV] ............... lr__C=1, tfidf__ngram_range=(1, 1), total=   0.4s\n",
            "[CV] lr__C=1, tfidf__ngram_range=(1, 1) ..............................\n",
            "[CV] ............... lr__C=1, tfidf__ngram_range=(1, 1), total=   0.5s\n",
            "[CV] lr__C=1, tfidf__ngram_range=(1, 1) ..............................\n",
            "[CV] ............... lr__C=1, tfidf__ngram_range=(1, 1), total=   0.5s\n",
            "[CV] lr__C=1, tfidf__ngram_range=(1, 2) ..............................\n",
            "[CV] ............... lr__C=1, tfidf__ngram_range=(1, 2), total=   3.0s\n",
            "[CV] lr__C=1, tfidf__ngram_range=(1, 2) ..............................\n",
            "[CV] ............... lr__C=1, tfidf__ngram_range=(1, 2), total=   3.1s\n",
            "[CV] lr__C=1, tfidf__ngram_range=(1, 2) ..............................\n",
            "[CV] ............... lr__C=1, tfidf__ngram_range=(1, 2), total=   2.9s\n",
            "[CV] lr__C=1, tfidf__ngram_range=(1, 2) ..............................\n",
            "[CV] ............... lr__C=1, tfidf__ngram_range=(1, 2), total=   2.9s\n",
            "[CV] lr__C=1, tfidf__ngram_range=(1, 2) ..............................\n",
            "[CV] ............... lr__C=1, tfidf__ngram_range=(1, 2), total=   2.8s\n",
            "[CV] lr__C=5, tfidf__ngram_range=(1, 1) ..............................\n",
            "[CV] ............... lr__C=5, tfidf__ngram_range=(1, 1), total=   0.6s\n",
            "[CV] lr__C=5, tfidf__ngram_range=(1, 1) ..............................\n",
            "[CV] ............... lr__C=5, tfidf__ngram_range=(1, 1), total=   0.5s\n",
            "[CV] lr__C=5, tfidf__ngram_range=(1, 1) ..............................\n",
            "[CV] ............... lr__C=5, tfidf__ngram_range=(1, 1), total=   0.7s\n",
            "[CV] lr__C=5, tfidf__ngram_range=(1, 1) ..............................\n",
            "[CV] ............... lr__C=5, tfidf__ngram_range=(1, 1), total=   0.5s\n",
            "[CV] lr__C=5, tfidf__ngram_range=(1, 1) ..............................\n",
            "[CV] ............... lr__C=5, tfidf__ngram_range=(1, 1), total=   0.5s\n",
            "[CV] lr__C=5, tfidf__ngram_range=(1, 2) ..............................\n",
            "[CV] ............... lr__C=5, tfidf__ngram_range=(1, 2), total=   4.8s\n",
            "[CV] lr__C=5, tfidf__ngram_range=(1, 2) ..............................\n",
            "[CV] ............... lr__C=5, tfidf__ngram_range=(1, 2), total=   5.2s\n",
            "[CV] lr__C=5, tfidf__ngram_range=(1, 2) ..............................\n",
            "[CV] ............... lr__C=5, tfidf__ngram_range=(1, 2), total=   4.2s\n",
            "[CV] lr__C=5, tfidf__ngram_range=(1, 2) ..............................\n",
            "[CV] ............... lr__C=5, tfidf__ngram_range=(1, 2), total=   5.0s\n",
            "[CV] lr__C=5, tfidf__ngram_range=(1, 2) ..............................\n",
            "[CV] ............... lr__C=5, tfidf__ngram_range=(1, 2), total=   5.1s\n",
            "[CV] lr__C=10, tfidf__ngram_range=(1, 1) .............................\n",
            "[CV] .............. lr__C=10, tfidf__ngram_range=(1, 1), total=   0.7s\n",
            "[CV] lr__C=10, tfidf__ngram_range=(1, 1) .............................\n",
            "[CV] .............. lr__C=10, tfidf__ngram_range=(1, 1), total=   0.7s\n",
            "[CV] lr__C=10, tfidf__ngram_range=(1, 1) .............................\n",
            "[CV] .............. lr__C=10, tfidf__ngram_range=(1, 1), total=   0.7s\n",
            "[CV] lr__C=10, tfidf__ngram_range=(1, 1) .............................\n",
            "[CV] .............. lr__C=10, tfidf__ngram_range=(1, 1), total=   0.6s\n",
            "[CV] lr__C=10, tfidf__ngram_range=(1, 1) .............................\n",
            "[CV] .............. lr__C=10, tfidf__ngram_range=(1, 1), total=   0.6s\n",
            "[CV] lr__C=10, tfidf__ngram_range=(1, 2) .............................\n",
            "[CV] .............. lr__C=10, tfidf__ngram_range=(1, 2), total=   6.2s\n",
            "[CV] lr__C=10, tfidf__ngram_range=(1, 2) .............................\n",
            "[CV] .............. lr__C=10, tfidf__ngram_range=(1, 2), total=   5.5s\n",
            "[CV] lr__C=10, tfidf__ngram_range=(1, 2) .............................\n",
            "[CV] .............. lr__C=10, tfidf__ngram_range=(1, 2), total=   5.6s\n",
            "[CV] lr__C=10, tfidf__ngram_range=(1, 2) .............................\n",
            "[CV] .............. lr__C=10, tfidf__ngram_range=(1, 2), total=   5.6s\n",
            "[CV] lr__C=10, tfidf__ngram_range=(1, 2) .............................\n",
            "[CV] .............. lr__C=10, tfidf__ngram_range=(1, 2), total=   5.7s\n"
          ],
          "name": "stdout"
        },
        {
          "output_type": "stream",
          "text": [
            "[Parallel(n_jobs=1)]: Done  30 out of  30 | elapsed:  1.3min finished\n"
          ],
          "name": "stderr"
        }
      ]
    },
    {
      "cell_type": "code",
      "metadata": {
        "colab": {
          "base_uri": "https://localhost:8080/"
        },
        "id": "56ks9YIkUV7J",
        "outputId": "fa0c0c48-e07f-495c-c58a-26ad223dec42"
      },
      "source": [
        "gs_lr.best_estimator_"
      ],
      "execution_count": null,
      "outputs": [
        {
          "output_type": "execute_result",
          "data": {
            "text/plain": [
              "Pipeline(memory=None,\n",
              "         steps=[('tfidf',\n",
              "                 TfidfVectorizer(analyzer='word', binary=False,\n",
              "                                 decode_error='strict',\n",
              "                                 dtype=<class 'numpy.float64'>,\n",
              "                                 encoding='utf-8', input='content',\n",
              "                                 lowercase=True, max_df=1.0, max_features=None,\n",
              "                                 min_df=1, ngram_range=(1, 1), norm='l2',\n",
              "                                 preprocessor=None, smooth_idf=True,\n",
              "                                 stop_words=None, strip_accents=None,\n",
              "                                 sublinear_tf=False,\n",
              "                                 token_pattern='(?u)\\\\b\\\\w\\\\w+\\\\b',\n",
              "                                 tokenizer=None, use_idf=True,\n",
              "                                 vocabulary=None)),\n",
              "                ('lr',\n",
              "                 LogisticRegression(C=10, class_weight=None, dual=False,\n",
              "                                    fit_intercept=True, intercept_scaling=1,\n",
              "                                    l1_ratio=None, max_iter=100,\n",
              "                                    multi_class='auto', n_jobs=None,\n",
              "                                    penalty='l2', random_state=42,\n",
              "                                    solver='lbfgs', tol=0.0001, verbose=0,\n",
              "                                    warm_start=False))],\n",
              "         verbose=False)"
            ]
          },
          "metadata": {
            "tags": []
          },
          "execution_count": 69
        }
      ]
    },
    {
      "cell_type": "code",
      "metadata": {
        "colab": {
          "base_uri": "https://localhost:8080/"
        },
        "id": "PwfgW2kAUZUa",
        "outputId": "f07ba40d-14e7-428a-a526-702a52c739a8"
      },
      "source": [
        "best_lr_test_score = gs_lr.score(test_corpus, test_label_nums)\n",
        "print('Test Accuracy :', best_lr_test_score)"
      ],
      "execution_count": null,
      "outputs": [
        {
          "output_type": "stream",
          "text": [
            "Test Accuracy : 0.7910447761194029\n"
          ],
          "name": "stdout"
        }
      ]
    },
    {
      "cell_type": "code",
      "metadata": {
        "id": "mUFUwonGUZYg"
      },
      "source": [
        ""
      ],
      "execution_count": null,
      "outputs": []
    },
    {
      "cell_type": "code",
      "metadata": {
        "id": "-Yrs4cveUZce"
      },
      "source": [
        ""
      ],
      "execution_count": null,
      "outputs": []
    },
    {
      "cell_type": "code",
      "metadata": {
        "colab": {
          "base_uri": "https://localhost:8080/"
        },
        "id": "94n7PXncUZgR",
        "outputId": "9e555ae2-ceab-4fa9-80a9-a5bceec60c8e"
      },
      "source": [
        "from sklearn.pipeline import Pipeline\n",
        "from sklearn.model_selection import GridSearchCV\n",
        "\n",
        "svm_pipeline = Pipeline([('tfidf', TfidfVectorizer()),\n",
        "                        ('svm', LinearSVC(random_state=42))\n",
        "                       ])\n",
        "\n",
        "param_grid = {'tfidf__ngram_range': [(1, 1), (1, 2)],\n",
        "              'svm__C': [0.01, 0.1, 1, 5]\n",
        "}\n",
        "\n",
        "gs_svm = GridSearchCV(svm_pipeline, param_grid, cv=5, verbose=2)\n",
        "gs_svm = gs_svm.fit(train_corpus, train_label_nums)"
      ],
      "execution_count": null,
      "outputs": [
        {
          "output_type": "stream",
          "text": [
            "Fitting 5 folds for each of 8 candidates, totalling 40 fits\n",
            "[CV] svm__C=0.01, tfidf__ngram_range=(1, 1) ..........................\n"
          ],
          "name": "stdout"
        },
        {
          "output_type": "stream",
          "text": [
            "[Parallel(n_jobs=1)]: Using backend SequentialBackend with 1 concurrent workers.\n"
          ],
          "name": "stderr"
        },
        {
          "output_type": "stream",
          "text": [
            "[CV] ........... svm__C=0.01, tfidf__ngram_range=(1, 1), total=   0.3s\n",
            "[CV] svm__C=0.01, tfidf__ngram_range=(1, 1) ..........................\n"
          ],
          "name": "stdout"
        },
        {
          "output_type": "stream",
          "text": [
            "[Parallel(n_jobs=1)]: Done   1 out of   1 | elapsed:    0.3s remaining:    0.0s\n"
          ],
          "name": "stderr"
        },
        {
          "output_type": "stream",
          "text": [
            "[CV] ........... svm__C=0.01, tfidf__ngram_range=(1, 1), total=   0.3s\n",
            "[CV] svm__C=0.01, tfidf__ngram_range=(1, 1) ..........................\n",
            "[CV] ........... svm__C=0.01, tfidf__ngram_range=(1, 1), total=   0.3s\n",
            "[CV] svm__C=0.01, tfidf__ngram_range=(1, 1) ..........................\n",
            "[CV] ........... svm__C=0.01, tfidf__ngram_range=(1, 1), total=   0.3s\n",
            "[CV] svm__C=0.01, tfidf__ngram_range=(1, 1) ..........................\n",
            "[CV] ........... svm__C=0.01, tfidf__ngram_range=(1, 1), total=   0.3s\n",
            "[CV] svm__C=0.01, tfidf__ngram_range=(1, 2) ..........................\n",
            "[CV] ........... svm__C=0.01, tfidf__ngram_range=(1, 2), total=   1.3s\n",
            "[CV] svm__C=0.01, tfidf__ngram_range=(1, 2) ..........................\n",
            "[CV] ........... svm__C=0.01, tfidf__ngram_range=(1, 2), total=   1.2s\n",
            "[CV] svm__C=0.01, tfidf__ngram_range=(1, 2) ..........................\n",
            "[CV] ........... svm__C=0.01, tfidf__ngram_range=(1, 2), total=   1.2s\n",
            "[CV] svm__C=0.01, tfidf__ngram_range=(1, 2) ..........................\n",
            "[CV] ........... svm__C=0.01, tfidf__ngram_range=(1, 2), total=   1.2s\n",
            "[CV] svm__C=0.01, tfidf__ngram_range=(1, 2) ..........................\n",
            "[CV] ........... svm__C=0.01, tfidf__ngram_range=(1, 2), total=   1.2s\n",
            "[CV] svm__C=0.1, tfidf__ngram_range=(1, 1) ...........................\n",
            "[CV] ............ svm__C=0.1, tfidf__ngram_range=(1, 1), total=   0.3s\n",
            "[CV] svm__C=0.1, tfidf__ngram_range=(1, 1) ...........................\n",
            "[CV] ............ svm__C=0.1, tfidf__ngram_range=(1, 1), total=   0.3s\n",
            "[CV] svm__C=0.1, tfidf__ngram_range=(1, 1) ...........................\n",
            "[CV] ............ svm__C=0.1, tfidf__ngram_range=(1, 1), total=   0.3s\n",
            "[CV] svm__C=0.1, tfidf__ngram_range=(1, 1) ...........................\n",
            "[CV] ............ svm__C=0.1, tfidf__ngram_range=(1, 1), total=   0.3s\n",
            "[CV] svm__C=0.1, tfidf__ngram_range=(1, 1) ...........................\n",
            "[CV] ............ svm__C=0.1, tfidf__ngram_range=(1, 1), total=   0.3s\n",
            "[CV] svm__C=0.1, tfidf__ngram_range=(1, 2) ...........................\n",
            "[CV] ............ svm__C=0.1, tfidf__ngram_range=(1, 2), total=   1.2s\n",
            "[CV] svm__C=0.1, tfidf__ngram_range=(1, 2) ...........................\n",
            "[CV] ............ svm__C=0.1, tfidf__ngram_range=(1, 2), total=   1.2s\n",
            "[CV] svm__C=0.1, tfidf__ngram_range=(1, 2) ...........................\n",
            "[CV] ............ svm__C=0.1, tfidf__ngram_range=(1, 2), total=   1.1s\n",
            "[CV] svm__C=0.1, tfidf__ngram_range=(1, 2) ...........................\n",
            "[CV] ............ svm__C=0.1, tfidf__ngram_range=(1, 2), total=   1.2s\n",
            "[CV] svm__C=0.1, tfidf__ngram_range=(1, 2) ...........................\n",
            "[CV] ............ svm__C=0.1, tfidf__ngram_range=(1, 2), total=   1.2s\n",
            "[CV] svm__C=1, tfidf__ngram_range=(1, 1) .............................\n",
            "[CV] .............. svm__C=1, tfidf__ngram_range=(1, 1), total=   0.3s\n",
            "[CV] svm__C=1, tfidf__ngram_range=(1, 1) .............................\n",
            "[CV] .............. svm__C=1, tfidf__ngram_range=(1, 1), total=   0.3s\n",
            "[CV] svm__C=1, tfidf__ngram_range=(1, 1) .............................\n",
            "[CV] .............. svm__C=1, tfidf__ngram_range=(1, 1), total=   0.3s\n",
            "[CV] svm__C=1, tfidf__ngram_range=(1, 1) .............................\n",
            "[CV] .............. svm__C=1, tfidf__ngram_range=(1, 1), total=   0.3s\n",
            "[CV] svm__C=1, tfidf__ngram_range=(1, 1) .............................\n",
            "[CV] .............. svm__C=1, tfidf__ngram_range=(1, 1), total=   0.3s\n",
            "[CV] svm__C=1, tfidf__ngram_range=(1, 2) .............................\n",
            "[CV] .............. svm__C=1, tfidf__ngram_range=(1, 2), total=   1.3s\n",
            "[CV] svm__C=1, tfidf__ngram_range=(1, 2) .............................\n",
            "[CV] .............. svm__C=1, tfidf__ngram_range=(1, 2), total=   1.2s\n",
            "[CV] svm__C=1, tfidf__ngram_range=(1, 2) .............................\n",
            "[CV] .............. svm__C=1, tfidf__ngram_range=(1, 2), total=   1.2s\n",
            "[CV] svm__C=1, tfidf__ngram_range=(1, 2) .............................\n",
            "[CV] .............. svm__C=1, tfidf__ngram_range=(1, 2), total=   1.2s\n",
            "[CV] svm__C=1, tfidf__ngram_range=(1, 2) .............................\n",
            "[CV] .............. svm__C=1, tfidf__ngram_range=(1, 2), total=   1.2s\n",
            "[CV] svm__C=5, tfidf__ngram_range=(1, 1) .............................\n",
            "[CV] .............. svm__C=5, tfidf__ngram_range=(1, 1), total=   0.3s\n",
            "[CV] svm__C=5, tfidf__ngram_range=(1, 1) .............................\n",
            "[CV] .............. svm__C=5, tfidf__ngram_range=(1, 1), total=   0.3s\n",
            "[CV] svm__C=5, tfidf__ngram_range=(1, 1) .............................\n",
            "[CV] .............. svm__C=5, tfidf__ngram_range=(1, 1), total=   0.3s\n",
            "[CV] svm__C=5, tfidf__ngram_range=(1, 1) .............................\n",
            "[CV] .............. svm__C=5, tfidf__ngram_range=(1, 1), total=   0.3s\n",
            "[CV] svm__C=5, tfidf__ngram_range=(1, 1) .............................\n",
            "[CV] .............. svm__C=5, tfidf__ngram_range=(1, 1), total=   0.3s\n",
            "[CV] svm__C=5, tfidf__ngram_range=(1, 2) .............................\n",
            "[CV] .............. svm__C=5, tfidf__ngram_range=(1, 2), total=   1.3s\n",
            "[CV] svm__C=5, tfidf__ngram_range=(1, 2) .............................\n",
            "[CV] .............. svm__C=5, tfidf__ngram_range=(1, 2), total=   1.3s\n",
            "[CV] svm__C=5, tfidf__ngram_range=(1, 2) .............................\n",
            "[CV] .............. svm__C=5, tfidf__ngram_range=(1, 2), total=   1.3s\n",
            "[CV] svm__C=5, tfidf__ngram_range=(1, 2) .............................\n",
            "[CV] .............. svm__C=5, tfidf__ngram_range=(1, 2), total=   1.3s\n",
            "[CV] svm__C=5, tfidf__ngram_range=(1, 2) .............................\n",
            "[CV] .............. svm__C=5, tfidf__ngram_range=(1, 2), total=   1.3s\n"
          ],
          "name": "stdout"
        },
        {
          "output_type": "stream",
          "text": [
            "[Parallel(n_jobs=1)]: Done  40 out of  40 | elapsed:   31.0s finished\n"
          ],
          "name": "stderr"
        }
      ]
    },
    {
      "cell_type": "code",
      "metadata": {
        "colab": {
          "base_uri": "https://localhost:8080/"
        },
        "id": "A2y2Vmi5UZjs",
        "outputId": "47e8b2d7-2533-42bc-cb0f-1460a984e8bd"
      },
      "source": [
        "gs_svm.best_estimator_.get_params()"
      ],
      "execution_count": null,
      "outputs": [
        {
          "output_type": "execute_result",
          "data": {
            "text/plain": [
              "{'memory': None,\n",
              " 'steps': [('tfidf',\n",
              "   TfidfVectorizer(analyzer='word', binary=False, decode_error='strict',\n",
              "                   dtype=<class 'numpy.float64'>, encoding='utf-8',\n",
              "                   input='content', lowercase=True, max_df=1.0, max_features=None,\n",
              "                   min_df=1, ngram_range=(1, 1), norm='l2', preprocessor=None,\n",
              "                   smooth_idf=True, stop_words=None, strip_accents=None,\n",
              "                   sublinear_tf=False, token_pattern='(?u)\\\\b\\\\w\\\\w+\\\\b',\n",
              "                   tokenizer=None, use_idf=True, vocabulary=None)),\n",
              "  ('svm', LinearSVC(C=5, class_weight=None, dual=True, fit_intercept=True,\n",
              "             intercept_scaling=1, loss='squared_hinge', max_iter=1000,\n",
              "             multi_class='ovr', penalty='l2', random_state=42, tol=0.0001,\n",
              "             verbose=0))],\n",
              " 'svm': LinearSVC(C=5, class_weight=None, dual=True, fit_intercept=True,\n",
              "           intercept_scaling=1, loss='squared_hinge', max_iter=1000,\n",
              "           multi_class='ovr', penalty='l2', random_state=42, tol=0.0001,\n",
              "           verbose=0),\n",
              " 'svm__C': 5,\n",
              " 'svm__class_weight': None,\n",
              " 'svm__dual': True,\n",
              " 'svm__fit_intercept': True,\n",
              " 'svm__intercept_scaling': 1,\n",
              " 'svm__loss': 'squared_hinge',\n",
              " 'svm__max_iter': 1000,\n",
              " 'svm__multi_class': 'ovr',\n",
              " 'svm__penalty': 'l2',\n",
              " 'svm__random_state': 42,\n",
              " 'svm__tol': 0.0001,\n",
              " 'svm__verbose': 0,\n",
              " 'tfidf': TfidfVectorizer(analyzer='word', binary=False, decode_error='strict',\n",
              "                 dtype=<class 'numpy.float64'>, encoding='utf-8',\n",
              "                 input='content', lowercase=True, max_df=1.0, max_features=None,\n",
              "                 min_df=1, ngram_range=(1, 1), norm='l2', preprocessor=None,\n",
              "                 smooth_idf=True, stop_words=None, strip_accents=None,\n",
              "                 sublinear_tf=False, token_pattern='(?u)\\\\b\\\\w\\\\w+\\\\b',\n",
              "                 tokenizer=None, use_idf=True, vocabulary=None),\n",
              " 'tfidf__analyzer': 'word',\n",
              " 'tfidf__binary': False,\n",
              " 'tfidf__decode_error': 'strict',\n",
              " 'tfidf__dtype': numpy.float64,\n",
              " 'tfidf__encoding': 'utf-8',\n",
              " 'tfidf__input': 'content',\n",
              " 'tfidf__lowercase': True,\n",
              " 'tfidf__max_df': 1.0,\n",
              " 'tfidf__max_features': None,\n",
              " 'tfidf__min_df': 1,\n",
              " 'tfidf__ngram_range': (1, 1),\n",
              " 'tfidf__norm': 'l2',\n",
              " 'tfidf__preprocessor': None,\n",
              " 'tfidf__smooth_idf': True,\n",
              " 'tfidf__stop_words': None,\n",
              " 'tfidf__strip_accents': None,\n",
              " 'tfidf__sublinear_tf': False,\n",
              " 'tfidf__token_pattern': '(?u)\\\\b\\\\w\\\\w+\\\\b',\n",
              " 'tfidf__tokenizer': None,\n",
              " 'tfidf__use_idf': True,\n",
              " 'tfidf__vocabulary': None,\n",
              " 'verbose': False}"
            ]
          },
          "metadata": {
            "tags": []
          },
          "execution_count": 72
        }
      ]
    },
    {
      "cell_type": "code",
      "metadata": {
        "colab": {
          "base_uri": "https://localhost:8080/"
        },
        "id": "mPzfnHxwUZnI",
        "outputId": "839c10f4-a9b0-4bab-eed7-c212ccb17d96"
      },
      "source": [
        "best_svm_test_score = gs_svm.score(test_corpus, test_label_nums)\n",
        "print('Test Accuracy :', best_svm_test_score)"
      ],
      "execution_count": null,
      "outputs": [
        {
          "output_type": "stream",
          "text": [
            "Test Accuracy : 0.835820895522388\n"
          ],
          "name": "stdout"
        }
      ]
    },
    {
      "cell_type": "code",
      "metadata": {
        "id": "i7TsEoALUgkL"
      },
      "source": [
        ""
      ],
      "execution_count": null,
      "outputs": []
    },
    {
      "cell_type": "code",
      "metadata": {
        "colab": {
          "base_uri": "https://localhost:8080/"
        },
        "id": "IvgLy74BUgog",
        "outputId": "8a61865f-2828-45e8-9bf5-762a769e1969"
      },
      "source": [
        "from sklearn.pipeline import Pipeline\n",
        "from sklearn.model_selection import GridSearchCV\n",
        "\n",
        "sgd_pipeline = Pipeline([('tfidf', TfidfVectorizer()),\n",
        "                        ('sgd', SGDClassifier(random_state=42))\n",
        "                       ])\n",
        "\n",
        "param_grid = {'tfidf__ngram_range': [(1, 1), (1, 2)],\n",
        "              'sgd__alpha': [1e-7, 1e-6, 1e-5, 1e-4]\n",
        "}\n",
        "\n",
        "gs_sgd = GridSearchCV(sgd_pipeline, param_grid, cv=5, verbose=2)\n",
        "gs_sgd = gs_sgd.fit(train_corpus, train_label_nums)"
      ],
      "execution_count": null,
      "outputs": [
        {
          "output_type": "stream",
          "text": [
            "Fitting 5 folds for each of 8 candidates, totalling 40 fits\n",
            "[CV] sgd__alpha=1e-07, tfidf__ngram_range=(1, 1) .....................\n"
          ],
          "name": "stdout"
        },
        {
          "output_type": "stream",
          "text": [
            "[Parallel(n_jobs=1)]: Using backend SequentialBackend with 1 concurrent workers.\n"
          ],
          "name": "stderr"
        },
        {
          "output_type": "stream",
          "text": [
            "[CV] ...... sgd__alpha=1e-07, tfidf__ngram_range=(1, 1), total=   0.3s\n",
            "[CV] sgd__alpha=1e-07, tfidf__ngram_range=(1, 1) .....................\n"
          ],
          "name": "stdout"
        },
        {
          "output_type": "stream",
          "text": [
            "[Parallel(n_jobs=1)]: Done   1 out of   1 | elapsed:    0.3s remaining:    0.0s\n"
          ],
          "name": "stderr"
        },
        {
          "output_type": "stream",
          "text": [
            "[CV] ...... sgd__alpha=1e-07, tfidf__ngram_range=(1, 1), total=   0.3s\n",
            "[CV] sgd__alpha=1e-07, tfidf__ngram_range=(1, 1) .....................\n",
            "[CV] ...... sgd__alpha=1e-07, tfidf__ngram_range=(1, 1), total=   0.3s\n",
            "[CV] sgd__alpha=1e-07, tfidf__ngram_range=(1, 1) .....................\n",
            "[CV] ...... sgd__alpha=1e-07, tfidf__ngram_range=(1, 1), total=   0.3s\n",
            "[CV] sgd__alpha=1e-07, tfidf__ngram_range=(1, 1) .....................\n",
            "[CV] ...... sgd__alpha=1e-07, tfidf__ngram_range=(1, 1), total=   0.3s\n",
            "[CV] sgd__alpha=1e-07, tfidf__ngram_range=(1, 2) .....................\n",
            "[CV] ...... sgd__alpha=1e-07, tfidf__ngram_range=(1, 2), total=   1.2s\n",
            "[CV] sgd__alpha=1e-07, tfidf__ngram_range=(1, 2) .....................\n",
            "[CV] ...... sgd__alpha=1e-07, tfidf__ngram_range=(1, 2), total=   1.2s\n",
            "[CV] sgd__alpha=1e-07, tfidf__ngram_range=(1, 2) .....................\n",
            "[CV] ...... sgd__alpha=1e-07, tfidf__ngram_range=(1, 2), total=   1.2s\n",
            "[CV] sgd__alpha=1e-07, tfidf__ngram_range=(1, 2) .....................\n",
            "[CV] ...... sgd__alpha=1e-07, tfidf__ngram_range=(1, 2), total=   1.2s\n",
            "[CV] sgd__alpha=1e-07, tfidf__ngram_range=(1, 2) .....................\n",
            "[CV] ...... sgd__alpha=1e-07, tfidf__ngram_range=(1, 2), total=   1.2s\n",
            "[CV] sgd__alpha=1e-06, tfidf__ngram_range=(1, 1) .....................\n",
            "[CV] ...... sgd__alpha=1e-06, tfidf__ngram_range=(1, 1), total=   0.3s\n",
            "[CV] sgd__alpha=1e-06, tfidf__ngram_range=(1, 1) .....................\n",
            "[CV] ...... sgd__alpha=1e-06, tfidf__ngram_range=(1, 1), total=   0.3s\n",
            "[CV] sgd__alpha=1e-06, tfidf__ngram_range=(1, 1) .....................\n",
            "[CV] ...... sgd__alpha=1e-06, tfidf__ngram_range=(1, 1), total=   0.3s\n",
            "[CV] sgd__alpha=1e-06, tfidf__ngram_range=(1, 1) .....................\n",
            "[CV] ...... sgd__alpha=1e-06, tfidf__ngram_range=(1, 1), total=   0.3s\n",
            "[CV] sgd__alpha=1e-06, tfidf__ngram_range=(1, 1) .....................\n",
            "[CV] ...... sgd__alpha=1e-06, tfidf__ngram_range=(1, 1), total=   0.3s\n",
            "[CV] sgd__alpha=1e-06, tfidf__ngram_range=(1, 2) .....................\n",
            "[CV] ...... sgd__alpha=1e-06, tfidf__ngram_range=(1, 2), total=   1.2s\n",
            "[CV] sgd__alpha=1e-06, tfidf__ngram_range=(1, 2) .....................\n",
            "[CV] ...... sgd__alpha=1e-06, tfidf__ngram_range=(1, 2), total=   1.2s\n",
            "[CV] sgd__alpha=1e-06, tfidf__ngram_range=(1, 2) .....................\n",
            "[CV] ...... sgd__alpha=1e-06, tfidf__ngram_range=(1, 2), total=   1.2s\n",
            "[CV] sgd__alpha=1e-06, tfidf__ngram_range=(1, 2) .....................\n",
            "[CV] ...... sgd__alpha=1e-06, tfidf__ngram_range=(1, 2), total=   1.3s\n",
            "[CV] sgd__alpha=1e-06, tfidf__ngram_range=(1, 2) .....................\n",
            "[CV] ...... sgd__alpha=1e-06, tfidf__ngram_range=(1, 2), total=   1.2s\n",
            "[CV] sgd__alpha=1e-05, tfidf__ngram_range=(1, 1) .....................\n",
            "[CV] ...... sgd__alpha=1e-05, tfidf__ngram_range=(1, 1), total=   0.3s\n",
            "[CV] sgd__alpha=1e-05, tfidf__ngram_range=(1, 1) .....................\n",
            "[CV] ...... sgd__alpha=1e-05, tfidf__ngram_range=(1, 1), total=   0.3s\n",
            "[CV] sgd__alpha=1e-05, tfidf__ngram_range=(1, 1) .....................\n",
            "[CV] ...... sgd__alpha=1e-05, tfidf__ngram_range=(1, 1), total=   0.3s\n",
            "[CV] sgd__alpha=1e-05, tfidf__ngram_range=(1, 1) .....................\n",
            "[CV] ...... sgd__alpha=1e-05, tfidf__ngram_range=(1, 1), total=   0.3s\n",
            "[CV] sgd__alpha=1e-05, tfidf__ngram_range=(1, 1) .....................\n",
            "[CV] ...... sgd__alpha=1e-05, tfidf__ngram_range=(1, 1), total=   0.3s\n",
            "[CV] sgd__alpha=1e-05, tfidf__ngram_range=(1, 2) .....................\n",
            "[CV] ...... sgd__alpha=1e-05, tfidf__ngram_range=(1, 2), total=   1.2s\n",
            "[CV] sgd__alpha=1e-05, tfidf__ngram_range=(1, 2) .....................\n",
            "[CV] ...... sgd__alpha=1e-05, tfidf__ngram_range=(1, 2), total=   1.2s\n",
            "[CV] sgd__alpha=1e-05, tfidf__ngram_range=(1, 2) .....................\n",
            "[CV] ...... sgd__alpha=1e-05, tfidf__ngram_range=(1, 2), total=   1.2s\n",
            "[CV] sgd__alpha=1e-05, tfidf__ngram_range=(1, 2) .....................\n",
            "[CV] ...... sgd__alpha=1e-05, tfidf__ngram_range=(1, 2), total=   1.2s\n",
            "[CV] sgd__alpha=1e-05, tfidf__ngram_range=(1, 2) .....................\n",
            "[CV] ...... sgd__alpha=1e-05, tfidf__ngram_range=(1, 2), total=   1.2s\n",
            "[CV] sgd__alpha=0.0001, tfidf__ngram_range=(1, 1) ....................\n",
            "[CV] ..... sgd__alpha=0.0001, tfidf__ngram_range=(1, 1), total=   0.3s\n",
            "[CV] sgd__alpha=0.0001, tfidf__ngram_range=(1, 1) ....................\n",
            "[CV] ..... sgd__alpha=0.0001, tfidf__ngram_range=(1, 1), total=   0.3s\n",
            "[CV] sgd__alpha=0.0001, tfidf__ngram_range=(1, 1) ....................\n",
            "[CV] ..... sgd__alpha=0.0001, tfidf__ngram_range=(1, 1), total=   0.3s\n",
            "[CV] sgd__alpha=0.0001, tfidf__ngram_range=(1, 1) ....................\n",
            "[CV] ..... sgd__alpha=0.0001, tfidf__ngram_range=(1, 1), total=   0.3s\n",
            "[CV] sgd__alpha=0.0001, tfidf__ngram_range=(1, 1) ....................\n",
            "[CV] ..... sgd__alpha=0.0001, tfidf__ngram_range=(1, 1), total=   0.3s\n",
            "[CV] sgd__alpha=0.0001, tfidf__ngram_range=(1, 2) ....................\n",
            "[CV] ..... sgd__alpha=0.0001, tfidf__ngram_range=(1, 2), total=   1.2s\n",
            "[CV] sgd__alpha=0.0001, tfidf__ngram_range=(1, 2) ....................\n",
            "[CV] ..... sgd__alpha=0.0001, tfidf__ngram_range=(1, 2), total=   1.2s\n",
            "[CV] sgd__alpha=0.0001, tfidf__ngram_range=(1, 2) ....................\n",
            "[CV] ..... sgd__alpha=0.0001, tfidf__ngram_range=(1, 2), total=   1.3s\n",
            "[CV] sgd__alpha=0.0001, tfidf__ngram_range=(1, 2) ....................\n",
            "[CV] ..... sgd__alpha=0.0001, tfidf__ngram_range=(1, 2), total=   1.2s\n",
            "[CV] sgd__alpha=0.0001, tfidf__ngram_range=(1, 2) ....................\n",
            "[CV] ..... sgd__alpha=0.0001, tfidf__ngram_range=(1, 2), total=   1.2s\n"
          ],
          "name": "stdout"
        },
        {
          "output_type": "stream",
          "text": [
            "[Parallel(n_jobs=1)]: Done  40 out of  40 | elapsed:   30.5s finished\n"
          ],
          "name": "stderr"
        }
      ]
    },
    {
      "cell_type": "code",
      "metadata": {
        "colab": {
          "base_uri": "https://localhost:8080/"
        },
        "id": "dpxEsVI8Ugxc",
        "outputId": "f4169198-acf9-4444-c69e-f8e426c7e2f7"
      },
      "source": [
        "gs_sgd.best_estimator_.get_params()"
      ],
      "execution_count": null,
      "outputs": [
        {
          "output_type": "execute_result",
          "data": {
            "text/plain": [
              "{'memory': None,\n",
              " 'sgd': SGDClassifier(alpha=1e-07, average=False, class_weight=None,\n",
              "               early_stopping=False, epsilon=0.1, eta0=0.0, fit_intercept=True,\n",
              "               l1_ratio=0.15, learning_rate='optimal', loss='hinge',\n",
              "               max_iter=1000, n_iter_no_change=5, n_jobs=None, penalty='l2',\n",
              "               power_t=0.5, random_state=42, shuffle=True, tol=0.001,\n",
              "               validation_fraction=0.1, verbose=0, warm_start=False),\n",
              " 'sgd__alpha': 1e-07,\n",
              " 'sgd__average': False,\n",
              " 'sgd__class_weight': None,\n",
              " 'sgd__early_stopping': False,\n",
              " 'sgd__epsilon': 0.1,\n",
              " 'sgd__eta0': 0.0,\n",
              " 'sgd__fit_intercept': True,\n",
              " 'sgd__l1_ratio': 0.15,\n",
              " 'sgd__learning_rate': 'optimal',\n",
              " 'sgd__loss': 'hinge',\n",
              " 'sgd__max_iter': 1000,\n",
              " 'sgd__n_iter_no_change': 5,\n",
              " 'sgd__n_jobs': None,\n",
              " 'sgd__penalty': 'l2',\n",
              " 'sgd__power_t': 0.5,\n",
              " 'sgd__random_state': 42,\n",
              " 'sgd__shuffle': True,\n",
              " 'sgd__tol': 0.001,\n",
              " 'sgd__validation_fraction': 0.1,\n",
              " 'sgd__verbose': 0,\n",
              " 'sgd__warm_start': False,\n",
              " 'steps': [('tfidf',\n",
              "   TfidfVectorizer(analyzer='word', binary=False, decode_error='strict',\n",
              "                   dtype=<class 'numpy.float64'>, encoding='utf-8',\n",
              "                   input='content', lowercase=True, max_df=1.0, max_features=None,\n",
              "                   min_df=1, ngram_range=(1, 1), norm='l2', preprocessor=None,\n",
              "                   smooth_idf=True, stop_words=None, strip_accents=None,\n",
              "                   sublinear_tf=False, token_pattern='(?u)\\\\b\\\\w\\\\w+\\\\b',\n",
              "                   tokenizer=None, use_idf=True, vocabulary=None)),\n",
              "  ('sgd', SGDClassifier(alpha=1e-07, average=False, class_weight=None,\n",
              "                 early_stopping=False, epsilon=0.1, eta0=0.0, fit_intercept=True,\n",
              "                 l1_ratio=0.15, learning_rate='optimal', loss='hinge',\n",
              "                 max_iter=1000, n_iter_no_change=5, n_jobs=None, penalty='l2',\n",
              "                 power_t=0.5, random_state=42, shuffle=True, tol=0.001,\n",
              "                 validation_fraction=0.1, verbose=0, warm_start=False))],\n",
              " 'tfidf': TfidfVectorizer(analyzer='word', binary=False, decode_error='strict',\n",
              "                 dtype=<class 'numpy.float64'>, encoding='utf-8',\n",
              "                 input='content', lowercase=True, max_df=1.0, max_features=None,\n",
              "                 min_df=1, ngram_range=(1, 1), norm='l2', preprocessor=None,\n",
              "                 smooth_idf=True, stop_words=None, strip_accents=None,\n",
              "                 sublinear_tf=False, token_pattern='(?u)\\\\b\\\\w\\\\w+\\\\b',\n",
              "                 tokenizer=None, use_idf=True, vocabulary=None),\n",
              " 'tfidf__analyzer': 'word',\n",
              " 'tfidf__binary': False,\n",
              " 'tfidf__decode_error': 'strict',\n",
              " 'tfidf__dtype': numpy.float64,\n",
              " 'tfidf__encoding': 'utf-8',\n",
              " 'tfidf__input': 'content',\n",
              " 'tfidf__lowercase': True,\n",
              " 'tfidf__max_df': 1.0,\n",
              " 'tfidf__max_features': None,\n",
              " 'tfidf__min_df': 1,\n",
              " 'tfidf__ngram_range': (1, 1),\n",
              " 'tfidf__norm': 'l2',\n",
              " 'tfidf__preprocessor': None,\n",
              " 'tfidf__smooth_idf': True,\n",
              " 'tfidf__stop_words': None,\n",
              " 'tfidf__strip_accents': None,\n",
              " 'tfidf__sublinear_tf': False,\n",
              " 'tfidf__token_pattern': '(?u)\\\\b\\\\w\\\\w+\\\\b',\n",
              " 'tfidf__tokenizer': None,\n",
              " 'tfidf__use_idf': True,\n",
              " 'tfidf__vocabulary': None,\n",
              " 'verbose': False}"
            ]
          },
          "metadata": {
            "tags": []
          },
          "execution_count": 75
        }
      ]
    },
    {
      "cell_type": "code",
      "metadata": {
        "colab": {
          "base_uri": "https://localhost:8080/"
        },
        "id": "OMM7Pgp8Ug1w",
        "outputId": "a3ff901d-5c45-4de6-9310-b9dfc72392b4"
      },
      "source": [
        "best_sgd_test_score = gs_sgd.score(test_corpus, test_label_nums)\n",
        "print('Test Accuracy :', best_sgd_test_score)"
      ],
      "execution_count": null,
      "outputs": [
        {
          "output_type": "stream",
          "text": [
            "Test Accuracy : 0.835820895522388\n"
          ],
          "name": "stdout"
        }
      ]
    },
    {
      "cell_type": "code",
      "metadata": {
        "id": "XNs7qbFQUrZz"
      },
      "source": [
        ""
      ],
      "execution_count": null,
      "outputs": []
    },
    {
      "cell_type": "code",
      "metadata": {
        "colab": {
          "base_uri": "https://localhost:8080/"
        },
        "id": "sMMS-Du_UrxY",
        "outputId": "e731220a-e370-4e72-dc78-0af53c8ba1fd"
      },
      "source": [
        "%cd .."
      ],
      "execution_count": null,
      "outputs": [
        {
          "output_type": "stream",
          "text": [
            "/content/drive/My Drive\n"
          ],
          "name": "stdout"
        }
      ]
    },
    {
      "cell_type": "code",
      "metadata": {
        "colab": {
          "base_uri": "https://localhost:8080/",
          "height": 35
        },
        "id": "dhz_2R6FVDKy",
        "outputId": "0511d3b0-58b9-4745-9d17-b2fb8d3eb000"
      },
      "source": [
        "%pwd"
      ],
      "execution_count": null,
      "outputs": [
        {
          "output_type": "execute_result",
          "data": {
            "application/vnd.google.colaboratory.intrinsic+json": {
              "type": "string"
            },
            "text/plain": [
              "'/content/drive/My Drive'"
            ]
          },
          "metadata": {
            "tags": []
          },
          "execution_count": 78
        }
      ]
    },
    {
      "cell_type": "code",
      "metadata": {
        "colab": {
          "base_uri": "https://localhost:8080/",
          "height": 300
        },
        "id": "NiphTgLBUr1y",
        "outputId": "45025b96-b1b7-439d-d4c6-e6ead29bf740"
      },
      "source": [
        "import model_evaluation_utils as meu"
      ],
      "execution_count": null,
      "outputs": [
        {
          "output_type": "error",
          "ename": "ModuleNotFoundError",
          "evalue": "ignored",
          "traceback": [
            "\u001b[0;31m---------------------------------------------------------------------------\u001b[0m",
            "\u001b[0;31mModuleNotFoundError\u001b[0m                       Traceback (most recent call last)",
            "\u001b[0;32m<ipython-input-79-f4e6491be5da>\u001b[0m in \u001b[0;36m<module>\u001b[0;34m()\u001b[0m\n\u001b[0;32m----> 1\u001b[0;31m \u001b[0;32mimport\u001b[0m \u001b[0mmodel_evaluation_utils\u001b[0m \u001b[0;32mas\u001b[0m \u001b[0mmeu\u001b[0m\u001b[0;34m\u001b[0m\u001b[0;34m\u001b[0m\u001b[0m\n\u001b[0m",
            "\u001b[0;31mModuleNotFoundError\u001b[0m: No module named 'model_evaluation_utils'",
            "",
            "\u001b[0;31m---------------------------------------------------------------------------\u001b[0;32m\nNOTE: If your import is failing due to a missing package, you can\nmanually install dependencies using either !pip or !apt.\n\nTo view examples of installing some common dependencies, click the\n\"Open Examples\" button below.\n\u001b[0;31m---------------------------------------------------------------------------\u001b[0m\n"
          ]
        }
      ]
    },
    {
      "cell_type": "code",
      "metadata": {
        "id": "UoMyGySsUr5S"
      },
      "source": [
        "mnb_predictions = gs_mnb.predict(test_corpus)\n",
        "unique_classes = list(set(test_label_nums))\n",
        "meu.get_metrics(true_labels=test_label_nums, predicted_labels=mnb_predictions)"
      ],
      "execution_count": null,
      "outputs": []
    },
    {
      "cell_type": "code",
      "metadata": {
        "id": "ignXZlHLUr8c"
      },
      "source": [
        "meu.display_classification_report(true_labels=test_label_nums, \n",
        "                                  predicted_labels=mnb_predictions, classes=unique_classes)"
      ],
      "execution_count": null,
      "outputs": []
    },
    {
      "cell_type": "code",
      "metadata": {
        "id": "mEEGG5sXVVLa"
      },
      "source": [
        "data_labels_map = dict(zip(np.array(fund_rate_change[24:246]),  np.array(fund_rate_change[24:246])))"
      ],
      "execution_count": null,
      "outputs": []
    },
    {
      "cell_type": "code",
      "metadata": {
        "id": "rlHQ6bszU3W9"
      },
      "source": [
        "label_data_map = {v:k for k, v in data_labels_map.items()}\n",
        "label_map_df = pd.DataFrame(list(label_data_map.items()), columns=['Label Name', 'Label Number'])\n",
        "label_map_df"
      ],
      "execution_count": null,
      "outputs": []
    },
    {
      "cell_type": "code",
      "metadata": {
        "id": "L0mOmzhdU5OZ"
      },
      "source": [
        "import model_evaluation_utils as meu"
      ],
      "execution_count": null,
      "outputs": []
    },
    {
      "cell_type": "code",
      "metadata": {
        "id": "3zo5CKpwWZ-B"
      },
      "source": [
        "import model_evaluation_utils as meu\n",
        "from sklearn import metrics\n",
        "import pandas as pd\n",
        "\n",
        "def display_confusion_matrix(true_labels, predicted_labels, classes=[1,0]):\n",
        "    \n",
        "    total_classes = len(classes)\n",
        "    level_labels = [total_classes*[0], list(range(total_classes))]\n",
        "\n",
        "    cm = metrics.confusion_matrix(y_true=true_labels, y_pred=predicted_labels, \n",
        "                                  labels=classes)\n",
        "    cm_frame = pd.DataFrame(data=cm, \n",
        "                            columns=pd.MultiIndex.from_product([['Predicted:'], classes]), # names=level_labels \n",
        "                            index=pd.MultiIndex.from_product([['Actual:'], classes]))  # names=level_labels \n",
        "    print(cm_frame) "
      ],
      "execution_count": null,
      "outputs": []
    },
    {
      "cell_type": "code",
      "metadata": {
        "id": "OsXOaIJSWD8P"
      },
      "source": [
        "unique_class_nums = label_map_df['Label Number'].values\n",
        "mnb_prediction_class_nums = [label_data_map[item] for item in mnb_predictions]\n",
        "\n",
        "meu.display_confusion_matrix(true_labels=test_label_nums, \n",
        "                             predicted_labels=mnb_prediction_class_nums, classes=unique_class_nums)"
      ],
      "execution_count": null,
      "outputs": []
    },
    {
      "cell_type": "code",
      "metadata": {
        "id": "2mvS7Q0LYzwc"
      },
      "source": [
        "def display_confusion_matrix_pretty(true_labels, predicted_labels, classes=[1,0]):\n",
        "    \n",
        "    total_classes = len(classes)\n",
        "    level_labels = [total_classes*[0], list(range(total_classes))]\n",
        "\n",
        "    cm = metrics.confusion_matrix(y_true=true_labels, y_pred=predicted_labels, \n",
        "                                  labels=classes)\n",
        "    cm_frame = pd.DataFrame(data=cm, \n",
        "                            columns=pd.MultiIndex.from_product([['Predicted:'], classes]), \n",
        "                            index=pd.MultiIndex.from_product([['Actual:'], classes])) \n",
        "    return cm_frame"
      ],
      "execution_count": null,
      "outputs": []
    },
    {
      "cell_type": "code",
      "metadata": {
        "id": "carDBKRGWqqi"
      },
      "source": [
        "display_confusion_matrix_pretty(true_labels=test_label_nums, \n",
        "                             predicted_labels=mnb_prediction_class_nums, classes=unique_class_nums)"
      ],
      "execution_count": null,
      "outputs": []
    },
    {
      "cell_type": "code",
      "metadata": {
        "id": "waQQghzMXA3p"
      },
      "source": [
        "unique_classes = label_map_df['Label Name'].values\n",
        "display_confusion_matrix_pretty(true_labels=test_label_nums, \n",
        "                                    predicted_labels=mnb_predictions, classes=unique_classes)"
      ],
      "execution_count": null,
      "outputs": []
    },
    {
      "cell_type": "code",
      "metadata": {
        "id": "D3ypBftKWSNI"
      },
      "source": [
        "label_map_df[label_map_df['Label Number'].isin([0, 1, ])]"
      ],
      "execution_count": null,
      "outputs": []
    },
    {
      "cell_type": "code",
      "metadata": {
        "id": "5lg-cuYkZJfJ"
      },
      "source": [
        "train_idx, test_idx = train_test_split(np.array(range(222)), test_size=0.33, random_state=42)\n",
        "test_idx"
      ],
      "execution_count": null,
      "outputs": []
    },
    {
      "cell_type": "code",
      "metadata": {
        "id": "04in3YvBZMM2"
      },
      "source": [
        "predict_probas = gs_mnb.predict_proba(test_corpus).max(axis=1)\n",
        "test_df = df.iloc[:,0]\n",
        "test_df['Predicted Name'] = mnb_predictions\n",
        "test_df['Predicted Confidence'] = predict_probas\n",
        "test_df.head()"
      ],
      "execution_count": null,
      "outputs": []
    },
    {
      "cell_type": "code",
      "metadata": {
        "id": "Fg83r4vkZNet"
      },
      "source": [
        "pd.set_option('display.max_colwidth', 200)\n",
        "res_df = (test_df[(test_df['Target Name'] == 'talk.religion.misc') & (test_df['Predicted Name'] == 'soc.religion.christian')]\n",
        "       .sort_values(by=['Predicted Confidence'], ascending=False).head(5))\n",
        "res_df"
      ],
      "execution_count": null,
      "outputs": []
    },
    {
      "cell_type": "code",
      "metadata": {
        "colab": {
          "base_uri": "https://localhost:8080/",
          "height": 215
        },
        "id": "I_pDKmWBZOus",
        "outputId": "f14b7726-10ee-4e4d-fe09-6f945e4da63b"
      },
      "source": [
        "pd.set_option('display.max_colwidth', 200)\n",
        "res_df = (test_df[(test_df['Target Name'] == 'talk.religion.misc') & (test_df['Predicted Name'] == 'alt.atheism')]\n",
        "       .sort_values(by=['Predicted Confidence'], ascending=False).head(5))\n",
        "res_df"
      ],
      "execution_count": null,
      "outputs": [
        {
          "output_type": "error",
          "ename": "NameError",
          "evalue": "ignored",
          "traceback": [
            "\u001b[0;31m---------------------------------------------------------------------------\u001b[0m",
            "\u001b[0;31mNameError\u001b[0m                                 Traceback (most recent call last)",
            "\u001b[0;32m<ipython-input-94-07ade3cc0559>\u001b[0m in \u001b[0;36m<module>\u001b[0;34m()\u001b[0m\n\u001b[1;32m      1\u001b[0m \u001b[0mpd\u001b[0m\u001b[0;34m.\u001b[0m\u001b[0mset_option\u001b[0m\u001b[0;34m(\u001b[0m\u001b[0;34m'display.max_colwidth'\u001b[0m\u001b[0;34m,\u001b[0m \u001b[0;36m200\u001b[0m\u001b[0;34m)\u001b[0m\u001b[0;34m\u001b[0m\u001b[0;34m\u001b[0m\u001b[0m\n\u001b[0;32m----> 2\u001b[0;31m res_df = (test_df[(test_df['Target Name'] == 'talk.religion.misc') & (test_df['Predicted Name'] == 'alt.atheism')]\n\u001b[0m\u001b[1;32m      3\u001b[0m        .sort_values(by=['Predicted Confidence'], ascending=False).head(5))\n\u001b[1;32m      4\u001b[0m \u001b[0mres_df\u001b[0m\u001b[0;34m\u001b[0m\u001b[0;34m\u001b[0m\u001b[0m\n",
            "\u001b[0;31mNameError\u001b[0m: name 'test_df' is not defined"
          ]
        }
      ]
    },
    {
      "cell_type": "code",
      "metadata": {
        "id": "_JsEmmgWadko"
      },
      "source": [
        ""
      ],
      "execution_count": null,
      "outputs": []
    },
    {
      "cell_type": "code",
      "metadata": {
        "id": "Ex214wQnadsF"
      },
      "source": [
        ""
      ],
      "execution_count": null,
      "outputs": []
    },
    {
      "cell_type": "code",
      "metadata": {
        "id": "QUFXk_3yadyQ"
      },
      "source": [
        ""
      ],
      "execution_count": null,
      "outputs": []
    },
    {
      "cell_type": "markdown",
      "metadata": {
        "id": "X-1IMU2OaeGc"
      },
      "source": [
        "#### ========================="
      ]
    },
    {
      "cell_type": "code",
      "metadata": {
        "colab": {
          "base_uri": "https://localhost:8080/"
        },
        "id": "H73apRtrat8r",
        "outputId": "43301876-42c0-41ac-ccd2-bd43215c4e9c"
      },
      "source": [
        " >>> import nltk\n",
        " >>> nltk.download('stopwords')"
      ],
      "execution_count": null,
      "outputs": [
        {
          "output_type": "stream",
          "text": [
            "[nltk_data] Downloading package stopwords to /root/nltk_data...\n",
            "[nltk_data]   Unzipping corpora/stopwords.zip.\n"
          ],
          "name": "stdout"
        },
        {
          "output_type": "execute_result",
          "data": {
            "text/plain": [
              "True"
            ]
          },
          "metadata": {
            "tags": []
          },
          "execution_count": 232
        }
      ]
    },
    {
      "cell_type": "code",
      "metadata": {
        "id": "3VS6w-0DafRb"
      },
      "source": [
        "import pandas as pd\n",
        "import numpy as np\n",
        "import text_normalizer as tn"
      ],
      "execution_count": null,
      "outputs": []
    },
    {
      "cell_type": "code",
      "metadata": {
        "colab": {
          "base_uri": "https://localhost:8080/"
        },
        "id": "7ScPX5q8ahZy",
        "outputId": "f5571329-45f9-4d48-e510-647bd59d4586"
      },
      "source": [
        "from sklearn.model_selection import train_test_split\n",
        "\n",
        "train_corpus, test_corpus, train_label_nums, test_label_nums =\\\n",
        "                                 train_test_split(np.array(FOMC_pickle_2), np.array(fund_rate_change[24:246]), \n",
        "                                                  test_size=0.33, random_state=42)\n",
        "# train_label_names, test_label_names \n",
        "train_corpus.shape, test_corpus.shape"
      ],
      "execution_count": null,
      "outputs": [
        {
          "output_type": "execute_result",
          "data": {
            "text/plain": [
              "((148,), (74,))"
            ]
          },
          "metadata": {
            "tags": []
          },
          "execution_count": 249
        }
      ]
    },
    {
      "cell_type": "code",
      "metadata": {
        "id": "0_WOy0pIanYB"
      },
      "source": [
        "tokenized_train = [tn.tokenizer.tokenize(text)\n",
        "                   for text in train_corpus]\n",
        "tokenized_test = [tn.tokenizer.tokenize(text)\n",
        "                   for text in test_corpus]"
      ],
      "execution_count": null,
      "outputs": []
    },
    {
      "cell_type": "code",
      "metadata": {
        "id": "u-2MUo9OazyV"
      },
      "source": [
        "import gensim\n",
        "# build word2vec model\n",
        "w2v_num_features = 1000\n",
        "w2v_model = gensim.models.Word2Vec(tokenized_train, size=w2v_num_features, window=100,\n",
        "                                   min_count=2, sample=1e-3, sg=1, iter=5, workers=10)"
      ],
      "execution_count": null,
      "outputs": []
    },
    {
      "cell_type": "code",
      "metadata": {
        "id": "2LISOnVMa1Lb"
      },
      "source": [
        "def document_vectorizer(corpus, model, num_features):\n",
        "    vocabulary = set(model.wv.index2word)\n",
        "    \n",
        "    def average_word_vectors(words, model, vocabulary, num_features):\n",
        "        feature_vector = np.zeros((num_features,), dtype=\"float64\")\n",
        "        nwords = 0.\n",
        "        \n",
        "        for word in words:\n",
        "            if word in vocabulary: \n",
        "                nwords = nwords + 1.\n",
        "                feature_vector = np.add(feature_vector, model.wv[word])\n",
        "        if nwords:\n",
        "            feature_vector = np.divide(feature_vector, nwords)\n",
        "\n",
        "        return feature_vector\n",
        "\n",
        "    features = [average_word_vectors(tokenized_sentence, model, vocabulary, num_features)\n",
        "                    for tokenized_sentence in corpus]\n",
        "    return np.array(features)"
      ],
      "execution_count": null,
      "outputs": []
    },
    {
      "cell_type": "code",
      "metadata": {
        "id": "rq-DoM8Ra24y"
      },
      "source": [
        "# generate averaged word vector features from word2vec model\n",
        "avg_wv_train_features = document_vectorizer(corpus=tokenized_train, model=w2v_model,\n",
        "                                                     num_features=w2v_num_features)\n",
        "avg_wv_test_features = document_vectorizer(corpus=tokenized_test, model=w2v_model,\n",
        "                                                    num_features=w2v_num_features)"
      ],
      "execution_count": null,
      "outputs": []
    },
    {
      "cell_type": "code",
      "metadata": {
        "id": "I7hC99Fia4IC"
      },
      "source": [
        "print('Word2Vec model:> Train features shape:', avg_wv_train_features.shape, \n",
        "      ' Test features shape:', avg_wv_test_features.shape)"
      ],
      "execution_count": null,
      "outputs": []
    },
    {
      "cell_type": "code",
      "metadata": {
        "colab": {
          "base_uri": "https://localhost:8080/"
        },
        "id": "W6UHDrxRa5jb",
        "outputId": "e754a4e7-9825-4a43-e1ee-4ce2f9dd04f6"
      },
      "source": [
        "from sklearn.model_selection import cross_val_score\n",
        "from sklearn.linear_model import SGDClassifier\n",
        "\n",
        "svm = SGDClassifier(loss='hinge', penalty='l2', random_state=42, max_iter=500)\n",
        "svm.fit(avg_wv_train_features, train_label_nums)\n",
        "svm_w2v_cv_scores = cross_val_score(svm, avg_wv_train_features, train_label_nums, cv=5)\n",
        "svm_w2v_cv_mean_score = np.mean(svm_w2v_cv_scores)\n",
        "print('CV Accuracy (5-fold):', svm_w2v_cv_scores)\n",
        "print('Mean CV Accuracy:', svm_w2v_cv_mean_score)\n",
        "svm_w2v_test_score = svm.score(avg_wv_test_features, test_label_nums)\n",
        "print('Test Accuracy:', svm_w2v_test_score)"
      ],
      "execution_count": null,
      "outputs": [
        {
          "output_type": "stream",
          "text": [
            "CV Accuracy (5-fold): [0.66666667 0.46666667 0.7        0.62068966 0.68965517]\n",
            "Mean CV Accuracy: 0.628735632183908\n",
            "Test Accuracy: 0.7027027027027027\n"
          ],
          "name": "stdout"
        }
      ]
    },
    {
      "cell_type": "code",
      "metadata": {
        "colab": {
          "base_uri": "https://localhost:8080/"
        },
        "id": "tsEtYfEZa6pU",
        "outputId": "d3998b6a-d0c8-4f4d-b8c4-1564b6977f34"
      },
      "source": [
        "# feature engineering with GloVe model\n",
        "# .tolist() / .toarray() / .tostring()\n",
        "train_nlp = [tn.nlp(item) for item in train_corpus.tolist()]\n",
        "train_glove_features = np.array([item.vector for item in train_nlp])\n",
        "\n",
        "test_nlp = [tn.nlp(item) for item in test_corpus.tolist()]\n",
        "test_glove_features = np.array([item.vector for item in test_nlp])\n",
        "\n",
        "print('GloVe model:> Train features shape:', train_glove_features.shape, \n",
        "      ' Test features shape:', test_glove_features.shape)"
      ],
      "execution_count": null,
      "outputs": [
        {
          "output_type": "stream",
          "text": [
            "GloVe model:> Train features shape: (148, 96)  Test features shape: (74, 96)\n"
          ],
          "name": "stdout"
        }
      ]
    },
    {
      "cell_type": "code",
      "metadata": {
        "colab": {
          "base_uri": "https://localhost:8080/"
        },
        "id": "wehMOhMqa7wb",
        "outputId": "307e199f-4cf8-4e56-a99c-903ddbf990b2"
      },
      "source": [
        "svm = SGDClassifier(loss='hinge', penalty='l2', random_state=42, max_iter=500)\n",
        "svm.fit(train_glove_features, train_label_nums)\n",
        "svm_glove_cv_scores = cross_val_score(svm, train_glove_features, train_label_nums, cv=5)\n",
        "svm_glove_cv_mean_score = np.mean(svm_glove_cv_scores)\n",
        "print('CV Accuracy (5-fold):', svm_glove_cv_scores)\n",
        "print('Mean CV Accuracy:', svm_glove_cv_mean_score)\n",
        "svm_glove_test_score = svm.score(test_glove_features, test_label_nums)\n",
        "print('Test Accuracy:', svm_glove_test_score)"
      ],
      "execution_count": null,
      "outputs": [
        {
          "output_type": "stream",
          "text": [
            "CV Accuracy (5-fold): [0.7        0.56666667 0.7        0.20689655 0.68965517]\n",
            "Mean CV Accuracy: 0.5726436781609195\n",
            "Test Accuracy: 0.6621621621621622\n"
          ],
          "name": "stdout"
        }
      ]
    },
    {
      "cell_type": "code",
      "metadata": {
        "colab": {
          "base_uri": "https://localhost:8080/",
          "height": 215
        },
        "id": "NkH4GNBca8vM",
        "outputId": "45b7e083-db56-463e-979e-1a93149f462e"
      },
      "source": [
        "from gensim.models.fasttext import FastText\n",
        "\n",
        "ft_num_features = 1000\n",
        "# sg decides whether to use the skip-gram model (1) or CBOW (0)\n",
        "ft_model = FastText(tokenized_train, size=ft_num_features, window=100, \n",
        "                    min_count=2, sample=1e-3, sg=1, iter=5, workers=10)"
      ],
      "execution_count": null,
      "outputs": [
        {
          "output_type": "error",
          "ename": "NameError",
          "evalue": "ignored",
          "traceback": [
            "\u001b[0;31m---------------------------------------------------------------------------\u001b[0m",
            "\u001b[0;31mNameError\u001b[0m                                 Traceback (most recent call last)",
            "\u001b[0;32m<ipython-input-1-faf19a5b48fd>\u001b[0m in \u001b[0;36m<module>\u001b[0;34m()\u001b[0m\n\u001b[1;32m      3\u001b[0m \u001b[0mft_num_features\u001b[0m \u001b[0;34m=\u001b[0m \u001b[0;36m1000\u001b[0m\u001b[0;34m\u001b[0m\u001b[0;34m\u001b[0m\u001b[0m\n\u001b[1;32m      4\u001b[0m \u001b[0;31m# sg decides whether to use the skip-gram model (1) or CBOW (0)\u001b[0m\u001b[0;34m\u001b[0m\u001b[0;34m\u001b[0m\u001b[0;34m\u001b[0m\u001b[0m\n\u001b[0;32m----> 5\u001b[0;31m ft_model = FastText(tokenized_train, size=ft_num_features, window=100, \n\u001b[0m\u001b[1;32m      6\u001b[0m                     min_count=2, sample=1e-3, sg=1, iter=5, workers=10)\n",
            "\u001b[0;31mNameError\u001b[0m: name 'tokenized_train' is not defined"
          ]
        }
      ]
    },
    {
      "cell_type": "code",
      "metadata": {
        "id": "G1fBscGca_jI"
      },
      "source": [
        "# generate averaged word vector features from word2vec model\n",
        "avg_ft_train_features = document_vectorizer(corpus=tokenized_train, model=ft_model,\n",
        "                                                     num_features=ft_num_features)\n",
        "avg_ft_test_features = document_vectorizer(corpus=tokenized_test, model=ft_model,\n",
        "                                                    num_features=ft_num_features)"
      ],
      "execution_count": null,
      "outputs": []
    },
    {
      "cell_type": "code",
      "metadata": {
        "id": "HQrCfz8ybBEp"
      },
      "source": [
        "print('FastText model:> Train features shape:', avg_ft_train_features.shape, \n",
        "      ' Test features shape:', avg_ft_test_features.shape)"
      ],
      "execution_count": null,
      "outputs": []
    },
    {
      "cell_type": "code",
      "metadata": {
        "id": "OYXc94u1bCBK"
      },
      "source": [
        "svm = SGDClassifier(loss='hinge', penalty='l2', random_state=42, max_iter=500)\n",
        "svm.fit(avg_ft_train_features, train_label_nums)\n",
        "svm_ft_cv_scores = cross_val_score(svm, avg_ft_train_features, train_label_nums, cv=5)\n",
        "svm_ft_cv_mean_score = np.mean(svm_ft_cv_scores)\n",
        "print('CV Accuracy (5-fold):', svm_ft_cv_scores)\n",
        "print('Mean CV Accuracy:', svm_ft_cv_mean_score)\n",
        "svm_ft_test_score = svm.score(avg_ft_test_features, test_label_nums)\n",
        "print('Test Accuracy:', svm_ft_test_score)"
      ],
      "execution_count": null,
      "outputs": []
    },
    {
      "cell_type": "code",
      "metadata": {
        "id": "v8_rOhavbDC6"
      },
      "source": [
        "from sklearn.neural_network import MLPClassifier\n",
        "\n",
        "mlp = MLPClassifier(solver='adam', alpha=1e-5, learning_rate='adaptive', early_stopping=True,\n",
        "                    activation = 'relu', hidden_layer_sizes=(512, 512), random_state=42)\n",
        "mlp.fit(avg_ft_train_features, train_label_nums)"
      ],
      "execution_count": null,
      "outputs": []
    },
    {
      "cell_type": "code",
      "metadata": {
        "id": "CI7sYiaubEP4"
      },
      "source": [
        "svm_ft_test_score = mlp.score(avg_ft_test_features, test_label_nums)\n",
        "print('Test Accuracy:', svm_ft_test_score)"
      ],
      "execution_count": null,
      "outputs": []
    }
  ]
}